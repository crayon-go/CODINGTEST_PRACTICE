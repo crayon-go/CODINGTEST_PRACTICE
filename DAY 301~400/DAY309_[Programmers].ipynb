{
 "cells": [
  {
   "cell_type": "code",
<<<<<<< HEAD
   "execution_count": 1,
   "id": "bb3e9dba",
   "metadata": {},
   "outputs": [],
   "source": [
    "s = \"AB\"\n",
    "n = 1\n",
    "# \"BC\""
=======
   "execution_count": 207,
   "id": "e0d2dbc5",
   "metadata": {},
   "outputs": [],
   "source": [
    "new_id = \"...!@BaT#*..y.abcdefghijklm\"\n",
    "# \"bat.y.abcdefghi\""
>>>>>>> 4e59b69605a6e20e3a5989b19fd0e6cde96d9bc1
   ]
  },
  {
   "cell_type": "code",
<<<<<<< HEAD
   "execution_count": 36,
   "id": "9bc659b1",
   "metadata": {},
   "outputs": [],
   "source": [
    "s = \"z\"\n",
    "n = 1\n",
    "# \"a\""
=======
   "execution_count": 138,
   "id": "dd2f55a5",
   "metadata": {},
   "outputs": [],
   "source": [
    "new_id = \"z-+.^.\"\n",
    "# \"z--\""
>>>>>>> 4e59b69605a6e20e3a5989b19fd0e6cde96d9bc1
   ]
  },
  {
   "cell_type": "code",
<<<<<<< HEAD
   "execution_count": 42,
   "id": "53737e38",
   "metadata": {},
   "outputs": [],
   "source": [
    "s = \"a B z\"\n",
    "n = 4\n",
    "# \"e F d\""
=======
   "execution_count": 150,
   "id": "b172db1c",
   "metadata": {},
   "outputs": [],
   "source": [
    "new_id = \"=.=\"\n",
    "# \"aaa\""
>>>>>>> 4e59b69605a6e20e3a5989b19fd0e6cde96d9bc1
   ]
  },
  {
   "cell_type": "code",
<<<<<<< HEAD
   "execution_count": 20,
   "id": "518d08b5",
   "metadata": {},
   "outputs": [
    {
     "data": {
      "text/plain": [
       "'ABCDEFGHIJKLMNOPQRSTUVWXYZ'"
      ]
     },
     "execution_count": 20,
     "metadata": {},
     "output_type": "execute_result"
    }
   ],
   "source": [
    "upper_s"
   ]
  },
  {
   "cell_type": "code",
   "execution_count": 25,
   "id": "871bfa80",
   "metadata": {},
   "outputs": [
    {
     "data": {
      "text/plain": [
       "25"
      ]
     },
     "execution_count": 25,
     "metadata": {},
     "output_type": "execute_result"
    }
   ],
   "source": [
    "upper_s.index(\"Z\")"
   ]
  },
  {
   "cell_type": "code",
   "execution_count": 15,
   "id": "eaed82f9",
   "metadata": {},
   "outputs": [],
   "source": [
    "import string\n",
    "\n",
    "answer = ''\n",
    "\n",
    "upper_s = string.ascii_uppercase\n",
    "lower_s = string.ascii_lowercase\n",
    "\n",
    "for i in s:\n",
    "    if i in upper_s:\n",
    "        nn = (upper_s.index(i) + n) % 26\n",
    "        answer += upper_s[nn]\n",
    "    elif i in lower_s:\n",
    "        nn = (lower_s.index(i) + n) % 26\n",
    "        answer += lower_s[nn]\n",
    "    else:\n",
    "        answer += ' '"
=======
   "execution_count": 162,
   "id": "4409e007",
   "metadata": {},
   "outputs": [],
   "source": [
    "new_id = \"123_.def\"\n",
    "# \"123_.def\""
>>>>>>> 4e59b69605a6e20e3a5989b19fd0e6cde96d9bc1
   ]
  },
  {
   "cell_type": "code",
<<<<<<< HEAD
   "execution_count": 4,
   "id": "ea5ef349",
   "metadata": {},
   "outputs": [
    {
     "data": {
      "text/plain": [
       "'BC'"
      ]
     },
     "execution_count": 4,
     "metadata": {},
     "output_type": "execute_result"
    }
   ],
   "source": [
    "answer"
=======
   "execution_count": 174,
   "id": "99fa358d",
   "metadata": {},
   "outputs": [],
   "source": [
    "new_id = \"abcdefghijklmn.p\"\n",
    "# \"abcdefghijklmn\""
>>>>>>> 4e59b69605a6e20e3a5989b19fd0e6cde96d9bc1
   ]
  },
  {
   "cell_type": "code",
   "execution_count": null,
<<<<<<< HEAD
   "id": "c4a13f1e",
=======
   "id": "390d6b69",
>>>>>>> 4e59b69605a6e20e3a5989b19fd0e6cde96d9bc1
   "metadata": {},
   "outputs": [],
   "source": []
  },
  {
   "cell_type": "code",
<<<<<<< HEAD
   "execution_count": 14,
   "id": "722cf69b",
   "metadata": {},
   "outputs": [
    {
     "data": {
      "text/plain": [
       "'DE'"
      ]
     },
     "execution_count": 14,
     "metadata": {},
     "output_type": "execute_result"
    }
   ],
   "source": [
    "s = list(s)\n",
    "for i in range(len(s)):\n",
    "\n",
    "    if s[i].isupper():\n",
    "        s[i] = chr((ord(s[i]) - ord('A') + n) % 26 + ord('A'))\n",
    "\n",
    "    elif s[i].islower():\n",
    "        s[i] = chr((ord(s[i]) - ord('a') + n) % 26 + ord('a'))\n",
    "\n",
    "\"\".join(s)"
=======
   "execution_count": null,
   "id": "44762072",
   "metadata": {},
   "outputs": [],
   "source": [
    "def solution(new_id):\n",
    "    st = new_id\n",
    "    st = st.lower()\n",
    "    st = re.sub('[^a-z0-9\\-_.]', '', st)\n",
    "    st = re.sub('\\.+', '.', st)\n",
    "    st = re.sub('^[.]|[.]$', '', st)\n",
    "    st = 'a' if len(st) == 0 else st[:15]\n",
    "    st = re.sub('^[.]|[.]$', '', st)\n",
    "    st = st if len(st) > 2 else st + \"\".join([st[-1] for i in range(3-len(st))])\n",
    "    return st"
>>>>>>> 4e59b69605a6e20e3a5989b19fd0e6cde96d9bc1
   ]
  },
  {
   "cell_type": "code",
<<<<<<< HEAD
   "execution_count": 5,
   "id": "c8fc7a95",
   "metadata": {},
   "outputs": [
    {
     "data": {
      "text/plain": [
       "65"
      ]
     },
     "execution_count": 5,
     "metadata": {},
     "output_type": "execute_result"
    }
   ],
   "source": [
    "ord(\"A\")"
   ]
  },
  {
   "cell_type": "code",
   "execution_count": 6,
   "id": "7ae80ad6",
   "metadata": {},
   "outputs": [
    {
     "data": {
      "text/plain": [
       "97"
      ]
     },
     "execution_count": 6,
     "metadata": {},
     "output_type": "execute_result"
    }
   ],
   "source": [
    "ord(\"a\")"
   ]
  },
  {
   "cell_type": "code",
   "execution_count": 7,
   "id": "00712c14",
   "metadata": {},
   "outputs": [
    {
     "data": {
      "text/plain": [
       "'A'"
      ]
     },
     "execution_count": 7,
     "metadata": {},
     "output_type": "execute_result"
    }
   ],
   "source": [
    "chr(65)"
   ]
  },
  {
   "cell_type": "code",
   "execution_count": 8,
   "id": "8c551039",
=======
   "execution_count": null,
   "id": "9ecaa356",
   "metadata": {},
   "outputs": [],
   "source": []
  },
  {
   "cell_type": "code",
   "execution_count": null,
   "id": "dd601099",
   "metadata": {},
   "outputs": [],
   "source": []
  },
  {
   "cell_type": "code",
   "execution_count": null,
   "id": "7d4e9076",
   "metadata": {},
   "outputs": [],
   "source": []
  },
  {
   "cell_type": "code",
   "execution_count": 208,
   "id": "5c1fd5c2",
>>>>>>> 4e59b69605a6e20e3a5989b19fd0e6cde96d9bc1
   "metadata": {},
   "outputs": [
    {
     "data": {
      "text/plain": [
<<<<<<< HEAD
       "'a'"
      ]
     },
     "execution_count": 8,
=======
       "'bat.y.abcdefghi'"
      ]
     },
     "execution_count": 208,
>>>>>>> 4e59b69605a6e20e3a5989b19fd0e6cde96d9bc1
     "metadata": {},
     "output_type": "execute_result"
    }
   ],
   "source": [
<<<<<<< HEAD
    "chr(97)"
=======
    "import re\n",
    "\n",
    "answer = ''\n",
    "\n",
    "new_id = new_id.lower()\n",
    "new_id = re.sub('[^a-z0-9가-힣 ._-]', '', new_id)\n",
    "\n",
    "list_new_id = list(new_id)\n",
    "\n",
    "for idx, i in enumerate(list_new_id[:-1]):\n",
    "    if list_new_id[idx]+list_new_id[idx+1] == '..':\n",
    "        list_new_id[idx] = ''\n",
    "\n",
    "new_id = ''.join(list_new_id)\n",
    "list_new_id = list(new_id)\n",
    "\n",
    "while list_new_id[0] == '.':\n",
    "    if list_new_id[0] == '.':\n",
    "        list_new_id[0] = ''\n",
    "        \n",
    "while list_new_id[-1] == '.':\n",
    "    if list_new_id[-1] == '.':\n",
    "        list_new_id[-1] = ''\n",
    "\n",
    "new_id = ''.join(list_new_id)\n",
    "new_id\n",
    "\n",
    "if new_id == '':\n",
    "    new_id = 'a'\n",
    "\n",
    "if len(new_id) > 15:\n",
    "    new_id = new_id[:15]\n",
    "\n",
    "list_new_id = list(new_id)\n",
    "if list_new_id[-1] == \".\":\n",
    "    list_new_id.pop()\n",
    "\n",
    "if list_new_id[-1] == \".\":\n",
    "    list_new_id.pop()\n",
    "\n",
    "while len(list_new_id) < 3:\n",
    "    list_new_id.append(list_new_id[-1])\n",
    "\n",
    "new_id = ''.join(list_new_id)\n",
    "new_id"
>>>>>>> 4e59b69605a6e20e3a5989b19fd0e6cde96d9bc1
   ]
  },
  {
   "cell_type": "code",
   "execution_count": null,
<<<<<<< HEAD
   "id": "8ea28e67",
=======
   "id": "39886067",
>>>>>>> 4e59b69605a6e20e3a5989b19fd0e6cde96d9bc1
   "metadata": {},
   "outputs": [],
   "source": []
  },
  {
   "cell_type": "code",
   "execution_count": null,
<<<<<<< HEAD
   "id": "bf1a7576",
   "metadata": {},
   "outputs": [],
   "source": [
    "명함 번호\t가로 길이\t세로 길이\n",
    "1\t60\t50\n",
    "2\t30\t70\n",
    "3\t60\t30\n",
    "4\t80\t40"
   ]
  },
  {
   "cell_type": "code",
   "execution_count": 1,
   "id": "6e2de78e",
   "metadata": {},
   "outputs": [],
   "source": [
    "sizes = [[60, 50], [30, 70], [60, 30], [80, 40]]\n",
    "# 4000"
   ]
  },
  {
   "cell_type": "code",
   "execution_count": 10,
   "id": "32a78113",
   "metadata": {},
   "outputs": [],
   "source": [
    "sizes = [[10, 7], [12, 3], [8, 15], [14, 7], [5, 15]]\n",
    "# 120"
   ]
  },
  {
   "cell_type": "code",
   "execution_count": 14,
   "id": "20b47159",
   "metadata": {},
   "outputs": [],
   "source": [
    "sizes = [[14, 4], [19, 6], [6, 16], [18, 7], [7, 11]]\n",
    "# 133"
   ]
  },
  {
   "cell_type": "code",
   "execution_count": 15,
   "id": "949f1f28",
   "metadata": {},
   "outputs": [],
   "source": [
    "w_max = 0\n",
    "h_max = 0\n",
    "for i in sizes:\n",
    "    i.sort()\n",
    "    w_max = max(w_max, i[0])\n",
    "    h_max = max(h_max, i[1])"
   ]
  },
  {
   "cell_type": "code",
   "execution_count": 16,
   "id": "7c5eec4b",
   "metadata": {},
   "outputs": [
    {
     "data": {
      "text/plain": [
       "(7, 19)"
      ]
     },
     "execution_count": 16,
     "metadata": {},
     "output_type": "execute_result"
    }
   ],
   "source": [
    "w_max, h_max"
   ]
  },
  {
   "cell_type": "code",
   "execution_count": 17,
   "id": "2680b69d",
   "metadata": {},
   "outputs": [
    {
     "data": {
      "text/plain": [
       "133"
      ]
     },
     "execution_count": 17,
     "metadata": {},
     "output_type": "execute_result"
    }
   ],
   "source": [
    "w_max * h_max"
   ]
=======
   "id": "7c21c3a5",
   "metadata": {},
   "outputs": [],
   "source": []
  },
  {
   "cell_type": "code",
   "execution_count": null,
   "id": "25be8804",
   "metadata": {},
   "outputs": [],
   "source": []
  },
  {
   "cell_type": "code",
   "execution_count": null,
   "id": "c908789d",
   "metadata": {},
   "outputs": [],
   "source": []
>>>>>>> 4e59b69605a6e20e3a5989b19fd0e6cde96d9bc1
  },
  {
   "cell_type": "code",
   "execution_count": null,
<<<<<<< HEAD
   "id": "c0e3e6fa",
=======
   "id": "58d649f1",
>>>>>>> 4e59b69605a6e20e3a5989b19fd0e6cde96d9bc1
   "metadata": {},
   "outputs": [],
   "source": []
  },
  {
   "cell_type": "code",
   "execution_count": null,
<<<<<<< HEAD
   "id": "4229bd5f",
   "metadata": {},
   "outputs": [],
   "source": [
    "max(max(x) for x in sizes) * max(min(x) for x in sizes)"
   ]
=======
   "id": "84b5eaaa",
   "metadata": {},
   "outputs": [],
   "source": []
>>>>>>> 4e59b69605a6e20e3a5989b19fd0e6cde96d9bc1
  },
  {
   "cell_type": "code",
   "execution_count": null,
<<<<<<< HEAD
   "id": "67143150",
=======
   "id": "bc8d1e69",
>>>>>>> 4e59b69605a6e20e3a5989b19fd0e6cde96d9bc1
   "metadata": {},
   "outputs": [],
   "source": []
  }
 ],
 "metadata": {
  "kernelspec": {
<<<<<<< HEAD
   "display_name": "hackerrank",
   "language": "python",
   "name": "hackerrank"
=======
   "display_name": "color_extraction",
   "language": "python",
   "name": "color_extraction"
>>>>>>> 4e59b69605a6e20e3a5989b19fd0e6cde96d9bc1
  },
  "language_info": {
   "codemirror_mode": {
    "name": "ipython",
    "version": 3
   },
   "file_extension": ".py",
   "mimetype": "text/x-python",
   "name": "python",
   "nbconvert_exporter": "python",
   "pygments_lexer": "ipython3",
<<<<<<< HEAD
   "version": "3.8.13"
=======
   "version": "3.8.16"
>>>>>>> 4e59b69605a6e20e3a5989b19fd0e6cde96d9bc1
  }
 },
 "nbformat": 4,
 "nbformat_minor": 5
}
