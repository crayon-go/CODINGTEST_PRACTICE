{
 "cells": [
  {
   "cell_type": "code",
   "execution_count": 1,
<<<<<<< HEAD
   "id": "bb3e9dba",
   "metadata": {},
   "outputs": [],
   "source": [
    "s = \"AB\"\n",
    "n = 1\n",
    "# \"BC\""
=======
   "id": "d923933f",
   "metadata": {},
   "outputs": [],
   "source": [
    "s = \"aukks\"\n",
    "skip = \"wbqd\"\n",
    "index = 5\n",
    "# \"happy\""
>>>>>>> 9291b6a8b54a03db5b97f92c9b5ae42f1e7c96f1
   ]
  },
  {
   "cell_type": "code",
<<<<<<< HEAD
   "execution_count": 36,
   "id": "9bc659b1",
   "metadata": {},
   "outputs": [],
   "source": [
    "s = \"z\"\n",
    "n = 1\n",
    "# \"a\""
=======
   "execution_count": 1,
   "id": "f86b3088",
   "metadata": {},
   "outputs": [],
   "source": [
    "s = \"zzzzz\"\n",
    "skip = \"a\"\n",
    "index = 1\n",
    "# \"bbbbb\""
>>>>>>> 9291b6a8b54a03db5b97f92c9b5ae42f1e7c96f1
   ]
  },
  {
   "cell_type": "code",
<<<<<<< HEAD
   "execution_count": 42,
   "id": "53737e38",
   "metadata": {},
   "outputs": [],
   "source": [
    "s = \"a B z\"\n",
    "n = 4\n",
    "# \"e F d\""
=======
   "execution_count": 8,
   "id": "cce0164a",
   "metadata": {},
   "outputs": [],
   "source": [
    "# a에서 5만큼 뒤에 있는 알파벳은 f지만 \n",
    "# [b, c, d, e, f]에서 'b'와 'd'는 skip에 포함되므로 세지 않습니다. \n",
    "# 따라서 'b', 'd'를 제외하고 'a'에서 5만큼 뒤에 있는 알파벳은 [c, e, f, g, h] 순서에 의해 'h'가 됩니다. \n",
    "# 나머지 \"ukks\" 또한 위 규칙대로 바꾸면 \"appy\"가 되며 결과는 \"happy\"가 됩니다."
>>>>>>> 9291b6a8b54a03db5b97f92c9b5ae42f1e7c96f1
   ]
  },
  {
   "cell_type": "code",
<<<<<<< HEAD
   "execution_count": 20,
   "id": "518d08b5",
   "metadata": {},
   "outputs": [
    {
     "data": {
      "text/plain": [
       "'ABCDEFGHIJKLMNOPQRSTUVWXYZ'"
      ]
     },
     "execution_count": 20,
     "metadata": {},
     "output_type": "execute_result"
    }
   ],
   "source": [
    "upper_s"
=======
   "execution_count": 31,
   "id": "8f6851ad",
   "metadata": {},
   "outputs": [],
   "source": [
    "from string import ascii_lowercase\n",
    "\n",
    "result = ''\n",
    "\n",
    "a_to_z = set(ascii_lowercase)\n",
    "a_to_z -= set(skip)\n",
    "a_to_z = sorted(a_to_z)\n",
    "l = len(a_to_z)"
>>>>>>> 9291b6a8b54a03db5b97f92c9b5ae42f1e7c96f1
   ]
  },
  {
   "cell_type": "code",
<<<<<<< HEAD
   "execution_count": 25,
   "id": "871bfa80",
=======
   "execution_count": 33,
   "id": "6ab2b5b5",
>>>>>>> 9291b6a8b54a03db5b97f92c9b5ae42f1e7c96f1
   "metadata": {},
   "outputs": [
    {
     "data": {
      "text/plain": [
<<<<<<< HEAD
       "25"
      ]
     },
     "execution_count": 25,
=======
       "{'a': 0,\n",
       " 'c': 1,\n",
       " 'e': 2,\n",
       " 'f': 3,\n",
       " 'g': 4,\n",
       " 'h': 5,\n",
       " 'i': 6,\n",
       " 'j': 7,\n",
       " 'k': 8,\n",
       " 'l': 9,\n",
       " 'm': 10,\n",
       " 'n': 11,\n",
       " 'o': 12,\n",
       " 'p': 13,\n",
       " 'r': 14,\n",
       " 's': 15,\n",
       " 't': 16,\n",
       " 'u': 17,\n",
       " 'v': 18,\n",
       " 'x': 19,\n",
       " 'y': 20,\n",
       " 'z': 21}"
      ]
     },
     "execution_count": 33,
>>>>>>> 9291b6a8b54a03db5b97f92c9b5ae42f1e7c96f1
     "metadata": {},
     "output_type": "execute_result"
    }
   ],
   "source": [
<<<<<<< HEAD
    "upper_s.index(\"Z\")"
=======
    "dic_alpha = {alpha:idx for idx, alpha in enumerate(a_to_z)}\n",
    "dic_alpha"
>>>>>>> 9291b6a8b54a03db5b97f92c9b5ae42f1e7c96f1
   ]
  },
  {
   "cell_type": "code",
<<<<<<< HEAD
   "execution_count": 15,
   "id": "eaed82f9",
   "metadata": {},
   "outputs": [],
   "source": [
    "import string\n",
    "\n",
    "answer = ''\n",
    "\n",
    "upper_s = string.ascii_uppercase\n",
    "lower_s = string.ascii_lowercase\n",
    "\n",
    "for i in s:\n",
    "    if i in upper_s:\n",
    "        nn = (upper_s.index(i) + n) % 26\n",
    "        answer += upper_s[nn]\n",
    "    elif i in lower_s:\n",
    "        nn = (lower_s.index(i) + n) % 26\n",
    "        answer += lower_s[nn]\n",
    "    else:\n",
    "        answer += ' '"
   ]
  },
  {
   "cell_type": "code",
   "execution_count": 4,
   "id": "ea5ef349",
=======
   "execution_count": 35,
   "id": "f22a42e9",
>>>>>>> 9291b6a8b54a03db5b97f92c9b5ae42f1e7c96f1
   "metadata": {},
   "outputs": [
    {
     "data": {
      "text/plain": [
<<<<<<< HEAD
       "'BC'"
      ]
     },
     "execution_count": 4,
=======
       "['a',\n",
       " 'c',\n",
       " 'e',\n",
       " 'f',\n",
       " 'g',\n",
       " 'h',\n",
       " 'i',\n",
       " 'j',\n",
       " 'k',\n",
       " 'l',\n",
       " 'm',\n",
       " 'n',\n",
       " 'o',\n",
       " 'p',\n",
       " 'r',\n",
       " 's',\n",
       " 't',\n",
       " 'u',\n",
       " 'v',\n",
       " 'x',\n",
       " 'y',\n",
       " 'z']"
      ]
     },
     "execution_count": 35,
>>>>>>> 9291b6a8b54a03db5b97f92c9b5ae42f1e7c96f1
     "metadata": {},
     "output_type": "execute_result"
    }
   ],
   "source": [
<<<<<<< HEAD
    "answer"
=======
    "a_to_z"
>>>>>>> 9291b6a8b54a03db5b97f92c9b5ae42f1e7c96f1
   ]
  },
  {
   "cell_type": "code",
<<<<<<< HEAD
   "execution_count": null,
   "id": "c4a13f1e",
   "metadata": {},
   "outputs": [],
   "source": []
  },
  {
   "cell_type": "code",
   "execution_count": 14,
   "id": "722cf69b",
=======
   "execution_count": 43,
   "id": "99be5a76",
>>>>>>> 9291b6a8b54a03db5b97f92c9b5ae42f1e7c96f1
   "metadata": {},
   "outputs": [
    {
     "data": {
      "text/plain": [
<<<<<<< HEAD
       "'DE'"
      ]
     },
     "execution_count": 14,
=======
       "5"
      ]
     },
     "execution_count": 43,
>>>>>>> 9291b6a8b54a03db5b97f92c9b5ae42f1e7c96f1
     "metadata": {},
     "output_type": "execute_result"
    }
   ],
   "source": [
<<<<<<< HEAD
    "s = list(s)\n",
    "for i in range(len(s)):\n",
    "\n",
    "    if s[i].isupper():\n",
    "        s[i] = chr((ord(s[i]) - ord('A') + n) % 26 + ord('A'))\n",
    "\n",
    "    elif s[i].islower():\n",
    "        s[i] = chr((ord(s[i]) - ord('a') + n) % 26 + ord('a'))\n",
    "\n",
    "\"\".join(s)"
=======
    "index"
>>>>>>> 9291b6a8b54a03db5b97f92c9b5ae42f1e7c96f1
   ]
  },
  {
   "cell_type": "code",
<<<<<<< HEAD
   "execution_count": 5,
   "id": "c8fc7a95",
=======
   "execution_count": 49,
   "id": "e75dd641",
>>>>>>> 9291b6a8b54a03db5b97f92c9b5ae42f1e7c96f1
   "metadata": {},
   "outputs": [
    {
     "data": {
      "text/plain": [
<<<<<<< HEAD
       "65"
      ]
     },
     "execution_count": 5,
=======
       "13"
      ]
     },
     "execution_count": 49,
>>>>>>> 9291b6a8b54a03db5b97f92c9b5ae42f1e7c96f1
     "metadata": {},
     "output_type": "execute_result"
    }
   ],
   "source": [
<<<<<<< HEAD
    "ord(\"A\")"
=======
    "13%22"
>>>>>>> 9291b6a8b54a03db5b97f92c9b5ae42f1e7c96f1
   ]
  },
  {
   "cell_type": "code",
<<<<<<< HEAD
   "execution_count": 6,
   "id": "7ae80ad6",
   "metadata": {},
   "outputs": [
    {
     "data": {
      "text/plain": [
       "97"
      ]
     },
     "execution_count": 6,
=======
   "execution_count": 74,
   "id": "c553a428",
   "metadata": {},
   "outputs": [
    {
     "name": "stdout",
     "output_type": "stream",
     "text": [
      "---\n",
      "5\n",
      "5\n",
      "---\n",
      "22\n",
      "0\n",
      "---\n",
      "13\n",
      "13\n",
      "---\n",
      "13\n",
      "13\n",
      "---\n",
      "20\n",
      "20\n"
     ]
    },
    {
     "data": {
      "text/plain": [
       "'happyhappyhappyhappyhappyhappyhappyhappyhappyhappyhappyhappyhappy'"
      ]
     },
     "execution_count": 74,
>>>>>>> 9291b6a8b54a03db5b97f92c9b5ae42f1e7c96f1
     "metadata": {},
     "output_type": "execute_result"
    }
   ],
   "source": [
<<<<<<< HEAD
    "ord(\"a\")"
=======
    "for i in s:\n",
    "    print(\"---\")\n",
    "    print(dic_alpha[i]+index)\n",
    "    print((dic_alpha[i] + index) % l)\n",
    "    result += a_to_z[(dic_alpha[i] + index) % l]\n",
    "\n",
    "result"
>>>>>>> 9291b6a8b54a03db5b97f92c9b5ae42f1e7c96f1
   ]
  },
  {
   "cell_type": "code",
<<<<<<< HEAD
   "execution_count": 7,
   "id": "00712c14",
=======
   "execution_count": 24,
   "id": "b331cff5",
>>>>>>> 9291b6a8b54a03db5b97f92c9b5ae42f1e7c96f1
   "metadata": {},
   "outputs": [
    {
     "data": {
      "text/plain": [
<<<<<<< HEAD
       "'A'"
      ]
     },
     "execution_count": 7,
=======
       "'happy'"
      ]
     },
     "execution_count": 24,
>>>>>>> 9291b6a8b54a03db5b97f92c9b5ae42f1e7c96f1
     "metadata": {},
     "output_type": "execute_result"
    }
   ],
   "source": [
<<<<<<< HEAD
    "chr(65)"
=======
    "result"
>>>>>>> 9291b6a8b54a03db5b97f92c9b5ae42f1e7c96f1
   ]
  },
  {
   "cell_type": "code",
<<<<<<< HEAD
   "execution_count": 8,
   "id": "8c551039",
=======
   "execution_count": 4,
   "id": "700ad10e",
>>>>>>> 9291b6a8b54a03db5b97f92c9b5ae42f1e7c96f1
   "metadata": {},
   "outputs": [
    {
     "data": {
      "text/plain": [
<<<<<<< HEAD
       "'a'"
      ]
     },
     "execution_count": 8,
=======
       "{'a',\n",
       " 'b',\n",
       " 'c',\n",
       " 'd',\n",
       " 'e',\n",
       " 'f',\n",
       " 'g',\n",
       " 'h',\n",
       " 'i',\n",
       " 'j',\n",
       " 'k',\n",
       " 'l',\n",
       " 'm',\n",
       " 'n',\n",
       " 'o',\n",
       " 'p',\n",
       " 'q',\n",
       " 'r',\n",
       " 's',\n",
       " 't',\n",
       " 'u',\n",
       " 'v',\n",
       " 'w',\n",
       " 'x',\n",
       " 'y',\n",
       " 'z'}"
      ]
     },
     "execution_count": 4,
>>>>>>> 9291b6a8b54a03db5b97f92c9b5ae42f1e7c96f1
     "metadata": {},
     "output_type": "execute_result"
    }
   ],
   "source": [
<<<<<<< HEAD
    "chr(97)"
=======
    "set(ascii_lowercase)"
>>>>>>> 9291b6a8b54a03db5b97f92c9b5ae42f1e7c96f1
   ]
  },
  {
   "cell_type": "code",
   "execution_count": null,
<<<<<<< HEAD
   "id": "8ea28e67",
=======
   "id": "f9588c38",
>>>>>>> 9291b6a8b54a03db5b97f92c9b5ae42f1e7c96f1
   "metadata": {},
   "outputs": [],
   "source": []
  },
  {
   "cell_type": "code",
   "execution_count": null,
<<<<<<< HEAD
   "id": "bf1a7576",
   "metadata": {},
   "outputs": [],
   "source": [
    "명함 번호\t가로 길이\t세로 길이\n",
    "1\t60\t50\n",
    "2\t30\t70\n",
    "3\t60\t30\n",
    "4\t80\t40"
   ]
  },
  {
   "cell_type": "code",
   "execution_count": 1,
   "id": "6e2de78e",
   "metadata": {},
   "outputs": [],
   "source": [
    "sizes = [[60, 50], [30, 70], [60, 30], [80, 40]]\n",
    "# 4000"
   ]
  },
  {
   "cell_type": "code",
   "execution_count": 10,
   "id": "32a78113",
   "metadata": {},
   "outputs": [],
   "source": [
    "sizes = [[10, 7], [12, 3], [8, 15], [14, 7], [5, 15]]\n",
    "# 120"
   ]
  },
  {
   "cell_type": "code",
   "execution_count": 14,
   "id": "20b47159",
   "metadata": {},
   "outputs": [],
   "source": [
    "sizes = [[14, 4], [19, 6], [6, 16], [18, 7], [7, 11]]\n",
    "# 133"
   ]
  },
  {
   "cell_type": "code",
   "execution_count": 15,
   "id": "949f1f28",
   "metadata": {},
   "outputs": [],
   "source": [
    "w_max = 0\n",
    "h_max = 0\n",
    "for i in sizes:\n",
    "    i.sort()\n",
    "    w_max = max(w_max, i[0])\n",
    "    h_max = max(h_max, i[1])"
   ]
  },
  {
   "cell_type": "code",
   "execution_count": 16,
   "id": "7c5eec4b",
   "metadata": {},
   "outputs": [
    {
     "data": {
      "text/plain": [
       "(7, 19)"
      ]
     },
     "execution_count": 16,
     "metadata": {},
     "output_type": "execute_result"
    }
   ],
   "source": [
    "w_max, h_max"
=======
   "id": "5af8037d",
   "metadata": {},
   "outputs": [],
   "source": []
  },
  {
   "cell_type": "code",
   "execution_count": null,
   "id": "5c45f978",
   "metadata": {},
   "outputs": [],
   "source": []
  },
  {
   "cell_type": "code",
   "execution_count": 7,
   "id": "9b16b672",
   "metadata": {},
   "outputs": [
    {
     "name": "stdout",
     "output_type": "stream",
     "text": [
      "---------------\n",
      "z\n",
      "---------------\n",
      "z\n",
      "---------------\n",
      "z\n",
      "---------------\n",
      "z\n",
      "---------------\n",
      "z\n"
     ]
    }
   ],
   "source": [
    "answer = ''\n",
    "alphabet = 'abcdefghijklmnopqrstuvwxyz'\n",
    "\n",
    "for i in s:\n",
    "    print(\"---------------\")\n",
    "    print(i)\n",
    "    \n",
    "    cnt = 0\n",
    "    now_idx = alphabet.index(i)\n",
    "\n",
    "    while cnt < index:\n",
    "        now_idx += 1\n",
    "        if now_idx >= 26:\n",
    "            now_idx = 0\n",
    "            \n",
    "        if alphabet[now_idx] in skip:\n",
    "            pass\n",
    "        else:\n",
    "            cnt += 1\n",
    "        \n",
    "    answer += alphabet[now_idx]\n",
    "\n"
>>>>>>> 9291b6a8b54a03db5b97f92c9b5ae42f1e7c96f1
   ]
  },
  {
   "cell_type": "code",
<<<<<<< HEAD
   "execution_count": 17,
   "id": "2680b69d",
=======
   "execution_count": 8,
   "id": "6378bda3",
>>>>>>> 9291b6a8b54a03db5b97f92c9b5ae42f1e7c96f1
   "metadata": {},
   "outputs": [
    {
     "data": {
      "text/plain": [
<<<<<<< HEAD
       "133"
      ]
     },
     "execution_count": 17,
=======
       "'bbbbb'"
      ]
     },
     "execution_count": 8,
>>>>>>> 9291b6a8b54a03db5b97f92c9b5ae42f1e7c96f1
     "metadata": {},
     "output_type": "execute_result"
    }
   ],
   "source": [
<<<<<<< HEAD
    "w_max * h_max"
   ]
  },
  {
   "cell_type": "code",
   "execution_count": null,
   "id": "c0e3e6fa",
   "metadata": {},
   "outputs": [],
   "source": []
  },
  {
   "cell_type": "code",
   "execution_count": null,
   "id": "4229bd5f",
   "metadata": {},
   "outputs": [],
   "source": [
    "max(max(x) for x in sizes) * max(min(x) for x in sizes)"
=======
    "answer"
>>>>>>> 9291b6a8b54a03db5b97f92c9b5ae42f1e7c96f1
   ]
  },
  {
   "cell_type": "code",
   "execution_count": null,
<<<<<<< HEAD
   "id": "67143150",
=======
   "id": "199b3894",
>>>>>>> 9291b6a8b54a03db5b97f92c9b5ae42f1e7c96f1
   "metadata": {},
   "outputs": [],
   "source": []
  }
 ],
 "metadata": {
  "kernelspec": {
   "display_name": "hackerrank",
   "language": "python",
   "name": "hackerrank"
  },
  "language_info": {
   "codemirror_mode": {
    "name": "ipython",
    "version": 3
   },
   "file_extension": ".py",
   "mimetype": "text/x-python",
   "name": "python",
   "nbconvert_exporter": "python",
   "pygments_lexer": "ipython3",
<<<<<<< HEAD
   "version": "3.8.13"
=======
   "version": "3.9.12"
>>>>>>> 9291b6a8b54a03db5b97f92c9b5ae42f1e7c96f1
  }
 },
 "nbformat": 4,
 "nbformat_minor": 5
}
