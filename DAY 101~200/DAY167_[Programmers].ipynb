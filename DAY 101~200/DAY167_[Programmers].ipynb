{
 "cells": [
  {
   "cell_type": "code",
   "execution_count": 22,
   "id": "7717c0de",
   "metadata": {},
   "outputs": [],
   "source": [
    "t = \"3141592\"\n",
    "p = \"271\"\n",
    "# 2\n",
    "# 271보다 작거나 같은 수는 141, 159 2개 입니다."
   ]
  },
  {
   "cell_type": "code",
   "execution_count": 27,
   "id": "64306c51",
   "metadata": {},
   "outputs": [],
   "source": [
    "t = \"500220839878\"\n",
    "p = \"7\"\n",
    "# 8"
   ]
  },
  {
   "cell_type": "code",
   "execution_count": 30,
   "id": "342c90dd",
   "metadata": {},
   "outputs": [],
   "source": [
    "t = \"10203\"\n",
    "p = \"15\"\n",
    "# 3"
   ]
  },
  {
   "cell_type": "code",
   "execution_count": 31,
   "id": "db63af4c",
   "metadata": {},
   "outputs": [],
   "source": [
    "answer = 0\n",
    "for i in range(0,len(t)-len(p)+1):\n",
    "    num = t[i:i+len(p)]\n",
    "    if int(num) <= int(p):\n",
    "        answer += 1"
   ]
  },
  {
   "cell_type": "code",
   "execution_count": 32,
   "id": "cc6b3d40",
   "metadata": {},
   "outputs": [
    {
     "data": {
      "text/plain": [
       "3"
      ]
     },
     "execution_count": 32,
     "metadata": {},
     "output_type": "execute_result"
    }
   ],
   "source": [
    "answer"
   ]
  },
  {
   "cell_type": "code",
   "execution_count": null,
   "id": "163e5ac1",
   "metadata": {},
   "outputs": [],
   "source": []
  },
  {
   "cell_type": "code",
   "execution_count": 33,
   "id": "adbf3134",
   "metadata": {},
   "outputs": [
    {
     "data": {
      "text/plain": [
       "3"
      ]
     },
     "execution_count": 33,
     "metadata": {},
     "output_type": "execute_result"
    }
   ],
   "source": [
    "answer = 0\n",
    "\n",
    "for i in range(len(t) - len(p) + 1):\n",
    "    if int(p) >= int(t[i:i+len(p)]):\n",
    "        answer += 1\n",
    "answer"
   ]
  },
  {
   "cell_type": "code",
   "execution_count": null,
   "id": "7cbced81",
   "metadata": {},
   "outputs": [],
   "source": []
  },
  {
   "cell_type": "code",
   "execution_count": null,
   "id": "91160c79",
   "metadata": {},
   "outputs": [],
   "source": []
  },
  {
   "cell_type": "code",
   "execution_count": null,
   "id": "8da47bb4",
   "metadata": {},
   "outputs": [],
   "source": []
  }
 ],
 "metadata": {
  "kernelspec": {
   "display_name": "hackerrank",
   "language": "python",
   "name": "hackerrank"
  },
  "language_info": {
   "codemirror_mode": {
    "name": "ipython",
    "version": 3
   },
   "file_extension": ".py",
   "mimetype": "text/x-python",
   "name": "python",
   "nbconvert_exporter": "python",
   "pygments_lexer": "ipython3",
   "version": "3.8.13"
  }
 },
 "nbformat": 4,
 "nbformat_minor": 5
}
