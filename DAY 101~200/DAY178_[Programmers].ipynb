{
 "cells": [
  {
   "cell_type": "code",
   "execution_count": null,
   "id": "96fee5b9",
   "metadata": {},
   "outputs": [],
   "source": [
    "# 실패율 : 스테이지에 도달했으나 아직 클리어하지 못한 플레이어의 수 / 스테이지에 도달한 플레이어 수\n",
    "# 전체 스테이지의 개수 N\n",
    "# 게임을 이용하는 사용자가 현재 멈춰있는 스테이지의 번호가 담긴 배열 stages"
   ]
  },
  {
   "cell_type": "code",
   "execution_count": 1,
   "id": "ea1130d0",
   "metadata": {},
   "outputs": [],
   "source": [
    "N = 5\n",
    "stages = [2, 1, 2, 6, 2, 4, 3, 3]\n",
    "# [3,4,2,1,5]\n",
    "# 1: 1/8\n",
    "# 2: 3/7\n",
    "# 3: 2/4\n",
    "# 4: 1/2\n",
    "# 5: 0/1"
   ]
  },
  {
   "cell_type": "code",
   "execution_count": null,
   "id": "f9f8e3ea",
   "metadata": {},
   "outputs": [],
   "source": [
    "N = 4\n",
    "stages = [4,4,4,4,4]\n",
    "# [4,1,2,3]"
   ]
  },
  {
   "cell_type": "code",
   "execution_count": 2,
   "id": "39e93344",
   "metadata": {},
   "outputs": [],
   "source": [
    "answer = []"
   ]
  },
  {
   "cell_type": "code",
   "execution_count": 44,
   "id": "1bb61066",
   "metadata": {},
   "outputs": [
    {
     "name": "stdout",
     "output_type": "stream",
     "text": [
      "-----------------\n",
      "[2, 1, 2, 6, 2, 4, 3, 3]\n",
      "[1]\n",
      "-----------------\n",
      "[2, 2, 6, 2, 4, 3, 3]\n",
      "[2, 2, 2]\n",
      "-----------------\n",
      "[6, 4, 3, 3]\n",
      "[3, 3]\n",
      "-----------------\n",
      "[6, 4]\n",
      "[4]\n",
      "-----------------\n",
      "[6]\n",
      "[]\n"
     ]
    }
   ],
   "source": [
    "ratio_list = []\n",
    "\n",
    "for i in range(1, N+1):\n",
    "    print(\"-----------------\")\n",
    "    stage_status = [x for x in stages if x >= i]\n",
    "    print(stage_status)\n",
    "    \n",
    "    stage_user = [y for y in stage_status if y <= i]\n",
    "    print(stage_user)\n",
    "\n",
    "    ratio_list.append(len(stage_user) / len(stage_status))"
   ]
  },
  {
   "cell_type": "code",
   "execution_count": 48,
   "id": "642ca864",
   "metadata": {},
   "outputs": [
    {
     "data": {
      "text/plain": [
       "[0.125, 0.42857142857142855, 0.5, 0.5, 0.0]"
      ]
     },
     "execution_count": 48,
     "metadata": {},
     "output_type": "execute_result"
    }
   ],
   "source": [
    "ratio_list"
   ]
  },
  {
   "cell_type": "code",
   "execution_count": 57,
   "id": "8d159a2f",
   "metadata": {},
   "outputs": [
    {
     "data": {
      "text/plain": [
       "array([4, 0, 1, 2, 3])"
      ]
     },
     "execution_count": 57,
     "metadata": {},
     "output_type": "execute_result"
    }
   ],
   "source": [
    "import numpy as np\n",
    "np.argsort(ratio_list)"
   ]
  },
  {
   "cell_type": "code",
   "execution_count": 39,
   "id": "205d5f8c",
   "metadata": {},
   "outputs": [
    {
     "data": {
      "text/plain": [
       "0.5"
      ]
     },
     "execution_count": 39,
     "metadata": {},
     "output_type": "execute_result"
    }
   ],
   "source": [
    "answer.append(ratio_list.index(max(ratio_list)) + 1)\n"
   ]
  },
  {
   "cell_type": "code",
   "execution_count": 42,
   "id": "2737264f",
   "metadata": {},
   "outputs": [],
   "source": []
  },
  {
   "cell_type": "code",
   "execution_count": null,
   "id": "27d131bc",
   "metadata": {},
   "outputs": [],
   "source": []
  },
  {
   "cell_type": "code",
   "execution_count": null,
   "id": "952fb98b",
   "metadata": {},
   "outputs": [],
   "source": []
  },
  {
   "cell_type": "code",
   "execution_count": null,
   "id": "196978db",
   "metadata": {},
   "outputs": [],
   "source": []
  }
 ],
 "metadata": {
  "kernelspec": {
   "display_name": "color_extraction",
   "language": "python",
   "name": "color_extraction"
  },
  "language_info": {
   "codemirror_mode": {
    "name": "ipython",
    "version": 3
   },
   "file_extension": ".py",
   "mimetype": "text/x-python",
   "name": "python",
   "nbconvert_exporter": "python",
   "pygments_lexer": "ipython3",
   "version": "3.8.16"
  }
 },
 "nbformat": 4,
 "nbformat_minor": 5
}
