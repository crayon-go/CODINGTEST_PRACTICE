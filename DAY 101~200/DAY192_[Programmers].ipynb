{
 "cells": [
  {
   "cell_type": "code",
   "execution_count": null,
   "id": "7dcd4291",
   "metadata": {},
   "outputs": [],
   "source": [
    "numbers = [7, 0, 8, 2, 8, 3, 1, 5, 7, 6, 2]\n",
    "hand = \"left\"\n",
    "# \"LRLLRRLLLRR\""
   ]
  },
  {
   "cell_type": "code",
   "execution_count": null,
   "id": "6882858e",
   "metadata": {},
   "outputs": [],
   "source": [
    "numbers = [1, 2, 3, 4, 5, 6, 7, 8, 9, 0]\n",
    "hand = \"right\"\n",
    "# \"LLRLLRLLRL\""
   ]
  },
  {
   "cell_type": "code",
   "execution_count": null,
   "id": "98b4e625",
   "metadata": {},
   "outputs": [],
   "source": [
    "answer = ''\n",
    "key_dict = {1:(0,0),2:(0,1),3:(0,2),\n",
    "            4:(1,0),5:(1,1),6:(1,2),\n",
    "            7:(2,0),8:(2,1),9:(2,2),\n",
    "            '*':(3,0),0:(3,1),'#':(3,2)}\n",
    "\n",
    "left = [1,4,7]\n",
    "right = [3,6,9]\n",
    "lhand = '*'\n",
    "rhand = '#'\n",
    "for i in numbers:\n",
    "    if i in left:\n",
    "        answer += 'L'\n",
    "        lhand = i\n",
    "    elif i in right:\n",
    "        answer += 'R'\n",
    "        rhand = i\n",
    "    else:\n",
    "        curPos = key_dict[i]\n",
    "        lPos = key_dict[lhand]\n",
    "        rPos = key_dict[rhand]\n",
    "        ldist = abs(curPos[0]-lPos[0]) + abs(curPos[1]-lPos[1])\n",
    "        rdist = abs(curPos[0]-rPos[0]) + abs(curPos[1]-rPos[1])\n",
    "\n",
    "        if ldist < rdist:\n",
    "            answer += 'L'\n",
    "            lhand = i\n",
    "        elif ldist > rdist:\n",
    "            answer += 'R'\n",
    "            rhand = i\n",
    "        else:\n",
    "            if hand == 'left':\n",
    "                answer += 'L'\n",
    "                lhand = i\n",
    "            else:\n",
    "                answer += 'R'\n",
    "                rhand = i\n",
    "\n",
    "return answer"
   ]
  },
  {
   "cell_type": "code",
   "execution_count": null,
   "id": "b206223e",
   "metadata": {},
   "outputs": [],
   "source": []
  },
  {
   "cell_type": "code",
   "execution_count": null,
   "id": "e979b932",
   "metadata": {},
   "outputs": [],
   "source": []
  },
  {
   "cell_type": "code",
   "execution_count": 33,
   "id": "07341c3a",
   "metadata": {},
   "outputs": [
    {
     "name": "stdout",
     "output_type": "stream",
     "text": [
      "1 0 1\n",
      "0 1\n",
      "0 2 1\n",
      "1 2\n"
     ]
    },
    {
     "data": {
      "text/plain": [
       "'LRL'"
      ]
     },
     "execution_count": 33,
     "metadata": {},
     "output_type": "execute_result"
    }
   ],
   "source": [
    "answer = ''\n",
    "\n",
    "# 키패드 좌표료 변경\n",
    "dic = {1: [0, 0], 2: [0, 1], 3: [0, 2],\n",
    "       4: [1, 0], 5: [1, 1], 6: [1, 2],\n",
    "       7: [2, 0], 8: [2, 1], 9: [2, 2],\n",
    "       '*':[3, 0], 0: [3, 1], '#': [3, 2]}\n",
    "\n",
    "# 시작 위치\n",
    "left_s = dic['*']\n",
    "right_s = dic['#']\n",
    "\n",
    "for i in numbers:\n",
    "    now = dic[i]\n",
    "    # 1, 4, 7을 누르는 경우 무조건 왼손\n",
    "    if i in [1, 4, 7]:\n",
    "        answer += 'L'\n",
    "        left_s = now\n",
    "\n",
    "    # 3, 6, 9를 누르는 경우 무조건 오른손\n",
    "    elif i in [3, 6, 9]:\n",
    "        answer += 'R'\n",
    "        right_s = now\n",
    "\n",
    "    # 2, 5, 8, 0을 누르는 경우\n",
    "    else:\n",
    "        left_d = 0\n",
    "        right_d = 0\n",
    "        # 좌표 거리 계산해주기\n",
    "        for a, b, c in zip(left_s, right_s, now):\n",
    "            left_d += abs(a-c)\n",
    "            right_d += abs(b-c)\n",
    "\n",
    "        # 왼손이 더 가까운 경우\n",
    "        if left_d < right_d:\n",
    "            answer += 'L'\n",
    "            left_s = now\n",
    "\n",
    "        # 오른손이 더 가까운 경우\n",
    "        elif left_d > right_d:\n",
    "            answer += 'R'\n",
    "            right_s = now\n",
    "\n",
    "        # 두 거리가 같은 경우\n",
    "        else:\n",
    "            # 왼손잡이 경우\n",
    "            if hand == 'left':\n",
    "                answer += 'L'\n",
    "                left_s = now\n",
    "\n",
    "            # 오른손잡이 경우\n",
    "            else:\n",
    "                answer += 'R'\n",
    "                right_s = now\n",
    "\n",
    "answer"
   ]
  },
  {
   "cell_type": "code",
   "execution_count": 5,
   "id": "7e64689b",
   "metadata": {},
   "outputs": [
    {
     "data": {
      "text/plain": [
       "'L'"
      ]
     },
     "execution_count": 5,
     "metadata": {},
     "output_type": "execute_result"
    }
   ],
   "source": [
    "touch[\"1\"]"
   ]
  },
  {
   "cell_type": "code",
   "execution_count": 28,
   "id": "e15df943",
   "metadata": {
    "scrolled": true
   },
   "outputs": [
    {
     "data": {
      "text/plain": [
       "'LRLLLR'"
      ]
     },
     "execution_count": 28,
     "metadata": {},
     "output_type": "execute_result"
    }
   ],
   "source": [
    "answer"
   ]
  },
  {
   "cell_type": "code",
   "execution_count": null,
   "id": "2c6e24c2",
   "metadata": {},
   "outputs": [],
   "source": []
  },
  {
   "cell_type": "code",
   "execution_count": null,
   "id": "74d35df3",
   "metadata": {},
   "outputs": [],
   "source": []
  },
  {
   "cell_type": "code",
   "execution_count": null,
   "id": "7e6e0161",
   "metadata": {},
   "outputs": [],
   "source": []
  },
  {
   "cell_type": "code",
   "execution_count": null,
   "id": "f561de29",
   "metadata": {},
   "outputs": [],
   "source": []
  }
 ],
 "metadata": {
  "kernelspec": {
   "display_name": "hackerrank",
   "language": "python",
   "name": "hackerrank"
  },
  "language_info": {
   "codemirror_mode": {
    "name": "ipython",
    "version": 3
   },
   "file_extension": ".py",
   "mimetype": "text/x-python",
   "name": "python",
   "nbconvert_exporter": "python",
   "pygments_lexer": "ipython3",
   "version": "3.9.12"
  }
 },
 "nbformat": 4,
 "nbformat_minor": 5
}
