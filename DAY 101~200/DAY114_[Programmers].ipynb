{
 "cells": [
  {
   "cell_type": "code",
   "execution_count": 22,
   "id": "13ca55d2",
   "metadata": {},
   "outputs": [],
   "source": [
    "quiz = [\"3 - 4 = -3\", \"5 + 6 = 11\"]\n",
    "# [\"X\", \"O\"]"
   ]
  },
  {
   "cell_type": "code",
   "execution_count": 25,
   "id": "ec89c254",
   "metadata": {},
   "outputs": [],
   "source": [
    "quiz = [\"19 - 6 = 13\", \"5 + 66 = 71\", \"5 - 15 = 63\", \"3 - 1 = 2\"]\n",
    "# [\"O\", \"O\", \"X\", \"O\"]"
   ]
  },
  {
   "cell_type": "code",
   "execution_count": 15,
   "id": "65fe4202",
   "metadata": {},
   "outputs": [],
   "source": [
    "quiz_str = \"3 - 4 = -3\""
   ]
  },
  {
   "cell_type": "code",
   "execution_count": 16,
   "id": "5651b689",
   "metadata": {},
   "outputs": [
    {
     "data": {
      "text/plain": [
       "['3', '-', '4', '=', '-3']"
      ]
     },
     "execution_count": 16,
     "metadata": {},
     "output_type": "execute_result"
    }
   ],
   "source": [
    "quiz_str.split()"
   ]
  },
  {
   "cell_type": "code",
   "execution_count": 26,
   "id": "87682b30",
   "metadata": {},
   "outputs": [],
   "source": [
    "answer = []\n",
    "\n",
    "for quiz_str in quiz:\n",
    "\n",
    "    a, b, c, d, e = quiz_str.split()\n",
    "    a, c, e = int(a),int(c),int(e)\n",
    "    \n",
    "    if b == \"+\":\n",
    "        if a + c == e:\n",
    "            answer.append(\"O\")\n",
    "        else:\n",
    "            answer.append(\"X\")\n",
    "    elif b == \"-\":\n",
    "        if a - c == e:\n",
    "            answer.append(\"O\")\n",
    "        else:\n",
    "            answer.append(\"X\")\n",
    "        "
   ]
  },
  {
   "cell_type": "code",
   "execution_count": 27,
   "id": "08df6d55",
   "metadata": {},
   "outputs": [
    {
     "data": {
      "text/plain": [
       "['O', 'O', 'X', 'O']"
      ]
     },
     "execution_count": 27,
     "metadata": {},
     "output_type": "execute_result"
    }
   ],
   "source": [
    "answer"
   ]
  },
  {
   "cell_type": "code",
   "execution_count": null,
   "id": "b7d0e25a",
   "metadata": {},
   "outputs": [],
   "source": []
  },
  {
   "cell_type": "code",
   "execution_count": null,
   "id": "fdd0b7ca",
   "metadata": {},
   "outputs": [],
   "source": [
    "def valid(equation):\n",
    "    equation = equation.replace('=', '==')\n",
    "    return eval(equation)\n",
    "\n",
    "def solution(equations):\n",
    "    return [\"O\" if valid(equation) else \"X\" for equation in equations]    "
   ]
  },
  {
   "cell_type": "code",
   "execution_count": 28,
   "id": "514b6e0c",
   "metadata": {},
   "outputs": [],
   "source": [
    "test_str = \"1 + 2 == 3\""
   ]
  },
  {
   "cell_type": "code",
   "execution_count": 29,
   "id": "cf8ee52c",
   "metadata": {},
   "outputs": [
    {
     "data": {
      "text/plain": [
       "True"
      ]
     },
     "execution_count": 29,
     "metadata": {},
     "output_type": "execute_result"
    }
   ],
   "source": [
    "eval(test_str)"
   ]
  },
  {
   "cell_type": "code",
   "execution_count": null,
   "id": "76d0e091",
   "metadata": {},
   "outputs": [],
   "source": []
  }
 ],
 "metadata": {
  "kernelspec": {
   "display_name": "hackerrank",
   "language": "python",
   "name": "hackerrank"
  },
  "language_info": {
   "codemirror_mode": {
    "name": "ipython",
    "version": 3
   },
   "file_extension": ".py",
   "mimetype": "text/x-python",
   "name": "python",
   "nbconvert_exporter": "python",
   "pygments_lexer": "ipython3",
   "version": "3.8.13"
  }
 },
 "nbformat": 4,
 "nbformat_minor": 5
}
