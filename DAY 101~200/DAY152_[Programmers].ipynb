{
 "cells": [
  {
   "cell_type": "code",
   "execution_count": 1,
   "id": "800ab4c0",
   "metadata": {},
   "outputs": [],
   "source": [
    "s = \"a234\"\n",
    "# false"
   ]
  },
  {
   "cell_type": "code",
   "execution_count": 3,
   "id": "3e073e1e",
   "metadata": {},
   "outputs": [],
   "source": [
    "s = \"1234\"\n",
    "# true"
   ]
  },
  {
   "cell_type": "code",
   "execution_count": null,
   "id": "0a96b1c3",
   "metadata": {},
   "outputs": [],
   "source": [
    "문자열 s의 길이가 4 혹은 6이고, \n",
    "숫자로만 구성돼있는지 확인해주는 함수, \n",
    "solution을 완성하세요. \n",
    "예를 들어 s가 \"a234\"이면 False를 리턴하고 \n",
    "\"1234\"라면 True를 리턴하면 됩니다."
   ]
  },
  {
   "cell_type": "code",
   "execution_count": 4,
   "id": "c139d0dd",
   "metadata": {},
   "outputs": [
    {
     "data": {
      "text/plain": [
       "True"
      ]
     },
     "execution_count": 4,
     "metadata": {},
     "output_type": "execute_result"
    }
   ],
   "source": [
    "if s.isdigit():\n",
    "    if len(s) == 4 or len(s)== 6:\n",
    "        return True"
   ]
  },
  {
   "cell_type": "code",
   "execution_count": 5,
   "id": "048f26f9",
   "metadata": {},
   "outputs": [
    {
     "data": {
      "text/plain": [
       "True"
      ]
     },
     "execution_count": 5,
     "metadata": {},
     "output_type": "execute_result"
    }
   ],
   "source": [
    "s.isdigit() and len(s) in (4, 6)"
   ]
  },
  {
   "cell_type": "code",
   "execution_count": null,
   "id": "9bb56d14",
   "metadata": {},
   "outputs": [],
   "source": []
  },
  {
   "cell_type": "code",
   "execution_count": 7,
   "id": "b89534cb",
   "metadata": {},
   "outputs": [],
   "source": [
    "price = 3\n",
    "money = 20\n",
    "count = 4\n",
    "# 10"
   ]
  },
  {
   "cell_type": "code",
   "execution_count": 15,
   "id": "4ece7dc1",
   "metadata": {},
   "outputs": [],
   "source": [
    "answer = 0\n",
    "sum_price = 0\n",
    "\n",
    "for i in range(1, count+1):\n",
    "    sum_price += i * price\n",
    "\n",
    "if sum_price > money:\n",
    "    print(sum_price - money)\n",
    "else:\n",
    "    print(0)"
   ]
  },
  {
   "cell_type": "code",
   "execution_count": 18,
   "id": "1d199f28",
   "metadata": {},
   "outputs": [
    {
     "data": {
      "text/plain": [
       "10"
      ]
     },
     "execution_count": 18,
     "metadata": {},
     "output_type": "execute_result"
    }
   ],
   "source": [
    "max(0,price*(count+1)*count//2-money)"
   ]
  },
  {
   "cell_type": "code",
   "execution_count": null,
   "id": "ce268e24",
   "metadata": {},
   "outputs": [],
   "source": []
  },
  {
   "cell_type": "code",
   "execution_count": 25,
   "id": "6f55a1b1",
   "metadata": {},
   "outputs": [],
   "source": [
    "n = 3\n",
    "m = 12\n",
    "# [3, 12]"
   ]
  },
  {
   "cell_type": "code",
   "execution_count": null,
   "id": "660c1686",
   "metadata": {},
   "outputs": [],
   "source": [
    "n = 2\n",
    "m = 5\n",
    "# [1, 10]"
   ]
  },
  {
   "cell_type": "code",
   "execution_count": 28,
   "id": "4b60843f",
   "metadata": {},
   "outputs": [],
   "source": [
    "a = 0\n",
    "b = 0\n",
    "\n",
    "#최대 공약수 구하기\n",
    "for i in range(min(n,m),0,-1):\n",
    "    if n%i==0 and m%i==0:\n",
    "        a = i\n",
    "        break\n",
    "\n",
    "#최소 공배수 구하기\n",
    "for i in range(max(n,m),(n*m)+1):\n",
    "    if i%n==0 and i%m==0:\n",
    "        b = i\n",
    "        break\n",
    "        \n",
    "answer = [a, b]"
   ]
  },
  {
   "cell_type": "code",
   "execution_count": 30,
   "id": "64c15dae",
   "metadata": {},
   "outputs": [
    {
     "name": "stdout",
     "output_type": "stream",
     "text": [
      "[3, 12]\n"
     ]
    }
   ],
   "source": [
    "def gcdlcm(a, b):\n",
    "    c, d = max(a, b), min(a, b)\n",
    "    t = 1\n",
    "    while t > 0:\n",
    "        t = c % d\n",
    "        c, d = d, t\n",
    "    answer = [c, int(a*b/c)]\n",
    "\n",
    "    return answer\n",
    "\n",
    "print(gcdlcm(3,12))"
   ]
  },
  {
   "cell_type": "code",
   "execution_count": null,
   "id": "cbe95cfe",
   "metadata": {},
   "outputs": [],
   "source": []
  },
  {
   "cell_type": "code",
   "execution_count": null,
   "id": "9359ef59",
   "metadata": {},
   "outputs": [],
   "source": []
  }
 ],
 "metadata": {
  "kernelspec": {
   "display_name": "hackerrank",
   "language": "python",
   "name": "hackerrank"
  },
  "language_info": {
   "codemirror_mode": {
    "name": "ipython",
    "version": 3
   },
   "file_extension": ".py",
   "mimetype": "text/x-python",
   "name": "python",
   "nbconvert_exporter": "python",
   "pygments_lexer": "ipython3",
   "version": "3.8.13"
  }
 },
 "nbformat": 4,
 "nbformat_minor": 5
}
