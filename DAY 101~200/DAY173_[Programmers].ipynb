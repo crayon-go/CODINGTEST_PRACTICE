{
 "cells": [
  {
   "cell_type": "code",
   "execution_count": 51,
   "id": "99853646",
   "metadata": {},
   "outputs": [],
   "source": [
    "s = \"banana\"\n",
    "# [-1, -1, -1, 2, 2, 2]"
   ]
  },
  {
   "cell_type": "code",
   "execution_count": 35,
   "id": "c7062217",
   "metadata": {},
   "outputs": [],
   "source": [
    "s = \"foobar\"\n",
    "# [-1, -1, 1, -1, -1, -1]"
   ]
  },
  {
   "cell_type": "code",
   "execution_count": 52,
   "id": "921c68ad",
   "metadata": {},
   "outputs": [
    {
     "name": "stdout",
     "output_type": "stream",
     "text": [
      "-1\n",
      "-1\n",
      "-1\n",
      "2\n",
      "2\n",
      "2\n"
     ]
    }
   ],
   "source": [
    "ss = ''\n",
    "answer = []\n",
    "\n",
    "for i in s:\n",
    "    if not i in ss:\n",
    "        answer.append(-1)\n",
    "        print(\"-1\")\n",
    "    else:\n",
    "\n",
    "        answer.append(ss[::-1].index(i) + 1)\n",
    "        print(ss[::-1].index(i) + 1)\n",
    "    ss += i"
   ]
  },
  {
   "cell_type": "code",
   "execution_count": 48,
   "id": "ba6eec4e",
   "metadata": {},
   "outputs": [
    {
     "name": "stdout",
     "output_type": "stream",
     "text": [
      "of\n",
      "1\n"
     ]
    }
   ],
   "source": [
    "answer = []\n",
    "dic = dict()\n",
    "for i in range(len(s)):\n",
    "    if s[i] not in dic:\n",
    "        answer.append(-1)\n",
    "    else:\n",
    "        answer.append(i - dic[s[i]])\n",
    "    dic[s[i]] = i"
   ]
  },
  {
   "cell_type": "code",
   "execution_count": null,
   "id": "f95eca85",
   "metadata": {},
   "outputs": [],
   "source": []
  }
 ],
 "metadata": {
  "kernelspec": {
   "display_name": "hackerrank",
   "language": "python",
   "name": "hackerrank"
  },
  "language_info": {
   "codemirror_mode": {
    "name": "ipython",
    "version": 3
   },
   "file_extension": ".py",
   "mimetype": "text/x-python",
   "name": "python",
   "nbconvert_exporter": "python",
   "pygments_lexer": "ipython3",
   "version": "3.8.13"
  }
 },
 "nbformat": 4,
 "nbformat_minor": 5
}
