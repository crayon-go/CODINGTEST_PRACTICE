{
 "cells": [
  {
   "cell_type": "code",
   "execution_count": 101,
   "id": "7fa790de",
   "metadata": {},
   "outputs": [],
   "source": [
    "polynomial = \"3x + 7 + x\"\n",
    "# \"4x + 7\""
   ]
  },
  {
   "cell_type": "code",
   "execution_count": 108,
   "id": "27331f35",
   "metadata": {},
   "outputs": [],
   "source": [
    "polynomial = \"-6x + x + x\"\n",
    "# \"3x\""
   ]
  },
  {
   "cell_type": "code",
   "execution_count": 110,
   "id": "e166b2e5",
   "metadata": {},
   "outputs": [],
   "source": [
    "polynomial = \"-2x + x + x + x\"\n",
    "# \"3x\""
   ]
  },
  {
   "cell_type": "code",
   "execution_count": 115,
   "id": "30629597",
   "metadata": {},
   "outputs": [
    {
     "data": {
      "text/plain": [
       "'x'"
      ]
     },
     "execution_count": 115,
     "metadata": {},
     "output_type": "execute_result"
    }
   ],
   "source": [
    "num_sum = 0\n",
    "x_list = []\n",
    "for i in polynomial.split(\" + \"):\n",
    "    if i.isdigit():\n",
    "        num_sum += int(i)\n",
    "    else:\n",
    "        x_list.append(i)\n",
    "x_sum = 0\n",
    "\n",
    "for i in x_list:\n",
    "    try:\n",
    "        x_sum += int(i.split('x')[0])\n",
    "    except:\n",
    "        x_sum += 1\n",
    "\n",
    "if x_sum == 1:\n",
    "    x_sum = (str(\"\"))\n",
    "    \n",
    "if x_sum == 0 and num_sum == 0:\n",
    "    answer = \"0\"\n",
    "    \n",
    "elif num_sum == 0:\n",
    "    \n",
    "    answer = \"{}x\".format(x_sum)\n",
    "    \n",
    "elif x_sum == 0:\n",
    "    answer = \"{}\".format(num_sum)\n",
    "else:\n",
    "    answer = \"{}x + {}\".format(x_sum, num_sum)\n",
    "answer"
   ]
  },
  {
   "cell_type": "code",
   "execution_count": null,
   "id": "593cbc53",
   "metadata": {},
   "outputs": [],
   "source": []
  },
  {
   "cell_type": "code",
   "execution_count": 117,
   "id": "b3908711",
   "metadata": {},
   "outputs": [],
   "source": [
    "polynomial = \"-2x + x + x + x\"\n",
    "# \"3x\""
   ]
  },
  {
   "cell_type": "code",
   "execution_count": 118,
   "id": "8e728831",
   "metadata": {},
   "outputs": [
    {
     "name": "stdout",
     "output_type": "stream",
     "text": [
      "x\n"
     ]
    }
   ],
   "source": [
    "\n",
    "coef = 0\n",
    "const = 0\n",
    "for term in polynomial.split(' + '):\n",
    "    if 'x' in term:\n",
    "        if len(term) != 1:\n",
    "            coef += int(term[:-1]) - 1\n",
    "        coef += 1 \n",
    "    else:\n",
    "        const += int(term)\n",
    "answer = []\n",
    "if coef != 0:\n",
    "    answer.append('x' if coef == 1 else f'{coef}x')\n",
    "if const != 0:\n",
    "    answer.append(str(const))\n",
    "print(' + '.join(answer) if answer else '0')"
   ]
  },
  {
   "cell_type": "code",
   "execution_count": null,
   "id": "3050416b",
   "metadata": {},
   "outputs": [],
   "source": []
  },
  {
   "cell_type": "code",
   "execution_count": null,
   "id": "f3b8eeed",
   "metadata": {},
   "outputs": [],
   "source": []
  },
  {
   "cell_type": "code",
   "execution_count": null,
   "id": "367a0627",
   "metadata": {},
   "outputs": [],
   "source": []
  },
  {
   "cell_type": "code",
   "execution_count": null,
   "id": "7827da4e",
   "metadata": {},
   "outputs": [],
   "source": []
  },
  {
   "cell_type": "code",
   "execution_count": null,
   "id": "67083c1c",
   "metadata": {},
   "outputs": [],
   "source": []
  },
  {
   "cell_type": "code",
   "execution_count": null,
   "id": "338d4323",
   "metadata": {},
   "outputs": [],
   "source": []
  }
 ],
 "metadata": {
  "kernelspec": {
   "display_name": "hackerrank",
   "language": "python",
   "name": "hackerrank"
  },
  "language_info": {
   "codemirror_mode": {
    "name": "ipython",
    "version": 3
   },
   "file_extension": ".py",
   "mimetype": "text/x-python",
   "name": "python",
   "nbconvert_exporter": "python",
   "pygments_lexer": "ipython3",
   "version": "3.9.12"
  }
 },
 "nbformat": 4,
 "nbformat_minor": 5
}
