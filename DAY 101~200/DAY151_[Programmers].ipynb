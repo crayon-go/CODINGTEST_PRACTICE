{
 "cells": [
  {
   "cell_type": "code",
   "execution_count": 29,
   "id": "ef419d3b",
   "metadata": {},
   "outputs": [],
   "source": [
    "left = 13\n",
    "right = 17\n",
    "# 43"
   ]
  },
  {
   "cell_type": "code",
   "execution_count": 24,
   "id": "ec408ab0",
   "metadata": {},
   "outputs": [],
   "source": [
    "left = 24\n",
    "right = 27\n",
    "# 52"
   ]
  },
  {
   "cell_type": "code",
   "execution_count": 25,
   "id": "0634e9f9",
   "metadata": {},
   "outputs": [],
   "source": [
    "answer = 0\n",
    "for i in range(left, right+1):\n",
    "    n_cnt = 0\n",
    "    for j in range(1, i+1):\n",
    "        if i%j==0:\n",
    "            n_cnt += 1\n",
    "    if n_cnt % 2 == 0:\n",
    "        answer += i\n",
    "    else:\n",
    "        answer -= i"
   ]
  },
  {
   "cell_type": "code",
   "execution_count": 26,
   "id": "c9eddb10",
   "metadata": {},
   "outputs": [
    {
     "data": {
      "text/plain": [
       "52"
      ]
     },
     "execution_count": 26,
     "metadata": {},
     "output_type": "execute_result"
    }
   ],
   "source": [
    "answer"
   ]
  },
  {
   "cell_type": "code",
   "execution_count": 30,
   "id": "f9c74065",
   "metadata": {},
   "outputs": [],
   "source": [
    "answer = 0\n",
    "for i in range(left, right + 1):\n",
    "    if int(i**0.5) == i**0.5:\n",
    "        answer -= i\n",
    "    else:\n",
    "        answer += i"
   ]
  },
  {
   "cell_type": "code",
   "execution_count": 31,
   "id": "d57b151f",
   "metadata": {},
   "outputs": [
    {
     "data": {
      "text/plain": [
       "43"
      ]
     },
     "execution_count": 31,
     "metadata": {},
     "output_type": "execute_result"
    }
   ],
   "source": [
    "answer"
   ]
  },
  {
   "cell_type": "code",
   "execution_count": 42,
   "id": "4de14fec",
   "metadata": {},
   "outputs": [
    {
     "data": {
      "text/plain": [
       "5.0"
      ]
     },
     "execution_count": 42,
     "metadata": {},
     "output_type": "execute_result"
    }
   ],
   "source": [
    "25 ** 0.5"
   ]
  },
  {
   "cell_type": "code",
   "execution_count": null,
   "id": "5f117285",
   "metadata": {},
   "outputs": [],
   "source": [
    "13\t1, 13\t2\n",
    "14\t1, 2, 7, 14\t4\n",
    "15\t1, 3, 5, 15\t4\n",
    "16\t1, 2, 4, 8, 16\t5\n",
    "17\t1, 17\t2"
   ]
  }
 ],
 "metadata": {
  "kernelspec": {
   "display_name": "hackerrank",
   "language": "python",
   "name": "hackerrank"
  },
  "language_info": {
   "codemirror_mode": {
    "name": "ipython",
    "version": 3
   },
   "file_extension": ".py",
   "mimetype": "text/x-python",
   "name": "python",
   "nbconvert_exporter": "python",
   "pygments_lexer": "ipython3",
   "version": "3.8.13"
  }
 },
 "nbformat": 4,
 "nbformat_minor": 5
}
