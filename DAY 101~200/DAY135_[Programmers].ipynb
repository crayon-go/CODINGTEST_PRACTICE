{
 "cells": [
  {
   "cell_type": "code",
   "execution_count": 13,
   "id": "5329ba8f",
   "metadata": {},
   "outputs": [],
   "source": [
    "n = 12\n",
    "# 28"
   ]
  },
  {
   "cell_type": "code",
   "execution_count": 11,
   "id": "ca552ccd",
   "metadata": {},
   "outputs": [],
   "source": [
    "n = 5\n",
    "# 6"
   ]
  },
  {
   "cell_type": "code",
   "execution_count": 14,
   "id": "31c84342",
   "metadata": {},
   "outputs": [
    {
     "data": {
      "text/plain": [
       "28"
      ]
     },
     "execution_count": 14,
     "metadata": {},
     "output_type": "execute_result"
    }
   ],
   "source": [
    "sum([i for i in range(1, n+1) if n % i == 0])"
   ]
  },
  {
   "cell_type": "code",
   "execution_count": null,
   "id": "dce19fcf",
   "metadata": {},
   "outputs": [],
   "source": []
  },
  {
   "cell_type": "code",
   "execution_count": null,
   "id": "2a842b8e",
   "metadata": {},
   "outputs": [],
   "source": []
  },
  {
   "cell_type": "code",
   "execution_count": null,
   "id": "2884f627",
   "metadata": {},
   "outputs": [],
   "source": []
  },
  {
   "cell_type": "code",
   "execution_count": null,
   "id": "e2770f51",
   "metadata": {},
   "outputs": [],
   "source": []
  }
 ],
 "metadata": {
  "kernelspec": {
   "display_name": "hackerrank",
   "language": "python",
   "name": "hackerrank"
  },
  "language_info": {
   "codemirror_mode": {
    "name": "ipython",
    "version": 3
   },
   "file_extension": ".py",
   "mimetype": "text/x-python",
   "name": "python",
   "nbconvert_exporter": "python",
   "pygments_lexer": "ipython3",
   "version": "3.9.12"
  }
 },
 "nbformat": 4,
 "nbformat_minor": 5
}
