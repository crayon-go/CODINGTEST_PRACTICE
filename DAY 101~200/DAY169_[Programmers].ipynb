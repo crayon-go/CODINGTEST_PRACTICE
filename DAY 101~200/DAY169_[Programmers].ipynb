{
 "cells": [
  {
   "cell_type": "code",
   "execution_count": 17,
   "id": "1133faf6",
   "metadata": {},
   "outputs": [],
   "source": []
  },
  {
   "cell_type": "code",
   "execution_count": 61,
   "id": "5221e351",
   "metadata": {},
   "outputs": [],
   "source": [
    "a = 3\n",
    "b = 1\n",
    "n = 20\n",
    "# 9\n"
   ]
  },
  {
   "cell_type": "code",
   "execution_count": 62,
   "id": "60647fd1",
   "metadata": {},
   "outputs": [],
   "source": [
    "a = 2\n",
    "b = 1\n",
    "n = 20\n",
    "# 19"
   ]
  },
  {
   "cell_type": "code",
   "execution_count": 52,
   "id": "f3954bad",
   "metadata": {},
   "outputs": [
    {
     "name": "stdout",
     "output_type": "stream",
     "text": [
      "20 6 2\n",
      "8\n",
      "--\n",
      "8 2 2\n",
      "4\n",
      "--\n",
      "4 1 1\n",
      "2\n",
      "--\n",
      "-----\n",
      "9\n"
     ]
    }
   ],
   "source": [
    "\n",
    "answer = 0\n",
    "\n",
    "while n >= a:\n",
    "    x, y = divmod(n, a)\n",
    "    n = (x * b) + y\n",
    "    answer += (x * b)\n"
   ]
  },
  {
   "cell_type": "code",
   "execution_count": 25,
   "id": "1a71e4ec",
   "metadata": {},
   "outputs": [
    {
     "data": {
      "text/plain": [
       "2"
      ]
     },
     "execution_count": 25,
     "metadata": {},
     "output_type": "execute_result"
    }
   ],
   "source": [
    "n"
   ]
  },
  {
   "cell_type": "code",
   "execution_count": 26,
   "id": "33c5f0a5",
   "metadata": {},
   "outputs": [
    {
     "data": {
      "text/plain": [
       "14"
      ]
     },
     "execution_count": 26,
     "metadata": {},
     "output_type": "execute_result"
    }
   ],
   "source": [
    "answer"
   ]
  },
  {
   "cell_type": "code",
   "execution_count": null,
   "id": "84927d22",
   "metadata": {},
   "outputs": [],
   "source": []
  },
  {
   "cell_type": "code",
   "execution_count": 57,
   "id": "ce61c181",
   "metadata": {},
   "outputs": [],
   "source": [
    "solution = lambda a, b, n: max(n - b, 0) // (a - b) * b"
   ]
  },
  {
   "cell_type": "code",
   "execution_count": 58,
   "id": "c1e0af85",
   "metadata": {},
   "outputs": [
    {
     "data": {
      "text/plain": [
       "9"
      ]
     },
     "execution_count": 58,
     "metadata": {},
     "output_type": "execute_result"
    }
   ],
   "source": [
    "solution(a, b, n)"
   ]
  },
  {
   "cell_type": "code",
   "execution_count": null,
   "id": "99a358ba",
   "metadata": {},
   "outputs": [],
   "source": []
  },
  {
   "cell_type": "code",
   "execution_count": null,
   "id": "9c92139f",
   "metadata": {},
   "outputs": [],
   "source": []
  },
  {
   "cell_type": "code",
   "execution_count": null,
   "id": "b70dff8c",
   "metadata": {},
   "outputs": [],
   "source": []
  }
 ],
 "metadata": {
  "kernelspec": {
   "display_name": "hackerrank",
   "language": "python",
   "name": "hackerrank"
  },
  "language_info": {
   "codemirror_mode": {
    "name": "ipython",
    "version": 3
   },
   "file_extension": ".py",
   "mimetype": "text/x-python",
   "name": "python",
   "nbconvert_exporter": "python",
   "pygments_lexer": "ipython3",
   "version": "3.9.12"
  }
 },
 "nbformat": 4,
 "nbformat_minor": 5
}
