{
 "cells": [
  {
   "cell_type": "code",
   "execution_count": 4,
   "id": "6f616fde",
   "metadata": {},
   "outputs": [],
   "source": [
    "# 1점부터 k점까지의 점수로 분류\n",
    "# k점이 최상품의 사과이고 1점이 최하품\n",
    "\n",
    "한 상자에 사과를 m개씩 담아 포장\n",
    "상자에 담긴 사과 중 가장 낮은 점수가 p (1 ≤ p ≤ k)점인 경우, 사과 한 상자의 가격은 p * m 입니다.\n"
   ]
  },
  {
   "cell_type": "code",
   "execution_count": 33,
   "id": "7af2bfc3",
   "metadata": {},
   "outputs": [],
   "source": [
    "k = 3\n",
    "m = 4\n",
    "score = [1, 2, 3, 1, 2, 3, 1]\n",
    "# 8"
   ]
  },
  {
   "cell_type": "code",
   "execution_count": 27,
   "id": "cd77669d",
   "metadata": {},
   "outputs": [],
   "source": [
    "k = 4\n",
    "m = 3\n",
    "score = [4, 1, 2, 2, 4, 4, 4, 4, 1, 2, 4, 2]\n",
    "# 33"
   ]
  },
  {
   "cell_type": "code",
   "execution_count": 34,
   "id": "6a493be8",
   "metadata": {},
   "outputs": [],
   "source": [
    "score = sorted(score)[::-1]\n",
    "\n",
    "answer = 0\n",
    "score_step = 0\n",
    "\n",
    "for i in range(int(len(score) / m)):\n",
    "    print(\"----\")\n",
    "    tmp = []\n",
    "    for j in range(m):\n",
    "        tmp.append(score[score_step])\n",
    "        score_step += 1\n",
    "    answer += (min(tmp)*m)"
   ]
  },
  {
   "cell_type": "code",
   "execution_count": 37,
   "id": "4116b08f",
   "metadata": {},
   "outputs": [
    {
     "data": {
      "text/plain": [
       "8"
      ]
     },
     "execution_count": 37,
     "metadata": {},
     "output_type": "execute_result"
    }
   ],
   "source": [
    "answer"
   ]
  },
  {
   "cell_type": "code",
   "execution_count": null,
   "id": "63522068",
   "metadata": {},
   "outputs": [],
   "source": []
  },
  {
   "cell_type": "code",
   "execution_count": 38,
   "id": "64e337f4",
   "metadata": {},
   "outputs": [
    {
     "data": {
      "text/plain": [
       "8"
      ]
     },
     "execution_count": 38,
     "metadata": {},
     "output_type": "execute_result"
    }
   ],
   "source": [
    "sum(sorted(score)[len(score)%m::m])*m"
   ]
  },
  {
   "cell_type": "code",
   "execution_count": null,
   "id": "35d56c52",
   "metadata": {},
   "outputs": [],
   "source": []
  }
 ],
 "metadata": {
  "kernelspec": {
   "display_name": "hackerrank",
   "language": "python",
   "name": "hackerrank"
  },
  "language_info": {
   "codemirror_mode": {
    "name": "ipython",
    "version": 3
   },
   "file_extension": ".py",
   "mimetype": "text/x-python",
   "name": "python",
   "nbconvert_exporter": "python",
   "pygments_lexer": "ipython3",
   "version": "3.9.12"
  }
 },
 "nbformat": 4,
 "nbformat_minor": 5
}
