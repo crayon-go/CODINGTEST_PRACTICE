{
 "cells": [
  {
   "cell_type": "code",
   "execution_count": null,
   "id": "7c6d4aa0",
   "metadata": {},
   "outputs": [],
   "source": [
    "from itertools import *"
   ]
  },
  {
   "cell_type": "code",
   "execution_count": 124,
   "id": "ce00cf87",
   "metadata": {},
   "outputs": [],
   "source": [
    "nums = [3,1,2,3]\n",
    "# 2"
   ]
  },
  {
   "cell_type": "code",
   "execution_count": 127,
   "id": "95d26e9d",
   "metadata": {},
   "outputs": [],
   "source": [
    "nums = [3,3,3,2,2,4]\n",
    "# 3"
   ]
  },
  {
   "cell_type": "code",
   "execution_count": 130,
   "id": "b6721154",
   "metadata": {},
   "outputs": [],
   "source": [
    "nums = [3,3,3,2,2,2]\n",
    "# 2"
   ]
  },
  {
   "cell_type": "code",
   "execution_count": 131,
   "id": "96d08adf",
   "metadata": {},
   "outputs": [
    {
     "name": "stdout",
     "output_type": "stream",
     "text": [
      "3\n",
      "2\n"
     ]
    }
   ],
   "source": [
    "num1 = int(len(nums) / 2)\n",
    "print(num1)\n",
    "\n",
    "num2 = len(list(set(nums)))\n",
    "print(num2)\n",
    "\n",
    "answer = 0\n",
    "if num1 > num2:\n",
    "    answer = num2\n",
    "else:\n",
    "    answer = num1\n",
    "answer"
   ]
  },
  {
   "cell_type": "code",
   "execution_count": 134,
   "id": "fa50e7c3",
   "metadata": {},
   "outputs": [
    {
     "data": {
      "text/plain": [
       "2"
      ]
     },
     "execution_count": 134,
     "metadata": {},
     "output_type": "execute_result"
    }
   ],
   "source": [
    "min(len(nums)/2, len(set(nums)))"
   ]
  },
  {
   "cell_type": "code",
   "execution_count": null,
   "id": "0ebf1f17",
   "metadata": {},
   "outputs": [],
   "source": []
  }
 ],
 "metadata": {
  "kernelspec": {
   "display_name": "hackerrank",
   "language": "python",
   "name": "hackerrank"
  },
  "language_info": {
   "codemirror_mode": {
    "name": "ipython",
    "version": 3
   },
   "file_extension": ".py",
   "mimetype": "text/x-python",
   "name": "python",
   "nbconvert_exporter": "python",
   "pygments_lexer": "ipython3",
   "version": "3.8.13"
  }
 },
 "nbformat": 4,
 "nbformat_minor": 5
}
