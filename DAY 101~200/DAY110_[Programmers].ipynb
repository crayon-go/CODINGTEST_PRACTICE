{
 "cells": [
  {
   "cell_type": "code",
   "execution_count": 100,
   "id": "83b06011",
   "metadata": {},
   "outputs": [],
   "source": [
    "array = [1, 2, 3, 3, 3, 4]\n",
    "# 3"
   ]
  },
  {
   "cell_type": "code",
   "execution_count": 74,
   "id": "0a1b6cca",
   "metadata": {},
   "outputs": [],
   "source": [
    "array = [1, 1, 2, 2]\n",
    "# -1"
   ]
  },
  {
   "cell_type": "code",
   "execution_count": 96,
   "id": "41b35f71",
   "metadata": {},
   "outputs": [],
   "source": [
    "array = [12, 11, 11, 12]\n",
    "# 1"
   ]
  },
  {
   "cell_type": "code",
   "execution_count": 101,
   "id": "509b1edc",
   "metadata": {},
   "outputs": [
    {
     "name": "stdout",
     "output_type": "stream",
     "text": [
      "3\n"
     ]
    }
   ],
   "source": [
    "aa = list(set(array))\n",
    "\n",
    "bb = []\n",
    "for i in aa:\n",
    "    bb.append(array.count(i))\n",
    "\n",
    "max_index = bb.index(max(bb))\n",
    "\n",
    "if bb.count(bb[max_index]) >= 2:\n",
    "    print(\"-1\")\n",
    "else:\n",
    "    print(aa[max_index])"
   ]
  },
  {
   "cell_type": "code",
   "execution_count": 120,
   "id": "d7baba3a",
   "metadata": {},
   "outputs": [],
   "source": [
    "array = [1, 2, 3, 3, 3, 4]"
   ]
  },
  {
   "cell_type": "code",
   "execution_count": 116,
   "id": "de702bdd",
   "metadata": {},
   "outputs": [
    {
     "data": {
      "text/plain": [
       "[1, 2, 3, 3, 4]"
      ]
     },
     "execution_count": 116,
     "metadata": {},
     "output_type": "execute_result"
    }
   ],
   "source": [
    "array.remove(3)\n",
    "array"
   ]
  },
  {
   "cell_type": "code",
   "execution_count": 106,
   "id": "bbd16013",
   "metadata": {},
   "outputs": [
    {
     "data": {
      "text/plain": [
       "{1, 2, 3, 4}"
      ]
     },
     "execution_count": 106,
     "metadata": {},
     "output_type": "execute_result"
    }
   ],
   "source": [
    "set(array)"
   ]
  },
  {
   "cell_type": "code",
   "execution_count": 107,
   "id": "fba67235",
   "metadata": {},
   "outputs": [
    {
     "name": "stdout",
     "output_type": "stream",
     "text": [
      "0 1\n",
      "1 2\n",
      "2 3\n",
      "3 4\n"
     ]
    }
   ],
   "source": [
    "for i, a in enumerate(set(array)):\n",
    "    print(i, a)"
   ]
  },
  {
   "cell_type": "code",
   "execution_count": 105,
   "id": "a4ac1d86",
   "metadata": {},
   "outputs": [
    {
     "data": {
      "text/plain": [
       "6"
      ]
     },
     "execution_count": 105,
     "metadata": {},
     "output_type": "execute_result"
    }
   ],
   "source": [
    "len(array)"
   ]
  },
  {
   "cell_type": "code",
   "execution_count": 121,
   "id": "1cd9560b",
   "metadata": {},
   "outputs": [
    {
     "name": "stdout",
     "output_type": "stream",
     "text": [
      "{1, 2, 3, 4}\n",
      "{3}\n",
      "if\n",
      "3\n"
     ]
    }
   ],
   "source": [
    "while len(array) != 0:\n",
    "    print(set(array))\n",
    "    for i, a in enumerate(set(array)):\n",
    "        array.remove(a)\n",
    "    if i == 0: \n",
    "        print(\"if\")\n",
    "        print(a)\n",
    "        break\n",
    "# print(-1)"
   ]
  },
  {
   "cell_type": "code",
   "execution_count": null,
   "id": "ee841b57",
   "metadata": {},
   "outputs": [],
   "source": []
  },
  {
   "cell_type": "code",
   "execution_count": null,
   "id": "7fa790de",
   "metadata": {},
   "outputs": [],
   "source": []
  },
  {
   "cell_type": "code",
   "execution_count": null,
   "id": "27331f35",
   "metadata": {},
   "outputs": [],
   "source": []
  },
  {
   "cell_type": "code",
   "execution_count": null,
   "id": "fc0fdd3f",
   "metadata": {},
   "outputs": [],
   "source": []
  },
  {
   "cell_type": "code",
   "execution_count": null,
   "id": "38fac51f",
   "metadata": {},
   "outputs": [],
   "source": []
  },
  {
   "cell_type": "code",
   "execution_count": null,
   "id": "ba0693ee",
   "metadata": {},
   "outputs": [],
   "source": []
  },
  {
   "cell_type": "code",
   "execution_count": null,
   "id": "5fa70a0b",
   "metadata": {},
   "outputs": [],
   "source": []
  },
  {
   "cell_type": "code",
   "execution_count": null,
   "id": "f482b6cf",
   "metadata": {},
   "outputs": [],
   "source": []
  },
  {
   "cell_type": "code",
   "execution_count": null,
   "id": "c1f534d5",
   "metadata": {},
   "outputs": [],
   "source": []
  },
  {
   "cell_type": "code",
   "execution_count": null,
   "id": "67083c1c",
   "metadata": {},
   "outputs": [],
   "source": []
  },
  {
   "cell_type": "code",
   "execution_count": null,
   "id": "338d4323",
   "metadata": {},
   "outputs": [],
   "source": []
  }
 ],
 "metadata": {
  "kernelspec": {
   "display_name": "hackerrank",
   "language": "python",
   "name": "hackerrank"
  },
  "language_info": {
   "codemirror_mode": {
    "name": "ipython",
    "version": 3
   },
   "file_extension": ".py",
   "mimetype": "text/x-python",
   "name": "python",
   "nbconvert_exporter": "python",
   "pygments_lexer": "ipython3",
   "version": "3.9.12"
  }
 },
 "nbformat": 4,
 "nbformat_minor": 5
}
