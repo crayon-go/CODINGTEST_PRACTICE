{
 "cells": [
  {
   "cell_type": "code",
   "execution_count": 2,
   "id": "4d6fdb23",
   "metadata": {},
   "outputs": [],
   "source": [
    "name = [\"may\", \"kein\", \"kain\", \"radi\"]\n",
    "yearning = [5, 10, 1, 3]\n",
    "photo = [[\"may\", \"kein\", \"kain\", \"radi\"],[\"may\", \"kein\", \"brin\", \"deny\"], [\"kon\", \"kain\", \"may\", \"coni\"]]\n",
    "# [19, 15, 6]"
   ]
  },
  {
   "cell_type": "code",
   "execution_count": 21,
   "id": "314e13a5",
   "metadata": {},
   "outputs": [],
   "source": [
    "name = [\"kali\", \"mari\", \"don\"]\n",
    "yearning = [11, 1, 55]\n",
    "photo = [[\"kali\", \"mari\", \"don\"], [\"pony\", \"tom\", \"teddy\"], [\"con\", \"mona\", \"don\"]]\n",
    "# [67, 0, 55]"
   ]
  },
  {
   "cell_type": "code",
   "execution_count": 25,
   "id": "60a98365",
   "metadata": {},
   "outputs": [],
   "source": [
    "name = [\"may\", \"kein\", \"kain\", \"radi\"]\n",
    "yearning = [5, 10, 1, 3]\n",
    "photo = [[\"may\"],[\"kein\", \"deny\", \"may\"], [\"kon\", \"coni\"]]\n",
    "# [5, 15, 0]"
   ]
  },
  {
   "cell_type": "code",
   "execution_count": 38,
   "id": "d6c1ee5f",
   "metadata": {},
   "outputs": [],
   "source": [
    "answer = []\n",
    "\n",
    "for album in photo:\n",
    "    n_sum = 0\n",
    "    \n",
    "    for i in album:\n",
    "        if i in name:\n",
    "            n_sum += yearning[name.index(i)]\n",
    "    answer.append(n_sum)"
   ]
  },
  {
   "cell_type": "code",
   "execution_count": 39,
   "id": "b3906d8b",
   "metadata": {},
   "outputs": [
    {
     "data": {
      "text/plain": [
       "[5, 15, 0]"
      ]
     },
     "execution_count": 39,
     "metadata": {},
     "output_type": "execute_result"
    }
   ],
   "source": [
    "answer"
   ]
  },
  {
   "cell_type": "code",
   "execution_count": null,
   "id": "dcc85cb6",
   "metadata": {},
   "outputs": [],
   "source": []
  },
  {
   "cell_type": "code",
   "execution_count": 41,
   "id": "25aac6e3",
   "metadata": {},
   "outputs": [
    {
     "data": {
      "text/plain": [
       "[5, 15, 0]"
      ]
     },
     "execution_count": 41,
     "metadata": {},
     "output_type": "execute_result"
    }
   ],
   "source": [
    "[sum(yearning[name.index(j)] for j in i if j in name) for i in photo]"
   ]
  },
  {
   "cell_type": "code",
   "execution_count": null,
   "id": "d49c75e1",
   "metadata": {},
   "outputs": [],
   "source": []
  }
 ],
 "metadata": {
  "kernelspec": {
   "display_name": "color_extraction",
   "language": "python",
   "name": "color_extraction"
  },
  "language_info": {
   "codemirror_mode": {
    "name": "ipython",
    "version": 3
   },
   "file_extension": ".py",
   "mimetype": "text/x-python",
   "name": "python",
   "nbconvert_exporter": "python",
   "pygments_lexer": "ipython3",
   "version": "3.8.16"
  }
 },
 "nbformat": 4,
 "nbformat_minor": 5
}
