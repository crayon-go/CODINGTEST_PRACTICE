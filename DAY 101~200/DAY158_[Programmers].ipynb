{
 "cells": [
  {
   "cell_type": "code",
   "execution_count": 1,
   "id": "bb3e9dba",
   "metadata": {},
   "outputs": [],
   "source": [
    "s = \"AB\"\n",
    "n = 1\n",
    "# \"BC\""
   ]
  },
  {
   "cell_type": "code",
   "execution_count": 36,
   "id": "9bc659b1",
   "metadata": {},
   "outputs": [],
   "source": [
    "s = \"z\"\n",
    "n = 1\n",
    "# \"a\""
   ]
  },
  {
   "cell_type": "code",
   "execution_count": 42,
   "id": "53737e38",
   "metadata": {},
   "outputs": [],
   "source": [
    "s = \"a B z\"\n",
    "n = 4\n",
    "# \"e F d\""
   ]
  },
  {
   "cell_type": "code",
   "execution_count": 20,
   "id": "518d08b5",
   "metadata": {},
   "outputs": [
    {
     "data": {
      "text/plain": [
       "'ABCDEFGHIJKLMNOPQRSTUVWXYZ'"
      ]
     },
     "execution_count": 20,
     "metadata": {},
     "output_type": "execute_result"
    }
   ],
   "source": [
    "upper_s"
   ]
  },
  {
   "cell_type": "code",
   "execution_count": 25,
   "id": "871bfa80",
   "metadata": {},
   "outputs": [
    {
     "data": {
      "text/plain": [
       "25"
      ]
     },
     "execution_count": 25,
     "metadata": {},
     "output_type": "execute_result"
    }
   ],
   "source": [
    "upper_s.index(\"Z\")"
   ]
  },
  {
   "cell_type": "code",
   "execution_count": 15,
   "id": "eaed82f9",
   "metadata": {},
   "outputs": [],
   "source": [
    "import string\n",
    "\n",
    "answer = ''\n",
    "\n",
    "upper_s = string.ascii_uppercase\n",
    "lower_s = string.ascii_lowercase\n",
    "\n",
    "for i in s:\n",
    "    if i in upper_s:\n",
    "        nn = (upper_s.index(i) + n) % 26\n",
    "        answer += upper_s[nn]\n",
    "    elif i in lower_s:\n",
    "        nn = (lower_s.index(i) + n) % 26\n",
    "        answer += lower_s[nn]\n",
    "    else:\n",
    "        answer += ' '"
   ]
  },
  {
   "cell_type": "code",
   "execution_count": 4,
   "id": "ea5ef349",
   "metadata": {},
   "outputs": [
    {
     "data": {
      "text/plain": [
       "'BC'"
      ]
     },
     "execution_count": 4,
     "metadata": {},
     "output_type": "execute_result"
    }
   ],
   "source": [
    "answer"
   ]
  },
  {
   "cell_type": "code",
   "execution_count": null,
   "id": "c4a13f1e",
   "metadata": {},
   "outputs": [],
   "source": []
  },
  {
   "cell_type": "code",
   "execution_count": 14,
   "id": "722cf69b",
   "metadata": {},
   "outputs": [
    {
     "data": {
      "text/plain": [
       "'DE'"
      ]
     },
     "execution_count": 14,
     "metadata": {},
     "output_type": "execute_result"
    }
   ],
   "source": [
    "s = list(s)\n",
    "for i in range(len(s)):\n",
    "\n",
    "    if s[i].isupper():\n",
    "        s[i] = chr((ord(s[i]) - ord('A') + n) % 26 + ord('A'))\n",
    "\n",
    "    elif s[i].islower():\n",
    "        s[i] = chr((ord(s[i]) - ord('a') + n) % 26 + ord('a'))\n",
    "\n",
    "\"\".join(s)"
   ]
  },
  {
   "cell_type": "code",
   "execution_count": 5,
   "id": "c8fc7a95",
   "metadata": {},
   "outputs": [
    {
     "data": {
      "text/plain": [
       "65"
      ]
     },
     "execution_count": 5,
     "metadata": {},
     "output_type": "execute_result"
    }
   ],
   "source": [
    "ord(\"A\")"
   ]
  },
  {
   "cell_type": "code",
   "execution_count": 6,
   "id": "7ae80ad6",
   "metadata": {},
   "outputs": [
    {
     "data": {
      "text/plain": [
       "97"
      ]
     },
     "execution_count": 6,
     "metadata": {},
     "output_type": "execute_result"
    }
   ],
   "source": [
    "ord(\"a\")"
   ]
  },
  {
   "cell_type": "code",
   "execution_count": 7,
   "id": "00712c14",
   "metadata": {},
   "outputs": [
    {
     "data": {
      "text/plain": [
       "'A'"
      ]
     },
     "execution_count": 7,
     "metadata": {},
     "output_type": "execute_result"
    }
   ],
   "source": [
    "chr(65)"
   ]
  },
  {
   "cell_type": "code",
   "execution_count": 8,
   "id": "8c551039",
   "metadata": {},
   "outputs": [
    {
     "data": {
      "text/plain": [
       "'a'"
      ]
     },
     "execution_count": 8,
     "metadata": {},
     "output_type": "execute_result"
    }
   ],
   "source": [
    "chr(97)"
   ]
  },
  {
   "cell_type": "code",
   "execution_count": null,
   "id": "334af10c",
   "metadata": {},
   "outputs": [],
   "source": []
  }
 ],
 "metadata": {
  "kernelspec": {
   "display_name": "hackerrank",
   "language": "python",
   "name": "hackerrank"
  },
  "language_info": {
   "codemirror_mode": {
    "name": "ipython",
    "version": 3
   },
   "file_extension": ".py",
   "mimetype": "text/x-python",
   "name": "python",
   "nbconvert_exporter": "python",
   "pygments_lexer": "ipython3",
   "version": "3.8.13"
  }
 },
 "nbformat": 4,
 "nbformat_minor": 5
}
