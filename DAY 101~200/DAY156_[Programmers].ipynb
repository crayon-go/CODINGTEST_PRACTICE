{
 "cells": [
  {
   "cell_type": "code",
   "execution_count": 1,
   "id": "21324c6b",
   "metadata": {},
   "outputs": [],
   "source": [
    "s = \"try hello world\"\n",
    "# \"TrY HeLlO WoRlD\""
   ]
  },
  {
   "cell_type": "code",
   "execution_count": null,
   "id": "e3d8ee80",
   "metadata": {},
   "outputs": [],
   "source": [
    "짝수 대문자\n",
    "홀수 소문자"
   ]
  },
  {
   "cell_type": "code",
   "execution_count": 2,
   "id": "060d9c68",
   "metadata": {},
   "outputs": [
    {
     "data": {
      "text/plain": [
       "'S'"
      ]
     },
     "execution_count": 2,
     "metadata": {},
     "output_type": "execute_result"
    }
   ],
   "source": [
    "\"s\".upper()"
   ]
  },
  {
   "cell_type": "code",
   "execution_count": 3,
   "id": "0e8c2975",
   "metadata": {},
   "outputs": [
    {
     "data": {
      "text/plain": [
       "'s'"
      ]
     },
     "execution_count": 3,
     "metadata": {},
     "output_type": "execute_result"
    }
   ],
   "source": [
    "\"S\".lower()"
   ]
  },
  {
   "cell_type": "code",
   "execution_count": 4,
   "id": "8ea217cc",
   "metadata": {},
   "outputs": [],
   "source": [
    "ss = s.split(\" \")\n",
    "\n",
    "answer = ''\n",
    "for i in ss:\n",
    "    for idx, j in enumerate(i):\n",
    "        if idx % 2 == 0:\n",
    "            answer += j.upper()\n",
    "        else:\n",
    "            answer += j.lower()\n",
    "    answer += \" \"\n",
    "answer = answer.rstrip()"
   ]
  },
  {
   "cell_type": "code",
   "execution_count": 5,
   "id": "39511464",
   "metadata": {},
   "outputs": [
    {
     "data": {
      "text/plain": [
       "'TrY HeLlO WoRlD'"
      ]
     },
     "execution_count": 5,
     "metadata": {},
     "output_type": "execute_result"
    }
   ],
   "source": [
    "answer"
   ]
  },
  {
   "cell_type": "code",
   "execution_count": null,
   "id": "f190a4ec",
   "metadata": {},
   "outputs": [],
   "source": []
  },
  {
   "cell_type": "code",
   "execution_count": 6,
   "id": "232f38dd",
   "metadata": {},
   "outputs": [],
   "source": [
    "s = \"try hello world\"\n",
    "# \"TrY HeLlO WoRlD\""
   ]
  },
  {
   "cell_type": "code",
   "execution_count": 18,
   "id": "f4a5b333",
   "metadata": {},
   "outputs": [],
   "source": [
    "check_char = -1\n",
    "answer = ''\n",
    "for i in s:\n",
    "    if i != \" \":\n",
    "        check_char += 1\n",
    "        if check_char % 2 == 0:\n",
    "            answer += i.upper()\n",
    "        else:\n",
    "            answer += i.lower()\n",
    "    else:\n",
    "        answer += \" \"\n",
    "        check_char = -1"
   ]
  },
  {
   "cell_type": "code",
   "execution_count": 19,
   "id": "c318ca8a",
   "metadata": {},
   "outputs": [
    {
     "data": {
      "text/plain": [
       "'TrY HeLlO WoRlD'"
      ]
     },
     "execution_count": 19,
     "metadata": {},
     "output_type": "execute_result"
    }
   ],
   "source": [
    "answer"
   ]
  },
  {
   "cell_type": "code",
   "execution_count": null,
   "id": "4827ecd1",
   "metadata": {},
   "outputs": [],
   "source": []
  },
  {
   "cell_type": "code",
   "execution_count": 20,
   "id": "502d17bd",
   "metadata": {},
   "outputs": [
    {
     "data": {
      "text/plain": [
       "'TrY HeLlO WoRlD'"
      ]
     },
     "execution_count": 20,
     "metadata": {},
     "output_type": "execute_result"
    }
   ],
   "source": [
    "\" \".join(map(lambda x: \"\".join([a.lower() if i % 2 else a.upper() for i, a in enumerate(x)]), s.split(\" \")))"
   ]
  },
  {
   "cell_type": "code",
   "execution_count": null,
   "id": "fae57706",
   "metadata": {},
   "outputs": [],
   "source": []
  },
  {
   "cell_type": "code",
   "execution_count": null,
   "id": "28e30167",
   "metadata": {},
   "outputs": [],
   "source": []
  },
  {
   "cell_type": "code",
   "execution_count": null,
   "id": "3057cf99",
   "metadata": {},
   "outputs": [],
   "source": []
  },
  {
   "cell_type": "code",
   "execution_count": null,
   "id": "105f3c55",
   "metadata": {},
   "outputs": [],
   "source": []
  }
 ],
 "metadata": {
  "kernelspec": {
   "display_name": "hackerrank",
   "language": "python",
   "name": "hackerrank"
  },
  "language_info": {
   "codemirror_mode": {
    "name": "ipython",
    "version": 3
   },
   "file_extension": ".py",
   "mimetype": "text/x-python",
   "name": "python",
   "nbconvert_exporter": "python",
   "pygments_lexer": "ipython3",
   "version": "3.9.12"
  }
 },
 "nbformat": 4,
 "nbformat_minor": 5
}
