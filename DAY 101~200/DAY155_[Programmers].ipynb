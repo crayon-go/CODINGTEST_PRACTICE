{
 "cells": [
  {
   "cell_type": "code",
   "execution_count": 43,
   "id": "2b73c572",
   "metadata": {},
   "outputs": [],
   "source": [
    "n = 45\n",
    "# 7"
   ]
  },
  {
   "cell_type": "code",
   "execution_count": 50,
   "id": "47f2f0dd",
   "metadata": {},
   "outputs": [],
   "source": [
    "n = 125\n",
    "# 229"
   ]
  },
  {
   "cell_type": "code",
   "execution_count": 45,
   "id": "ae5516df",
   "metadata": {},
   "outputs": [
    {
     "data": {
      "text/plain": [
       "229"
      ]
     },
     "execution_count": 45,
     "metadata": {},
     "output_type": "execute_result"
    }
   ],
   "source": [
    "import string\n",
    "\n",
    "tmp = string.digits+string.ascii_lowercase\n",
    "\n",
    "def convert(num, base):\n",
    "    q, r = divmod(num, base)\n",
    "    if q == 0:\n",
    "        return tmp[r] \n",
    "    else:\n",
    "        return convert(q, base) + tmp[r]\n",
    "\n",
    "answer = int(convert(n, 3)[::-1], 3)\n",
    "answer"
   ]
  },
  {
   "cell_type": "code",
   "execution_count": null,
   "id": "9bc2b460",
   "metadata": {},
   "outputs": [],
   "source": []
  },
  {
   "cell_type": "code",
   "execution_count": 57,
   "id": "36fd3ab1",
   "metadata": {},
   "outputs": [
    {
     "name": "stdout",
     "output_type": "stream",
     "text": [
      "15\n",
      "5\n",
      "1\n",
      "0\n",
      "0021\n"
     ]
    },
    {
     "data": {
      "text/plain": [
       "7"
      ]
     },
     "execution_count": 57,
     "metadata": {},
     "output_type": "execute_result"
    }
   ],
   "source": [
    "n = 45\n",
    "tmp = ''\n",
    "while n:\n",
    "    tmp += str(n % 3)\n",
    "    n = n // 3\n",
    "print(tmp)\n",
    "answer = int(tmp, 3)\n",
    "answer"
   ]
  },
  {
   "cell_type": "code",
   "execution_count": 39,
   "id": "087e0431",
   "metadata": {},
   "outputs": [
    {
     "data": {
      "text/plain": [
       "1"
      ]
     },
     "execution_count": 39,
     "metadata": {},
     "output_type": "execute_result"
    }
   ],
   "source": [
    "10 % 3"
   ]
  },
  {
   "cell_type": "code",
   "execution_count": 41,
   "id": "9845defb",
   "metadata": {},
   "outputs": [
    {
     "data": {
      "text/plain": [
       "3"
      ]
     },
     "execution_count": 41,
     "metadata": {},
     "output_type": "execute_result"
    }
   ],
   "source": [
    "10 // 3"
   ]
  },
  {
   "cell_type": "code",
   "execution_count": null,
   "id": "e16f84c5",
   "metadata": {},
   "outputs": [],
   "source": []
  }
 ],
 "metadata": {
  "kernelspec": {
   "display_name": "hackerrank",
   "language": "python",
   "name": "hackerrank"
  },
  "language_info": {
   "codemirror_mode": {
    "name": "ipython",
    "version": 3
   },
   "file_extension": ".py",
   "mimetype": "text/x-python",
   "name": "python",
   "nbconvert_exporter": "python",
   "pygments_lexer": "ipython3",
   "version": "3.8.13"
  }
 },
 "nbformat": 4,
 "nbformat_minor": 5
}
