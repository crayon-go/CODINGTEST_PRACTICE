{
 "cells": [
  {
   "cell_type": "code",
   "execution_count": 34,
   "id": "ede75aaf",
   "metadata": {},
   "outputs": [],
   "source": [
    "common = [1, 2, 3, 4]\n",
    "# 5"
   ]
  },
  {
   "cell_type": "code",
   "execution_count": 40,
   "id": "4f41649a",
   "metadata": {},
   "outputs": [],
   "source": [
    "common = [2, 4, 8]\n",
    "# 16"
   ]
  },
  {
   "cell_type": "code",
   "execution_count": 32,
   "id": "46fa5815",
   "metadata": {},
   "outputs": [],
   "source": [
    "def solution(common):\n",
    "    def is_ari(common):\n",
    "        step = common[1] - common[0]\n",
    "        for i, num in enumerate(common):\n",
    "            if i == 0:\n",
    "                continue\n",
    "            if step != common[i] - common[i-1]:\n",
    "                return False\n",
    "        return True\n",
    "\n",
    "    if is_ari(common) == False:\n",
    "        step = common[-1] // common[-2]\n",
    "        return common[-1] * step\n",
    "    else:\n",
    "        step = common[-1] - common[-2]\n",
    "        return common[-1] + step"
   ]
  },
  {
   "cell_type": "code",
   "execution_count": 33,
   "id": "eabc7b72",
   "metadata": {},
   "outputs": [
    {
     "data": {
      "text/plain": [
       "16"
      ]
     },
     "execution_count": 33,
     "metadata": {},
     "output_type": "execute_result"
    }
   ],
   "source": [
    "solution(common)"
   ]
  },
  {
   "cell_type": "code",
   "execution_count": null,
   "id": "4c705e51",
   "metadata": {},
   "outputs": [],
   "source": []
  },
  {
   "cell_type": "code",
   "execution_count": 35,
   "id": "cd883b3d",
   "metadata": {},
   "outputs": [
    {
     "data": {
      "text/plain": [
       "(1, 2, 3)"
      ]
     },
     "execution_count": 35,
     "metadata": {},
     "output_type": "execute_result"
    }
   ],
   "source": [
    "answer = 0\n",
    "a,b,c = common[:3]\n",
    "a, b, c"
   ]
  },
  {
   "cell_type": "code",
   "execution_count": 41,
   "id": "c61f2f32",
   "metadata": {},
   "outputs": [
    {
     "name": "stdout",
     "output_type": "stream",
     "text": [
      "9\n"
     ]
    }
   ],
   "source": [
    "if (b-a) == (c-b):\n",
    "    print(common[-1] + (b-a))\n",
    "else:\n",
    "    print(common[-1] * (b//a))\n"
   ]
  },
  {
   "cell_type": "code",
   "execution_count": 44,
   "id": "2dac40e9",
   "metadata": {},
   "outputs": [
    {
     "data": {
      "text/plain": [
       "2"
      ]
     },
     "execution_count": 44,
     "metadata": {},
     "output_type": "execute_result"
    }
   ],
   "source": [
    "8//4"
   ]
  },
  {
   "cell_type": "code",
   "execution_count": 43,
   "id": "7860d188",
   "metadata": {},
   "outputs": [
    {
     "data": {
      "text/plain": [
       "2"
      ]
     },
     "execution_count": 43,
     "metadata": {},
     "output_type": "execute_result"
    }
   ],
   "source": [
    "4//2"
   ]
  },
  {
   "cell_type": "code",
   "execution_count": null,
   "id": "a110fce1",
   "metadata": {},
   "outputs": [],
   "source": []
  },
  {
   "cell_type": "code",
   "execution_count": null,
   "id": "7299629c",
   "metadata": {},
   "outputs": [],
   "source": []
  },
  {
   "cell_type": "code",
   "execution_count": null,
   "id": "9b31e10e",
   "metadata": {},
   "outputs": [],
   "source": []
  },
  {
   "cell_type": "code",
   "execution_count": null,
   "id": "f6e8cda7",
   "metadata": {},
   "outputs": [],
   "source": []
  },
  {
   "cell_type": "code",
   "execution_count": null,
   "id": "ae14f266",
   "metadata": {},
   "outputs": [],
   "source": []
  },
  {
   "cell_type": "code",
   "execution_count": null,
   "id": "619aeb0d",
   "metadata": {},
   "outputs": [],
   "source": []
  },
  {
   "cell_type": "code",
   "execution_count": null,
   "id": "8cda9bb1",
   "metadata": {},
   "outputs": [],
   "source": []
  },
  {
   "cell_type": "code",
   "execution_count": null,
   "id": "1c4db5b3",
   "metadata": {},
   "outputs": [],
   "source": []
  },
  {
   "cell_type": "code",
   "execution_count": null,
   "id": "9ddbf626",
   "metadata": {},
   "outputs": [],
   "source": []
  },
  {
   "cell_type": "code",
   "execution_count": null,
   "id": "a1c6023f",
   "metadata": {},
   "outputs": [],
   "source": []
  }
 ],
 "metadata": {
  "kernelspec": {
   "display_name": "hackerrank",
   "language": "python",
   "name": "hackerrank"
  },
  "language_info": {
   "codemirror_mode": {
    "name": "ipython",
    "version": 3
   },
   "file_extension": ".py",
   "mimetype": "text/x-python",
   "name": "python",
   "nbconvert_exporter": "python",
   "pygments_lexer": "ipython3",
   "version": "3.8.13"
  }
 },
 "nbformat": 4,
 "nbformat_minor": 5
}
