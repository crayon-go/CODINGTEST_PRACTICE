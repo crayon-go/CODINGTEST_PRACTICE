{
 "cells": [
  {
   "cell_type": "code",
   "execution_count": 1,
   "id": "f32e9f4d",
   "metadata": {},
   "outputs": [],
   "source": [
    "answer = ''\n",
    "seoul = [\"Jane\", \"Kim\"]"
   ]
  },
  {
   "cell_type": "code",
   "execution_count": 7,
   "id": "849c9d16",
   "metadata": {},
   "outputs": [
    {
     "data": {
      "text/plain": [
       "'김서방은 1에 있다'"
      ]
     },
     "execution_count": 7,
     "metadata": {},
     "output_type": "execute_result"
    }
   ],
   "source": [
    "answer = \"김서방은 \"+ str(seoul.index(\"Kim\")) +\"에 있다\"\n",
    "answer"
   ]
  },
  {
   "cell_type": "code",
   "execution_count": 9,
   "id": "ac3384dd",
   "metadata": {},
   "outputs": [
    {
     "data": {
      "text/plain": [
       "'김서방은 1에 있다'"
      ]
     },
     "execution_count": 9,
     "metadata": {},
     "output_type": "execute_result"
    }
   ],
   "source": [
    "answer = \"김서방은 {}에 있다\".format(seoul.index(\"Kim\"))\n",
    "answer"
   ]
  },
  {
   "cell_type": "code",
   "execution_count": null,
   "id": "bd387a12",
   "metadata": {},
   "outputs": [],
   "source": []
  },
  {
   "cell_type": "code",
   "execution_count": null,
   "id": "21371b7c",
   "metadata": {},
   "outputs": [],
   "source": []
  },
  {
   "cell_type": "code",
   "execution_count": null,
   "id": "2039a4c1",
   "metadata": {},
   "outputs": [],
   "source": []
  },
  {
   "cell_type": "code",
   "execution_count": 39,
   "id": "f2cca7e5",
   "metadata": {},
   "outputs": [],
   "source": [
    "arr = [5, 9, 7, 10]\n",
    "divisor = 5\n",
    "# [5, 10]"
   ]
  },
  {
   "cell_type": "code",
   "execution_count": 41,
   "id": "2c0e5c3e",
   "metadata": {},
   "outputs": [],
   "source": [
    "arr = [2, 36, 1, 3]\n",
    "divisor = 1\n",
    "# [1, 2, 3, 36]"
   ]
  },
  {
   "cell_type": "code",
   "execution_count": 43,
   "id": "66df80c6",
   "metadata": {},
   "outputs": [],
   "source": [
    "arr = [3,2,6]\n",
    "divisor = 10\n",
    "# [-1]"
   ]
  },
  {
   "cell_type": "code",
   "execution_count": 21,
   "id": "6be06a88",
   "metadata": {},
   "outputs": [
    {
     "data": {
      "text/plain": [
       "[-1]"
      ]
     },
     "execution_count": 21,
     "metadata": {},
     "output_type": "execute_result"
    }
   ],
   "source": [
    "arr_list = []\n",
    "for i in arr:\n",
    "    if i % divisor == 0:\n",
    "        arr_list.append(i)\n",
    "arr_list.sort()\n",
    "if not arr_list:\n",
    "    arr_list.append(-1)\n",
    "arr_list"
   ]
  },
  {
   "cell_type": "code",
   "execution_count": null,
   "id": "b081536d",
   "metadata": {},
   "outputs": [],
   "source": []
  },
  {
   "cell_type": "code",
   "execution_count": 45,
   "id": "059bb7d2",
   "metadata": {},
   "outputs": [
    {
     "data": {
      "text/plain": [
       "[-1]"
      ]
     },
     "execution_count": 45,
     "metadata": {},
     "output_type": "execute_result"
    }
   ],
   "source": [
    "sorted([n for n in arr if n%divisor == 0]) or [-1]"
   ]
  },
  {
   "cell_type": "code",
   "execution_count": 31,
   "id": "00f8961c",
   "metadata": {
    "scrolled": true
   },
   "outputs": [
    {
     "data": {
      "text/plain": [
       "0"
      ]
     },
     "execution_count": 31,
     "metadata": {},
     "output_type": "execute_result"
    }
   ],
   "source": [
    "(1 - 1) and True"
   ]
  },
  {
   "cell_type": "code",
   "execution_count": null,
   "id": "9dab1f19",
   "metadata": {},
   "outputs": [],
   "source": []
  },
  {
   "cell_type": "code",
   "execution_count": null,
   "id": "97f1dc3e",
   "metadata": {},
   "outputs": [],
   "source": []
  },
  {
   "cell_type": "code",
   "execution_count": null,
   "id": "64905eed",
   "metadata": {},
   "outputs": [],
   "source": []
  },
  {
   "cell_type": "code",
   "execution_count": null,
   "id": "e22d541f",
   "metadata": {},
   "outputs": [],
   "source": []
  }
 ],
 "metadata": {
  "kernelspec": {
   "display_name": "hackerrank",
   "language": "python",
   "name": "hackerrank"
  },
  "language_info": {
   "codemirror_mode": {
    "name": "ipython",
    "version": 3
   },
   "file_extension": ".py",
   "mimetype": "text/x-python",
   "name": "python",
   "nbconvert_exporter": "python",
   "pygments_lexer": "ipython3",
   "version": "3.9.12"
  }
 },
 "nbformat": 4,
 "nbformat_minor": 5
}
