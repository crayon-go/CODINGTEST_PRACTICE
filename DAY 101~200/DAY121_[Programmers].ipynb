{
 "cells": [
  {
   "cell_type": "code",
   "execution_count": 56,
   "id": "9fcee81f",
   "metadata": {},
   "outputs": [],
   "source": [
    "dots = [[1, 1], [2, 1], [2, 2], [1, 2]]\n",
    "# 1"
   ]
  },
  {
   "cell_type": "code",
   "execution_count": 68,
   "id": "9bd9182f",
   "metadata": {},
   "outputs": [],
   "source": [
    "dots = [[-1, -1], [1, 1], [1, -1], [-1, 1]]\n",
    "# 4"
   ]
  },
  {
   "cell_type": "code",
   "execution_count": null,
   "id": "8f64558f",
   "metadata": {},
   "outputs": [],
   "source": [
    "# [[x1, y1], [x2, y2], [x3, y3], [x4, y4]]"
   ]
  },
  {
   "cell_type": "code",
   "execution_count": 69,
   "id": "4428277c",
   "metadata": {},
   "outputs": [
    {
     "data": {
      "text/plain": [
       "2"
      ]
     },
     "execution_count": 69,
     "metadata": {},
     "output_type": "execute_result"
    }
   ],
   "source": [
    "answer = 0\n",
    "width = 0\n",
    "height = 0\n",
    "\n",
    "width_max = max(dots[0][0], dots[1][0], dots[2][0], dots[3][0])\n",
    "width_min = min(dots[0][0], dots[1][0], dots[2][0], dots[3][0])\n",
    "width = width_max - width_min\n",
    "\n",
    "height_max = max(dots[0][1], dots[1][1], dots[2][1], dots[3][1])\n",
    "height_min = min(dots[0][1], dots[1][1], dots[2][1], dots[3][1])\n",
    "height = height_max - height_min"
   ]
  },
  {
   "cell_type": "code",
   "execution_count": null,
   "id": "8c905b65",
   "metadata": {},
   "outputs": [],
   "source": []
  },
  {
   "cell_type": "code",
   "execution_count": 74,
   "id": "e8bcd028",
   "metadata": {},
   "outputs": [
    {
     "data": {
      "text/plain": [
       "4"
      ]
     },
     "execution_count": 74,
     "metadata": {},
     "output_type": "execute_result"
    }
   ],
   "source": [
    "(max(dots)[0] - min(dots)[0])*(max(dots)[1] - min(dots)[1])"
   ]
  },
  {
   "cell_type": "code",
   "execution_count": null,
   "id": "b12abba2",
   "metadata": {},
   "outputs": [],
   "source": []
  },
  {
   "cell_type": "code",
   "execution_count": null,
   "id": "1c311e19",
   "metadata": {},
   "outputs": [],
   "source": []
  },
  {
   "cell_type": "code",
   "execution_count": null,
   "id": "bd2638a8",
   "metadata": {},
   "outputs": [],
   "source": []
  },
  {
   "cell_type": "code",
   "execution_count": null,
   "id": "79fced47",
   "metadata": {},
   "outputs": [],
   "source": []
  }
 ],
 "metadata": {
  "kernelspec": {
   "display_name": "hackerrank",
   "language": "python",
   "name": "hackerrank"
  },
  "language_info": {
   "codemirror_mode": {
    "name": "ipython",
    "version": 3
   },
   "file_extension": ".py",
   "mimetype": "text/x-python",
   "name": "python",
   "nbconvert_exporter": "python",
   "pygments_lexer": "ipython3",
   "version": "3.9.12"
  }
 },
 "nbformat": 4,
 "nbformat_minor": 5
}
