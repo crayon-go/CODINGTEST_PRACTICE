{
 "cells": [
  {
   "cell_type": "code",
   "execution_count": 25,
   "id": "7436bc35",
   "metadata": {},
   "outputs": [],
   "source": [
    "answers = [1,2,3,4,5]\n",
    "# [1]"
   ]
  },
  {
   "cell_type": "code",
   "execution_count": 32,
   "id": "c0f68ec8",
   "metadata": {},
   "outputs": [],
   "source": [
    "answers = [1,3,2,4,2]\n",
    "# [1,2,3]"
   ]
  },
  {
   "cell_type": "code",
   "execution_count": 33,
   "id": "1e69f462",
   "metadata": {},
   "outputs": [],
   "source": [
    "person = [0] * 3"
   ]
  },
  {
   "cell_type": "code",
   "execution_count": 34,
   "id": "984b8837",
   "metadata": {},
   "outputs": [],
   "source": [
    "answer = []\n",
    "person = [0] * 3 # 3명의 수포자가 맞춘 개수를 넣을 리스트\n",
    "a1 = [1, 2, 3, 4, 5]\n",
    "a2 = [2, 1, 2, 3, 2, 4, 2, 5]\n",
    "a3 = [3, 3, 1, 1, 2, 2, 4, 4, 5, 5]"
   ]
  },
  {
   "cell_type": "code",
   "execution_count": 35,
   "id": "733aee8c",
   "metadata": {},
   "outputs": [],
   "source": [
    "for i in range(len(answers)):\n",
    "    if answers[i] == a1[i%5]:\n",
    "        person[0] += 1\n",
    "    if answers[i] == a2[i%8]:\n",
    "        person[1] += 1\n",
    "    if answers[i] == a3[i%10]:\n",
    "        person[2] += 1"
   ]
  },
  {
   "cell_type": "code",
   "execution_count": 36,
   "id": "d722e52a",
   "metadata": {},
   "outputs": [
    {
     "data": {
      "text/plain": [
       "[2, 2, 2]"
      ]
     },
     "execution_count": 36,
     "metadata": {},
     "output_type": "execute_result"
    }
   ],
   "source": [
    "person"
   ]
  },
  {
   "cell_type": "code",
   "execution_count": 40,
   "id": "9dfcaa72",
   "metadata": {},
   "outputs": [
    {
     "name": "stdout",
     "output_type": "stream",
     "text": [
      "0\n",
      "1\n",
      "2\n"
     ]
    },
    {
     "data": {
      "text/plain": [
       "[1, 2, 3, 1, 2, 3, 1, 2, 3]"
      ]
     },
     "execution_count": 40,
     "metadata": {},
     "output_type": "execute_result"
    }
   ],
   "source": [
    "winner = max(person)\n",
    "\n",
    "# 가장 많이 맞춘 사람을 넣는 코드 (공동 1등이 나올 수 있으므로)\n",
    "for i in range(len(person)):\n",
    "    if person[i] == winner:\n",
    "        answer.append(i+1)\n",
    "answer"
   ]
  },
  {
   "cell_type": "code",
   "execution_count": 38,
   "id": "825c2821",
   "metadata": {},
   "outputs": [
    {
     "data": {
      "text/plain": [
       "0"
      ]
     },
     "execution_count": 38,
     "metadata": {},
     "output_type": "execute_result"
    }
   ],
   "source": [
    "len(ans2) % 2"
   ]
  },
  {
   "cell_type": "code",
   "execution_count": null,
   "id": "8f5399db",
   "metadata": {},
   "outputs": [],
   "source": []
  },
  {
   "cell_type": "code",
   "execution_count": null,
   "id": "09acb37d",
   "metadata": {},
   "outputs": [],
   "source": []
  },
  {
   "cell_type": "code",
   "execution_count": null,
   "id": "445d8f96",
   "metadata": {},
   "outputs": [],
   "source": []
  },
  {
   "cell_type": "code",
   "execution_count": 3,
   "id": "3ba46cae",
   "metadata": {},
   "outputs": [],
   "source": [
    "answers = [1,2,3,4,5]\n",
    "# [1]"
   ]
  },
  {
   "cell_type": "code",
   "execution_count": 1,
   "id": "b72bdf20",
   "metadata": {},
   "outputs": [],
   "source": [
    "pattern1 = [1,2,3,4,5]\n",
    "pattern2 = [2,1,2,3,2,4,2,5]\n",
    "pattern3 = [3,3,1,1,2,2,4,4,5,5]\n",
    "score = [0, 0, 0]\n",
    "result = []"
   ]
  },
  {
   "cell_type": "code",
   "execution_count": 4,
   "id": "33032523",
   "metadata": {},
   "outputs": [],
   "source": [
    "for idx, answer in enumerate(answers):\n",
    "    if answer == pattern1[idx%len(pattern1)]:\n",
    "        score[0] += 1\n",
    "    if answer == pattern2[idx%len(pattern2)]:\n",
    "        score[1] += 1\n",
    "    if answer == pattern3[idx%len(pattern3)]:\n",
    "        score[2] += 1"
   ]
  },
  {
   "cell_type": "code",
   "execution_count": 5,
   "id": "c4650d0f",
   "metadata": {},
   "outputs": [
    {
     "data": {
      "text/plain": [
       "[1]"
      ]
     },
     "execution_count": 5,
     "metadata": {},
     "output_type": "execute_result"
    }
   ],
   "source": [
    "for idx, s in enumerate(score):\n",
    "    if s == max(score):\n",
    "        result.append(idx+1)\n",
    "\n",
    "result"
   ]
  },
  {
   "cell_type": "code",
   "execution_count": null,
   "id": "3a675b0f",
   "metadata": {},
   "outputs": [],
   "source": []
  },
  {
   "cell_type": "code",
   "execution_count": null,
   "id": "41ee6c24",
   "metadata": {},
   "outputs": [],
   "source": []
  },
  {
   "cell_type": "code",
   "execution_count": null,
   "id": "2f059e50",
   "metadata": {},
   "outputs": [],
   "source": []
  },
  {
   "cell_type": "code",
   "execution_count": null,
   "id": "31a459c4",
   "metadata": {},
   "outputs": [],
   "source": []
  },
  {
   "cell_type": "code",
   "execution_count": 1,
   "id": "3988ee76",
   "metadata": {},
   "outputs": [],
   "source": [
    "answers = [1,2,3,4,5]\n",
    "# [1]"
   ]
  },
  {
   "cell_type": "code",
   "execution_count": 2,
   "id": "51efcc2d",
   "metadata": {},
   "outputs": [
    {
     "data": {
      "text/plain": [
       "[1]"
      ]
     },
     "execution_count": 2,
     "metadata": {},
     "output_type": "execute_result"
    }
   ],
   "source": [
    "p = [[1, 2, 3, 4, 5],\n",
    "     [2, 1, 2, 3, 2, 4, 2, 5],\n",
    "     [3, 3, 1, 1, 2, 2, 4, 4, 5, 5]]\n",
    "s = [0] * len(p)\n",
    "\n",
    "for q, a in enumerate(answers):\n",
    "    for i, v in enumerate(p):\n",
    "        if a == v[q % len(v)]:\n",
    "            s[i] += 1\n",
    "[i + 1 for i, v in enumerate(s) if v == max(s)]"
   ]
  },
  {
   "cell_type": "code",
   "execution_count": null,
   "id": "5735d007",
   "metadata": {},
   "outputs": [],
   "source": []
  },
  {
   "cell_type": "code",
   "execution_count": null,
   "id": "62ffd2e4",
   "metadata": {},
   "outputs": [],
   "source": []
  }
 ],
 "metadata": {
  "kernelspec": {
   "display_name": "hackerrank",
   "language": "python",
   "name": "hackerrank"
  },
  "language_info": {
   "codemirror_mode": {
    "name": "ipython",
    "version": 3
   },
   "file_extension": ".py",
   "mimetype": "text/x-python",
   "name": "python",
   "nbconvert_exporter": "python",
   "pygments_lexer": "ipython3",
   "version": "3.9.12"
  }
 },
 "nbformat": 4,
 "nbformat_minor": 5
}
