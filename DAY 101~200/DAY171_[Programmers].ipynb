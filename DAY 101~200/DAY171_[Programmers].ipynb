{
 "cells": [
  {
   "cell_type": "code",
   "execution_count": 47,
   "id": "23a4f031",
   "metadata": {},
   "outputs": [],
   "source": [
    "food = [1, 3, 4, 6]\n",
    "# \"1223330333221\""
   ]
  },
  {
   "cell_type": "code",
   "execution_count": 51,
   "id": "29ac682f",
   "metadata": {},
   "outputs": [],
   "source": [
    "food = [1, 7, 1, 2]\n",
    "# \"111303111\""
   ]
  },
  {
   "cell_type": "code",
   "execution_count": 52,
   "id": "f76b3c59",
   "metadata": {},
   "outputs": [],
   "source": [
    "food2 = ''\n",
    "answer = ''\n",
    "\n",
    "for idx, i in enumerate(food):\n",
    "    if idx == 0:\n",
    "        continue\n",
    "    food2 += str(idx) * int(i/2)\n",
    "\n",
    "answer += food2 + '0' + food2[::-1]"
   ]
  },
  {
   "cell_type": "code",
   "execution_count": 54,
   "id": "513d1032",
   "metadata": {},
   "outputs": [
    {
     "data": {
      "text/plain": [
       "'111303111'"
      ]
     },
     "execution_count": 54,
     "metadata": {},
     "output_type": "execute_result"
    }
   ],
   "source": [
    "answer"
   ]
  },
  {
   "cell_type": "code",
   "execution_count": 55,
   "id": "0bfb0f6b",
   "metadata": {},
   "outputs": [],
   "source": [
    "answer =\"0\"\n",
    "for i in range(len(food)-1, 0,-1):\n",
    "    c = int(food[i]/2)\n",
    "    while c > 0:\n",
    "        answer = str(i) + answer + str(i)\n",
    "        c -= 1"
   ]
  },
  {
   "cell_type": "code",
   "execution_count": 56,
   "id": "18807fb1",
   "metadata": {},
   "outputs": [
    {
     "data": {
      "text/plain": [
       "'111303111'"
      ]
     },
     "execution_count": 56,
     "metadata": {},
     "output_type": "execute_result"
    }
   ],
   "source": [
    "answer"
   ]
  },
  {
   "cell_type": "code",
   "execution_count": null,
   "id": "5c5306f5",
   "metadata": {},
   "outputs": [],
   "source": []
  }
 ],
 "metadata": {
  "kernelspec": {
   "display_name": "hackerrank",
   "language": "python",
   "name": "hackerrank"
  },
  "language_info": {
   "codemirror_mode": {
    "name": "ipython",
    "version": 3
   },
   "file_extension": ".py",
   "mimetype": "text/x-python",
   "name": "python",
   "nbconvert_exporter": "python",
   "pygments_lexer": "ipython3",
   "version": "3.9.12"
  }
 },
 "nbformat": 4,
 "nbformat_minor": 5
}
