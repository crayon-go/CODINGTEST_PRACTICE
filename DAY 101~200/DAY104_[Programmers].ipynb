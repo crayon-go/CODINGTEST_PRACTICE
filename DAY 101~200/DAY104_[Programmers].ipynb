{
 "cells": [
  {
   "cell_type": "code",
   "execution_count": 46,
   "id": "7a0854a4",
   "metadata": {},
   "outputs": [],
   "source": [
    "s = \"1 2 Z 3\"\n",
    "# 4"
   ]
  },
  {
   "cell_type": "code",
   "execution_count": 44,
   "id": "da476347",
   "metadata": {},
   "outputs": [],
   "source": [
    "s = \"10 20 30 40\"\n",
    "# 100"
   ]
  },
  {
   "cell_type": "code",
   "execution_count": 37,
   "id": "65f55bfc",
   "metadata": {},
   "outputs": [],
   "source": [
    "s = \"10 Z 20 Z 1\"\n",
    "# 1"
   ]
  },
  {
   "cell_type": "code",
   "execution_count": 65,
   "id": "b17a5250",
   "metadata": {},
   "outputs": [
    {
     "data": {
      "text/plain": [
       "4"
      ]
     },
     "execution_count": 65,
     "metadata": {},
     "output_type": "execute_result"
    }
   ],
   "source": [
    "stack = []\n",
    "\n",
    "for data in s.split():\n",
    "    try:\n",
    "        num = int(data)\n",
    "        stack.append(num)\n",
    "    except:\n",
    "        if stack:\n",
    "            pop_data = stack.pop()\n",
    "\n",
    "sum(stack)"
   ]
  },
  {
   "cell_type": "code",
   "execution_count": null,
   "id": "8eb2e8d2",
   "metadata": {},
   "outputs": [],
   "source": []
  },
  {
   "cell_type": "code",
   "execution_count": 66,
   "id": "55c212f6",
   "metadata": {},
   "outputs": [
    {
     "data": {
      "text/plain": [
       "4"
      ]
     },
     "execution_count": 66,
     "metadata": {},
     "output_type": "execute_result"
    }
   ],
   "source": [
    "arr = s.split(' ')\n",
    "result = []\n",
    "for i in arr:\n",
    "    if i == 'Z':\n",
    "        result.pop()\n",
    "    else:\n",
    "        result.append(int(i))\n",
    "sum(result)"
   ]
  },
  {
   "cell_type": "code",
   "execution_count": null,
   "id": "21d6136a",
   "metadata": {},
   "outputs": [],
   "source": []
  },
  {
   "cell_type": "code",
   "execution_count": null,
   "id": "bdaa5847",
   "metadata": {},
   "outputs": [],
   "source": []
  },
  {
   "cell_type": "code",
   "execution_count": null,
   "id": "119cc7e2",
   "metadata": {},
   "outputs": [],
   "source": []
  },
  {
   "cell_type": "code",
   "execution_count": null,
   "id": "1fb975b5",
   "metadata": {},
   "outputs": [],
   "source": []
  },
  {
   "cell_type": "code",
   "execution_count": null,
   "id": "e7058cbf",
   "metadata": {},
   "outputs": [],
   "source": []
  },
  {
   "cell_type": "code",
   "execution_count": null,
   "id": "7ed578dc",
   "metadata": {},
   "outputs": [],
   "source": []
  },
  {
   "cell_type": "code",
   "execution_count": null,
   "id": "0d03be52",
   "metadata": {},
   "outputs": [],
   "source": []
  }
 ],
 "metadata": {
  "kernelspec": {
   "display_name": "hackerrank",
   "language": "python",
   "name": "hackerrank"
  },
  "language_info": {
   "codemirror_mode": {
    "name": "ipython",
    "version": 3
   },
   "file_extension": ".py",
   "mimetype": "text/x-python",
   "name": "python",
   "nbconvert_exporter": "python",
   "pygments_lexer": "ipython3",
   "version": "3.9.12"
  }
 },
 "nbformat": 4,
 "nbformat_minor": 5
}
