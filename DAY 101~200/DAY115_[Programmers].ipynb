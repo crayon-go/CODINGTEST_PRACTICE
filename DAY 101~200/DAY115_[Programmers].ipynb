{
 "cells": [
  {
   "cell_type": "code",
   "execution_count": 1,
   "id": "20e8ea4f",
   "metadata": {},
   "outputs": [],
   "source": [
    "num = 3\n",
    "total = 12\n",
    "# [3, 4, 5]"
   ]
  },
  {
   "cell_type": "code",
   "execution_count": 3,
   "id": "d66f0c2f",
   "metadata": {},
   "outputs": [],
   "source": [
    "num = 5\n",
    "total = 15\n",
    "# [1, 2, 3, 4, 5]"
   ]
  },
  {
   "cell_type": "code",
   "execution_count": 5,
   "id": "cb25f740",
   "metadata": {},
   "outputs": [],
   "source": [
    "num = 4\n",
    "total = 14\n",
    "# [2, 3, 4, 5]"
   ]
  },
  {
   "cell_type": "code",
   "execution_count": 1,
   "id": "23215067",
   "metadata": {},
   "outputs": [],
   "source": [
    "num = 5\n",
    "total = 5\n",
    "# [-1, 0, 1, 2, 3]"
   ]
  },
  {
   "cell_type": "code",
   "execution_count": 1,
   "id": "a5171fa3",
   "metadata": {},
   "outputs": [],
   "source": [
    "num = 3\n",
    "total = 0\n",
    "# [-1, 0, 1]"
   ]
  },
  {
   "cell_type": "code",
   "execution_count": 2,
   "id": "7b1f648d",
   "metadata": {},
   "outputs": [
    {
     "name": "stdout",
     "output_type": "stream",
     "text": [
      "aaaa\n",
      "0\n",
      "0\n",
      "-------------------\n",
      "1\n",
      "1\n",
      "-------------------\n",
      "2\n",
      "3\n",
      "-------------------\n",
      "aaaa\n",
      "-1\n",
      "-1\n",
      "-------------------\n",
      "0\n",
      "-1\n",
      "-------------------\n",
      "1\n",
      "0\n",
      "-------------------\n"
     ]
    }
   ],
   "source": [
    "n_cnt = 0\n",
    "answer = []\n",
    "\n",
    "while True:\n",
    "    sum_list = []\n",
    "    \n",
    "    if num >= total:\n",
    "        print(\"aaaa\")\n",
    "        for i in range(n_cnt, n_cnt+num):\n",
    "            sum_list.append(i)\n",
    "            print(i)\n",
    "            print(sum(sum_list))\n",
    "            print(\"-------------------\")\n",
    "        if sum(sum_list) == total:\n",
    "            answer = sum_list\n",
    "            break\n",
    "        else:\n",
    "            n_cnt -= 1\n",
    "            \n",
    "    elif num != total:\n",
    "        for i in range(n_cnt, n_cnt+num):\n",
    "            sum_list.append(i)\n",
    "            print(i)\n",
    "        print(\"----------\")\n",
    "        print(sum(sum_list))\n",
    "        if sum(sum_list) == total:\n",
    "            answer = sum_list\n",
    "            break\n",
    "        else:\n",
    "            n_cnt += 1"
   ]
  },
  {
   "cell_type": "code",
   "execution_count": null,
   "id": "b36e6ffc",
   "metadata": {},
   "outputs": [],
   "source": []
  },
  {
   "cell_type": "code",
   "execution_count": 1,
   "id": "232142c3",
   "metadata": {},
   "outputs": [],
   "source": [
    "num = 3\n",
    "total = 12\n",
    "# [3, 4, 5]"
   ]
  },
  {
   "cell_type": "code",
   "execution_count": 4,
   "id": "d31cf86c",
   "metadata": {},
   "outputs": [
    {
     "data": {
      "text/plain": [
       "6"
      ]
     },
     "execution_count": 4,
     "metadata": {},
     "output_type": "execute_result"
    }
   ],
   "source": [
    "answer = []\n",
    "var = sum(range(num+1))\n",
    "var"
   ]
  },
  {
   "cell_type": "code",
   "execution_count": 8,
   "id": "f4c93f01",
   "metadata": {},
   "outputs": [
    {
     "data": {
      "text/plain": [
       "6"
      ]
     },
     "execution_count": 8,
     "metadata": {},
     "output_type": "execute_result"
    }
   ],
   "source": [
    "diff = total - var\n",
    "diff"
   ]
  },
  {
   "cell_type": "code",
   "execution_count": 9,
   "id": "dad6eb5a",
   "metadata": {},
   "outputs": [
    {
     "data": {
      "text/plain": [
       "2"
      ]
     },
     "execution_count": 9,
     "metadata": {},
     "output_type": "execute_result"
    }
   ],
   "source": [
    "start_num = diff//num\n",
    "start_num"
   ]
  },
  {
   "cell_type": "code",
   "execution_count": 10,
   "id": "d8afae11",
   "metadata": {},
   "outputs": [
    {
     "name": "stdout",
     "output_type": "stream",
     "text": [
      "[3, 4, 5]\n"
     ]
    }
   ],
   "source": [
    "answer = [i+1+start_num for i in range(num)]\n",
    "print(answer)"
   ]
  },
  {
   "cell_type": "code",
   "execution_count": null,
   "id": "0ea6a975",
   "metadata": {},
   "outputs": [],
   "source": []
  },
  {
   "cell_type": "code",
   "execution_count": null,
   "id": "7951e7dd",
   "metadata": {},
   "outputs": [],
   "source": []
  },
  {
   "cell_type": "code",
   "execution_count": null,
   "id": "97cb7015",
   "metadata": {},
   "outputs": [],
   "source": []
  },
  {
   "cell_type": "code",
   "execution_count": null,
   "id": "0f734405",
   "metadata": {},
   "outputs": [],
   "source": []
  },
  {
   "cell_type": "code",
   "execution_count": null,
   "id": "1acb8de5",
   "metadata": {},
   "outputs": [],
   "source": []
  }
 ],
 "metadata": {
  "kernelspec": {
   "display_name": "hackerrank",
   "language": "python",
   "name": "hackerrank"
  },
  "language_info": {
   "codemirror_mode": {
    "name": "ipython",
    "version": 3
   },
   "file_extension": ".py",
   "mimetype": "text/x-python",
   "name": "python",
   "nbconvert_exporter": "python",
   "pygments_lexer": "ipython3",
   "version": "3.8.13"
  }
 },
 "nbformat": 4,
 "nbformat_minor": 5
}
