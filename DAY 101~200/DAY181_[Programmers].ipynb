{
 "cells": [
  {
   "cell_type": "code",
   "execution_count": 6,
   "id": "24894ccf",
   "metadata": {},
   "outputs": [],
   "source": [
    "dartResult = '1S2D*3T'\n",
    "# 37"
   ]
  },
  {
   "cell_type": "code",
   "execution_count": null,
   "id": "5af4c14e",
   "metadata": {},
   "outputs": [],
   "source": [
    "dartResult = '1D2S#10S'\n",
    "# 9"
   ]
  },
  {
   "cell_type": "code",
   "execution_count": null,
   "id": "7c661c87",
   "metadata": {},
   "outputs": [],
   "source": [
    "dartResult = '1D2S0T'\n",
    "# 3"
   ]
  },
  {
   "cell_type": "code",
   "execution_count": null,
   "id": "2ab21bc6",
   "metadata": {},
   "outputs": [],
   "source": [
    "dartResult = '1S*2T*3S'\n",
    "# 23"
   ]
  },
  {
   "cell_type": "code",
   "execution_count": null,
   "id": "30b8526d",
   "metadata": {},
   "outputs": [],
   "source": [
    "dartResult = '1D#2S*3S'\n",
    "# 5"
   ]
  },
  {
   "cell_type": "code",
   "execution_count": null,
   "id": "5e9fe8d1",
   "metadata": {},
   "outputs": [],
   "source": [
    "dartResult = '1T2D3D#'\n",
    "# -4"
   ]
  },
  {
   "cell_type": "code",
   "execution_count": null,
   "id": "17b813c6",
   "metadata": {},
   "outputs": [],
   "source": [
    "dartResult = '1D2S3T*'\n",
    "# 59"
   ]
  },
  {
   "cell_type": "code",
   "execution_count": 2,
   "id": "f3b27d4c",
   "metadata": {},
   "outputs": [],
   "source": [
    "bonus = ['S', 'D', 'T']\n",
    "options = ['*', '#']"
   ]
  },
  {
   "cell_type": "code",
   "execution_count": 1,
   "id": "7117d465",
   "metadata": {},
   "outputs": [],
   "source": [
    "def solution(dartResult):\n",
    "    stack = []\n",
    "    dartResult = dartResult.replace(\"10\", \"A\")\n",
    "    bonus = {'S': 1, 'D': 2, 'T': 3}\n",
    "    \n",
    "    for i in dartResult:\n",
    "        if i.isdigit() or i=='A':\n",
    "            stack.append(10 if i == 'A' else int(i))\n",
    "        elif i in ('S', 'D', 'T'):\n",
    "            num = stack.pop()\n",
    "            stack.append(num ** bonus[i])\n",
    "        elif i == '#':\n",
    "            stack[-1] *= -1\n",
    "        elif i == '*':\n",
    "            num = stack.pop()\n",
    "            if len(stack):\n",
    "                stack[-1] *= 2\n",
    "            stack.append(2 * num)\n",
    "    return sum(stack)"
   ]
  },
  {
   "cell_type": "code",
   "execution_count": null,
   "id": "4c6c0efd",
   "metadata": {},
   "outputs": [],
   "source": []
  },
  {
   "cell_type": "code",
   "execution_count": null,
   "id": "c4d2e535",
   "metadata": {},
   "outputs": [],
   "source": []
  },
  {
   "cell_type": "code",
   "execution_count": null,
   "id": "14ef918c",
   "metadata": {},
   "outputs": [],
   "source": []
  },
  {
   "cell_type": "code",
   "execution_count": null,
   "id": "5f1803f0",
   "metadata": {},
   "outputs": [],
   "source": []
  },
  {
   "cell_type": "code",
   "execution_count": null,
   "id": "6b5563cf",
   "metadata": {},
   "outputs": [],
   "source": []
  }
 ],
 "metadata": {
  "kernelspec": {
   "display_name": "hackerrank",
   "language": "python",
   "name": "hackerrank"
  },
  "language_info": {
   "codemirror_mode": {
    "name": "ipython",
    "version": 3
   },
   "file_extension": ".py",
   "mimetype": "text/x-python",
   "name": "python",
   "nbconvert_exporter": "python",
   "pygments_lexer": "ipython3",
   "version": "3.9.12"
  }
 },
 "nbformat": 4,
 "nbformat_minor": 5
}
