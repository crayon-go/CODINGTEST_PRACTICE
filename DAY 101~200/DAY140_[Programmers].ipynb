{
 "cells": [
  {
   "cell_type": "code",
   "execution_count": 1,
   "id": "84e8c850",
   "metadata": {},
   "outputs": [],
   "source": [
    "n = 118372\n",
    "# 873211"
   ]
  },
  {
   "cell_type": "code",
   "execution_count": null,
   "id": "cbbbad36",
   "metadata": {},
   "outputs": [],
   "source": []
  },
  {
   "cell_type": "code",
   "execution_count": 17,
   "id": "e38b51a7",
   "metadata": {},
   "outputs": [],
   "source": [
    "nn = sorted([i for i in str(n)], reverse=True)\n",
    "\n",
    "str_n = ''\n",
    "for i in nn:\n",
    "    str_n += i\n",
    "answer = int(str_n)\n",
    "    "
   ]
  },
  {
   "cell_type": "code",
   "execution_count": null,
   "id": "909af410",
   "metadata": {},
   "outputs": [],
   "source": []
  },
  {
   "cell_type": "code",
   "execution_count": 19,
   "id": "9f681c8f",
   "metadata": {},
   "outputs": [
    {
     "data": {
      "text/plain": [
       "873211"
      ]
     },
     "execution_count": 19,
     "metadata": {},
     "output_type": "execute_result"
    }
   ],
   "source": [
    "ls = list(str(n))\n",
    "ls.sort(reverse = True)\n",
    "int(\"\".join(ls))"
   ]
  },
  {
   "cell_type": "code",
   "execution_count": 28,
   "id": "26ab3b7b",
   "metadata": {},
   "outputs": [
    {
     "data": {
      "text/plain": [
       "['1', '1', '8', '3', '7', '2']"
      ]
     },
     "execution_count": 28,
     "metadata": {},
     "output_type": "execute_result"
    }
   ],
   "source": [
    "ls = list(str(n))\n",
    "ls"
   ]
  },
  {
   "cell_type": "code",
   "execution_count": 29,
   "id": "38484be0",
   "metadata": {},
   "outputs": [
    {
     "data": {
      "text/plain": [
       "['8', '7', '3', '2', '1', '1']"
      ]
     },
     "execution_count": 29,
     "metadata": {},
     "output_type": "execute_result"
    }
   ],
   "source": [
    "ls.sort(reverse=True)\n",
    "ls"
   ]
  },
  {
   "cell_type": "code",
   "execution_count": 30,
   "id": "242911f1",
   "metadata": {},
   "outputs": [
    {
     "data": {
      "text/plain": [
       "'873211'"
      ]
     },
     "execution_count": 30,
     "metadata": {},
     "output_type": "execute_result"
    }
   ],
   "source": [
    "\"\".join(ls)"
   ]
  },
  {
   "cell_type": "code",
   "execution_count": null,
   "id": "dac346e9",
   "metadata": {},
   "outputs": [],
   "source": []
  },
  {
   "cell_type": "code",
   "execution_count": null,
   "id": "b780d532",
   "metadata": {},
   "outputs": [],
   "source": []
  }
 ],
 "metadata": {
  "kernelspec": {
   "display_name": "hackerrank",
   "language": "python",
   "name": "hackerrank"
  },
  "language_info": {
   "codemirror_mode": {
    "name": "ipython",
    "version": 3
   },
   "file_extension": ".py",
   "mimetype": "text/x-python",
   "name": "python",
   "nbconvert_exporter": "python",
   "pygments_lexer": "ipython3",
   "version": "3.8.13"
  }
 },
 "nbformat": 4,
 "nbformat_minor": 5
}
