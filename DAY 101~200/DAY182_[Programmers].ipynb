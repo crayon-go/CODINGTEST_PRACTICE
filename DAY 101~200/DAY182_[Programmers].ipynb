{
 "cells": [
  {
   "cell_type": "code",
   "execution_count": 2,
   "id": "24894ccf",
   "metadata": {},
   "outputs": [],
   "source": [
    "dartResult = '1S2D*3T'\n",
    "# 37"
   ]
  },
  {
   "cell_type": "code",
   "execution_count": null,
   "id": "5af4c14e",
   "metadata": {},
   "outputs": [],
   "source": [
    "dartResult = '1D2S#10S'\n",
    "# 9"
   ]
  },
  {
   "cell_type": "code",
   "execution_count": null,
   "id": "7c661c87",
   "metadata": {},
   "outputs": [],
   "source": [
    "dartResult = '1D2S0T'\n",
    "# 3"
   ]
  },
  {
   "cell_type": "code",
   "execution_count": null,
   "id": "2ab21bc6",
   "metadata": {},
   "outputs": [],
   "source": [
    "dartResult = '1S*2T*3S'\n",
    "# 23"
   ]
  },
  {
   "cell_type": "code",
   "execution_count": null,
   "id": "30b8526d",
   "metadata": {},
   "outputs": [],
   "source": [
    "dartResult = '1D#2S*3S'\n",
    "# 5"
   ]
  },
  {
   "cell_type": "code",
   "execution_count": null,
   "id": "5e9fe8d1",
   "metadata": {},
   "outputs": [],
   "source": [
    "dartResult = '1T2D3D#'\n",
    "# -4"
   ]
  },
  {
   "cell_type": "code",
   "execution_count": null,
   "id": "17b813c6",
   "metadata": {},
   "outputs": [],
   "source": [
    "dartResult = '1D2S3T*'\n",
    "# 59"
   ]
  },
  {
   "cell_type": "code",
   "execution_count": 2,
   "id": "f3b27d4c",
   "metadata": {},
   "outputs": [],
   "source": [
    "stack = []\n",
    "dartResult = dartResult.replace(\"10\", \"A\")\n",
    "bonus = {'S': 1, 'D': 2, 'T': 3}\n",
    "\n",
    "for i in dartResult:\n",
    "    print(i)\n",
    "    if i.isdigit() or i=='A':\n",
    "        stack.append(10 if i == 'A' else int(i))\n",
    "    elif i in ('S', 'D', 'T'):\n",
    "        num = stack.pop()\n",
    "        stack.append(num ** bonus[i])\n",
    "    elif i == '#':\n",
    "        stack[-1] *= -1\n",
    "    elif i == '*':\n",
    "        num = stack.pop()\n",
    "        if len(stack):\n",
    "            stack[-1] *= 2\n",
    "        stack.append(2 * num)\n",
    "sum(stack)"
   ]
  },
  {
   "cell_type": "code",
   "execution_count": null,
   "id": "c4db55f2",
   "metadata": {},
   "outputs": [],
   "source": []
  },
  {
   "cell_type": "code",
   "execution_count": null,
   "id": "67090d68",
   "metadata": {},
   "outputs": [],
   "source": []
  },
  {
   "cell_type": "code",
   "execution_count": 19,
   "id": "e22cf203",
   "metadata": {},
   "outputs": [],
   "source": [
    "import re\n"
   ]
  },
  {
   "cell_type": "code",
   "execution_count": 20,
   "id": "ffaff3a4",
   "metadata": {},
   "outputs": [],
   "source": [
    "bonus = {'S' : 1, 'D' : 2, 'T' : 3}\n",
    "option = {'' : 1, '*' : 2, '#' : -1}\n"
   ]
  },
  {
   "cell_type": "code",
   "execution_count": 25,
   "id": "27b3b2f2",
   "metadata": {},
   "outputs": [
    {
     "data": {
      "text/plain": [
       "re.compile(r'(\\d+)([SDT])([*#]?)', re.UNICODE)"
      ]
     },
     "execution_count": 25,
     "metadata": {},
     "output_type": "execute_result"
    }
   ],
   "source": [
    "p = re.compile('(\\d+)([SDT])([*#]?)')\n",
    "p"
   ]
  },
  {
   "cell_type": "code",
   "execution_count": 28,
   "id": "2fb23930",
   "metadata": {},
   "outputs": [
    {
     "data": {
      "text/plain": [
       "'1S2D*3T'"
      ]
     },
     "execution_count": 28,
     "metadata": {},
     "output_type": "execute_result"
    }
   ],
   "source": [
    "dartResult"
   ]
  },
  {
   "cell_type": "code",
   "execution_count": 26,
   "id": "d614b7a8",
   "metadata": {},
   "outputs": [
    {
     "data": {
      "text/plain": [
       "[('1', 'S', ''), ('2', 'D', '*'), ('3', 'T', '')]"
      ]
     },
     "execution_count": 26,
     "metadata": {},
     "output_type": "execute_result"
    }
   ],
   "source": [
    "dart = p.findall(dartResult)\n",
    "dart"
   ]
  },
  {
   "cell_type": "code",
   "execution_count": 27,
   "id": "dd89da71",
   "metadata": {},
   "outputs": [
    {
     "data": {
      "text/plain": [
       "'1S2D*3T'"
      ]
     },
     "execution_count": 27,
     "metadata": {},
     "output_type": "execute_result"
    }
   ],
   "source": []
  },
  {
   "cell_type": "code",
   "execution_count": null,
   "id": "5f99f68c",
   "metadata": {},
   "outputs": [],
   "source": [
    "\n",
    "\n",
    "for i in range(len(dart)):\n",
    "    if dart[i][2] == '*' and i > 0:\n",
    "        dart[i-1] *= 2\n",
    "    dart[i] = int(dart[i][0]) ** bonus[dart[i][1]] * option[dart[i][2]]\n",
    "\n",
    "answer = sum(dart)\n"
   ]
  },
  {
   "cell_type": "code",
   "execution_count": null,
   "id": "d41308fe",
   "metadata": {},
   "outputs": [],
   "source": []
  },
  {
   "cell_type": "code",
   "execution_count": null,
   "id": "55478f1c",
   "metadata": {},
   "outputs": [],
   "source": []
  },
  {
   "cell_type": "code",
   "execution_count": null,
   "id": "adf3a0ee",
   "metadata": {},
   "outputs": [],
   "source": []
  },
  {
   "cell_type": "code",
   "execution_count": null,
   "id": "4d8ccb6c",
   "metadata": {},
   "outputs": [],
   "source": []
  },
  {
   "cell_type": "code",
   "execution_count": null,
   "id": "ad7c30f1",
   "metadata": {},
   "outputs": [],
   "source": []
  },
  {
   "cell_type": "code",
   "execution_count": null,
   "id": "cbfaa74b",
   "metadata": {},
   "outputs": [],
   "source": []
  },
  {
   "cell_type": "code",
   "execution_count": null,
   "id": "332983c1",
   "metadata": {},
   "outputs": [],
   "source": []
  },
  {
   "cell_type": "code",
   "execution_count": null,
   "id": "c538a15e",
   "metadata": {},
   "outputs": [],
   "source": []
  },
  {
   "cell_type": "code",
   "execution_count": null,
   "id": "e0a07abe",
   "metadata": {},
   "outputs": [],
   "source": []
  },
  {
   "cell_type": "code",
   "execution_count": null,
   "id": "1a0322d6",
   "metadata": {},
   "outputs": [],
   "source": []
  },
  {
   "cell_type": "code",
   "execution_count": null,
   "id": "6b5563cf",
   "metadata": {},
   "outputs": [],
   "source": []
  }
 ],
 "metadata": {
  "kernelspec": {
   "display_name": "hackerrank",
   "language": "python",
   "name": "hackerrank"
  },
  "language_info": {
   "codemirror_mode": {
    "name": "ipython",
    "version": 3
   },
   "file_extension": ".py",
   "mimetype": "text/x-python",
   "name": "python",
   "nbconvert_exporter": "python",
   "pygments_lexer": "ipython3",
   "version": "3.9.12"
  }
 },
 "nbformat": 4,
 "nbformat_minor": 5
}
