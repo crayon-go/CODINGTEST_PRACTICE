{
 "cells": [
  {
   "cell_type": "code",
   "execution_count": 37,
   "id": "26eb2911",
   "metadata": {},
   "outputs": [],
   "source": [
    "v = [[1, 4], [3, 4], [3, 10]]\n",
    "# [1, 10]"
   ]
  },
  {
   "cell_type": "code",
   "execution_count": 24,
   "id": "0956d7ea",
   "metadata": {},
   "outputs": [],
   "source": [
    "v = [[1, 1], [2, 2], [1, 2]]\n",
    "# [2, 1]"
   ]
  },
  {
   "cell_type": "code",
   "execution_count": 25,
   "id": "a5020381",
   "metadata": {},
   "outputs": [],
   "source": []
  },
  {
   "cell_type": "code",
   "execution_count": 47,
   "id": "f9ea0d06",
   "metadata": {},
   "outputs": [],
   "source": [
    "answer = []\n",
    "\n",
    "a = 0\n",
    "b = 0\n",
    "\n",
    "if v[0][0] != v[1][0]:\n",
    "    if v[1][0] == v[2][0]:\n",
    "        a = v[0][0]\n",
    "    else:\n",
    "        print(v[2])\n",
    "        a = v[1][0]\n",
    "else:\n",
    "    a = v[2][0]\n",
    "    \n",
    "if v[0][1] != v[1][1]:\n",
    "    if v[1][1] == v[2][1]:\n",
    "        b = v[0][1]\n",
    "    else:\n",
    "        b = v[1][1]\n",
    "else:\n",
    "    b = v[2][1]\n",
    "\n",
    "answer = [a,b]"
   ]
  },
  {
   "cell_type": "code",
   "execution_count": 48,
   "id": "2bf6838e",
   "metadata": {},
   "outputs": [
    {
     "data": {
      "text/plain": [
       "[1, 10]"
      ]
     },
     "execution_count": 48,
     "metadata": {},
     "output_type": "execute_result"
    }
   ],
   "source": [
    "answer"
   ]
  },
  {
   "cell_type": "code",
   "execution_count": null,
   "id": "65b821a0",
   "metadata": {},
   "outputs": [],
   "source": []
  },
  {
   "cell_type": "code",
   "execution_count": null,
   "id": "c4352677",
   "metadata": {},
   "outputs": [],
   "source": []
  },
  {
   "cell_type": "code",
   "execution_count": null,
   "id": "13f0476a",
   "metadata": {},
   "outputs": [],
   "source": []
  },
  {
   "cell_type": "code",
   "execution_count": null,
   "id": "eb912c1f",
   "metadata": {},
   "outputs": [],
   "source": []
  },
  {
   "cell_type": "code",
   "execution_count": null,
   "id": "97f30976",
   "metadata": {},
   "outputs": [],
   "source": []
  }
 ],
 "metadata": {
  "kernelspec": {
   "display_name": "hackerrank",
   "language": "python",
   "name": "hackerrank"
  },
  "language_info": {
   "codemirror_mode": {
    "name": "ipython",
    "version": 3
   },
   "file_extension": ".py",
   "mimetype": "text/x-python",
   "name": "python",
   "nbconvert_exporter": "python",
   "pygments_lexer": "ipython3",
   "version": "3.9.12"
  }
 },
 "nbformat": 4,
 "nbformat_minor": 5
}
