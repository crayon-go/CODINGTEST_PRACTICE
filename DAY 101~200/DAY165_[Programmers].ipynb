{
 "cells": [
  {
   "cell_type": "code",
   "execution_count": null,
   "id": "b57d3669",
   "metadata": {},
   "outputs": [],
   "source": [
    "0 = zero\n",
    "1\tone\n",
    "2\ttwo\n",
    "3\tthree\n",
    "4\tfour\n",
    "5\tfive\n",
    "6\tsix\n",
    "7\tseven\n",
    "8\teight\n",
    "9\tnine"
   ]
  },
  {
   "cell_type": "code",
   "execution_count": 26,
   "id": "31870cff",
   "metadata": {},
   "outputs": [],
   "source": [
    "s = \"one4seveneight\"\n",
    "# 1478"
   ]
  },
  {
   "cell_type": "code",
   "execution_count": 13,
   "id": "c70b43e3",
   "metadata": {},
   "outputs": [],
   "source": [
    "s = \"23four5six7\"\n",
    "# 234567"
   ]
  },
  {
   "cell_type": "code",
   "execution_count": 16,
   "id": "f35eba32",
   "metadata": {},
   "outputs": [],
   "source": [
    "s = \"2three45sixseven\"\n",
    "# 234567"
   ]
  },
  {
   "cell_type": "code",
   "execution_count": 19,
   "id": "30406c30",
   "metadata": {},
   "outputs": [],
   "source": [
    "s = \"123\"\n",
    "# 123"
   ]
  },
  {
   "cell_type": "code",
   "execution_count": 31,
   "id": "8feb62ec",
   "metadata": {},
   "outputs": [],
   "source": [
    "num_list = [\"zero\", \"one\", \"two\", \"three\", \"four\", \"five\", \"six\", \"seven\", \"eight\", \"nine\"]"
   ]
  },
  {
   "cell_type": "code",
   "execution_count": 33,
   "id": "49eac05c",
   "metadata": {},
   "outputs": [],
   "source": [
    "for idx, i in enumerate(num_list):\n",
    "    if i in s:\n",
    "        s = s.replace(i, str(idx))\n",
    "answer = int(s)"
   ]
  },
  {
   "cell_type": "code",
   "execution_count": 34,
   "id": "be8652ea",
   "metadata": {},
   "outputs": [
    {
     "data": {
      "text/plain": [
       "'00'"
      ]
     },
     "execution_count": 34,
     "metadata": {},
     "output_type": "execute_result"
    }
   ],
   "source": [
    "s"
   ]
  },
  {
   "cell_type": "code",
   "execution_count": 29,
   "id": "151ffea9",
   "metadata": {},
   "outputs": [],
   "source": [
    "num_dic = {\"zero\":\"0\", \"one\":\"1\", \"two\":\"2\", \"three\":\"3\", \"four\":\"4\", \"five\":\"5\", \"six\":\"6\", \"seven\":\"7\", \"eight\":\"8\", \"nine\":\"9\"}\n",
    "\n",
    "answer = s\n",
    "for key, value in num_dic.items():\n",
    "    answer = answer.replace(key, value)\n"
   ]
  },
  {
   "cell_type": "code",
   "execution_count": 30,
   "id": "5f0f759a",
   "metadata": {},
   "outputs": [
    {
     "data": {
      "text/plain": [
       "1478"
      ]
     },
     "execution_count": 30,
     "metadata": {},
     "output_type": "execute_result"
    }
   ],
   "source": [
    "int(answer)"
   ]
  },
  {
   "cell_type": "code",
   "execution_count": null,
   "id": "0ac34901",
   "metadata": {},
   "outputs": [],
   "source": []
  }
 ],
 "metadata": {
  "kernelspec": {
   "display_name": "hackerrank",
   "language": "python",
   "name": "hackerrank"
  },
  "language_info": {
   "codemirror_mode": {
    "name": "ipython",
    "version": 3
   },
   "file_extension": ".py",
   "mimetype": "text/x-python",
   "name": "python",
   "nbconvert_exporter": "python",
   "pygments_lexer": "ipython3",
   "version": "3.8.13"
  }
 },
 "nbformat": 4,
 "nbformat_minor": 5
}
