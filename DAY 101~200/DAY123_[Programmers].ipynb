{
 "cells": [
  {
   "cell_type": "code",
   "execution_count": 1,
   "id": "f84c511e",
   "metadata": {},
   "outputs": [],
   "source": [
    "lines = [[0, 1], [2, 5], [3, 9]]\n",
    "# 2"
   ]
  },
  {
   "cell_type": "code",
   "execution_count": 14,
   "id": "2b60eeb4",
   "metadata": {},
   "outputs": [],
   "source": [
    "lines = [[-1, 1], [1, 3], [3, 9]]\n",
    "# 0"
   ]
  },
  {
   "cell_type": "code",
   "execution_count": 17,
   "id": "e41b232a",
   "metadata": {},
   "outputs": [],
   "source": [
    "lines = [[0, 5], [3, 9], [1, 10]]\n",
    "# 8"
   ]
  },
  {
   "cell_type": "code",
   "execution_count": 20,
   "id": "e164ba59",
   "metadata": {},
   "outputs": [],
   "source": [
    "check_list = []\n",
    "answer = 0\n",
    "\n",
    "for line in lines:\n",
    "    for i in range(line[0], line[1]):\n",
    "            check_list.append(i)\n",
    "\n",
    "for i in list(set(check_list)):\n",
    "    if check_list.count(i) > 1:\n",
    "        answer += 1"
   ]
  },
  {
   "cell_type": "code",
   "execution_count": null,
   "id": "d82f7e58",
   "metadata": {},
   "outputs": [],
   "source": []
  },
  {
   "cell_type": "code",
   "execution_count": 27,
   "id": "6a17728c",
   "metadata": {},
   "outputs": [
    {
     "name": "stdout",
     "output_type": "stream",
     "text": [
      "8\n"
     ]
    }
   ],
   "source": [
    "sets = [set(range(min(l), max(l))) for l in lines]\n",
    "print(len(sets[0] & sets[1] | sets[0] & sets[2] | sets[1] & sets[2]))"
   ]
  },
  {
   "cell_type": "code",
   "execution_count": null,
   "id": "2354afe3",
   "metadata": {},
   "outputs": [],
   "source": []
  },
  {
   "cell_type": "code",
   "execution_count": null,
   "id": "1eb2e180",
   "metadata": {},
   "outputs": [],
   "source": []
  },
  {
   "cell_type": "code",
   "execution_count": null,
   "id": "34848048",
   "metadata": {},
   "outputs": [],
   "source": []
  },
  {
   "cell_type": "code",
   "execution_count": null,
   "id": "1a0fffcd",
   "metadata": {},
   "outputs": [],
   "source": []
  },
  {
   "cell_type": "code",
   "execution_count": null,
   "id": "48348195",
   "metadata": {},
   "outputs": [],
   "source": []
  },
  {
   "cell_type": "code",
   "execution_count": null,
   "id": "79fced47",
   "metadata": {},
   "outputs": [],
   "source": []
  }
 ],
 "metadata": {
  "kernelspec": {
   "display_name": "hackerrank",
   "language": "python",
   "name": "hackerrank"
  },
  "language_info": {
   "codemirror_mode": {
    "name": "ipython",
    "version": 3
   },
   "file_extension": ".py",
   "mimetype": "text/x-python",
   "name": "python",
   "nbconvert_exporter": "python",
   "pygments_lexer": "ipython3",
   "version": "3.9.12"
  }
 },
 "nbformat": 4,
 "nbformat_minor": 5
}
