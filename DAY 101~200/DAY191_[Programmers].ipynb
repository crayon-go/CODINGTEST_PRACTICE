{
 "cells": [
  {
   "cell_type": "code",
   "execution_count": 129,
   "id": "9d8a36cd",
   "metadata": {},
   "outputs": [],
   "source": [
    "babbling = [\"aya\", \"yee\", \"u\", \"maa\"]\n",
    "# 1"
   ]
  },
  {
   "cell_type": "code",
   "execution_count": 127,
   "id": "14835e0d",
   "metadata": {},
   "outputs": [],
   "source": [
    "babbling = [\"ayaye\", \"uuu\", \"yeye\", \"yemawoo\", \"ayaayaa\"]\n",
    "# 2"
   ]
  },
  {
   "cell_type": "code",
   "execution_count": 130,
   "id": "5221a2a8",
   "metadata": {},
   "outputs": [
    {
     "data": {
      "text/plain": [
       "1"
      ]
     },
     "execution_count": 130,
     "metadata": {},
     "output_type": "execute_result"
    }
   ],
   "source": [
    "answer = 0\n",
    "for i in babbling:\n",
    "    for j in ['aya','ye','woo','ma']:\n",
    "        if j*2 not in i:\n",
    "            i=i.replace(j,' ')\n",
    "    if len(i.strip())==0:\n",
    "        answer +=1\n",
    "answer"
   ]
  },
  {
   "cell_type": "code",
   "execution_count": 123,
   "id": "104e12ce",
   "metadata": {},
   "outputs": [
    {
     "name": "stdout",
     "output_type": "stream",
     "text": [
      "-------------------\n",
      "-------------------\n",
      "-------------------\n",
      "-------------------\n"
     ]
    }
   ],
   "source": [
    "joka = [\"aya\", \"ye\", \"woo\", \"ma\"]\n",
    "\n",
    "answer = 0\n",
    "\n",
    "for idx, i in enumerate(babbling):\n",
    "    for idx2, j in enumerate(joka):\n",
    "        babbling[idx] = babbling[idx].replace(j, f\"{idx2}\")\n",
    "    \n",
    "    if babbling[idx].isdigit():\n",
    "        tmp = 'a'\n",
    "        for k in babbling[idx]:\n",
    "            if k == tmp:\n",
    "                break\n",
    "            else:\n",
    "                tmp = k\n",
    "        else:\n",
    "            answer += 1"
   ]
  },
  {
   "cell_type": "code",
   "execution_count": 124,
   "id": "244c1b4d",
   "metadata": {},
   "outputs": [
    {
     "data": {
      "text/plain": [
       "1"
      ]
     },
     "execution_count": 124,
     "metadata": {},
     "output_type": "execute_result"
    }
   ],
   "source": [
    "answer"
   ]
  },
  {
   "cell_type": "code",
   "execution_count": 125,
   "id": "87c95a2b",
   "metadata": {},
   "outputs": [
    {
     "data": {
      "text/plain": [
       "['0', '1e', 'u', '3a']"
      ]
     },
     "execution_count": 125,
     "metadata": {},
     "output_type": "execute_result"
    }
   ],
   "source": [
    "babbling"
   ]
  },
  {
   "cell_type": "code",
   "execution_count": null,
   "id": "d5ca8d0e",
   "metadata": {},
   "outputs": [],
   "source": []
  },
  {
   "cell_type": "code",
   "execution_count": null,
   "id": "8ef6e4cc",
   "metadata": {},
   "outputs": [],
   "source": []
  },
  {
   "cell_type": "code",
   "execution_count": null,
   "id": "7dcd4291",
   "metadata": {},
   "outputs": [],
   "source": []
  },
  {
   "cell_type": "code",
   "execution_count": null,
   "id": "6882858e",
   "metadata": {},
   "outputs": [],
   "source": []
  },
  {
   "cell_type": "code",
   "execution_count": null,
   "id": "74d35df3",
   "metadata": {},
   "outputs": [],
   "source": []
  },
  {
   "cell_type": "code",
   "execution_count": null,
   "id": "7e6e0161",
   "metadata": {},
   "outputs": [],
   "source": []
  },
  {
   "cell_type": "code",
   "execution_count": null,
   "id": "f561de29",
   "metadata": {},
   "outputs": [],
   "source": []
  }
 ],
 "metadata": {
  "kernelspec": {
   "display_name": "hackerrank",
   "language": "python",
   "name": "hackerrank"
  },
  "language_info": {
   "codemirror_mode": {
    "name": "ipython",
    "version": 3
   },
   "file_extension": ".py",
   "mimetype": "text/x-python",
   "name": "python",
   "nbconvert_exporter": "python",
   "pygments_lexer": "ipython3",
   "version": "3.9.12"
  }
 },
 "nbformat": 4,
 "nbformat_minor": 5
}
