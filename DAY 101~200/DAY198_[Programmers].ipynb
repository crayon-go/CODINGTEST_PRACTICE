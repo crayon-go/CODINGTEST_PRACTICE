{
 "cells": [
  {
   "cell_type": "code",
   "execution_count": 15,
   "id": "58d649f1",
   "metadata": {},
   "outputs": [],
   "source": [
    "triangle = [[7], [3, 8], [8, 1, 0], [2, 7, 4, 4], [4, 5, 2, 6, 5]]\n",
    "# 30"
   ]
  },
  {
   "cell_type": "code",
   "execution_count": 16,
   "id": "f7a9f085",
   "metadata": {},
   "outputs": [
    {
     "name": "stdout",
     "output_type": "stream",
     "text": [
      "30\n"
     ]
    }
   ],
   "source": [
    "for i in range(1, len(triangle)):\n",
    "    for j in range(i+1):\n",
    "        if j == 0:\n",
    "            triangle[i][j] += triangle[i-1][j]\n",
    "        elif j == i:\n",
    "            triangle[i][j] += triangle[i-1][j-1]\n",
    "        else:\n",
    "            triangle[i][j] += max(triangle[i-1][j], triangle[i-1][j-1])\n",
    "print(max(triangle[-1]))"
   ]
  },
  {
   "cell_type": "code",
   "execution_count": 17,
   "id": "36c7e54c",
   "metadata": {},
   "outputs": [
    {
     "data": {
      "text/plain": [
       "[[7], [10, 15], [18, 16, 15], [20, 25, 20, 19], [24, 30, 27, 26, 24]]"
      ]
     },
     "execution_count": 17,
     "metadata": {},
     "output_type": "execute_result"
    }
   ],
   "source": [
    "triangle"
   ]
  },
  {
   "cell_type": "code",
   "execution_count": null,
   "id": "1e20a037",
   "metadata": {},
   "outputs": [],
   "source": []
  },
  {
   "cell_type": "code",
   "execution_count": null,
   "id": "97760011",
   "metadata": {},
   "outputs": [],
   "source": []
  },
  {
   "cell_type": "code",
   "execution_count": 19,
   "id": "dfda817a",
   "metadata": {},
   "outputs": [],
   "source": [
    "m = 4\n",
    "n = 3\n",
    "puddles = [[2, 2]]\n",
    "# 4"
   ]
  },
  {
   "cell_type": "code",
   "execution_count": 20,
   "id": "040292bd",
   "metadata": {},
   "outputs": [],
   "source": [
    "puddles = [[q,p] for [p,q] in puddles]"
   ]
  },
  {
   "cell_type": "code",
   "execution_count": 22,
   "id": "73fb3eec",
   "metadata": {},
   "outputs": [],
   "source": [
    "dp = [[0] * (m+1) for i in range(n+1)]"
   ]
  },
  {
   "cell_type": "code",
   "execution_count": 23,
   "id": "f48b57f1",
   "metadata": {},
   "outputs": [
    {
     "data": {
      "text/plain": [
       "[[0, 0, 0, 0, 0], [0, 0, 0, 0, 0], [0, 0, 0, 0, 0], [0, 0, 0, 0, 0]]"
      ]
     },
     "execution_count": 23,
     "metadata": {},
     "output_type": "execute_result"
    }
   ],
   "source": [
    "dp"
   ]
  },
  {
   "cell_type": "code",
   "execution_count": 24,
   "id": "81171f12",
   "metadata": {},
   "outputs": [],
   "source": [
    "dp[1][1] = 1"
   ]
  },
  {
   "cell_type": "code",
   "execution_count": 25,
   "id": "595ffdca",
   "metadata": {},
   "outputs": [
    {
     "data": {
      "text/plain": [
       "[[0, 0, 0, 0, 0], [0, 1, 0, 0, 0], [0, 0, 0, 0, 0], [0, 0, 0, 0, 0]]"
      ]
     },
     "execution_count": 25,
     "metadata": {},
     "output_type": "execute_result"
    }
   ],
   "source": [
    "dp"
   ]
  },
  {
   "cell_type": "code",
   "execution_count": 40,
   "id": "269fb64b",
   "metadata": {},
   "outputs": [
    {
     "name": "stdout",
     "output_type": "stream",
     "text": [
      "@\n",
      "4\n"
     ]
    }
   ],
   "source": [
    "for i in range(1, n+1):\n",
    "    for j in range(1, m+1):\n",
    "        if i == 1 and j == 1:\n",
    "            print(\"@\")\n",
    "            continue\n",
    "        if [i,j] in puddles:\n",
    "            dp[i][j] = 0\n",
    "        else:\n",
    "            dp[i][j] = dp[i-1][j] + dp[i][j-1] % 1000000007\n",
    "print(dp[n][m])"
   ]
  },
  {
   "cell_type": "code",
   "execution_count": 35,
   "id": "2cb24b9e",
   "metadata": {},
   "outputs": [
    {
     "data": {
      "text/plain": [
       "[[0, 0, 0, 0, 0], [0, 1, 1, 1, 1], [0, 1, 0, 1, 2], [0, 1, 1, 2, 4]]"
      ]
     },
     "execution_count": 35,
     "metadata": {},
     "output_type": "execute_result"
    }
   ],
   "source": [
    "dp"
   ]
  },
  {
   "cell_type": "code",
   "execution_count": null,
   "id": "8be5eca3",
   "metadata": {},
   "outputs": [],
   "source": [
    "[0, 0, 0, 0, 0],\n",
    "[0, 1, 1, 1, 1],\n",
    "[0, 1, 0, 1, 2],\n",
    "[0, 1, 1, 2, 4]]"
   ]
  },
  {
   "cell_type": "code",
   "execution_count": null,
   "id": "b30edaab",
   "metadata": {},
   "outputs": [],
   "source": []
  },
  {
   "cell_type": "code",
   "execution_count": null,
   "id": "523d1802",
   "metadata": {},
   "outputs": [],
   "source": []
  },
  {
   "cell_type": "code",
   "execution_count": null,
   "id": "19ecd2fc",
   "metadata": {},
   "outputs": [],
   "source": []
  },
  {
   "cell_type": "code",
   "execution_count": null,
   "id": "c04aa2a3",
   "metadata": {},
   "outputs": [],
   "source": []
  },
  {
   "cell_type": "code",
   "execution_count": null,
   "id": "70a462bb",
   "metadata": {},
   "outputs": [],
   "source": []
  },
  {
   "cell_type": "code",
   "execution_count": null,
   "id": "46d111be",
   "metadata": {},
   "outputs": [],
   "source": []
  },
  {
   "cell_type": "code",
   "execution_count": null,
   "id": "9c369a3e",
   "metadata": {},
   "outputs": [],
   "source": []
  },
  {
   "cell_type": "code",
   "execution_count": null,
   "id": "d5b32820",
   "metadata": {},
   "outputs": [],
   "source": []
  },
  {
   "cell_type": "code",
   "execution_count": null,
   "id": "6378bda3",
   "metadata": {},
   "outputs": [],
   "source": []
  },
  {
   "cell_type": "code",
   "execution_count": null,
   "id": "a36af510",
   "metadata": {},
   "outputs": [],
   "source": []
  }
 ],
 "metadata": {
  "kernelspec": {
   "display_name": "hackerrank",
   "language": "python",
   "name": "hackerrank"
  },
  "language_info": {
   "codemirror_mode": {
    "name": "ipython",
    "version": 3
   },
   "file_extension": ".py",
   "mimetype": "text/x-python",
   "name": "python",
   "nbconvert_exporter": "python",
   "pygments_lexer": "ipython3",
   "version": "3.9.12"
  }
 },
 "nbformat": 4,
 "nbformat_minor": 5
}
