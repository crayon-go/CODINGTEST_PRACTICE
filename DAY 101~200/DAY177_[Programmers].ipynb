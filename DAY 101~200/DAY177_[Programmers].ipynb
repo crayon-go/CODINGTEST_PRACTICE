{
 "cells": [
  {
   "cell_type": "code",
   "execution_count": 6,
   "id": "1cff374b",
   "metadata": {},
   "outputs": [],
   "source": [
    "nums = [1,2,3,4]\n",
    "# 1"
   ]
  },
  {
   "cell_type": "code",
   "execution_count": 21,
   "id": "c952a3ae",
   "metadata": {},
   "outputs": [],
   "source": [
    "nums = [1,2,7,6,4]\n",
    "# 4"
   ]
  },
  {
   "cell_type": "code",
   "execution_count": 2,
   "id": "6ba06615",
   "metadata": {},
   "outputs": [],
   "source": [
    "from itertools import *\n",
    "\n",
    "def check_fun(num):\n",
    "    for i in range(2, num):\n",
    "        if num % i == 0:\n",
    "            return False # 소수가 아님\n",
    "    return True\n",
    "\n",
    "\n",
    "answer = 0\n",
    "\n",
    "for i in list(combinations(nums, 3)):\n",
    "    if check_fun(sum(list(i))) == True:\n",
    "        answer += 1"
   ]
  },
  {
   "cell_type": "code",
   "execution_count": 23,
   "id": "e57fda65",
   "metadata": {},
   "outputs": [
    {
     "data": {
      "text/plain": [
       "4"
      ]
     },
     "execution_count": 23,
     "metadata": {},
     "output_type": "execute_result"
    }
   ],
   "source": [
    "answer"
   ]
  },
  {
   "cell_type": "code",
   "execution_count": null,
   "id": "aab602ed",
   "metadata": {},
   "outputs": [],
   "source": []
  },
  {
   "cell_type": "code",
   "execution_count": null,
   "id": "0c296ac1",
   "metadata": {},
   "outputs": [],
   "source": []
  },
  {
   "cell_type": "code",
   "execution_count": 24,
   "id": "20af4a8c",
   "metadata": {},
   "outputs": [],
   "source": [
    "class ALWAYS_CORRECT(object):\n",
    "    def __eq__(self,other):\n",
    "        return True\n",
    "\n",
    "def solution(a):\n",
    "    answer = ALWAYS_CORRECT()\n",
    "    return answer;"
   ]
  },
  {
   "cell_type": "code",
   "execution_count": 25,
   "id": "05af7491",
   "metadata": {},
   "outputs": [
    {
     "data": {
      "text/plain": [
       "<__main__.ALWAYS_CORRECT at 0x7fc2fd8af2b0>"
      ]
     },
     "execution_count": 25,
     "metadata": {},
     "output_type": "execute_result"
    }
   ],
   "source": [
    "solution(nums)"
   ]
  },
  {
   "cell_type": "code",
   "execution_count": null,
   "id": "78309fc7",
   "metadata": {},
   "outputs": [],
   "source": []
  },
  {
   "cell_type": "code",
   "execution_count": null,
   "id": "162fe1bf",
   "metadata": {},
   "outputs": [],
   "source": []
  },
  {
   "cell_type": "code",
   "execution_count": null,
   "id": "952fb98b",
   "metadata": {},
   "outputs": [],
   "source": []
  },
  {
   "cell_type": "code",
   "execution_count": null,
   "id": "196978db",
   "metadata": {},
   "outputs": [],
   "source": []
  }
 ],
 "metadata": {
  "kernelspec": {
   "display_name": "hackerrank",
   "language": "python",
   "name": "hackerrank"
  },
  "language_info": {
   "codemirror_mode": {
    "name": "ipython",
    "version": 3
   },
   "file_extension": ".py",
   "mimetype": "text/x-python",
   "name": "python",
   "nbconvert_exporter": "python",
   "pygments_lexer": "ipython3",
   "version": "3.8.13"
  }
 },
 "nbformat": 4,
 "nbformat_minor": 5
}
