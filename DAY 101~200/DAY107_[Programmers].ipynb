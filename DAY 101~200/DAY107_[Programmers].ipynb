{
 "cells": [
  {
   "cell_type": "code",
   "execution_count": 11,
   "id": "bdede0e5",
   "metadata": {},
   "outputs": [],
   "source": [
    "numlist = [1, 2, 3, 4, 5, 6]\n",
    "n = 4\n",
    "# [4, 5, 3, 6, 2, 1]"
   ]
  },
  {
   "cell_type": "code",
   "execution_count": 32,
   "id": "3db1fe3d",
   "metadata": {},
   "outputs": [],
   "source": [
    "numlist = [10000,20,36,47,40,6,10,7000]\n",
    "n = 30\n",
    "# [36, 40, 20, 47, 10, 6, 7000, 10000]"
   ]
  },
  {
   "cell_type": "code",
   "execution_count": 24,
   "id": "70722997",
   "metadata": {},
   "outputs": [
    {
     "data": {
      "text/plain": [
       "[-24, -20, -10, 6, 10, 17, 6970, 9970]"
      ]
     },
     "execution_count": 24,
     "metadata": {},
     "output_type": "execute_result"
    }
   ],
   "source": [
    "numlist = sorted(numlist)\n",
    "\n",
    "total_list = [i - n for i in numlist]\n",
    "total_list"
   ]
  },
  {
   "cell_type": "code",
   "execution_count": 27,
   "id": "0d4c9bf0",
   "metadata": {},
   "outputs": [
    {
     "data": {
      "text/plain": [
       "[6, 10, 17, 6970, 9970]"
      ]
     },
     "execution_count": 27,
     "metadata": {},
     "output_type": "execute_result"
    }
   ],
   "source": [
    "plus_list = [i for i in total_list if i >= 0]\n",
    "plus_list"
   ]
  },
  {
   "cell_type": "code",
   "execution_count": 28,
   "id": "09defd65",
   "metadata": {},
   "outputs": [
    {
     "data": {
      "text/plain": [
       "[-24, -20, -10]"
      ]
     },
     "execution_count": 28,
     "metadata": {},
     "output_type": "execute_result"
    }
   ],
   "source": [
    "minus_list = [i for i in total_list if i < 0]\n",
    "minus_list"
   ]
  },
  {
   "cell_type": "code",
   "execution_count": 30,
   "id": "b51d872a",
   "metadata": {},
   "outputs": [
    {
     "name": "stdout",
     "output_type": "stream",
     "text": [
      "0\n",
      "1\n",
      "2\n",
      "3\n",
      "4\n",
      "5\n",
      "6\n",
      "7\n"
     ]
    }
   ],
   "source": [
    "for i in range(len(numlist)):\n",
    "    print(i)"
   ]
  },
  {
   "cell_type": "code",
   "execution_count": null,
   "id": "9e29bc48",
   "metadata": {},
   "outputs": [],
   "source": []
  },
  {
   "cell_type": "code",
   "execution_count": 31,
   "id": "c9a9d23f",
   "metadata": {},
   "outputs": [],
   "source": [
    "import heapq\n",
    "def find_standard_index(numlist, n):\n",
    "    index = 0\n",
    "    for i, number in enumerate(numlist):\n",
    "        if abs(number - n) < abs(numlist[index] - n):\n",
    "            index = i\n",
    "    return index\n",
    "\n",
    "def solution(numlist, n):\n",
    "    heap = []\n",
    "    index = find_standard_index(numlist, n)\n",
    "\n",
    "    for i, number in enumerate(numlist):\n",
    "        heapq.heappush(heap, (abs(number - n), -number))\n",
    "\n",
    "    result = []\n",
    "    while heap:\n",
    "        diff, opposite_number = heapq.heappop(heap)\n",
    "        result.append(-opposite_number)\n",
    "    return result"
   ]
  },
  {
   "cell_type": "code",
   "execution_count": 33,
   "id": "f9792c15",
   "metadata": {},
   "outputs": [
    {
     "data": {
      "text/plain": [
       "[36, 40, 20, 47, 10, 6, 7000, 10000]"
      ]
     },
     "execution_count": 33,
     "metadata": {},
     "output_type": "execute_result"
    }
   ],
   "source": [
    "solution(numlist, n)"
   ]
  },
  {
   "cell_type": "code",
   "execution_count": null,
   "id": "20f3221e",
   "metadata": {},
   "outputs": [],
   "source": []
  },
  {
   "cell_type": "code",
   "execution_count": null,
   "id": "0dba935c",
   "metadata": {},
   "outputs": [],
   "source": [
    "def solution(numlist, n):\n",
    "    return sorted(numlist, key = lambda x: (abs(x - n), -x))"
   ]
  },
  {
   "cell_type": "code",
   "execution_count": null,
   "id": "435bcb18",
   "metadata": {},
   "outputs": [],
   "source": []
  },
  {
   "cell_type": "code",
   "execution_count": null,
   "id": "16868ca7",
   "metadata": {},
   "outputs": [],
   "source": [
    "answer = sorted(numlist,key = lambda x : (abs(x-n), n-x))"
   ]
  },
  {
   "cell_type": "code",
   "execution_count": null,
   "id": "99bacf24",
   "metadata": {},
   "outputs": [],
   "source": []
  },
  {
   "cell_type": "code",
   "execution_count": null,
   "id": "93742c55",
   "metadata": {},
   "outputs": [],
   "source": []
  },
  {
   "cell_type": "code",
   "execution_count": null,
   "id": "af611995",
   "metadata": {},
   "outputs": [],
   "source": []
  },
  {
   "cell_type": "code",
   "execution_count": null,
   "id": "dc2f183c",
   "metadata": {},
   "outputs": [],
   "source": []
  },
  {
   "cell_type": "code",
   "execution_count": null,
   "id": "daa6350e",
   "metadata": {},
   "outputs": [],
   "source": []
  },
  {
   "cell_type": "code",
   "execution_count": null,
   "id": "7ed578dc",
   "metadata": {},
   "outputs": [],
   "source": []
  }
 ],
 "metadata": {
  "kernelspec": {
   "display_name": "hackerrank",
   "language": "python",
   "name": "hackerrank"
  },
  "language_info": {
   "codemirror_mode": {
    "name": "ipython",
    "version": 3
   },
   "file_extension": ".py",
   "mimetype": "text/x-python",
   "name": "python",
   "nbconvert_exporter": "python",
   "pygments_lexer": "ipython3",
   "version": "3.8.13"
  }
 },
 "nbformat": 4,
 "nbformat_minor": 5
}
