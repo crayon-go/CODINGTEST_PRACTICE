{
 "cells": [
  {
   "cell_type": "code",
   "execution_count": 43,
   "id": "a19b2c73",
   "metadata": {},
   "outputs": [],
   "source": [
    "n = 3\n",
    "# \"수박수\""
   ]
  },
  {
   "cell_type": "code",
   "execution_count": 35,
   "id": "2ca291a4",
   "metadata": {},
   "outputs": [],
   "source": [
    "n = 4\n",
    "# \"수박수박\""
   ]
  },
  {
   "cell_type": "code",
   "execution_count": 46,
   "id": "327e24eb",
   "metadata": {},
   "outputs": [],
   "source": [
    "answer = ''\n",
    "str_sb = \"수박\"\n",
    "if n % 2 == 0:\n",
    "    answer = str_sb * int(n/2)\n",
    "else:\n",
    "    answer = str_sb * int(n/2) + \"수\""
   ]
  },
  {
   "cell_type": "code",
   "execution_count": 16,
   "id": "10603576",
   "metadata": {},
   "outputs": [
    {
     "data": {
      "text/plain": [
       "'수박수'"
      ]
     },
     "execution_count": 16,
     "metadata": {},
     "output_type": "execute_result"
    }
   ],
   "source": [
    "answer"
   ]
  },
  {
   "cell_type": "code",
   "execution_count": 47,
   "id": "69ff0015",
   "metadata": {},
   "outputs": [],
   "source": [
    "answer = ''\n",
    "str_sb = \"수박\"\n",
    "answer = str_sb * int(n//2)\n",
    "if n%2==1:\n",
    "    answer += \"수\""
   ]
  },
  {
   "cell_type": "code",
   "execution_count": 48,
   "id": "2d606c75",
   "metadata": {},
   "outputs": [
    {
     "data": {
      "text/plain": [
       "'수박수'"
      ]
     },
     "execution_count": 48,
     "metadata": {},
     "output_type": "execute_result"
    }
   ],
   "source": [
    "answer"
   ]
  },
  {
   "cell_type": "code",
   "execution_count": 11,
   "id": "8d672971",
   "metadata": {
    "scrolled": true
   },
   "outputs": [
    {
     "data": {
      "text/plain": [
       "1"
      ]
     },
     "execution_count": 11,
     "metadata": {},
     "output_type": "execute_result"
    }
   ],
   "source": [
    "int(3/2)"
   ]
  },
  {
   "cell_type": "code",
   "execution_count": null,
   "id": "64f88766",
   "metadata": {},
   "outputs": [],
   "source": []
  },
  {
   "cell_type": "code",
   "execution_count": 20,
   "id": "cef73458",
   "metadata": {},
   "outputs": [
    {
     "data": {
      "text/plain": [
       "'수박수박수박수박'"
      ]
     },
     "execution_count": 20,
     "metadata": {},
     "output_type": "execute_result"
    }
   ],
   "source": [
    "s = \"수박\" * n\n",
    "s"
   ]
  },
  {
   "cell_type": "code",
   "execution_count": 21,
   "id": "4d818171",
   "metadata": {},
   "outputs": [
    {
     "data": {
      "text/plain": [
       "'수박수박'"
      ]
     },
     "execution_count": 21,
     "metadata": {},
     "output_type": "execute_result"
    }
   ],
   "source": [
    "s[:n]"
   ]
  },
  {
   "cell_type": "code",
   "execution_count": null,
   "id": "ca5df81f",
   "metadata": {},
   "outputs": [],
   "source": []
  },
  {
   "cell_type": "code",
   "execution_count": 36,
   "id": "1ec9dd9f",
   "metadata": {},
   "outputs": [
    {
     "data": {
      "text/plain": [
       "'수박수박수박'"
      ]
     },
     "execution_count": 36,
     "metadata": {},
     "output_type": "execute_result"
    }
   ],
   "source": [
    "s = '수박'*(n//2+1)\n",
    "s"
   ]
  },
  {
   "cell_type": "code",
   "execution_count": 37,
   "id": "f877c89b",
   "metadata": {},
   "outputs": [
    {
     "data": {
      "text/plain": [
       "'수박수박'"
      ]
     },
     "execution_count": 37,
     "metadata": {},
     "output_type": "execute_result"
    }
   ],
   "source": [
    "s[:n]"
   ]
  },
  {
   "cell_type": "code",
   "execution_count": null,
   "id": "dde73319",
   "metadata": {},
   "outputs": [],
   "source": []
  }
 ],
 "metadata": {
  "kernelspec": {
   "display_name": "hackerrank",
   "language": "python",
   "name": "hackerrank"
  },
  "language_info": {
   "codemirror_mode": {
    "name": "ipython",
    "version": 3
   },
   "file_extension": ".py",
   "mimetype": "text/x-python",
   "name": "python",
   "nbconvert_exporter": "python",
   "pygments_lexer": "ipython3",
   "version": "3.9.12"
  }
 },
 "nbformat": 4,
 "nbformat_minor": 5
}
