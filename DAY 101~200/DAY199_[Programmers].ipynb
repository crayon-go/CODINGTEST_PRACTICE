{
 "cells": [
  {
   "cell_type": "code",
   "execution_count": 6,
   "id": "d923933f",
   "metadata": {},
   "outputs": [],
   "source": [
    "s = \"aukks\"\n",
    "skip = \"wbqd\"\n",
    "index = 5\n",
    "# \"happy\""
   ]
  },
  {
   "cell_type": "code",
   "execution_count": 39,
   "id": "f86b3088",
   "metadata": {},
   "outputs": [],
   "source": [
    "s = \"zzzzz\"\n",
    "skip = \"a\"\n",
    "index = 1\n",
    "# \"bbbbb\""
   ]
  },
  {
   "cell_type": "code",
   "execution_count": 8,
   "id": "cce0164a",
   "metadata": {},
   "outputs": [],
   "source": [
    "# a에서 5만큼 뒤에 있는 알파벳은 f지만 \n",
    "# [b, c, d, e, f]에서 'b'와 'd'는 skip에 포함되므로 세지 않습니다. \n",
    "# 따라서 'b', 'd'를 제외하고 'a'에서 5만큼 뒤에 있는 알파벳은 [c, e, f, g, h] 순서에 의해 'h'가 됩니다. \n",
    "# 나머지 \"ukks\" 또한 위 규칙대로 바꾸면 \"appy\"가 되며 결과는 \"happy\"가 됩니다."
   ]
  },
  {
   "cell_type": "code",
   "execution_count": 43,
   "id": "9b16b672",
   "metadata": {},
   "outputs": [
    {
     "name": "stdout",
     "output_type": "stream",
     "text": [
      "---------------\n",
      "z\n",
      "---------------\n",
      "z\n",
      "---------------\n",
      "z\n",
      "---------------\n",
      "z\n",
      "---------------\n",
      "z\n"
     ]
    }
   ],
   "source": [
    "answer = ''\n",
    "alphabet = 'abcdefghijklmnopqrstuvwxyz'\n",
    "\n",
    "for i in s:\n",
    "    print(\"---------------\")\n",
    "    print(i)\n",
    "    \n",
    "    cnt = 0\n",
    "    now_idx = alphabet.index(i)\n",
    "\n",
    "    while cnt < 5:\n",
    "        now_idx += 1\n",
    "        if now_idx >= 26:\n",
    "            now_idx = 0\n",
    "            \n",
    "        if alphabet[now_idx] in skip:\n",
    "            pass\n",
    "        else:\n",
    "            cnt += 1\n",
    "        \n",
    "    answer += alphabet[now_idx]\n",
    "\n",
    "        "
   ]
  },
  {
   "cell_type": "code",
   "execution_count": 41,
   "id": "6378bda3",
   "metadata": {},
   "outputs": [
    {
     "data": {
      "text/plain": [
       "'fffff'"
      ]
     },
     "execution_count": 41,
     "metadata": {},
     "output_type": "execute_result"
    }
   ],
   "source": [
    "answer"
   ]
  },
  {
   "cell_type": "code",
   "execution_count": null,
   "id": "199b3894",
   "metadata": {},
   "outputs": [],
   "source": []
  }
 ],
 "metadata": {
  "kernelspec": {
   "display_name": "color_extraction",
   "language": "python",
   "name": "color_extraction"
  },
  "language_info": {
   "codemirror_mode": {
    "name": "ipython",
    "version": 3
   },
   "file_extension": ".py",
   "mimetype": "text/x-python",
   "name": "python",
   "nbconvert_exporter": "python",
   "pygments_lexer": "ipython3",
   "version": "3.8.16"
  }
 },
 "nbformat": 4,
 "nbformat_minor": 5
}
