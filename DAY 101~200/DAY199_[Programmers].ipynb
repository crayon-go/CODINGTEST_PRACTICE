{
 "cells": [
  {
   "cell_type": "code",
   "execution_count": 1,
   "id": "d923933f",
   "metadata": {},
   "outputs": [],
   "source": [
    "s = \"aukks\"\n",
    "skip = \"wbqd\"\n",
    "index = 5\n",
    "# \"happy\""
   ]
  },
  {
   "cell_type": "code",
   "execution_count": 1,
   "id": "f86b3088",
   "metadata": {},
   "outputs": [],
   "source": [
    "s = \"zzzzz\"\n",
    "skip = \"a\"\n",
    "index = 1\n",
    "# \"bbbbb\""
   ]
  },
  {
   "cell_type": "code",
   "execution_count": 8,
   "id": "cce0164a",
   "metadata": {},
   "outputs": [],
   "source": [
    "# a에서 5만큼 뒤에 있는 알파벳은 f지만 \n",
    "# [b, c, d, e, f]에서 'b'와 'd'는 skip에 포함되므로 세지 않습니다. \n",
    "# 따라서 'b', 'd'를 제외하고 'a'에서 5만큼 뒤에 있는 알파벳은 [c, e, f, g, h] 순서에 의해 'h'가 됩니다. \n",
    "# 나머지 \"ukks\" 또한 위 규칙대로 바꾸면 \"appy\"가 되며 결과는 \"happy\"가 됩니다."
   ]
  },
  {
   "cell_type": "code",
   "execution_count": 31,
   "id": "8f6851ad",
   "metadata": {},
   "outputs": [],
   "source": [
    "from string import ascii_lowercase\n",
    "\n",
    "result = ''\n",
    "\n",
    "a_to_z = set(ascii_lowercase)\n",
    "a_to_z -= set(skip)\n",
    "a_to_z = sorted(a_to_z)\n",
    "l = len(a_to_z)"
   ]
  },
  {
   "cell_type": "code",
   "execution_count": 33,
   "id": "6ab2b5b5",
   "metadata": {},
   "outputs": [
    {
     "data": {
      "text/plain": [
       "{'a': 0,\n",
       " 'c': 1,\n",
       " 'e': 2,\n",
       " 'f': 3,\n",
       " 'g': 4,\n",
       " 'h': 5,\n",
       " 'i': 6,\n",
       " 'j': 7,\n",
       " 'k': 8,\n",
       " 'l': 9,\n",
       " 'm': 10,\n",
       " 'n': 11,\n",
       " 'o': 12,\n",
       " 'p': 13,\n",
       " 'r': 14,\n",
       " 's': 15,\n",
       " 't': 16,\n",
       " 'u': 17,\n",
       " 'v': 18,\n",
       " 'x': 19,\n",
       " 'y': 20,\n",
       " 'z': 21}"
      ]
     },
     "execution_count": 33,
     "metadata": {},
     "output_type": "execute_result"
    }
   ],
   "source": [
    "dic_alpha = {alpha:idx for idx, alpha in enumerate(a_to_z)}\n",
    "dic_alpha"
   ]
  },
  {
   "cell_type": "code",
   "execution_count": 35,
   "id": "f22a42e9",
   "metadata": {},
   "outputs": [
    {
     "data": {
      "text/plain": [
       "['a',\n",
       " 'c',\n",
       " 'e',\n",
       " 'f',\n",
       " 'g',\n",
       " 'h',\n",
       " 'i',\n",
       " 'j',\n",
       " 'k',\n",
       " 'l',\n",
       " 'm',\n",
       " 'n',\n",
       " 'o',\n",
       " 'p',\n",
       " 'r',\n",
       " 's',\n",
       " 't',\n",
       " 'u',\n",
       " 'v',\n",
       " 'x',\n",
       " 'y',\n",
       " 'z']"
      ]
     },
     "execution_count": 35,
     "metadata": {},
     "output_type": "execute_result"
    }
   ],
   "source": [
    "a_to_z"
   ]
  },
  {
   "cell_type": "code",
   "execution_count": 43,
   "id": "99be5a76",
   "metadata": {},
   "outputs": [
    {
     "data": {
      "text/plain": [
       "5"
      ]
     },
     "execution_count": 43,
     "metadata": {},
     "output_type": "execute_result"
    }
   ],
   "source": [
    "index"
   ]
  },
  {
   "cell_type": "code",
   "execution_count": 49,
   "id": "e75dd641",
   "metadata": {},
   "outputs": [
    {
     "data": {
      "text/plain": [
       "13"
      ]
     },
     "execution_count": 49,
     "metadata": {},
     "output_type": "execute_result"
    }
   ],
   "source": [
    "13%22"
   ]
  },
  {
   "cell_type": "code",
   "execution_count": 74,
   "id": "c553a428",
   "metadata": {},
   "outputs": [
    {
     "name": "stdout",
     "output_type": "stream",
     "text": [
      "---\n",
      "5\n",
      "5\n",
      "---\n",
      "22\n",
      "0\n",
      "---\n",
      "13\n",
      "13\n",
      "---\n",
      "13\n",
      "13\n",
      "---\n",
      "20\n",
      "20\n"
     ]
    },
    {
     "data": {
      "text/plain": [
       "'happyhappyhappyhappyhappyhappyhappyhappyhappyhappyhappyhappyhappy'"
      ]
     },
     "execution_count": 74,
     "metadata": {},
     "output_type": "execute_result"
    }
   ],
   "source": [
    "for i in s:\n",
    "    print(\"---\")\n",
    "    print(dic_alpha[i]+index)\n",
    "    print((dic_alpha[i] + index) % l)\n",
    "    result += a_to_z[(dic_alpha[i] + index) % l]\n",
    "\n",
    "result"
   ]
  },
  {
   "cell_type": "code",
   "execution_count": 24,
   "id": "b331cff5",
   "metadata": {},
   "outputs": [
    {
     "data": {
      "text/plain": [
       "'happy'"
      ]
     },
     "execution_count": 24,
     "metadata": {},
     "output_type": "execute_result"
    }
   ],
   "source": [
    "result"
   ]
  },
  {
   "cell_type": "code",
   "execution_count": 4,
   "id": "700ad10e",
   "metadata": {},
   "outputs": [
    {
     "data": {
      "text/plain": [
       "{'a',\n",
       " 'b',\n",
       " 'c',\n",
       " 'd',\n",
       " 'e',\n",
       " 'f',\n",
       " 'g',\n",
       " 'h',\n",
       " 'i',\n",
       " 'j',\n",
       " 'k',\n",
       " 'l',\n",
       " 'm',\n",
       " 'n',\n",
       " 'o',\n",
       " 'p',\n",
       " 'q',\n",
       " 'r',\n",
       " 's',\n",
       " 't',\n",
       " 'u',\n",
       " 'v',\n",
       " 'w',\n",
       " 'x',\n",
       " 'y',\n",
       " 'z'}"
      ]
     },
     "execution_count": 4,
     "metadata": {},
     "output_type": "execute_result"
    }
   ],
   "source": [
    "set(ascii_lowercase)"
   ]
  },
  {
   "cell_type": "code",
   "execution_count": null,
   "id": "f9588c38",
   "metadata": {},
   "outputs": [],
   "source": []
  },
  {
   "cell_type": "code",
   "execution_count": null,
   "id": "5af8037d",
   "metadata": {},
   "outputs": [],
   "source": []
  },
  {
   "cell_type": "code",
   "execution_count": null,
   "id": "5c45f978",
   "metadata": {},
   "outputs": [],
   "source": []
  },
  {
   "cell_type": "code",
   "execution_count": 7,
   "id": "9b16b672",
   "metadata": {},
   "outputs": [
    {
     "name": "stdout",
     "output_type": "stream",
     "text": [
      "---------------\n",
      "z\n",
      "---------------\n",
      "z\n",
      "---------------\n",
      "z\n",
      "---------------\n",
      "z\n",
      "---------------\n",
      "z\n"
     ]
    }
   ],
   "source": [
    "answer = ''\n",
    "alphabet = 'abcdefghijklmnopqrstuvwxyz'\n",
    "\n",
    "for i in s:\n",
    "    print(\"---------------\")\n",
    "    print(i)\n",
    "    \n",
    "    cnt = 0\n",
    "    now_idx = alphabet.index(i)\n",
    "\n",
    "    while cnt < index:\n",
    "        now_idx += 1\n",
    "        if now_idx >= 26:\n",
    "            now_idx = 0\n",
    "            \n",
    "        if alphabet[now_idx] in skip:\n",
    "            pass\n",
    "        else:\n",
    "            cnt += 1\n",
    "        \n",
    "    answer += alphabet[now_idx]\n",
    "\n"
   ]
  },
  {
   "cell_type": "code",
   "execution_count": 8,
   "id": "6378bda3",
   "metadata": {},
   "outputs": [
    {
     "data": {
      "text/plain": [
       "'bbbbb'"
      ]
     },
     "execution_count": 8,
     "metadata": {},
     "output_type": "execute_result"
    }
   ],
   "source": [
    "answer"
   ]
  },
  {
   "cell_type": "code",
   "execution_count": null,
   "id": "199b3894",
   "metadata": {},
   "outputs": [],
   "source": []
  }
 ],
 "metadata": {
  "kernelspec": {
   "display_name": "hackerrank",
   "language": "python",
   "name": "hackerrank"
  },
  "language_info": {
   "codemirror_mode": {
    "name": "ipython",
    "version": 3
   },
   "file_extension": ".py",
   "mimetype": "text/x-python",
   "name": "python",
   "nbconvert_exporter": "python",
   "pygments_lexer": "ipython3",
   "version": "3.9.12"
  }
 },
 "nbformat": 4,
 "nbformat_minor": 5
}
