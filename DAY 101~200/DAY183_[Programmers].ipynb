{
 "cells": [
  {
   "cell_type": "code",
   "execution_count": 1,
   "id": "368ef2df",
   "metadata": {},
   "outputs": [],
   "source": [
    "lottos = [44, 1, 0, 0, 31, 25]\n",
    "win_nums = [31, 10, 45, 1, 6, 19]\n",
    "# [3, 5]"
   ]
  },
  {
   "cell_type": "code",
   "execution_count": 25,
   "id": "a906fef6",
   "metadata": {},
   "outputs": [],
   "source": [
    "lottos = [0, 0, 0, 0, 0, 0]\n",
    "win_nums = [38, 19, 20, 40, 15, 25]\n",
    "# [1, 6]"
   ]
  },
  {
   "cell_type": "code",
   "execution_count": 28,
   "id": "c34cb241",
   "metadata": {},
   "outputs": [],
   "source": [
    "lottos = [45, 4, 35, 20, 3, 9]\n",
    "win_nums = [20, 9, 3, 45, 4, 35]\n",
    "# [1, 1]"
   ]
  },
  {
   "cell_type": "code",
   "execution_count": 29,
   "id": "61c09718",
   "metadata": {},
   "outputs": [],
   "source": [
    "result = {\n",
    "    6:1, 5:2, 4:3, 3:4, 2:5, 1:6, 0:6\n",
    "}\n",
    "\n",
    "n_cnt = 0\n",
    "zero_cnt = 0\n",
    "\n",
    "answer = []\n",
    "\n",
    "for i in lottos:\n",
    "    if i in win_nums:\n",
    "        n_cnt += 1\n",
    "answer.append(result[n_cnt + lottos.count(0)])\n",
    "answer.append(result[n_cnt])\n"
   ]
  },
  {
   "cell_type": "code",
   "execution_count": 30,
   "id": "3f4b1393",
   "metadata": {},
   "outputs": [
    {
     "data": {
      "text/plain": [
       "[1, 1]"
      ]
     },
     "execution_count": 30,
     "metadata": {},
     "output_type": "execute_result"
    }
   ],
   "source": [
    "answer"
   ]
  },
  {
   "cell_type": "code",
   "execution_count": null,
   "id": "d0f0e98d",
   "metadata": {},
   "outputs": [],
   "source": []
  },
  {
   "cell_type": "code",
   "execution_count": null,
   "id": "0ed6dc3a",
   "metadata": {},
   "outputs": [],
   "source": [
    "def solution(lottos, win_nums):\n",
    "\n",
    "    rank=[6,6,5,4,3,2,1]\n",
    "\n",
    "    cnt_0 = lottos.count(0)\n",
    "    ans = 0\n",
    "    for x in win_nums:\n",
    "        if x in lottos:\n",
    "            ans += 1\n",
    "    return rank[cnt_0 + ans],rank[ans]"
   ]
  },
  {
   "cell_type": "code",
   "execution_count": null,
   "id": "17d2cb48",
   "metadata": {},
   "outputs": [],
   "source": []
  },
  {
   "cell_type": "code",
   "execution_count": null,
   "id": "41f3407f",
   "metadata": {},
   "outputs": [],
   "source": []
  }
 ],
 "metadata": {
  "kernelspec": {
   "display_name": "color_extraction",
   "language": "python",
   "name": "color_extraction"
  },
  "language_info": {
   "codemirror_mode": {
    "name": "ipython",
    "version": 3
   },
   "file_extension": ".py",
   "mimetype": "text/x-python",
   "name": "python",
   "nbconvert_exporter": "python",
   "pygments_lexer": "ipython3",
   "version": "3.8.16"
  }
 },
 "nbformat": 4,
 "nbformat_minor": 5
}
