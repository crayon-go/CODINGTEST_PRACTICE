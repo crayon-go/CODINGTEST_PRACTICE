{
 "cells": [
  {
   "cell_type": "code",
   "execution_count": 28,
   "id": "d6688b5e",
   "metadata": {},
   "outputs": [],
   "source": [
    "board = [[0, 0, 0, 0, 0],\n",
    "         [0, 0, 0, 0, 0], \n",
    "         [0, 0, 0, 0, 0],\n",
    "         [0, 0, 1, 1, 0],\n",
    "         [0, 0, 0, 0, 0]]\n",
    "# 13"
   ]
  },
  {
   "cell_type": "code",
   "execution_count": 23,
   "id": "612adc31",
   "metadata": {},
   "outputs": [],
   "source": [
    "board = [[1, 1, 1, 1, 1, 1],\n",
    "         [1, 1, 1, 1, 1, 1], \n",
    "         [1, 1, 1, 1, 1, 1],\n",
    "         [1, 1, 1, 1, 1, 1],\n",
    "         [1, 1, 1, 1, 1, 1],\n",
    "         [1, 1, 1, 1, 1, 1]]\n",
    "# 0"
   ]
  },
  {
   "cell_type": "code",
   "execution_count": 17,
   "id": "179c266a",
   "metadata": {},
   "outputs": [],
   "source": [
    "board = [[0, 0, 0, 0, 0],\n",
    "         [0, 0, 0, 0, 0],\n",
    "         [0, 0, 0, 0, 0],\n",
    "         [0, 0, 1, 0, 0],\n",
    "         [0, 0, 0, 0, 0]]\n",
    "# 16"
   ]
  },
  {
   "cell_type": "code",
   "execution_count": 33,
   "id": "99e2badd",
   "metadata": {},
   "outputs": [],
   "source": [
    "answer = 0\n",
    "n = len(board)\n",
    "board2 = [[0 for _ in range(n+2)] for _ in range(n+2)]\n",
    "\n",
    "for i in range(n):\n",
    "    for j in range(n):\n",
    "        if board[i][j] == 1:\n",
    "            board2[i+1][j+1] = 1\n",
    "\n",
    "for i in range(1, n+1):\n",
    "    for j in range(1, n+1):\n",
    "        if board2[i][j] == 0:\n",
    "            if board2[i-1][j-1] == 0 and board2[i-1][j] == 0 and board2[i-1][j+1] == 0 and board2[i][j-1] == 0 and board2[i][j+1] == 0 and board2[i+1][j-1] == 0 and board2[i+1][j] == 0 and board2[i+1][j+1] == 0:\n",
    "                answer += 1\n",
    "        else:\n",
    "            pass"
   ]
  },
  {
   "cell_type": "code",
   "execution_count": 34,
   "id": "efaef2ff",
   "metadata": {},
   "outputs": [
    {
     "data": {
      "text/plain": [
       "13"
      ]
     },
     "execution_count": 34,
     "metadata": {},
     "output_type": "execute_result"
    }
   ],
   "source": [
    "answer"
   ]
  },
  {
   "cell_type": "code",
   "execution_count": null,
   "id": "36acca5e",
   "metadata": {},
   "outputs": [],
   "source": []
  },
  {
   "cell_type": "code",
   "execution_count": 36,
   "id": "459d573c",
   "metadata": {},
   "outputs": [
    {
     "name": "stdout",
     "output_type": "stream",
     "text": [
      "13\n"
     ]
    }
   ],
   "source": [
    "n = len(board)\n",
    "danger = set()\n",
    "for i, row in enumerate(board):\n",
    "    for j, x in enumerate(row):\n",
    "        if not x:\n",
    "            continue\n",
    "        danger.update((i+di, j+dj) for di in [-1,0,1] for dj in [-1, 0, 1])\n",
    "print(n*n - sum(0 <= i < n and 0 <= j < n for i, j in danger))"
   ]
  },
  {
   "cell_type": "code",
   "execution_count": null,
   "id": "1c311e19",
   "metadata": {},
   "outputs": [],
   "source": []
  },
  {
   "cell_type": "code",
   "execution_count": null,
   "id": "bd2638a8",
   "metadata": {},
   "outputs": [],
   "source": []
  },
  {
   "cell_type": "code",
   "execution_count": null,
   "id": "79fced47",
   "metadata": {},
   "outputs": [],
   "source": []
  }
 ],
 "metadata": {
  "kernelspec": {
   "display_name": "hackerrank",
   "language": "python",
   "name": "hackerrank"
  },
  "language_info": {
   "codemirror_mode": {
    "name": "ipython",
    "version": 3
   },
   "file_extension": ".py",
   "mimetype": "text/x-python",
   "name": "python",
   "nbconvert_exporter": "python",
   "pygments_lexer": "ipython3",
   "version": "3.9.12"
  }
 },
 "nbformat": 4,
 "nbformat_minor": 5
}
