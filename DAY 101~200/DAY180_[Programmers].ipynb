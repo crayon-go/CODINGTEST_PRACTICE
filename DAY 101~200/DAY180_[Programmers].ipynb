{
 "cells": [
  {
   "cell_type": "code",
   "execution_count": 5,
   "id": "cec4260c",
   "metadata": {},
   "outputs": [],
   "source": [
    "k = 3\n",
    "score = [10, 100, 20, 150, 1, 100, 200]\n",
    "# [10, 10, 10, 20, 20, 100, 100]"
   ]
  },
  {
   "cell_type": "code",
   "execution_count": 33,
   "id": "ba03e39c",
   "metadata": {},
   "outputs": [],
   "source": [
    "k = 4\n",
    "score = [0, 300, 40, 300, 20, 70, 150, 50, 500, 1000]\n",
    "# [0, 0, 0, 0, 20, 40, 70, 70, 150, 300]"
   ]
  },
  {
   "cell_type": "code",
   "execution_count": 34,
   "id": "43aa8f49",
   "metadata": {},
   "outputs": [],
   "source": [
    "answer = []\n",
    "board = []\n",
    "\n",
    "for idx, i in enumerate(score):\n",
    "    board.append(i)\n",
    "    board.sort(reverse=True)\n",
    "    if k <= idx:\n",
    "        board.append(i)\n",
    "        board = board[:k]\n",
    "    \n",
    "    answer.append(board[-1])"
   ]
  },
  {
   "cell_type": "code",
   "execution_count": null,
   "id": "cce5cf72",
   "metadata": {},
   "outputs": [],
   "source": []
  },
  {
   "cell_type": "code",
   "execution_count": 36,
   "id": "0da5921f",
   "metadata": {},
   "outputs": [
    {
     "data": {
      "text/plain": [
       "[0, 0, 0, 0, 20, 40, 70, 70, 150, 300]"
      ]
     },
     "execution_count": 36,
     "metadata": {},
     "output_type": "execute_result"
    }
   ],
   "source": [
    "q = []\n",
    "\n",
    "answer = []\n",
    "for s in score:\n",
    "\n",
    "    q.append(s)\n",
    "    if (len(q) > k):\n",
    "        q.remove(min(q))\n",
    "    answer.append(min(q))\n",
    "\n",
    "answer"
   ]
  },
  {
   "cell_type": "code",
   "execution_count": null,
   "id": "c96031b6",
   "metadata": {},
   "outputs": [],
   "source": []
  },
  {
   "cell_type": "code",
   "execution_count": null,
   "id": "441d366d",
   "metadata": {},
   "outputs": [],
   "source": []
  },
  {
   "cell_type": "code",
   "execution_count": null,
   "id": "70a1e53d",
   "metadata": {},
   "outputs": [],
   "source": []
  },
  {
   "cell_type": "code",
   "execution_count": null,
   "id": "eb5186ba",
   "metadata": {},
   "outputs": [],
   "source": []
  },
  {
   "cell_type": "code",
   "execution_count": null,
   "id": "a3f0db13",
   "metadata": {},
   "outputs": [],
   "source": []
  },
  {
   "cell_type": "code",
   "execution_count": null,
   "id": "6b5563cf",
   "metadata": {},
   "outputs": [],
   "source": []
  }
 ],
 "metadata": {
  "kernelspec": {
   "display_name": "hackerrank",
   "language": "python",
   "name": "hackerrank"
  },
  "language_info": {
   "codemirror_mode": {
    "name": "ipython",
    "version": 3
   },
   "file_extension": ".py",
   "mimetype": "text/x-python",
   "name": "python",
   "nbconvert_exporter": "python",
   "pygments_lexer": "ipython3",
   "version": "3.9.12"
  }
 },
 "nbformat": 4,
 "nbformat_minor": 5
}
