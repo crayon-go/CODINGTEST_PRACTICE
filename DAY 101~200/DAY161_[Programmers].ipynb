{
 "cells": [
  {
   "cell_type": "code",
   "execution_count": 1,
   "id": "bb3e9dba",
   "metadata": {},
   "outputs": [],
   "source": [
    "s = \"AB\"\n",
    "n = 1\n",
    "# \"BC\""
   ]
  },
  {
   "cell_type": "code",
   "execution_count": 36,
   "id": "9bc659b1",
   "metadata": {},
   "outputs": [],
   "source": [
    "s = \"z\"\n",
    "n = 1\n",
    "# \"a\""
   ]
  },
  {
   "cell_type": "code",
   "execution_count": 42,
   "id": "53737e38",
   "metadata": {},
   "outputs": [],
   "source": [
    "s = \"a B z\"\n",
    "n = 4\n",
    "# \"e F d\""
   ]
  },
  {
   "cell_type": "code",
   "execution_count": 20,
   "id": "518d08b5",
   "metadata": {},
   "outputs": [
    {
     "data": {
      "text/plain": [
       "'ABCDEFGHIJKLMNOPQRSTUVWXYZ'"
      ]
     },
     "execution_count": 20,
     "metadata": {},
     "output_type": "execute_result"
    }
   ],
   "source": [
    "upper_s"
   ]
  },
  {
   "cell_type": "code",
   "execution_count": 25,
   "id": "871bfa80",
   "metadata": {},
   "outputs": [
    {
     "data": {
      "text/plain": [
       "25"
      ]
     },
     "execution_count": 25,
     "metadata": {},
     "output_type": "execute_result"
    }
   ],
   "source": [
    "upper_s.index(\"Z\")"
   ]
  },
  {
   "cell_type": "code",
   "execution_count": 15,
   "id": "eaed82f9",
   "metadata": {},
   "outputs": [],
   "source": [
    "import string\n",
    "\n",
    "answer = ''\n",
    "\n",
    "upper_s = string.ascii_uppercase\n",
    "lower_s = string.ascii_lowercase\n",
    "\n",
    "for i in s:\n",
    "    if i in upper_s:\n",
    "        nn = (upper_s.index(i) + n) % 26\n",
    "        answer += upper_s[nn]\n",
    "    elif i in lower_s:\n",
    "        nn = (lower_s.index(i) + n) % 26\n",
    "        answer += lower_s[nn]\n",
    "    else:\n",
    "        answer += ' '"
   ]
  },
  {
   "cell_type": "code",
   "execution_count": 4,
   "id": "ea5ef349",
   "metadata": {},
   "outputs": [
    {
     "data": {
      "text/plain": [
       "'BC'"
      ]
     },
     "execution_count": 4,
     "metadata": {},
     "output_type": "execute_result"
    }
   ],
   "source": [
    "answer"
   ]
  },
  {
   "cell_type": "code",
   "execution_count": null,
   "id": "c4a13f1e",
   "metadata": {},
   "outputs": [],
   "source": []
  },
  {
   "cell_type": "code",
   "execution_count": 14,
   "id": "722cf69b",
   "metadata": {},
   "outputs": [
    {
     "data": {
      "text/plain": [
       "'DE'"
      ]
     },
     "execution_count": 14,
     "metadata": {},
     "output_type": "execute_result"
    }
   ],
   "source": [
    "s = list(s)\n",
    "for i in range(len(s)):\n",
    "\n",
    "    if s[i].isupper():\n",
    "        s[i] = chr((ord(s[i]) - ord('A') + n) % 26 + ord('A'))\n",
    "\n",
    "    elif s[i].islower():\n",
    "        s[i] = chr((ord(s[i]) - ord('a') + n) % 26 + ord('a'))\n",
    "\n",
    "\"\".join(s)"
   ]
  },
  {
   "cell_type": "code",
   "execution_count": 5,
   "id": "c8fc7a95",
   "metadata": {},
   "outputs": [
    {
     "data": {
      "text/plain": [
       "65"
      ]
     },
     "execution_count": 5,
     "metadata": {},
     "output_type": "execute_result"
    }
   ],
   "source": [
    "ord(\"A\")"
   ]
  },
  {
   "cell_type": "code",
   "execution_count": 6,
   "id": "7ae80ad6",
   "metadata": {},
   "outputs": [
    {
     "data": {
      "text/plain": [
       "97"
      ]
     },
     "execution_count": 6,
     "metadata": {},
     "output_type": "execute_result"
    }
   ],
   "source": [
    "ord(\"a\")"
   ]
  },
  {
   "cell_type": "code",
   "execution_count": 7,
   "id": "00712c14",
   "metadata": {},
   "outputs": [
    {
     "data": {
      "text/plain": [
       "'A'"
      ]
     },
     "execution_count": 7,
     "metadata": {},
     "output_type": "execute_result"
    }
   ],
   "source": [
    "chr(65)"
   ]
  },
  {
   "cell_type": "code",
   "execution_count": 8,
   "id": "8c551039",
   "metadata": {},
   "outputs": [
    {
     "data": {
      "text/plain": [
       "'a'"
      ]
     },
     "execution_count": 8,
     "metadata": {},
     "output_type": "execute_result"
    }
   ],
   "source": [
    "chr(97)"
   ]
  },
  {
   "cell_type": "code",
   "execution_count": null,
   "id": "8ea28e67",
   "metadata": {},
   "outputs": [],
   "source": []
  },
  {
   "cell_type": "code",
   "execution_count": null,
   "id": "bf1a7576",
   "metadata": {},
   "outputs": [],
   "source": [
    "명함 번호\t가로 길이\t세로 길이\n",
    "1\t60\t50\n",
    "2\t30\t70\n",
    "3\t60\t30\n",
    "4\t80\t40"
   ]
  },
  {
   "cell_type": "code",
   "execution_count": 1,
   "id": "6e2de78e",
   "metadata": {},
   "outputs": [],
   "source": [
    "sizes = [[60, 50], [30, 70], [60, 30], [80, 40]]\n",
    "# 4000"
   ]
  },
  {
   "cell_type": "code",
   "execution_count": 10,
   "id": "32a78113",
   "metadata": {},
   "outputs": [],
   "source": [
    "sizes = [[10, 7], [12, 3], [8, 15], [14, 7], [5, 15]]\n",
    "# 120"
   ]
  },
  {
   "cell_type": "code",
   "execution_count": 14,
   "id": "20b47159",
   "metadata": {},
   "outputs": [],
   "source": [
    "sizes = [[14, 4], [19, 6], [6, 16], [18, 7], [7, 11]]\n",
    "# 133"
   ]
  },
  {
   "cell_type": "code",
   "execution_count": 15,
   "id": "949f1f28",
   "metadata": {},
   "outputs": [],
   "source": [
    "w_max = 0\n",
    "h_max = 0\n",
    "for i in sizes:\n",
    "    i.sort()\n",
    "    w_max = max(w_max, i[0])\n",
    "    h_max = max(h_max, i[1])"
   ]
  },
  {
   "cell_type": "code",
   "execution_count": 16,
   "id": "7c5eec4b",
   "metadata": {},
   "outputs": [
    {
     "data": {
      "text/plain": [
       "(7, 19)"
      ]
     },
     "execution_count": 16,
     "metadata": {},
     "output_type": "execute_result"
    }
   ],
   "source": [
    "w_max, h_max"
   ]
  },
  {
   "cell_type": "code",
   "execution_count": 17,
   "id": "2680b69d",
   "metadata": {},
   "outputs": [
    {
     "data": {
      "text/plain": [
       "133"
      ]
     },
     "execution_count": 17,
     "metadata": {},
     "output_type": "execute_result"
    }
   ],
   "source": [
    "w_max * h_max"
   ]
  },
  {
   "cell_type": "code",
   "execution_count": null,
   "id": "c0e3e6fa",
   "metadata": {},
   "outputs": [],
   "source": []
  },
  {
   "cell_type": "code",
   "execution_count": null,
   "id": "4229bd5f",
   "metadata": {},
   "outputs": [],
   "source": [
    "max(max(x) for x in sizes) * max(min(x) for x in sizes)"
   ]
  },
  {
   "cell_type": "code",
   "execution_count": null,
   "id": "67143150",
   "metadata": {},
   "outputs": [],
   "source": []
  }
 ],
 "metadata": {
  "kernelspec": {
   "display_name": "hackerrank",
   "language": "python",
   "name": "hackerrank"
  },
  "language_info": {
   "codemirror_mode": {
    "name": "ipython",
    "version": 3
   },
   "file_extension": ".py",
   "mimetype": "text/x-python",
   "name": "python",
   "nbconvert_exporter": "python",
   "pygments_lexer": "ipython3",
   "version": "3.8.13"
  }
 },
 "nbformat": 4,
 "nbformat_minor": 5
}
