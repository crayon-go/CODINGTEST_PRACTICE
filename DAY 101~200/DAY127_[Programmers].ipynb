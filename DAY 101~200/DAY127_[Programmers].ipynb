{
 "cells": [
  {
   "cell_type": "code",
   "execution_count": 9,
   "id": "40bedfa2",
   "metadata": {},
   "outputs": [],
   "source": [
    "base = [\"aya\", \"ye\", \"woo\", \"ma\"]"
   ]
  },
  {
   "cell_type": "code",
   "execution_count": 132,
   "id": "dcb9356a",
   "metadata": {},
   "outputs": [],
   "source": [
    "babbling = [\"uuuma\", \"ayaa\", \"yemawoo\", \"ye\", \"ayaye\"]\n",
    "# 3"
   ]
  },
  {
   "cell_type": "code",
   "execution_count": 129,
   "id": "39ec1a76",
   "metadata": {},
   "outputs": [],
   "source": [
    "babbling = [\"wyeoo\", \"aya\", \"yee\", \"u\", \"maa\"]\n",
    "# 1"
   ]
  },
  {
   "cell_type": "code",
   "execution_count": 133,
   "id": "7546c607",
   "metadata": {},
   "outputs": [
    {
     "name": "stdout",
     "output_type": "stream",
     "text": [
      "ma\n",
      "aya\n",
      "ye\n",
      "woo\n",
      "ma\n",
      "ye\n",
      "aya\n",
      "ye\n",
      "3\n"
     ]
    }
   ],
   "source": [
    "answer = 0\n",
    "\n",
    "for idx, i in enumerate(babbling):\n",
    "    for j in base:\n",
    "        if j in babbling[idx]:\n",
    "            print(j)\n",
    "            babbling[idx] = babbling[idx].replace(j, \"1\")\n",
    "    if babbling[idx].isdigit():\n",
    "        answer += 1\n",
    "\n",
    "print(answer)"
   ]
  },
  {
   "cell_type": "code",
   "execution_count": null,
   "id": "ca7e89c7",
   "metadata": {},
   "outputs": [],
   "source": []
  },
  {
   "cell_type": "code",
   "execution_count": null,
   "id": "a0a5c862",
   "metadata": {},
   "outputs": [],
   "source": []
  },
  {
   "cell_type": "code",
   "execution_count": 150,
   "id": "fa6d2713",
   "metadata": {},
   "outputs": [],
   "source": [
    "babbling = [\"uuuma\", \"ayaa\", \"yemawoo\", \"ye\", \"ayaye\"]\n",
    "# 3"
   ]
  },
  {
   "cell_type": "code",
   "execution_count": 134,
   "id": "48c53ca9",
   "metadata": {},
   "outputs": [],
   "source": [
    "babbling = [\"wyeoo\", \"aya\", \"yee\", \"u\", \"maa\"]\n",
    "# 1"
   ]
  },
  {
   "cell_type": "code",
   "execution_count": 152,
   "id": "a6c3fe9d",
   "metadata": {
    "scrolled": false
   },
   "outputs": [
    {
     "name": "stdout",
     "output_type": "stream",
     "text": [
      "3\n"
     ]
    }
   ],
   "source": [
    "c = 0\n",
    "for b in babbling:\n",
    "    for w in [ \"aya\", \"ye\", \"woo\", \"ma\" ]:\n",
    "        b = b.replace(w, ' ', 1) \n",
    "    if len(b.strip()) == 0:\n",
    "        c += 1\n",
    "print(c)"
   ]
  },
  {
   "cell_type": "code",
   "execution_count": 146,
   "id": "a6e1dc43",
   "metadata": {},
   "outputs": [
    {
     "data": {
      "text/plain": [
       "'*oxoxoxox'"
      ]
     },
     "execution_count": 146,
     "metadata": {},
     "output_type": "execute_result"
    }
   ],
   "source": [
    "'oxoxoxoxox'.replace('ox', '*', 1)"
   ]
  },
  {
   "cell_type": "code",
   "execution_count": null,
   "id": "439cb678",
   "metadata": {},
   "outputs": [],
   "source": []
  }
 ],
 "metadata": {
  "kernelspec": {
   "display_name": "hackerrank",
   "language": "python",
   "name": "hackerrank"
  },
  "language_info": {
   "codemirror_mode": {
    "name": "ipython",
    "version": 3
   },
   "file_extension": ".py",
   "mimetype": "text/x-python",
   "name": "python",
   "nbconvert_exporter": "python",
   "pygments_lexer": "ipython3",
   "version": "3.9.12"
  }
 },
 "nbformat": 4,
 "nbformat_minor": 5
}
