{
 "cells": [
  {
   "cell_type": "code",
   "execution_count": 63,
   "id": "a5b9b387",
   "metadata": {},
   "outputs": [],
   "source": [
    "A = \"hello\"\n",
    "B = \"ohell\"\n",
    "# 1"
   ]
  },
  {
   "cell_type": "code",
   "execution_count": 61,
   "id": "c68e042e",
   "metadata": {},
   "outputs": [],
   "source": [
    "A = \"apple\"\n",
    "B = \"elppa\"\n",
    "# -1"
   ]
  },
  {
   "cell_type": "code",
   "execution_count": 64,
   "id": "052cfe16",
   "metadata": {},
   "outputs": [
    {
     "name": "stdout",
     "output_type": "stream",
     "text": [
      "1\n"
     ]
    }
   ],
   "source": [
    "from collections import deque\n",
    "\n",
    "AA = list(A)\n",
    "BB = list(B)\n",
    "\n",
    "for i in range(len(AA)):\n",
    "    if AA == BB:\n",
    "        print(i)\n",
    "        break\n",
    "    else:\n",
    "        AA = deque(AA)\n",
    "        AA.rotate(1)\n",
    "        AA = list(AA)\n",
    "        \n",
    "else:\n",
    "    print(\"-1\")"
   ]
  },
  {
   "cell_type": "code",
   "execution_count": null,
   "id": "5258e2d0",
   "metadata": {},
   "outputs": [],
   "source": []
  },
  {
   "cell_type": "code",
   "execution_count": 65,
   "id": "d1b92847",
   "metadata": {},
   "outputs": [],
   "source": [
    "solution=lambda a,b:(b*2).find(a)"
   ]
  },
  {
   "cell_type": "code",
   "execution_count": 66,
   "id": "7d620101",
   "metadata": {},
   "outputs": [
    {
     "data": {
      "text/plain": [
       "1"
      ]
     },
     "execution_count": 66,
     "metadata": {},
     "output_type": "execute_result"
    }
   ],
   "source": [
    "solution(A, B)"
   ]
  },
  {
   "cell_type": "code",
   "execution_count": null,
   "id": "d8483514",
   "metadata": {},
   "outputs": [],
   "source": []
  },
  {
   "cell_type": "code",
   "execution_count": 73,
   "id": "9738abf4",
   "metadata": {},
   "outputs": [
    {
     "name": "stdout",
     "output_type": "stream",
     "text": [
      "hellohello\n",
      "4\n",
      "-------------\n",
      "1\n"
     ]
    }
   ],
   "source": [
    "A = \"hello\"\n",
    "B = \"ohell\"\n",
    "# 1\n",
    "\n",
    "AA = A+A\n",
    "print(AA)\n",
    "answer = AA.find(B)\n",
    "print(answer)\n",
    "\n",
    "if answer > 0:\n",
    "    answer = len(A) - answer\n",
    "\n",
    "print(\"-------------\")\n",
    "print(answer)"
   ]
  },
  {
   "cell_type": "code",
   "execution_count": null,
   "id": "ec3347e2",
   "metadata": {},
   "outputs": [],
   "source": []
  },
  {
   "cell_type": "code",
   "execution_count": null,
   "id": "4e9d49ba",
   "metadata": {},
   "outputs": [],
   "source": []
  },
  {
   "cell_type": "code",
   "execution_count": null,
   "id": "c17c33f5",
   "metadata": {},
   "outputs": [],
   "source": []
  },
  {
   "cell_type": "code",
   "execution_count": null,
   "id": "cc161ac4",
   "metadata": {},
   "outputs": [],
   "source": []
  },
  {
   "cell_type": "code",
   "execution_count": null,
   "id": "0d03be52",
   "metadata": {},
   "outputs": [],
   "source": []
  }
 ],
 "metadata": {
  "kernelspec": {
   "display_name": "hackerrank",
   "language": "python",
   "name": "hackerrank"
  },
  "language_info": {
   "codemirror_mode": {
    "name": "ipython",
    "version": 3
   },
   "file_extension": ".py",
   "mimetype": "text/x-python",
   "name": "python",
   "nbconvert_exporter": "python",
   "pygments_lexer": "ipython3",
   "version": "3.9.12"
  }
 },
 "nbformat": 4,
 "nbformat_minor": 5
}
