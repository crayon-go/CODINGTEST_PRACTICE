{
 "cells": [
  {
   "cell_type": "code",
   "execution_count": 34,
   "id": "bee99eb8",
   "metadata": {},
   "outputs": [],
   "source": [
    "d = [1,3,2,5,4]\n",
    "budget = 9\n",
    "# 3"
   ]
  },
  {
   "cell_type": "code",
   "execution_count": 35,
   "id": "c9ed0df2",
   "metadata": {},
   "outputs": [],
   "source": [
    "d = [2,2,3,3]\n",
    "budget = 10\n",
    "# 4"
   ]
  },
  {
   "cell_type": "code",
   "execution_count": 30,
   "id": "dfc9102d",
   "metadata": {},
   "outputs": [
    {
     "name": "stdout",
     "output_type": "stream",
     "text": [
      "[1, 2, 3, 4, 5]\n"
     ]
    }
   ],
   "source": [
    "d.sort()\n",
    "\n",
    "answer = 0\n",
    "tmp_sum = 0\n",
    "\n",
    "for i in d:\n",
    "    tmp_sum += i\n",
    "    \n",
    "    if tmp_sum <= budget:\n",
    "        answer += 1\n",
    "    else:\n",
    "        break"
   ]
  },
  {
   "cell_type": "code",
   "execution_count": 31,
   "id": "4dfe014f",
   "metadata": {},
   "outputs": [
    {
     "data": {
      "text/plain": [
       "3"
      ]
     },
     "execution_count": 31,
     "metadata": {},
     "output_type": "execute_result"
    }
   ],
   "source": [
    "answer"
   ]
  },
  {
   "cell_type": "code",
   "execution_count": null,
   "id": "cfb207b0",
   "metadata": {},
   "outputs": [],
   "source": []
  },
  {
   "cell_type": "code",
   "execution_count": 42,
   "id": "6546ad1e",
   "metadata": {},
   "outputs": [
    {
     "name": "stdout",
     "output_type": "stream",
     "text": [
      "[2, 2, 3, 3]\n"
     ]
    },
    {
     "data": {
      "text/plain": [
       "4"
      ]
     },
     "execution_count": 42,
     "metadata": {},
     "output_type": "execute_result"
    }
   ],
   "source": [
    "d = [2,2,3,3]\n",
    "d.sort()\n",
    "print(d)\n",
    "\n",
    "while budget < sum(d):\n",
    "    d.pop()\n",
    "len(d)"
   ]
  },
  {
   "cell_type": "code",
   "execution_count": null,
   "id": "d8d5ba0f",
   "metadata": {},
   "outputs": [],
   "source": []
  }
 ],
 "metadata": {
  "kernelspec": {
   "display_name": "hackerrank",
   "language": "python",
   "name": "hackerrank"
  },
  "language_info": {
   "codemirror_mode": {
    "name": "ipython",
    "version": 3
   },
   "file_extension": ".py",
   "mimetype": "text/x-python",
   "name": "python",
   "nbconvert_exporter": "python",
   "pygments_lexer": "ipython3",
   "version": "3.8.13"
  }
 },
 "nbformat": 4,
 "nbformat_minor": 5
}
