{
 "cells": [
  {
   "cell_type": "code",
   "execution_count": 2,
   "id": "cf8679e5",
   "metadata": {},
   "outputs": [],
   "source": [
    "s = \"banana\"\n",
    "# 3"
   ]
  },
  {
   "cell_type": "code",
   "execution_count": 48,
   "id": "72d2eb28",
   "metadata": {},
   "outputs": [],
   "source": [
    "s = \"abracadabra\"\n",
    "# 6"
   ]
  },
  {
   "cell_type": "code",
   "execution_count": 91,
   "id": "cbd0dc30",
   "metadata": {},
   "outputs": [],
   "source": [
    "s = \"aaabbaccccabba\"\n",
    "# 3"
   ]
  },
  {
   "cell_type": "code",
   "execution_count": 86,
   "id": "dff79e0f",
   "metadata": {},
   "outputs": [],
   "source": [
    "s = \"baaa\"\n",
    "# 2"
   ]
  },
  {
   "cell_type": "code",
   "execution_count": null,
   "id": "caa92bb2",
   "metadata": {},
   "outputs": [],
   "source": []
  },
  {
   "cell_type": "code",
   "execution_count": null,
   "id": "7c8608a0",
   "metadata": {},
   "outputs": [],
   "source": []
  },
  {
   "cell_type": "code",
   "execution_count": 17,
   "id": "cf4927f2",
   "metadata": {},
   "outputs": [
    {
     "name": "stdout",
     "output_type": "stream",
     "text": [
      "----------\n",
      "deque(['b', 'a', 'n', 'a', 'n', 'a'])\n",
      "deque(['a', 'n', 'a', 'n', 'a'])\n",
      "deque(['n', 'a', 'n', 'a'])\n",
      "22\n",
      "----------\n",
      "deque(['n', 'a', 'n', 'a'])\n",
      "deque(['a', 'n', 'a'])\n",
      "deque(['n', 'a'])\n",
      "22\n",
      "----------\n",
      "deque(['n', 'a'])\n",
      "deque(['a'])\n",
      "deque([])\n",
      "22\n"
     ]
    },
    {
     "data": {
      "text/plain": [
       "3"
      ]
     },
     "execution_count": 17,
     "metadata": {},
     "output_type": "execute_result"
    }
   ],
   "source": [
    "from collections import deque\n",
    "\n",
    "ans = 0\n",
    "\n",
    "q = deque(s)\n",
    "while q:\n",
    "    print(\"----------\")\n",
    "    print(q)\n",
    "    a, b = 1, 0\n",
    "    x = q.popleft()    \n",
    "    \n",
    "    while q:\n",
    "        print(q)\n",
    "        n = q.popleft()\n",
    "        print(q)\n",
    "        if n == x:\n",
    "            a += 1\n",
    "        else:\n",
    "            b += 1\n",
    "\n",
    "        if a == b:\n",
    "            ans += 1\n",
    "            print(\"22\")\n",
    "            break\n",
    "if a != b:\n",
    "    ans += 1\n",
    "\n",
    "ans"
   ]
  },
  {
   "cell_type": "code",
   "execution_count": null,
   "id": "a9f869a6",
   "metadata": {},
   "outputs": [],
   "source": []
  },
  {
   "cell_type": "code",
   "execution_count": null,
   "id": "8e0522fd",
   "metadata": {},
   "outputs": [],
   "source": []
  },
  {
   "cell_type": "code",
   "execution_count": null,
   "id": "5d11f6f8",
   "metadata": {},
   "outputs": [],
   "source": []
  },
  {
   "cell_type": "code",
   "execution_count": 92,
   "id": "d0acfddd",
   "metadata": {},
   "outputs": [
    {
     "data": {
      "text/plain": [
       "3"
      ]
     },
     "execution_count": 92,
     "metadata": {},
     "output_type": "execute_result"
    }
   ],
   "source": [
    "\n",
    "answer = 0\n",
    "sav1=0\n",
    "sav2=0\n",
    "for i in s:\n",
    "    if sav1==sav2:\n",
    "        answer+=1\n",
    "        a=i\n",
    "    if i==a:\n",
    "        sav1+=1\n",
    "    else:\n",
    "        sav2+=1\n",
    "answer"
   ]
  },
  {
   "cell_type": "code",
   "execution_count": null,
   "id": "f88a2aff",
   "metadata": {},
   "outputs": [],
   "source": []
  },
  {
   "cell_type": "code",
   "execution_count": null,
   "id": "a9892d72",
   "metadata": {},
   "outputs": [],
   "source": []
  },
  {
   "cell_type": "code",
   "execution_count": null,
   "id": "1f55ad3a",
   "metadata": {},
   "outputs": [],
   "source": []
  },
  {
   "cell_type": "code",
   "execution_count": 87,
   "id": "cad46c6e",
   "metadata": {},
   "outputs": [],
   "source": [
    "answer = 0\n",
    "\n",
    "cnt1 = 0\n",
    "cnt2 = 0\n",
    "\n",
    "tmp  = ''\n",
    "\n",
    "for i in s:\n",
    "    if tmp == '':\n",
    "        x = i\n",
    "        cnt1 += 1\n",
    "        tmp += i\n",
    "        continue\n",
    "    \n",
    "    if i == x:\n",
    "        cnt1 += 1\n",
    "    elif i != x:\n",
    "        cnt2 += 1\n",
    "    tmp += i\n",
    "    \n",
    "    if cnt1 == cnt2:\n",
    "        answer += 1\n",
    "        x = i\n",
    "        tmp = ''\n",
    "        cnt1 = 0\n",
    "        cnt2 = 0\n",
    "    \n",
    "    \n",
    "else:\n",
    "    if tmp != '':\n",
    "        answer += 1\n"
   ]
  },
  {
   "cell_type": "code",
   "execution_count": 88,
   "id": "64e115cd",
   "metadata": {},
   "outputs": [
    {
     "data": {
      "text/plain": [
       "2"
      ]
     },
     "execution_count": 88,
     "metadata": {},
     "output_type": "execute_result"
    }
   ],
   "source": [
    "answer"
   ]
  },
  {
   "cell_type": "code",
   "execution_count": null,
   "id": "9ec4aaf8",
   "metadata": {},
   "outputs": [],
   "source": []
  },
  {
   "cell_type": "code",
   "execution_count": null,
   "id": "865455a3",
   "metadata": {},
   "outputs": [],
   "source": []
  },
  {
   "cell_type": "code",
   "execution_count": null,
   "id": "0151aef2",
   "metadata": {},
   "outputs": [],
   "source": []
  },
  {
   "cell_type": "code",
   "execution_count": null,
   "id": "b090e5ea",
   "metadata": {},
   "outputs": [],
   "source": []
  },
  {
   "cell_type": "code",
   "execution_count": null,
   "id": "fe19212d",
   "metadata": {},
   "outputs": [],
   "source": []
  },
  {
   "cell_type": "code",
   "execution_count": null,
   "id": "d38df5ec",
   "metadata": {},
   "outputs": [],
   "source": []
  },
  {
   "cell_type": "code",
   "execution_count": null,
   "id": "ae519ec5",
   "metadata": {},
   "outputs": [],
   "source": []
  },
  {
   "cell_type": "code",
   "execution_count": null,
   "id": "8453021f",
   "metadata": {},
   "outputs": [],
   "source": []
  }
 ],
 "metadata": {
  "kernelspec": {
   "display_name": "hackerrank",
   "language": "python",
   "name": "hackerrank"
  },
  "language_info": {
   "codemirror_mode": {
    "name": "ipython",
    "version": 3
   },
   "file_extension": ".py",
   "mimetype": "text/x-python",
   "name": "python",
   "nbconvert_exporter": "python",
   "pygments_lexer": "ipython3",
   "version": "3.9.12"
  }
 },
 "nbformat": 4,
 "nbformat_minor": 5
}
