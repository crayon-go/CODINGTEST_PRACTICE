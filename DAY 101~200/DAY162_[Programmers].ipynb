{
 "cells": [
  {
   "cell_type": "code",
   "execution_count": 57,
   "id": "c84b184f",
   "metadata": {},
   "outputs": [],
   "source": [
    "n = 5\n",
    "arr1 = [9, 20, 28, 18, 11]\n",
    "arr2 = [30, 1, 21, 17, 28]\n",
    "# [\"#####\",\"# # #\",\"### #\", \"# ##\", \"#####\"]\n"
   ]
  },
  {
   "cell_type": "code",
   "execution_count": 109,
   "id": "2160f394",
   "metadata": {},
   "outputs": [],
   "source": [
    "n = 6\n",
    "arr1 = [46, 33, 33 ,22, 31, 50]\n",
    "arr2 = [27 ,56, 19, 14, 14, 10]\n",
    "# [\"######\", \"### #\", \"## ##\", \" #### \", \" #####\", \"### # \"]"
   ]
  },
  {
   "cell_type": "code",
   "execution_count": 113,
   "id": "5090ba2e",
   "metadata": {},
   "outputs": [],
   "source": [
    "for i in arr1:\n",
    "    arr1_binary.append(format(int(bin(i)[2:]), \"0\"+str(n)))\n",
    "for i in arr2:\n",
    "    arr2_binary.append(format(int(bin(i)[2:]), \"0\"+str(n)))"
   ]
  },
  {
   "cell_type": "code",
   "execution_count": 114,
   "id": "1fee9427",
   "metadata": {},
   "outputs": [
    {
     "data": {
      "text/plain": [
       "['01001',\n",
       " '10100',\n",
       " '11100',\n",
       " '10010',\n",
       " '01011',\n",
       " '101110',\n",
       " '100001',\n",
       " '100001',\n",
       " '10110',\n",
       " '11111',\n",
       " '110010']"
      ]
     },
     "execution_count": 114,
     "metadata": {},
     "output_type": "execute_result"
    }
   ],
   "source": [
    "arr1_binary"
   ]
  },
  {
   "cell_type": "code",
   "execution_count": 115,
   "id": "03e74838",
   "metadata": {},
   "outputs": [
    {
     "data": {
      "text/plain": [
       "['11110',\n",
       " '00001',\n",
       " '10101',\n",
       " '10001',\n",
       " '11100',\n",
       " '11011',\n",
       " '111000',\n",
       " '10011',\n",
       " '01110',\n",
       " '01110',\n",
       " '01010']"
      ]
     },
     "execution_count": 115,
     "metadata": {},
     "output_type": "execute_result"
    }
   ],
   "source": [
    "arr2_binary"
   ]
  },
  {
   "cell_type": "code",
   "execution_count": 112,
   "id": "4f35f063",
   "metadata": {},
   "outputs": [],
   "source": [
    "result_binary = []\n",
    "for i, j in zip(arr1_binary, arr2_binary):\n",
    "    result_str = ''\n",
    "    for ii, jj in zip(i, j):\n",
    "        if int(ii) or int(jj) == 1:\n",
    "            result_str += \"1\"\n",
    "        else:\n",
    "            result_str += \"0\"\n",
    "    result_binary.append(result_str)\n"
   ]
  },
  {
   "cell_type": "code",
   "execution_count": 106,
   "id": "f6e1af80",
   "metadata": {},
   "outputs": [
    {
     "data": {
      "text/plain": [
       "['11111', '10101', '11101', '10011', '11111']"
      ]
     },
     "execution_count": 106,
     "metadata": {},
     "output_type": "execute_result"
    }
   ],
   "source": [
    "result_binary"
   ]
  },
  {
   "cell_type": "code",
   "execution_count": 107,
   "id": "14a6b51c",
   "metadata": {},
   "outputs": [],
   "source": [
    "answer = []\n",
    "for i in result_binary:\n",
    "    answer_str = ''\n",
    "    for j in i:\n",
    "        if j == '1':\n",
    "            answer_str += \"#\"\n",
    "        else:\n",
    "            answer_str += \" \"\n",
    "    answer.append(answer_str)"
   ]
  },
  {
   "cell_type": "code",
   "execution_count": 108,
   "id": "ded0e42f",
   "metadata": {},
   "outputs": [
    {
     "data": {
      "text/plain": [
       "['#####', '# # #', '### #', '#  ##', '#####']"
      ]
     },
     "execution_count": 108,
     "metadata": {},
     "output_type": "execute_result"
    }
   ],
   "source": [
    "answer"
   ]
  },
  {
   "cell_type": "code",
   "execution_count": null,
   "id": "4d2f7b59",
   "metadata": {},
   "outputs": [],
   "source": [
    "arr1_binary = []\n",
    "arr2_binary = []\n",
    "\n",
    "for i in arr1:\n",
    "    arr1_binary.append(format(int(bin(i)[2:]), \"0\"+str(n)))\n",
    "for i in arr2:\n",
    "    arr2_binary.append(format(int(bin(i)[2:]), \"0\"+str(n)))\n",
    "\n",
    "result_binary = []\n",
    "for i, j in zip(arr1_binary, arr2_binary):\n",
    "    result_str = ''\n",
    "    for ii, jj in zip(i, j):\n",
    "        if int(ii) or int(jj) == 1:\n",
    "            result_str += \"1\"\n",
    "        else:\n",
    "            result_str += \"0\"\n",
    "    result_binary.append(result_str)\n",
    "\n",
    "answer = []\n",
    "for i in result_binary:\n",
    "    answer_str = ''\n",
    "    for j in i:\n",
    "        if j == '1':\n",
    "            answer_str += \"#\"\n",
    "        else:\n",
    "            answer_str += \" \"\n",
    "    answer.append(answer_str)\n"
   ]
  },
  {
   "cell_type": "code",
   "execution_count": 118,
   "id": "83b1c8d2",
   "metadata": {},
   "outputs": [
    {
     "name": "stdout",
     "output_type": "stream",
     "text": [
      "46 27\n",
      "33 56\n",
      "33 19\n",
      "22 14\n",
      "31 14\n",
      "50 10\n"
     ]
    },
    {
     "data": {
      "text/plain": [
       "['######', '###  #', '##  ##', ' #### ', ' #####', '### # ']"
      ]
     },
     "execution_count": 118,
     "metadata": {},
     "output_type": "execute_result"
    }
   ],
   "source": [
    "answer = []\n",
    "for i, j in zip(arr1, arr2):\n",
    "    print(i, j)\n",
    "    a12 = str(bin(i|j)[2:])\n",
    "    a12 = a12.rjust(n,'0')\n",
    "    a12 = a12.replace('1','#')\n",
    "    a12 = a12.replace('0',' ')\n",
    "    answer.append(a12)\n",
    "answer"
   ]
  },
  {
   "cell_type": "code",
   "execution_count": null,
   "id": "10da4828",
   "metadata": {},
   "outputs": [],
   "source": []
  }
 ],
 "metadata": {
  "kernelspec": {
   "display_name": "hackerrank",
   "language": "python",
   "name": "hackerrank"
  },
  "language_info": {
   "codemirror_mode": {
    "name": "ipython",
    "version": 3
   },
   "file_extension": ".py",
   "mimetype": "text/x-python",
   "name": "python",
   "nbconvert_exporter": "python",
   "pygments_lexer": "ipython3",
   "version": "3.8.13"
  }
 },
 "nbformat": 4,
 "nbformat_minor": 5
}
