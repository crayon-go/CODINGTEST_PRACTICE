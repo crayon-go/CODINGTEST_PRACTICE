{
 "cells": [
  {
   "cell_type": "code",
   "execution_count": 13,
   "id": "815f0eaa",
   "metadata": {},
   "outputs": [],
   "source": [
    "arr = [1,1,3,3,0,1,1]\n",
    "# [1,3,0,1]"
   ]
  },
  {
   "cell_type": "code",
   "execution_count": 8,
   "id": "ba5ba42c",
   "metadata": {},
   "outputs": [],
   "source": [
    "arr = [4,4,4,3,3]\n",
    "# [4,3]"
   ]
  },
  {
   "cell_type": "code",
   "execution_count": 9,
   "id": "d4a0fe5a",
   "metadata": {},
   "outputs": [],
   "source": [
    "answer = []\n",
    "tmp = -1\n",
    "for i in arr:\n",
    "    if tmp != i:\n",
    "        answer.append(i)\n",
    "    tmp = i"
   ]
  },
  {
   "cell_type": "code",
   "execution_count": 10,
   "id": "31d5d2fc",
   "metadata": {},
   "outputs": [
    {
     "data": {
      "text/plain": [
       "[4, 3]"
      ]
     },
     "execution_count": 10,
     "metadata": {},
     "output_type": "execute_result"
    }
   ],
   "source": [
    "answer"
   ]
  },
  {
   "cell_type": "code",
   "execution_count": null,
   "id": "9300d61a",
   "metadata": {},
   "outputs": [],
   "source": []
  },
  {
   "cell_type": "code",
   "execution_count": null,
   "id": "4aa0bd9e",
   "metadata": {},
   "outputs": [],
   "source": [
    "a = []\n",
    "for i in s:\n",
    "    if a[-1:] == [i]: continue\n",
    "    a.append(i)\n",
    "return a"
   ]
  },
  {
   "cell_type": "code",
   "execution_count": 18,
   "id": "7bb9acd5",
   "metadata": {},
   "outputs": [],
   "source": [
    "arr = []"
   ]
  },
  {
   "cell_type": "code",
   "execution_count": 19,
   "id": "0d9733f5",
   "metadata": {},
   "outputs": [
    {
     "data": {
      "text/plain": [
       "[]"
      ]
     },
     "execution_count": 19,
     "metadata": {},
     "output_type": "execute_result"
    }
   ],
   "source": [
    "arr[-1:]"
   ]
  },
  {
   "cell_type": "code",
   "execution_count": null,
   "id": "2e004943",
   "metadata": {},
   "outputs": [],
   "source": []
  },
  {
   "cell_type": "code",
   "execution_count": null,
   "id": "087e0431",
   "metadata": {},
   "outputs": [],
   "source": []
  },
  {
   "cell_type": "code",
   "execution_count": null,
   "id": "9845defb",
   "metadata": {},
   "outputs": [],
   "source": []
  },
  {
   "cell_type": "code",
   "execution_count": null,
   "id": "81649cae",
   "metadata": {},
   "outputs": [],
   "source": []
  },
  {
   "cell_type": "code",
   "execution_count": null,
   "id": "e16f84c5",
   "metadata": {},
   "outputs": [],
   "source": []
  }
 ],
 "metadata": {
  "kernelspec": {
   "display_name": "hackerrank",
   "language": "python",
   "name": "hackerrank"
  },
  "language_info": {
   "codemirror_mode": {
    "name": "ipython",
    "version": 3
   },
   "file_extension": ".py",
   "mimetype": "text/x-python",
   "name": "python",
   "nbconvert_exporter": "python",
   "pygments_lexer": "ipython3",
   "version": "3.9.12"
  }
 },
 "nbformat": 4,
 "nbformat_minor": 5
}
