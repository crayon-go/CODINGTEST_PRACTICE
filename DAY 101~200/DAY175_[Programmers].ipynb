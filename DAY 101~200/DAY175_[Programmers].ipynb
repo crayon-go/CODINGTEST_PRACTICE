{
 "cells": [
  {
   "cell_type": "code",
   "execution_count": 50,
   "id": "5aaed47b",
   "metadata": {},
   "outputs": [],
   "source": [
    "n = 10\n",
    "# 4"
   ]
  },
  {
   "cell_type": "code",
   "execution_count": 36,
   "id": "e2cacbbf",
   "metadata": {},
   "outputs": [],
   "source": [
    "n = 5\n",
    "# 3"
   ]
  },
  {
   "cell_type": "code",
   "execution_count": 37,
   "id": "febd115f",
   "metadata": {},
   "outputs": [],
   "source": [
    "def check_fun(num):\n",
    "    for i in range(2, num):\n",
    "        if num % i == 0:\n",
    "            return False # 소수가 아님\n",
    "    return True"
   ]
  },
  {
   "cell_type": "code",
   "execution_count": 48,
   "id": "ff0787c0",
   "metadata": {},
   "outputs": [
    {
     "ename": "SyntaxError",
     "evalue": "invalid syntax (2144176143.py, line 2)",
     "output_type": "error",
     "traceback": [
      "\u001b[1;36m  Input \u001b[1;32mIn [48]\u001b[1;36m\u001b[0m\n\u001b[1;33m    for i in range (2, int(math.sqrt(x) + 1):\t# 2부터 x의 제곱근까지의 숫자\u001b[0m\n\u001b[1;37m                                            ^\u001b[0m\n\u001b[1;31mSyntaxError\u001b[0m\u001b[1;31m:\u001b[0m invalid syntax\n"
     ]
    }
   ],
   "source": [
    "def primenumber(x):\n",
    "    for i in range(2, int(math.sqrt(x) + 1)):\n",
    "        if x % i == 0:\n",
    "            return False\n",
    "    return True"
   ]
  },
  {
   "cell_type": "code",
   "execution_count": 38,
   "id": "4801bb91",
   "metadata": {},
   "outputs": [],
   "source": [
    "answer = 0\n",
    "ans_list = []\n",
    "\n",
    "for i in range(2, n+1):\n",
    "    if primenumber(i) == True:\n",
    "        ans_list.append(i)\n",
    "    answer = len(ans_list)"
   ]
  },
  {
   "cell_type": "code",
   "execution_count": 39,
   "id": "f5cb71d4",
   "metadata": {},
   "outputs": [
    {
     "data": {
      "text/plain": [
       "[2, 3, 5]"
      ]
     },
     "execution_count": 39,
     "metadata": {},
     "output_type": "execute_result"
    }
   ],
   "source": [
    "ans_list"
   ]
  },
  {
   "cell_type": "code",
   "execution_count": null,
   "id": "32922873",
   "metadata": {},
   "outputs": [],
   "source": []
  },
  {
   "cell_type": "code",
   "execution_count": null,
   "id": "a0356826",
   "metadata": {},
   "outputs": [],
   "source": []
  },
  {
   "cell_type": "code",
   "execution_count": 54,
   "id": "aee3572e",
   "metadata": {},
   "outputs": [
    {
     "name": "stdout",
     "output_type": "stream",
     "text": [
      "{2, 3, 4, 5, 6, 7, 8, 9, 10}\n",
      "4\n"
     ]
    }
   ],
   "source": [
    "num = set(range(2, n+1))\n",
    "print(num)\n",
    "\n",
    "for i in range(2,n+1):\n",
    "\n",
    "    if i in num:\n",
    "        num -= set(range(2 * i, n + 1, i))\n",
    "print(len(num))"
   ]
  },
  {
   "cell_type": "code",
   "execution_count": 52,
   "id": "04e804b9",
   "metadata": {},
   "outputs": [
    {
     "data": {
      "text/plain": [
       "{2, 3, 4, 5, 6, 7, 8, 9, 10}"
      ]
     },
     "execution_count": 52,
     "metadata": {},
     "output_type": "execute_result"
    }
   ],
   "source": [
    "num"
   ]
  },
  {
   "cell_type": "code",
   "execution_count": null,
   "id": "4bd6cda6",
   "metadata": {},
   "outputs": [],
   "source": []
  },
  {
   "cell_type": "code",
   "execution_count": null,
   "id": "93190edc",
   "metadata": {},
   "outputs": [],
   "source": []
  }
 ],
 "metadata": {
  "kernelspec": {
   "display_name": "hackerrank",
   "language": "python",
   "name": "hackerrank"
  },
  "language_info": {
   "codemirror_mode": {
    "name": "ipython",
    "version": 3
   },
   "file_extension": ".py",
   "mimetype": "text/x-python",
   "name": "python",
   "nbconvert_exporter": "python",
   "pygments_lexer": "ipython3",
   "version": "3.9.12"
  }
 },
 "nbformat": 4,
 "nbformat_minor": 5
}
