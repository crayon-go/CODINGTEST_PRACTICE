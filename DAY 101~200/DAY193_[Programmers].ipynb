{
 "cells": [
  {
   "cell_type": "code",
   "execution_count": 11,
   "id": "f914a3d4",
   "metadata": {},
   "outputs": [],
   "source": [
    "board = [[0,0,0,0,0],\n",
    "         [0,0,1,0,3],\n",
    "         [0,2,5,0,1],\n",
    "         [4,2,4,4,2],\n",
    "         [3,5,1,3,1]]\n",
    "moves = [1,5,3,5,1,2,1,4]\n",
    "# 4"
   ]
  },
  {
   "cell_type": "code",
   "execution_count": 24,
   "id": "f152db75",
   "metadata": {},
   "outputs": [
    {
     "name": "stdout",
     "output_type": "stream",
     "text": [
      "--------\n",
      "0\n",
      "0\n",
      "0\n",
      "4\n",
      "3\n"
     ]
    }
   ],
   "source": [
    "answer = 0\n",
    "\n",
    "baguni = [0]\n",
    "\n",
    "for ii in moves:\n",
    "    print(\"--------\")\n",
    "    i = ii-1\n",
    "    for j in range(0, len(board[i])):\n",
    "        print(board[j][i])\n",
    "        \n",
    "        if board[j][i] != 0:\n",
    "            if baguni[:-1] != board[j][i]:\n",
    "                baguni.append(board[j][i])\n",
    "            elif baguni[:-1] != board[j][i]:\n",
    "                answer += 2\n",
    "                \n",
    "\n",
    "    break"
   ]
  },
  {
   "cell_type": "code",
   "execution_count": null,
   "id": "64c346d5",
   "metadata": {},
   "outputs": [],
   "source": []
  }
 ],
 "metadata": {
  "kernelspec": {
   "display_name": "color_extraction",
   "language": "python",
   "name": "color_extraction"
  },
  "language_info": {
   "codemirror_mode": {
    "name": "ipython",
    "version": 3
   },
   "file_extension": ".py",
   "mimetype": "text/x-python",
   "name": "python",
   "nbconvert_exporter": "python",
   "pygments_lexer": "ipython3",
   "version": "3.8.16"
  }
 },
 "nbformat": 4,
 "nbformat_minor": 5
}
