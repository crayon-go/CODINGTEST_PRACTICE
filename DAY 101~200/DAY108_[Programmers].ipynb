{
 "cells": [
  {
   "cell_type": "code",
   "execution_count": 21,
   "id": "bbd460c1",
   "metadata": {},
   "outputs": [],
   "source": [
    "chicken = 100\n",
    "# 11"
   ]
  },
  {
   "cell_type": "code",
   "execution_count": 25,
   "id": "9535d609",
   "metadata": {},
   "outputs": [],
   "source": [
    "chicken = 1081\n",
    "# 120"
   ]
  },
  {
   "cell_type": "code",
   "execution_count": 29,
   "id": "63e7615e",
   "metadata": {},
   "outputs": [],
   "source": [
    "chicken = 1999\n",
    "# 기대값 : 222"
   ]
  },
  {
   "cell_type": "code",
   "execution_count": 30,
   "id": "b8523d24",
   "metadata": {},
   "outputs": [
    {
     "name": "stdout",
     "output_type": "stream",
     "text": [
      "199 9\n",
      "19 9\n",
      "1 9\n",
      "0 1\n",
      "------------\n",
      "28\n",
      "2 8\n",
      "0 2\n"
     ]
    }
   ],
   "source": [
    "\n",
    "\n",
    "answer = -1\n",
    "service_chicken_count = 0\n",
    "remainder_coupon = 0\n",
    "\n",
    "while True:\n",
    "    \n",
    "    a, b = divmod(chicken, 10)\n",
    "    print(a, b)\n",
    "    service_chicken_count += a\n",
    "    remainder_coupon += b\n",
    "    chicken = a\n",
    "    \n",
    "    if a == 0:\n",
    "        break\n",
    "\n",
    "print(\"------------\")\n",
    "print(remainder_coupon)\n",
    "\n",
    "remainder_coupon2 = 0\n",
    "\n",
    "if remainder_coupon > 0:\n",
    "    \n",
    "    while True:\n",
    "        a, b = divmod(remainder_coupon, 10)\n",
    "        service_chicken_count += a\n",
    "        remainder_coupon2 += b\n",
    "        remainder_coupon = a\n",
    "        print(a, b)\n",
    "        if a == 0:\n",
    "            break\n",
    "service_chicken_count += int(remainder_coupon2 / 10)\n",
    "answer = service_chicken_count\n"
   ]
  },
  {
   "cell_type": "code",
   "execution_count": 31,
   "id": "1142a4d1",
   "metadata": {},
   "outputs": [
    {
     "data": {
      "text/plain": [
       "(222, 0, 10)"
      ]
     },
     "execution_count": 31,
     "metadata": {},
     "output_type": "execute_result"
    }
   ],
   "source": [
    "service_chicken_count, remainder_coupon, remainder_coupon2"
   ]
  },
  {
   "cell_type": "code",
   "execution_count": 32,
   "id": "e7110675",
   "metadata": {},
   "outputs": [
    {
     "data": {
      "text/plain": [
       "222"
      ]
     },
     "execution_count": 32,
     "metadata": {},
     "output_type": "execute_result"
    }
   ],
   "source": [
    "answer"
   ]
  },
  {
   "cell_type": "code",
   "execution_count": null,
   "id": "41d2822c",
   "metadata": {},
   "outputs": [],
   "source": []
  },
  {
   "cell_type": "code",
   "execution_count": null,
   "id": "a773bb90",
   "metadata": {},
   "outputs": [],
   "source": []
  },
  {
   "cell_type": "code",
   "execution_count": null,
   "id": "6f3a386d",
   "metadata": {},
   "outputs": [],
   "source": []
  },
  {
   "cell_type": "code",
   "execution_count": null,
   "id": "ec7b8749",
   "metadata": {},
   "outputs": [],
   "source": []
  },
  {
   "cell_type": "code",
   "execution_count": 61,
   "id": "7047db56",
   "metadata": {},
   "outputs": [],
   "source": [
    "chicken = 100\n",
    "# 11"
   ]
  },
  {
   "cell_type": "code",
   "execution_count": 66,
   "id": "c1b8edd5",
   "metadata": {},
   "outputs": [],
   "source": [
    "chicken = 1081\n",
    "# 120"
   ]
  },
  {
   "cell_type": "code",
   "execution_count": 63,
   "id": "e44ed244",
   "metadata": {},
   "outputs": [],
   "source": [
    "chicken = 1999\n",
    "# 기대값 : 222"
   ]
  },
  {
   "cell_type": "code",
   "execution_count": 54,
   "id": "31d1c765",
   "metadata": {},
   "outputs": [
    {
     "data": {
      "text/plain": [
       "11"
      ]
     },
     "execution_count": 54,
     "metadata": {},
     "output_type": "execute_result"
    }
   ],
   "source": [
    "(max(chicken, 1)-1)//9"
   ]
  },
  {
   "cell_type": "code",
   "execution_count": 68,
   "id": "2a686ce3",
   "metadata": {},
   "outputs": [
    {
     "data": {
      "text/plain": [
       "120"
      ]
     },
     "execution_count": 68,
     "metadata": {},
     "output_type": "execute_result"
    }
   ],
   "source": [
    "int(chicken*0.11111111111)"
   ]
  },
  {
   "cell_type": "code",
   "execution_count": null,
   "id": "e3866e0c",
   "metadata": {},
   "outputs": [],
   "source": []
  },
  {
   "cell_type": "code",
   "execution_count": 72,
   "id": "39fc6074",
   "metadata": {},
   "outputs": [
    {
     "data": {
      "text/plain": [
       "3"
      ]
     },
     "execution_count": 72,
     "metadata": {},
     "output_type": "execute_result"
    }
   ],
   "source": [
    "10 // 3"
   ]
  },
  {
   "cell_type": "code",
   "execution_count": 73,
   "id": "99bacf24",
   "metadata": {},
   "outputs": [
    {
     "data": {
      "text/plain": [
       "1"
      ]
     },
     "execution_count": 73,
     "metadata": {},
     "output_type": "execute_result"
    }
   ],
   "source": [
    "10 % 3"
   ]
  },
  {
   "cell_type": "code",
   "execution_count": 74,
   "id": "93742c55",
   "metadata": {},
   "outputs": [
    {
     "data": {
      "text/plain": [
       "(3, 1)"
      ]
     },
     "execution_count": 74,
     "metadata": {},
     "output_type": "execute_result"
    }
   ],
   "source": [
    "divmod(10, 3)"
   ]
  },
  {
   "cell_type": "code",
   "execution_count": null,
   "id": "af611995",
   "metadata": {},
   "outputs": [],
   "source": []
  },
  {
   "cell_type": "code",
   "execution_count": null,
   "id": "dc2f183c",
   "metadata": {},
   "outputs": [],
   "source": []
  },
  {
   "cell_type": "code",
   "execution_count": null,
   "id": "daa6350e",
   "metadata": {},
   "outputs": [],
   "source": []
  },
  {
   "cell_type": "code",
   "execution_count": null,
   "id": "7ed578dc",
   "metadata": {},
   "outputs": [],
   "source": []
  }
 ],
 "metadata": {
  "kernelspec": {
   "display_name": "hackerrank",
   "language": "python",
   "name": "hackerrank"
  },
  "language_info": {
   "codemirror_mode": {
    "name": "ipython",
    "version": 3
   },
   "file_extension": ".py",
   "mimetype": "text/x-python",
   "name": "python",
   "nbconvert_exporter": "python",
   "pygments_lexer": "ipython3",
   "version": "3.8.13"
  }
 },
 "nbformat": 4,
 "nbformat_minor": 5
}
