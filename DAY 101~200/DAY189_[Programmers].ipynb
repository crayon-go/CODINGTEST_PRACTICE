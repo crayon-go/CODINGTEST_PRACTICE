{
 "cells": [
  {
   "cell_type": "code",
   "execution_count": 64,
   "id": "c6ba12f4",
   "metadata": {},
   "outputs": [],
   "source": [
    "X = \"100\"\n",
    "Y = \"2345\"\n",
    "# \"-1\""
   ]
  },
  {
   "cell_type": "code",
   "execution_count": 83,
   "id": "6405442e",
   "metadata": {},
   "outputs": [],
   "source": [
    "X = \"100\"\n",
    "Y = \"203045\"\n",
    "# \"0\""
   ]
  },
  {
   "cell_type": "code",
   "execution_count": 82,
   "id": "61dd3ee5",
   "metadata": {},
   "outputs": [],
   "source": [
    "X = \"100\"\n",
    "Y = \"123450\"\n",
    "# \"10\""
   ]
  },
  {
   "cell_type": "code",
   "execution_count": 58,
   "id": "64a0fccb",
   "metadata": {},
   "outputs": [],
   "source": [
    "X = \"12321\"\n",
    "Y = \"42531\"\t\n",
    "# \"321\""
   ]
  },
  {
   "cell_type": "code",
   "execution_count": 56,
   "id": "737e9735",
   "metadata": {},
   "outputs": [],
   "source": [
    "X = \"5525\"\n",
    "Y = \"1255\"\n",
    "# \"552\""
   ]
  },
  {
   "cell_type": "code",
   "execution_count": null,
   "id": "68bf2450",
   "metadata": {},
   "outputs": [],
   "source": []
  },
  {
   "cell_type": "code",
   "execution_count": 97,
   "id": "86121240",
   "metadata": {},
   "outputs": [
    {
     "name": "stdout",
     "output_type": "stream",
     "text": [
      "-1\n"
     ]
    }
   ],
   "source": [
    "answer = ''\n",
    "\n",
    "for i in range(9,-1,-1):\n",
    "    answer += (str(i) * min(X.count(str(i)), Y.count(str(i))))\n",
    "\n",
    "if answer == '':\n",
    "    print('-1')\n",
    "elif len(answer) == answer.count('0'):\n",
    "    print('0')\n",
    "else:\n",
    "    print(answer)"
   ]
  },
  {
   "cell_type": "code",
   "execution_count": null,
   "id": "dbe13afd",
   "metadata": {},
   "outputs": [],
   "source": []
  },
  {
   "cell_type": "code",
   "execution_count": null,
   "id": "253f073b",
   "metadata": {},
   "outputs": [],
   "source": []
  },
  {
   "cell_type": "code",
   "execution_count": null,
   "id": "2f658327",
   "metadata": {},
   "outputs": [],
   "source": []
  },
  {
   "cell_type": "code",
   "execution_count": null,
   "id": "5709ea3b",
   "metadata": {},
   "outputs": [],
   "source": []
  },
  {
   "cell_type": "code",
   "execution_count": 95,
   "id": "21320dfe",
   "metadata": {},
   "outputs": [
    {
     "name": "stdout",
     "output_type": "stream",
     "text": [
      "00\n",
      "<class 'str'>\n"
     ]
    },
    {
     "data": {
      "text/plain": [
       "'0'"
      ]
     },
     "execution_count": 95,
     "metadata": {},
     "output_type": "execute_result"
    }
   ],
   "source": [
    "X = \"100\"\n",
    "Y = \"203045\"\n",
    "# \"0\"\n",
    "\n",
    "answer = ''\n",
    "duplicated_word = []\n",
    "X = list(X)\n",
    "Y = list(Y)\n",
    "\n",
    "if len(X) <= len(Y):\n",
    "    for i in X:\n",
    "        if i in Y:\n",
    "            duplicated_word.append(i)\n",
    "            Y.remove(i)\n",
    "else:\n",
    "    for i in Y:\n",
    "        if i in X:\n",
    "            duplicated_word.append(i)\n",
    "            X.remove(i)\n",
    "\n",
    "duplicated_word.sort(reverse=True)\n",
    "answer = ''.join(duplicated_word)\n",
    "\n",
    "if not answer:\n",
    "    answer = '-1'\n",
    "elif answer[0] == '0':\n",
    "    answer = '0'"
   ]
  },
  {
   "cell_type": "code",
   "execution_count": null,
   "id": "da26e82b",
   "metadata": {},
   "outputs": [],
   "source": []
  },
  {
   "cell_type": "code",
   "execution_count": null,
   "id": "d4e2fe15",
   "metadata": {},
   "outputs": [],
   "source": []
  },
  {
   "cell_type": "code",
   "execution_count": null,
   "id": "ea315dcc",
   "metadata": {},
   "outputs": [],
   "source": []
  },
  {
   "cell_type": "code",
   "execution_count": null,
   "id": "3ea6042f",
   "metadata": {},
   "outputs": [],
   "source": []
  }
 ],
 "metadata": {
  "kernelspec": {
   "display_name": "hackerrank",
   "language": "python",
   "name": "hackerrank"
  },
  "language_info": {
   "codemirror_mode": {
    "name": "ipython",
    "version": 3
   },
   "file_extension": ".py",
   "mimetype": "text/x-python",
   "name": "python",
   "nbconvert_exporter": "python",
   "pygments_lexer": "ipython3",
   "version": "3.9.12"
  }
 },
 "nbformat": 4,
 "nbformat_minor": 5
}
