{
 "cells": [
  {
   "cell_type": "code",
   "execution_count": 126,
   "id": "dc7ee1af",
   "metadata": {},
   "outputs": [],
   "source": [
    "arr = [4,3,2,1]\n",
    "# [4,3,2]"
   ]
  },
  {
   "cell_type": "code",
   "execution_count": 82,
   "id": "5b1339ff",
   "metadata": {},
   "outputs": [],
   "source": [
    "arr = [10]\n",
    "# [-1]"
   ]
  },
  {
   "cell_type": "code",
   "execution_count": 122,
   "id": "756e24d8",
   "metadata": {},
   "outputs": [
    {
     "data": {
      "text/plain": [
       "1"
      ]
     },
     "execution_count": 122,
     "metadata": {},
     "output_type": "execute_result"
    }
   ],
   "source": [
    "if not (len(arr) > 1):\n",
    "    return [-1]\n",
    "arr.pop(arr.index(min(arr)))\n",
    "return arr"
   ]
  },
  {
   "cell_type": "code",
   "execution_count": 116,
   "id": "bdfe8ab0",
   "metadata": {},
   "outputs": [
    {
     "data": {
      "text/plain": [
       "[4, 3, 2]"
      ]
     },
     "execution_count": 116,
     "metadata": {},
     "output_type": "execute_result"
    }
   ],
   "source": [
    "answer = []\n",
    "if len(arr) <= 1:\n",
    "    answer = [-1]\n",
    "else:\n",
    "    answer = sorted(arr, reverse=True)[:-1]\n",
    "answer"
   ]
  },
  {
   "cell_type": "code",
   "execution_count": 95,
   "id": "d5b0138d",
   "metadata": {},
   "outputs": [
    {
     "data": {
      "text/plain": [
       "list"
      ]
     },
     "execution_count": 95,
     "metadata": {},
     "output_type": "execute_result"
    }
   ],
   "source": [
    "type(answer)"
   ]
  },
  {
   "cell_type": "code",
   "execution_count": 93,
   "id": "c4ec22f6",
   "metadata": {},
   "outputs": [
    {
     "name": "stdout",
     "output_type": "stream",
     "text": [
      "[4, 3, 2]\n"
     ]
    }
   ],
   "source": [
    "print(answer)"
   ]
  },
  {
   "cell_type": "code",
   "execution_count": 75,
   "id": "9e5ef0b8",
   "metadata": {},
   "outputs": [
    {
     "data": {
      "text/plain": [
       "[4, 3, 2]"
      ]
     },
     "execution_count": 75,
     "metadata": {},
     "output_type": "execute_result"
    }
   ],
   "source": [
    "answer"
   ]
  },
  {
   "cell_type": "code",
   "execution_count": 22,
   "id": "ee769f2e",
   "metadata": {},
   "outputs": [],
   "source": [
    "answer = []"
   ]
  },
  {
   "cell_type": "code",
   "execution_count": 69,
   "id": "a8573041",
   "metadata": {},
   "outputs": [
    {
     "data": {
      "text/plain": [
       "[-1]"
      ]
     },
     "execution_count": 69,
     "metadata": {},
     "output_type": "execute_result"
    }
   ],
   "source": [
    "answer = [-1] if len(arr) <= 1 else sorted(arr, reverse=True)[:-1]\n",
    "answer"
   ]
  },
  {
   "cell_type": "code",
   "execution_count": 38,
   "id": "9fb9e66a",
   "metadata": {},
   "outputs": [
    {
     "data": {
      "text/plain": [
       "[4, 3, 2, 1]"
      ]
     },
     "execution_count": 38,
     "metadata": {},
     "output_type": "execute_result"
    }
   ],
   "source": [
    "arr"
   ]
  },
  {
   "cell_type": "code",
   "execution_count": 88,
   "id": "76c9c51e",
   "metadata": {},
   "outputs": [
    {
     "data": {
      "text/plain": [
       "[4, 3, 2]"
      ]
     },
     "execution_count": 88,
     "metadata": {},
     "output_type": "execute_result"
    }
   ],
   "source": [
    "solution(arr)"
   ]
  },
  {
   "cell_type": "code",
   "execution_count": null,
   "id": "29a1aa88",
   "metadata": {},
   "outputs": [],
   "source": []
  }
 ],
 "metadata": {
  "kernelspec": {
   "display_name": "hackerrank",
   "language": "python",
   "name": "hackerrank"
  },
  "language_info": {
   "codemirror_mode": {
    "name": "ipython",
    "version": 3
   },
   "file_extension": ".py",
   "mimetype": "text/x-python",
   "name": "python",
   "nbconvert_exporter": "python",
   "pygments_lexer": "ipython3",
   "version": "3.8.13"
  }
 },
 "nbformat": 4,
 "nbformat_minor": 5
}
