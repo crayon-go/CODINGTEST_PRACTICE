{
 "cells": [
  {
   "cell_type": "code",
   "execution_count": 1,
   "id": "b706ab10",
   "metadata": {},
   "outputs": [],
   "source": [
    "number = [-2, 3, 0, 2, -5]\n",
    "# 2"
   ]
  },
  {
   "cell_type": "code",
   "execution_count": 10,
   "id": "913daf8b",
   "metadata": {},
   "outputs": [],
   "source": [
    "number = [-3, -2, -1, 0, 1, 2, 3]\n",
    "# 5"
   ]
  },
  {
   "cell_type": "code",
   "execution_count": null,
   "id": "86b159a7",
   "metadata": {},
   "outputs": [],
   "source": [
    "number = [-1, 1, -1, 1]\n",
    "# 0"
   ]
  },
  {
   "cell_type": "code",
   "execution_count": 2,
   "id": "132f43b6",
   "metadata": {},
   "outputs": [],
   "source": [
    "from itertools import *\n",
    "\n",
    "answer = 0\n",
    "for i in list(combinations(number, 3)):\n",
    "    if sum(i) == 0:\n",
    "        answer += 1\n",
    "\n",
    "answer"
   ]
  },
  {
   "cell_type": "code",
   "execution_count": null,
   "id": "3b465636",
   "metadata": {},
   "outputs": [],
   "source": []
  },
  {
   "cell_type": "code",
   "execution_count": null,
   "id": "cb428046",
   "metadata": {},
   "outputs": [],
   "source": []
  }
 ],
 "metadata": {
  "kernelspec": {
   "display_name": "hackerrank",
   "language": "python",
   "name": "hackerrank"
  },
  "language_info": {
   "codemirror_mode": {
    "name": "ipython",
    "version": 3
   },
   "file_extension": ".py",
   "mimetype": "text/x-python",
   "name": "python",
   "nbconvert_exporter": "python",
   "pygments_lexer": "ipython3",
   "version": "3.9.12"
  }
 },
 "nbformat": 4,
 "nbformat_minor": 5
}
