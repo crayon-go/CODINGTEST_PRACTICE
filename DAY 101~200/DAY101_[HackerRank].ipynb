{
 "cells": [
  {
   "cell_type": "code",
   "execution_count": 1,
   "id": "2d58e2a9",
   "metadata": {},
   "outputs": [],
   "source": [
    "score = [[80, 70], [90, 50], [40, 70], [50, 80]]\n",
    "# [1, 2, 4, 3]"
   ]
  },
  {
   "cell_type": "code",
   "execution_count": 22,
   "id": "314bf0a9",
   "metadata": {},
   "outputs": [],
   "source": [
    "score = [[80, 70], [70, 80], [30, 50], [90, 100], [100, 90], [100, 100], [10, 30]]\n",
    "# [4, 4, 6, 2, 2, 1, 7]"
   ]
  },
  {
   "cell_type": "code",
   "execution_count": 23,
   "id": "a51e8e31",
   "metadata": {},
   "outputs": [],
   "source": [
    "import numpy as np\n",
    "\n",
    "score_avg = [np.mean(i) for i in score]\n",
    "score_sort = sorted(score_avg, reverse=-1)\n",
    "\n",
    "answer = []\n",
    "for i in score_avg:\n",
    "    answer.append(score_sort.index(i)+1)"
   ]
  },
  {
   "cell_type": "code",
   "execution_count": null,
   "id": "1786dc24",
   "metadata": {},
   "outputs": [],
   "source": []
  },
  {
   "cell_type": "code",
   "execution_count": 33,
   "id": "d5012ff7",
   "metadata": {},
   "outputs": [
    {
     "data": {
      "text/plain": [
       "[4, 4, 6, 2, 2, 1, 7]"
      ]
     },
     "execution_count": 33,
     "metadata": {},
     "output_type": "execute_result"
    }
   ],
   "source": [
    "a = sorted([sum(i) for i in score], reverse = True)\n",
    "[a.index(sum(i))+1 for i in score]"
   ]
  },
  {
   "cell_type": "code",
   "execution_count": null,
   "id": "8f0c835d",
   "metadata": {},
   "outputs": [],
   "source": []
  }
 ],
 "metadata": {
  "kernelspec": {
   "display_name": "hackerrank",
   "language": "python",
   "name": "hackerrank"
  },
  "language_info": {
   "codemirror_mode": {
    "name": "ipython",
    "version": 3
   },
   "file_extension": ".py",
   "mimetype": "text/x-python",
   "name": "python",
   "nbconvert_exporter": "python",
   "pygments_lexer": "ipython3",
   "version": "3.9.12"
  }
 },
 "nbformat": 4,
 "nbformat_minor": 5
}
