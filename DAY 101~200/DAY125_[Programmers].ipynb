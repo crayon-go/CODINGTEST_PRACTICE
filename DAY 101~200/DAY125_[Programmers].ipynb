{
 "cells": [
  {
   "cell_type": "code",
   "execution_count": null,
   "id": "338d4323",
   "metadata": {},
   "outputs": [],
   "source": [
    "# [[x1, y1], [x2, y2], [x3, y3], [x4, y4]]"
   ]
  },
  {
   "cell_type": "code",
   "execution_count": 1,
   "id": "7c25f2ec",
   "metadata": {},
   "outputs": [],
   "source": [
    "dots = [[1, 4], [9, 2], [3, 8], [11, 6]]\n",
    "# 1"
   ]
  },
  {
   "cell_type": "code",
   "execution_count": null,
   "id": "c0f22e5f",
   "metadata": {},
   "outputs": [],
   "source": [
    "dots = [[3, 5], [4, 1], [2, 4], [5, 10]]\n",
    "# 0"
   ]
  },
  {
   "cell_type": "code",
   "execution_count": null,
   "id": "3c8379c2",
   "metadata": {},
   "outputs": [],
   "source": [
    "0 1\n",
    "0 2\n",
    "0 3\n",
    "1 2\n",
    "1 3\n",
    "2 3"
   ]
  },
  {
   "cell_type": "code",
   "execution_count": 11,
   "id": "a8205453",
   "metadata": {},
   "outputs": [
    {
     "data": {
      "text/plain": [
       "[[1, 4], [3, 8], [9, 2], [11, 6]]"
      ]
     },
     "execution_count": 11,
     "metadata": {},
     "output_type": "execute_result"
    }
   ],
   "source": [
    "dots.sort()"
   ]
  },
  {
   "cell_type": "code",
   "execution_count": 16,
   "id": "bd0e8239",
   "metadata": {},
   "outputs": [],
   "source": [
    "def solution(dots):\n",
    "    answer = 0\n",
    "    dots.sort()\n",
    "    first_x = dots[0][0]\n",
    "    first_y = dots[0][1]\n",
    "\n",
    "    second_x = dots[1][0]\n",
    "    second_y = dots[1][1]\n",
    "\n",
    "    third_x = dots[2][0]\n",
    "    third_y = dots[2][1]\n",
    "\n",
    "    fourth_x = dots[3][0]\n",
    "    fourth_y = dots[3][1]\n",
    "\n",
    "    # case1 : 두번째 값과 직선\n",
    "    if (first_y - second_y) != 0 and (third_y - fourth_y) != 0:\n",
    "        if (first_x - second_x) / (first_y - second_y) == (third_x - fourth_x) / (third_y - fourth_y):\n",
    "            answer = 1\n",
    "            return answer\n",
    "\n",
    "    # case2 : 세번째 값과 직선\n",
    "    if (first_y - third_y) != 0 and (second_y - fourth_y) != 0:\n",
    "        if (first_x - third_x) / (first_y - third_y) == (second_x - fourth_x) / (second_y - fourth_y):\n",
    "            answer = 1\n",
    "            return answer\n",
    "\n",
    "    # case3 : 네번째 값과 직선\n",
    "    if (first_y - fourth_y) != 0 and (third_y - second_y) != 0:\n",
    "        if (first_x - fourth_x) / (first_y - fourth_y) == (third_x - second_x) / (third_y - second_y):\n",
    "            answer = 1\n",
    "            return answer\n",
    "    if (first_y - second_y) == 0 and (third_y - fourth_y) == 0:\n",
    "        answer = 1\n",
    "        return answer\n",
    "    if (first_y - third_y) == 0 and (second_y - fourth_y) == 0:\n",
    "        answer = 1\n",
    "        return answer\n",
    "    if (first_y - fourth_y) == 0 and (third_y - second_y) == 0:\n",
    "        answer = 1\n",
    "        return answer\n",
    "\n",
    "    return answer"
   ]
  },
  {
   "cell_type": "code",
   "execution_count": 17,
   "id": "4116f8dd",
   "metadata": {},
   "outputs": [
    {
     "data": {
      "text/plain": [
       "1"
      ]
     },
     "execution_count": 17,
     "metadata": {},
     "output_type": "execute_result"
    }
   ],
   "source": [
    "solution(dots)"
   ]
  },
  {
   "cell_type": "code",
   "execution_count": null,
   "id": "1abf6ab9",
   "metadata": {},
   "outputs": [],
   "source": []
  },
  {
   "cell_type": "code",
   "execution_count": 18,
   "id": "a2608a86",
   "metadata": {},
   "outputs": [],
   "source": [
    "from itertools import combinations"
   ]
  },
  {
   "cell_type": "code",
   "execution_count": 37,
   "id": "ff535982",
   "metadata": {},
   "outputs": [],
   "source": [
    "dots = [[1, 4], [9, 2], [3, 8], [11, 6]]"
   ]
  },
  {
   "cell_type": "code",
   "execution_count": 38,
   "id": "b167906d",
   "metadata": {},
   "outputs": [
    {
     "name": "stdout",
     "output_type": "stream",
     "text": [
      "-2 8\n",
      "-2 8\n"
     ]
    }
   ],
   "source": [
    "a = []\n",
    "for (x1,y1),(x2,y2) in combinations(dots,2):\n",
    "    a.append((y2-y1,x2-x1))\n",
    "\n",
    "for (x1,y1),(x2,y2) in combinations(a,2):\n",
    "    if x1*y2==x2*y1:\n",
    "        print(x1, y1)\n",
    "        print(x2, y2)\n",
    "        break\n",
    "# print(0)"
   ]
  },
  {
   "cell_type": "code",
   "execution_count": 43,
   "id": "ca24063f",
   "metadata": {},
   "outputs": [
    {
     "data": {
      "text/plain": [
       "[([1, 4], [9, 2]),\n",
       " ([1, 4], [3, 8]),\n",
       " ([1, 4], [11, 6]),\n",
       " ([9, 2], [3, 8]),\n",
       " ([9, 2], [11, 6]),\n",
       " ([3, 8], [11, 6])]"
      ]
     },
     "execution_count": 43,
     "metadata": {},
     "output_type": "execute_result"
    }
   ],
   "source": [
    "list(combinations(dots,2))"
   ]
  },
  {
   "cell_type": "code",
   "execution_count": 39,
   "id": "4c1f9d4b",
   "metadata": {},
   "outputs": [
    {
     "data": {
      "text/plain": [
       "[(-2, 8), (4, 2), (2, 10), (6, -6), (4, 2), (-2, 8)]"
      ]
     },
     "execution_count": 39,
     "metadata": {},
     "output_type": "execute_result"
    }
   ],
   "source": [
    "a"
   ]
  },
  {
   "cell_type": "code",
   "execution_count": 41,
   "id": "6dce5b3c",
   "metadata": {},
   "outputs": [
    {
     "data": {
      "text/plain": [
       "[((-2, 8), (4, 2)),\n",
       " ((-2, 8), (2, 10)),\n",
       " ((-2, 8), (6, -6)),\n",
       " ((-2, 8), (4, 2)),\n",
       " ((-2, 8), (-2, 8)),\n",
       " ((4, 2), (2, 10)),\n",
       " ((4, 2), (6, -6)),\n",
       " ((4, 2), (4, 2)),\n",
       " ((4, 2), (-2, 8)),\n",
       " ((2, 10), (6, -6)),\n",
       " ((2, 10), (4, 2)),\n",
       " ((2, 10), (-2, 8)),\n",
       " ((6, -6), (4, 2)),\n",
       " ((6, -6), (-2, 8)),\n",
       " ((4, 2), (-2, 8))]"
      ]
     },
     "execution_count": 41,
     "metadata": {},
     "output_type": "execute_result"
    }
   ],
   "source": [
    "list(combinations(a, 2))"
   ]
  },
  {
   "cell_type": "code",
   "execution_count": null,
   "id": "2f047789",
   "metadata": {},
   "outputs": [],
   "source": []
  },
  {
   "cell_type": "code",
   "execution_count": null,
   "id": "fdbc7515",
   "metadata": {},
   "outputs": [],
   "source": []
  },
  {
   "cell_type": "code",
   "execution_count": 30,
   "id": "9f57a526",
   "metadata": {},
   "outputs": [
    {
     "name": "stdout",
     "output_type": "stream",
     "text": [
      "(1, 4) (3, 8)\n",
      "(1, 4) (9, 2)\n",
      "(1, 4) (11, 6)\n",
      "(3, 8) (9, 2)\n",
      "(3, 8) (11, 6)\n",
      "(9, 2) (11, 6)\n"
     ]
    }
   ],
   "source": [
    "for (x1, y1), (x2, y2) in combinations(dots, 2):\n",
    "    print((x1, y1), (x2, y2))"
   ]
  },
  {
   "cell_type": "code",
   "execution_count": null,
   "id": "f280340d",
   "metadata": {},
   "outputs": [],
   "source": []
  },
  {
   "cell_type": "code",
   "execution_count": null,
   "id": "711585ab",
   "metadata": {},
   "outputs": [],
   "source": []
  },
  {
   "cell_type": "code",
   "execution_count": null,
   "id": "e606bd68",
   "metadata": {},
   "outputs": [],
   "source": []
  },
  {
   "cell_type": "code",
   "execution_count": null,
   "id": "1b8800d2",
   "metadata": {},
   "outputs": [],
   "source": []
  }
 ],
 "metadata": {
  "kernelspec": {
   "display_name": "hackerrank",
   "language": "python",
   "name": "hackerrank"
  },
  "language_info": {
   "codemirror_mode": {
    "name": "ipython",
    "version": 3
   },
   "file_extension": ".py",
   "mimetype": "text/x-python",
   "name": "python",
   "nbconvert_exporter": "python",
   "pygments_lexer": "ipython3",
   "version": "3.9.12"
  }
 },
 "nbformat": 4,
 "nbformat_minor": 5
}
