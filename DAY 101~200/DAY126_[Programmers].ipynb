{
 "cells": [
  {
   "cell_type": "code",
   "execution_count": 1,
   "id": "0f5e5d7a",
   "metadata": {},
   "outputs": [],
   "source": [
    "balls = 3\n",
    "share = 2\n",
    "# 3"
   ]
  },
  {
   "cell_type": "code",
   "execution_count": 6,
   "id": "57f52e58",
   "metadata": {},
   "outputs": [],
   "source": [
    "balls = 5\n",
    "share = 3\n",
    "# 10"
   ]
  },
  {
   "cell_type": "code",
   "execution_count": 7,
   "id": "aaed361c",
   "metadata": {},
   "outputs": [
    {
     "data": {
      "text/plain": [
       "10.0"
      ]
     },
     "execution_count": 7,
     "metadata": {},
     "output_type": "execute_result"
    }
   ],
   "source": [
    "import math\n",
    "math.factorial(balls) / (math.factorial((balls-share)) * math.factorial(share))"
   ]
  },
  {
   "cell_type": "code",
   "execution_count": null,
   "id": "45f87390",
   "metadata": {},
   "outputs": [],
   "source": []
  },
  {
   "cell_type": "code",
   "execution_count": 87,
   "id": "2e5b1052",
   "metadata": {},
   "outputs": [],
   "source": [
    "my_string = \"20000 + 10000\"\n",
    "# 7"
   ]
  },
  {
   "cell_type": "code",
   "execution_count": 88,
   "id": "681ddc76",
   "metadata": {},
   "outputs": [
    {
     "data": {
      "text/plain": [
       "30000"
      ]
     },
     "execution_count": 88,
     "metadata": {},
     "output_type": "execute_result"
    }
   ],
   "source": [
    "answer = 0\n",
    "\n",
    "if \" + \" in my_string:\n",
    "    my_string = my_string.replace(\" + \", \"@\")\n",
    "    left = int(my_string[:my_string.index(\"@\")])\n",
    "    right = int(my_string[my_string.index(\"@\")+1:])\n",
    "    answer = left + right\n",
    "elif \" - \" in my_string:\n",
    "    my_string = my_string.replace(\" - \", \"@\")\n",
    "    left = int(my_string[:my_string.index(\"@\")])\n",
    "    right = int(my_string[my_string.index(\"@\")+1:])\n",
    "    answer = left - right\n",
    "\n",
    "answer"
   ]
  },
  {
   "cell_type": "code",
   "execution_count": null,
   "id": "449394e5",
   "metadata": {},
   "outputs": [],
   "source": []
  },
  {
   "cell_type": "code",
   "execution_count": 89,
   "id": "d38413bd",
   "metadata": {},
   "outputs": [],
   "source": [
    "my_string = \"20000 + 10000\""
   ]
  },
  {
   "cell_type": "code",
   "execution_count": 91,
   "id": "ed1f56ca",
   "metadata": {},
   "outputs": [
    {
     "data": {
      "text/plain": [
       "30000"
      ]
     },
     "execution_count": 91,
     "metadata": {},
     "output_type": "execute_result"
    }
   ],
   "source": [
    "arr = my_string.split()\n",
    "answer = int(arr[0]) \n",
    "\n",
    "for i in range(1, len(arr), 2):\n",
    "    if arr[i] == \"+\":\n",
    "        answer += int(arr[i+1]) \n",
    "    else:\n",
    "        answer -= int(arr[i+1])\n",
    "answer"
   ]
  },
  {
   "cell_type": "code",
   "execution_count": null,
   "id": "4a8c173b",
   "metadata": {},
   "outputs": [],
   "source": []
  },
  {
   "cell_type": "code",
   "execution_count": 92,
   "id": "8cbfe2f0",
   "metadata": {},
   "outputs": [
    {
     "data": {
      "text/plain": [
       "30000"
      ]
     },
     "execution_count": 92,
     "metadata": {},
     "output_type": "execute_result"
    }
   ],
   "source": [
    "sum(int(i) for i in my_string.replace(' - ', ' + -').split(' + '))"
   ]
  },
  {
   "cell_type": "code",
   "execution_count": null,
   "id": "1d41be02",
   "metadata": {},
   "outputs": [],
   "source": []
  },
  {
   "cell_type": "code",
   "execution_count": 93,
   "id": "ae0afeae",
   "metadata": {},
   "outputs": [
    {
     "data": {
      "text/plain": [
       "30000"
      ]
     },
     "execution_count": 93,
     "metadata": {},
     "output_type": "execute_result"
    }
   ],
   "source": [
    "eval(my_string)"
   ]
  },
  {
   "cell_type": "code",
   "execution_count": null,
   "id": "5c75f908",
   "metadata": {},
   "outputs": [],
   "source": []
  },
  {
   "cell_type": "code",
   "execution_count": 94,
   "id": "1bedcb9d",
   "metadata": {},
   "outputs": [
    {
     "name": "stdout",
     "output_type": "stream",
     "text": [
      "1. eval('\"BlockDMask\"' + '\" blog\"') : BlockDMaskblog\n"
     ]
    }
   ],
   "source": [
    "# 1. 문자열 덧셈\n",
    "a = eval('\"BlockDMask\" + \"blog\"')\n",
    "print(f\"1. eval('\\\"BlockDMask\\\"' + '\\\" blog\\\"') : {a}\")"
   ]
  },
  {
   "cell_type": "code",
   "execution_count": 97,
   "id": "6d5f674b",
   "metadata": {},
   "outputs": [
    {
     "name": "stdout",
     "output_type": "stream",
     "text": [
      "2. eval(\"100 + 32\") : 132\n"
     ]
    }
   ],
   "source": [
    "# 2. 숫자 덧셈\n",
    "b = eval(\"100 + 32\")\n",
    "print(f'2. eval(\"100 + 32\") : {b}')"
   ]
  },
  {
   "cell_type": "code",
   "execution_count": 98,
   "id": "15d7341e",
   "metadata": {},
   "outputs": [
    {
     "name": "stdout",
     "output_type": "stream",
     "text": [
      "3. eval(\"abs(-56)\") : 56\n"
     ]
    }
   ],
   "source": [
    "# 3. 내장 함수 abs\n",
    "c = eval(\"abs(-56)\")\n",
    "print(f'3. eval(\"abs(-56)\") : {c}')\n"
   ]
  },
  {
   "cell_type": "code",
   "execution_count": 100,
   "id": "a89f8a64",
   "metadata": {},
   "outputs": [
    {
     "name": "stdout",
     "output_type": "stream",
     "text": [
      "4. eval(\"len([1,2,3,4])\") : 4\n"
     ]
    }
   ],
   "source": [
    "# 4. 리스트 길이\n",
    "d = eval(\"len([1,2,3,4])\")\n",
    "print(f'4. eval(\"len([1,2,3,4])\") : {d}')"
   ]
  },
  {
   "cell_type": "code",
   "execution_count": 101,
   "id": "8d0df152",
   "metadata": {},
   "outputs": [
    {
     "name": "stdout",
     "output_type": "stream",
     "text": [
      "5. eval(\"round(1.5)\") : 2\n"
     ]
    }
   ],
   "source": [
    "# 5. round 함수\n",
    "e = eval(\"round(1.5)\")\n",
    "print(f'5. eval(\"round(1.5)\") : {e}')"
   ]
  },
  {
   "cell_type": "code",
   "execution_count": null,
   "id": "4f359bc8",
   "metadata": {},
   "outputs": [],
   "source": []
  },
  {
   "cell_type": "code",
   "execution_count": null,
   "id": "45b46125",
   "metadata": {},
   "outputs": [],
   "source": []
  },
  {
   "cell_type": "code",
   "execution_count": null,
   "id": "a6e1dc43",
   "metadata": {},
   "outputs": [],
   "source": []
  },
  {
   "cell_type": "code",
   "execution_count": null,
   "id": "1e9eb8f8",
   "metadata": {},
   "outputs": [],
   "source": []
  },
  {
   "cell_type": "code",
   "execution_count": null,
   "id": "439cb678",
   "metadata": {},
   "outputs": [],
   "source": []
  }
 ],
 "metadata": {
  "kernelspec": {
   "display_name": "hackerrank",
   "language": "python",
   "name": "hackerrank"
  },
  "language_info": {
   "codemirror_mode": {
    "name": "ipython",
    "version": 3
   },
   "file_extension": ".py",
   "mimetype": "text/x-python",
   "name": "python",
   "nbconvert_exporter": "python",
   "pygments_lexer": "ipython3",
   "version": "3.9.12"
  }
 },
 "nbformat": 4,
 "nbformat_minor": 5
}
