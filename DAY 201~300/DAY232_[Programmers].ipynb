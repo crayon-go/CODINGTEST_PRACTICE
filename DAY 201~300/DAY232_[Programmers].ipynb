{
 "cells": [
  {
   "cell_type": "code",
   "execution_count": null,
   "id": "7920fe4c",
   "metadata": {},
   "outputs": [],
   "source": [
    "def solution(A,B):\n",
    "    answer = 0\n",
    "\n",
    "    # [실행] 버튼을 누르면 출력 값을 볼 수 있습니다.\n",
    "    print('Hello Python')\n",
    "\n",
    "    return answer"
   ]
  },
  {
   "cell_type": "code",
   "execution_count": 1,
   "id": "322639c5",
   "metadata": {},
   "outputs": [],
   "source": [
    "A = [1, 4, 2]\n",
    "B = [5, 4, 4]\n",
    "# 29"
   ]
  },
  {
   "cell_type": "code",
   "execution_count": 10,
   "id": "7752b6e1",
   "metadata": {},
   "outputs": [],
   "source": [
    "A = [1,2]\n",
    "B = [3,4]\n",
    "# 10"
   ]
  },
  {
   "cell_type": "code",
   "execution_count": 11,
   "id": "11ab8012",
   "metadata": {},
   "outputs": [
    {
     "data": {
      "text/plain": [
       "[1, 2]"
      ]
     },
     "execution_count": 11,
     "metadata": {},
     "output_type": "execute_result"
    }
   ],
   "source": [
    "answer = 0\n",
    "\n",
    "A.sort()\n",
    "B.sort(reverse=True)\n",
    "\n",
    "for a, b in zip(A, B):\n",
    "    answer += (a*b)"
   ]
  },
  {
   "cell_type": "code",
   "execution_count": 15,
   "id": "c7cf8e84",
   "metadata": {},
   "outputs": [
    {
     "data": {
      "text/plain": [
       "10"
      ]
     },
     "execution_count": 15,
     "metadata": {},
     "output_type": "execute_result"
    }
   ],
   "source": [
    "sum([a * b for a, b in zip(sorted(A), sorted(B, reverse=True))])"
   ]
  },
  {
   "cell_type": "code",
   "execution_count": null,
   "id": "f6cf9bc3",
   "metadata": {},
   "outputs": [],
   "source": []
  },
  {
   "cell_type": "code",
   "execution_count": 28,
   "id": "2522de71",
   "metadata": {},
   "outputs": [],
   "source": [
    "s = \"110010101001\"\n",
    "# [3,8]"
   ]
  },
  {
   "cell_type": "code",
   "execution_count": 25,
   "id": "0a0fb44a",
   "metadata": {},
   "outputs": [],
   "source": [
    "s = \"01110\"\n",
    "# [3,3]"
   ]
  },
  {
   "cell_type": "code",
   "execution_count": 52,
   "id": "74d2c50f",
   "metadata": {},
   "outputs": [],
   "source": [
    "s = \"1111111\"\n",
    "# [4,1]"
   ]
  },
  {
   "cell_type": "code",
   "execution_count": 53,
   "id": "f49ac6dc",
   "metadata": {},
   "outputs": [
    {
     "data": {
      "text/plain": [
       "(4, 1)"
      ]
     },
     "execution_count": 53,
     "metadata": {},
     "output_type": "execute_result"
    }
   ],
   "source": [
    "a = 0\n",
    "b = 0\n",
    "\n",
    "answer = []\n",
    "ss = s\n",
    "\n",
    "while ss != '1':\n",
    "    b += ss.count('0')\n",
    "    ss = bin(len(ss.replace('0', '')))[2:]\n",
    "    a += 1\n",
    "    \n",
    "a, b"
   ]
  },
  {
   "cell_type": "code",
   "execution_count": 54,
   "id": "d5883736",
   "metadata": {},
   "outputs": [
    {
     "data": {
      "text/plain": [
       "[4, 1]"
      ]
     },
     "execution_count": 54,
     "metadata": {},
     "output_type": "execute_result"
    }
   ],
   "source": [
    "a, b = 0, 0\n",
    "while s != '1':\n",
    "    a += 1\n",
    "    num = s.count('1')\n",
    "    b += len(s) - num\n",
    "    s = bin(num)[2:]\n",
    "[a, b]"
   ]
  },
  {
   "cell_type": "code",
   "execution_count": null,
   "id": "5a8a3f81",
   "metadata": {},
   "outputs": [],
   "source": []
  },
  {
   "cell_type": "code",
   "execution_count": null,
   "id": "49ff7002",
   "metadata": {},
   "outputs": [],
   "source": []
  },
  {
   "cell_type": "code",
   "execution_count": null,
   "id": "d79f7402",
   "metadata": {},
   "outputs": [],
   "source": [
    "# 1 + 2 + 3 + 4 + 5 = 15\n",
    "# 4 + 5 + 6 = 15\n",
    "# 7 + 8 = 15\n",
    "# 15 = 15"
   ]
  },
  {
   "cell_type": "code",
   "execution_count": 83,
   "id": "fc728a02",
   "metadata": {},
   "outputs": [],
   "source": [
    "n = 15\n",
    "# 4"
   ]
  },
  {
   "cell_type": "code",
   "execution_count": 80,
   "id": "6411f25a",
   "metadata": {},
   "outputs": [
    {
     "name": "stdout",
     "output_type": "stream",
     "text": [
      "sum_tmp\n",
      "sum_tmp\n",
      "sum_tmp\n",
      "sum_tmp\n"
     ]
    }
   ],
   "source": [
    "answer = 0\n",
    "sum_tmp = 0\n",
    "\n",
    "for i in range(1, n+1):\n",
    "    for j in range(i, n+1):\n",
    "        sum_tmp += j\n",
    "        if sum_tmp == n:\n",
    "            answer += 1\n",
    "            print(\"sum_tmp\")\n",
    "            break\n",
    "        elif sum_tmp > n:\n",
    "            break\n",
    "    sum_tmp = 0"
   ]
  },
  {
   "cell_type": "code",
   "execution_count": null,
   "id": "8a49b98b",
   "metadata": {},
   "outputs": [],
   "source": []
  },
  {
   "cell_type": "code",
   "execution_count": 87,
   "id": "ce368846",
   "metadata": {},
   "outputs": [
    {
     "data": {
      "text/plain": [
       "4"
      ]
     },
     "execution_count": 87,
     "metadata": {},
     "output_type": "execute_result"
    }
   ],
   "source": [
    "len([i for i in range(1,n+1,2) if n % i == 0])"
   ]
  },
  {
   "cell_type": "code",
   "execution_count": 89,
   "id": "65aa2c65",
   "metadata": {},
   "outputs": [
    {
     "data": {
      "text/plain": [
       "[1, 3, 5, 15]"
      ]
     },
     "execution_count": 89,
     "metadata": {},
     "output_type": "execute_result"
    }
   ],
   "source": [
    "[i for i in range(1,n+1,2) if n % i == 0]"
   ]
  },
  {
   "cell_type": "code",
   "execution_count": 88,
   "id": "695a3412",
   "metadata": {},
   "outputs": [
    {
     "name": "stdout",
     "output_type": "stream",
     "text": [
      "1\n",
      "3\n",
      "5\n",
      "7\n",
      "9\n",
      "11\n",
      "13\n",
      "15\n"
     ]
    }
   ],
   "source": [
    "for i in range(1,n+1,2):\n",
    "    print(i)"
   ]
  },
  {
   "cell_type": "code",
   "execution_count": null,
   "id": "d7740df5",
   "metadata": {},
   "outputs": [],
   "source": []
  },
  {
   "cell_type": "code",
   "execution_count": null,
   "id": "3863ddf7",
   "metadata": {},
   "outputs": [],
   "source": []
  },
  {
   "cell_type": "code",
   "execution_count": 92,
   "id": "efe442d3",
   "metadata": {},
   "outputs": [],
   "source": [
    "n = 78\n",
    "# 83"
   ]
  },
  {
   "cell_type": "code",
   "execution_count": 106,
   "id": "53fc8828",
   "metadata": {},
   "outputs": [],
   "source": [
    "n = 15\n",
    "# 23"
   ]
  },
  {
   "cell_type": "code",
   "execution_count": 107,
   "id": "d134fe56",
   "metadata": {},
   "outputs": [
    {
     "data": {
      "text/plain": [
       "4"
      ]
     },
     "execution_count": 107,
     "metadata": {},
     "output_type": "execute_result"
    }
   ],
   "source": [
    "answer = 0\n",
    "\n",
    "n_one_value = bin(n)[2:].count('1')\n",
    "\n",
    "num = n\n",
    "while True:\n",
    "    num += 1\n",
    "    if n_one_value == bin(num)[2:].count('1'):\n",
    "        answer = num\n",
    "        break"
   ]
  },
  {
   "cell_type": "code",
   "execution_count": 112,
   "id": "823e5b3f",
   "metadata": {},
   "outputs": [
    {
     "data": {
      "text/plain": [
       "23"
      ]
     },
     "execution_count": 112,
     "metadata": {},
     "output_type": "execute_result"
    }
   ],
   "source": [
    "num1 = bin(n).count('1')\n",
    "while True:\n",
    "    n = n + 1\n",
    "    if num1 == bin(n).count('1'):\n",
    "        break\n",
    "n"
   ]
  },
  {
   "cell_type": "code",
   "execution_count": null,
   "id": "85cb3337",
   "metadata": {},
   "outputs": [],
   "source": []
  },
  {
   "cell_type": "code",
   "execution_count": null,
   "id": "d3856151",
   "metadata": {},
   "outputs": [],
   "source": []
  },
  {
   "cell_type": "code",
   "execution_count": null,
   "id": "1d1995f9",
   "metadata": {},
   "outputs": [],
   "source": []
  },
  {
   "cell_type": "code",
   "execution_count": null,
   "id": "84222df0",
   "metadata": {},
   "outputs": [],
   "source": []
  },
  {
   "cell_type": "code",
   "execution_count": null,
   "id": "cbe8b6e2",
   "metadata": {},
   "outputs": [],
   "source": []
  },
  {
   "cell_type": "code",
   "execution_count": null,
   "id": "2887d4f2",
   "metadata": {},
   "outputs": [],
   "source": []
  }
 ],
 "metadata": {
  "kernelspec": {
   "display_name": "color_extraction",
   "language": "python",
   "name": "color_extraction"
  },
  "language_info": {
   "codemirror_mode": {
    "name": "ipython",
    "version": 3
   },
   "file_extension": ".py",
   "mimetype": "text/x-python",
   "name": "python",
   "nbconvert_exporter": "python",
   "pygments_lexer": "ipython3",
   "version": "3.8.16"
  }
 },
 "nbformat": 4,
 "nbformat_minor": 5
}
