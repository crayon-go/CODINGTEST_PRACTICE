{
 "cells": [
  {
   "cell_type": "code",
   "execution_count": 58,
   "id": "9d213345",
   "metadata": {},
   "outputs": [],
   "source": [
    "wallpaper = [\".#...\",\n",
    "             \"..#..\",\n",
    "             \"...#.\"]\n",
    "# [0, 1, 3, 4]"
   ]
  },
  {
   "cell_type": "code",
   "execution_count": 37,
   "id": "f55f1284",
   "metadata": {},
   "outputs": [],
   "source": [
    "wallpaper = [\"..........\",\n",
    "             \".....#....\",\n",
    "             \"......##..\",\n",
    "             \"...##.....\",\n",
    "             \"....#.....\"]\n",
    "# [1, 3, 5, 8]"
   ]
  },
  {
   "cell_type": "code",
   "execution_count": 41,
   "id": "fdfc8768",
   "metadata": {},
   "outputs": [],
   "source": [
    "wallpaper = [\".##...##.\",\n",
    "             \"#..#.#..#\",\n",
    "             \"#...#...#\",\n",
    "             \".#.....#.\",\n",
    "             \"..#...#..\",\n",
    "             \"...#.#...\",\n",
    "             \"....#....\"]\n",
    "# [0, 0, 7, 9]"
   ]
  },
  {
   "cell_type": "code",
   "execution_count": 45,
   "id": "38b9b0fe",
   "metadata": {},
   "outputs": [],
   "source": [
    "wallpaper = [\"..\",\n",
    "             \"#.\"]\n",
    "# [1, 0, 2, 1]"
   ]
  },
  {
   "cell_type": "code",
   "execution_count": 55,
   "id": "f76c9575",
   "metadata": {
    "scrolled": true
   },
   "outputs": [],
   "source": [
    "# |rdx - lux| + |rdy - luy|\n",
    "answer = []\n",
    "xmin = 51\n",
    "xmax = 0\n",
    "ymin = 51\n",
    "ymax = 0\n",
    "\n",
    "for x, i in enumerate(wallpaper):\n",
    "    for y, j in enumerate(i):\n",
    "        if wallpaper[x][y] == \"#\":\n",
    "            xmin = min(xmin, x)\n",
    "            ymin = min(ymin, y)\n",
    "\n",
    "            xmax = max(xmax, x)\n",
    "            ymax = max(ymax, y)\n",
    "\n",
    "answer = [xmin, ymin, xmax+1, ymax+1]\n",
    "    "
   ]
  },
  {
   "cell_type": "code",
   "execution_count": 56,
   "id": "a5ea128a",
   "metadata": {},
   "outputs": [
    {
     "data": {
      "text/plain": [
       "[0, 1, 3, 4]"
      ]
     },
     "execution_count": 56,
     "metadata": {},
     "output_type": "execute_result"
    }
   ],
   "source": [
    "answer"
   ]
  },
  {
   "cell_type": "code",
   "execution_count": 47,
   "id": "c8264ad6",
   "metadata": {},
   "outputs": [
    {
     "data": {
      "text/plain": [
       "(1, 0)"
      ]
     },
     "execution_count": 47,
     "metadata": {},
     "output_type": "execute_result"
    }
   ],
   "source": [
    "xmin, ymin"
   ]
  },
  {
   "cell_type": "code",
   "execution_count": 48,
   "id": "2be61599",
   "metadata": {},
   "outputs": [
    {
     "data": {
      "text/plain": [
       "(1, 0)"
      ]
     },
     "execution_count": 48,
     "metadata": {},
     "output_type": "execute_result"
    }
   ],
   "source": [
    "xmax, ymax"
   ]
  },
  {
   "cell_type": "code",
   "execution_count": null,
   "id": "649d90cf",
   "metadata": {},
   "outputs": [],
   "source": []
  },
  {
   "cell_type": "code",
   "execution_count": null,
   "id": "f864a937",
   "metadata": {},
   "outputs": [],
   "source": []
  },
  {
   "cell_type": "code",
   "execution_count": null,
   "id": "83b4d1d4",
   "metadata": {},
   "outputs": [],
   "source": []
  },
  {
   "cell_type": "code",
   "execution_count": 62,
   "id": "d53d48d8",
   "metadata": {},
   "outputs": [],
   "source": [
    "a, b = [], []"
   ]
  },
  {
   "cell_type": "code",
   "execution_count": 65,
   "id": "9d2d4bbb",
   "metadata": {},
   "outputs": [],
   "source": [
    "for i in range(len(wallpaper)):\n",
    "    for j in range(len(wallpaper[i])):\n",
    "        if wallpaper[i][j] == \"#\":\n",
    "            a.append(i)\n",
    "            b.append(j)\n"
   ]
  },
  {
   "cell_type": "code",
   "execution_count": 66,
   "id": "71a0d7a3",
   "metadata": {},
   "outputs": [
    {
     "data": {
      "text/plain": [
       "[0, 1, 3, 4]"
      ]
     },
     "execution_count": 66,
     "metadata": {},
     "output_type": "execute_result"
    }
   ],
   "source": [
    "[min(a), min(b), max(a) + 1, max(b) + 1]"
   ]
  },
  {
   "cell_type": "code",
   "execution_count": null,
   "id": "679cbf1e",
   "metadata": {},
   "outputs": [],
   "source": []
  }
 ],
 "metadata": {
  "kernelspec": {
   "display_name": "color_extraction",
   "language": "python",
   "name": "color_extraction"
  },
  "language_info": {
   "codemirror_mode": {
    "name": "ipython",
    "version": 3
   },
   "file_extension": ".py",
   "mimetype": "text/x-python",
   "name": "python",
   "nbconvert_exporter": "python",
   "pygments_lexer": "ipython3",
   "version": "3.8.16"
  }
 },
 "nbformat": 4,
 "nbformat_minor": 5
}
