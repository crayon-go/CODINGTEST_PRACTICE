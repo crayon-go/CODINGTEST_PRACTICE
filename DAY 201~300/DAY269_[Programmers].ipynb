{
 "cells": [
  {
   "cell_type": "code",
   "execution_count": 1,
   "id": "e9bbb340",
   "metadata": {},
   "outputs": [],
   "source": [
    "today = \"2022.05.19\"\n",
    "terms = [\"A 6\", \"B 12\", \"C 3\"]\n",
    "privacies = [\"2021.05.02 A\", \"2021.07.01 B\", \"2022.02.19 C\", \"2022.02.20 C\"]\n",
    "# [1, 3]"
   ]
  },
  {
   "cell_type": "code",
   "execution_count": 13,
   "id": "cc0eb437",
   "metadata": {},
   "outputs": [],
   "source": [
    "today = \"2020.01.01\"\n",
    "terms = [\"Z 3\", \"D 5\"]\n",
    "privacies = [\"2019.01.01 D\", \"2019.11.15 Z\", \"2019.08.02 D\", \"2019.07.01 D\", \"2018.12.28 Z\"]\n",
    "# [1, 4, 5]"
   ]
  },
  {
   "cell_type": "code",
   "execution_count": 2,
   "id": "c0fe3dbe",
   "metadata": {},
   "outputs": [],
   "source": [
    "answer = []"
   ]
  },
  {
   "cell_type": "code",
   "execution_count": 5,
   "id": "a614b48f",
   "metadata": {},
   "outputs": [],
   "source": [
    " a, b, c = map(int, \"2002.05.19\".split(\".\"))"
   ]
  },
  {
   "cell_type": "code",
   "execution_count": 7,
   "id": "8a0adc3f",
   "metadata": {},
   "outputs": [
    {
     "data": {
      "text/plain": [
       "(2002, 5, 19)"
      ]
     },
     "execution_count": 7,
     "metadata": {},
     "output_type": "execute_result"
    }
   ],
   "source": [
    "a, b, c"
   ]
  },
  {
   "cell_type": "code",
   "execution_count": 8,
   "id": "7d630ac8",
   "metadata": {},
   "outputs": [
    {
     "data": {
      "text/plain": [
       "int"
      ]
     },
     "execution_count": 8,
     "metadata": {},
     "output_type": "execute_result"
    }
   ],
   "source": [
    "type(a)"
   ]
  },
  {
   "cell_type": "code",
   "execution_count": 3,
   "id": "4e7026cb",
   "metadata": {},
   "outputs": [],
   "source": [
    "def to_days(date):\n",
    "    year, month, day = map(int, date.split(\".\"))\n",
    "    return year * 28 * 12 + month * 28 + day"
   ]
  },
  {
   "cell_type": "code",
   "execution_count": null,
   "id": "32878f91",
   "metadata": {},
   "outputs": [],
   "source": [
    "\n",
    "\n",
    "def solution(today, terms, privacies):\n",
    "    months = {v[0]: int(v[2:]) * 28 for v in terms}\n",
    "    today = to_days(today)\n",
    "    expire = [\n",
    "        i + 1 for i, privacy in enumerate(privacies)\n",
    "        if to_days(privacy[:-2]) + months[privacy[-1]] <= today\n",
    "    ]\n",
    "    return expire"
   ]
  },
  {
   "cell_type": "code",
   "execution_count": null,
   "id": "89ad6a67",
   "metadata": {},
   "outputs": [],
   "source": []
  },
  {
   "cell_type": "code",
   "execution_count": null,
   "id": "a49c5f7b",
   "metadata": {},
   "outputs": [],
   "source": []
  },
  {
   "cell_type": "code",
   "execution_count": null,
   "id": "1f98c659",
   "metadata": {},
   "outputs": [],
   "source": []
  },
  {
   "cell_type": "code",
   "execution_count": null,
   "id": "44c52fff",
   "metadata": {},
   "outputs": [],
   "source": []
  },
  {
   "cell_type": "code",
   "execution_count": null,
   "id": "485e4b83",
   "metadata": {},
   "outputs": [],
   "source": []
  },
  {
   "cell_type": "code",
   "execution_count": null,
   "id": "8b16bc87",
   "metadata": {},
   "outputs": [],
   "source": []
  },
  {
   "cell_type": "code",
   "execution_count": null,
   "id": "4842a646",
   "metadata": {},
   "outputs": [],
   "source": []
  },
  {
   "cell_type": "code",
   "execution_count": null,
   "id": "896cafa4",
   "metadata": {},
   "outputs": [],
   "source": []
  },
  {
   "cell_type": "code",
   "execution_count": null,
   "id": "8b081b2a",
   "metadata": {},
   "outputs": [],
   "source": []
  },
  {
   "cell_type": "code",
   "execution_count": null,
   "id": "7cc2e6c5",
   "metadata": {},
   "outputs": [],
   "source": []
  },
  {
   "cell_type": "code",
   "execution_count": 16,
   "id": "d8e0fcd8",
   "metadata": {},
   "outputs": [],
   "source": [
    "time_dict = dict()\n",
    "year, month, day = int(today[0:4]), int(today[5:7]), int(today[8:])"
   ]
  },
  {
   "cell_type": "code",
   "execution_count": 17,
   "id": "57f2faf1",
   "metadata": {},
   "outputs": [
    {
     "data": {
      "text/plain": [
       "(2022, 5, 19)"
      ]
     },
     "execution_count": 17,
     "metadata": {},
     "output_type": "execute_result"
    }
   ],
   "source": [
    "year, month, day"
   ]
  },
  {
   "cell_type": "code",
   "execution_count": 18,
   "id": "20fb712c",
   "metadata": {},
   "outputs": [],
   "source": [
    "for term in terms : \n",
    "    case = term[0]\n",
    "    time_dict[case] = int(term[2:])"
   ]
  },
  {
   "cell_type": "code",
   "execution_count": 20,
   "id": "91413793",
   "metadata": {},
   "outputs": [
    {
     "data": {
      "text/plain": [
       "{'A': 6, 'B': 12, 'C': 3}"
      ]
     },
     "execution_count": 20,
     "metadata": {},
     "output_type": "execute_result"
    }
   ],
   "source": [
    "time_dict"
   ]
  },
  {
   "cell_type": "code",
   "execution_count": null,
   "id": "a7655487",
   "metadata": {},
   "outputs": [],
   "source": []
  },
  {
   "cell_type": "code",
   "execution_count": 21,
   "id": "b462bb56",
   "metadata": {},
   "outputs": [
    {
     "name": "stdout",
     "output_type": "stream",
     "text": [
      "2021 11 2 A\n",
      "2022 5 19 C\n"
     ]
    },
    {
     "data": {
      "text/plain": [
       "[1, 4, 5, 1, 3]"
      ]
     },
     "execution_count": 21,
     "metadata": {},
     "output_type": "execute_result"
    }
   ],
   "source": [
    "for i in range(len(privacies)):\n",
    "    date, case = privacies[i].split()\n",
    "    p_year, p_month, p_day = int(privacies[i][0:4]), int(privacies[i][5:7]), int(privacies[i][8:10])\n",
    "\n",
    "    p_month += time_dict[case]\n",
    "\n",
    "    # if p_month > 12 : print(p_year,p_month, p_day, case)\n",
    "    while p_month > 12 : \n",
    "        p_month -= 12\n",
    "        p_year +=1\n",
    "\n",
    "\n",
    "    if p_year > year :\n",
    "        continue\n",
    "\n",
    "    elif p_year == year :\n",
    "        if p_month > month :\n",
    "            continue\n",
    "\n",
    "        elif p_month == month :\n",
    "            if p_day > day :\n",
    "                continue\n",
    "\n",
    "    answer.append(i+1)\n",
    "    print(p_year,p_month,p_day,case)\n",
    "\n",
    "answer"
   ]
  },
  {
   "cell_type": "code",
   "execution_count": null,
   "id": "805bb3a0",
   "metadata": {},
   "outputs": [],
   "source": []
  },
  {
   "cell_type": "code",
   "execution_count": null,
   "id": "f0cf5ae6",
   "metadata": {},
   "outputs": [],
   "source": []
  }
 ],
 "metadata": {
  "kernelspec": {
   "display_name": "hackerrank",
   "language": "python",
   "name": "hackerrank"
  },
  "language_info": {
   "codemirror_mode": {
    "name": "ipython",
    "version": 3
   },
   "file_extension": ".py",
   "mimetype": "text/x-python",
   "name": "python",
   "nbconvert_exporter": "python",
   "pygments_lexer": "ipython3",
   "version": "3.9.12"
  }
 },
 "nbformat": 4,
 "nbformat_minor": 5
}
