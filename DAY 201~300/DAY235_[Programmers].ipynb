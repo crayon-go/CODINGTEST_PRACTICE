{
 "cells": [
  {
   "cell_type": "code",
   "execution_count": 59,
   "id": "1f6c543e",
   "metadata": {},
   "outputs": [
    {
     "name": "stdout",
     "output_type": "stream",
     "text": [
      "[8, 6]\n"
     ]
    }
   ],
   "source": [
    "answer = 0\n",
    "day_cnt = 0\n",
    "happy = 0\n",
    "unhappy = 0\n",
    "threshold = 8\n",
    "\n",
    "for i in happiness:\n",
    "    print(\"----------------------\")\n",
    "    print(i)\n",
    "    if i > threshold:\n",
    "        happy += 1\n",
    "        day_cnt += 1\n",
    "        unhappy = 0\n",
    "        print(happy, unhappy)\n",
    "    else:\n",
    "        unhappy += 1\n",
    "        print(happy, unhappy)\n",
    "        if happy > unhappy:\n",
    "            print(\"@ 1\")\n",
    "            day_cnt += 1\n",
    "        else:\n",
    "            print(\"@ 3\")\n",
    "            day_cnt = 0\n",
    "            happy = 0\n",
    "    print(\"max:\", answer, day_cnt)\n",
    "    answer = max(answer, day_cnt)\n",
    "\n",
    "answer"
   ]
  },
  {
   "cell_type": "code",
   "execution_count": null,
   "id": "9ee22c30",
   "metadata": {},
   "outputs": [],
   "source": []
  }
 ],
 "metadata": {
  "kernelspec": {
   "display_name": "hackerrank",
   "language": "python",
   "name": "hackerrank"
  },
  "language_info": {
   "codemirror_mode": {
    "name": "ipython",
    "version": 3
   },
   "file_extension": ".py",
   "mimetype": "text/x-python",
   "name": "python",
   "nbconvert_exporter": "python",
   "pygments_lexer": "ipython3",
   "version": "3.9.12"
  }
 },
 "nbformat": 4,
 "nbformat_minor": 5
}
