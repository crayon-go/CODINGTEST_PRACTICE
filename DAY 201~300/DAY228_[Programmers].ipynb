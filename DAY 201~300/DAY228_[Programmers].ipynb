{
 "cells": [
  {
   "cell_type": "code",
   "execution_count": 82,
   "id": "65f46e37",
   "metadata": {},
   "outputs": [
    {
     "data": {
      "text/plain": [
       "[2, 1, 1, 0]"
      ]
     },
     "execution_count": 82,
     "metadata": {},
     "output_type": "execute_result"
    }
   ],
   "source": [
    "id_list = [\"muzi\",\n",
    "           \"frodo\",\n",
    "           \"apeach\",\n",
    "           \"neo\"]\n",
    "report = [\"muzi frodo\",\n",
    "          \"apeach frodo\",\n",
    "          \"frodo neo\",\n",
    "          \"muzi neo\",\n",
    "          \"apeach muzi\"]\n",
    "k = 2\n",
    "[2,1,1,0]"
   ]
  },
  {
   "cell_type": "code",
   "execution_count": 76,
   "id": "a2699094",
   "metadata": {},
   "outputs": [],
   "source": [
    "id_list = [\"con\", \"ryan\"]\n",
    "report = [\"ryan con\",\n",
    "          \"ryan con\",\n",
    "          \"ryan con\",\n",
    "          \"ryan con\"]\n",
    "k = 3\n",
    "# [0,0]"
   ]
  },
  {
   "cell_type": "code",
   "execution_count": null,
   "id": "ea108df5",
   "metadata": {},
   "outputs": [],
   "source": [
    "from collections import defaultdict\n",
    "\n",
    "report = list(set(report))\n",
    "report_list = defaultdict(str)\n",
    "\n",
    "for name in id_list:\n",
    "    report_list[name] = []\n",
    "    \n",
    "for repo in report:\n",
    "    a, b = repo.split(\" \")\n",
    "    report_list[b].append(a)\n",
    "answer_list = defaultdict(int)\n",
    "\n",
    "for name in id_list:\n",
    "    answer_list[name] = 0\n",
    "    \n",
    "for repo in report_list:\n",
    "    if len(report_list[repo]) >= k:\n",
    "        for j in report_list[repo]:\n",
    "            print(j)\n",
    "            answer_list[j] += 1\n",
    "\n",
    "answer = []\n",
    "for i in id_list:\n",
    "    answer.append(answer_list[i])\n",
    " "
   ]
  },
  {
   "cell_type": "code",
   "execution_count": null,
   "id": "f0ed92e6",
   "metadata": {},
   "outputs": [],
   "source": []
  },
  {
   "cell_type": "code",
   "execution_count": null,
   "id": "64a7f77e",
   "metadata": {},
   "outputs": [],
   "source": []
  },
  {
   "cell_type": "code",
   "execution_count": null,
   "id": "db49eaff",
   "metadata": {},
   "outputs": [],
   "source": []
  },
  {
   "cell_type": "code",
   "execution_count": 90,
   "id": "4ee822df",
   "metadata": {},
   "outputs": [
    {
     "data": {
      "text/plain": [
       "[0, 0, 0, 0]"
      ]
     },
     "execution_count": 90,
     "metadata": {},
     "output_type": "execute_result"
    }
   ],
   "source": [
    "answer = [0] * len(id_list)\n",
    "answer"
   ]
  },
  {
   "cell_type": "code",
   "execution_count": 86,
   "id": "2f2e140f",
   "metadata": {},
   "outputs": [
    {
     "data": {
      "text/plain": [
       "{'muzi': 0, 'frodo': 0, 'apeach': 0, 'neo': 0}"
      ]
     },
     "execution_count": 86,
     "metadata": {},
     "output_type": "execute_result"
    }
   ],
   "source": [
    "reports = {x : 0 for x in id_list}\n",
    "reports"
   ]
  },
  {
   "cell_type": "code",
   "execution_count": 91,
   "id": "16f38a73",
   "metadata": {},
   "outputs": [
    {
     "name": "stdout",
     "output_type": "stream",
     "text": [
      "apeach muzi\n",
      "frodo neo\n",
      "muzi frodo\n",
      "muzi neo\n",
      "apeach frodo\n"
     ]
    }
   ],
   "source": [
    "for r in set(report):\n",
    "    reports[r.split()[1]] += 1"
   ]
  },
  {
   "cell_type": "code",
   "execution_count": 88,
   "id": "fc4595f7",
   "metadata": {},
   "outputs": [
    {
     "data": {
      "text/plain": [
       "{'muzi': 1, 'frodo': 2, 'apeach': 0, 'neo': 2}"
      ]
     },
     "execution_count": 88,
     "metadata": {},
     "output_type": "execute_result"
    }
   ],
   "source": [
    "reports"
   ]
  },
  {
   "cell_type": "code",
   "execution_count": 89,
   "id": "b7915cd8",
   "metadata": {},
   "outputs": [
    {
     "data": {
      "text/plain": [
       "[2, 1, 1, 0]"
      ]
     },
     "execution_count": 89,
     "metadata": {},
     "output_type": "execute_result"
    }
   ],
   "source": [
    "for r in set(report):\n",
    "    if reports[r.split()[1]] >= k:\n",
    "        answer[id_list.index(r.split()[0])] += 1\n",
    "\n",
    "answer"
   ]
  },
  {
   "cell_type": "code",
   "execution_count": null,
   "id": "c49dda6c",
   "metadata": {},
   "outputs": [],
   "source": []
  },
  {
   "cell_type": "code",
   "execution_count": null,
   "id": "75265342",
   "metadata": {},
   "outputs": [],
   "source": []
  },
  {
   "cell_type": "code",
   "execution_count": null,
   "id": "4be086bd",
   "metadata": {},
   "outputs": [],
   "source": []
  },
  {
   "cell_type": "code",
   "execution_count": null,
   "id": "4620d724",
   "metadata": {},
   "outputs": [],
   "source": []
  },
  {
   "cell_type": "code",
   "execution_count": null,
   "id": "062eacb4",
   "metadata": {},
   "outputs": [],
   "source": []
  },
  {
   "cell_type": "code",
   "execution_count": null,
   "id": "90b4cb2a",
   "metadata": {},
   "outputs": [],
   "source": []
  },
  {
   "cell_type": "code",
   "execution_count": null,
   "id": "a5d16b88",
   "metadata": {},
   "outputs": [],
   "source": []
  }
 ],
 "metadata": {
  "kernelspec": {
   "display_name": "hackerrank",
   "language": "python",
   "name": "hackerrank"
  },
  "language_info": {
   "codemirror_mode": {
    "name": "ipython",
    "version": 3
   },
   "file_extension": ".py",
   "mimetype": "text/x-python",
   "name": "python",
   "nbconvert_exporter": "python",
   "pygments_lexer": "ipython3",
   "version": "3.9.12"
  }
 },
 "nbformat": 4,
 "nbformat_minor": 5
}
