{
 "cells": [
  {
   "cell_type": "code",
   "execution_count": 132,
   "id": "749a1524",
   "metadata": {},
   "outputs": [],
   "source": [
    "n = 3\n",
    "words = [\"tank\", \"kick\", \"know\", \"wheel\", \"land\", \"dream\", \"mother\", \"robot\", \"tank\"]\n",
    "# [3,3]"
   ]
  },
  {
   "cell_type": "code",
   "execution_count": 116,
   "id": "13791361",
   "metadata": {},
   "outputs": [],
   "source": [
    "n = 5\n",
    "words = [\"hello\", \"observe\", \"effect\", \"take\", \"either\", \"recognize\", \"encourage\", \"ensure\", \"establish\", \"hang\", \"gather\", \"refer\", \"reference\", \"estimate\", \"executive\"]\n",
    "# [0,0]"
   ]
  },
  {
   "cell_type": "code",
   "execution_count": 118,
   "id": "91bd2a6d",
   "metadata": {},
   "outputs": [],
   "source": [
    "n = 2\n",
    "words = [\"hello\", \"one\", \"even\", \"never\", \"now\", \"world\", \"draw\"]\n",
    "# [1,3]"
   ]
  },
  {
   "cell_type": "code",
   "execution_count": 133,
   "id": "def01684",
   "metadata": {},
   "outputs": [
    {
     "name": "stdout",
     "output_type": "stream",
     "text": [
      "-----------\n",
      "1\n",
      "-----------\n",
      "2\n",
      "-----------\n",
      "3\n",
      "-----------\n",
      "4\n",
      "-----------\n",
      "5\n",
      "-----------\n",
      "6\n",
      "-----------\n",
      "7\n",
      "-----------\n",
      "8\n"
     ]
    },
    {
     "data": {
      "text/plain": [
       "[3, 3]"
      ]
     },
     "execution_count": 133,
     "metadata": {},
     "output_type": "execute_result"
    }
   ],
   "source": [
    "answer = [0,0]\n",
    "stack = [words[0]]\n",
    "for i in range(1, len(words)):\n",
    "    print(\"-----------\")\n",
    "    print(i)\n",
    "    if stack[-1][-1] == words[i][0] and words[i] not in stack:\n",
    "        stack.append(words[i])\n",
    "    else:\n",
    "        answer[0] = (i % n) + 1\n",
    "        answer[1] = i // n + 1\n",
    "        break\n",
    "answer"
   ]
  },
  {
   "cell_type": "code",
   "execution_count": 134,
   "id": "ad969801",
   "metadata": {},
   "outputs": [
    {
     "name": "stdout",
     "output_type": "stream",
     "text": [
      "[3, 3]\n",
      "[0, 0]\n"
     ]
    }
   ],
   "source": [
    "for p in range(1, len(words)):\n",
    "    if words[p][0] != words[p-1][-1] or words[p] in words[:p]: \n",
    "        print([(p%n)+1, (p//n)+1])\n",
    "else:\n",
    "    print([0,0])"
   ]
  },
  {
   "cell_type": "code",
   "execution_count": null,
   "id": "880cd103",
   "metadata": {},
   "outputs": [],
   "source": []
  },
  {
   "cell_type": "code",
   "execution_count": 53,
   "id": "f3f1fab1",
   "metadata": {},
   "outputs": [],
   "source": [
    "brown = 10\n",
    "yellow = 2\n",
    "# [4, 3]"
   ]
  },
  {
   "cell_type": "code",
   "execution_count": 46,
   "id": "e5a50346",
   "metadata": {},
   "outputs": [],
   "source": [
    "brown = 8\n",
    "yellow = 1\n",
    "# [3, 3]"
   ]
  },
  {
   "cell_type": "code",
   "execution_count": 55,
   "id": "4a96e777",
   "metadata": {},
   "outputs": [],
   "source": [
    "brown = 24\n",
    "yellow = 24\n",
    "# [8, 6]"
   ]
  },
  {
   "cell_type": "code",
   "execution_count": 50,
   "id": "bfc8d363",
   "metadata": {},
   "outputs": [],
   "source": [
    "brown = 18\n",
    "yellow = 6\n",
    "# [8, 3]"
   ]
  },
  {
   "cell_type": "code",
   "execution_count": 56,
   "id": "0dc3745c",
   "metadata": {},
   "outputs": [
    {
     "name": "stdout",
     "output_type": "stream",
     "text": [
      "1\n",
      "2\n",
      "3\n",
      "4\n",
      "[8, 6]\n"
     ]
    },
    {
     "data": {
      "text/plain": [
       "[8, 6]"
      ]
     },
     "execution_count": 56,
     "metadata": {},
     "output_type": "execute_result"
    }
   ],
   "source": [
    "answer = []\n",
    "\n",
    "yellow_x = 0\n",
    "yellow_y = 0\n",
    "\n",
    "for i in range(1, yellow+1) :\n",
    "    print(i)\n",
    "    if yellow % i == 0 :\n",
    "        yellow_x = int(yellow/i)\n",
    "        yellow_y = i\n",
    "        if yellow_x*2 + yellow_y*2 + 4 == brown :            \n",
    "            answer.append(yellow_x+2)\n",
    "            answer.append(yellow_y+2)\n",
    "\n",
    "            print(sorted(answer, reverse = True))\n",
    "            break\n",
    "\n",
    "answer"
   ]
  },
  {
   "cell_type": "code",
   "execution_count": 59,
   "id": "1f6c543e",
   "metadata": {},
   "outputs": [
    {
     "name": "stdout",
     "output_type": "stream",
     "text": [
      "[8, 6]\n"
     ]
    }
   ],
   "source": [
    "for i in range(1, int(yellow**(1/2))+1):\n",
    "    if yellow % i == 0:\n",
    "        if 2*(i + yellow//i) == brown-4:\n",
    "            print([yellow//i+2, i+2])"
   ]
  },
  {
   "cell_type": "code",
   "execution_count": null,
   "id": "fddf75fd",
   "metadata": {},
   "outputs": [],
   "source": []
  },
  {
   "cell_type": "code",
   "execution_count": null,
   "id": "9982706a",
   "metadata": {},
   "outputs": [],
   "source": []
  },
  {
   "cell_type": "code",
   "execution_count": 20,
   "id": "55492731",
   "metadata": {},
   "outputs": [],
   "source": []
  },
  {
   "cell_type": "code",
   "execution_count": null,
   "id": "3a74e125",
   "metadata": {},
   "outputs": [],
   "source": [
    "# (1) (2)\n",
    "# 1 (2) 3 (4)\n",
    "# 1 2 3 (4) 5 6 (7) 8"
   ]
  },
  {
   "cell_type": "code",
   "execution_count": 39,
   "id": "d89f5892",
   "metadata": {},
   "outputs": [],
   "source": [
    "n = 8\n",
    "a = 1\n",
    "b = 8\n",
    "# 3"
   ]
  },
  {
   "cell_type": "code",
   "execution_count": 38,
   "id": "f31933c1",
   "metadata": {},
   "outputs": [
    {
     "name": "stdout",
     "output_type": "stream",
     "text": [
      "1\n"
     ]
    }
   ],
   "source": [
    "answer = 0\n",
    "\n",
    "while True:\n",
    "    tmp1, tmp2 = divmod(a, 2)\n",
    "    a = tmp1 + tmp2\n",
    "    tmp1, tmp2 = divmod(b, 2)\n",
    "    b = tmp1 + tmp2\n",
    "    \n",
    "    answer += 1\n",
    "    if a == b:\n",
    "        break\n",
    "print(answer)"
   ]
  },
  {
   "cell_type": "code",
   "execution_count": 37,
   "id": "e9112b35",
   "metadata": {},
   "outputs": [
    {
     "data": {
      "text/plain": [
       "3"
      ]
     },
     "execution_count": 37,
     "metadata": {},
     "output_type": "execute_result"
    }
   ],
   "source": [
    "cnt=0\n",
    "while True:\n",
    "    a = (a//2)+(a%2)\n",
    "    b = (b//2)+(b%2)\n",
    "    cnt+=1\n",
    "    if a==b:\n",
    "        break\n",
    "cnt"
   ]
  },
  {
   "cell_type": "code",
   "execution_count": 9,
   "id": "67a23d46",
   "metadata": {},
   "outputs": [
    {
     "data": {
      "text/plain": [
       "(2, 0)"
      ]
     },
     "execution_count": 9,
     "metadata": {},
     "output_type": "execute_result"
    }
   ],
   "source": [
    "divmod(4, 2)"
   ]
  },
  {
   "cell_type": "code",
   "execution_count": 7,
   "id": "0d2d4e5d",
   "metadata": {},
   "outputs": [
    {
     "data": {
      "text/plain": [
       "(3, 1)"
      ]
     },
     "execution_count": 7,
     "metadata": {},
     "output_type": "execute_result"
    }
   ],
   "source": [
    "divmod(B, 2)"
   ]
  },
  {
   "cell_type": "code",
   "execution_count": null,
   "id": "d34caf25",
   "metadata": {},
   "outputs": [],
   "source": []
  },
  {
   "cell_type": "code",
   "execution_count": 40,
   "id": "1878fc9a",
   "metadata": {},
   "outputs": [
    {
     "data": {
      "text/plain": [
       "3"
      ]
     },
     "execution_count": 40,
     "metadata": {},
     "output_type": "execute_result"
    }
   ],
   "source": [
    "((a-1)^(b-1)).bit_length()"
   ]
  },
  {
   "cell_type": "code",
   "execution_count": null,
   "id": "629672b4",
   "metadata": {},
   "outputs": [],
   "source": []
  },
  {
   "cell_type": "code",
   "execution_count": null,
   "id": "9ad9cb1f",
   "metadata": {},
   "outputs": [],
   "source": []
  },
  {
   "cell_type": "code",
   "execution_count": 32,
   "id": "fd5c4fa8",
   "metadata": {},
   "outputs": [],
   "source": [
    "people = [70, 50, 80, 50]\n",
    "limit = 100\n",
    "# 3"
   ]
  },
  {
   "cell_type": "code",
   "execution_count": 22,
   "id": "ee6606ef",
   "metadata": {},
   "outputs": [],
   "source": [
    "people = [70, 80, 50]\n",
    "limit = 100\n",
    "# 3"
   ]
  },
  {
   "cell_type": "code",
   "execution_count": 28,
   "id": "8c7db0bd",
   "metadata": {},
   "outputs": [
    {
     "data": {
      "text/plain": [
       "3"
      ]
     },
     "execution_count": 28,
     "metadata": {},
     "output_type": "execute_result"
    }
   ],
   "source": [
    "answer = 0\n",
    "people.sort()\n",
    "l = len(people)\n",
    "big = 1\n",
    "small = 0\n",
    "\n",
    "while big + small <= l :\n",
    "    thisboat = 0 \n",
    "    possible = limit\n",
    "\n",
    "    while big + small <= l and possible >= people[big*(-1)] :\n",
    "        thisboat += people[big*(-1)]\n",
    "        possible = limit - thisboat\n",
    "        big += 1\n",
    "\n",
    "    while big+small <= l and possible >= people[small] :\n",
    "        thisboat += people[small]\n",
    "        possible = limit - thisboat\n",
    "        small += 1\n",
    "\n",
    "    answer += 1\n",
    "    thisboat = 0\n",
    "\n",
    "answer"
   ]
  },
  {
   "cell_type": "code",
   "execution_count": 27,
   "id": "acafe2cb",
   "metadata": {},
   "outputs": [
    {
     "data": {
      "text/plain": [
       "3"
      ]
     },
     "execution_count": 27,
     "metadata": {},
     "output_type": "execute_result"
    }
   ],
   "source": [
    "n_cnt"
   ]
  },
  {
   "cell_type": "code",
   "execution_count": 38,
   "id": "0ff61df4",
   "metadata": {},
   "outputs": [
    {
     "name": "stdout",
     "output_type": "stream",
     "text": [
      "0 3\n",
      "0 2\n",
      "0 1\n",
      "@\n"
     ]
    },
    {
     "data": {
      "text/plain": [
       "3"
      ]
     },
     "execution_count": 38,
     "metadata": {},
     "output_type": "execute_result"
    }
   ],
   "source": [
    "answer = 0\n",
    "people.sort()\n",
    "# [50, 50, 70, 80]\n",
    "\n",
    "a = 0\n",
    "b = len(people) - 1\n",
    "\n",
    "while a < b :\n",
    "    print(a, b)\n",
    "    if people[b] + people[a] <= limit:\n",
    "        a += 1\n",
    "        answer += 1\n",
    "    b -= 1\n",
    "len(people) - answer"
   ]
  },
  {
   "cell_type": "code",
   "execution_count": 36,
   "id": "685dcf14",
   "metadata": {},
   "outputs": [
    {
     "data": {
      "text/plain": [
       "[50, 50, 70, 80]"
      ]
     },
     "execution_count": 36,
     "metadata": {},
     "output_type": "execute_result"
    }
   ],
   "source": [
    "people"
   ]
  },
  {
   "cell_type": "code",
   "execution_count": null,
   "id": "506657e5",
   "metadata": {},
   "outputs": [],
   "source": []
  },
  {
   "cell_type": "code",
   "execution_count": null,
   "id": "9ee22c30",
   "metadata": {},
   "outputs": [],
   "source": []
  }
 ],
 "metadata": {
  "kernelspec": {
   "display_name": "hackerrank",
   "language": "python",
   "name": "hackerrank"
  },
  "language_info": {
   "codemirror_mode": {
    "name": "ipython",
    "version": 3
   },
   "file_extension": ".py",
   "mimetype": "text/x-python",
   "name": "python",
   "nbconvert_exporter": "python",
   "pygments_lexer": "ipython3",
   "version": "3.9.12"
  }
 },
 "nbformat": 4,
 "nbformat_minor": 5
}
