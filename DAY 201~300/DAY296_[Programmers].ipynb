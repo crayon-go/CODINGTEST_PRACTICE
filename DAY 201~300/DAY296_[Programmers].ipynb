{
 "cells": [
  {
   "cell_type": "code",
   "execution_count": null,
   "id": "71cbd234",
   "metadata": {},
   "outputs": [],
   "source": [
    "def solution(k, tangerine):\n",
    "    answer = 0\n",
    "    return answer"
   ]
  },
  {
   "cell_type": "code",
   "execution_count": 154,
   "id": "d1884236",
   "metadata": {},
   "outputs": [],
   "source": [
    "k = 6\n",
    "tangerine = [1, 3, 2, 5, 4, 5, 2, 3]\n",
    "# 3"
   ]
  },
  {
   "cell_type": "code",
   "execution_count": 99,
   "id": "15400e26",
   "metadata": {},
   "outputs": [],
   "source": [
    "k = 4\n",
    "tangerine = [1, 3, 2, 5, 4, 5, 2, 3]\n",
    "# 2"
   ]
  },
  {
   "cell_type": "code",
   "execution_count": 108,
   "id": "98d5ba3d",
   "metadata": {},
   "outputs": [],
   "source": [
    "k = 2\n",
    "tangerine = [1, 1, 1, 1, 2, 2, 2, 3]\n",
    "# 1"
   ]
  },
  {
   "cell_type": "code",
   "execution_count": 147,
   "id": "a6c02449",
   "metadata": {},
   "outputs": [
    {
     "data": {
      "text/plain": [
       "3"
      ]
     },
     "execution_count": 147,
     "metadata": {},
     "output_type": "execute_result"
    }
   ],
   "source": [
    "result_list = []\n",
    "\n",
    "set_tangerine = list(set(tangerine))\n",
    "set_tangerine\n",
    "\n",
    "tangerine_count = [tangerine.count(i) for i in set_tangerine ]\n",
    "tangerine_count\n",
    "\n",
    "while True:\n",
    "    max_size_index = tangerine_count.index(max(tangerine_count))\n",
    "    result_list.append(set_tangerine[max_size_index])\n",
    "    k = k - tangerine_count[max_size_index]\n",
    "    tangerine_count[max_size_index] = 0\n",
    "\n",
    "    if k <= 0:\n",
    "        break\n",
    "        \n",
    "answer = len(result_list)\n",
    "answer"
   ]
  },
  {
   "cell_type": "code",
   "execution_count": null,
   "id": "cd099842",
   "metadata": {},
   "outputs": [],
   "source": []
  },
  {
   "cell_type": "code",
   "execution_count": null,
   "id": "6f277bd8",
   "metadata": {},
   "outputs": [],
   "source": []
  },
  {
   "cell_type": "code",
   "execution_count": 151,
   "id": "b97bbb52",
   "metadata": {},
   "outputs": [
    {
     "data": {
      "text/plain": [
       "3"
      ]
     },
     "execution_count": 151,
     "metadata": {},
     "output_type": "execute_result"
    }
   ],
   "source": [
    "\n",
    "set_tangerine = list(set(tangerine))\n",
    "tangerine_count = [tangerine.count(i) for i in set_tangerine ]\n",
    "tangerine_count.sort(reverse=True)\n",
    "\n",
    "answer = 0\n",
    "for i in tangerine_count:\n",
    "    answer += 1\n",
    "    k -= i\n",
    "    if k <= 0:\n",
    "        break\n",
    "\n",
    "\n",
    "answer"
   ]
  },
  {
   "cell_type": "code",
   "execution_count": null,
   "id": "f45607d5",
   "metadata": {},
   "outputs": [],
   "source": []
  },
  {
   "cell_type": "code",
   "execution_count": null,
   "id": "f6767f16",
   "metadata": {},
   "outputs": [],
   "source": []
  },
  {
   "cell_type": "code",
   "execution_count": 153,
   "id": "a47a1995",
   "metadata": {},
   "outputs": [
    {
     "data": {
      "text/plain": [
       "3"
      ]
     },
     "execution_count": 153,
     "metadata": {},
     "output_type": "execute_result"
    }
   ],
   "source": [
    "set_tangerine = list(set(tangerine))\n",
    "tangerine_count = [tangerine.count(i) for i in set_tangerine ]\n",
    "\n",
    "\n",
    "answer = 0\n",
    "for i in tangerine_count:\n",
    "    answer += 1\n",
    "    k -= max(tangerine_count)\n",
    "    tangerine_count[tangerine_count.index(max(tangerine_count))] = 0\n",
    "    if k <= 0:\n",
    "        break\n",
    "\n",
    "\n",
    "answer"
   ]
  },
  {
   "cell_type": "code",
   "execution_count": null,
   "id": "b5566dc7",
   "metadata": {},
   "outputs": [],
   "source": []
  },
  {
   "cell_type": "code",
   "execution_count": null,
   "id": "e485f911",
   "metadata": {},
   "outputs": [],
   "source": []
  },
  {
   "cell_type": "code",
   "execution_count": 157,
   "id": "ea8556a3",
   "metadata": {},
   "outputs": [],
   "source": [
    "k = 6\n",
    "tangerine = [1, 3, 2, 5, 4, 5, 2, 3]\n",
    "# 3"
   ]
  },
  {
   "cell_type": "code",
   "execution_count": 156,
   "id": "af213181",
   "metadata": {},
   "outputs": [
    {
     "data": {
      "text/plain": [
       "3"
      ]
     },
     "execution_count": 156,
     "metadata": {},
     "output_type": "execute_result"
    }
   ],
   "source": [
    "answer = 0\n",
    "\n",
    "a={}\n",
    "\n",
    "for i in tangerine:\n",
    "    if i in a:\n",
    "        a[i]+=1\n",
    "    else:\n",
    "        a[i]=1\n",
    "\n",
    "a = dict(sorted(a.items(), key=lambda x: x[1], reverse=True))\n",
    "\n",
    "for i in a:\n",
    "    if k<=0:\n",
    "        break\n",
    "    k-=a[i]\n",
    "    answer+=1\n",
    "answer"
   ]
  },
  {
   "cell_type": "code",
   "execution_count": null,
   "id": "3a1ac2fa",
   "metadata": {},
   "outputs": [],
   "source": []
  },
  {
   "cell_type": "code",
   "execution_count": null,
   "id": "27016a86",
   "metadata": {},
   "outputs": [],
   "source": []
  },
  {
   "cell_type": "code",
   "execution_count": 158,
   "id": "59acc9ac",
   "metadata": {},
   "outputs": [
    {
     "data": {
      "text/plain": [
       "3"
      ]
     },
     "execution_count": 158,
     "metadata": {},
     "output_type": "execute_result"
    }
   ],
   "source": [
    "import collections\n",
    "\n",
    "answer = 0\n",
    "cnt = collections.Counter(tangerine)\n",
    "\n",
    "for v in sorted(cnt.values(), reverse = True):\n",
    "    k -= v\n",
    "    answer += 1\n",
    "    if k <= 0:\n",
    "        break\n",
    "answer"
   ]
  },
  {
   "cell_type": "code",
   "execution_count": null,
   "id": "019b5b8d",
   "metadata": {},
   "outputs": [],
   "source": []
  }
 ],
 "metadata": {
  "kernelspec": {
   "display_name": "color_extraction",
   "language": "python",
   "name": "color_extraction"
  },
  "language_info": {
   "codemirror_mode": {
    "name": "ipython",
    "version": 3
   },
   "file_extension": ".py",
   "mimetype": "text/x-python",
   "name": "python",
   "nbconvert_exporter": "python",
   "pygments_lexer": "ipython3",
   "version": "3.8.16"
  }
 },
 "nbformat": 4,
 "nbformat_minor": 5
}
