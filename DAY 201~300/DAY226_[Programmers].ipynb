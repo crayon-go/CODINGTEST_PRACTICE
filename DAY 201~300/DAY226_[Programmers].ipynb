{
 "cells": [
  {
   "cell_type": "code",
   "execution_count": null,
   "id": "13007f25",
   "metadata": {},
   "outputs": [],
   "source": [
    "def solution(park, routes):\n",
    "    answer = []\n",
    "    return answer"
   ]
  },
  {
   "cell_type": "code",
   "execution_count": 2,
   "id": "747d0160",
   "metadata": {},
   "outputs": [],
   "source": [
    "park = [\"SOO\",\n",
    "        \"OOO\",\n",
    "        \"OOO\"]\n",
    "routes = [\"E 2\",\"S 2\",\"W 1\"]\n",
    "# [2,1]"
   ]
  },
  {
   "cell_type": "code",
   "execution_count": 192,
   "id": "0ec5973d",
   "metadata": {},
   "outputs": [],
   "source": [
    "park = [\"SOO\",\n",
    "        \"OXX\",\n",
    "        \"OOO\"]\n",
    "routes = [\"E 2\",\"S 2\",\"W 1\"]\n",
    "# [0,1]"
   ]
  },
  {
   "cell_type": "code",
   "execution_count": 222,
   "id": "80ddaec8",
   "metadata": {},
   "outputs": [],
   "source": [
    "park = [\"OSO\",\n",
    "        \"OOO\",\n",
    "        \"OXO\",\n",
    "        \"OOO\"]\n",
    "routes = [\"E 2\",\"S 3\",\"W 1\"]\n",
    "# [0,0]"
   ]
  },
  {
   "cell_type": "code",
   "execution_count": null,
   "id": "eb95f02b",
   "metadata": {},
   "outputs": [],
   "source": []
  },
  {
   "cell_type": "code",
   "execution_count": null,
   "id": "b2ecf173",
   "metadata": {},
   "outputs": [],
   "source": [
    "x = 0\n",
    "y = 0\n",
    "\n",
    "for i in range(len(park)):\n",
    "    for j in range(len(park[i])):\n",
    "        if park[i][j] == 'S':\n",
    "            x = j\n",
    "            y = i\n",
    "            break"
   ]
  },
  {
   "cell_type": "code",
   "execution_count": 3,
   "id": "da3db765",
   "metadata": {},
   "outputs": [
    {
     "data": {
      "text/plain": [
       "[2, 1]"
      ]
     },
     "execution_count": 3,
     "metadata": {},
     "output_type": "execute_result"
    }
   ],
   "source": [
    "for route in routes:\n",
    "    xx = x\n",
    "    yy = y\n",
    "    \n",
    "    for step in range(int(route[2])):\n",
    "        \n",
    "        if route[0] == 'E' and xx != len(park[0])-1 and park[yy][xx+1] != 'X':\n",
    "            xx += 1\n",
    "            if step == int(route[2])-1:\n",
    "                x = xx\n",
    "        \n",
    "        elif route[0] == 'W' and xx != 0 and park[yy][xx-1] != 'X':\n",
    "            xx -= 1\n",
    "            if step == int(route[2])-1:\n",
    "                x = xx\n",
    "        \n",
    "        elif route[0] == 'S' and yy != len(park)-1 and park[yy+1][xx] != 'X':\n",
    "            yy += 1\n",
    "            if step == int(route[2])-1:\n",
    "                y = yy\n",
    "        \n",
    "        elif route[0] == 'N' and yy != 0 and park[yy-1][xx] != 'X':\n",
    "            yy -= 1\n",
    "            if step == int(route[2])-1:\n",
    "                y = yy\n",
    "\n",
    "[y, x]"
   ]
  },
  {
   "cell_type": "code",
   "execution_count": null,
   "id": "8293ff82",
   "metadata": {},
   "outputs": [],
   "source": []
  },
  {
   "cell_type": "code",
   "execution_count": null,
   "id": "bdd72906",
   "metadata": {},
   "outputs": [],
   "source": []
  },
  {
   "cell_type": "code",
   "execution_count": null,
   "id": "b40c6b74",
   "metadata": {},
   "outputs": [],
   "source": []
  },
  {
   "cell_type": "code",
   "execution_count": null,
   "id": "19fe64d4",
   "metadata": {},
   "outputs": [],
   "source": []
  },
  {
   "cell_type": "code",
   "execution_count": 7,
   "id": "0270108c",
   "metadata": {},
   "outputs": [],
   "source": [
    "class Dog:\n",
    "    def __init__(self, x, y):\n",
    "        self.x = x\n",
    "        self.y = y\n",
    "        self.g = {\"N\": (-1, 0), \"W\": (0, -1), \"E\": (0, 1), \"S\": (1, 0)}\n",
    "\n",
    "    def move(self, park, direction, distance):\n",
    "        i, j = self.g[direction]\n",
    "        x, y = self.x + (i * distance), self.y + (j * distance)\n",
    "        if x < 0 or y < 0 or x >= len(park) or y >= len(park[0]):\n",
    "            return park\n",
    "        elif \"X\" in park[x][min(self.y, y) : max(self.y, y) + 1] or \"X\" in [\n",
    "            row[y] for row in park[min(self.x, x) : max(self.x, x)]\n",
    "        ]:\n",
    "            return park\n",
    "        park[self.x][self.y] = \"O\"\n",
    "        park[x][y] = \"S\"\n",
    "        self.x = x\n",
    "        self.y = y\n",
    "        return park\n",
    "\n",
    "    @classmethod\n",
    "    def detect_start_dogs_location(self, park):\n",
    "        for i, row in enumerate(park):\n",
    "            for j, item in enumerate(row):\n",
    "                if item == \"S\":\n",
    "                    return i, j\n",
    "\n",
    "\n",
    "def solution(park, routes):\n",
    "    park = [list(row) for row in park]\n",
    "    x, y = Dog.detect_start_dogs_location(park)\n",
    "\n",
    "    dog = Dog(x, y)\n",
    "\n",
    "    for route in routes:\n",
    "        direction, distance = route.split()\n",
    "        park = dog.move(park, direction, int(distance))\n",
    "\n",
    "    return [dog.x, dog.y]\n",
    "\n",
    "\n"
   ]
  },
  {
   "cell_type": "code",
   "execution_count": null,
   "id": "eb019948",
   "metadata": {},
   "outputs": [],
   "source": []
  }
 ],
 "metadata": {
  "kernelspec": {
   "display_name": "color_extraction",
   "language": "python",
   "name": "color_extraction"
  },
  "language_info": {
   "codemirror_mode": {
    "name": "ipython",
    "version": 3
   },
   "file_extension": ".py",
   "mimetype": "text/x-python",
   "name": "python",
   "nbconvert_exporter": "python",
   "pygments_lexer": "ipython3",
   "version": "3.8.16"
  }
 },
 "nbformat": 4,
 "nbformat_minor": 5
}
