{
 "cells": [
  {
   "cell_type": "code",
   "execution_count": 207,
   "id": "e0d2dbc5",
   "metadata": {},
   "outputs": [],
   "source": [
    "new_id = \"...!@BaT#*..y.abcdefghijklm\"\n",
    "# \"bat.y.abcdefghi\""
   ]
  },
  {
   "cell_type": "code",
   "execution_count": 138,
   "id": "dd2f55a5",
   "metadata": {},
   "outputs": [],
   "source": [
    "new_id = \"z-+.^.\"\n",
    "# \"z--\""
   ]
  },
  {
   "cell_type": "code",
   "execution_count": 150,
   "id": "b172db1c",
   "metadata": {},
   "outputs": [],
   "source": [
    "new_id = \"=.=\"\n",
    "# \"aaa\""
   ]
  },
  {
   "cell_type": "code",
   "execution_count": 162,
   "id": "4409e007",
   "metadata": {},
   "outputs": [],
   "source": [
    "new_id = \"123_.def\"\n",
    "# \"123_.def\""
   ]
  },
  {
   "cell_type": "code",
   "execution_count": 174,
   "id": "99fa358d",
   "metadata": {},
   "outputs": [],
   "source": [
    "new_id = \"abcdefghijklmn.p\"\n",
    "# \"abcdefghijklmn\""
   ]
  },
  {
   "cell_type": "code",
   "execution_count": null,
   "id": "390d6b69",
   "metadata": {},
   "outputs": [],
   "source": []
  },
  {
   "cell_type": "code",
   "execution_count": null,
   "id": "44762072",
   "metadata": {},
   "outputs": [],
   "source": [
    "def solution(new_id):\n",
    "    st = new_id\n",
    "    st = st.lower()\n",
    "    st = re.sub('[^a-z0-9\\-_.]', '', st)\n",
    "    st = re.sub('\\.+', '.', st)\n",
    "    st = re.sub('^[.]|[.]$', '', st)\n",
    "    st = 'a' if len(st) == 0 else st[:15]\n",
    "    st = re.sub('^[.]|[.]$', '', st)\n",
    "    st = st if len(st) > 2 else st + \"\".join([st[-1] for i in range(3-len(st))])\n",
    "    return st"
   ]
  },
  {
   "cell_type": "code",
   "execution_count": null,
   "id": "9ecaa356",
   "metadata": {},
   "outputs": [],
   "source": []
  },
  {
   "cell_type": "code",
   "execution_count": null,
   "id": "dd601099",
   "metadata": {},
   "outputs": [],
   "source": []
  },
  {
   "cell_type": "code",
   "execution_count": null,
   "id": "7d4e9076",
   "metadata": {},
   "outputs": [],
   "source": []
  },
  {
   "cell_type": "code",
   "execution_count": 208,
   "id": "5c1fd5c2",
   "metadata": {},
   "outputs": [
    {
     "data": {
      "text/plain": [
       "'bat.y.abcdefghi'"
      ]
     },
     "execution_count": 208,
     "metadata": {},
     "output_type": "execute_result"
    }
   ],
   "source": [
    "import re\n",
    "\n",
    "answer = ''\n",
    "\n",
    "new_id = new_id.lower()\n",
    "new_id = re.sub('[^a-z0-9가-힣 ._-]', '', new_id)\n",
    "\n",
    "list_new_id = list(new_id)\n",
    "\n",
    "for idx, i in enumerate(list_new_id[:-1]):\n",
    "    if list_new_id[idx]+list_new_id[idx+1] == '..':\n",
    "        list_new_id[idx] = ''\n",
    "\n",
    "new_id = ''.join(list_new_id)\n",
    "list_new_id = list(new_id)\n",
    "\n",
    "while list_new_id[0] == '.':\n",
    "    if list_new_id[0] == '.':\n",
    "        list_new_id[0] = ''\n",
    "        \n",
    "while list_new_id[-1] == '.':\n",
    "    if list_new_id[-1] == '.':\n",
    "        list_new_id[-1] = ''\n",
    "\n",
    "new_id = ''.join(list_new_id)\n",
    "new_id\n",
    "\n",
    "if new_id == '':\n",
    "    new_id = 'a'\n",
    "\n",
    "if len(new_id) > 15:\n",
    "    new_id = new_id[:15]\n",
    "\n",
    "list_new_id = list(new_id)\n",
    "if list_new_id[-1] == \".\":\n",
    "    list_new_id.pop()\n",
    "\n",
    "if list_new_id[-1] == \".\":\n",
    "    list_new_id.pop()\n",
    "\n",
    "while len(list_new_id) < 3:\n",
    "    list_new_id.append(list_new_id[-1])\n",
    "\n",
    "new_id = ''.join(list_new_id)\n",
    "new_id"
   ]
  },
  {
   "cell_type": "code",
   "execution_count": null,
   "id": "39886067",
   "metadata": {},
   "outputs": [],
   "source": []
  },
  {
   "cell_type": "code",
   "execution_count": null,
   "id": "7c21c3a5",
   "metadata": {},
   "outputs": [],
   "source": []
  },
  {
   "cell_type": "code",
   "execution_count": null,
   "id": "25be8804",
   "metadata": {},
   "outputs": [],
   "source": []
  },
  {
   "cell_type": "code",
   "execution_count": null,
   "id": "c908789d",
   "metadata": {},
   "outputs": [],
   "source": []
  },
  {
   "cell_type": "code",
   "execution_count": null,
   "id": "58d649f1",
   "metadata": {},
   "outputs": [],
   "source": []
  },
  {
   "cell_type": "code",
   "execution_count": null,
   "id": "84b5eaaa",
   "metadata": {},
   "outputs": [],
   "source": []
  },
  {
   "cell_type": "code",
   "execution_count": null,
   "id": "bc8d1e69",
   "metadata": {},
   "outputs": [],
   "source": []
  }
 ],
 "metadata": {
  "kernelspec": {
   "display_name": "color_extraction",
   "language": "python",
   "name": "color_extraction"
  },
  "language_info": {
   "codemirror_mode": {
    "name": "ipython",
    "version": 3
   },
   "file_extension": ".py",
   "mimetype": "text/x-python",
   "name": "python",
   "nbconvert_exporter": "python",
   "pygments_lexer": "ipython3",
   "version": "3.8.16"
  }
 },
 "nbformat": 4,
 "nbformat_minor": 5
}
