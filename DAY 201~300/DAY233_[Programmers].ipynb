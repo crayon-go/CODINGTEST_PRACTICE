{
 "cells": [
  {
   "cell_type": "code",
   "execution_count": 13,
   "id": "6bb7655c",
   "metadata": {},
   "outputs": [],
   "source": [
    "n = 3\n",
    "# 2"
   ]
  },
  {
   "cell_type": "code",
   "execution_count": 11,
   "id": "82825bd3",
   "metadata": {},
   "outputs": [],
   "source": [
    "n = 5\n",
    "# 5"
   ]
  },
  {
   "cell_type": "code",
   "execution_count": 21,
   "id": "f8e70fcc",
   "metadata": {},
   "outputs": [
    {
     "data": {
      "text/plain": [
       "55"
      ]
     },
     "execution_count": 21,
     "metadata": {},
     "output_type": "execute_result"
    }
   ],
   "source": [
    "answer = 0\n",
    "\n",
    "answer = [0,1]    # F(0)=0, F(1)=1\n",
    "\n",
    "for i in range(2,n+1):    # F(n) = (F(n-1) + F(n-2)) % 1234567\n",
    "    answer.append((answer[i-1] + answer[i-2]) % 1234567)\n",
    "answer[-1]"
   ]
  },
  {
   "cell_type": "code",
   "execution_count": 22,
   "id": "4fafcab1",
   "metadata": {},
   "outputs": [
    {
     "data": {
      "text/plain": [
       "[0, 1, 1, 2, 3, 5, 8, 13, 21, 34, 55]"
      ]
     },
     "execution_count": 22,
     "metadata": {},
     "output_type": "execute_result"
    }
   ],
   "source": [
    "answer"
   ]
  },
  {
   "cell_type": "code",
   "execution_count": null,
   "id": "16025ad0",
   "metadata": {},
   "outputs": [],
   "source": []
  },
  {
   "cell_type": "code",
   "execution_count": 23,
   "id": "3a0d8a10",
   "metadata": {},
   "outputs": [
    {
     "data": {
      "text/plain": [
       "55"
      ]
     },
     "execution_count": 23,
     "metadata": {},
     "output_type": "execute_result"
    }
   ],
   "source": [
    "a, b = 0, 1\n",
    "for i in range(n):\n",
    "    a, b = b, a+b\n",
    "a"
   ]
  },
  {
   "cell_type": "code",
   "execution_count": null,
   "id": "d2963aa6",
   "metadata": {},
   "outputs": [],
   "source": []
  },
  {
   "cell_type": "code",
   "execution_count": null,
   "id": "96599689",
   "metadata": {},
   "outputs": [],
   "source": []
  },
  {
   "cell_type": "code",
   "execution_count": null,
   "id": "150d8ddd",
   "metadata": {},
   "outputs": [],
   "source": []
  },
  {
   "cell_type": "code",
   "execution_count": 135,
   "id": "994faea9",
   "metadata": {},
   "outputs": [],
   "source": [
    "s = 'baabaa'\n",
    "# 1"
   ]
  },
  {
   "cell_type": "code",
   "execution_count": 106,
   "id": "79bfc386",
   "metadata": {},
   "outputs": [],
   "source": [
    "s = 'cdcd'\n",
    "# 0"
   ]
  },
  {
   "cell_type": "code",
   "execution_count": 117,
   "id": "1fbce42c",
   "metadata": {},
   "outputs": [
    {
     "name": "stdout",
     "output_type": "stream",
     "text": [
      "b\n",
      "a\n",
      "a\n",
      "b\n",
      "a\n",
      "a\n"
     ]
    }
   ],
   "source": [
    "stack = []\n",
    "\n",
    "for i in s:\n",
    "    print(i)\n",
    "    if not stack:\n",
    "        stack.append(i)\n",
    "    elif stack[-1] == i:\n",
    "        stack.pop()\n",
    "        continue\n",
    "    elif stack[-1] != i:\n",
    "        stack.append(i)\n",
    "if stack:\n",
    "    print(1)\n",
    "else:\n",
    "    print(0)"
   ]
  },
  {
   "cell_type": "code",
   "execution_count": 131,
   "id": "5e6ca6b5",
   "metadata": {},
   "outputs": [
    {
     "data": {
      "text/plain": [
       "True"
      ]
     },
     "execution_count": 131,
     "metadata": {},
     "output_type": "execute_result"
    }
   ],
   "source": [
    "answer = []\n",
    "for i in s:\n",
    "    if not(answer):\n",
    "        answer.append(i)\n",
    "    else:\n",
    "        if(answer[-1] == i):\n",
    "            answer.pop()\n",
    "        else:\n",
    "            answer.append(i)    \n",
    "not(answer)"
   ]
  },
  {
   "cell_type": "code",
   "execution_count": 132,
   "id": "59266793",
   "metadata": {},
   "outputs": [
    {
     "data": {
      "text/plain": [
       "True"
      ]
     },
     "execution_count": 132,
     "metadata": {},
     "output_type": "execute_result"
    }
   ],
   "source": [
    "not(answer)"
   ]
  },
  {
   "cell_type": "code",
   "execution_count": 134,
   "id": "625fd953",
   "metadata": {},
   "outputs": [],
   "source": [
    "class ALWAYS_CORRECT(object):\n",
    "    def __eq__(self,other):\n",
    "        return True\n",
    "\n",
    "def solution(a):\n",
    "    answer = ALWAYS_CORRECT()\n",
    "    return answer;"
   ]
  },
  {
   "cell_type": "code",
   "execution_count": null,
   "id": "28b00347",
   "metadata": {},
   "outputs": [],
   "source": []
  },
  {
   "cell_type": "code",
   "execution_count": null,
   "id": "665b3b7d",
   "metadata": {},
   "outputs": [],
   "source": []
  },
  {
   "cell_type": "code",
   "execution_count": null,
   "id": "d2c4bc03",
   "metadata": {},
   "outputs": [],
   "source": []
  },
  {
   "cell_type": "code",
   "execution_count": 137,
   "id": "ef8c19c4",
   "metadata": {},
   "outputs": [],
   "source": [
    "n = 3\n",
    "words = [\"tank\", \"kick\", \"know\", \"wheel\", \"land\", \"dream\", \"mother\", \"robot\", \"tank\"]\n",
    "# [3,3]"
   ]
  },
  {
   "cell_type": "code",
   "execution_count": null,
   "id": "3e08e526",
   "metadata": {},
   "outputs": [],
   "source": [
    "n = 5\n",
    "words = [\"hello\", \"observe\", \"effect\", \"take\", \"either\", \"recognize\", \"encourage\", \"ensure\", \"establish\", \"hang\", \"gather\", \"refer\", \"reference\", \"estimate\", \"executive\"]\n",
    "# [0,0]"
   ]
  },
  {
   "cell_type": "code",
   "execution_count": null,
   "id": "ec41a5fe",
   "metadata": {},
   "outputs": [],
   "source": [
    "n = 2\n",
    "words = [\"hello\", \"one\", \"even\", \"never\", \"now\", \"world\", \"draw\"]\n",
    "# [1,3]"
   ]
  },
  {
   "cell_type": "code",
   "execution_count": null,
   "id": "ce36ade8",
   "metadata": {},
   "outputs": [],
   "source": [
    "answer = []"
   ]
  },
  {
   "cell_type": "code",
   "execution_count": null,
   "id": "304fdcaa",
   "metadata": {},
   "outputs": [],
   "source": []
  },
  {
   "cell_type": "code",
   "execution_count": null,
   "id": "b5b5d2f3",
   "metadata": {},
   "outputs": [],
   "source": []
  },
  {
   "cell_type": "code",
   "execution_count": null,
   "id": "ae82ff4f",
   "metadata": {},
   "outputs": [],
   "source": []
  },
  {
   "cell_type": "code",
   "execution_count": null,
   "id": "35039448",
   "metadata": {},
   "outputs": [],
   "source": []
  },
  {
   "cell_type": "code",
   "execution_count": null,
   "id": "9fba3291",
   "metadata": {},
   "outputs": [],
   "source": []
  },
  {
   "cell_type": "code",
   "execution_count": null,
   "id": "752ee158",
   "metadata": {},
   "outputs": [],
   "source": []
  },
  {
   "cell_type": "code",
   "execution_count": null,
   "id": "c48fd40c",
   "metadata": {},
   "outputs": [],
   "source": []
  },
  {
   "cell_type": "code",
   "execution_count": null,
   "id": "d04cd384",
   "metadata": {},
   "outputs": [],
   "source": []
  },
  {
   "cell_type": "code",
   "execution_count": null,
   "id": "6d5fe5c2",
   "metadata": {},
   "outputs": [],
   "source": []
  },
  {
   "cell_type": "code",
   "execution_count": null,
   "id": "9ee22c30",
   "metadata": {},
   "outputs": [],
   "source": []
  }
 ],
 "metadata": {
  "kernelspec": {
   "display_name": "hackerrank",
   "language": "python",
   "name": "hackerrank"
  },
  "language_info": {
   "codemirror_mode": {
    "name": "ipython",
    "version": 3
   },
   "file_extension": ".py",
   "mimetype": "text/x-python",
   "name": "python",
   "nbconvert_exporter": "python",
   "pygments_lexer": "ipython3",
   "version": "3.9.12"
  }
 },
 "nbformat": 4,
 "nbformat_minor": 5
}
