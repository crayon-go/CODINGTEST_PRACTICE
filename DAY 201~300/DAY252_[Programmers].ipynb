{
 "cells": [
  {
   "cell_type": "code",
   "execution_count": null,
   "id": "96fee5b9",
   "metadata": {},
   "outputs": [],
   "source": [
    "# 실패율 : 스테이지에 도달했으나 아직 클리어하지 못한 플레이어의 수 / 스테이지에 도달한 플레이어 수\n",
    "# 전체 스테이지의 개수 N\n",
    "# 게임을 이용하는 사용자가 현재 멈춰있는 스테이지의 번호가 담긴 배열 stages"
   ]
  },
  {
   "cell_type": "code",
   "execution_count": 6,
   "id": "ea1130d0",
   "metadata": {},
   "outputs": [],
   "source": [
    "N = 5\n",
    "stages = [2, 1, 2, 6, 2, 4, 3, 3]\n",
    "# [3,4,2,1,5]\n",
    "# 1: 1/8\n",
    "# 2: 3/7\n",
    "# 3: 2/4\n",
    "# 4: 1/2\n",
    "# 5: 0/1"
   ]
  },
  {
   "cell_type": "code",
   "execution_count": 10,
   "id": "f9f8e3ea",
   "metadata": {},
   "outputs": [],
   "source": [
    "N = 5\n",
    "stages = [4,4,4,4]\n",
    "# [4,1,2,3]"
   ]
  },
  {
   "cell_type": "code",
   "execution_count": 16,
   "id": "1bb61066",
   "metadata": {},
   "outputs": [
    {
     "name": "stdout",
     "output_type": "stream",
     "text": [
      "[4, 1, 2, 3, 5]\n"
     ]
    }
   ],
   "source": [
    "ratio_list = []\n",
    "\n",
    "for i in range(1, N+1):\n",
    "    stage_status = [x for x in stages if x >= i]\n",
    "    stage_user = [y for y in stage_status if y <= i]\n",
    "    if len(stage_status) == 0:\n",
    "        ratio_list.append(0)\n",
    "    else:\n",
    "        ratio_list.append(len(stage_user) / len(stage_status))\n",
    "\n",
    "answer = []\n",
    "for i in range(len(ratio_list)):\n",
    "    answer.append(ratio_list.index(max(ratio_list))+1)\n",
    "    ratio_list[ratio_list.index(max(ratio_list))] = -1.0\n",
    "\n",
    "print(answer)"
   ]
  },
  {
   "cell_type": "code",
   "execution_count": null,
   "id": "d3e21f8a",
   "metadata": {},
   "outputs": [],
   "source": []
  },
  {
   "cell_type": "code",
   "execution_count": 17,
   "id": "b06a1547",
   "metadata": {},
   "outputs": [
    {
     "data": {
      "text/plain": [
       "[4, 1, 2, 3, 5]"
      ]
     },
     "execution_count": 17,
     "metadata": {},
     "output_type": "execute_result"
    }
   ],
   "source": [
    "\n",
    "result = {}\n",
    "denominator = len(stages)\n",
    "for stage in range(1, N+1):\n",
    "    if denominator != 0:\n",
    "        count = stages.count(stage)\n",
    "        result[stage] = count / denominator\n",
    "        denominator -= count\n",
    "    else:\n",
    "        result[stage] = 0\n",
    "        \n",
    "sorted(result, key=lambda x : result[x], reverse=True)"
   ]
  },
  {
   "cell_type": "code",
   "execution_count": null,
   "id": "cef62b66",
   "metadata": {},
   "outputs": [],
   "source": []
  },
  {
   "cell_type": "code",
   "execution_count": 18,
   "id": "4adfebed",
   "metadata": {},
   "outputs": [
    {
     "data": {
      "text/plain": [
       "[4, 1, 2, 3, 5]"
      ]
     },
     "execution_count": 18,
     "metadata": {},
     "output_type": "execute_result"
    }
   ],
   "source": [
    "answer = []\n",
    "fail = []\n",
    "info = [0] * (N + 2)\n",
    "for stage in stages:\n",
    "    info[stage] += 1\n",
    "for i in range(N):\n",
    "    be = sum(info[(i + 1):])\n",
    "    yet = info[i + 1]\n",
    "    if be == 0:\n",
    "        fail.append((str(i + 1), 0))\n",
    "    else:\n",
    "        fail.append((str(i + 1), yet / be))\n",
    "for item in sorted(fail, key=lambda x: x[1], reverse=True):\n",
    "    answer.append(int(item[0]))\n",
    "answer"
   ]
  },
  {
   "cell_type": "code",
   "execution_count": null,
   "id": "27d131bc",
   "metadata": {},
   "outputs": [],
   "source": []
  },
  {
   "cell_type": "code",
   "execution_count": null,
   "id": "952fb98b",
   "metadata": {},
   "outputs": [],
   "source": []
  },
  {
   "cell_type": "code",
   "execution_count": null,
   "id": "196978db",
   "metadata": {},
   "outputs": [],
   "source": []
  }
 ],
 "metadata": {
  "kernelspec": {
   "display_name": "hackerrank",
   "language": "python",
   "name": "hackerrank"
  },
  "language_info": {
   "codemirror_mode": {
    "name": "ipython",
    "version": 3
   },
   "file_extension": ".py",
   "mimetype": "text/x-python",
   "name": "python",
   "nbconvert_exporter": "python",
   "pygments_lexer": "ipython3",
   "version": "3.9.12"
  }
 },
 "nbformat": 4,
 "nbformat_minor": 5
}
