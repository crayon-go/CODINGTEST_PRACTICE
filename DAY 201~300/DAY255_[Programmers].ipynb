{
 "cells": [
  {
   "cell_type": "code",
   "execution_count": 16,
   "id": "8b074ef5",
   "metadata": {},
   "outputs": [],
   "source": [
    "a = 3\n",
    "b = 5\n",
    "# 12"
   ]
  },
  {
   "cell_type": "code",
   "execution_count": 12,
   "id": "a35fbf01",
   "metadata": {},
   "outputs": [],
   "source": [
    "a = 3\n",
    "b = 3\n",
    "# 3"
   ]
  },
  {
   "cell_type": "code",
   "execution_count": null,
   "id": "0ac9c6b9",
   "metadata": {},
   "outputs": [],
   "source": [
    "a = 5\n",
    "b = 3\n",
    "# 12"
   ]
  },
  {
   "cell_type": "code",
   "execution_count": 13,
   "id": "4d733c5c",
   "metadata": {},
   "outputs": [],
   "source": [
    "c = min(a, b)\n",
    "d = max(a, b)\n",
    "\n",
    "answer = 0\n",
    "\n",
    "for i in range(c, d+1):\n",
    "    answer += i"
   ]
  },
  {
   "cell_type": "code",
   "execution_count": 14,
   "id": "12975213",
   "metadata": {},
   "outputs": [
    {
     "data": {
      "text/plain": [
       "3"
      ]
     },
     "execution_count": 14,
     "metadata": {},
     "output_type": "execute_result"
    }
   ],
   "source": [
    "answer"
   ]
  },
  {
   "cell_type": "code",
   "execution_count": 17,
   "id": "ca06fc90",
   "metadata": {},
   "outputs": [
    {
     "name": "stdout",
     "output_type": "stream",
     "text": [
      "12\n"
     ]
    }
   ],
   "source": [
    "if a > b:\n",
    "    a, b = b, a\n",
    "print(sum(range(a,b+1)))\n"
   ]
  },
  {
   "cell_type": "code",
   "execution_count": 18,
   "id": "c539c2ad",
   "metadata": {},
   "outputs": [],
   "source": [
    "a, b = b, a"
   ]
  },
  {
   "cell_type": "code",
   "execution_count": 19,
   "id": "a3a5da23",
   "metadata": {},
   "outputs": [
    {
     "data": {
      "text/plain": [
       "(5, 3)"
      ]
     },
     "execution_count": 19,
     "metadata": {},
     "output_type": "execute_result"
    }
   ],
   "source": [
    "a, b"
   ]
  },
  {
   "cell_type": "code",
   "execution_count": 20,
   "id": "19547292",
   "metadata": {},
   "outputs": [
    {
     "data": {
      "text/plain": [
       "10"
      ]
     },
     "execution_count": 20,
     "metadata": {},
     "output_type": "execute_result"
    }
   ],
   "source": [
    "sum(range(1, 5))"
   ]
  },
  {
   "cell_type": "code",
   "execution_count": null,
   "id": "544629ab",
   "metadata": {},
   "outputs": [],
   "source": []
  },
  {
   "cell_type": "code",
   "execution_count": null,
   "id": "6bb0b37f",
   "metadata": {},
   "outputs": [],
   "source": []
  },
  {
   "cell_type": "code",
   "execution_count": null,
   "id": "604f95f3",
   "metadata": {},
   "outputs": [],
   "source": []
  },
  {
   "cell_type": "code",
   "execution_count": null,
   "id": "be4b25fa",
   "metadata": {},
   "outputs": [],
   "source": [
    "1-1. 입력된 수가 짝수라면 2로 나눕니다. \n",
    "1-2. 입력된 수가 홀수라면 3을 곱하고 1을 더합니다. \n",
    "2. 결과로 나온 수에 같은 작업을 1이 될 때까지 반복합니다. "
   ]
  },
  {
   "cell_type": "code",
   "execution_count": null,
   "id": "a03008fc",
   "metadata": {},
   "outputs": [],
   "source": [
    "예를 들어, 주어진 수가 6이라면 6 → 3 → 10 → 5 → 16 → 8 → 4 → 2 → 1 이 되어 총 8번 만에 1이 됩니다. 위 작업을 몇 번이나 반복해야 하는지 반환하는 함수, solution을 완성해 주세요. 단, 주어진 수가 1인 경우에는 0을, 작업을 500번 반복할 때까지 1이 되지 않는다면 –1을 반환해 주세요."
   ]
  },
  {
   "cell_type": "code",
   "execution_count": 24,
   "id": "75171077",
   "metadata": {},
   "outputs": [],
   "source": [
    "num = 6\n",
    "# 8"
   ]
  },
  {
   "cell_type": "code",
   "execution_count": 26,
   "id": "972f889e",
   "metadata": {},
   "outputs": [],
   "source": [
    "num = 16\n",
    "# 4"
   ]
  },
  {
   "cell_type": "code",
   "execution_count": 28,
   "id": "59706b5b",
   "metadata": {},
   "outputs": [],
   "source": [
    "num = 626331\n",
    "# -1"
   ]
  },
  {
   "cell_type": "code",
   "execution_count": 29,
   "id": "240a3927",
   "metadata": {},
   "outputs": [
    {
     "name": "stdout",
     "output_type": "stream",
     "text": [
      "-1\n"
     ]
    }
   ],
   "source": [
    "n_cnt = 0\n",
    "while (num != 1):\n",
    "    n_cnt += 1\n",
    "    \n",
    "    if num % 2 == 0:\n",
    "        num = num / 2\n",
    "    elif num % 2 == 1:\n",
    "        num = num * 3 + 1\n",
    "    \n",
    "    if n_cnt >= 500:\n",
    "        n_cnt = -1\n",
    "        break\n",
    "answer = n_cnt\n",
    "print(n_cnt)"
   ]
  },
  {
   "cell_type": "code",
   "execution_count": 23,
   "id": "e56c54bf",
   "metadata": {},
   "outputs": [
    {
     "data": {
      "text/plain": [
       "1"
      ]
     },
     "execution_count": 23,
     "metadata": {},
     "output_type": "execute_result"
    }
   ],
   "source": [
    "5 % 2"
   ]
  },
  {
   "cell_type": "code",
   "execution_count": null,
   "id": "e4ac75aa",
   "metadata": {},
   "outputs": [],
   "source": [
    "def collatz(num):\n",
    "    for i in range(500):\n",
    "        num = num / 2 if num % 2 == 0 else num*3 + 1\n",
    "        if num == 1:\n",
    "            return i + 1\n",
    "    return -1\n",
    "\n",
    "# 아래는 테스트로 출력해 보기 위한 코드입니다.\n",
    "print(collatz(6))"
   ]
  },
  {
   "cell_type": "code",
   "execution_count": null,
   "id": "c5d7c2cb",
   "metadata": {},
   "outputs": [],
   "source": []
  },
  {
   "cell_type": "code",
   "execution_count": null,
   "id": "d72daba0",
   "metadata": {},
   "outputs": [],
   "source": []
  },
  {
   "cell_type": "code",
   "execution_count": null,
   "id": "b10f842d",
   "metadata": {},
   "outputs": [],
   "source": []
  },
  {
   "cell_type": "code",
   "execution_count": null,
   "id": "b6b95c14",
   "metadata": {},
   "outputs": [],
   "source": []
  },
  {
   "cell_type": "code",
   "execution_count": null,
   "id": "c7254a61",
   "metadata": {},
   "outputs": [],
   "source": []
  },
  {
   "cell_type": "code",
   "execution_count": null,
   "id": "66df80c6",
   "metadata": {},
   "outputs": [],
   "source": []
  }
 ],
 "metadata": {
  "kernelspec": {
   "display_name": "hackerrank",
   "language": "python",
   "name": "hackerrank"
  },
  "language_info": {
   "codemirror_mode": {
    "name": "ipython",
    "version": 3
   },
   "file_extension": ".py",
   "mimetype": "text/x-python",
   "name": "python",
   "nbconvert_exporter": "python",
   "pygments_lexer": "ipython3",
   "version": "3.8.13"
  }
 },
 "nbformat": 4,
 "nbformat_minor": 5
}
