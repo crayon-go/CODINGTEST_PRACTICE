{
 "cells": [
  {
   "cell_type": "code",
   "execution_count": 14,
   "id": "98b4ad0a",
   "metadata": {},
   "outputs": [],
   "source": [
    "number = 5\n",
    "limit = 3\n",
    "power = 2\n",
    "# 10"
   ]
  },
  {
   "cell_type": "code",
   "execution_count": 1,
   "id": "f8cf93f3",
   "metadata": {},
   "outputs": [],
   "source": [
    "number = 10\n",
    "limit = 3\n",
    "power = 2\n",
    "# 21"
   ]
  },
  {
   "cell_type": "code",
   "execution_count": null,
   "id": "d7a410f2",
   "metadata": {},
   "outputs": [],
   "source": [
    "def getMyDivisor(n):\n",
    "\n",
    "    divisorsList = []\n",
    "\n",
    "    for i in range(1, n + 1):\n",
    "        if (n % i == 0) :\n",
    "            divisorsList.append(i)\n",
    "\n",
    "    return divisorsList"
   ]
  },
  {
   "cell_type": "code",
   "execution_count": 15,
   "id": "7278a183",
   "metadata": {},
   "outputs": [],
   "source": [
    "def getMyDivisor(n):\n",
    "\n",
    "    divisorsList = []\n",
    "\n",
    "    for i in range(1, int(n**(1/2)) + 1):\n",
    "        if (n % i == 0):\n",
    "            divisorsList.append(i) \n",
    "            if ( (i**2) != n) : \n",
    "                divisorsList.append(n // i)\n",
    "\n",
    "    divisorsList.sort()\n",
    "    \n",
    "    return divisorsList\n",
    "    \n",
    "\n",
    "sum_yaksu = []\n",
    "for i in range(number):\n",
    "    a = len(getMyDivisor(i+1))\n",
    "    if a > limit:\n",
    "        sum_yaksu.append(power)\n",
    "    else:\n",
    "        sum_yaksu.append(a)\n",
    "sum(sum_yaksu)"
   ]
  },
  {
   "cell_type": "code",
   "execution_count": null,
   "id": "8ed03471",
   "metadata": {},
   "outputs": [],
   "source": []
  },
  {
   "cell_type": "code",
   "execution_count": null,
   "id": "63c187b7",
   "metadata": {},
   "outputs": [],
   "source": []
  },
  {
   "cell_type": "code",
   "execution_count": null,
   "id": "929ae3da",
   "metadata": {},
   "outputs": [],
   "source": [
    "def cf(n): # 공약수 출력\n",
    "    a = []\n",
    "    for i in range(1,int(n**0.5)+1):\n",
    "        if n%i == 0:\n",
    "            a.append(n//i)\n",
    "            a.append(i)\n",
    "    return len(set(a))\n",
    "def solution(number, limit, power):\n",
    "    return sum([cf(i) if cf(i)<=limit else power for i in range(1,number+1)])"
   ]
  },
  {
   "cell_type": "code",
   "execution_count": null,
   "id": "b9de94dd",
   "metadata": {},
   "outputs": [],
   "source": []
  },
  {
   "cell_type": "code",
   "execution_count": null,
   "id": "438e2abe",
   "metadata": {},
   "outputs": [],
   "source": []
  },
  {
   "cell_type": "code",
   "execution_count": null,
   "id": "4bd2fa9c",
   "metadata": {},
   "outputs": [],
   "source": []
  },
  {
   "cell_type": "code",
   "execution_count": null,
   "id": "927f58f4",
   "metadata": {},
   "outputs": [],
   "source": []
  },
  {
   "cell_type": "code",
   "execution_count": null,
   "id": "28bffbb3",
   "metadata": {},
   "outputs": [],
   "source": []
  },
  {
   "cell_type": "code",
   "execution_count": null,
   "id": "b3febc00",
   "metadata": {},
   "outputs": [],
   "source": []
  },
  {
   "cell_type": "code",
   "execution_count": null,
   "id": "834abb5a",
   "metadata": {},
   "outputs": [],
   "source": []
  },
  {
   "cell_type": "code",
   "execution_count": null,
   "id": "e18b8087",
   "metadata": {},
   "outputs": [],
   "source": []
  }
 ],
 "metadata": {
  "kernelspec": {
   "display_name": "color_extraction",
   "language": "python",
   "name": "color_extraction"
  },
  "language_info": {
   "codemirror_mode": {
    "name": "ipython",
    "version": 3
   },
   "file_extension": ".py",
   "mimetype": "text/x-python",
   "name": "python",
   "nbconvert_exporter": "python",
   "pygments_lexer": "ipython3",
   "version": "3.8.16"
  }
 },
 "nbformat": 4,
 "nbformat_minor": 5
}
