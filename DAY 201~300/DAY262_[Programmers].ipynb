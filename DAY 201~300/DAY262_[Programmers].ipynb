{
 "cells": [
  {
   "cell_type": "code",
   "execution_count": 5,
   "id": "27ade0e2",
   "metadata": {},
   "outputs": [],
   "source": [
    "denum1 = 1\n",
    "num1 = 2\n",
    "denum2 = 3\n",
    "num2 = 4\n",
    "# [5, 4]"
   ]
  },
  {
   "cell_type": "code",
   "execution_count": 32,
   "id": "b2f1c260",
   "metadata": {},
   "outputs": [],
   "source": [
    "denum1 = 9\n",
    "num1 = 2\n",
    "denum2 = 1\n",
    "num2 = 3\n",
    "# [29, 6]"
   ]
  },
  {
   "cell_type": "code",
   "execution_count": 33,
   "id": "bfc57615",
   "metadata": {},
   "outputs": [],
   "source": [
    "import math"
   ]
  },
  {
   "cell_type": "code",
   "execution_count": 34,
   "id": "7b16fec0",
   "metadata": {},
   "outputs": [
    {
     "data": {
      "text/plain": [
       "29"
      ]
     },
     "execution_count": 34,
     "metadata": {},
     "output_type": "execute_result"
    }
   ],
   "source": [
    "top = (denum1 * num2) + (denum2 * num1)\n",
    "bottom = num1 * num2\n",
    "num_gcd = math.gcd(top, bottom)\n",
    "\n",
    "if num_gcd != 0:\n",
    "    top /= num_gcd\n",
    "    bottom /= num_gcd\n",
    "\n",
    "answer = []\n",
    "answer.append(int(top))\n",
    "answer.append(int(bottom))"
   ]
  },
  {
   "cell_type": "code",
   "execution_count": null,
   "id": "00f5d99e",
   "metadata": {},
   "outputs": [],
   "source": []
  },
  {
   "cell_type": "code",
   "execution_count": null,
   "id": "5818223a",
   "metadata": {},
   "outputs": [],
   "source": [
    "def solution(denum1, num1, denum2, num2):\n",
    "    denum = denum1 * num2 + denum2 * num1\n",
    "    num = num1 * num2\n",
    "    gcd = math.gcd(denum, num)\n",
    "    return [denum//gcd, num//gcd]"
   ]
  },
  {
   "cell_type": "code",
   "execution_count": null,
   "id": "10d0b163",
   "metadata": {},
   "outputs": [],
   "source": []
  }
 ],
 "metadata": {
  "kernelspec": {
   "display_name": "hackerrank",
   "language": "python",
   "name": "hackerrank"
  },
  "language_info": {
   "codemirror_mode": {
    "name": "ipython",
    "version": 3
   },
   "file_extension": ".py",
   "mimetype": "text/x-python",
   "name": "python",
   "nbconvert_exporter": "python",
   "pygments_lexer": "ipython3",
   "version": "3.8.13"
  }
 },
 "nbformat": 4,
 "nbformat_minor": 5
}
