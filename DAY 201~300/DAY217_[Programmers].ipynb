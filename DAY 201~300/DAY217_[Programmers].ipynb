{
 "cells": [
  {
   "cell_type": "code",
   "execution_count": 2,
   "id": "eadfd0fa",
   "metadata": {},
   "outputs": [],
   "source": [
    "participant = [\"leo\", \"kiki\", \"eden\"]\n",
    "completion = [\"eden\", \"kiki\"]\n",
    "# \"leo\""
   ]
  },
  {
   "cell_type": "code",
   "execution_count": 9,
   "id": "bdf7b47f",
   "metadata": {},
   "outputs": [],
   "source": [
    "participant = [\"marina\", \"josipa\", \"nikola\", \"vinko\", \"filipa\"]\n",
    "completion = [\"josipa\", \"filipa\", \"marina\", \"nikola\"]\n",
    "# \"vinko\""
   ]
  },
  {
   "cell_type": "code",
   "execution_count": 11,
   "id": "f3f126ab",
   "metadata": {},
   "outputs": [],
   "source": [
    "participant = [\"mislav\", \"stanko\", \"mislav\", \"ana\"]\n",
    "completion = [\"stanko\", \"ana\", \"mislav\"]\n",
    "# \"mislav\""
   ]
  },
  {
   "cell_type": "code",
   "execution_count": null,
   "id": "e36e6bde",
   "metadata": {},
   "outputs": [],
   "source": [
    "from collections import Counter"
   ]
  },
  {
   "cell_type": "code",
   "execution_count": 22,
   "id": "b5b71d67",
   "metadata": {},
   "outputs": [
    {
     "data": {
      "text/plain": [
       "'mislav'"
      ]
     },
     "execution_count": 22,
     "metadata": {},
     "output_type": "execute_result"
    }
   ],
   "source": [
    "answer = Counter(participant) - Counter(completion)\n",
    "list(answer.keys())[0]"
   ]
  },
  {
   "cell_type": "code",
   "execution_count": 28,
   "id": "c1ab846d",
   "metadata": {},
   "outputs": [
    {
     "data": {
      "text/plain": [
       "['mislav']"
      ]
     },
     "execution_count": 28,
     "metadata": {},
     "output_type": "execute_result"
    }
   ],
   "source": [
    "list(answer)"
   ]
  },
  {
   "cell_type": "code",
   "execution_count": 24,
   "id": "34fe08c6",
   "metadata": {},
   "outputs": [
    {
     "data": {
      "text/plain": [
       "dict_keys(['mislav'])"
      ]
     },
     "execution_count": 24,
     "metadata": {},
     "output_type": "execute_result"
    }
   ],
   "source": [
    "answer.keys()"
   ]
  },
  {
   "cell_type": "code",
   "execution_count": 25,
   "id": "1d91e3a6",
   "metadata": {},
   "outputs": [
    {
     "data": {
      "text/plain": [
       "dict_values([1])"
      ]
     },
     "execution_count": 25,
     "metadata": {},
     "output_type": "execute_result"
    }
   ],
   "source": [
    "answer.values()"
   ]
  },
  {
   "cell_type": "code",
   "execution_count": null,
   "id": "8e081c9d",
   "metadata": {},
   "outputs": [],
   "source": []
  },
  {
   "cell_type": "code",
   "execution_count": 19,
   "id": "a0ac7af8",
   "metadata": {},
   "outputs": [
    {
     "name": "stdout",
     "output_type": "stream",
     "text": [
      "mislav\n"
     ]
    }
   ],
   "source": [
    "from collections import Counter\n",
    "\n",
    "p = Counter(participant)\n",
    "c = Counter(completion)\n",
    "\n",
    "for i in p:\n",
    "    if p[i] != c[i]:\n",
    "        print(i)\n",
    "    "
   ]
  },
  {
   "cell_type": "code",
   "execution_count": 17,
   "id": "19a08d35",
   "metadata": {},
   "outputs": [
    {
     "name": "stdout",
     "output_type": "stream",
     "text": [
      "mislav\n",
      "stanko\n",
      "ana\n"
     ]
    }
   ],
   "source": [
    "for i in Counter(participant):\n",
    "    print(i)"
   ]
  },
  {
   "cell_type": "code",
   "execution_count": null,
   "id": "c87e7bbd",
   "metadata": {},
   "outputs": [],
   "source": []
  },
  {
   "cell_type": "code",
   "execution_count": null,
   "id": "fa027b7c",
   "metadata": {},
   "outputs": [],
   "source": []
  },
  {
   "cell_type": "code",
   "execution_count": null,
   "id": "a667c540",
   "metadata": {},
   "outputs": [],
   "source": []
  },
  {
   "cell_type": "code",
   "execution_count": null,
   "id": "fe93573e",
   "metadata": {},
   "outputs": [],
   "source": []
  },
  {
   "cell_type": "code",
   "execution_count": null,
   "id": "a96c88a6",
   "metadata": {},
   "outputs": [],
   "source": []
  },
  {
   "cell_type": "code",
   "execution_count": null,
   "id": "2783c1d4",
   "metadata": {},
   "outputs": [],
   "source": []
  },
  {
   "cell_type": "code",
   "execution_count": null,
   "id": "7019abc4",
   "metadata": {},
   "outputs": [],
   "source": []
  },
  {
   "cell_type": "code",
   "execution_count": null,
   "id": "62053adb",
   "metadata": {},
   "outputs": [],
   "source": []
  },
  {
   "cell_type": "code",
   "execution_count": null,
   "id": "9081229e",
   "metadata": {},
   "outputs": [],
   "source": []
  },
  {
   "cell_type": "code",
   "execution_count": null,
   "id": "e1df83e9",
   "metadata": {},
   "outputs": [],
   "source": []
  },
  {
   "cell_type": "code",
   "execution_count": null,
   "id": "f561de29",
   "metadata": {},
   "outputs": [],
   "source": []
  }
 ],
 "metadata": {
  "kernelspec": {
   "display_name": "hackerrank",
   "language": "python",
   "name": "hackerrank"
  },
  "language_info": {
   "codemirror_mode": {
    "name": "ipython",
    "version": 3
   },
   "file_extension": ".py",
   "mimetype": "text/x-python",
   "name": "python",
   "nbconvert_exporter": "python",
   "pygments_lexer": "ipython3",
   "version": "3.9.12"
  }
 },
 "nbformat": 4,
 "nbformat_minor": 5
}
