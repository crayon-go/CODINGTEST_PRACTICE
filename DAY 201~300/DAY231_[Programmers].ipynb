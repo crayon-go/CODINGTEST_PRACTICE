{
 "cells": [
  {
   "cell_type": "code",
   "execution_count": 4,
   "id": "ca00e0bf",
   "metadata": {},
   "outputs": [],
   "source": [
    "answer = True"
   ]
  },
  {
   "cell_type": "code",
   "execution_count": 68,
   "id": "1b4551bd",
   "metadata": {},
   "outputs": [],
   "source": [
    "s = \"()()\"\n",
    "# true"
   ]
  },
  {
   "cell_type": "code",
   "execution_count": 70,
   "id": "52ea47bf",
   "metadata": {},
   "outputs": [],
   "source": [
    "s = \"(())()\"\n",
    "# true"
   ]
  },
  {
   "cell_type": "code",
   "execution_count": 72,
   "id": "ebe9892f",
   "metadata": {},
   "outputs": [],
   "source": [
    "s = \")()(\"\n",
    "# false"
   ]
  },
  {
   "cell_type": "code",
   "execution_count": 74,
   "id": "5937b39b",
   "metadata": {},
   "outputs": [],
   "source": [
    "s = \"(()(\"\n",
    "# false"
   ]
  },
  {
   "cell_type": "code",
   "execution_count": 90,
   "id": "799fb913",
   "metadata": {},
   "outputs": [],
   "source": [
    "s = \")()()()()\""
   ]
  },
  {
   "cell_type": "code",
   "execution_count": 51,
   "id": "ec6b28ef",
   "metadata": {},
   "outputs": [
    {
     "name": "stdout",
     "output_type": "stream",
     "text": [
      "False\n"
     ]
    }
   ],
   "source": [
    "answer = False\n",
    "\n",
    "if len(s)%2 == 0:\n",
    "    for i in range(int(len(s)/2)):\n",
    "        s = s.replace('()', '')\n",
    "        if s == '':\n",
    "            answer = True\n",
    "            break\n",
    "print(answer)"
   ]
  },
  {
   "cell_type": "code",
   "execution_count": null,
   "id": "40af16a9",
   "metadata": {},
   "outputs": [],
   "source": []
  },
  {
   "cell_type": "code",
   "execution_count": 91,
   "id": "fde0d7fc",
   "metadata": {},
   "outputs": [
    {
     "data": {
      "text/plain": [
       "False"
      ]
     },
     "execution_count": 91,
     "metadata": {},
     "output_type": "execute_result"
    }
   ],
   "source": [
    "answer = True\n",
    "\n",
    "stack = []\n",
    "\n",
    "\n",
    "if len(s)%2 == 0:\n",
    "    for i in s:\n",
    "        if not stack:\n",
    "            stack.append(i)\n",
    "        elif i == \")\" and stack[-1] == '(':\n",
    "            stack.pop()\n",
    "        elif i == \"(\" and stack[-1] == '(':\n",
    "            stack.append(i)\n",
    "else:\n",
    "    answer = False\n",
    "if stack:\n",
    "    answer = False\n",
    "answer"
   ]
  },
  {
   "cell_type": "code",
   "execution_count": null,
   "id": "62660f94",
   "metadata": {},
   "outputs": [],
   "source": []
  },
  {
   "cell_type": "code",
   "execution_count": null,
   "id": "e3baac90",
   "metadata": {},
   "outputs": [],
   "source": [
    "pair = 0\n",
    "for x in s:\n",
    "    if pair < 0: \n",
    "        break\n",
    "    pair = pair + 1 if x == \"(\" else pair - 1 if x == \")\" else pair\n",
    "\n",
    "    \n",
    "return pair == 0\n"
   ]
  },
  {
   "cell_type": "code",
   "execution_count": null,
   "id": "a7358da7",
   "metadata": {},
   "outputs": [],
   "source": []
  },
  {
   "cell_type": "code",
   "execution_count": null,
   "id": "fb07216c",
   "metadata": {},
   "outputs": [],
   "source": []
  }
 ],
 "metadata": {
  "kernelspec": {
   "display_name": "color_extraction",
   "language": "python",
   "name": "color_extraction"
  },
  "language_info": {
   "codemirror_mode": {
    "name": "ipython",
    "version": 3
   },
   "file_extension": ".py",
   "mimetype": "text/x-python",
   "name": "python",
   "nbconvert_exporter": "python",
   "pygments_lexer": "ipython3",
   "version": "3.8.16"
  }
 },
 "nbformat": 4,
 "nbformat_minor": 5
}
