{
 "cells": [
  {
   "cell_type": "code",
   "execution_count": 63,
   "id": "93181fb3",
   "metadata": {},
   "outputs": [],
   "source": [
    "def solution(s):\n",
    "    answer = ''\n",
    "    return answer"
   ]
  },
  {
   "cell_type": "code",
   "execution_count": 91,
   "id": "6775ec7a",
   "metadata": {},
   "outputs": [],
   "source": [
    "s = \"3people unFollowed me\"\n",
    "# \"3people Unfollowed Me\""
   ]
  },
  {
   "cell_type": "code",
   "execution_count": 63,
   "id": "38d5cd0c",
   "metadata": {},
   "outputs": [],
   "source": [
    "s = \"for the last week \"\n",
    "# \"For The Last Week\""
   ]
  },
  {
   "cell_type": "code",
   "execution_count": 92,
   "id": "c5dcedec",
   "metadata": {},
   "outputs": [
    {
     "data": {
      "text/plain": [
       "['3people', 'unFollowed', 'me']"
      ]
     },
     "execution_count": 92,
     "metadata": {},
     "output_type": "execute_result"
    }
   ],
   "source": [
    "s.split()"
   ]
  },
  {
   "cell_type": "code",
   "execution_count": 93,
   "id": "3086a67a",
   "metadata": {},
   "outputs": [],
   "source": [
    "answer = ''\n",
    "\n",
    "is_space = True\n",
    "\n",
    "for i in s:\n",
    "    if is_space and i.isdigit():\n",
    "        answer += i\n",
    "        is_space = False\n",
    "    elif i == ' ':\n",
    "        answer += i\n",
    "        is_space = True\n",
    "    elif is_space and not i.isdigit():\n",
    "        answer += i.upper()\n",
    "        is_space = False\n",
    "    elif is_space == False and not i.isdigit():\n",
    "        answer += i.lower()\n",
    "        is_space = False\n"
   ]
  },
  {
   "cell_type": "code",
   "execution_count": 94,
   "id": "d079e559",
   "metadata": {},
   "outputs": [
    {
     "data": {
      "text/plain": [
       "'3people Unfollowed Me'"
      ]
     },
     "execution_count": 94,
     "metadata": {},
     "output_type": "execute_result"
    }
   ],
   "source": [
    "answer"
   ]
  },
  {
   "cell_type": "code",
   "execution_count": null,
   "id": "d8d938d6",
   "metadata": {},
   "outputs": [],
   "source": []
  },
  {
   "cell_type": "code",
   "execution_count": 95,
   "id": "b72332e4",
   "metadata": {},
   "outputs": [
    {
     "data": {
      "text/plain": [
       "'3People Unfollowed Me'"
      ]
     },
     "execution_count": 95,
     "metadata": {},
     "output_type": "execute_result"
    }
   ],
   "source": [
    "s.title()"
   ]
  },
  {
   "cell_type": "code",
   "execution_count": 96,
   "id": "621472a0",
   "metadata": {},
   "outputs": [
    {
     "data": {
      "text/plain": [
       "'3People Unfollowed Me For The Last Week     '"
      ]
     },
     "execution_count": 96,
     "metadata": {},
     "output_type": "execute_result"
    }
   ],
   "source": [
    "\"3people unFollowed me for the last week     \".title()"
   ]
  },
  {
   "cell_type": "code",
   "execution_count": 98,
   "id": "a5d16b88",
   "metadata": {},
   "outputs": [
    {
     "data": {
      "text/plain": [
       "'3people unfollowed me for the last week     '"
      ]
     },
     "execution_count": 98,
     "metadata": {},
     "output_type": "execute_result"
    }
   ],
   "source": [
    "\"3people unFollowed me for the last week     \".capitalize()"
   ]
  },
  {
   "cell_type": "code",
   "execution_count": null,
   "id": "04c22512",
   "metadata": {},
   "outputs": [],
   "source": []
  }
 ],
 "metadata": {
  "kernelspec": {
   "display_name": "color_extraction",
   "language": "python",
   "name": "color_extraction"
  },
  "language_info": {
   "codemirror_mode": {
    "name": "ipython",
    "version": 3
   },
   "file_extension": ".py",
   "mimetype": "text/x-python",
   "name": "python",
   "nbconvert_exporter": "python",
   "pygments_lexer": "ipython3",
   "version": "3.8.16"
  }
 },
 "nbformat": 4,
 "nbformat_minor": 5
}
