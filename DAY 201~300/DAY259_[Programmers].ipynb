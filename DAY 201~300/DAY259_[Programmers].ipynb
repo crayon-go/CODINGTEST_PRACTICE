{
 "cells": [
  {
   "cell_type": "code",
   "execution_count": 61,
   "id": "f914a3d4",
   "metadata": {},
   "outputs": [],
   "source": [
    "board = [[0,0,0,0,0],\n",
    "         [0,0,1,0,3],\n",
    "         [0,2,5,0,1],\n",
    "         [4,2,4,4,2],\n",
    "         [3,5,1,3,1]]\n",
    "moves = [1,5,3,5,1,2,1,4]\n",
    "# 4"
   ]
  },
  {
   "cell_type": "code",
   "execution_count": 62,
   "id": "e0087b0d",
   "metadata": {},
   "outputs": [
    {
     "data": {
      "text/plain": [
       "4"
      ]
     },
     "execution_count": 62,
     "metadata": {},
     "output_type": "execute_result"
    }
   ],
   "source": [
    "stacklist = []\n",
    "answer = 0\n",
    "\n",
    "for i in moves:\n",
    "    for j in range(len(board)):\n",
    "        if board[j][i-1] != 0:\n",
    "            stacklist.append(board[j][i-1])\n",
    "            board[j][i-1] = 0\n",
    "\n",
    "            if len(stacklist) > 1:\n",
    "                if stacklist[-1] == stacklist[-2]:\n",
    "                    stacklist.pop(-1)\n",
    "                    stacklist.pop(-1)\n",
    "                    answer += 2     \n",
    "            break\n",
    "\n",
    "answer"
   ]
  },
  {
   "cell_type": "code",
   "execution_count": null,
   "id": "9671cc21",
   "metadata": {},
   "outputs": [],
   "source": []
  },
  {
   "cell_type": "code",
   "execution_count": null,
   "id": "968de9c4",
   "metadata": {},
   "outputs": [],
   "source": []
  },
  {
   "cell_type": "code",
   "execution_count": 57,
   "id": "f152db75",
   "metadata": {
    "scrolled": true
   },
   "outputs": [],
   "source": [
    "answer = 0\n",
    "\n",
    "baguni = [-1]\n",
    "\n",
    "for ii in moves:\n",
    "    i = ii-1\n",
    "    for j in range(0, len(board[i])):\n",
    "        if board[j][i] == 0:\n",
    "            pass\n",
    "        else:\n",
    "            if baguni[-1] != board[j][i]:\n",
    "                baguni.append(board[j][i])\n",
    "            elif baguni[-1] == board[j][i]:\n",
    "                answer += 2\n",
    "                baguni.pop()\n",
    "            board[j][i] = 0\n",
    "            break"
   ]
  },
  {
   "cell_type": "code",
   "execution_count": 58,
   "id": "64c346d5",
   "metadata": {},
   "outputs": [
    {
     "data": {
      "text/plain": [
       "[-1, 4, 2, 4]"
      ]
     },
     "execution_count": 58,
     "metadata": {},
     "output_type": "execute_result"
    }
   ],
   "source": [
    "baguni"
   ]
  },
  {
   "cell_type": "code",
   "execution_count": 59,
   "id": "f6a1547d",
   "metadata": {},
   "outputs": [
    {
     "data": {
      "text/plain": [
       "4"
      ]
     },
     "execution_count": 59,
     "metadata": {},
     "output_type": "execute_result"
    }
   ],
   "source": [
    "answer"
   ]
  },
  {
   "cell_type": "code",
   "execution_count": null,
   "id": "6d86d583",
   "metadata": {},
   "outputs": [],
   "source": []
  }
 ],
 "metadata": {
  "kernelspec": {
   "display_name": "hackerrank",
   "language": "python",
   "name": "hackerrank"
  },
  "language_info": {
   "codemirror_mode": {
    "name": "ipython",
    "version": 3
   },
   "file_extension": ".py",
   "mimetype": "text/x-python",
   "name": "python",
   "nbconvert_exporter": "python",
   "pygments_lexer": "ipython3",
   "version": "3.9.12"
  }
 },
 "nbformat": 4,
 "nbformat_minor": 5
}
