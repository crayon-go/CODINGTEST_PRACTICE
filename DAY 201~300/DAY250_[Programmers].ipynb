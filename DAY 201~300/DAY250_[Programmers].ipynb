{
 "cells": [
  {
   "cell_type": "code",
   "execution_count": 18,
   "id": "794773f5",
   "metadata": {},
   "outputs": [],
   "source": [
    "# 요청시각(초), 걸리는 시간(초), 분류 번호, 중요도\n",
    "jobs = [[1, 5, 2, 3],\n",
    "        [2, 2, 3, 2], \n",
    "        [3, 1, 3, 3], \n",
    "        [5, 2, 1, 5],\n",
    "        [7, 1, 1, 1],\n",
    "        [9, 1, 1, 1],\n",
    "        [10, 2, 2, 9]]\n",
    "# [2,1,2,3]"
   ]
  },
  {
   "cell_type": "code",
   "execution_count": null,
   "id": "83d4b74d",
   "metadata": {},
   "outputs": [],
   "source": [
    "# 요청시각(초), 걸리는 시간(초), 분류 번호, 중요도\n",
    "jobs = [[0, 2, 3, 1], [5, 3, 3, 1], [10, 2, 4, 1]]\n",
    "# [3, 4]"
   ]
  },
  {
   "cell_type": "code",
   "execution_count": null,
   "id": "71f87f24",
   "metadata": {},
   "outputs": [],
   "source": [
    "# 요청시각(초), 걸리는 시간(초), 분류 번호, 중요도\n",
    "jobs = [[0, 5, 1, 1], [2, 4, 3, 3], [3, 4, 4, 5], [5, 2, 3, 2]]\n",
    "# [1, 3, 4]"
   ]
  },
  {
   "cell_type": "code",
   "execution_count": 1,
   "id": "1fe091ae",
   "metadata": {},
   "outputs": [],
   "source": []
  },
  {
   "cell_type": "code",
   "execution_count": 96,
   "id": "e8080039",
   "metadata": {},
   "outputs": [
    {
     "name": "stdout",
     "output_type": "stream",
     "text": [
      " \n",
      "-------------- current_time: 0\n",
      " \n",
      "-------------- current_time: 1\n",
      "--- queue\n",
      " \n",
      "-------------- current_time: 2\n",
      "--- queue\n",
      " \n",
      "-------------- current_time: 3\n",
      "--- queue\n",
      " \n",
      "-------------- current_time: 4\n",
      " \n",
      "-------------- current_time: 5\n",
      "--- queue\n"
     ]
    }
   ],
   "source": [
    "# 요청시각(초), 걸리는 시간(초), 분류 번호, 중요도\n",
    "jobs = [[1, 2, 1, 5],\n",
    "        [2, 1, 2, 100],\n",
    "        [3, 2, 1, 5],\n",
    "        [5, 2, 1, 5]]\n",
    "# [1, 2]\n",
    "\n",
    "\n",
    "current_time = 0\n",
    "processing_jobs = []\n",
    "queue_jobs_time = {}\n",
    "queue_jobs_score = {}\n",
    "answer = [-1]\n",
    "now_working_time = 0\n",
    "queue_cate = []\n",
    "\n",
    "while True:\n",
    "    print(\" \")\n",
    "    print(f\"-------------- current_time: {current_time}\")\n",
    "    \n",
    "    # 요청시각에 따라 Job Queue에 쌓아줌\n",
    "    if current_time == jobs[0][0]:\n",
    "        print(\"--- queue\")\n",
    "        \n",
    "        # 요청시각(초), 걸리는 시간(초), 분류 번호, 중요도\n",
    "        request_time, work_time, category, score = jobs.pop(0)\n",
    "        \n",
    "        # 걸리는 시간(초), 중요도\n",
    "        if category not in queue_jobs_time:\n",
    "            queue_jobs_time[category] = work_time\n",
    "            queue_jobs_score[category] = score\n",
    "        else:\n",
    "            queue_jobs_time[category] += work_time\n",
    "            queue_jobs_score[category] += score\n",
    "        \n",
    "        if not category in queue_cate:\n",
    "            queue_cate.append(category)\n",
    "\n",
    "\n",
    "    # 현재 작업 중인게 없을 때\n",
    "    if now_working_time == 0:\n",
    "\n",
    "        # 처음이라면\n",
    "        if len(queue_jobs_time) == 1:\n",
    "            _key = list(queue_jobs_time.keys())[0]\n",
    "            answer.append(_key)\n",
    "\n",
    "            _time = queue_jobs_time.pop(_key)\n",
    "            _score = queue_jobs_score.pop(_key)\n",
    "        \n",
    "            now_working_time += _time\n",
    "            \n",
    "        elif len(queue_jobs_time) > 1:\n",
    "            \n",
    "            # 분류번호가 기존작업이랑 같으면 계속 작업\n",
    "            if answer[-1] in queue_cate:\n",
    "                _time = queue_jobs_time.pop(answer[-1])\n",
    "                _score = queue_jobs_score.pop(answer[-1])\n",
    "                now_working_time += _time\n",
    "            else:\n",
    "                sorted_dict = sorted(queue_jobs_score.items(), key = lambda item: item[1])\n",
    "                max_score = sorted_dict[-1][1]\n",
    "\n",
    "                max_score_cate_list = []\n",
    "                \n",
    "                for k,v in sorted_dict:\n",
    "                    if max_score == v:\n",
    "                        max_score_cate_list.append(k)\n",
    "                \n",
    "                _cate = min(max_score_cate_list)\n",
    "                _time = queue_jobs_time.pop(_cate)\n",
    "                _score = queue_jobs_score.pop(_cate)\n",
    "                now_working_time += _time\n",
    "                \n",
    "                queue_cate.remove(_cate)\n",
    "                answer.append(_cate)\n",
    "\n",
    "    # 작업 시간 감소\n",
    "    if now_working_time > 0:\n",
    "        now_working_time -= 1\n",
    "    \n",
    "    # 무조건 돌아야 함\n",
    "    current_time += 1\n",
    "    \n",
    "    if len(jobs) == 0:\n",
    "        break"
   ]
  },
  {
   "cell_type": "code",
   "execution_count": 97,
   "id": "410dc787",
   "metadata": {},
   "outputs": [
    {
     "data": {
      "text/plain": [
       "[-1, 1]"
      ]
     },
     "execution_count": 97,
     "metadata": {},
     "output_type": "execute_result"
    }
   ],
   "source": [
    "answer"
   ]
  },
  {
   "cell_type": "code",
   "execution_count": 57,
   "id": "33146f70",
   "metadata": {},
   "outputs": [
    {
     "data": {
      "text/plain": [
       "{1: 15, 2: 100}"
      ]
     },
     "execution_count": 57,
     "metadata": {},
     "output_type": "execute_result"
    }
   ],
   "source": [
    "queue_jobs_score"
   ]
  },
  {
   "cell_type": "code",
   "execution_count": null,
   "id": "abfab7c9",
   "metadata": {},
   "outputs": [],
   "source": []
  },
  {
   "cell_type": "code",
   "execution_count": null,
   "id": "f390dc22",
   "metadata": {},
   "outputs": [],
   "source": []
  },
  {
   "cell_type": "code",
   "execution_count": null,
   "id": "06ba4601",
   "metadata": {},
   "outputs": [],
   "source": []
  },
  {
   "cell_type": "code",
   "execution_count": null,
   "id": "104f9c56",
   "metadata": {},
   "outputs": [],
   "source": []
  },
  {
   "cell_type": "code",
   "execution_count": null,
   "id": "a635238e",
   "metadata": {},
   "outputs": [],
   "source": []
  },
  {
   "cell_type": "code",
   "execution_count": null,
   "id": "215494c7",
   "metadata": {},
   "outputs": [],
   "source": [
    "# def solution(jobs):\n",
    "#     categories = {}  # 분류별 작업 정보를 저장하는 딕셔너리\n",
    "#     for job in jobs:\n",
    "#         _, duration, category, _ = job\n",
    "#         if category not in categories:\n",
    "#             categories[category] = []\n",
    "#         categories[category].append((duration, job))\n",
    "    \n",
    "#     processed_categories = []  # 처리된 분류를 저장하는 리스트\n",
    "#     answer = []  # 처리한 분류 번호를 저장하는 리스트\n",
    "\n",
    "#     while categories:\n",
    "#         max_category = None\n",
    "#         max_category_sum = -1\n",
    "\n",
    "#         for category, jobs in categories.items():\n",
    "#             category_sum = sum([job[0] for job in jobs])\n",
    "#             if category_sum > max_category_sum or (category_sum == max_category_sum and category < max_category):\n",
    "#                 max_category = category\n",
    "#                 max_category_sum = category_sum\n",
    "        \n",
    "#         processed_categories.append(max_category)\n",
    "# #         answer.extend([job[1][2] for job in categories[max_category]])\n",
    "#         answer.append(max_category)\n",
    "# #         print(max_category)\n",
    "#         del categories[max_category]\n",
    "    \n",
    "#     return answer\n"
   ]
  },
  {
   "cell_type": "code",
   "execution_count": null,
   "id": "95b8d602",
   "metadata": {},
   "outputs": [],
   "source": []
  }
 ],
 "metadata": {
  "kernelspec": {
   "display_name": "color_extraction",
   "language": "python",
   "name": "color_extraction"
  },
  "language_info": {
   "codemirror_mode": {
    "name": "ipython",
    "version": 3
   },
   "file_extension": ".py",
   "mimetype": "text/x-python",
   "name": "python",
   "nbconvert_exporter": "python",
   "pygments_lexer": "ipython3",
   "version": "3.8.16"
  }
 },
 "nbformat": 4,
 "nbformat_minor": 5
}
