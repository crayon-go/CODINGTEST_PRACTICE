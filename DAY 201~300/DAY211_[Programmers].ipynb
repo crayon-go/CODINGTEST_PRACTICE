{
 "cells": [
  {
   "cell_type": "code",
   "execution_count": 261,
   "id": "5870a0ec",
   "metadata": {},
   "outputs": [],
   "source": [
    "keymap = [\"AA\"]\n",
    "targets = [\"B\"]\n",
    "# [-1]"
   ]
  },
  {
   "cell_type": "code",
   "execution_count": 264,
   "id": "15c7cc55",
   "metadata": {},
   "outputs": [],
   "source": [
    "keymap = [\"AGZ\", \"BSSS\"]\n",
    "targets = [\"ASA\",\"BGZ\"]\n",
    "# [4, 6]"
   ]
  },
  {
   "cell_type": "code",
   "execution_count": 267,
   "id": "24c54a59",
   "metadata": {},
   "outputs": [],
   "source": [
    "keymap = [\"A\"]\n",
    "targets = [\"A\", \"B\"]\n",
    "# [1, -1]"
   ]
  },
  {
   "cell_type": "code",
   "execution_count": 270,
   "id": "a476ca37",
   "metadata": {},
   "outputs": [],
   "source": [
    "keymap = [\"FFF\", \"FFF\"]\n",
    "targets = [\"CCC\", \"CCC\"]\n",
    "# [-1, -1]"
   ]
  },
  {
   "cell_type": "code",
   "execution_count": 273,
   "id": "2d88889e",
   "metadata": {},
   "outputs": [],
   "source": [
    "keymap = [\"YGZ\", \"BSSS\"]\n",
    "targets = [\"AGZ\"]\n",
    "# [-1]"
   ]
  },
  {
   "cell_type": "code",
   "execution_count": 280,
   "id": "79a41bae",
   "metadata": {},
   "outputs": [],
   "source": [
    "keymap = [\"ABCDE\",\"ABBCE\"]\n",
    "targets = [\"ABBEF\"]\n",
    "# -1"
   ]
  },
  {
   "cell_type": "code",
   "execution_count": 283,
   "id": "b4e68b2f",
   "metadata": {},
   "outputs": [],
   "source": [
    "keymap = [\"ABCE\"]\n",
    "targets = [\"ABDE\"]\n",
    "# [-1]"
   ]
  },
  {
   "cell_type": "code",
   "execution_count": 289,
   "id": "81695c35",
   "metadata": {},
   "outputs": [],
   "source": [
    "keymap = [\"ABACD\", \"BCEFD\"]\n",
    "targets = [\"ABCD\",\"AABB\"]\n",
    "# [9, 4]"
   ]
  },
  {
   "cell_type": "code",
   "execution_count": 294,
   "id": "b6b09265",
   "metadata": {},
   "outputs": [],
   "source": [
    "keytable = {}\n",
    "for keys in keymap:\n",
    "    for i, key in enumerate(keys):\n",
    "        if key not in keytable:\n",
    "            keytable[key] = i + 1\n",
    "        else:\n",
    "            keytable[key] = min(keytable[key], i + 1)\n",
    "\n",
    "result = []\n",
    "for target in targets:\n",
    "    clicked = 0\n",
    "    for key in target:\n",
    "        if key not in keytable:\n",
    "            clicked = -1\n",
    "            break\n",
    "        clicked += keytable[key]\n",
    "    result.append(clicked)\n",
    "\n",
    "result"
   ]
  },
  {
   "cell_type": "code",
   "execution_count": null,
   "id": "15a21fd8",
   "metadata": {},
   "outputs": [],
   "source": []
  },
  {
   "cell_type": "code",
   "execution_count": null,
   "id": "7b1cbed0",
   "metadata": {},
   "outputs": [],
   "source": []
  },
  {
   "cell_type": "code",
   "execution_count": null,
   "id": "5a8d339a",
   "metadata": {},
   "outputs": [],
   "source": []
  },
  {
   "cell_type": "code",
   "execution_count": null,
   "id": "e47e2e5d",
   "metadata": {},
   "outputs": [],
   "source": []
  },
  {
   "cell_type": "code",
   "execution_count": 284,
   "id": "fe82ffd2",
   "metadata": {},
   "outputs": [],
   "source": [
    "max_len = len(max(keymap))\n",
    "keymap = [key.ljust(max_len, '0') for key in keymap]\n",
    "keymap\n",
    "\n",
    "answer = []\n",
    "\n",
    "for target in targets:\n",
    "    cnt = 0\n",
    "    b_match = True\n",
    "\n",
    "    for i in target:\n",
    "\n",
    "        for jj in range(0, max_len):\n",
    "            tmp_str = ''\n",
    "\n",
    "            for j in range(0, len(keymap)):\n",
    "                tmp_str += keymap[j][jj]\n",
    "\n",
    "            if i in tmp_str:\n",
    "                cnt += jj+1\n",
    "                break\n",
    "        else:\n",
    "            b_match = False\n",
    "            cnt = 0\n",
    "            \n",
    "        if cnt == 0:\n",
    "            answer.append(-1)\n",
    "            break\n",
    "        if b_match == False:\n",
    "            answer.append(-1)\n",
    "            break\n",
    "    if cnt != 0:\n",
    "        answer.append(cnt)"
   ]
  },
  {
   "cell_type": "code",
   "execution_count": 285,
   "id": "f7eac898",
   "metadata": {},
   "outputs": [
    {
     "data": {
      "text/plain": [
       "[-1]"
      ]
     },
     "execution_count": 285,
     "metadata": {},
     "output_type": "execute_result"
    }
   ],
   "source": [
    "answer"
   ]
  },
  {
   "cell_type": "code",
   "execution_count": null,
   "id": "6e09d005",
   "metadata": {},
   "outputs": [],
   "source": []
  },
  {
   "cell_type": "code",
   "execution_count": null,
   "id": "9151840e",
   "metadata": {},
   "outputs": [],
   "source": []
  },
  {
   "cell_type": "code",
   "execution_count": null,
   "id": "6ae34737",
   "metadata": {},
   "outputs": [],
   "source": []
  },
  {
   "cell_type": "code",
   "execution_count": null,
   "id": "799245ba",
   "metadata": {},
   "outputs": [],
   "source": []
  },
  {
   "cell_type": "code",
   "execution_count": null,
   "id": "96e7bdcc",
   "metadata": {},
   "outputs": [],
   "source": []
  }
 ],
 "metadata": {
  "kernelspec": {
   "display_name": "color_extraction",
   "language": "python",
   "name": "color_extraction"
  },
  "language_info": {
   "codemirror_mode": {
    "name": "ipython",
    "version": 3
   },
   "file_extension": ".py",
   "mimetype": "text/x-python",
   "name": "python",
   "nbconvert_exporter": "python",
   "pygments_lexer": "ipython3",
   "version": "3.8.16"
  }
 },
 "nbformat": 4,
 "nbformat_minor": 5
}
