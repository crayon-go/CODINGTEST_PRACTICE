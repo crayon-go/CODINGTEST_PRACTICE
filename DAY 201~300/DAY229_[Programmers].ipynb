{
 "cells": [
  {
   "cell_type": "code",
   "execution_count": 63,
   "id": "93181fb3",
   "metadata": {},
   "outputs": [],
   "source": [
    "s = \"1 2 3 4\"\n",
    "# \"1 4\""
   ]
  },
  {
   "cell_type": "code",
   "execution_count": 67,
   "id": "6775ec7a",
   "metadata": {},
   "outputs": [],
   "source": [
    "s = \"-1 -2 -3 -4\"\n",
    "# \"-4 -1\""
   ]
  },
  {
   "cell_type": "code",
   "execution_count": 18,
   "id": "4122c8d0",
   "metadata": {},
   "outputs": [],
   "source": [
    "s = \"-1 -1\"\n",
    "# \"-1 -1\""
   ]
  },
  {
   "cell_type": "code",
   "execution_count": 68,
   "id": "63f8b72a",
   "metadata": {},
   "outputs": [
    {
     "data": {
      "text/plain": [
       "'-4 -1'"
      ]
     },
     "execution_count": 68,
     "metadata": {},
     "output_type": "execute_result"
    }
   ],
   "source": [
    "aa = s.split()\n",
    "bb = [int(i) for i in aa]\n",
    "bb.sort()\n",
    "str(bb[0]) + \" \" + str(bb[-1])"
   ]
  },
  {
   "cell_type": "code",
   "execution_count": null,
   "id": "2ff1fd0c",
   "metadata": {},
   "outputs": [],
   "source": []
  },
  {
   "cell_type": "code",
   "execution_count": 71,
   "id": "9ab1d0c0",
   "metadata": {},
   "outputs": [
    {
     "data": {
      "text/plain": [
       "'-4 -1'"
      ]
     },
     "execution_count": 71,
     "metadata": {},
     "output_type": "execute_result"
    }
   ],
   "source": [
    "s = list(map(int,s.split()))\n",
    "str(min(s)) + \" \" + str(max(s))"
   ]
  },
  {
   "cell_type": "code",
   "execution_count": null,
   "id": "a5d16b88",
   "metadata": {},
   "outputs": [],
   "source": []
  }
 ],
 "metadata": {
  "kernelspec": {
   "display_name": "color_extraction",
   "language": "python",
   "name": "color_extraction"
  },
  "language_info": {
   "codemirror_mode": {
    "name": "ipython",
    "version": 3
   },
   "file_extension": ".py",
   "mimetype": "text/x-python",
   "name": "python",
   "nbconvert_exporter": "python",
   "pygments_lexer": "ipython3",
   "version": "3.8.16"
  }
 },
 "nbformat": 4,
 "nbformat_minor": 5
}
