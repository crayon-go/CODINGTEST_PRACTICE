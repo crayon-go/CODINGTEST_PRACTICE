{
 "cells": [
  {
   "cell_type": "code",
   "execution_count": 277,
   "id": "794773f5",
   "metadata": {},
   "outputs": [],
   "source": [
    "# 요청시각(초), 걸리는 시간(초), 분류 번호, 중요도\n",
    "jobs = [[1, 5, 2, 3],\n",
    "        [2, 2, 3, 2], \n",
    "        [3, 1, 3, 3], \n",
    "        [5, 2, 1, 5],\n",
    "        [7, 1, 1, 1],\n",
    "        [9, 1, 1, 1],\n",
    "        [10, 2, 2, 9]]\n",
    "# [2,1,2,3]"
   ]
  },
  {
   "cell_type": "code",
   "execution_count": 274,
   "id": "83d4b74d",
   "metadata": {},
   "outputs": [],
   "source": [
    "# 요청시각(초), 걸리는 시간(초), 분류 번호, 중요도\n",
    "jobs = [[0, 2, 3, 1], [5, 3, 3, 1], [10, 2, 4, 1]]\n",
    "# [3, 4]"
   ]
  },
  {
   "cell_type": "code",
   "execution_count": 271,
   "id": "71f87f24",
   "metadata": {},
   "outputs": [],
   "source": [
    "# 요청시각(초), 걸리는 시간(초), 분류 번호, 중요도\n",
    "jobs = [[0, 5, 1, 1], [2, 4, 3, 3], [3, 4, 4, 5], [5, 2, 3, 2]]\n",
    "# [1, 3, 4]"
   ]
  },
  {
   "cell_type": "code",
   "execution_count": 280,
   "id": "1fe091ae",
   "metadata": {},
   "outputs": [],
   "source": [
    "# 요청시각(초), 걸리는 시간(초), 분류 번호, 중요도\n",
    "jobs = [[1, 2, 1, 5],\n",
    "        [2, 1, 2, 100],\n",
    "        [3, 2, 1, 5],\n",
    "        [5, 2, 1, 5]]\n",
    "# [1, 2]"
   ]
  },
  {
   "cell_type": "code",
   "execution_count": 311,
   "id": "9a0f7f82",
   "metadata": {},
   "outputs": [
    {
     "name": "stdout",
     "output_type": "stream",
     "text": [
      "---------------------------------------------------\n",
      "====================\n",
      "6\n",
      "====================\n",
      "1\n",
      "---------------------------------------------------\n",
      "====================\n",
      "1\n"
     ]
    }
   ],
   "source": [
    "# 요청시각(초), 걸리는 시간(초), 분류 번호, 중요도\n",
    "jobs = [[1, 2, 1, 5],\n",
    "        [2, 1, 2, 100],\n",
    "        [3, 2, 1, 5],\n",
    "        [5, 2, 1, 5]]\n",
    "# [1, 2]\n",
    "\n",
    "\n",
    "categories = {}  # 분류별 작업 정보를 저장하는 딕셔너리\n",
    "\n",
    "for job in jobs:\n",
    "    _, duration, category, _ = job\n",
    "    if category not in categories:\n",
    "        categories[category] = []\n",
    "    categories[category].append((duration, job))\n",
    "\n",
    "processed_categories = []  # 처리된 분류를 저장하는 리스트\n",
    "answer = []  # 처리한 분류 번호를 저장하는 리스트\n",
    "\n",
    "ncnt = 0\n",
    "\n",
    "while categories:\n",
    "    print(\"---------------------------------------------------\")\n",
    "    ncnt+=1\n",
    "    max_category = None\n",
    "    max_category_sum = -1\n",
    "\n",
    "    for category, jobs in categories.items():\n",
    "        print(\"====================\")\n",
    "        category_sum = sum([job[0] for job in jobs])\n",
    "        print(category_sum)\n",
    "        if category_sum > max_category_sum or (category_sum == max_category_sum and category < max_category):\n",
    "            max_category = category\n",
    "            max_category_sum = category_sum\n",
    "\n",
    "    processed_categories.append(max_category)\n",
    "#     answer.extend([job[1][2] for job in categories[max_category]])\n",
    "    answer.append(max_category)\n",
    "    \n",
    "    del categories[max_category]"
   ]
  },
  {
   "cell_type": "code",
   "execution_count": 285,
   "id": "f7b36213",
   "metadata": {},
   "outputs": [
    {
     "data": {
      "text/plain": [
       "{1: [(2, [1, 2, 1, 5]), (2, [3, 2, 1, 5]), (2, [5, 2, 1, 5])],\n",
       " 2: [(1, [2, 1, 2, 100])]}"
      ]
     },
     "execution_count": 285,
     "metadata": {},
     "output_type": "execute_result"
    }
   ],
   "source": [
    "카테고리: 시간, 요청시각(초), 걸리는 시간(초), 분류 번호, 중요도\n",
    "categories"
   ]
  },
  {
   "cell_type": "code",
   "execution_count": 297,
   "id": "89cb1dec",
   "metadata": {},
   "outputs": [
    {
     "data": {
      "text/plain": [
       "[(1, [2, 1, 2, 100])]"
      ]
     },
     "execution_count": 297,
     "metadata": {},
     "output_type": "execute_result"
    }
   ],
   "source": [
    "jobs"
   ]
  },
  {
   "cell_type": "code",
   "execution_count": null,
   "id": "cb08e32f",
   "metadata": {},
   "outputs": [],
   "source": []
  },
  {
   "cell_type": "code",
   "execution_count": null,
   "id": "3f89c0d4",
   "metadata": {},
   "outputs": [],
   "source": []
  },
  {
   "cell_type": "code",
   "execution_count": null,
   "id": "79c86785",
   "metadata": {},
   "outputs": [],
   "source": []
  },
  {
   "cell_type": "code",
   "execution_count": null,
   "id": "7227dd68",
   "metadata": {},
   "outputs": [],
   "source": []
  },
  {
   "cell_type": "code",
   "execution_count": null,
   "id": "c07343ae",
   "metadata": {},
   "outputs": [],
   "source": []
  },
  {
   "cell_type": "code",
   "execution_count": null,
   "id": "4960c0f8",
   "metadata": {},
   "outputs": [],
   "source": []
  },
  {
   "cell_type": "code",
   "execution_count": null,
   "id": "2d0399bf",
   "metadata": {},
   "outputs": [],
   "source": []
  },
  {
   "cell_type": "code",
   "execution_count": null,
   "id": "3a6f920e",
   "metadata": {},
   "outputs": [],
   "source": []
  },
  {
   "cell_type": "code",
   "execution_count": null,
   "id": "3db4c599",
   "metadata": {},
   "outputs": [],
   "source": []
  },
  {
   "cell_type": "code",
   "execution_count": null,
   "id": "66d2f1da",
   "metadata": {},
   "outputs": [],
   "source": []
  },
  {
   "cell_type": "code",
   "execution_count": null,
   "id": "0606b549",
   "metadata": {},
   "outputs": [],
   "source": []
  },
  {
   "cell_type": "code",
   "execution_count": 226,
   "id": "e8080039",
   "metadata": {},
   "outputs": [
    {
     "name": "stdout",
     "output_type": "stream",
     "text": [
      "[2, 1, 2, 3]\n"
     ]
    }
   ],
   "source": [
    "current_time = 0\n",
    "processing_jobs = []\n",
    "queue_jobs_time = {}\n",
    "queue_jobs_score = {}\n",
    "answer = [-1]\n",
    "now_working_time = 0\n",
    "queue_cate = []\n",
    "total_work_time = 0\n",
    "\n",
    "while True:\n",
    "\n",
    "    # 요청시각에 따라 Job Queue에 쌓아줌\n",
    "    if len(jobs) != 0:\n",
    "        if current_time == jobs[0][0]:\n",
    "#             print(\"--- queue\")\n",
    "            # 요청시각(초), 걸리는 시간(초), 분류 번호, 중요도\n",
    "            request_time, work_time, category, score = jobs.pop(0)\n",
    "            total_work_time += work_time\n",
    "            \n",
    "            # 걸리는 시간(초), 중요도\n",
    "            if category not in queue_jobs_time:\n",
    "                queue_jobs_time[category] = work_time  # 카테고리 별 시간\n",
    "                queue_jobs_score[category] = score     # 카테고리 별 스코어\n",
    "            else:\n",
    "                queue_jobs_time[category] += work_time\n",
    "                queue_jobs_score[category] += score\n",
    "\n",
    "            if not category in queue_cate:\n",
    "                queue_cate.append(category)\n",
    "            \n",
    "    # 현재 작업 중인게 없을 때\n",
    "    if now_working_time == 0:\n",
    "\n",
    "        # 작업 중인게 없고 / 대기하고 있는 작업이 한개일 때\n",
    "        if len(queue_jobs_time) == 1:\n",
    "            _key = list(queue_jobs_time.keys())[0]\n",
    "            \n",
    "            queue_jobs_score.pop(_key)                    # 스코어\n",
    "            now_working_time = queue_jobs_time.pop(_key)  # 작업시간\n",
    "            if answer[-1] != _key:\n",
    "                answer.append(_key)                           # 카테고리 누적\n",
    "            queue_cate.remove(_key)\n",
    "            \n",
    "        # 작업 중인게 없고 / 대기하고 있는게 여러개일때\n",
    "        elif len(queue_jobs_time) > 1:\n",
    "            \n",
    "            # 분류번호가 기존작업이랑 같으면 계속 작업\n",
    "            if answer[-1] in queue_cate:    # 마지막 작업 분류가 새로운 작업 내용과 같으면\n",
    "                _score = queue_jobs_score.pop(answer[-1])           # 스코어\n",
    "                now_working_time = queue_jobs_time.pop(answer[-1])  # 시간\n",
    "                if answer[-1] != answer[-1]:\n",
    "                    answer.append(answer[-1])\n",
    "                queue_cate.remove(answer[-1])\n",
    "                \n",
    "            else:\n",
    "\n",
    "                sorted_dict = sorted(queue_jobs_score.items(), key = lambda item: item[1])\n",
    "                max_score = sorted_dict[-1][1]\n",
    "\n",
    "                max_score_cate_list = []\n",
    "                \n",
    "                for k,v in sorted_dict:\n",
    "                    if max_score == v:\n",
    "                        max_score_cate_list.append(k)\n",
    "                \n",
    "                _cate = min(max_score_cate_list)\n",
    "                _time = queue_jobs_time.pop(_cate)\n",
    "                _score = queue_jobs_score.pop(_cate)\n",
    "                now_working_time += _time\n",
    "                \n",
    "                queue_cate.remove(_cate)\n",
    "                if answer[-1] != _cate:\n",
    "                    answer.append(_cate)\n",
    "\n",
    "    \n",
    "    # 작업 시간 감소\n",
    "    if now_working_time > 0:\n",
    "        now_working_time -= 1\n",
    "    \n",
    "    # 무조건 돌아야 함\n",
    "    current_time += 1\n",
    "\n",
    "#     if len(jobs) == 0 and now_working_time == -1:\n",
    "    if len(jobs) == 0 and current_time > total_work_time:\n",
    "        break\n",
    "        \n",
    "print(answer[1:])"
   ]
  },
  {
   "cell_type": "code",
   "execution_count": null,
   "id": "1e506d8b",
   "metadata": {},
   "outputs": [],
   "source": []
  },
  {
   "cell_type": "code",
   "execution_count": null,
   "id": "5a13ad03",
   "metadata": {},
   "outputs": [],
   "source": []
  },
  {
   "cell_type": "code",
   "execution_count": null,
   "id": "15bf5ee1",
   "metadata": {},
   "outputs": [],
   "source": []
  },
  {
   "cell_type": "code",
   "execution_count": null,
   "id": "a635238e",
   "metadata": {},
   "outputs": [],
   "source": []
  },
  {
   "cell_type": "code",
   "execution_count": null,
   "id": "215494c7",
   "metadata": {},
   "outputs": [],
   "source": [
    "# def solution(jobs):\n",
    "#     categories = {}  # 분류별 작업 정보를 저장하는 딕셔너리\n",
    "#     for job in jobs:\n",
    "#         _, duration, category, _ = job\n",
    "#         if category not in categories:\n",
    "#             categories[category] = []\n",
    "#         categories[category].append((duration, job))\n",
    "    \n",
    "#     processed_categories = []  # 처리된 분류를 저장하는 리스트\n",
    "#     answer = []  # 처리한 분류 번호를 저장하는 리스트\n",
    "\n",
    "#     while categories:\n",
    "#         max_category = None\n",
    "#         max_category_sum = -1\n",
    "\n",
    "#         for category, jobs in categories.items():\n",
    "#             category_sum = sum([job[0] for job in jobs])\n",
    "#             if category_sum > max_category_sum or (category_sum == max_category_sum and category < max_category):\n",
    "#                 max_category = category\n",
    "#                 max_category_sum = category_sum\n",
    "        \n",
    "#         processed_categories.append(max_category)\n",
    "# #         answer.extend([job[1][2] for job in categories[max_category]])\n",
    "#         answer.append(max_category)\n",
    "# #         print(max_category)\n",
    "#         del categories[max_category]\n",
    "    \n",
    "#     return answer\n"
   ]
  },
  {
   "cell_type": "code",
   "execution_count": null,
   "id": "95b8d602",
   "metadata": {},
   "outputs": [],
   "source": []
  }
 ],
 "metadata": {
  "kernelspec": {
   "display_name": "color_extraction",
   "language": "python",
   "name": "color_extraction"
  },
  "language_info": {
   "codemirror_mode": {
    "name": "ipython",
    "version": 3
   },
   "file_extension": ".py",
   "mimetype": "text/x-python",
   "name": "python",
   "nbconvert_exporter": "python",
   "pygments_lexer": "ipython3",
   "version": "3.8.16"
  }
 },
 "nbformat": 4,
 "nbformat_minor": 5
}
