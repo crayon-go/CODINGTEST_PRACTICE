{
 "cells": [
  {
   "cell_type": "code",
   "execution_count": 1,
   "id": "468f6891",
   "metadata": {},
   "outputs": [],
   "source": [
    "n = 5\n",
    "lost = [2, 4]\n",
    "reserve = [1, 3, 5]\n",
    "# 5"
   ]
  },
  {
   "cell_type": "code",
   "execution_count": 22,
   "id": "26f113ff",
   "metadata": {},
   "outputs": [],
   "source": [
    "n = 5\n",
    "lost = [2, 4]\n",
    "reserve = [3]\n",
    "# 4"
   ]
  },
  {
   "cell_type": "code",
   "execution_count": 24,
   "id": "2316a9bb",
   "metadata": {},
   "outputs": [],
   "source": [
    "n = 3\n",
    "lost = [3]\n",
    "reserve = [1]\n",
    "# 2"
   ]
  },
  {
   "cell_type": "code",
   "execution_count": 15,
   "id": "ca822c80",
   "metadata": {},
   "outputs": [],
   "source": [
    "n = 4\n",
    "lost = [2, 3]\n",
    "reserve = [3, 4]\n",
    "# 3"
   ]
  },
  {
   "cell_type": "code",
   "execution_count": 46,
   "id": "b3617603",
   "metadata": {},
   "outputs": [],
   "source": [
    "n = 5\n",
    "lost = [1, 2, 3]\n",
    "reserve = [2, 3, 4]\n"
   ]
  },
  {
   "cell_type": "code",
   "execution_count": null,
   "id": "a2de7072",
   "metadata": {},
   "outputs": [],
   "source": []
  },
  {
   "cell_type": "code",
   "execution_count": null,
   "id": "e6464fe3",
   "metadata": {},
   "outputs": [],
   "source": []
  },
  {
   "cell_type": "code",
   "execution_count": 58,
   "id": "eeb6087f",
   "metadata": {},
   "outputs": [
    {
     "data": {
      "text/plain": [
       "4"
      ]
     },
     "execution_count": 58,
     "metadata": {},
     "output_type": "execute_result"
    }
   ],
   "source": [
    "_reserve = [r for r in reserve if r not in lost]\n",
    "_lost = [l for l in lost if l not in reserve]\n",
    "for r in _reserve:\n",
    "    f = r - 1\n",
    "    b = r + 1\n",
    "    if f in _lost:\n",
    "        _lost.remove(f)\n",
    "    elif b in _lost:\n",
    "        _lost.remove(b)\n",
    "n - len(_lost)"
   ]
  },
  {
   "cell_type": "code",
   "execution_count": null,
   "id": "e8666c2b",
   "metadata": {},
   "outputs": [],
   "source": []
  },
  {
   "cell_type": "code",
   "execution_count": null,
   "id": "e7ecc182",
   "metadata": {},
   "outputs": [],
   "source": []
  },
  {
   "cell_type": "code",
   "execution_count": 53,
   "id": "0f1eb25e",
   "metadata": {},
   "outputs": [
    {
     "data": {
      "text/plain": [
       "4"
      ]
     },
     "execution_count": 53,
     "metadata": {},
     "output_type": "execute_result"
    }
   ],
   "source": [
    "set_lost = set(lost) - set(reserve)\n",
    "set_reserve = set(reserve) - set(lost)\n",
    "\n",
    "for i in set_reserve:\n",
    "    if i-1 in set_lost:\n",
    "        set_lost.remove(i-1)\n",
    "    elif i+1 in set_lost:\n",
    "        set_lost.remove(i+1)\n",
    "n-len(set_lost)"
   ]
  },
  {
   "cell_type": "code",
   "execution_count": 56,
   "id": "758a7908",
   "metadata": {},
   "outputs": [],
   "source": [
    "a = [1, 2, 3, 2]\n",
    "a.remove(2)"
   ]
  },
  {
   "cell_type": "code",
   "execution_count": null,
   "id": "3087ce59",
   "metadata": {},
   "outputs": [],
   "source": []
  },
  {
   "cell_type": "code",
   "execution_count": null,
   "id": "e9e6c456",
   "metadata": {},
   "outputs": [],
   "source": []
  },
  {
   "cell_type": "code",
   "execution_count": 41,
   "id": "78ee8c00",
   "metadata": {},
   "outputs": [
    {
     "name": "stdout",
     "output_type": "stream",
     "text": [
      "----------\n",
      "3\n",
      "----------\n",
      "5\n"
     ]
    },
    {
     "data": {
      "text/plain": [
       "5"
      ]
     },
     "execution_count": 41,
     "metadata": {},
     "output_type": "execute_result"
    }
   ],
   "source": [
    "lost = list(set(lost))\n",
    "lost.sort()\n",
    "reserve = list(set(reserve))\n",
    "reserve.sort()\n",
    "\n",
    "for i in reserve:\n",
    "    print(\"----------\")\n",
    "    print(i)\n",
    "    if i in lost:\n",
    "        print(\"a\")\n",
    "        lost.pop(lost.index(i))   \n",
    "    elif i-1 in lost:\n",
    "        print(\"b\")\n",
    "        lost.pop(lost.index(i-1))\n",
    "    elif i+1 in lost:\n",
    "        print(\"c\")\n",
    "        lost.pop(lost.index(i+1))\n",
    "\n",
    "answer = n - len(lost)\n",
    "answer"
   ]
  },
  {
   "cell_type": "code",
   "execution_count": 33,
   "id": "48f75262",
   "metadata": {},
   "outputs": [],
   "source": [
    "lost = [2, 4, 3]"
   ]
  },
  {
   "cell_type": "code",
   "execution_count": 35,
   "id": "89a7aa9b",
   "metadata": {},
   "outputs": [
    {
     "data": {
      "text/plain": [
       "[4, 3, 2]"
      ]
     },
     "execution_count": 35,
     "metadata": {},
     "output_type": "execute_result"
    }
   ],
   "source": [
    "lost"
   ]
  },
  {
   "cell_type": "code",
   "execution_count": null,
   "id": "39a903ec",
   "metadata": {},
   "outputs": [],
   "source": []
  },
  {
   "cell_type": "code",
   "execution_count": null,
   "id": "891b87ba",
   "metadata": {},
   "outputs": [],
   "source": []
  },
  {
   "cell_type": "code",
   "execution_count": null,
   "id": "5de04ac7",
   "metadata": {},
   "outputs": [],
   "source": []
  }
 ],
 "metadata": {
  "kernelspec": {
   "display_name": "color_extraction",
   "language": "python",
   "name": "color_extraction"
  },
  "language_info": {
   "codemirror_mode": {
    "name": "ipython",
    "version": 3
   },
   "file_extension": ".py",
   "mimetype": "text/x-python",
   "name": "python",
   "nbconvert_exporter": "python",
   "pygments_lexer": "ipython3",
   "version": "3.8.16"
  }
 },
 "nbformat": 4,
 "nbformat_minor": 5
}
