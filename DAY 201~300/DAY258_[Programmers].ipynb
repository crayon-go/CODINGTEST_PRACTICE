{
 "cells": [
  {
   "cell_type": "code",
   "execution_count": 85,
   "id": "ce48bcbe",
   "metadata": {},
   "outputs": [],
   "source": [
    "cards1 = [\"i\", \"drink\", \"water\"]\n",
    "cards2 = [\"want\", \"to\"]\n",
    "goal = [\"i\", \"want\", \"to\", \"drink\", \"water\"]\n",
    "# \"Yes\"\n"
   ]
  },
  {
   "cell_type": "code",
   "execution_count": 88,
   "id": "259b5d77",
   "metadata": {},
   "outputs": [],
   "source": [
    "cards1 = [\"i\", \"water\", \"drink\"]\n",
    "cards2 = [\"want\", \"to\"]\n",
    "goal = [\"i\", \"want\", \"to\", \"drink\", \"water\"]\n",
    "# \"No\""
   ]
  },
  {
   "cell_type": "code",
   "execution_count": 126,
   "id": "3884ff2f",
   "metadata": {},
   "outputs": [],
   "source": [
    "cards1 = [\"a\",\"apple\",\"is\"]\n",
    "cards2 = [\"a\",\"apple\"]\n",
    "goal = [\"a\",\"apple\",\"is\",\"a\",\"apple\"]\n",
    "# \"Yes\" "
   ]
  },
  {
   "cell_type": "code",
   "execution_count": 127,
   "id": "55f23412",
   "metadata": {},
   "outputs": [],
   "source": [
    "def solution(cards1, cards2, goal):\n",
    "    answer = 'Yes'\n",
    "    \n",
    "    card1_idx, card2_idx = 0, 0\n",
    "    \n",
    "    for word in goal:\n",
    "        if len(cards1) > card1_idx and word == cards1[card1_idx]:\n",
    "            card1_idx += 1\n",
    "        elif len(cards2) > card2_idx and word == cards2[card2_idx]:\n",
    "            card2_idx += 1\n",
    "        else:\n",
    "            answer = \"No\"\n",
    "            break\n",
    "    \n",
    "    return answer"
   ]
  },
  {
   "cell_type": "code",
   "execution_count": 128,
   "id": "23150c4d",
   "metadata": {},
   "outputs": [
    {
     "data": {
      "text/plain": [
       "'Yes'"
      ]
     },
     "execution_count": 128,
     "metadata": {},
     "output_type": "execute_result"
    }
   ],
   "source": [
    "solution(cards1, cards2, goal)"
   ]
  },
  {
   "cell_type": "code",
   "execution_count": null,
   "id": "ac5df510",
   "metadata": {},
   "outputs": [],
   "source": []
  },
  {
   "cell_type": "code",
   "execution_count": 129,
   "id": "545d9176",
   "metadata": {},
   "outputs": [],
   "source": [
    "def solution(cards1, cards2, goal):\n",
    "    for g in goal:\n",
    "        if len(cards1) > 0 and g == cards1[0]:\n",
    "            cards1.pop(0)       \n",
    "        elif len(cards2) >0 and g == cards2[0]:\n",
    "            cards2.pop(0)\n",
    "        else:\n",
    "            return \"No\"\n",
    "    return \"Yes\""
   ]
  },
  {
   "cell_type": "code",
   "execution_count": 130,
   "id": "ee548cf4",
   "metadata": {},
   "outputs": [
    {
     "data": {
      "text/plain": [
       "'Yes'"
      ]
     },
     "execution_count": 130,
     "metadata": {},
     "output_type": "execute_result"
    }
   ],
   "source": [
    "solution(cards1, cards2, goal)"
   ]
  },
  {
   "cell_type": "code",
   "execution_count": null,
   "id": "1728ac33",
   "metadata": {},
   "outputs": [],
   "source": []
  },
  {
   "cell_type": "code",
   "execution_count": null,
   "id": "f697bb46",
   "metadata": {},
   "outputs": [],
   "source": []
  },
  {
   "cell_type": "code",
   "execution_count": 95,
   "id": "ec0c3945",
   "metadata": {},
   "outputs": [],
   "source": [
    "\n",
    "from itertools import zip_longest\n",
    "\n",
    "def solution(cards1, cards2, goal):\n",
    "    \n",
    "    for i in zip_longest(cards1, cards2, fillvalue='no'):\n",
    "        i = list(i)\n",
    "\n",
    "        list_range = 1\n",
    "        if len(goal) > 2:\n",
    "            list_range = 2\n",
    "\n",
    "        for j in range(list_range):\n",
    "            check_word = goal.pop(0)\n",
    "\n",
    "            if not check_word in i:\n",
    "                return \"No\"\n",
    "        if len(goal) == 0:\n",
    "            return \"Yes\"\n"
   ]
  },
  {
   "cell_type": "code",
   "execution_count": 96,
   "id": "1188b023",
   "metadata": {},
   "outputs": [
    {
     "data": {
      "text/plain": [
       "'No'"
      ]
     },
     "execution_count": 96,
     "metadata": {},
     "output_type": "execute_result"
    }
   ],
   "source": [
    "solution(cards1, cards2, goal)"
   ]
  },
  {
   "cell_type": "code",
   "execution_count": null,
   "id": "2d9cfba1",
   "metadata": {},
   "outputs": [],
   "source": []
  }
 ],
 "metadata": {
  "kernelspec": {
   "display_name": "hackerrank",
   "language": "python",
   "name": "hackerrank"
  },
  "language_info": {
   "codemirror_mode": {
    "name": "ipython",
    "version": 3
   },
   "file_extension": ".py",
   "mimetype": "text/x-python",
   "name": "python",
   "nbconvert_exporter": "python",
   "pygments_lexer": "ipython3",
   "version": "3.9.12"
  }
 },
 "nbformat": 4,
 "nbformat_minor": 5
}
