{
 "cells": [
  {
   "cell_type": "code",
   "execution_count": 73,
   "id": "1da490ac",
   "metadata": {},
   "outputs": [],
   "source": [
    "players = [\"mumu\", \"soe\", \"poe\", \"kai\", \"mine\"]\n",
    "callings = [\"kai\", \"kai\", \"mine\", \"mine\"]\n",
    "# [\"mumu\", \"kai\", \"mine\", \"soe\", \"poe\"]"
   ]
  },
  {
   "cell_type": "code",
   "execution_count": 74,
   "id": "ab24411a",
   "metadata": {},
   "outputs": [],
   "source": [
    "answer = []"
   ]
  },
  {
   "cell_type": "code",
   "execution_count": null,
   "id": "21ca75a4",
   "metadata": {},
   "outputs": [],
   "source": []
  },
  {
   "cell_type": "code",
   "execution_count": null,
   "id": "3e326a76",
   "metadata": {},
   "outputs": [],
   "source": [
    "player_indices = {player: index for index, player in enumerate(players)}\n",
    "\n",
    "for j in callings:\n",
    "    current_index = player_indices[j]\n",
    "    desired_index = current_index - 1\n",
    "    if current_index > 0 and players[desired_index] != j:\n",
    "        players[current_index], players[desired_index] = players[desired_index], players[current_index]\n",
    "        player_indices[players[current_index]] = current_index\n",
    "        player_indices[players[desired_index]] = desired_index\n",
    "\n",
    "players"
   ]
  },
  {
   "cell_type": "code",
   "execution_count": null,
   "id": "496c81f9",
   "metadata": {},
   "outputs": [],
   "source": []
  },
  {
   "cell_type": "code",
   "execution_count": null,
   "id": "a81118d8",
   "metadata": {},
   "outputs": [],
   "source": []
  },
  {
   "cell_type": "code",
   "execution_count": 75,
   "id": "40b66b65",
   "metadata": {},
   "outputs": [],
   "source": [
    "hashmap = dict()\n",
    "\n",
    "for i,v in enumerate(players):\n",
    "    hashmap[v] = i \n",
    "\n",
    "for call in callings:\n",
    "    pre, post = hashmap[call]-1, hashmap[call]\n",
    "    print(pre, post)\n",
    "    hashmap[players[pre]] = post\n",
    "    hashmap[players[post]] = pre\n",
    "    players[pre], players[post] = players[post], players[pre]\n",
    "players"
   ]
  },
  {
   "cell_type": "code",
   "execution_count": 46,
   "id": "955110c0",
   "metadata": {},
   "outputs": [],
   "source": [
    "hashmap = dict()"
   ]
  },
  {
   "cell_type": "code",
   "execution_count": 47,
   "id": "8c31acfa",
   "metadata": {},
   "outputs": [
    {
     "data": {
      "text/plain": [
       "{}"
      ]
     },
     "execution_count": 47,
     "metadata": {},
     "output_type": "execute_result"
    }
   ],
   "source": [
    "hashmap"
   ]
  },
  {
   "cell_type": "code",
   "execution_count": 42,
   "id": "bbf265bc",
   "metadata": {},
   "outputs": [],
   "source": [
    "answer = []\n",
    "\n",
    "for i in callings:\n",
    "    idx = players.index(i)\n",
    "    \n",
    "    tmp = players[idx]\n",
    "    players[idx] = players[idx-1]\n",
    "    players[idx-1] = tmp\n",
    "answer = players"
   ]
  },
  {
   "cell_type": "code",
   "execution_count": 41,
   "id": "d82836c3",
   "metadata": {},
   "outputs": [
    {
     "data": {
      "text/plain": [
       "['mumu', 'kai', 'mine', 'soe', 'poe']"
      ]
     },
     "execution_count": 41,
     "metadata": {},
     "output_type": "execute_result"
    }
   ],
   "source": [
    "answer"
   ]
  },
  {
   "cell_type": "code",
   "execution_count": null,
   "id": "ee9b8e93",
   "metadata": {},
   "outputs": [],
   "source": []
  }
 ],
 "metadata": {
  "kernelspec": {
   "display_name": "hackerrank",
   "language": "python",
   "name": "hackerrank"
  },
  "language_info": {
   "codemirror_mode": {
    "name": "ipython",
    "version": 3
   },
   "file_extension": ".py",
   "mimetype": "text/x-python",
   "name": "python",
   "nbconvert_exporter": "python",
   "pygments_lexer": "ipython3",
   "version": "3.9.12"
  }
 },
 "nbformat": 4,
 "nbformat_minor": 5
}
