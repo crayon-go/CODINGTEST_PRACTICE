{
 "cells": [
  {
   "cell_type": "code",
   "execution_count": 7,
   "id": "0270108c",
   "metadata": {},
   "outputs": [],
   "source": [
    "class Dog:\n",
    "    def __init__(self, x, y):\n",
    "        self.x = x\n",
    "        self.y = y\n",
    "        self.g = {\"N\": (-1, 0), \"W\": (0, -1), \"E\": (0, 1), \"S\": (1, 0)}\n",
    "\n",
    "    def move(self, park, direction, distance):\n",
    "        i, j = self.g[direction]\n",
    "        x, y = self.x + (i * distance), self.y + (j * distance)\n",
    "        if x < 0 or y < 0 or x >= len(park) or y >= len(park[0]):\n",
    "            return park\n",
    "        elif \"X\" in park[x][min(self.y, y) : max(self.y, y) + 1] or \"X\" in [\n",
    "            row[y] for row in park[min(self.x, x) : max(self.x, x)]\n",
    "        ]:\n",
    "            return park\n",
    "        park[self.x][self.y] = \"O\"\n",
    "        park[x][y] = \"S\"\n",
    "        self.x = x\n",
    "        self.y = y\n",
    "        return park\n",
    "\n",
    "    @classmethod\n",
    "    def detect_start_dogs_location(self, park):\n",
    "        for i, row in enumerate(park):\n",
    "            for j, item in enumerate(row):\n",
    "                if item == \"S\":\n",
    "                    return i, j\n",
    "\n",
    "\n",
    "def solution(park, routes):\n",
    "    park = [list(row) for row in park]\n",
    "    x, y = Dog.detect_start_dogs_location(park)\n",
    "\n",
    "    dog = Dog(x, y)\n",
    "\n",
    "    for route in routes:\n",
    "        direction, distance = route.split()\n",
    "        park = dog.move(park, direction, int(distance))\n",
    "\n",
    "    return [dog.x, dog.y]\n",
    "\n",
    "\n"
   ]
  },
  {
   "cell_type": "code",
   "execution_count": null,
   "id": "eb019948",
   "metadata": {},
   "outputs": [],
   "source": []
  }
 ],
 "metadata": {
  "kernelspec": {
   "display_name": "hackerrank",
   "language": "python",
   "name": "hackerrank"
  },
  "language_info": {
   "codemirror_mode": {
    "name": "ipython",
    "version": 3
   },
   "file_extension": ".py",
   "mimetype": "text/x-python",
   "name": "python",
   "nbconvert_exporter": "python",
   "pygments_lexer": "ipython3",
   "version": "3.9.12"
  }
 },
 "nbformat": 4,
 "nbformat_minor": 5
}
