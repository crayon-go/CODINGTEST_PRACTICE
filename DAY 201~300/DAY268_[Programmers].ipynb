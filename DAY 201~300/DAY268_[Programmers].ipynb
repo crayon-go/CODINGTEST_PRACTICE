{
 "cells": [
  {
   "cell_type": "code",
   "execution_count": 42,
   "id": "086626ea",
   "metadata": {},
   "outputs": [],
   "source": [
    "ingredient = [2, 1, 1, 2, 3, 1, 2, 3, 1]\n",
    "# 2"
   ]
  },
  {
   "cell_type": "code",
   "execution_count": 45,
   "id": "022de28d",
   "metadata": {},
   "outputs": [],
   "source": [
    "ingredient = [1, 3, 2, 1, 2, 1, 3, 1, 2]\n",
    "# 0"
   ]
  },
  {
   "cell_type": "code",
   "execution_count": 48,
   "id": "137883a7",
   "metadata": {},
   "outputs": [],
   "source": [
    "ingredient = [1,1,2,3,1,2,3,1,2,3,1,2,3,1]\n",
    "# 3"
   ]
  },
  {
   "cell_type": "code",
   "execution_count": 51,
   "id": "3a1b0a54",
   "metadata": {},
   "outputs": [],
   "source": [
    "ingredient = [1, 1, 2, 2, 2, 3, 1]\n",
    "# 0"
   ]
  },
  {
   "cell_type": "code",
   "execution_count": 54,
   "id": "30838e0b",
   "metadata": {},
   "outputs": [
    {
     "data": {
      "text/plain": [
       "0"
      ]
     },
     "execution_count": 54,
     "metadata": {},
     "output_type": "execute_result"
    }
   ],
   "source": [
    "s = []\n",
    "cnt = 0\n",
    "for i in ingredient:\n",
    "    s.append(i)\n",
    "    if s[-4:] == [1, 2, 3, 1]:\n",
    "        cnt += 1\n",
    "        for i in range(4):\n",
    "            s.pop()\n",
    "cnt"
   ]
  },
  {
   "cell_type": "code",
   "execution_count": null,
   "id": "4209bd68",
   "metadata": {},
   "outputs": [],
   "source": []
  },
  {
   "cell_type": "code",
   "execution_count": null,
   "id": "4d480e54",
   "metadata": {},
   "outputs": [],
   "source": []
  },
  {
   "cell_type": "code",
   "execution_count": 52,
   "id": "ba4dbc6e",
   "metadata": {},
   "outputs": [],
   "source": [
    "answer = 0\n",
    "merge_str = ''\n",
    "hamburger = '1231'\n",
    "ham_len = len(hamburger)\n",
    "\n",
    "for i in ingredient:\n",
    "    merge_str += str(i)\n",
    "    if hamburger == merge_str[-ham_len:]:\n",
    "        merge_str = merge_str[:-ham_len]\n",
    "#         merge_str = merge_str.replace(hamburger, '')\n",
    "        \n",
    "        \n",
    "        answer += 1"
   ]
  },
  {
   "cell_type": "code",
   "execution_count": 53,
   "id": "4efd1f17",
   "metadata": {},
   "outputs": [
    {
     "data": {
      "text/plain": [
       "0"
      ]
     },
     "execution_count": 53,
     "metadata": {},
     "output_type": "execute_result"
    }
   ],
   "source": [
    "answer"
   ]
  },
  {
   "cell_type": "code",
   "execution_count": 39,
   "id": "a39dae87",
   "metadata": {},
   "outputs": [
    {
     "data": {
      "text/plain": [
       "'123'"
      ]
     },
     "execution_count": 39,
     "metadata": {},
     "output_type": "execute_result"
    }
   ],
   "source": []
  },
  {
   "cell_type": "code",
   "execution_count": null,
   "id": "38f2cec6",
   "metadata": {},
   "outputs": [],
   "source": []
  }
 ],
 "metadata": {
  "kernelspec": {
   "display_name": "color_extraction",
   "language": "python",
   "name": "color_extraction"
  },
  "language_info": {
   "codemirror_mode": {
    "name": "ipython",
    "version": 3
   },
   "file_extension": ".py",
   "mimetype": "text/x-python",
   "name": "python",
   "nbconvert_exporter": "python",
   "pygments_lexer": "ipython3",
   "version": "3.8.16"
  }
 },
 "nbformat": 4,
 "nbformat_minor": 5
}
