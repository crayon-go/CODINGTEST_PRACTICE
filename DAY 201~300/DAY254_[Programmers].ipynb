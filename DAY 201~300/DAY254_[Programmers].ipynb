{
 "cells": [
  {
   "cell_type": "code",
   "execution_count": 72,
   "metadata": {},
   "outputs": [],
   "source": [
    "score = [\n",
    "    [900,800,850,890,910],\n",
    "    [400,600,450,500,350],\n",
    "    [500,50,150,30,200],\n",
    "    [950,970,970,999,890]\n",
    "]\n",
    "# [2,6,9,1]"
   ]
  },
  {
   "cell_type": "code",
   "execution_count": 68,
   "metadata": {},
   "outputs": [],
   "source": [
    "score = [\n",
    "    [623,863,724,936],\n",
    "    [300,201,199,190],\n",
    "    [899,901,670,990]\n",
    "]\n",
    "# [3,9,2]"
   ]
  },
  {
   "cell_type": "code",
   "execution_count": 65,
   "metadata": {},
   "outputs": [],
   "source": [
    "score = [\n",
    "    [550,550,550,550,550],\n",
    "    [490,590,640,550,490],\n",
    "    [840,940,940,890,930]\n",
    "]\n",
    "# [5,5,1]"
   ]
  },
  {
   "cell_type": "code",
   "execution_count": 73,
   "metadata": {},
   "outputs": [],
   "source": [
    "def calculate_credit_rating(num):\n",
    "    if num > 900:    return 1\n",
    "    elif 900 >= num > 800:    return 2\n",
    "    elif 800 >= num > 700:    return 3\n",
    "    elif 700 >= num > 600:    return 4\n",
    "    elif 600 >= num > 500:    return 5\n",
    "    elif 500 >= num > 400:    return 6\n",
    "    elif 400 >= num > 300:    return 7\n",
    "    elif 300 >= num > 200:    return 8\n",
    "    elif 200 >= num:    return 9"
   ]
  },
  {
   "cell_type": "code",
   "execution_count": 74,
   "metadata": {},
   "outputs": [
    {
     "data": {
      "text/plain": [
       "[2, 6, 9, 1]"
      ]
     },
     "execution_count": 74,
     "metadata": {},
     "output_type": "execute_result"
    }
   ],
   "source": [
    "answer = []\n",
    "for i in score:\n",
    "    a = sorted(i)[1:-1]\n",
    "    answer.append(calculate_credit_rating(round(sum(a)/len(a),1)))\n",
    "answer    "
   ]
  },
  {
   "cell_type": "code",
   "execution_count": 75,
   "metadata": {},
   "outputs": [
    {
     "data": {
      "text/plain": [
       "550"
      ]
     },
     "execution_count": 75,
     "metadata": {},
     "output_type": "execute_result"
    }
   ],
   "source": [
    "min([550,550,550,550,550])"
   ]
  },
  {
   "cell_type": "code",
   "execution_count": null,
   "metadata": {},
   "outputs": [],
   "source": []
  }
 ],
 "metadata": {
  "kernelspec": {
   "display_name": "myproject",
   "language": "python",
   "name": "myproject"
  },
  "language_info": {
   "codemirror_mode": {
    "name": "ipython",
    "version": 3
   },
   "file_extension": ".py",
   "mimetype": "text/x-python",
   "name": "python",
   "nbconvert_exporter": "python",
   "pygments_lexer": "ipython3",
   "version": "3.8.5"
  }
 },
 "nbformat": 4,
 "nbformat_minor": 4
}
