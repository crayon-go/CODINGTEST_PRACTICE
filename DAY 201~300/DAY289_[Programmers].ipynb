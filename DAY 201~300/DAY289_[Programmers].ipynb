{
 "cells": [
  {
   "cell_type": "code",
   "execution_count": 11,
   "id": "c3e8e401",
   "metadata": {},
   "outputs": [],
   "source": [
    "absolutes = [4, 7, 12]\n",
    "signs = [True, False, True]\n",
    "# 9"
   ]
  },
  {
   "cell_type": "code",
   "execution_count": 7,
   "id": "afb4b44a",
   "metadata": {},
   "outputs": [],
   "source": [
    "absolutes = [1, 2, 3]\n",
    "signs = [False, False, True]\n",
    "# 0"
   ]
  },
  {
   "cell_type": "code",
   "execution_count": 8,
   "id": "6c314a97",
   "metadata": {},
   "outputs": [],
   "source": [
    "answer = 0\n",
    "\n",
    "for a, b in zip(absolutes, signs):\n",
    "    if b:\n",
    "        answer += a\n",
    "    else:\n",
    "        answer += a * -1"
   ]
  },
  {
   "cell_type": "code",
   "execution_count": 9,
   "id": "df04b01f",
   "metadata": {},
   "outputs": [
    {
     "data": {
      "text/plain": [
       "0"
      ]
     },
     "execution_count": 9,
     "metadata": {},
     "output_type": "execute_result"
    }
   ],
   "source": [
    "answer"
   ]
  },
  {
   "cell_type": "code",
   "execution_count": 13,
   "id": "29a1aa88",
   "metadata": {},
   "outputs": [
    {
     "data": {
      "text/plain": [
       "9"
      ]
     },
     "execution_count": 13,
     "metadata": {},
     "output_type": "execute_result"
    }
   ],
   "source": [
    "sum(absolutes if sign else -absolutes for absolutes, sign in zip(absolutes, signs))"
   ]
  },
  {
   "cell_type": "code",
   "execution_count": null,
   "id": "e7ac3bfb",
   "metadata": {},
   "outputs": [],
   "source": []
  },
  {
   "cell_type": "code",
   "execution_count": 14,
   "id": "f263a6f6",
   "metadata": {},
   "outputs": [],
   "source": [
    "numbers = [1,2,3,4,6,7,8,0]\n",
    "# 14"
   ]
  },
  {
   "cell_type": "code",
   "execution_count": null,
   "id": "4c1cf488",
   "metadata": {},
   "outputs": [],
   "source": [
    "numbers = [5,8,4,0,6,7,9]\n",
    "# 6"
   ]
  },
  {
   "cell_type": "code",
   "execution_count": 21,
   "id": "488e91ca",
   "metadata": {},
   "outputs": [],
   "source": [
    "answer = 0\n",
    "for i in range(0, 10):\n",
    "    if not i in numbers:\n",
    "        answer += i"
   ]
  },
  {
   "cell_type": "code",
   "execution_count": 22,
   "id": "a862c3e7",
   "metadata": {},
   "outputs": [
    {
     "data": {
      "text/plain": [
       "14"
      ]
     },
     "execution_count": 22,
     "metadata": {},
     "output_type": "execute_result"
    }
   ],
   "source": [
    "answer"
   ]
  },
  {
   "cell_type": "code",
   "execution_count": null,
   "id": "0d9d05a6",
   "metadata": {},
   "outputs": [],
   "source": [
    "return 45 - sum(numbers)"
   ]
  },
  {
   "cell_type": "code",
   "execution_count": 23,
   "id": "0854a11d",
   "metadata": {},
   "outputs": [
    {
     "data": {
      "text/plain": [
       "45"
      ]
     },
     "execution_count": 23,
     "metadata": {},
     "output_type": "execute_result"
    }
   ],
   "source": [
    "1+2+3+4+5+6+7+8+9"
   ]
  },
  {
   "cell_type": "code",
   "execution_count": 24,
   "id": "142c22bc",
   "metadata": {},
   "outputs": [
    {
     "data": {
      "text/plain": [
       "31"
      ]
     },
     "execution_count": 24,
     "metadata": {},
     "output_type": "execute_result"
    }
   ],
   "source": [
    "sum(numbers)"
   ]
  },
  {
   "cell_type": "code",
   "execution_count": 34,
   "id": "01db4120",
   "metadata": {},
   "outputs": [
    {
     "data": {
      "text/plain": [
       "31"
      ]
     },
     "execution_count": 34,
     "metadata": {},
     "output_type": "execute_result"
    }
   ],
   "source": [
    "sum(i for i in range(0, 10) if i in numbers)"
   ]
  },
  {
   "cell_type": "code",
   "execution_count": null,
   "id": "ea3036a5",
   "metadata": {},
   "outputs": [],
   "source": []
  },
  {
   "cell_type": "code",
   "execution_count": 71,
   "id": "45bf1772",
   "metadata": {},
   "outputs": [],
   "source": [
    "s = \"abcde\"\n",
    "# \"c\""
   ]
  },
  {
   "cell_type": "code",
   "execution_count": 82,
   "id": "0dbd6eb3",
   "metadata": {},
   "outputs": [],
   "source": [
    "s = \"qwer\"\n",
    "# \"we\""
   ]
  },
  {
   "cell_type": "code",
   "execution_count": 61,
   "id": "f637c5e9",
   "metadata": {},
   "outputs": [],
   "source": [
    "answer = ''\n",
    "\n",
    "if int(len(s)) % 2:\n",
    "    answer = s[int(len(s) / 2)]\n",
    "else:\n",
    "    answer += s[int(len(s) / 2)-1]\n",
    "    answer += s[int(len(s) / 2)]"
   ]
  },
  {
   "cell_type": "code",
   "execution_count": 62,
   "id": "0e75c822",
   "metadata": {},
   "outputs": [
    {
     "data": {
      "text/plain": [
       "'we'"
      ]
     },
     "execution_count": 62,
     "metadata": {},
     "output_type": "execute_result"
    }
   ],
   "source": [
    "answer"
   ]
  },
  {
   "cell_type": "code",
   "execution_count": null,
   "id": "b2ba34ee",
   "metadata": {},
   "outputs": [],
   "source": []
  },
  {
   "cell_type": "code",
   "execution_count": 83,
   "id": "db68fe4d",
   "metadata": {},
   "outputs": [
    {
     "data": {
      "text/plain": [
       "'we'"
      ]
     },
     "execution_count": 83,
     "metadata": {},
     "output_type": "execute_result"
    }
   ],
   "source": [
    "s[(len(s)-1)//2:len(s)//2+1]"
   ]
  },
  {
   "cell_type": "code",
   "execution_count": 84,
   "id": "4e3307bd",
   "metadata": {},
   "outputs": [
    {
     "data": {
      "text/plain": [
       "1"
      ]
     },
     "execution_count": 84,
     "metadata": {},
     "output_type": "execute_result"
    }
   ],
   "source": [
    "(len(s)-1)//2"
   ]
  },
  {
   "cell_type": "code",
   "execution_count": 85,
   "id": "8e595e42",
   "metadata": {},
   "outputs": [
    {
     "data": {
      "text/plain": [
       "3"
      ]
     },
     "execution_count": 85,
     "metadata": {},
     "output_type": "execute_result"
    }
   ],
   "source": [
    "len(s)//2+1"
   ]
  },
  {
   "cell_type": "code",
   "execution_count": 86,
   "id": "9a6fcfbe",
   "metadata": {},
   "outputs": [
    {
     "data": {
      "text/plain": [
       "'e'"
      ]
     },
     "execution_count": 86,
     "metadata": {},
     "output_type": "execute_result"
    }
   ],
   "source": [
    "s[2:3]"
   ]
  },
  {
   "cell_type": "code",
   "execution_count": 87,
   "id": "44d02cba",
   "metadata": {},
   "outputs": [
    {
     "data": {
      "text/plain": [
       "'we'"
      ]
     },
     "execution_count": 87,
     "metadata": {},
     "output_type": "execute_result"
    }
   ],
   "source": [
    "s[1:3]"
   ]
  },
  {
   "cell_type": "code",
   "execution_count": null,
   "id": "450f06fe",
   "metadata": {},
   "outputs": [],
   "source": []
  },
  {
   "cell_type": "code",
   "execution_count": null,
   "id": "c8ada42e",
   "metadata": {},
   "outputs": [],
   "source": []
  }
 ],
 "metadata": {
  "kernelspec": {
   "display_name": "hackerrank",
   "language": "python",
   "name": "hackerrank"
  },
  "language_info": {
   "codemirror_mode": {
    "name": "ipython",
    "version": 3
   },
   "file_extension": ".py",
   "mimetype": "text/x-python",
   "name": "python",
   "nbconvert_exporter": "python",
   "pygments_lexer": "ipython3",
   "version": "3.8.13"
  }
 },
 "nbformat": 4,
 "nbformat_minor": 5
}
