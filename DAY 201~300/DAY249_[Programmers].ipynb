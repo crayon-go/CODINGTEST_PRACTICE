{
 "cells": [
  {
   "cell_type": "code",
   "execution_count": 18,
   "id": "794773f5",
   "metadata": {},
   "outputs": [],
   "source": [
    "# 요청시각(초), 걸리는 시간(초), 분류 번호, 중요도\n",
    "jobs = [[1, 5, 2, 3],\n",
    "        [2, 2, 3, 2], \n",
    "        [3, 1, 3, 3], \n",
    "        [5, 2, 1, 5],\n",
    "        [7, 1, 1, 1],\n",
    "        [9, 1, 1, 1],\n",
    "        [10, 2, 2, 9]]\n",
    "# [2,1,2,3]"
   ]
  },
  {
   "cell_type": "code",
   "execution_count": null,
   "id": "83d4b74d",
   "metadata": {},
   "outputs": [],
   "source": [
    "# 요청시각(초), 걸리는 시간(초), 분류 번호, 중요도\n",
    "jobs = [[0, 2, 3, 1], [5, 3, 3, 1], [10, 2, 4, 1]]\n",
    "# [3, 4]"
   ]
  },
  {
   "cell_type": "code",
   "execution_count": null,
   "id": "71f87f24",
   "metadata": {},
   "outputs": [],
   "source": [
    "# 요청시각(초), 걸리는 시간(초), 분류 번호, 중요도\n",
    "jobs = [[0, 5, 1, 1], [2, 4, 3, 3], [3, 4, 4, 5], [5, 2, 3, 2]]\n",
    "# [1, 3, 4]"
   ]
  },
  {
   "cell_type": "code",
   "execution_count": 3,
   "id": "1fe091ae",
   "metadata": {},
   "outputs": [],
   "source": [
    "# 요청시각(초), 걸리는 시간(초), 분류 번호, 중요도\n",
    "jobs = [[1, 2, 1, 5],\n",
    "        [2, 1, 2, 100],\n",
    "        [3, 2, 1, 5],\n",
    "        [5, 2, 1, 5]]\n",
    "# [1, 2]"
   ]
  },
  {
   "cell_type": "code",
   "execution_count": 4,
   "id": "e8080039",
   "metadata": {},
   "outputs": [
    {
     "name": "stdout",
     "output_type": "stream",
     "text": [
      " \n",
      "-------------- current_time: 0\n",
      " \n",
      "-------------- current_time: 1\n",
      "--- queue\n",
      " \n",
      "-------------- current_time: 2\n",
      "--- queue\n",
      " \n",
      "-------------- current_time: 3\n",
      "--- queue\n",
      " \n",
      "-------------- current_time: 4\n",
      " \n",
      "-------------- current_time: 5\n",
      "--- queue\n"
     ]
    }
   ],
   "source": [
    "current_time = 0\n",
    "processing_jobs = []\n",
    "queue_jobs = {}\n",
    "answer = []\n",
    "now_working_time = 0\n",
    "\n",
    "while True:\n",
    "    print(\" \")\n",
    "    print(f\"-------------- current_time: {current_time}\")\n",
    "    \n",
    "    # 요청시각에 따라 Job Queue에 쌓아줌\n",
    "    if current_time == jobs[0][0]:\n",
    "        print(\"--- queue\")\n",
    "        request_time, work_time, category, score = jobs.pop(0)\n",
    "        \n",
    "        if category not in queue_jobs:\n",
    "            queue_jobs[category] = []\n",
    "        queue_jobs[category].append([request_time, work_time, score])\n",
    "\n",
    "\n",
    "    # 현재 작업 중인게 없을 때\n",
    "    if len(processing_jobs) == 0:\n",
    "#         if len(queue_jobs) != 0:\n",
    "            \n",
    "#             if answer[-1] == queue_jobs[0][2]  # 끝난 작업과 새로운 작업 카테고리가 같을때\n",
    "#                 request_time, work_time, category, score = queue_jobs.pop(0)\n",
    "#                 now_working_time = work_time  # 현재 작업 시간\n",
    "#                 answer.append(category)       # 현재 작업 카테고리\n",
    "                \n",
    "#             else:\n",
    "#                 # 카테고리가 다를 때,\n",
    "#                 # 중요도의 합이 가장 높은 것\n",
    "#                 # 중복 시 카테고리 낮은 번호\n",
    "                \n",
    "                \n",
    "#         else:\n",
    "#             pass\n",
    "    \n",
    "    # 작업 시간 감소\n",
    "    if now_working_time > 0\n",
    "        now_working_time -= 1\n",
    "    \n",
    "    # 무조건 돌아야 함\n",
    "    current_time += 1\n",
    "    \n",
    "    if len(jobs) == 0:\n",
    "        break"
   ]
  },
  {
   "cell_type": "code",
   "execution_count": 5,
   "id": "e8a294da",
   "metadata": {},
   "outputs": [
    {
     "data": {
      "text/plain": [
       "{1: [[1, 2, 5], [3, 2, 5], [5, 2, 5]], 2: [[2, 1, 100]]}"
      ]
     },
     "execution_count": 5,
     "metadata": {},
     "output_type": "execute_result"
    }
   ],
   "source": [
    "queue_jobs"
   ]
  },
  {
   "cell_type": "code",
   "execution_count": 10,
   "id": "e7a51626",
   "metadata": {},
   "outputs": [
    {
     "data": {
      "text/plain": [
       "[[1, 2, 5], [3, 2, 5], [5, 2, 5]]"
      ]
     },
     "execution_count": 10,
     "metadata": {},
     "output_type": "execute_result"
    }
   ],
   "source": [
    "queue_jobs[1]"
   ]
  },
  {
   "cell_type": "code",
   "execution_count": 13,
   "id": "af08d17b",
   "metadata": {},
   "outputs": [
    {
     "data": {
      "text/plain": [
       "[[1, 2, 5], [3, 2, 5], [5, 2, 5]]"
      ]
     },
     "execution_count": 13,
     "metadata": {},
     "output_type": "execute_result"
    }
   ],
   "source": [
    "queue_jobs[1]"
   ]
  },
  {
   "cell_type": "code",
   "execution_count": 15,
   "id": "2a192e78",
   "metadata": {},
   "outputs": [
    {
     "data": {
      "text/plain": [
       "15"
      ]
     },
     "execution_count": 15,
     "metadata": {},
     "output_type": "execute_result"
    }
   ],
   "source": [
    "sum([i[2] for i in queue_jobs[1]])"
   ]
  },
  {
   "cell_type": "code",
   "execution_count": 16,
   "id": "9278b0c7",
   "metadata": {},
   "outputs": [
    {
     "data": {
      "text/plain": [
       "[5, 7, 9]"
      ]
     },
     "execution_count": 16,
     "metadata": {},
     "output_type": "execute_result"
    }
   ],
   "source": [
    "list1 = [1,2,3]\n",
    "list2 = [4,5,6]\n",
    "[x+y for x,y in zip(list1, list2)]"
   ]
  },
  {
   "cell_type": "code",
   "execution_count": null,
   "id": "104f9c56",
   "metadata": {},
   "outputs": [],
   "source": []
  },
  {
   "cell_type": "code",
   "execution_count": null,
   "id": "a635238e",
   "metadata": {},
   "outputs": [],
   "source": []
  },
  {
   "cell_type": "code",
   "execution_count": null,
   "id": "215494c7",
   "metadata": {},
   "outputs": [],
   "source": [
    "# def solution(jobs):\n",
    "#     categories = {}  # 분류별 작업 정보를 저장하는 딕셔너리\n",
    "#     for job in jobs:\n",
    "#         _, duration, category, _ = job\n",
    "#         if category not in categories:\n",
    "#             categories[category] = []\n",
    "#         categories[category].append((duration, job))\n",
    "    \n",
    "#     processed_categories = []  # 처리된 분류를 저장하는 리스트\n",
    "#     answer = []  # 처리한 분류 번호를 저장하는 리스트\n",
    "\n",
    "#     while categories:\n",
    "#         max_category = None\n",
    "#         max_category_sum = -1\n",
    "\n",
    "#         for category, jobs in categories.items():\n",
    "#             category_sum = sum([job[0] for job in jobs])\n",
    "#             if category_sum > max_category_sum or (category_sum == max_category_sum and category < max_category):\n",
    "#                 max_category = category\n",
    "#                 max_category_sum = category_sum\n",
    "        \n",
    "#         processed_categories.append(max_category)\n",
    "# #         answer.extend([job[1][2] for job in categories[max_category]])\n",
    "#         answer.append(max_category)\n",
    "# #         print(max_category)\n",
    "#         del categories[max_category]\n",
    "    \n",
    "#     return answer\n"
   ]
  },
  {
   "cell_type": "code",
   "execution_count": null,
   "id": "95b8d602",
   "metadata": {},
   "outputs": [],
   "source": []
  }
 ],
 "metadata": {
  "kernelspec": {
   "display_name": "color_extraction",
   "language": "python",
   "name": "color_extraction"
  },
  "language_info": {
   "codemirror_mode": {
    "name": "ipython",
    "version": 3
   },
   "file_extension": ".py",
   "mimetype": "text/x-python",
   "name": "python",
   "nbconvert_exporter": "python",
   "pygments_lexer": "ipython3",
   "version": "3.8.16"
  }
 },
 "nbformat": 4,
 "nbformat_minor": 5
}
