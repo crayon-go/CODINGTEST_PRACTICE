{
 "cells": [
  {
   "cell_type": "code",
   "execution_count": 73,
   "id": "1c04de9d",
   "metadata": {},
   "outputs": [],
   "source": [
    "survey = [\"AN\", \"CF\", \"MJ\", \"RT\", \"NA\"]\n",
    "choices = [5, 3, 2, 7, 5]\n",
    "# \"TCMA\""
   ]
  },
  {
   "cell_type": "code",
   "execution_count": 66,
   "id": "7b9e1b23",
   "metadata": {},
   "outputs": [],
   "source": [
    "survey = [\"TR\", \"RT\", \"TR\"]\n",
    "choices = [7, 1, 3]\n",
    "# \"RCJA\""
   ]
  },
  {
   "cell_type": "code",
   "execution_count": null,
   "id": "2256069f",
   "metadata": {},
   "outputs": [],
   "source": [
    "# 1번 지표\t라이언형(R), 튜브형(T)\n",
    "# 2번 지표\t콘형(C),    프로도형(F)\n",
    "# 3번 지표\t제이지형(J), 무지형(M)\n",
    "# 4번 지표\t어피치형(A), 네오형(N)"
   ]
  },
  {
   "cell_type": "code",
   "execution_count": null,
   "id": "2c270631",
   "metadata": {},
   "outputs": [],
   "source": [
    "# 1\t매우 비동의\n",
    "# 2\t비동의\n",
    "# 3\t약간 비동의\n",
    "# 4\t모르겠음\n",
    "# 5\t약간 동의\n",
    "# 6\t동의\n",
    "# 7\t매우 동의"
   ]
  },
  {
   "cell_type": "code",
   "execution_count": 76,
   "id": "dc5bf4a1",
   "metadata": {},
   "outputs": [
    {
     "data": {
      "text/plain": [
       "'TCMA'"
      ]
     },
     "execution_count": 76,
     "metadata": {},
     "output_type": "execute_result"
    }
   ],
   "source": [
    "my_dict = {\"RT\":0,\n",
    "           \"CF\":0,\n",
    "           \"JM\":0,\n",
    "           \"AN\":0}\n",
    "\n",
    "for A,B in zip(survey,choices):\n",
    "    if A not in my_dict.keys():\n",
    "        A = A[::-1]\n",
    "        my_dict[A] -= B-4\n",
    "    else:\n",
    "        my_dict[A] += B-4\n",
    "\n",
    "result = \"\"\n",
    "for name in my_dict.keys():\n",
    "    if my_dict[name] > 0:\n",
    "        result += name[1]\n",
    "    elif my_dict[name] < 0:\n",
    "        result += name[0]\n",
    "    else:\n",
    "        result += sorted(name)[0]\n",
    "\n",
    "result"
   ]
  },
  {
   "cell_type": "code",
   "execution_count": 77,
   "id": "88d05fef",
   "metadata": {},
   "outputs": [
    {
     "data": {
      "text/plain": [
       "{'RT': 3, 'CF': -1, 'JM': 2, 'AN': 0}"
      ]
     },
     "execution_count": 77,
     "metadata": {},
     "output_type": "execute_result"
    }
   ],
   "source": [
    "my_dict"
   ]
  },
  {
   "cell_type": "code",
   "execution_count": null,
   "id": "298b06d8",
   "metadata": {},
   "outputs": [],
   "source": []
  },
  {
   "cell_type": "code",
   "execution_count": null,
   "id": "e402cbb5",
   "metadata": {},
   "outputs": [],
   "source": []
  },
  {
   "cell_type": "code",
   "execution_count": 71,
   "id": "25abc6b7",
   "metadata": {},
   "outputs": [
    {
     "name": "stdout",
     "output_type": "stream",
     "text": [
      "['R', 'T']\n",
      "['C', 'F']\n",
      "['J', 'M']\n",
      "['A', 'N']\n"
     ]
    }
   ],
   "source": [
    "answer = ''\n",
    "\n",
    "indicator = [[\"R\", \"T\"],\n",
    "             [\"C\", \"F\"],\n",
    "             [\"J\", \"M\"],\n",
    "             [\"A\", \"N\"]]\n",
    "dict_indi = {\n",
    "    \"R\":0, \"T\":0,\n",
    "    \"C\":0, \"F\":0,\n",
    "    \"J\":0, \"M\":0,\n",
    "    \"A\":0, \"N\":0\n",
    "}\n",
    "\n",
    "for a, b, in zip(survey, choices):\n",
    "    if b < 4:\n",
    "        dict_indi[a[0]] += 4-b\n",
    "    elif b > 4:\n",
    "        dict_indi[a[1]] += b-4\n",
    "\n",
    "for i in indicator:\n",
    "    if dict_indi[i[0]] < dict_indi[i[1]]:\n",
    "        answer += i[1]\n",
    "    elif dict_indi[i[0]] > dict_indi[i[1]]:\n",
    "        answer += i[0]\n",
    "    elif dict_indi[i[0]] == dict_indi[i[1]]:\n",
    "        answer += i[0]"
   ]
  },
  {
   "cell_type": "code",
   "execution_count": null,
   "id": "82843eb7",
   "metadata": {},
   "outputs": [],
   "source": []
  },
  {
   "cell_type": "code",
   "execution_count": null,
   "id": "9447b115",
   "metadata": {},
   "outputs": [],
   "source": []
  },
  {
   "cell_type": "code",
   "execution_count": null,
   "id": "6bc9de04",
   "metadata": {},
   "outputs": [],
   "source": []
  }
 ],
 "metadata": {
  "kernelspec": {
   "display_name": "color_extraction",
   "language": "python",
   "name": "color_extraction"
  },
  "language_info": {
   "codemirror_mode": {
    "name": "ipython",
    "version": 3
   },
   "file_extension": ".py",
   "mimetype": "text/x-python",
   "name": "python",
   "nbconvert_exporter": "python",
   "pygments_lexer": "ipython3",
   "version": "3.8.16"
  }
 },
 "nbformat": 4,
 "nbformat_minor": 5
}
