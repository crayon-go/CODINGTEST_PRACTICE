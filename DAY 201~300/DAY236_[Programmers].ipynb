{
 "cells": [
  {
   "cell_type": "code",
   "execution_count": null,
   "id": "cbfffe01",
   "metadata": {},
   "outputs": [],
   "source": [
    "grid = [[1, 1, 0, 0], \n",
    "        [1, 1, 0, 0], \n",
    "        [0, 0, 0, 1], \n",
    "        [0, 0, 1, 1]]"
   ]
  },
  {
   "cell_type": "code",
   "execution_count": null,
   "id": "f543352c",
   "metadata": {},
   "outputs": [],
   "source": [
    "answer = 0\n",
    "\n",
    "def find_grid(i, j):\n",
    "    if i < 0 or i >= m or j < 0 or j >= n:\n",
    "        return 0\n",
    "\n",
    "    if grid[i][j] == 0 or result_grid[i][j]:\n",
    "        return 0\n",
    "\n",
    "    result_grid[i][j] = 1\n",
    "    size = 1\n",
    "    size += find_grid(i+1, j)\n",
    "    size += find_grid(i-1, j)\n",
    "    size += find_grid(i, j+1)\n",
    "    size += find_grid(i, j-1)\n",
    "\n",
    "    return size\n",
    "\n",
    "for i in range(m):\n",
    "    for j in range(n):\n",
    "        if grid[i][j] == 1 and not result_grid[i][j]:\n",
    "            size = find_grid(i, j)\n",
    "            answer = max(answer, size)"
   ]
  },
  {
   "cell_type": "code",
   "execution_count": null,
   "id": "862504ca",
   "metadata": {},
   "outputs": [],
   "source": []
  },
  {
   "cell_type": "code",
   "execution_count": null,
   "id": "ddb72ff8",
   "metadata": {},
   "outputs": [],
   "source": []
  },
  {
   "cell_type": "code",
   "execution_count": null,
   "id": "5be8e237",
   "metadata": {},
   "outputs": [],
   "source": []
  },
  {
   "cell_type": "code",
   "execution_count": null,
   "id": "cdca126d",
   "metadata": {},
   "outputs": [],
   "source": []
  },
  {
   "cell_type": "code",
   "execution_count": null,
   "id": "6ab507e7",
   "metadata": {},
   "outputs": [],
   "source": []
  },
  {
   "cell_type": "code",
   "execution_count": null,
   "id": "66ce64c7",
   "metadata": {},
   "outputs": [],
   "source": []
  },
  {
   "cell_type": "code",
   "execution_count": null,
   "id": "a72f14be",
   "metadata": {},
   "outputs": [],
   "source": []
  },
  {
   "cell_type": "code",
   "execution_count": null,
   "id": "c129d604",
   "metadata": {},
   "outputs": [],
   "source": []
  },
  {
   "cell_type": "code",
   "execution_count": null,
   "id": "e6e35cc8",
   "metadata": {},
   "outputs": [],
   "source": []
  }
 ],
 "metadata": {
  "kernelspec": {
   "display_name": "hackerrank",
   "language": "python",
   "name": "hackerrank"
  },
  "language_info": {
   "codemirror_mode": {
    "name": "ipython",
    "version": 3
   },
   "file_extension": ".py",
   "mimetype": "text/x-python",
   "name": "python",
   "nbconvert_exporter": "python",
   "pygments_lexer": "ipython3",
   "version": "3.9.12"
  }
 },
 "nbformat": 4,
 "nbformat_minor": 5
}
