{
 "cells": [
  {
   "cell_type": "code",
   "execution_count": 18,
   "id": "794773f5",
   "metadata": {},
   "outputs": [],
   "source": [
    "score = [\n",
    "    [900,800,850,890,910],\n",
    "    [400,600,450,500,350],\n",
    "    [500,50,150,30,200],\n",
    "    [950,970,970,999,890]\n",
    "]\n",
    "# [2,6,9,1]"
   ]
  },
  {
   "cell_type": "code",
   "execution_count": 19,
   "id": "fa9096db",
   "metadata": {},
   "outputs": [],
   "source": [
    "def calculate_credit_rating(num):\n",
    "    if num > 900:    return 1\n",
    "    elif 900 >= num > 800:    return 2\n",
    "    elif 800 >= num > 700:    return 3\n",
    "    elif 700 >= num > 600:    return 4\n",
    "    elif 600 >= num > 500:    return 5\n",
    "    elif 500 >= num > 400:    return 6\n",
    "    elif 400 >= num > 300:    return 7\n",
    "    elif 300 >= num > 200:    return 8\n",
    "    elif 200 >= num:    return 9"
   ]
  },
  {
   "cell_type": "code",
   "execution_count": 20,
   "id": "60880c62",
   "metadata": {
    "scrolled": true
   },
   "outputs": [
    {
     "name": "stdout",
     "output_type": "stream",
     "text": [
      "[2, 6, 9, 1]\n",
      "CPU times: user 221 µs, sys: 60 µs, total: 281 µs\n",
      "Wall time: 273 µs\n"
     ]
    }
   ],
   "source": [
    "%%time\n",
    "answer = []\n",
    "for i in score:\n",
    "    a = sorted(i)[1:-1]\n",
    "    answer.append(calculate_credit_rating(round(sum(a)/len(a),1)))\n",
    "print(answer)"
   ]
  },
  {
   "cell_type": "code",
   "execution_count": 21,
   "id": "a54241ae",
   "metadata": {},
   "outputs": [
    {
     "name": "stdout",
     "output_type": "stream",
     "text": [
      "[2, 6, 9, 1]\n",
      "CPU times: user 269 µs, sys: 65 µs, total: 334 µs\n",
      "Wall time: 326 µs\n"
     ]
    }
   ],
   "source": [
    "%%time\n",
    "answer = []\n",
    "for i in score:\n",
    "    i.remove(min(i))\n",
    "    i.remove(max(i))\n",
    "    answer.append(calculate_credit_rating(round(sum(i)/len(i),1)))\n",
    "print(answer)"
   ]
  },
  {
   "cell_type": "code",
   "execution_count": 10,
   "id": "ad067ee8",
   "metadata": {},
   "outputs": [],
   "source": [
    "aa = [400, 600, 450, 500, 350]\n",
    "aa.remove(400)"
   ]
  },
  {
   "cell_type": "code",
   "execution_count": null,
   "id": "664b6217",
   "metadata": {},
   "outputs": [],
   "source": []
  },
  {
   "cell_type": "code",
   "execution_count": null,
   "id": "ca618ea3",
   "metadata": {},
   "outputs": [],
   "source": []
  },
  {
   "cell_type": "code",
   "execution_count": null,
   "id": "95b8d602",
   "metadata": {},
   "outputs": [],
   "source": []
  }
 ],
 "metadata": {
  "kernelspec": {
   "display_name": "color_extraction",
   "language": "python",
   "name": "color_extraction"
  },
  "language_info": {
   "codemirror_mode": {
    "name": "ipython",
    "version": 3
   },
   "file_extension": ".py",
   "mimetype": "text/x-python",
   "name": "python",
   "nbconvert_exporter": "python",
   "pygments_lexer": "ipython3",
   "version": "3.8.16"
  }
 },
 "nbformat": 4,
 "nbformat_minor": 5
}
