{
 "cells": [
  {
   "cell_type": "code",
   "execution_count": 64,
   "id": "f04173a4",
   "metadata": {},
   "outputs": [],
   "source": [
    "# s = \"abcabcadc\"  # \"d\"\n",
    "# s = \"abdc\"  # \"abcd\"\n",
    "s = \"hello\"  # \"eho\"\n",
    "s = \"olleh\""
   ]
  },
  {
   "cell_type": "code",
   "execution_count": 78,
   "id": "b7f0b579",
   "metadata": {},
   "outputs": [],
   "source": [
    "ss = list(set([i for i in s]))\n",
    "\n",
    "answer = ''\n",
    "for i in ss:\n",
    "    if s.count(i) == 1:\n",
    "        answer += i\n",
    "answer = ''.join(sorted(answer))"
   ]
  },
  {
   "cell_type": "code",
   "execution_count": 79,
   "id": "282cc014",
   "metadata": {},
   "outputs": [
    {
     "data": {
      "text/plain": [
       "'eho'"
      ]
     },
     "execution_count": 79,
     "metadata": {},
     "output_type": "execute_result"
    }
   ],
   "source": [
    "answer"
   ]
  },
  {
   "cell_type": "code",
   "execution_count": null,
   "id": "a2ace7a7",
   "metadata": {},
   "outputs": [],
   "source": []
  },
  {
   "cell_type": "code",
   "execution_count": 80,
   "id": "214c67da",
   "metadata": {},
   "outputs": [
    {
     "data": {
      "text/plain": [
       "'eho'"
      ]
     },
     "execution_count": 80,
     "metadata": {},
     "output_type": "execute_result"
    }
   ],
   "source": [
    "answer = \"\".join(sorted([ ch for ch in s if s.count(ch) == 1]))\n",
    "answer"
   ]
  },
  {
   "cell_type": "code",
   "execution_count": null,
   "id": "7c4bc2b6",
   "metadata": {},
   "outputs": [],
   "source": []
  },
  {
   "cell_type": "code",
   "execution_count": 81,
   "id": "e1558e6a",
   "metadata": {},
   "outputs": [
    {
     "data": {
      "text/plain": [
       "'eho'"
      ]
     },
     "execution_count": 81,
     "metadata": {},
     "output_type": "execute_result"
    }
   ],
   "source": [
    "from collections import defaultdict\n",
    "\n",
    "\n",
    "s_dict = defaultdict(set)\n",
    "\n",
    "for v in set(s):\n",
    "    s_dict[s.count(v)].add(v)\n",
    "\"\".join(sorted(sorted(s_dict.items(), key=lambda v: v[0])[0][1]))"
   ]
  },
  {
   "cell_type": "code",
   "execution_count": null,
   "id": "1c5cf406",
   "metadata": {},
   "outputs": [],
   "source": []
  }
 ],
 "metadata": {
  "kernelspec": {
   "display_name": "hackerrank",
   "language": "python",
   "name": "hackerrank"
  },
  "language_info": {
   "codemirror_mode": {
    "name": "ipython",
    "version": 3
   },
   "file_extension": ".py",
   "mimetype": "text/x-python",
   "name": "python",
   "nbconvert_exporter": "python",
   "pygments_lexer": "ipython3",
   "version": "3.9.12"
  }
 },
 "nbformat": 4,
 "nbformat_minor": 5
}
