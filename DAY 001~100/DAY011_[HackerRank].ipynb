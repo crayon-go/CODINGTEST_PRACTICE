{
 "cells": [
  {
   "cell_type": "code",
   "execution_count": 22,
   "id": "2e83a2f1",
   "metadata": {},
   "outputs": [],
   "source": [
    "#!/bin/python3\n",
    "\n",
    "import math\n",
    "import os\n",
    "import random\n",
    "import re\n",
    "import sys\n",
    "from itertools import permutations"
   ]
  },
  {
   "cell_type": "code",
   "execution_count": 23,
   "id": "ec989be3",
   "metadata": {},
   "outputs": [],
   "source": [
    "# Example 1\n",
    "n = 4\n",
    "arr = [-6, 3, 4, -10]\n",
    "# ==> [3, 4, -6, -10]\n",
    "# ==> psum = [3, 7, 1, -9] with 3 positive elements"
   ]
  },
  {
   "cell_type": "code",
   "execution_count": 21,
   "id": "02e2b228",
   "metadata": {},
   "outputs": [],
   "source": [
    "# Example 2\n",
    "n = 4\n",
    "arr = [-3, 0, 2, 1]\n",
    "# ==> [2, 0, 1, -3]\n",
    "# ==> psum = [2, 2, 3, 0] with 3 positive elements"
   ]
  },
  {
   "cell_type": "code",
   "execution_count": null,
   "id": "2da4c2ec",
   "metadata": {},
   "outputs": [],
   "source": [
    "# Example 3\n",
    "n = 3\n",
    "arr = [-3, 0, -2]\n",
    "# ==> [0, -2, -3]\n",
    "# ==> psum = [0, -2, -5] with 0 positive elements"
   ]
  },
  {
   "cell_type": "code",
   "execution_count": 24,
   "id": "57096ca1",
   "metadata": {},
   "outputs": [],
   "source": [
    "re_arr = []\n",
    "re_arr = list(permutations(arr, n))\n",
    "\n",
    "psum = []"
   ]
  },
  {
   "cell_type": "code",
   "execution_count": 27,
   "id": "9b363566",
   "metadata": {},
   "outputs": [
    {
     "name": "stdout",
     "output_type": "stream",
     "text": [
      "3\n"
     ]
    }
   ],
   "source": [
    "for li in re_arr:\n",
    "    positive_num = 0\n",
    "\n",
    "    for idx, i in enumerate(li):\n",
    "        if idx == 0:    # 처음 한번만\n",
    "            pre_n = i\n",
    "\n",
    "            if i > 0:\n",
    "                positive_num += 1\n",
    "            \n",
    "            continue\n",
    "        \n",
    "        if pre_n + i > 0:    # 두번째부터\n",
    "            positive_num += 1\n",
    "        \n",
    "        pre_n += i\n",
    "\n",
    "    psum.append(positive_num)\n",
    "\n",
    "print(max(psum))"
   ]
  },
  {
   "cell_type": "code",
   "execution_count": null,
   "id": "8d526ec5",
   "metadata": {},
   "outputs": [],
   "source": []
  },
  {
   "cell_type": "code",
   "execution_count": 1,
   "id": "bc3e0b18",
   "metadata": {},
   "outputs": [],
   "source": [
    "#!/bin/python3\n",
    "\n",
    "import math\n",
    "import os\n",
    "import random\n",
    "import re\n",
    "import sys\n",
    "from collections import defaultdict"
   ]
  },
  {
   "cell_type": "code",
   "execution_count": 2,
   "id": "d1237fbc",
   "metadata": {},
   "outputs": [],
   "source": [
    "# Alex  -3\n",
    "# Blake  -3\n",
    "debts = [['Alex', 'Blake', '2'], \n",
    "         ['Blake', 'Alex', '2'], \n",
    "         ['Casey', 'Alex', '5'], \n",
    "         ['Blake', 'Casey', '7'], \n",
    "         ['Alex', 'Blake', '4'], \n",
    "         ['Alex', 'Casey', '4']]"
   ]
  },
  {
   "cell_type": "code",
   "execution_count": null,
   "id": "426f5470",
   "metadata": {},
   "outputs": [],
   "source": [
    "# casey  -13\n",
    "debts = [['Alex', 'Blake', '5'], \n",
    "         ['Blake', 'Alex', '3'], \n",
    "         ['Casey', 'Alex', '7'], \n",
    "         ['Casey', 'Alex', '4'], \n",
    "         ['Casey', 'Alex', '2']]"
   ]
  },
  {
   "cell_type": "code",
   "execution_count": null,
   "id": "74ec841f",
   "metadata": {},
   "outputs": [],
   "source": [
    "# \"Nobody has a negative balance\"\n",
    "debts = [['Blake', 'Alex', '7'], \n",
    "        ['Blake', 'Alex', '3'], \n",
    "        ['Alex', 'Blake', '4'], \n",
    "        ['Blake', 'Alex', '1'], \n",
    "        ['Alex', 'Blake', '7']]"
   ]
  },
  {
   "cell_type": "code",
   "execution_count": 3,
   "id": "eb653e60",
   "metadata": {},
   "outputs": [
    {
     "name": "stdout",
     "output_type": "stream",
     "text": [
      "['Alex', 'Blake']\n"
     ]
    }
   ],
   "source": [
    "dict_debts = defaultdict(int)\n",
    "for i in debts:\n",
    "    dict_debts[i[0]] -= int(i[2])\n",
    "    dict_debts[i[1]] += int(i[2])\n",
    "\n",
    "list_min = [k for k, v in dict_debts.items() if min(dict_debts.values()) == v]\n",
    "list_min.sort()\n",
    "list_min\n",
    "# 둘다 0 일때\n",
    "if dict_debts[list_min[0]] == 0:\n",
    "    print(\"Nobody has a negative balance\")\n",
    "elif dict_debts[list_min[0]] < 0:\n",
    "    print(list_min)\n"
   ]
  },
  {
   "cell_type": "code",
   "execution_count": null,
   "id": "55f453f5",
   "metadata": {},
   "outputs": [],
   "source": []
  },
  {
   "cell_type": "code",
   "execution_count": null,
   "id": "28e5a4a7",
   "metadata": {},
   "outputs": [],
   "source": []
  },
  {
   "cell_type": "code",
   "execution_count": 1,
   "id": "835bd9e7",
   "metadata": {},
   "outputs": [],
   "source": [
    "#!/bin/python3\n",
    "\n",
    "import math\n",
    "import os\n",
    "import random\n",
    "import re\n",
    "import sys\n"
   ]
  },
  {
   "cell_type": "code",
   "execution_count": 15,
   "id": "48fdc489",
   "metadata": {},
   "outputs": [],
   "source": [
    "grid = [[ 0, 0 ],\n",
    "        [ 0, 0 ]]"
   ]
  },
  {
   "cell_type": "code",
   "execution_count": 9,
   "id": "ff0a5c2e",
   "metadata": {},
   "outputs": [],
   "source": [
    "grid = [[1, 1, 1], \n",
    "        [1, 0, 1],\n",
    "        [1, 1, 1]]"
   ]
  },
  {
   "cell_type": "code",
   "execution_count": 11,
   "id": "669f28cd",
   "metadata": {},
   "outputs": [],
   "source": [
    "grid = [[ 0, 0, 0 ],\n",
    "        [ 0, 1, 0 ],\n",
    "        [ 0, 0, 0 ]]"
   ]
  },
  {
   "cell_type": "code",
   "execution_count": 17,
   "id": "1e523ede",
   "metadata": {},
   "outputs": [],
   "source": [
    "grid = [[ 0, 0, 0, 0 ],\n",
    "        [ 0, 0, 0, 0 ],\n",
    "        [ 0, 0, 0, 0 ]]"
   ]
  },
  {
   "cell_type": "code",
   "execution_count": 5,
   "id": "a9aa1026",
   "metadata": {},
   "outputs": [],
   "source": [
    "grid = [[ 0, 0 ],\n",
    "        [ 1, 0 ]]"
   ]
  },
  {
   "cell_type": "code",
   "execution_count": 21,
   "id": "8cc709ba",
   "metadata": {},
   "outputs": [
    {
     "name": "stdout",
     "output_type": "stream",
     "text": [
      "3 4\n",
      "10\n"
     ]
    }
   ],
   "source": [
    "def UniquePathHelper(i, j, row, column, A):\n",
    "   \n",
    "    # boundary condition or constraints\n",
    "    if(i == row or j == column):\n",
    "        return 0\n",
    "     \n",
    "    if(A[i][j] == 1):\n",
    "        return 0\n",
    "     \n",
    "    # base case\n",
    "    if(i == row - 1 and j == column - 1):\n",
    "        return 1\n",
    " \n",
    "    return  UniquePathHelper(i+1, j, row, column, A) + UniquePathHelper(i, j+1, row, column, A)\n",
    " \n",
    "def uniquePathsWithObstacles(A):\n",
    "    row, column = len(A), len(A[0])\n",
    "    print(row, column)\n",
    "     \n",
    "    return UniquePathHelper(0, 0, row, column, A)\n",
    " \n",
    "\n",
    "                              \n",
    "print(uniquePathsWithObstacles(grid))                                          \n"
   ]
  },
  {
   "cell_type": "code",
   "execution_count": null,
   "id": "15606ca2",
   "metadata": {},
   "outputs": [],
   "source": []
  },
  {
   "cell_type": "code",
   "execution_count": null,
   "id": "ed02cdc9",
   "metadata": {},
   "outputs": [],
   "source": []
  },
  {
   "cell_type": "code",
   "execution_count": null,
   "id": "9edfef59",
   "metadata": {},
   "outputs": [],
   "source": []
  }
 ],
 "metadata": {
  "kernelspec": {
   "display_name": "hackerrank",
   "language": "python",
   "name": "hackerrank"
  },
  "language_info": {
   "codemirror_mode": {
    "name": "ipython",
    "version": 3
   },
   "file_extension": ".py",
   "mimetype": "text/x-python",
   "name": "python",
   "nbconvert_exporter": "python",
   "pygments_lexer": "ipython3",
   "version": "3.8.13"
  }
 },
 "nbformat": 4,
 "nbformat_minor": 5
}
