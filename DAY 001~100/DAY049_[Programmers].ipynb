{
 "cells": [
  {
   "cell_type": "code",
   "execution_count": 1,
   "id": "82aaadd6",
   "metadata": {},
   "outputs": [],
   "source": [
    "my_list = ['1', '100', '33']\n",
    "answer = ''.join(my_list)"
   ]
  },
  {
   "cell_type": "code",
   "execution_count": 2,
   "id": "64f30357",
   "metadata": {},
   "outputs": [
    {
     "data": {
      "text/plain": [
       "'110033'"
      ]
     },
     "execution_count": 2,
     "metadata": {},
     "output_type": "execute_result"
    }
   ],
   "source": [
    "answer"
   ]
  },
  {
   "cell_type": "code",
   "execution_count": null,
   "id": "c7481cc2",
   "metadata": {},
   "outputs": [],
   "source": []
  },
  {
   "cell_type": "code",
   "execution_count": 3,
   "id": "fca37976",
   "metadata": {},
   "outputs": [
    {
     "name": "stdout",
     "output_type": "stream",
     "text": [
      "3\n",
      "***\n"
     ]
    }
   ],
   "source": [
    "n = int(input().strip())\n",
    "print('*'*n)"
   ]
  },
  {
   "cell_type": "code",
   "execution_count": 67,
   "id": "110d967d",
   "metadata": {},
   "outputs": [
    {
     "name": "stdout",
     "output_type": "stream",
     "text": [
      "\n",
      "*\n",
      "**\n",
      "***\n",
      "****\n",
      "*****\n"
     ]
    }
   ],
   "source": [
    "n = 5\n",
    "\n",
    "for i in range(n+1):\n",
    "    print('*' * i)"
   ]
  },
  {
   "cell_type": "code",
   "execution_count": 13,
   "id": "f068d265",
   "metadata": {},
   "outputs": [
    {
     "name": "stdout",
     "output_type": "stream",
     "text": [
      "abcabcabc\n"
     ]
    }
   ],
   "source": [
    "answer = ''\n",
    "n = 3\n",
    "for _ in range(n):\n",
    "    answer += 'abc'\n",
    "print(answer)"
   ]
  },
  {
   "cell_type": "code",
   "execution_count": 15,
   "id": "021b86e7",
   "metadata": {},
   "outputs": [
    {
     "name": "stdout",
     "output_type": "stream",
     "text": [
      "abcabcabc\n"
     ]
    }
   ],
   "source": [
    "n = 3\n",
    "answer = 'abc' * n\n",
    "print(answer)"
   ]
  },
  {
   "cell_type": "code",
   "execution_count": 16,
   "id": "94fda98d",
   "metadata": {},
   "outputs": [
    {
     "data": {
      "text/plain": [
       "'abcdabcd'"
      ]
     },
     "execution_count": 16,
     "metadata": {},
     "output_type": "execute_result"
    }
   ],
   "source": [
    "'abcd'* 2"
   ]
  },
  {
   "cell_type": "code",
   "execution_count": 17,
   "id": "071de377",
   "metadata": {},
   "outputs": [
    {
     "name": "stdout",
     "output_type": "stream",
     "text": [
      "[123, 456, 123, 456, 123, 456]\n"
     ]
    }
   ],
   "source": [
    "n = 3\n",
    "answer = [123, 456] * n\n",
    "print(answer)"
   ]
  },
  {
   "cell_type": "code",
   "execution_count": 20,
   "id": "d8ee6aea",
   "metadata": {
    "scrolled": true
   },
   "outputs": [
    {
     "name": "stdout",
     "output_type": "stream",
     "text": [
      "A x 1\n",
      "A x 2\n",
      "A x 3\n",
      "A x 4\n",
      "A y 1\n",
      "A y 2\n",
      "A y 3\n",
      "A y 4\n",
      "B x 1\n",
      "B x 2\n",
      "B x 3\n",
      "B x 4\n",
      "B y 1\n",
      "B y 2\n",
      "B y 3\n",
      "B y 4\n",
      "C x 1\n",
      "C x 2\n",
      "C x 3\n",
      "C x 4\n",
      "C y 1\n",
      "C y 2\n",
      "C y 3\n",
      "C y 4\n",
      "D x 1\n",
      "D x 2\n",
      "D x 3\n",
      "D x 4\n",
      "D y 1\n",
      "D y 2\n",
      "D y 3\n",
      "D y 4\n"
     ]
    }
   ],
   "source": [
    "iterable1 = 'ABCD'\n",
    "iterable2 = 'xy'\n",
    "iterable3 = '1234'\n",
    "\n",
    "for value1 in iterable1:\n",
    "    for value2 in iterable2:\n",
    "        for value3 in iterable3:\n",
    "            print(value1, value2, value3)"
   ]
  },
  {
   "cell_type": "code",
   "execution_count": 24,
   "id": "f3dfc5a4",
   "metadata": {
    "scrolled": true
   },
   "outputs": [
    {
     "data": {
      "text/plain": [
       "[('A', 'x', '1'),\n",
       " ('A', 'x', '2'),\n",
       " ('A', 'x', '3'),\n",
       " ('A', 'x', '4'),\n",
       " ('A', 'y', '1'),\n",
       " ('A', 'y', '2'),\n",
       " ('A', 'y', '3'),\n",
       " ('A', 'y', '4'),\n",
       " ('B', 'x', '1'),\n",
       " ('B', 'x', '2'),\n",
       " ('B', 'x', '3'),\n",
       " ('B', 'x', '4'),\n",
       " ('B', 'y', '1'),\n",
       " ('B', 'y', '2'),\n",
       " ('B', 'y', '3'),\n",
       " ('B', 'y', '4'),\n",
       " ('C', 'x', '1'),\n",
       " ('C', 'x', '2'),\n",
       " ('C', 'x', '3'),\n",
       " ('C', 'x', '4'),\n",
       " ('C', 'y', '1'),\n",
       " ('C', 'y', '2'),\n",
       " ('C', 'y', '3'),\n",
       " ('C', 'y', '4'),\n",
       " ('D', 'x', '1'),\n",
       " ('D', 'x', '2'),\n",
       " ('D', 'x', '3'),\n",
       " ('D', 'x', '4'),\n",
       " ('D', 'y', '1'),\n",
       " ('D', 'y', '2'),\n",
       " ('D', 'y', '3'),\n",
       " ('D', 'y', '4')]"
      ]
     },
     "execution_count": 24,
     "metadata": {},
     "output_type": "execute_result"
    }
   ],
   "source": [
    "import itertools\n",
    "\n",
    "iterable1 = 'ABCD'\n",
    "iterable2 = 'xy'\n",
    "iterable3 = '1234'\n",
    "\n",
    "list(itertools.product(iterable1, iterable2, iterable3))"
   ]
  },
  {
   "cell_type": "code",
   "execution_count": null,
   "id": "94eb2143",
   "metadata": {},
   "outputs": [],
   "source": [
    "def solution(mylist):\n",
    "    answer = mylist[0]\n",
    "    return answer"
   ]
  },
  {
   "cell_type": "code",
   "execution_count": 43,
   "id": "a88c7c6f",
   "metadata": {},
   "outputs": [
    {
     "name": "stdout",
     "output_type": "stream",
     "text": [
      "['A', 'B', 'X', 'Y', '1']\n"
     ]
    }
   ],
   "source": [
    "answer = []\n",
    "mylist = [[1], [2]]\n",
    "mylist = [['A', 'B'], ['X', 'Y'], ['1']]\n",
    "for i in mylist:\n",
    "    for j in i:\n",
    "        answer.append(j)\n",
    "print(answer)"
   ]
  },
  {
   "cell_type": "code",
   "execution_count": 41,
   "id": "0160c9b2",
   "metadata": {},
   "outputs": [
    {
     "data": {
      "text/plain": [
       "[['A', 'B'], ['X', 'Y'], ['1']]"
      ]
     },
     "execution_count": 41,
     "metadata": {},
     "output_type": "execute_result"
    }
   ],
   "source": [
    "answer"
   ]
  },
  {
   "cell_type": "code",
   "execution_count": 62,
   "id": "250bf849",
   "metadata": {},
   "outputs": [
    {
     "name": "stdout",
     "output_type": "stream",
     "text": [
      "[1, 2, 3, 4, 5, 6]\n"
     ]
    }
   ],
   "source": [
    "my_list = [[1, 2], [3, 4], [5, 6]]\n",
    "answer = []\n",
    "for element in my_list:\n",
    "    answer += element\n",
    "print(answer)"
   ]
  },
  {
   "cell_type": "code",
   "execution_count": 63,
   "id": "c67e976c",
   "metadata": {},
   "outputs": [],
   "source": [
    "my_list = [[1, 2], [3, 4], [5, 6]]"
   ]
  },
  {
   "cell_type": "code",
   "execution_count": 50,
   "id": "f90bfd90",
   "metadata": {},
   "outputs": [
    {
     "data": {
      "text/plain": [
       "[1, 2, 3, 4, 5, 6]"
      ]
     },
     "execution_count": 50,
     "metadata": {},
     "output_type": "execute_result"
    }
   ],
   "source": [
    "# 방법 1 - sum 함수\n",
    "answer = sum(my_list, [])\n",
    "answer"
   ]
  },
  {
   "cell_type": "code",
   "execution_count": 54,
   "id": "82fa6ef0",
   "metadata": {},
   "outputs": [
    {
     "data": {
      "text/plain": [
       "[1, 2, 3, 4, 5, 6]"
      ]
     },
     "execution_count": 54,
     "metadata": {},
     "output_type": "execute_result"
    }
   ],
   "source": [
    "# 방법 2 - itertools.chain\n",
    "import itertools\n",
    "list(itertools.chain.from_iterable(my_list))"
   ]
  },
  {
   "cell_type": "code",
   "execution_count": 53,
   "id": "f59c073e",
   "metadata": {},
   "outputs": [
    {
     "data": {
      "text/plain": [
       "[1, 2, 3, 4, 5, 6]"
      ]
     },
     "execution_count": 53,
     "metadata": {},
     "output_type": "execute_result"
    }
   ],
   "source": [
    "# 방법 3 - itertools와 unpacking\n",
    "import itertools\n",
    "list(itertools.chain(*my_list))"
   ]
  },
  {
   "cell_type": "code",
   "execution_count": 55,
   "id": "098f4b80",
   "metadata": {},
   "outputs": [
    {
     "data": {
      "text/plain": [
       "[1, 2, 3, 4, 5, 6]"
      ]
     },
     "execution_count": 55,
     "metadata": {},
     "output_type": "execute_result"
    }
   ],
   "source": [
    "# 방법 4 - list comprehension 이용\n",
    "[element for array in my_list for element in array]"
   ]
  },
  {
   "cell_type": "code",
   "execution_count": 56,
   "id": "2c983f88",
   "metadata": {},
   "outputs": [
    {
     "data": {
      "text/plain": [
       "[1, 2, 3, 4, 5, 6]"
      ]
     },
     "execution_count": 56,
     "metadata": {},
     "output_type": "execute_result"
    }
   ],
   "source": [
    "# 방법 5 - reduce 함수 이용 1\n",
    "from functools import reduce\n",
    "list(reduce(lambda x, y: x+y, my_list))"
   ]
  },
  {
   "cell_type": "code",
   "execution_count": 57,
   "id": "5c11a313",
   "metadata": {},
   "outputs": [
    {
     "data": {
      "text/plain": [
       "[1, 2, 3, 4, 5, 6]"
      ]
     },
     "execution_count": 57,
     "metadata": {},
     "output_type": "execute_result"
    }
   ],
   "source": [
    "# 방법 6 - reduce 함수 이용 2\n",
    "from functools import reduce\n",
    "import operator\n",
    "list(reduce(operator.add, my_list))"
   ]
  },
  {
   "cell_type": "code",
   "execution_count": 64,
   "id": "5bb6372a",
   "metadata": {},
   "outputs": [
    {
     "data": {
      "text/plain": [
       "[1, 2, 3, 4, 5, 6]"
      ]
     },
     "execution_count": 64,
     "metadata": {},
     "output_type": "execute_result"
    }
   ],
   "source": [
    "import numpy as np\n",
    "np.array(my_list).flatten().tolist()"
   ]
  },
  {
   "cell_type": "code",
   "execution_count": 65,
   "id": "53c57a0c",
   "metadata": {},
   "outputs": [
    {
     "name": "stdout",
     "output_type": "stream",
     "text": [
      "[a = 1, b = 2] sum = 1 + 2 = 3\n",
      "[a = 3, b = 3] sum = 3 + 3 = 6\n",
      "[a = 6, b = 4] sum = 6 + 4 = 10\n",
      "[a = 10, b = 5] sum = 10 + 5 = 15\n",
      "total = 15\n"
     ]
    }
   ],
   "source": [
    "from functools import reduce\n",
    "\n",
    "def sum(a, b):\n",
    "    print(f\"[a = {a}, b = {b}] sum = {a} + {b} = {a+b}\")\n",
    "    return a + b\n",
    "\n",
    "numbers = [1, 2, 3, 4, 5]\n",
    "total = reduce(sum, numbers)\n",
    "print(f\"total = {total}\")"
   ]
  },
  {
   "cell_type": "code",
   "execution_count": null,
   "id": "93e746de",
   "metadata": {},
   "outputs": [],
   "source": []
  },
  {
   "cell_type": "code",
   "execution_count": null,
   "id": "14967ca1",
   "metadata": {},
   "outputs": [],
   "source": []
  },
  {
   "cell_type": "code",
   "execution_count": null,
   "id": "09a136ce",
   "metadata": {},
   "outputs": [],
   "source": []
  },
  {
   "cell_type": "code",
   "execution_count": null,
   "id": "b5648f4f",
   "metadata": {},
   "outputs": [],
   "source": []
  },
  {
   "cell_type": "code",
   "execution_count": null,
   "id": "82d7c0b3",
   "metadata": {},
   "outputs": [],
   "source": []
  },
  {
   "cell_type": "code",
   "execution_count": null,
   "id": "0111ddf1",
   "metadata": {},
   "outputs": [],
   "source": []
  }
 ],
 "metadata": {
  "kernelspec": {
   "display_name": "hackerrank",
   "language": "python",
   "name": "hackerrank"
  },
  "language_info": {
   "codemirror_mode": {
    "name": "ipython",
    "version": 3
   },
   "file_extension": ".py",
   "mimetype": "text/x-python",
   "name": "python",
   "nbconvert_exporter": "python",
   "pygments_lexer": "ipython3",
   "version": "3.9.12"
  }
 },
 "nbformat": 4,
 "nbformat_minor": 5
}
