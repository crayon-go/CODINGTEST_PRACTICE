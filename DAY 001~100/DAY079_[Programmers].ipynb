{
 "cells": [
  {
   "cell_type": "code",
   "execution_count": 14,
   "id": "843f7459",
   "metadata": {},
   "outputs": [],
   "source": [
    "answer = \"\"\n",
    "for i in rsp:\n",
    "    if i == \"2\":\n",
    "        answer += \"0\"\n",
    "    elif i == \"0\":\n",
    "        answer += \"5\"\n",
    "    elif i == \"5\":\n",
    "        answer += \"2\""
   ]
  },
  {
   "cell_type": "code",
   "execution_count": 15,
   "id": "8456ca2f",
   "metadata": {},
   "outputs": [
    {
     "data": {
      "text/plain": [
       "'052'"
      ]
     },
     "execution_count": 15,
     "metadata": {},
     "output_type": "execute_result"
    }
   ],
   "source": [
    "answer"
   ]
  },
  {
   "cell_type": "code",
   "execution_count": 19,
   "id": "e6983fb6",
   "metadata": {},
   "outputs": [
    {
     "data": {
      "text/plain": [
       "'052'"
      ]
     },
     "execution_count": 19,
     "metadata": {},
     "output_type": "execute_result"
    }
   ],
   "source": [
    "d = {\"2\":\"0\", \"0\":\"5\", \"5\":\"2\"}\n",
    "''.join(d[i] for i in rsp)"
   ]
  },
  {
   "cell_type": "code",
   "execution_count": 16,
   "id": "daa90976",
   "metadata": {},
   "outputs": [
    {
     "data": {
      "text/plain": [
       "'052'"
      ]
     },
     "execution_count": 16,
     "metadata": {},
     "output_type": "execute_result"
    }
   ],
   "source": [
    "d = {'0':'5','2':'0','5':'2'}\n",
    "''.join(d[i] for i in rsp)"
   ]
  },
  {
   "cell_type": "code",
   "execution_count": null,
   "id": "dacad22d",
   "metadata": {},
   "outputs": [],
   "source": []
  },
  {
   "cell_type": "code",
   "execution_count": null,
   "id": "7d686279",
   "metadata": {},
   "outputs": [],
   "source": []
  }
 ],
 "metadata": {
  "kernelspec": {
   "display_name": "hackerrank",
   "language": "python",
   "name": "hackerrank"
  },
  "language_info": {
   "codemirror_mode": {
    "name": "ipython",
    "version": 3
   },
   "file_extension": ".py",
   "mimetype": "text/x-python",
   "name": "python",
   "nbconvert_exporter": "python",
   "pygments_lexer": "ipython3",
   "version": "3.9.12"
  }
 },
 "nbformat": 4,
 "nbformat_minor": 5
}
