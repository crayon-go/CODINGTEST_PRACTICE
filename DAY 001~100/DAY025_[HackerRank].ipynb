{
 "cells": [
  {
   "cell_type": "code",
   "execution_count": 4,
   "id": "685b78d0",
   "metadata": {},
   "outputs": [],
   "source": [
    "from collections import Counter\n",
    "import pandas as pd\n",
    "import math"
   ]
  },
  {
   "cell_type": "code",
   "execution_count": 5,
   "id": "8f78fbdd",
   "metadata": {},
   "outputs": [],
   "source": [
    "def num_names(names, required_pct):\n",
    "    \"\"\"\n",
    "    :param names: (list) A list of first names.\n",
    "    :param required_pct: (int) The required percentage of the sample data to be preprinted.\n",
    "    :returns: (int) The minimum number of unique first names (or templates) that need to be prepared.\n",
    "    \"\"\"\n",
    "    len_list = len(names)\n",
    "    counter_dict = Counter(names)\n",
    "    sorted_dict = sorted(counter_dict.items(), key = lambda item: item[1], reverse = True)\n",
    "\n",
    "    sum_per = 0\n",
    "\n",
    "    num_name = 0\n",
    "    \n",
    "    for idx, dic in enumerate(sorted_dict):\n",
    "        sum_per += (dic[1] / len_list) * 100\n",
    "\n",
    "        if sum_per >= required_pct:\n",
    "            num_name = idx + 1\n",
    "            break\n",
    "\n",
    "    return num_name"
   ]
  },
  {
   "cell_type": "code",
   "execution_count": 6,
   "id": "fb2371f4",
   "metadata": {},
   "outputs": [
    {
     "name": "stdout",
     "output_type": "stream",
     "text": [
      "2\n"
     ]
    }
   ],
   "source": [
    "names = [\"James\", \"Sophia\", \"James\", \"Sophia\", \"James\", \"Sophia\", \"Emma\", \"Jack\"]\n",
    "print(num_names(names, 75))"
   ]
  }
 ],
 "metadata": {
  "kernelspec": {
   "display_name": "hackerrank",
   "language": "python",
   "name": "hackerrank"
  },
  "language_info": {
   "codemirror_mode": {
    "name": "ipython",
    "version": 3
   },
   "file_extension": ".py",
   "mimetype": "text/x-python",
   "name": "python",
   "nbconvert_exporter": "python",
   "pygments_lexer": "ipython3",
   "version": "3.9.12"
  }
 },
 "nbformat": 4,
 "nbformat_minor": 5
}
