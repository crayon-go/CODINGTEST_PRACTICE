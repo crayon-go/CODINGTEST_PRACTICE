{
 "cells": [
  {
   "cell_type": "code",
   "execution_count": 53,
   "id": "95575b96",
   "metadata": {},
   "outputs": [],
   "source": [
    "n = 12  # [2, 3]\n",
    "# n = 17  # [17]\n",
    "# n = 420  # [2, 3, 5, 7]\n",
    "# n = 2"
   ]
  },
  {
   "cell_type": "code",
   "execution_count": 54,
   "id": "7db000ed",
   "metadata": {},
   "outputs": [],
   "source": [
    "answer = []"
   ]
  },
  {
   "cell_type": "code",
   "execution_count": 43,
   "id": "38f7c8a5",
   "metadata": {},
   "outputs": [],
   "source": [
    "d = 2\n",
    "\n",
    "while d <= n:\n",
    "    if n % d == 0:\n",
    "        answer.append(d)\n",
    "        n = n / d\n",
    "    else:\n",
    "        d = d + 1\n",
    "\n",
    "answer = list(set(answer))"
   ]
  },
  {
   "cell_type": "code",
   "execution_count": 44,
   "id": "ac42058c",
   "metadata": {},
   "outputs": [
    {
     "data": {
      "text/plain": [
       "[2, 3]"
      ]
     },
     "execution_count": 44,
     "metadata": {},
     "output_type": "execute_result"
    }
   ],
   "source": [
    "answer"
   ]
  },
  {
   "cell_type": "code",
   "execution_count": null,
   "id": "14651333",
   "metadata": {},
   "outputs": [],
   "source": []
  },
  {
   "cell_type": "code",
   "execution_count": 48,
   "id": "8592089f",
   "metadata": {},
   "outputs": [
    {
     "data": {
      "text/plain": [
       "[2, 3]"
      ]
     },
     "execution_count": 48,
     "metadata": {},
     "output_type": "execute_result"
    }
   ],
   "source": [
    "\n",
    "answer = []\n",
    "q=[]\n",
    "for i in range(2,n+1):   #n의 약수 구하기\n",
    "    if n%i ==0:\n",
    "        q.append(i)    \n",
    "\n",
    "for i in q:  #n의 약수 중에서 소수 구하기\n",
    "    for j in range(2,5000):\n",
    "        if i*j in q:\n",
    "            q.remove(i*j)\n",
    "q.sort()\n",
    "q"
   ]
  },
  {
   "cell_type": "code",
   "execution_count": null,
   "id": "5ecb9dbe",
   "metadata": {},
   "outputs": [],
   "source": []
  },
  {
   "cell_type": "code",
   "execution_count": 50,
   "id": "683f61f3",
   "metadata": {},
   "outputs": [
    {
     "data": {
      "text/plain": [
       "[2, 3]"
      ]
     },
     "execution_count": 50,
     "metadata": {},
     "output_type": "execute_result"
    }
   ],
   "source": [
    "answer = []\n",
    "d = 2\n",
    "while d <= n:\n",
    "    if n % d == 0:\n",
    "        n /= d\n",
    "        if d not in answer:\n",
    "            answer.append(d)\n",
    "    else:\n",
    "        d += 1\n",
    "answer"
   ]
  },
  {
   "cell_type": "code",
   "execution_count": null,
   "id": "89799884",
   "metadata": {},
   "outputs": [],
   "source": []
  },
  {
   "cell_type": "code",
   "execution_count": 55,
   "id": "35de0b7c",
   "metadata": {},
   "outputs": [
    {
     "data": {
      "text/plain": [
       "[2, 3]"
      ]
     },
     "execution_count": 55,
     "metadata": {},
     "output_type": "execute_result"
    }
   ],
   "source": [
    "k = 2\n",
    "answer = []\n",
    "while n>1:\n",
    "    if n%k==0:\n",
    "        answer.append(k)\n",
    "        while n%k==0:\n",
    "            n//=k\n",
    "    k+=1\n",
    "\n",
    "answer"
   ]
  },
  {
   "cell_type": "code",
   "execution_count": null,
   "id": "1856531a",
   "metadata": {},
   "outputs": [],
   "source": []
  },
  {
   "cell_type": "code",
   "execution_count": null,
   "id": "050d4813",
   "metadata": {},
   "outputs": [],
   "source": []
  },
  {
   "cell_type": "code",
   "execution_count": null,
   "id": "902e24bf",
   "metadata": {},
   "outputs": [],
   "source": []
  },
  {
   "cell_type": "code",
   "execution_count": null,
   "id": "d281529e",
   "metadata": {},
   "outputs": [],
   "source": []
  },
  {
   "cell_type": "code",
   "execution_count": null,
   "id": "bc06579a",
   "metadata": {},
   "outputs": [],
   "source": []
  }
 ],
 "metadata": {
  "kernelspec": {
   "display_name": "hackerrank",
   "language": "python",
   "name": "hackerrank"
  },
  "language_info": {
   "codemirror_mode": {
    "name": "ipython",
    "version": 3
   },
   "file_extension": ".py",
   "mimetype": "text/x-python",
   "name": "python",
   "nbconvert_exporter": "python",
   "pygments_lexer": "ipython3",
   "version": "3.9.12"
  }
 },
 "nbformat": 4,
 "nbformat_minor": 5
}
