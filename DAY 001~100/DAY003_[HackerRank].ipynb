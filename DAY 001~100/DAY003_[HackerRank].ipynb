{
 "cells": [
  {
   "cell_type": "code",
   "execution_count": 1,
   "id": "2cf406fe",
   "metadata": {},
   "outputs": [],
   "source": [
    "#!/bin/python3\n",
    "\n",
    "import math\n",
    "import os\n",
    "import random\n",
    "import re\n",
    "import sys"
   ]
  },
  {
   "cell_type": "markdown",
   "id": "52ad5dd2",
   "metadata": {},
   "source": [
    "### 1. Set .intersection() Operation"
   ]
  },
  {
   "cell_type": "code",
   "execution_count": 1,
   "id": "6fcecb10",
   "metadata": {},
   "outputs": [
    {
     "name": "stdout",
     "output_type": "stream",
     "text": [
      "9\n",
      "1 2 3 4 5 6 7 8 9\n",
      "9\n",
      "10 1 2 3 11 21 55 6 8\n",
      "5\n"
     ]
    }
   ],
   "source": [
    "num1 = int(input())\n",
    "li1 = input().split()\n",
    "num2 = int(input())\n",
    "li2 = input().split()\n",
    "\n",
    "li1 = set(li1)\n",
    "li2 = set(li2)\n",
    "\n",
    "li3 = li1.intersection(li2)\n",
    "\n",
    "print(len(li3))"
   ]
  },
  {
   "cell_type": "markdown",
   "id": "42653b86",
   "metadata": {},
   "source": [
    "### 2. Mod Divmod"
   ]
  },
  {
   "cell_type": "code",
   "execution_count": 21,
   "id": "5142e2e6",
   "metadata": {},
   "outputs": [
    {
     "name": "stdout",
     "output_type": "stream",
     "text": [
      "177\n",
      "10\n",
      "17\n",
      "7\n",
      "(17, 7)\n"
     ]
    }
   ],
   "source": [
    "num1 = int(input())\n",
    "num2 = int(input())\n",
    "print('{0}\\n{1}'.format(*divmod(num1, num2)))\n",
    "print(divmod(num1, num2))"
   ]
  },
  {
   "cell_type": "markdown",
   "id": "fa830cf1",
   "metadata": {},
   "source": [
    "### 3. Power - Mod Power"
   ]
  },
  {
   "cell_type": "code",
   "execution_count": 27,
   "id": "b50a812b",
   "metadata": {},
   "outputs": [
    {
     "name": "stdout",
     "output_type": "stream",
     "text": [
      "3\n",
      "4\n",
      "5\n",
      "81\n",
      "1\n"
     ]
    }
   ],
   "source": [
    "num1 = int(input())\n",
    "num2 = int(input())\n",
    "num3 = int(input())\n",
    "print(pow(num1, num2))\n",
    "print(pow(num1, num2, num3))"
   ]
  },
  {
   "cell_type": "markdown",
   "id": "c53ca27a",
   "metadata": {},
   "source": [
    "### 4. Set .difference() Operation"
   ]
  },
  {
   "cell_type": "code",
   "execution_count": 39,
   "id": "a157f332",
   "metadata": {},
   "outputs": [
    {
     "name": "stdout",
     "output_type": "stream",
     "text": [
      "9\n",
      "1 2 3 4 5 6 7 8 9\n",
      "9\n",
      "10 1 2 3 11 21 55 6 8\n"
     ]
    }
   ],
   "source": [
    "num1 = int(input())\n",
    "li1 = set(map(int, input().split()))\n",
    "num2 = int(input())\n",
    "li2 = set(map(int, input().split()))\n",
    "\n",
    "li3 = li1.difference(li2)\n",
    "\n",
    "print(len(li3))"
   ]
  },
  {
   "cell_type": "markdown",
   "id": "3d46e86d",
   "metadata": {},
   "source": [
    "### 5. Integers Come In All Sizes"
   ]
  },
  {
   "cell_type": "code",
   "execution_count": 52,
   "id": "f526193d",
   "metadata": {
    "scrolled": true
   },
   "outputs": [
    {
     "name": "stdout",
     "output_type": "stream",
     "text": [
      "9\n",
      "29\n",
      "7\n",
      "27\n",
      "4710194409608608369201743232\n"
     ]
    }
   ],
   "source": [
    "a, b, c, d = (int(input()) for i in range(4))\n",
    "print(pow(a, b) + pow(c, d))"
   ]
  },
  {
   "cell_type": "markdown",
   "id": "b90c649b",
   "metadata": {},
   "source": [
    "### 6. Set .symmetric_difference() Operation"
   ]
  },
  {
   "cell_type": "code",
   "execution_count": 54,
   "id": "d4d1d92b",
   "metadata": {},
   "outputs": [
    {
     "name": "stdout",
     "output_type": "stream",
     "text": [
      "9\n",
      "1 2 3 4 5 6 7 8 9\n",
      "9\n",
      "10 1 2 3 11 21 55 6 8\n"
     ]
    }
   ],
   "source": [
    "num1 = int(input())\n",
    "li1 = set(map(int, input().split()))\n",
    "num2 = int(input())\n",
    "li2 = set(map(int, input().split()))\n",
    "\n",
    "li3 = li1.symmetric_difference(li2)\n",
    "\n",
    "print(len(li3))"
   ]
  },
  {
   "cell_type": "markdown",
   "id": "7f2f5447",
   "metadata": {},
   "source": [
    "### 7. Set Mutations"
   ]
  },
  {
   "cell_type": "code",
   "execution_count": 114,
   "id": "0ab8fbf3",
   "metadata": {},
   "outputs": [
    {
     "name": "stdout",
     "output_type": "stream",
     "text": [
      "16\n",
      "1 2 3 4 5 6 7 8 9 10 11 12 13 14 24 52\n",
      "4\n",
      "intersection_update 10\n",
      "2 3 5 6 8 9 1 4 7 11\n",
      "update 2\n",
      "55 66\n",
      "symmetric_difference_update 5\n",
      "22 7 35 62 58\n",
      "difference_update 7\n",
      "11 22 35 55 58 62 66\n",
      "38\n"
     ]
    }
   ],
   "source": [
    "# 7-1\n",
    "# set.update 합집합\n",
    "# set.intersection_update 교집합\n",
    "# set.difference_update 차집합\n",
    "# set.symmetric_difference_update 차집합\n",
    "\n",
    "num1 = int(input())\n",
    "s = set(map(int, input().split(' ')))\n",
    "num2 = int(input())\n",
    "for i in range(num2):\n",
    "    string, num3 = input().split(' ')\n",
    "    li2 = set(map(int, input().split(' ')))\n",
    "    eval('s.{0}({1})'.format(string, li2))\n",
    "print(sum(s))"
   ]
  },
  {
   "cell_type": "markdown",
   "id": "db299f22",
   "metadata": {},
   "source": [
    "### 8. The Captain's Room"
   ]
  },
  {
   "cell_type": "code",
   "execution_count": 115,
   "id": "72369998",
   "metadata": {},
   "outputs": [],
   "source": [
    "# 8-1\n",
    "\n",
    "from collections import Counter\n",
    "\n",
    "num = int(input())\n",
    "arr = list(map(int, input().split()))\n",
    "\n",
    "ca = Counter(arr)\n",
    "for i in ca:\n",
    "    if ca[i] != num:\n",
    "        print(i)"
   ]
  },
  {
   "cell_type": "markdown",
   "id": "0a5b821d",
   "metadata": {},
   "source": [
    "### 9. Check Subset"
   ]
  },
  {
   "cell_type": "code",
   "execution_count": 137,
   "id": "004826fe",
   "metadata": {},
   "outputs": [
    {
     "name": "stdout",
     "output_type": "stream",
     "text": [
      "1\n",
      "5\n",
      "1 2 3 5 6\n",
      "9\n",
      "9 8 5 6 3 2 1 4 7\n",
      "True\n"
     ]
    }
   ],
   "source": [
    "# 9-1\n",
    "# issubset 부분집합\n",
    "\n",
    "for _ in range(int(input())):\n",
    "    x, a, z, b = input(), set(input().split()), input(), set(input().split())\n",
    "    print(a.issubset(b))"
   ]
  },
  {
   "cell_type": "markdown",
   "id": "055539ff",
   "metadata": {},
   "source": [
    "### 10. Check Strict Superset"
   ]
  },
  {
   "cell_type": "code",
   "execution_count": 138,
   "id": "5dbd416d",
   "metadata": {},
   "outputs": [
    {
     "name": "stdout",
     "output_type": "stream",
     "text": [
      "1 2 3 4 5 6 7 8 9 10 11 12 23 45 84 78\n",
      "2\n",
      "1 2 3 4 5\n",
      "100 11 12\n",
      "False\n"
     ]
    }
   ],
   "source": [
    "# 10-1\n",
    "# issubset, <, >\n",
    "# all\n",
    "a = set(input().split())\n",
    "print(all(a > set(input().split()) for _ in range(int(input()))))"
   ]
  },
  {
   "cell_type": "markdown",
   "id": "19e79cbf",
   "metadata": {},
   "source": [
    "### 11. Class 2 - Find the Torsional Angle"
   ]
  },
  {
   "cell_type": "code",
   "execution_count": 144,
   "id": "2d467b93",
   "metadata": {},
   "outputs": [
    {
     "name": "stdout",
     "output_type": "stream",
     "text": [
      "0 4 5\n",
      "1 7 6\n",
      "0 5 9\n",
      "1 7 2\n",
      "8.19\n"
     ]
    }
   ],
   "source": [
    "# 11-1\n",
    "# 나중에 다시 볼것\n",
    "\n",
    "import math\n",
    "\n",
    "class Points(object):\n",
    "    def __init__(self, x, y, z):\n",
    "        self.x=x\n",
    "        self.y=y\n",
    "        self.z=z\n",
    "\n",
    "    def __sub__(self, no):\n",
    "        return  Points((self.x-no.x),(self.y-no.y),(self.z-no.z))\n",
    "\n",
    "    def dot(self, no):\n",
    "        return (self.x*no.x)+(self.y*no.y)+(self.z*no.z)\n",
    "\n",
    "    def cross(self, no):\n",
    "        return Points((self.y*no.z-self.z*no.y),(self.z*no.x-self.x*no.z),(self.x*no.y-self.y*no.x))\n",
    "        \n",
    "    def absolute(self):\n",
    "        return pow((self.x ** 2 + self.y ** 2 + self.z ** 2), 0.5)\n",
    "if __name__ == '__main__':\n",
    "    points = list()\n",
    "    for i in range(4):\n",
    "        a = list(map(float, input().split()))\n",
    "        points.append(a)\n",
    "\n",
    "    a, b, c, d = Points(*points[0]), Points(*points[1]), Points(*points[2]), Points(*points[3])\n",
    "    x = (b - a).cross(c - b)\n",
    "    y = (c - b).cross(d - c)\n",
    "    angle = math.acos(x.dot(y) / (x.absolute() * y.absolute()))\n",
    "\n",
    "    print(\"%.2f\" % math.degrees(angle))"
   ]
  },
  {
   "cell_type": "markdown",
   "id": "5462692a",
   "metadata": {},
   "source": [
    "### 12. Zipped!"
   ]
  },
  {
   "cell_type": "code",
   "execution_count": null,
   "id": "499d0973",
   "metadata": {},
   "outputs": [],
   "source": [
    "5 3\n",
    "89 90 78 93 80\n",
    "90 91 85 88 86  \n",
    "91 92 83 89 90.5"
   ]
  },
  {
   "cell_type": "code",
   "execution_count": 12,
   "id": "561284de",
   "metadata": {},
   "outputs": [
    {
     "name": "stdout",
     "output_type": "stream",
     "text": [
      "5 3\n",
      "89 90 78 93 80\n",
      "90 91 85 88 86\n",
      "91 92 83 89 90.5\n",
      "90.0\n",
      "91.0\n",
      "82.0\n",
      "90.0\n",
      "85.5\n"
     ]
    }
   ],
   "source": [
    "a, b = map(int, input().split(' '))\n",
    "\n",
    "li = []\n",
    "\n",
    "for j in range(b):\n",
    "    li.append(list(map(float, input().split())))\n",
    "\n",
    "X = zip(*li)\n",
    "X = list(X)\n",
    "\n",
    "for i in range(len(X)):\n",
    "    print(sum(X[i])/len(X[i]))"
   ]
  },
  {
   "cell_type": "markdown",
   "id": "8339df01",
   "metadata": {},
   "source": [
    "### 13. Input()"
   ]
  },
  {
   "cell_type": "code",
   "execution_count": null,
   "id": "19dd299d",
   "metadata": {},
   "outputs": [],
   "source": [
    "# 13-1\n",
    "# eval\n",
    "# (x**3 + x**2 + x + 1) == 4\n",
    "\n",
    "ui = input().split()\n",
    "x = int(ui[0])\n",
    "print(eval(input()) == int(ui[1]))\n"
   ]
  },
  {
   "cell_type": "markdown",
   "id": "687222f0",
   "metadata": {},
   "source": [
    "### 14. Python Evaluation"
   ]
  },
  {
   "cell_type": "code",
   "execution_count": 23,
   "id": "eeff3a25",
   "metadata": {},
   "outputs": [
    {
     "name": "stdout",
     "output_type": "stream",
     "text": [
      "5\n"
     ]
    }
   ],
   "source": [
    "# 14-1\n",
    "\n",
    "eval(input())"
   ]
  },
  {
   "cell_type": "markdown",
   "id": "6561073e",
   "metadata": {},
   "source": [
    "### 15. Any or All"
   ]
  },
  {
   "cell_type": "code",
   "execution_count": 24,
   "id": "e8f689e0",
   "metadata": {},
   "outputs": [
    {
     "data": {
      "text/plain": [
       "True"
      ]
     },
     "execution_count": 24,
     "metadata": {},
     "output_type": "execute_result"
    }
   ],
   "source": [
    "# 15-1\n",
    "# 이해가 잘 안감\n",
    "\n",
    "N = int(input())\n",
    "n = input().split()\n",
    "print(all([int(i)>0 for i in n]) and any([j == j[::-1] for j in n]))"
   ]
  },
  {
   "cell_type": "markdown",
   "id": "4b166354",
   "metadata": {},
   "source": [
    "### 16. Detect Floating Point Number"
   ]
  },
  {
   "cell_type": "code",
   "execution_count": 43,
   "id": "b40f1485",
   "metadata": {},
   "outputs": [
    {
     "name": "stdout",
     "output_type": "stream",
     "text": [
      "4\n",
      "4.0O0\n",
      "False\n",
      "-1.00\n",
      "True\n",
      "+4.54\n",
      "True\n",
      "SomeRandomStuff\n",
      "False\n"
     ]
    }
   ],
   "source": [
    "# 16-1\n",
    "# regrex 나중에 제대로 공부\n",
    "\n",
    "import re\n",
    "\n",
    "for _ in range(int(input())):\n",
    "    print(bool(re.match(r'^[-+]?[0-9]*\\.[0-9]+$', input())))"
   ]
  },
  {
   "cell_type": "markdown",
   "id": "72f07d1e",
   "metadata": {},
   "source": [
    "### 17. Map and Lambda Function"
   ]
  },
  {
   "cell_type": "code",
   "execution_count": 64,
   "id": "83c5f459",
   "metadata": {},
   "outputs": [
    {
     "name": "stdout",
     "output_type": "stream",
     "text": [
      "1\n",
      "[0]\n"
     ]
    }
   ],
   "source": [
    "# 17-1\n",
    "# lambda\n",
    "# 피보나치\n",
    "# 다양한 테스트 케이스들을 해보자\n",
    "\n",
    "cube = lambda x:pow(x,3)\n",
    "\n",
    "def fibonacci(n):\n",
    "    li = [0, 1]\n",
    "    for i in range(2, n):\n",
    "        li.append(li[-2]+li[-1])\n",
    "    return li[0:n]\n",
    "\n",
    "if __name__ == '__main__':\n",
    "    n = int(input())\n",
    "    print(list(map(cube, fibonacci(n))))"
   ]
  },
  {
   "cell_type": "code",
   "execution_count": null,
   "id": "efbe6446",
   "metadata": {},
   "outputs": [],
   "source": []
  },
  {
   "cell_type": "code",
   "execution_count": null,
   "id": "0534d1e4",
   "metadata": {},
   "outputs": [],
   "source": []
  },
  {
   "cell_type": "code",
   "execution_count": null,
   "id": "32921fe0",
   "metadata": {},
   "outputs": [],
   "source": []
  },
  {
   "cell_type": "code",
   "execution_count": null,
   "id": "f308720f",
   "metadata": {},
   "outputs": [],
   "source": []
  }
 ],
 "metadata": {
  "kernelspec": {
   "display_name": "hackerrank",
   "language": "python",
   "name": "hackerrank"
  },
  "language_info": {
   "codemirror_mode": {
    "name": "ipython",
    "version": 3
   },
   "file_extension": ".py",
   "mimetype": "text/x-python",
   "name": "python",
   "nbconvert_exporter": "python",
   "pygments_lexer": "ipython3",
   "version": "3.9.12"
  }
 },
 "nbformat": 4,
 "nbformat_minor": 5
}
