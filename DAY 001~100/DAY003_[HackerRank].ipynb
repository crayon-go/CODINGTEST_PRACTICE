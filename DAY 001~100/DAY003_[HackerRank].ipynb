{
 "cells": [
  {
   "cell_type": "code",
   "execution_count": 3,
   "id": "2cf406fe",
   "metadata": {},
   "outputs": [],
   "source": [
    "#!/bin/python3\n",
    "\n",
    "import math\n",
    "import os\n",
    "import random\n",
    "import re\n",
    "import sys"
   ]
  },
  {
   "cell_type": "markdown",
   "id": "52ad5dd2",
   "metadata": {},
   "source": [
    "### 1. Set .intersection() Operation"
   ]
  },
  {
   "cell_type": "code",
   "execution_count": 1,
   "id": "b5175784",
   "metadata": {},
   "outputs": [
    {
     "name": "stdout",
     "output_type": "stream",
     "text": [
      "9\n",
      "1 2 3 4 5 6 7 8 9\n",
      "9\n",
      "10 1 2 3 11 21 55 6 8\n",
      "5\n"
     ]
    }
   ],
   "source": [
    "num1 = int(input())\n",
    "li1 = input().split()\n",
    "num2 = int(input())\n",
    "li2 = input().split()\n",
    "\n",
    "li1 = set(li1)\n",
    "li2 = set(li2)\n",
    "\n",
    "li3 = li1.intersection(li2)\n",
    "\n",
    "print(len(li3))"
   ]
  },
  {
   "cell_type": "markdown",
   "id": "12582814",
   "metadata": {},
   "source": [
    "### 2. Mod Divmod"
   ]
  },
  {
   "cell_type": "code",
   "execution_count": 21,
   "id": "9face585",
   "metadata": {},
   "outputs": [
    {
     "name": "stdout",
     "output_type": "stream",
     "text": [
      "177\n",
      "10\n",
      "17\n",
      "7\n",
      "(17, 7)\n"
     ]
    }
   ],
   "source": [
    "num1 = int(input())\n",
    "num2 = int(input())\n",
    "print('{0}\\n{1}'.format(*divmod(num1, num2)))\n",
    "print(divmod(num1, num2))"
   ]
  },
  {
   "cell_type": "markdown",
   "id": "2d6c0720",
   "metadata": {},
   "source": [
    "### 3. Power - Mod Power"
   ]
  },
  {
   "cell_type": "code",
   "execution_count": 27,
   "id": "4f14b962",
   "metadata": {},
   "outputs": [
    {
     "name": "stdout",
     "output_type": "stream",
     "text": [
      "3\n",
      "4\n",
      "5\n",
      "81\n",
      "1\n"
     ]
    }
   ],
   "source": [
    "num1 = int(input())\n",
    "num2 = int(input())\n",
    "num3 = int(input())\n",
    "print(pow(num1, num2))\n",
    "print(pow(num1, num2, num3))"
   ]
  },
  {
   "cell_type": "markdown",
   "id": "42447255",
   "metadata": {},
   "source": [
    "### 4. Set .difference() Operation"
   ]
  },
  {
   "cell_type": "code",
   "execution_count": 39,
   "id": "09a63a51",
   "metadata": {},
   "outputs": [
    {
     "name": "stdout",
     "output_type": "stream",
     "text": [
      "9\n",
      "1 2 3 4 5 6 7 8 9\n",
      "9\n",
      "10 1 2 3 11 21 55 6 8\n"
     ]
    }
   ],
   "source": [
    "num1 = int(input())\n",
    "li1 = set(map(int, input().split()))\n",
    "num2 = int(input())\n",
    "li2 = set(map(int, input().split()))\n",
    "\n",
    "li3 = li1.difference(li2)\n",
    "\n",
    "print(len(li3))"
   ]
  },
  {
   "cell_type": "markdown",
   "id": "46c4b6c8",
   "metadata": {},
   "source": [
    "### 5. Integers Come In All Sizes"
   ]
  },
  {
   "cell_type": "code",
   "execution_count": 52,
   "id": "05c88184",
   "metadata": {
    "scrolled": true
   },
   "outputs": [
    {
     "name": "stdout",
     "output_type": "stream",
     "text": [
      "9\n",
      "29\n",
      "7\n",
      "27\n",
      "4710194409608608369201743232\n"
     ]
    }
   ],
   "source": [
    "a, b, c, d = (int(input()) for i in range(4))\n",
    "print(pow(a, b) + pow(c, d))"
   ]
  },
  {
   "cell_type": "markdown",
   "id": "2c670b0d",
   "metadata": {},
   "source": [
    "### 6. Set .symmetric_difference() Operation"
   ]
  },
  {
   "cell_type": "code",
   "execution_count": 54,
   "id": "3cb498e5",
   "metadata": {},
   "outputs": [
    {
     "name": "stdout",
     "output_type": "stream",
     "text": [
      "9\n",
      "1 2 3 4 5 6 7 8 9\n",
      "9\n",
      "10 1 2 3 11 21 55 6 8\n"
     ]
    }
   ],
   "source": [
    "num1 = int(input())\n",
    "li1 = set(map(int, input().split()))\n",
    "num2 = int(input())\n",
    "li2 = set(map(int, input().split()))\n",
    "\n",
    "li3 = li1.symmetric_difference(li2)\n",
    "\n",
    "print(len(li3))"
   ]
  },
  {
   "cell_type": "markdown",
   "id": "dcf3aa10",
   "metadata": {},
   "source": [
    "### 7. Set Mutations"
   ]
  },
  {
   "cell_type": "code",
   "execution_count": 114,
   "id": "5faef6f0",
   "metadata": {},
   "outputs": [
    {
     "name": "stdout",
     "output_type": "stream",
     "text": [
      "16\n",
      "1 2 3 4 5 6 7 8 9 10 11 12 13 14 24 52\n",
      "4\n",
      "intersection_update 10\n",
      "2 3 5 6 8 9 1 4 7 11\n",
      "update 2\n",
      "55 66\n",
      "symmetric_difference_update 5\n",
      "22 7 35 62 58\n",
      "difference_update 7\n",
      "11 22 35 55 58 62 66\n",
      "38\n"
     ]
    }
   ],
   "source": [
    "# 7-1\n",
    "# set.update 합집합\n",
    "# set.intersection_update 교집합\n",
    "# set.difference_update 차집합\n",
    "# set.symmetric_difference_update 차집합\n",
    "\n",
    "num1 = int(input())\n",
    "s = set(map(int, input().split(' ')))\n",
    "num2 = int(input())\n",
    "for i in range(num2):\n",
    "    string, num3 = input().split(' ')\n",
    "    li2 = set(map(int, input().split(' ')))\n",
    "    eval('s.{0}({1})'.format(string, li2))\n",
    "print(sum(s))"
   ]
  },
  {
   "cell_type": "markdown",
   "id": "4df42b3d",
   "metadata": {},
   "source": [
    "### 8. The Captain's Room"
   ]
  },
  {
   "cell_type": "code",
   "execution_count": 115,
   "id": "12fc6c68",
   "metadata": {},
   "outputs": [],
   "source": [
    "# 8-1\n",
    "\n",
    "from collections import Counter\n",
    "\n",
    "num = int(input())\n",
    "arr = list(map(int, input().split()))\n",
    "\n",
    "ca = Counter(arr)\n",
    "for i in ca:\n",
    "    if ca[i] != num:\n",
    "        print(i)"
   ]
  },
  {
   "cell_type": "code",
   "execution_count": null,
   "id": "b19f7dfc",
   "metadata": {},
   "outputs": [],
   "source": []
  },
  {
   "cell_type": "code",
   "execution_count": null,
   "id": "78324923",
   "metadata": {},
   "outputs": [],
   "source": []
  },
  {
   "cell_type": "code",
   "execution_count": null,
   "id": "6e501747",
   "metadata": {},
   "outputs": [],
   "source": []
  },
  {
   "cell_type": "code",
   "execution_count": null,
   "id": "ec5dd7b4",
   "metadata": {},
   "outputs": [],
   "source": []
  },
  {
   "cell_type": "code",
   "execution_count": null,
   "id": "00c6f01b",
   "metadata": {},
   "outputs": [],
   "source": []
  }
 ],
 "metadata": {
  "kernelspec": {
   "display_name": "hackerrank",
   "language": "python",
   "name": "hackerrank"
  },
  "language_info": {
   "codemirror_mode": {
    "name": "ipython",
    "version": 3
   },
   "file_extension": ".py",
   "mimetype": "text/x-python",
   "name": "python",
   "nbconvert_exporter": "python",
   "pygments_lexer": "ipython3",
   "version": "3.9.12"
  }
 },
 "nbformat": 4,
 "nbformat_minor": 5
}
