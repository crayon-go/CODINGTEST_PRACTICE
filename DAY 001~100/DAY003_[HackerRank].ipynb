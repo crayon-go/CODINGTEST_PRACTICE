{
 "cells": [
  {
   "cell_type": "code",
   "execution_count": 1,
   "id": "2cf406fe",
   "metadata": {},
   "outputs": [],
   "source": [
    "#!/bin/python3\n",
    "\n",
    "import math\n",
    "import os\n",
    "import random\n",
    "import re\n",
    "import sys"
   ]
  },
  {
   "cell_type": "markdown",
   "id": "52ad5dd2",
   "metadata": {},
   "source": [
    "### 1. Set .intersection() Operation"
   ]
  },
  {
   "cell_type": "code",
   "execution_count": 1,
   "id": "f842e16a",
   "metadata": {},
   "outputs": [
    {
     "name": "stdout",
     "output_type": "stream",
     "text": [
      "9\n",
      "1 2 3 4 5 6 7 8 9\n",
      "9\n",
      "10 1 2 3 11 21 55 6 8\n",
      "5\n"
     ]
    }
   ],
   "source": [
    "num1 = int(input())\n",
    "li1 = input().split()\n",
    "num2 = int(input())\n",
    "li2 = input().split()\n",
    "\n",
    "li1 = set(li1)\n",
    "li2 = set(li2)\n",
    "\n",
    "li3 = li1.intersection(li2)\n",
    "\n",
    "print(len(li3))"
   ]
  },
  {
   "cell_type": "markdown",
   "id": "0093e0be",
   "metadata": {},
   "source": [
    "### 2. Mod Divmod"
   ]
  },
  {
   "cell_type": "code",
   "execution_count": 21,
   "id": "4a150467",
   "metadata": {},
   "outputs": [
    {
     "name": "stdout",
     "output_type": "stream",
     "text": [
      "177\n",
      "10\n",
      "17\n",
      "7\n",
      "(17, 7)\n"
     ]
    }
   ],
   "source": [
    "num1 = int(input())\n",
    "num2 = int(input())\n",
    "print('{0}\\n{1}'.format(*divmod(num1, num2)))\n",
    "print(divmod(num1, num2))"
   ]
  },
  {
   "cell_type": "markdown",
   "id": "06908481",
   "metadata": {},
   "source": [
    "### 3. Power - Mod Power"
   ]
  },
  {
   "cell_type": "code",
   "execution_count": 27,
   "id": "f31adfb6",
   "metadata": {},
   "outputs": [
    {
     "name": "stdout",
     "output_type": "stream",
     "text": [
      "3\n",
      "4\n",
      "5\n",
      "81\n",
      "1\n"
     ]
    }
   ],
   "source": [
    "num1 = int(input())\n",
    "num2 = int(input())\n",
    "num3 = int(input())\n",
    "print(pow(num1, num2))\n",
    "print(pow(num1, num2, num3))"
   ]
  },
  {
   "cell_type": "markdown",
   "id": "c3852103",
   "metadata": {},
   "source": [
    "### 4. Set .difference() Operation"
   ]
  },
  {
   "cell_type": "code",
   "execution_count": 39,
   "id": "bb5327d1",
   "metadata": {},
   "outputs": [
    {
     "name": "stdout",
     "output_type": "stream",
     "text": [
      "9\n",
      "1 2 3 4 5 6 7 8 9\n",
      "9\n",
      "10 1 2 3 11 21 55 6 8\n"
     ]
    }
   ],
   "source": [
    "num1 = int(input())\n",
    "li1 = set(map(int, input().split()))\n",
    "num2 = int(input())\n",
    "li2 = set(map(int, input().split()))\n",
    "\n",
    "li3 = li1.difference(li2)\n",
    "\n",
    "print(len(li3))"
   ]
  },
  {
   "cell_type": "markdown",
   "id": "325b457f",
   "metadata": {},
   "source": [
    "### 5. Integers Come In All Sizes"
   ]
  },
  {
   "cell_type": "code",
   "execution_count": 52,
   "id": "b61690b2",
   "metadata": {
    "scrolled": true
   },
   "outputs": [
    {
     "name": "stdout",
     "output_type": "stream",
     "text": [
      "9\n",
      "29\n",
      "7\n",
      "27\n",
      "4710194409608608369201743232\n"
     ]
    }
   ],
   "source": [
    "a, b, c, d = (int(input()) for i in range(4))\n",
    "print(pow(a, b) + pow(c, d))"
   ]
  },
  {
   "cell_type": "markdown",
   "id": "e0a70786",
   "metadata": {},
   "source": [
    "### 6. Set .symmetric_difference() Operation"
   ]
  },
  {
   "cell_type": "code",
   "execution_count": 54,
   "id": "a6fc7c9d",
   "metadata": {},
   "outputs": [
    {
     "name": "stdout",
     "output_type": "stream",
     "text": [
      "9\n",
      "1 2 3 4 5 6 7 8 9\n",
      "9\n",
      "10 1 2 3 11 21 55 6 8\n"
     ]
    }
   ],
   "source": [
    "num1 = int(input())\n",
    "li1 = set(map(int, input().split()))\n",
    "num2 = int(input())\n",
    "li2 = set(map(int, input().split()))\n",
    "\n",
    "li3 = li1.symmetric_difference(li2)\n",
    "\n",
    "print(len(li3))"
   ]
  },
  {
   "cell_type": "markdown",
   "id": "cdcdadf5",
   "metadata": {},
   "source": [
    "### 7. Set Mutations"
   ]
  },
  {
   "cell_type": "code",
   "execution_count": 114,
   "id": "143a0951",
   "metadata": {},
   "outputs": [
    {
     "name": "stdout",
     "output_type": "stream",
     "text": [
      "16\n",
      "1 2 3 4 5 6 7 8 9 10 11 12 13 14 24 52\n",
      "4\n",
      "intersection_update 10\n",
      "2 3 5 6 8 9 1 4 7 11\n",
      "update 2\n",
      "55 66\n",
      "symmetric_difference_update 5\n",
      "22 7 35 62 58\n",
      "difference_update 7\n",
      "11 22 35 55 58 62 66\n",
      "38\n"
     ]
    }
   ],
   "source": [
    "# 7-1\n",
    "# set.update 합집합\n",
    "# set.intersection_update 교집합\n",
    "# set.difference_update 차집합\n",
    "# set.symmetric_difference_update 차집합\n",
    "\n",
    "num1 = int(input())\n",
    "s = set(map(int, input().split(' ')))\n",
    "num2 = int(input())\n",
    "for i in range(num2):\n",
    "    string, num3 = input().split(' ')\n",
    "    li2 = set(map(int, input().split(' ')))\n",
    "    eval('s.{0}({1})'.format(string, li2))\n",
    "print(sum(s))"
   ]
  },
  {
   "cell_type": "markdown",
   "id": "9069cecf",
   "metadata": {},
   "source": [
    "### 8. The Captain's Room"
   ]
  },
  {
   "cell_type": "code",
   "execution_count": 115,
   "id": "325e6b97",
   "metadata": {},
   "outputs": [],
   "source": [
    "# 8-1\n",
    "\n",
    "from collections import Counter\n",
    "\n",
    "num = int(input())\n",
    "arr = list(map(int, input().split()))\n",
    "\n",
    "ca = Counter(arr)\n",
    "for i in ca:\n",
    "    if ca[i] != num:\n",
    "        print(i)"
   ]
  },
  {
   "cell_type": "markdown",
   "id": "9b97c915",
   "metadata": {},
   "source": [
    "### 9. Check Subset"
   ]
  },
  {
   "cell_type": "code",
   "execution_count": 137,
   "id": "a84df702",
   "metadata": {},
   "outputs": [
    {
     "name": "stdout",
     "output_type": "stream",
     "text": [
      "1\n",
      "5\n",
      "1 2 3 5 6\n",
      "9\n",
      "9 8 5 6 3 2 1 4 7\n",
      "True\n"
     ]
    }
   ],
   "source": [
    "# 9-1\n",
    "# issubset 부분집합\n",
    "\n",
    "for _ in range(int(input())):\n",
    "    x, a, z, b = input(), set(input().split()), input(), set(input().split())\n",
    "    print(a.issubset(b))"
   ]
  },
  {
   "cell_type": "markdown",
   "id": "c1199abd",
   "metadata": {},
   "source": [
    "### 10. Check Strict Superset"
   ]
  },
  {
   "cell_type": "code",
   "execution_count": 138,
   "id": "1ac7ae40",
   "metadata": {},
   "outputs": [
    {
     "name": "stdout",
     "output_type": "stream",
     "text": [
      "1 2 3 4 5 6 7 8 9 10 11 12 23 45 84 78\n",
      "2\n",
      "1 2 3 4 5\n",
      "100 11 12\n",
      "False\n"
     ]
    }
   ],
   "source": [
    "# 10-1\n",
    "# issubset, <, >\n",
    "# all\n",
    "a = set(input().split())\n",
    "print(all(a > set(input().split()) for _ in range(int(input()))))"
   ]
  },
  {
   "cell_type": "markdown",
   "id": "3257e54e",
   "metadata": {},
   "source": [
    "### 11. Class 2 - Find the Torsional Angle"
   ]
  },
  {
   "cell_type": "code",
   "execution_count": 144,
   "id": "a901a804",
   "metadata": {},
   "outputs": [
    {
     "name": "stdout",
     "output_type": "stream",
     "text": [
      "0 4 5\n",
      "1 7 6\n",
      "0 5 9\n",
      "1 7 2\n",
      "8.19\n"
     ]
    }
   ],
   "source": [
    "# 11-1\n",
    "# 나중에 다시 볼것\n",
    "\n",
    "import math\n",
    "\n",
    "class Points(object):\n",
    "    def __init__(self, x, y, z):\n",
    "        self.x=x\n",
    "        self.y=y\n",
    "        self.z=z\n",
    "\n",
    "    def __sub__(self, no):\n",
    "        return  Points((self.x-no.x),(self.y-no.y),(self.z-no.z))\n",
    "\n",
    "    def dot(self, no):\n",
    "        return (self.x*no.x)+(self.y*no.y)+(self.z*no.z)\n",
    "\n",
    "    def cross(self, no):\n",
    "        return Points((self.y*no.z-self.z*no.y),(self.z*no.x-self.x*no.z),(self.x*no.y-self.y*no.x))\n",
    "        \n",
    "    def absolute(self):\n",
    "        return pow((self.x ** 2 + self.y ** 2 + self.z ** 2), 0.5)\n",
    "if __name__ == '__main__':\n",
    "    points = list()\n",
    "    for i in range(4):\n",
    "        a = list(map(float, input().split()))\n",
    "        points.append(a)\n",
    "\n",
    "    a, b, c, d = Points(*points[0]), Points(*points[1]), Points(*points[2]), Points(*points[3])\n",
    "    x = (b - a).cross(c - b)\n",
    "    y = (c - b).cross(d - c)\n",
    "    angle = math.acos(x.dot(y) / (x.absolute() * y.absolute()))\n",
    "\n",
    "    print(\"%.2f\" % math.degrees(angle))"
   ]
  },
  {
   "cell_type": "markdown",
   "id": "5e834b26",
   "metadata": {},
   "source": [
    "### 12. Zipped!"
   ]
  },
  {
   "cell_type": "code",
   "execution_count": null,
   "id": "582f0336",
   "metadata": {},
   "outputs": [],
   "source": [
    "5 3\n",
    "89 90 78 93 80\n",
    "90 91 85 88 86  \n",
    "91 92 83 89 90.5"
   ]
  },
  {
   "cell_type": "code",
   "execution_count": 12,
   "id": "71e5c8d6",
   "metadata": {},
   "outputs": [
    {
     "name": "stdout",
     "output_type": "stream",
     "text": [
      "5 3\n",
      "89 90 78 93 80\n",
      "90 91 85 88 86\n",
      "91 92 83 89 90.5\n",
      "90.0\n",
      "91.0\n",
      "82.0\n",
      "90.0\n",
      "85.5\n"
     ]
    }
   ],
   "source": [
    "a, b = map(int, input().split(' '))\n",
    "\n",
    "li = []\n",
    "\n",
    "for j in range(b):\n",
    "    li.append(list(map(float, input().split())))\n",
    "\n",
    "X = zip(*li)\n",
    "X = list(X)\n",
    "\n",
    "for i in range(len(X)):\n",
    "    print(sum(X[i])/len(X[i]))"
   ]
  },
  {
   "cell_type": "markdown",
   "id": "aec05084",
   "metadata": {},
   "source": [
    "### 13. Input()"
   ]
  },
  {
   "cell_type": "code",
   "execution_count": null,
   "id": "023b25bd",
   "metadata": {},
   "outputs": [],
   "source": [
    "# 13-1\n",
    "# eval\n",
    "# (x**3 + x**2 + x + 1) == 4\n",
    "\n",
    "ui = input().split()\n",
    "x = int(ui[0])\n",
    "print(eval(input()) == int(ui[1]))\n"
   ]
  },
  {
   "cell_type": "markdown",
   "id": "2577158e",
   "metadata": {},
   "source": [
    "### 14. Python Evaluation"
   ]
  },
  {
   "cell_type": "code",
   "execution_count": 23,
   "id": "f2951728",
   "metadata": {},
   "outputs": [
    {
     "name": "stdout",
     "output_type": "stream",
     "text": [
      "5\n"
     ]
    }
   ],
   "source": [
    "# 14-1\n",
    "\n",
    "eval(input())"
   ]
  },
  {
   "cell_type": "markdown",
   "id": "2754e7e3",
   "metadata": {},
   "source": [
    "### 15. Any or All"
   ]
  },
  {
   "cell_type": "code",
   "execution_count": 24,
   "id": "7982223d",
   "metadata": {},
   "outputs": [
    {
     "data": {
      "text/plain": [
       "True"
      ]
     },
     "execution_count": 24,
     "metadata": {},
     "output_type": "execute_result"
    }
   ],
   "source": [
    "# 15-1\n",
    "# 이해가 잘 안감\n",
    "\n",
    "N = int(input())\n",
    "n = input().split()\n",
    "print(all([int(i)>0 for i in n]) and any([j == j[::-1] for j in n]))"
   ]
  },
  {
   "cell_type": "markdown",
   "id": "d1a51033",
   "metadata": {},
   "source": [
    "### 16. Detect Floating Point Number"
   ]
  },
  {
   "cell_type": "code",
   "execution_count": 43,
   "id": "a1d0f78c",
   "metadata": {},
   "outputs": [
    {
     "name": "stdout",
     "output_type": "stream",
     "text": [
      "4\n",
      "4.0O0\n",
      "False\n",
      "-1.00\n",
      "True\n",
      "+4.54\n",
      "True\n",
      "SomeRandomStuff\n",
      "False\n"
     ]
    }
   ],
   "source": [
    "# 16-1\n",
    "# regrex 나중에 제대로 공부\n",
    "\n",
    "import re\n",
    "\n",
    "for _ in range(int(input())):\n",
    "    print(bool(re.match(r'^[-+]?[0-9]*\\.[0-9]+$', input())))"
   ]
  },
  {
   "cell_type": "markdown",
   "id": "149616d6",
   "metadata": {},
   "source": [
    "### 17. Map and Lambda Function"
   ]
  },
  {
   "cell_type": "code",
   "execution_count": 64,
   "id": "4346e241",
   "metadata": {},
   "outputs": [
    {
     "name": "stdout",
     "output_type": "stream",
     "text": [
      "1\n",
      "[0]\n"
     ]
    }
   ],
   "source": [
    "# 17-1\n",
    "# lambda 좀 더 공부가 필요함\n",
    "# 피보나치\n",
    "# 다양한 테스트 케이스들을 해보자\n",
    "\n",
    "cube = lambda x:pow(x,3)\n",
    "\n",
    "def fibonacci(n):\n",
    "    li = [0, 1]\n",
    "    for i in range(2, n):\n",
    "        li.append(li[-2]+li[-1])\n",
    "    return li[0:n]\n",
    "\n",
    "if __name__ == '__main__':\n",
    "    n = int(input())\n",
    "    print(list(map(cube, fibonacci(n))))"
   ]
  },
  {
   "cell_type": "markdown",
   "id": "9df92ba9",
   "metadata": {},
   "source": [
    "### 18. Re.split()"
   ]
  },
  {
   "cell_type": "code",
   "execution_count": 69,
   "id": "de339564",
   "metadata": {},
   "outputs": [
    {
     "name": "stdout",
     "output_type": "stream",
     "text": [
      "100,000,000.000\n",
      "100\n",
      "000\n",
      "000\n",
      "000\n"
     ]
    }
   ],
   "source": [
    "# 18-1\n",
    "# regex 공부 많이 필요함!!\n",
    "\n",
    "regex_pattern = r\"\\D+\"\n",
    "\n",
    "import re\n",
    "print(\"\\n\".join(re.split(regex_pattern, input())))"
   ]
  },
  {
   "cell_type": "markdown",
   "id": "7a8df089",
   "metadata": {},
   "source": [
    "### 19. Group(), Groups() & Groupdict()"
   ]
  },
  {
   "cell_type": "code",
   "execution_count": 94,
   "id": "0a85c5b0",
   "metadata": {},
   "outputs": [
    {
     "name": "stdout",
     "output_type": "stream",
     "text": [
      "..12345678910111213141516171820212223\n",
      "1\n"
     ]
    }
   ],
   "source": [
    "# 19-1\n",
    "# regex - group(), groups(), groupdict()\n",
    "# 모르겠다... 공부\n",
    "\n",
    "import re\n",
    "m = re.search(r'([a-zA-Z0-9])\\1+', input().strip())\n",
    "print(m.group(1) if m else -1)"
   ]
  },
  {
   "cell_type": "markdown",
   "id": "84580d95",
   "metadata": {},
   "source": [
    "### 20. Re.findall() & Re.finditer()"
   ]
  },
  {
   "cell_type": "code",
   "execution_count": 107,
   "id": "06456d92",
   "metadata": {},
   "outputs": [
    {
     "name": "stdout",
     "output_type": "stream",
     "text": [
      "rabcdeefgyYhFjkIoomnpOeorteeeeet\n",
      "ee\n",
      "Ioo\n",
      "Oeo\n",
      "eeeee\n"
     ]
    }
   ],
   "source": [
    "# 20-1\n",
    "# regex\n",
    "# findall - 문자만 리스트로\n",
    "# finditer\n",
    "# 모르겠다... 공부!\n",
    "\n",
    "import re\n",
    "v = \"aeiou\"\n",
    "c = \"qwrtypsdfghjklzxcvbnm\"\n",
    "m = re.findall(r\"(?<=[%s])([%s]{2,})[%s]\" % (c, v, c), input(), flags = re.I)\n",
    "print('\\n'.join(m or ['-1']))"
   ]
  },
  {
   "cell_type": "markdown",
   "id": "71fb72b7",
   "metadata": {},
   "source": [
    "### 21 Re.start() & Re.end()"
   ]
  },
  {
   "cell_type": "code",
   "execution_count": 127,
   "id": "3e2ad577",
   "metadata": {},
   "outputs": [
    {
     "name": "stdout",
     "output_type": "stream",
     "text": [
      "aaadaa\n",
      "aa\n",
      "(0, 1)\n",
      "(1, 2)\n",
      "(4, 5)\n"
     ]
    }
   ],
   "source": [
    "# 21-1\n",
    "# regex\n",
    "# 공부\n",
    "\n",
    "import re\n",
    "\n",
    "S = input()\n",
    "k = input()\n",
    "\n",
    "pattern = re.compile(k)\n",
    "r = pattern.search(S)\n",
    "if not r: print(\"(-1, -1)\")\n",
    "while r:\n",
    "    print(\"({0}, {1})\".format(r.start(), r.end() - 1))\n",
    "    r = pattern.search(S,r.start() + 1)"
   ]
  },
  {
   "cell_type": "markdown",
   "id": "bd2c67c3",
   "metadata": {},
   "source": [
    "### 22. Validating Roman Numerals"
   ]
  },
  {
   "cell_type": "code",
   "execution_count": 131,
   "id": "31ad9437",
   "metadata": {},
   "outputs": [
    {
     "name": "stdout",
     "output_type": "stream",
     "text": [
      "CDXXI\n",
      "True\n"
     ]
    }
   ],
   "source": [
    "# 22-1\n",
    "# regex\n",
    "# 공부\n",
    "\n",
    "import re\n",
    "\n",
    "thousand = 'M{0,3}'\n",
    "hundred = '(C[MD]|D?C{0,3})'\n",
    "ten = '(X[CL]|L?X{0,3})'\n",
    "digit = '(I[VX]|V?I{0,3})'\n",
    "print (bool(re.match(thousand + hundred+ten+digit +'$', input())))"
   ]
  },
  {
   "cell_type": "code",
   "execution_count": 132,
   "id": "1dd023d6",
   "metadata": {},
   "outputs": [
    {
     "name": "stdout",
     "output_type": "stream",
     "text": [
      "CDXXI\n",
      "True\n"
     ]
    }
   ],
   "source": [
    "# 22-2\n",
    "# regex\n",
    "\n",
    "regex_pattern =r'^M{,3}(C(D|M)|D?C{,3})(X(L|C)|L?X{,3})(I(X|V)|(X|V)?I{,3})$'\n",
    "import re\n",
    "print(str(bool(re.match(regex_pattern, input()))))"
   ]
  },
  {
   "cell_type": "markdown",
   "id": "2b6f9068",
   "metadata": {},
   "source": [
    "### 23. Validating phone numbers"
   ]
  },
  {
   "cell_type": "code",
   "execution_count": 136,
   "id": "fd7e0918",
   "metadata": {},
   "outputs": [
    {
     "name": "stdout",
     "output_type": "stream",
     "text": [
      "2\n",
      "9587456281\n",
      "YES\n",
      "1252478965\n",
      "NO\n"
     ]
    }
   ],
   "source": [
    "# 23-1\n",
    "# regex\n",
    "# 공부\n",
    "\n",
    "import re\n",
    "N=input()\n",
    "for i in range(int(N)):\n",
    "    if re.match(r'[789]\\d{9}$',input()):   \n",
    "        print('YES')\n",
    "    else:  \n",
    "        print('NO')"
   ]
  },
  {
   "cell_type": "markdown",
   "id": "4abd14e7",
   "metadata": {},
   "source": [
    "### 24. Validating and Parsing Email Addresses"
   ]
  },
  {
   "cell_type": "code",
   "execution_count": 139,
   "id": "ea87ee18",
   "metadata": {},
   "outputs": [
    {
     "name": "stdout",
     "output_type": "stream",
     "text": [
      "2\n",
      "DEXTER <dexter@hotmail.com>\n",
      "DEXTER <dexter@hotmail.com>\n",
      "VIRUS <virus!@variable.:p>\n"
     ]
    }
   ],
   "source": [
    "# 24-1\n",
    "# regex\n",
    "# 공부\n",
    "\n",
    "import re\n",
    "n = int(input())\n",
    "for _ in range(n):\n",
    "    x, y = input().split(' ')\n",
    "    m = re.match(r'<[A-Za-z](\\w|-|\\.|_)+@[A-Za-z]+\\.[A-Za-z]{1,3}>', y)\n",
    "    if m:\n",
    "        print(x,y)"
   ]
  },
  {
   "cell_type": "markdown",
   "id": "9f54885a",
   "metadata": {},
   "source": [
    "### 25. Hex Color Code"
   ]
  },
  {
   "cell_type": "code",
   "execution_count": 142,
   "id": "7089d80d",
   "metadata": {},
   "outputs": [
    {
     "name": "stdout",
     "output_type": "stream",
     "text": [
      "11\n",
      "#BED\n",
      "{\n",
      "color: #FfFdF8; background-color:#aef;\n",
      "#FfFdF8\n",
      "#aef\n",
      "font-size: 123px;\n",
      "background: -webkit-linear-gradient(top, #f9f9f9, #fff);\n",
      "#f9f9f9\n",
      "#fff\n",
      "}\n",
      "#Cab\n",
      "{\n",
      "background-color: #ABC;\n",
      "#ABC\n",
      "border: 2px dashed #fff;\n",
      "#fff\n",
      "}\n"
     ]
    }
   ],
   "source": [
    "# 25-1\n",
    "# regex\n",
    "# 와우... 공부...\n",
    "\n",
    "import re\n",
    "pattern=r'(#[0-9a-fA-F]{3,6}){1,2}[^\\n ]'\n",
    "for _ in range(int(input())):\n",
    "    for x in re.findall(pattern,input()):\n",
    "        print(x)"
   ]
  },
  {
   "cell_type": "markdown",
   "id": "aa4e3b17",
   "metadata": {},
   "source": [
    "### 26. HTML Parser - Part 1"
   ]
  },
  {
   "cell_type": "code",
   "execution_count": 145,
   "id": "bcd4441e",
   "metadata": {},
   "outputs": [
    {
     "name": "stdout",
     "output_type": "stream",
     "text": [
      "2\n",
      "<html><head><title>HTML Parser - I</title></head>\n",
      "<body data-modal-target class='1'><h1>HackerRank</h1><br /></body></html>\n",
      "Start : html\n",
      "Start : head\n",
      "Start : title\n",
      "End   : title\n",
      "End   : head\n",
      "Start : body\n",
      "-> data-modal-target > None\n",
      "-> class > 1\n",
      "Start : h1\n",
      "End   : h1\n",
      "Empty : br\n",
      "End   : body\n",
      "End   : html\n"
     ]
    }
   ],
   "source": [
    "# 26-1\n",
    "# regex\n",
    "# 공부\n",
    "\n",
    "from html.parser import HTMLParser\n",
    "class MyHTMLParser(HTMLParser):\n",
    "    def handle_starttag(self, tag, attrs):        \n",
    "        print ('Start :',tag)\n",
    "        for ele in attrs:\n",
    "            print ('->',ele[0],'>',ele[1])\n",
    "            \n",
    "    def handle_endtag(self, tag):\n",
    "        print ('End   :',tag)\n",
    "        \n",
    "    def handle_startendtag(self, tag, attrs):\n",
    "        print ('Empty :',tag)\n",
    "        for ele in attrs:\n",
    "            print ('->',ele[0],'>',ele[1])\n",
    "            \n",
    "MyParser = MyHTMLParser()\n",
    "MyParser.feed(''.join([input().strip() for _ in range(int(input()))]))"
   ]
  },
  {
   "cell_type": "markdown",
   "id": "e4c568b4",
   "metadata": {},
   "source": [
    "### 27. HTML Parser - Part 2"
   ]
  },
  {
   "cell_type": "code",
   "execution_count": 146,
   "id": "0245c0bc",
   "metadata": {},
   "outputs": [
    {
     "name": "stdout",
     "output_type": "stream",
     "text": [
      "4\n",
      "<!--[if IE 9]>IE9-specific content\n",
      "<![endif]-->\n",
      "<div> Welcome to HackerRank</div>\n",
      "<!--[if IE 9]>IE9-specific content<![endif]-->\n",
      ">>> Multi-line Comment\n",
      "[if IE 9]>IE9-specific content\n",
      "<![endif]\n",
      ">>> Data\n",
      " Welcome to HackerRank\n",
      ">>> Single-line Comment\n",
      "[if IE 9]>IE9-specific content<![endif]\n"
     ]
    }
   ],
   "source": [
    "# 27 - 1\n",
    "# regex\n",
    "# 공부\n",
    "\n",
    "from html.parser import HTMLParser\n",
    "class CustomHTMLParser(HTMLParser):\n",
    "    def handle_comment(self, data):\n",
    "        number_of_line = len(data.split('\\n'))\n",
    "        if number_of_line>1:\n",
    "            print('>>> Multi-line Comment')\n",
    "        else:\n",
    "            print('>>> Single-line Comment')\n",
    "        if data.strip():\n",
    "            print(data)\n",
    "\n",
    "    def handle_data(self, data):\n",
    "        if data.strip():\n",
    "            print(\">>> Data\")\n",
    "            print(data)\n",
    "\n",
    "parser = CustomHTMLParser()\n",
    "\n",
    "n = int(input())\n",
    "\n",
    "html_string = ''\n",
    "for i in range(n):\n",
    "    html_string += input().rstrip()+'\\n'\n",
    "    \n",
    "parser.feed(html_string)\n",
    "parser.close()"
   ]
  },
  {
   "cell_type": "markdown",
   "id": "4ae54084",
   "metadata": {},
   "source": [
    "### 28. Detect HTML Tags, Attributes and Attribute Values"
   ]
  },
  {
   "cell_type": "code",
   "execution_count": 147,
   "id": "dac86ce0",
   "metadata": {},
   "outputs": [
    {
     "name": "stdout",
     "output_type": "stream",
     "text": [
      "9\n",
      "<head>\n",
      "<title>HTML</title>\n",
      "</head>\n",
      "<object type=\"application/x-flash\" \n",
      "  data=\"your-file.swf\" \n",
      "  width=\"0\" height=\"0\">\n",
      "  <!-- <param name=\"movie\" value=\"your-file.swf\" /> -->\n",
      "  <param name=\"quality\" value=\"high\"/>\n",
      "</object>\n",
      "head\n",
      "title\n",
      "object\n",
      "-> type > application/x-flash\n",
      "-> data > your-file.swf\n",
      "-> width > 0\n",
      "-> height > 0\n",
      "param\n",
      "-> name > quality\n",
      "-> value > high\n"
     ]
    }
   ],
   "source": [
    "# 28-1\n",
    "# regex\n",
    "# 공부\n",
    "\n",
    "from html.parser import HTMLParser\n",
    "class MyHTMLParser(HTMLParser):\n",
    "    def handle_starttag(self, tag, attrs):\n",
    "        print(tag)\n",
    "        [print('-> {} > {}'.format(*attr)) for attr in attrs]\n",
    "        \n",
    "html = '\\n'.join([input() for _ in range(int(input()))])\n",
    "parser = MyHTMLParser()\n",
    "parser.feed(html)\n",
    "parser.close()"
   ]
  },
  {
   "cell_type": "markdown",
   "id": "1f9996e9",
   "metadata": {},
   "source": [
    "### 29. XML 1 - Find the Score"
   ]
  },
  {
   "cell_type": "code",
   "execution_count": null,
   "id": "23a2860f",
   "metadata": {},
   "outputs": [],
   "source": [
    "# 29-1\n",
    "# XML\n",
    "# 공부\n",
    "\n",
    "import sys\n",
    "import xml.etree.ElementTree as etree\n",
    "\n",
    "def get_attr_number(node):\n",
    "    return sum([len(elem.items()) for elem in tree.iter()])\n",
    "\n",
    "if __name__ == '__main__':\n",
    "    sys.stdin.readline()\n",
    "    xml = sys.stdin.read()\n",
    "    tree = etree.ElementTree(etree.fromstring(xml))\n",
    "    root = tree.getroot()\n",
    "    print(get_attr_number(root))"
   ]
  },
  {
   "cell_type": "markdown",
   "id": "2bf789ce",
   "metadata": {},
   "source": [
    "### 30. Validating UID"
   ]
  },
  {
   "cell_type": "code",
   "execution_count": 159,
   "id": "e7eee640",
   "metadata": {},
   "outputs": [
    {
     "name": "stdout",
     "output_type": "stream",
     "text": [
      "2\n",
      "B1CD102354\n",
      "Invalid\n",
      "B1CDEF2354\n",
      "Valid\n"
     ]
    }
   ],
   "source": [
    "# 30-1\n",
    "import re\n",
    "\n",
    "for _ in range(int(input())):\n",
    "    u = ''.join(sorted(input()))\n",
    "    try:\n",
    "        assert re.search(r'[A-Z]{2}', u)\n",
    "        assert re.search(r'\\d\\d\\d', u)\n",
    "        assert not re.search(r'[^a-zA-Z0-9]', u)\n",
    "        assert not re.search(r'(.)\\1', u)\n",
    "        assert len(u) == 10\n",
    "    except:\n",
    "        print('Invalid')\n",
    "    else:\n",
    "        print('Valid')"
   ]
  },
  {
   "cell_type": "markdown",
   "id": "863d07f7",
   "metadata": {},
   "source": [
    "### 31. XML2 - Find the Maximum Depth"
   ]
  },
  {
   "cell_type": "code",
   "execution_count": 161,
   "id": "e651df86",
   "metadata": {},
   "outputs": [
    {
     "name": "stdout",
     "output_type": "stream",
     "text": [
      "6\n",
      "<feed xml:lang='en'>\n",
      "    <title>HackerRank</title>\n",
      "    <subtitle lang='en'>Programming challenges</subtitle>\n",
      "    <link rel='alternate' type='text/html' href='http://hackerrank.com/'/>\n",
      "    <updated>2013-12-25T12:00:00</updated>\n",
      "</feed>\n",
      "1\n"
     ]
    }
   ],
   "source": [
    "# 31-1\n",
    "# XML\n",
    "# 공부\n",
    "\n",
    "import xml.etree.ElementTree as etree\n",
    "\n",
    "maxdepth = -1\n",
    "def depth(elem, level):\n",
    "    global maxdepth\n",
    "    if (level == maxdepth):\n",
    "        maxdepth += 1\n",
    "        \n",
    "    for child in elem:\n",
    "        depth(child, level + 1)\n",
    "\n",
    "if __name__ == '__main__':\n",
    "    n = int(input())\n",
    "    xml = \"\"\n",
    "    for i in range(n):\n",
    "        xml =  xml + input() + \"\\n\"\n",
    "    tree = etree.ElementTree(etree.fromstring(xml))\n",
    "    depth(tree.getroot(), -1)\n",
    "    print(maxdepth)"
   ]
  },
  {
   "cell_type": "markdown",
   "id": "e5977b0d",
   "metadata": {},
   "source": [
    "### 32. Standardize Mobile Number Using Decorators"
   ]
  },
  {
   "cell_type": "code",
   "execution_count": null,
   "id": "1030ea2d",
   "metadata": {},
   "outputs": [],
   "source": []
  },
  {
   "cell_type": "code",
   "execution_count": null,
   "id": "85687929",
   "metadata": {},
   "outputs": [],
   "source": []
  },
  {
   "cell_type": "code",
   "execution_count": null,
   "id": "27b47751",
   "metadata": {},
   "outputs": [],
   "source": []
  },
  {
   "cell_type": "code",
   "execution_count": null,
   "id": "4d4576d7",
   "metadata": {},
   "outputs": [],
   "source": []
  },
  {
   "cell_type": "code",
   "execution_count": null,
   "id": "bac55754",
   "metadata": {},
   "outputs": [],
   "source": []
  },
  {
   "cell_type": "code",
   "execution_count": null,
   "id": "1af30048",
   "metadata": {},
   "outputs": [],
   "source": []
  },
  {
   "cell_type": "code",
   "execution_count": null,
   "id": "979ca334",
   "metadata": {},
   "outputs": [],
   "source": []
  },
  {
   "cell_type": "code",
   "execution_count": null,
   "id": "66050fc9",
   "metadata": {},
   "outputs": [],
   "source": []
  },
  {
   "cell_type": "code",
   "execution_count": null,
   "id": "726aa20c",
   "metadata": {},
   "outputs": [],
   "source": []
  }
 ],
 "metadata": {
  "kernelspec": {
   "display_name": "hackerrank",
   "language": "python",
   "name": "hackerrank"
  },
  "language_info": {
   "codemirror_mode": {
    "name": "ipython",
    "version": 3
   },
   "file_extension": ".py",
   "mimetype": "text/x-python",
   "name": "python",
   "nbconvert_exporter": "python",
   "pygments_lexer": "ipython3",
   "version": "3.9.12"
  }
 },
 "nbformat": 4,
 "nbformat_minor": 5
}
