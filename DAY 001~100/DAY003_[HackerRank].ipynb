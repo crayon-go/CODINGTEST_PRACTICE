{
 "cells": [
  {
   "cell_type": "code",
   "execution_count": 1,
   "id": "2cf406fe",
   "metadata": {},
   "outputs": [],
   "source": [
    "#!/bin/python3\n",
    "\n",
    "import math\n",
    "import os\n",
    "import random\n",
    "import re\n",
    "import sys"
   ]
  },
  {
   "cell_type": "markdown",
   "id": "52ad5dd2",
   "metadata": {},
   "source": [
    "### 1. Set .intersection() Operation"
   ]
  },
  {
   "cell_type": "code",
   "execution_count": 1,
   "id": "33eccbb4",
   "metadata": {},
   "outputs": [
    {
     "name": "stdout",
     "output_type": "stream",
     "text": [
      "9\n",
      "1 2 3 4 5 6 7 8 9\n",
      "9\n",
      "10 1 2 3 11 21 55 6 8\n",
      "5\n"
     ]
    }
   ],
   "source": [
    "num1 = int(input())\n",
    "li1 = input().split()\n",
    "num2 = int(input())\n",
    "li2 = input().split()\n",
    "\n",
    "li1 = set(li1)\n",
    "li2 = set(li2)\n",
    "\n",
    "li3 = li1.intersection(li2)\n",
    "\n",
    "print(len(li3))"
   ]
  },
  {
   "cell_type": "markdown",
   "id": "191c6daf",
   "metadata": {},
   "source": [
    "### 2. Mod Divmod"
   ]
  },
  {
   "cell_type": "code",
   "execution_count": 21,
   "id": "6bee097c",
   "metadata": {},
   "outputs": [
    {
     "name": "stdout",
     "output_type": "stream",
     "text": [
      "177\n",
      "10\n",
      "17\n",
      "7\n",
      "(17, 7)\n"
     ]
    }
   ],
   "source": [
    "num1 = int(input())\n",
    "num2 = int(input())\n",
    "print('{0}\\n{1}'.format(*divmod(num1, num2)))\n",
    "print(divmod(num1, num2))"
   ]
  },
  {
   "cell_type": "markdown",
   "id": "b303fbf8",
   "metadata": {},
   "source": [
    "### 3. Power - Mod Power"
   ]
  },
  {
   "cell_type": "code",
   "execution_count": 27,
   "id": "5b13fa4c",
   "metadata": {},
   "outputs": [
    {
     "name": "stdout",
     "output_type": "stream",
     "text": [
      "3\n",
      "4\n",
      "5\n",
      "81\n",
      "1\n"
     ]
    }
   ],
   "source": [
    "num1 = int(input())\n",
    "num2 = int(input())\n",
    "num3 = int(input())\n",
    "print(pow(num1, num2))\n",
    "print(pow(num1, num2, num3))"
   ]
  },
  {
   "cell_type": "markdown",
   "id": "605bde2d",
   "metadata": {},
   "source": [
    "### 4. Set .difference() Operation"
   ]
  },
  {
   "cell_type": "code",
   "execution_count": 39,
   "id": "95b8cc98",
   "metadata": {},
   "outputs": [
    {
     "name": "stdout",
     "output_type": "stream",
     "text": [
      "9\n",
      "1 2 3 4 5 6 7 8 9\n",
      "9\n",
      "10 1 2 3 11 21 55 6 8\n"
     ]
    }
   ],
   "source": [
    "num1 = int(input())\n",
    "li1 = set(map(int, input().split()))\n",
    "num2 = int(input())\n",
    "li2 = set(map(int, input().split()))\n",
    "\n",
    "li3 = li1.difference(li2)\n",
    "\n",
    "print(len(li3))"
   ]
  },
  {
   "cell_type": "markdown",
   "id": "60a6b5d3",
   "metadata": {},
   "source": [
    "### 5. Integers Come In All Sizes"
   ]
  },
  {
   "cell_type": "code",
   "execution_count": 52,
   "id": "9181e6c0",
   "metadata": {
    "scrolled": true
   },
   "outputs": [
    {
     "name": "stdout",
     "output_type": "stream",
     "text": [
      "9\n",
      "29\n",
      "7\n",
      "27\n",
      "4710194409608608369201743232\n"
     ]
    }
   ],
   "source": [
    "a, b, c, d = (int(input()) for i in range(4))\n",
    "print(pow(a, b) + pow(c, d))"
   ]
  },
  {
   "cell_type": "markdown",
   "id": "2826c714",
   "metadata": {},
   "source": [
    "### 6. Set .symmetric_difference() Operation"
   ]
  },
  {
   "cell_type": "code",
   "execution_count": 54,
   "id": "c8710158",
   "metadata": {},
   "outputs": [
    {
     "name": "stdout",
     "output_type": "stream",
     "text": [
      "9\n",
      "1 2 3 4 5 6 7 8 9\n",
      "9\n",
      "10 1 2 3 11 21 55 6 8\n"
     ]
    }
   ],
   "source": [
    "num1 = int(input())\n",
    "li1 = set(map(int, input().split()))\n",
    "num2 = int(input())\n",
    "li2 = set(map(int, input().split()))\n",
    "\n",
    "li3 = li1.symmetric_difference(li2)\n",
    "\n",
    "print(len(li3))"
   ]
  },
  {
   "cell_type": "markdown",
   "id": "270fde19",
   "metadata": {},
   "source": [
    "### 7. Set Mutations"
   ]
  },
  {
   "cell_type": "code",
   "execution_count": 114,
   "id": "c05a3e25",
   "metadata": {},
   "outputs": [
    {
     "name": "stdout",
     "output_type": "stream",
     "text": [
      "16\n",
      "1 2 3 4 5 6 7 8 9 10 11 12 13 14 24 52\n",
      "4\n",
      "intersection_update 10\n",
      "2 3 5 6 8 9 1 4 7 11\n",
      "update 2\n",
      "55 66\n",
      "symmetric_difference_update 5\n",
      "22 7 35 62 58\n",
      "difference_update 7\n",
      "11 22 35 55 58 62 66\n",
      "38\n"
     ]
    }
   ],
   "source": [
    "# 7-1\n",
    "# set.update 합집합\n",
    "# set.intersection_update 교집합\n",
    "# set.difference_update 차집합\n",
    "# set.symmetric_difference_update 차집합\n",
    "\n",
    "num1 = int(input())\n",
    "s = set(map(int, input().split(' ')))\n",
    "num2 = int(input())\n",
    "for i in range(num2):\n",
    "    string, num3 = input().split(' ')\n",
    "    li2 = set(map(int, input().split(' ')))\n",
    "    eval('s.{0}({1})'.format(string, li2))\n",
    "print(sum(s))"
   ]
  },
  {
   "cell_type": "markdown",
   "id": "b43b5ebc",
   "metadata": {},
   "source": [
    "### 8. The Captain's Room"
   ]
  },
  {
   "cell_type": "code",
   "execution_count": 115,
   "id": "d35f0977",
   "metadata": {},
   "outputs": [],
   "source": [
    "# 8-1\n",
    "\n",
    "from collections import Counter\n",
    "\n",
    "num = int(input())\n",
    "arr = list(map(int, input().split()))\n",
    "\n",
    "ca = Counter(arr)\n",
    "for i in ca:\n",
    "    if ca[i] != num:\n",
    "        print(i)"
   ]
  },
  {
   "cell_type": "markdown",
   "id": "db51b5fc",
   "metadata": {},
   "source": [
    "### 9. Check Subset"
   ]
  },
  {
   "cell_type": "code",
   "execution_count": 137,
   "id": "26de7a3d",
   "metadata": {},
   "outputs": [
    {
     "name": "stdout",
     "output_type": "stream",
     "text": [
      "1\n",
      "5\n",
      "1 2 3 5 6\n",
      "9\n",
      "9 8 5 6 3 2 1 4 7\n",
      "True\n"
     ]
    }
   ],
   "source": [
    "# 9-1\n",
    "# issubset 부분집합\n",
    "\n",
    "for _ in range(int(input())):\n",
    "    x, a, z, b = input(), set(input().split()), input(), set(input().split())\n",
    "    print(a.issubset(b))"
   ]
  },
  {
   "cell_type": "markdown",
   "id": "51b9ca4b",
   "metadata": {},
   "source": [
    "### 10. Check Strict Superset"
   ]
  },
  {
   "cell_type": "code",
   "execution_count": 138,
   "id": "17c4e1dd",
   "metadata": {},
   "outputs": [
    {
     "name": "stdout",
     "output_type": "stream",
     "text": [
      "1 2 3 4 5 6 7 8 9 10 11 12 23 45 84 78\n",
      "2\n",
      "1 2 3 4 5\n",
      "100 11 12\n",
      "False\n"
     ]
    }
   ],
   "source": [
    "# 10-1\n",
    "# issubset, <, >\n",
    "# all\n",
    "a = set(input().split())\n",
    "print(all(a > set(input().split()) for _ in range(int(input()))))"
   ]
  },
  {
   "cell_type": "markdown",
   "id": "68eba8c9",
   "metadata": {},
   "source": [
    "### 11. Class 2 - Find the Torsional Angle"
   ]
  },
  {
   "cell_type": "code",
   "execution_count": 144,
   "id": "a430e779",
   "metadata": {},
   "outputs": [
    {
     "name": "stdout",
     "output_type": "stream",
     "text": [
      "0 4 5\n",
      "1 7 6\n",
      "0 5 9\n",
      "1 7 2\n",
      "8.19\n"
     ]
    }
   ],
   "source": [
    "# 11-1\n",
    "# 나중에 다시 볼것\n",
    "\n",
    "import math\n",
    "\n",
    "class Points(object):\n",
    "    def __init__(self, x, y, z):\n",
    "        self.x=x\n",
    "        self.y=y\n",
    "        self.z=z\n",
    "\n",
    "    def __sub__(self, no):\n",
    "        return  Points((self.x-no.x),(self.y-no.y),(self.z-no.z))\n",
    "\n",
    "    def dot(self, no):\n",
    "        return (self.x*no.x)+(self.y*no.y)+(self.z*no.z)\n",
    "\n",
    "    def cross(self, no):\n",
    "        return Points((self.y*no.z-self.z*no.y),(self.z*no.x-self.x*no.z),(self.x*no.y-self.y*no.x))\n",
    "        \n",
    "    def absolute(self):\n",
    "        return pow((self.x ** 2 + self.y ** 2 + self.z ** 2), 0.5)\n",
    "if __name__ == '__main__':\n",
    "    points = list()\n",
    "    for i in range(4):\n",
    "        a = list(map(float, input().split()))\n",
    "        points.append(a)\n",
    "\n",
    "    a, b, c, d = Points(*points[0]), Points(*points[1]), Points(*points[2]), Points(*points[3])\n",
    "    x = (b - a).cross(c - b)\n",
    "    y = (c - b).cross(d - c)\n",
    "    angle = math.acos(x.dot(y) / (x.absolute() * y.absolute()))\n",
    "\n",
    "    print(\"%.2f\" % math.degrees(angle))"
   ]
  },
  {
   "cell_type": "markdown",
   "id": "0c3ba425",
   "metadata": {},
   "source": [
    "### 12. Zipped!"
   ]
  },
  {
   "cell_type": "code",
   "execution_count": null,
   "id": "87fda39d",
   "metadata": {},
   "outputs": [],
   "source": [
    "5 3\n",
    "89 90 78 93 80\n",
    "90 91 85 88 86  \n",
    "91 92 83 89 90.5"
   ]
  },
  {
   "cell_type": "code",
   "execution_count": 12,
   "id": "45709a66",
   "metadata": {},
   "outputs": [
    {
     "name": "stdout",
     "output_type": "stream",
     "text": [
      "5 3\n",
      "89 90 78 93 80\n",
      "90 91 85 88 86\n",
      "91 92 83 89 90.5\n",
      "90.0\n",
      "91.0\n",
      "82.0\n",
      "90.0\n",
      "85.5\n"
     ]
    }
   ],
   "source": [
    "a, b = map(int, input().split(' '))\n",
    "\n",
    "li = []\n",
    "\n",
    "for j in range(b):\n",
    "    li.append(list(map(float, input().split())))\n",
    "\n",
    "X = zip(*li)\n",
    "X = list(X)\n",
    "\n",
    "for i in range(len(X)):\n",
    "    print(sum(X[i])/len(X[i]))"
   ]
  },
  {
   "cell_type": "markdown",
   "id": "30fb312b",
   "metadata": {},
   "source": [
    "### 13. Input()"
   ]
  },
  {
   "cell_type": "code",
   "execution_count": null,
   "id": "fa830e6e",
   "metadata": {},
   "outputs": [],
   "source": [
    "# 13-1\n",
    "# eval\n",
    "# (x**3 + x**2 + x + 1) == 4\n",
    "\n",
    "ui = input().split()\n",
    "x = int(ui[0])\n",
    "print(eval(input()) == int(ui[1]))\n"
   ]
  },
  {
   "cell_type": "markdown",
   "id": "2721c6e9",
   "metadata": {},
   "source": [
    "### 14. Python Evaluation"
   ]
  },
  {
   "cell_type": "code",
   "execution_count": 23,
   "id": "e7633a2a",
   "metadata": {},
   "outputs": [
    {
     "name": "stdout",
     "output_type": "stream",
     "text": [
      "5\n"
     ]
    }
   ],
   "source": [
    "# 14-1\n",
    "\n",
    "eval(input())"
   ]
  },
  {
   "cell_type": "markdown",
   "id": "f8bbcac8",
   "metadata": {},
   "source": [
    "### 15. Any or All"
   ]
  },
  {
   "cell_type": "code",
   "execution_count": 24,
   "id": "2cb45ac3",
   "metadata": {},
   "outputs": [
    {
     "data": {
      "text/plain": [
       "True"
      ]
     },
     "execution_count": 24,
     "metadata": {},
     "output_type": "execute_result"
    }
   ],
   "source": [
    "# 15-1\n",
    "# 이해가 잘 안감\n",
    "\n",
    "N = int(input())\n",
    "n = input().split()\n",
    "print(all([int(i)>0 for i in n]) and any([j == j[::-1] for j in n]))"
   ]
  },
  {
   "cell_type": "markdown",
   "id": "ed8ae323",
   "metadata": {},
   "source": [
    "### 16. Detect Floating Point Number"
   ]
  },
  {
   "cell_type": "code",
   "execution_count": 43,
   "id": "ca0eaef1",
   "metadata": {},
   "outputs": [
    {
     "name": "stdout",
     "output_type": "stream",
     "text": [
      "4\n",
      "4.0O0\n",
      "False\n",
      "-1.00\n",
      "True\n",
      "+4.54\n",
      "True\n",
      "SomeRandomStuff\n",
      "False\n"
     ]
    }
   ],
   "source": [
    "# 16-1\n",
    "# regrex 나중에 제대로 공부\n",
    "\n",
    "import re\n",
    "\n",
    "for _ in range(int(input())):\n",
    "    print(bool(re.match(r'^[-+]?[0-9]*\\.[0-9]+$', input())))"
   ]
  },
  {
   "cell_type": "markdown",
   "id": "881e7ff4",
   "metadata": {},
   "source": [
    "### 17. Map and Lambda Function"
   ]
  },
  {
   "cell_type": "code",
   "execution_count": 64,
   "id": "ab58d482",
   "metadata": {},
   "outputs": [
    {
     "name": "stdout",
     "output_type": "stream",
     "text": [
      "1\n",
      "[0]\n"
     ]
    }
   ],
   "source": [
    "# 17-1\n",
    "# lambda 좀 더 공부가 필요함\n",
    "# 피보나치\n",
    "# 다양한 테스트 케이스들을 해보자\n",
    "\n",
    "cube = lambda x:pow(x,3)\n",
    "\n",
    "def fibonacci(n):\n",
    "    li = [0, 1]\n",
    "    for i in range(2, n):\n",
    "        li.append(li[-2]+li[-1])\n",
    "    return li[0:n]\n",
    "\n",
    "if __name__ == '__main__':\n",
    "    n = int(input())\n",
    "    print(list(map(cube, fibonacci(n))))"
   ]
  },
  {
   "cell_type": "markdown",
   "id": "2c068e52",
   "metadata": {},
   "source": [
    "### 18. Re.split()"
   ]
  },
  {
   "cell_type": "code",
   "execution_count": 69,
   "id": "ccbf94f1",
   "metadata": {},
   "outputs": [
    {
     "name": "stdout",
     "output_type": "stream",
     "text": [
      "100,000,000.000\n",
      "100\n",
      "000\n",
      "000\n",
      "000\n"
     ]
    }
   ],
   "source": [
    "# 18-1\n",
    "# regex 공부 많이 필요함!!\n",
    "\n",
    "regex_pattern = r\"\\D+\"\n",
    "\n",
    "import re\n",
    "print(\"\\n\".join(re.split(regex_pattern, input())))"
   ]
  },
  {
   "cell_type": "markdown",
   "id": "0309ed40",
   "metadata": {},
   "source": [
    "### 19. Group(), Groups() & Groupdict()"
   ]
  },
  {
   "cell_type": "code",
   "execution_count": 94,
   "id": "504dc738",
   "metadata": {},
   "outputs": [
    {
     "name": "stdout",
     "output_type": "stream",
     "text": [
      "..12345678910111213141516171820212223\n",
      "1\n"
     ]
    }
   ],
   "source": [
    "# 19-1\n",
    "# regex - group(), groups(), groupdict()\n",
    "# 모르겠다... 공부\n",
    "\n",
    "import re\n",
    "m = re.search(r'([a-zA-Z0-9])\\1+', input().strip())\n",
    "print(m.group(1) if m else -1)"
   ]
  },
  {
   "cell_type": "markdown",
   "id": "733a3631",
   "metadata": {},
   "source": [
    "### 20. Re.findall() & Re.finditer()"
   ]
  },
  {
   "cell_type": "code",
   "execution_count": 107,
   "id": "084bb681",
   "metadata": {},
   "outputs": [
    {
     "name": "stdout",
     "output_type": "stream",
     "text": [
      "rabcdeefgyYhFjkIoomnpOeorteeeeet\n",
      "ee\n",
      "Ioo\n",
      "Oeo\n",
      "eeeee\n"
     ]
    }
   ],
   "source": [
    "# 20-1\n",
    "# regex\n",
    "# findall - 문자만 리스트로\n",
    "# finditer\n",
    "# 모르겠다... 공부!\n",
    "\n",
    "import re\n",
    "v = \"aeiou\"\n",
    "c = \"qwrtypsdfghjklzxcvbnm\"\n",
    "m = re.findall(r\"(?<=[%s])([%s]{2,})[%s]\" % (c, v, c), input(), flags = re.I)\n",
    "print('\\n'.join(m or ['-1']))"
   ]
  },
  {
   "cell_type": "markdown",
   "id": "56d8a06d",
   "metadata": {},
   "source": [
    "### 21 Re.start() & Re.end()"
   ]
  },
  {
   "cell_type": "code",
   "execution_count": 127,
   "id": "35acba2b",
   "metadata": {},
   "outputs": [
    {
     "name": "stdout",
     "output_type": "stream",
     "text": [
      "aaadaa\n",
      "aa\n",
      "(0, 1)\n",
      "(1, 2)\n",
      "(4, 5)\n"
     ]
    }
   ],
   "source": [
    "# 21-1\n",
    "# regex\n",
    "# 공부\n",
    "\n",
    "import re\n",
    "\n",
    "S = input()\n",
    "k = input()\n",
    "\n",
    "pattern = re.compile(k)\n",
    "r = pattern.search(S)\n",
    "if not r: print(\"(-1, -1)\")\n",
    "while r:\n",
    "    print(\"({0}, {1})\".format(r.start(), r.end() - 1))\n",
    "    r = pattern.search(S,r.start() + 1)"
   ]
  },
  {
   "cell_type": "markdown",
   "id": "bb3385b6",
   "metadata": {},
   "source": [
    "### 22. Validating Roman Numerals"
   ]
  },
  {
   "cell_type": "code",
   "execution_count": 131,
   "id": "129da835",
   "metadata": {},
   "outputs": [
    {
     "name": "stdout",
     "output_type": "stream",
     "text": [
      "CDXXI\n",
      "True\n"
     ]
    }
   ],
   "source": [
    "# 22-1\n",
    "# regex\n",
    "# 공부\n",
    "\n",
    "import re\n",
    "\n",
    "thousand = 'M{0,3}'\n",
    "hundred = '(C[MD]|D?C{0,3})'\n",
    "ten = '(X[CL]|L?X{0,3})'\n",
    "digit = '(I[VX]|V?I{0,3})'\n",
    "print (bool(re.match(thousand + hundred+ten+digit +'$', input())))"
   ]
  },
  {
   "cell_type": "code",
   "execution_count": 132,
   "id": "5436e594",
   "metadata": {},
   "outputs": [
    {
     "name": "stdout",
     "output_type": "stream",
     "text": [
      "CDXXI\n",
      "True\n"
     ]
    }
   ],
   "source": [
    "# 22-2\n",
    "# regex\n",
    "\n",
    "regex_pattern =r'^M{,3}(C(D|M)|D?C{,3})(X(L|C)|L?X{,3})(I(X|V)|(X|V)?I{,3})$'\n",
    "import re\n",
    "print(str(bool(re.match(regex_pattern, input()))))"
   ]
  },
  {
   "cell_type": "markdown",
   "id": "fccf18ed",
   "metadata": {},
   "source": [
    "### 23. Validating phone numbers"
   ]
  },
  {
   "cell_type": "code",
   "execution_count": 136,
   "id": "fe8af11b",
   "metadata": {},
   "outputs": [
    {
     "name": "stdout",
     "output_type": "stream",
     "text": [
      "2\n",
      "9587456281\n",
      "YES\n",
      "1252478965\n",
      "NO\n"
     ]
    }
   ],
   "source": [
    "# 23-1\n",
    "# regex\n",
    "# 공부\n",
    "\n",
    "import re\n",
    "N=input()\n",
    "for i in range(int(N)):\n",
    "    if re.match(r'[789]\\d{9}$',input()):   \n",
    "        print('YES')\n",
    "    else:  \n",
    "        print('NO')"
   ]
  },
  {
   "cell_type": "markdown",
   "id": "8cc3b9c8",
   "metadata": {},
   "source": [
    "### 24. Validating and Parsing Email Addresses"
   ]
  },
  {
   "cell_type": "code",
   "execution_count": 139,
   "id": "a4579b97",
   "metadata": {},
   "outputs": [
    {
     "name": "stdout",
     "output_type": "stream",
     "text": [
      "2\n",
      "DEXTER <dexter@hotmail.com>\n",
      "DEXTER <dexter@hotmail.com>\n",
      "VIRUS <virus!@variable.:p>\n"
     ]
    }
   ],
   "source": [
    "# 24-1\n",
    "# regex\n",
    "# 공부\n",
    "\n",
    "import re\n",
    "n = int(input())\n",
    "for _ in range(n):\n",
    "    x, y = input().split(' ')\n",
    "    m = re.match(r'<[A-Za-z](\\w|-|\\.|_)+@[A-Za-z]+\\.[A-Za-z]{1,3}>', y)\n",
    "    if m:\n",
    "        print(x,y)"
   ]
  },
  {
   "cell_type": "markdown",
   "id": "3b7cc6ea",
   "metadata": {},
   "source": [
    "### 25. Hex Color Code"
   ]
  },
  {
   "cell_type": "code",
   "execution_count": 142,
   "id": "58056830",
   "metadata": {},
   "outputs": [
    {
     "name": "stdout",
     "output_type": "stream",
     "text": [
      "11\n",
      "#BED\n",
      "{\n",
      "color: #FfFdF8; background-color:#aef;\n",
      "#FfFdF8\n",
      "#aef\n",
      "font-size: 123px;\n",
      "background: -webkit-linear-gradient(top, #f9f9f9, #fff);\n",
      "#f9f9f9\n",
      "#fff\n",
      "}\n",
      "#Cab\n",
      "{\n",
      "background-color: #ABC;\n",
      "#ABC\n",
      "border: 2px dashed #fff;\n",
      "#fff\n",
      "}\n"
     ]
    }
   ],
   "source": [
    "# 25-1\n",
    "# regex\n",
    "# 와우... 공부...\n",
    "\n",
    "import re\n",
    "pattern=r'(#[0-9a-fA-F]{3,6}){1,2}[^\\n ]'\n",
    "for _ in range(int(input())):\n",
    "    for x in re.findall(pattern,input()):\n",
    "        print(x)"
   ]
  },
  {
   "cell_type": "markdown",
   "id": "60e2bf1d",
   "metadata": {},
   "source": [
    "### 26. HTML Parser - Part 1"
   ]
  },
  {
   "cell_type": "code",
   "execution_count": 145,
   "id": "027bbf84",
   "metadata": {},
   "outputs": [
    {
     "name": "stdout",
     "output_type": "stream",
     "text": [
      "2\n",
      "<html><head><title>HTML Parser - I</title></head>\n",
      "<body data-modal-target class='1'><h1>HackerRank</h1><br /></body></html>\n",
      "Start : html\n",
      "Start : head\n",
      "Start : title\n",
      "End   : title\n",
      "End   : head\n",
      "Start : body\n",
      "-> data-modal-target > None\n",
      "-> class > 1\n",
      "Start : h1\n",
      "End   : h1\n",
      "Empty : br\n",
      "End   : body\n",
      "End   : html\n"
     ]
    }
   ],
   "source": [
    "# 26-1\n",
    "# regex\n",
    "# 공부\n",
    "\n",
    "from html.parser import HTMLParser\n",
    "class MyHTMLParser(HTMLParser):\n",
    "    def handle_starttag(self, tag, attrs):        \n",
    "        print ('Start :',tag)\n",
    "        for ele in attrs:\n",
    "            print ('->',ele[0],'>',ele[1])\n",
    "            \n",
    "    def handle_endtag(self, tag):\n",
    "        print ('End   :',tag)\n",
    "        \n",
    "    def handle_startendtag(self, tag, attrs):\n",
    "        print ('Empty :',tag)\n",
    "        for ele in attrs:\n",
    "            print ('->',ele[0],'>',ele[1])\n",
    "            \n",
    "MyParser = MyHTMLParser()\n",
    "MyParser.feed(''.join([input().strip() for _ in range(int(input()))]))"
   ]
  },
  {
   "cell_type": "markdown",
   "id": "f84b1865",
   "metadata": {},
   "source": [
    "### 27. HTML Parser - Part 2"
   ]
  },
  {
   "cell_type": "code",
   "execution_count": 146,
   "id": "e9064317",
   "metadata": {},
   "outputs": [
    {
     "name": "stdout",
     "output_type": "stream",
     "text": [
      "4\n",
      "<!--[if IE 9]>IE9-specific content\n",
      "<![endif]-->\n",
      "<div> Welcome to HackerRank</div>\n",
      "<!--[if IE 9]>IE9-specific content<![endif]-->\n",
      ">>> Multi-line Comment\n",
      "[if IE 9]>IE9-specific content\n",
      "<![endif]\n",
      ">>> Data\n",
      " Welcome to HackerRank\n",
      ">>> Single-line Comment\n",
      "[if IE 9]>IE9-specific content<![endif]\n"
     ]
    }
   ],
   "source": [
    "# 27 - 1\n",
    "# regex\n",
    "# 공부\n",
    "\n",
    "from html.parser import HTMLParser\n",
    "class CustomHTMLParser(HTMLParser):\n",
    "    def handle_comment(self, data):\n",
    "        number_of_line = len(data.split('\\n'))\n",
    "        if number_of_line>1:\n",
    "            print('>>> Multi-line Comment')\n",
    "        else:\n",
    "            print('>>> Single-line Comment')\n",
    "        if data.strip():\n",
    "            print(data)\n",
    "\n",
    "    def handle_data(self, data):\n",
    "        if data.strip():\n",
    "            print(\">>> Data\")\n",
    "            print(data)\n",
    "\n",
    "parser = CustomHTMLParser()\n",
    "\n",
    "n = int(input())\n",
    "\n",
    "html_string = ''\n",
    "for i in range(n):\n",
    "    html_string += input().rstrip()+'\\n'\n",
    "    \n",
    "parser.feed(html_string)\n",
    "parser.close()"
   ]
  },
  {
   "cell_type": "markdown",
   "id": "9fe51a3e",
   "metadata": {},
   "source": [
    "### 28. Detect HTML Tags, Attributes and Attribute Values"
   ]
  },
  {
   "cell_type": "code",
   "execution_count": 147,
   "id": "1c4c6f56",
   "metadata": {},
   "outputs": [
    {
     "name": "stdout",
     "output_type": "stream",
     "text": [
      "9\n",
      "<head>\n",
      "<title>HTML</title>\n",
      "</head>\n",
      "<object type=\"application/x-flash\" \n",
      "  data=\"your-file.swf\" \n",
      "  width=\"0\" height=\"0\">\n",
      "  <!-- <param name=\"movie\" value=\"your-file.swf\" /> -->\n",
      "  <param name=\"quality\" value=\"high\"/>\n",
      "</object>\n",
      "head\n",
      "title\n",
      "object\n",
      "-> type > application/x-flash\n",
      "-> data > your-file.swf\n",
      "-> width > 0\n",
      "-> height > 0\n",
      "param\n",
      "-> name > quality\n",
      "-> value > high\n"
     ]
    }
   ],
   "source": [
    "# 28-1\n",
    "# regex\n",
    "# 공부\n",
    "\n",
    "from html.parser import HTMLParser\n",
    "class MyHTMLParser(HTMLParser):\n",
    "    def handle_starttag(self, tag, attrs):\n",
    "        print(tag)\n",
    "        [print('-> {} > {}'.format(*attr)) for attr in attrs]\n",
    "        \n",
    "html = '\\n'.join([input() for _ in range(int(input()))])\n",
    "parser = MyHTMLParser()\n",
    "parser.feed(html)\n",
    "parser.close()"
   ]
  },
  {
   "cell_type": "markdown",
   "id": "0171a847",
   "metadata": {},
   "source": [
    "### 29. XML 1 - Find the Score"
   ]
  },
  {
   "cell_type": "code",
   "execution_count": null,
   "id": "26b8b5e2",
   "metadata": {},
   "outputs": [],
   "source": [
    "# 29-1\n",
    "# XML\n",
    "# 공부\n",
    "\n",
    "import sys\n",
    "import xml.etree.ElementTree as etree\n",
    "\n",
    "def get_attr_number(node):\n",
    "    return sum([len(elem.items()) for elem in tree.iter()])\n",
    "\n",
    "if __name__ == '__main__':\n",
    "    sys.stdin.readline()\n",
    "    xml = sys.stdin.read()\n",
    "    tree = etree.ElementTree(etree.fromstring(xml))\n",
    "    root = tree.getroot()\n",
    "    print(get_attr_number(root))"
   ]
  },
  {
   "cell_type": "markdown",
   "id": "4f722087",
   "metadata": {},
   "source": [
    "### 30. Validating UID"
   ]
  },
  {
   "cell_type": "code",
   "execution_count": 159,
   "id": "a58ce48d",
   "metadata": {},
   "outputs": [
    {
     "name": "stdout",
     "output_type": "stream",
     "text": [
      "2\n",
      "B1CD102354\n",
      "Invalid\n",
      "B1CDEF2354\n",
      "Valid\n"
     ]
    }
   ],
   "source": [
    "# 30-1\n",
    "import re\n",
    "\n",
    "for _ in range(int(input())):\n",
    "    u = ''.join(sorted(input()))\n",
    "    try:\n",
    "        assert re.search(r'[A-Z]{2}', u)\n",
    "        assert re.search(r'\\d\\d\\d', u)\n",
    "        assert not re.search(r'[^a-zA-Z0-9]', u)\n",
    "        assert not re.search(r'(.)\\1', u)\n",
    "        assert len(u) == 10\n",
    "    except:\n",
    "        print('Invalid')\n",
    "    else:\n",
    "        print('Valid')"
   ]
  },
  {
   "cell_type": "markdown",
   "id": "a742cbe8",
   "metadata": {},
   "source": [
    "### 31. XML2 - Find the Maximum Depth"
   ]
  },
  {
   "cell_type": "code",
   "execution_count": 161,
   "id": "019f7f24",
   "metadata": {},
   "outputs": [
    {
     "name": "stdout",
     "output_type": "stream",
     "text": [
      "6\n",
      "<feed xml:lang='en'>\n",
      "    <title>HackerRank</title>\n",
      "    <subtitle lang='en'>Programming challenges</subtitle>\n",
      "    <link rel='alternate' type='text/html' href='http://hackerrank.com/'/>\n",
      "    <updated>2013-12-25T12:00:00</updated>\n",
      "</feed>\n",
      "1\n"
     ]
    }
   ],
   "source": [
    "# 31-1\n",
    "# XML\n",
    "# 공부\n",
    "\n",
    "import xml.etree.ElementTree as etree\n",
    "\n",
    "maxdepth = -1\n",
    "def depth(elem, level):\n",
    "    global maxdepth\n",
    "    if (level == maxdepth):\n",
    "        maxdepth += 1\n",
    "        \n",
    "    for child in elem:\n",
    "        depth(child, level + 1)\n",
    "\n",
    "if __name__ == '__main__':\n",
    "    n = int(input())\n",
    "    xml = \"\"\n",
    "    for i in range(n):\n",
    "        xml =  xml + input() + \"\\n\"\n",
    "    tree = etree.ElementTree(etree.fromstring(xml))\n",
    "    depth(tree.getroot(), -1)\n",
    "    print(maxdepth)"
   ]
  },
  {
   "cell_type": "markdown",
   "id": "95e27812",
   "metadata": {},
   "source": [
    "### 32. Standardize Mobile Number Using Decorators"
   ]
  },
  {
   "cell_type": "code",
   "execution_count": 168,
   "id": "1b5b8175",
   "metadata": {},
   "outputs": [
    {
     "name": "stdout",
     "output_type": "stream",
     "text": [
      "3\n",
      "07895462130\n",
      "919875641230\n",
      "9195969878\n",
      "+91 78954 62130\n",
      "+91 91959 69878\n",
      "+91 98756 41230\n"
     ]
    }
   ],
   "source": [
    "# 32-1\n",
    "# decorator\n",
    "# 공부\n",
    "\n",
    "def wrapper(f):\n",
    "    def fun(l):\n",
    "        f([\"+91 \" + c[-10:-5] + \" \" + c[-5:] for c in l])\n",
    "    return fun\n",
    "\n",
    "@wrapper\n",
    "def sort_phone(l):\n",
    "    print(*sorted(l), sep='\\n')\n",
    "\n",
    "if __name__ == '__main__':\n",
    "    l = [input() for _ in range(int(input()))]\n",
    "    sort_phone(l) "
   ]
  },
  {
   "cell_type": "markdown",
   "id": "49b6a42d",
   "metadata": {},
   "source": [
    "### 33. Decorators 2 - Name Directory"
   ]
  },
  {
   "cell_type": "code",
   "execution_count": 170,
   "id": "7c7072e2",
   "metadata": {},
   "outputs": [
    {
     "name": "stdout",
     "output_type": "stream",
     "text": [
      "3\n",
      "Mike Thomson 20 M\n",
      "Robert Bustle 32 M\n",
      "Andria Bustle 30 F\n",
      "Mr. Mike Thomson\n",
      "Ms. Andria Bustle\n",
      "Mr. Robert Bustle\n"
     ]
    }
   ],
   "source": [
    "# 33-1\n",
    "# decorator\n",
    "# yield\n",
    "# itemgetter\n",
    "# 공부!!!\n",
    "\n",
    "import operator\n",
    "\n",
    "def person_lister(f):\n",
    "    def inner(people):\n",
    "        # complete the function\n",
    "        for ps in sorted(people, key=lambda x: int(x[2])):\n",
    "            yield f(ps)\n",
    "    return inner\n",
    "\n",
    "@person_lister\n",
    "def name_format(person):\n",
    "    return (\"Mr. \" if person[3] == \"M\" else \"Ms. \") + person[0] + \" \" + person[1]\n",
    "\n",
    "if __name__ == '__main__':\n",
    "    people = [input().split() for i in range(int(input()))]\n",
    "    print(*name_format(people), sep='\\n')"
   ]
  },
  {
   "cell_type": "markdown",
   "id": "d1da5894",
   "metadata": {},
   "source": [
    "### 34. Arrays"
   ]
  },
  {
   "cell_type": "code",
   "execution_count": 198,
   "id": "ed4096ed",
   "metadata": {},
   "outputs": [
    {
     "name": "stdout",
     "output_type": "stream",
     "text": [
      "1 2 3 4 -8 -10\n",
      "[-10.  -8.   4.   3.   2.   1.]\n",
      "<class 'numpy.float64'>\n"
     ]
    }
   ],
   "source": [
    "# 34-1\n",
    "# sorted아니고 reverse.. 문제 조건 잘 확인하기\n",
    "\n",
    "import numpy\n",
    "\n",
    "def arrays(arr):\n",
    "    ar = numpy.array(arr[::-1], float)\n",
    "    return ar\n",
    "\n",
    "arr = input().strip().split(' ')\n",
    "result = arrays(arr)\n",
    "print(result)\n",
    "print(type(result[0]))"
   ]
  },
  {
   "cell_type": "markdown",
   "id": "d2a5f88c",
   "metadata": {},
   "source": [
    "### 35. Shape and Reshape"
   ]
  },
  {
   "cell_type": "code",
   "execution_count": 238,
   "id": "d2b8d925",
   "metadata": {},
   "outputs": [
    {
     "name": "stdout",
     "output_type": "stream",
     "text": [
      "1 2 3 4 5 6 7 8 9\n",
      "[[1 2 3]\n",
      " [4 5 6]\n",
      " [7 8 9]]\n"
     ]
    }
   ],
   "source": [
    "# 35-1\n",
    "# shape, reshape\n",
    "# Sample Input 값 잘 확인\n",
    "\n",
    "import numpy as np\n",
    "print(np.array(input().split(' '), int).reshape(3, 3))"
   ]
  },
  {
   "cell_type": "markdown",
   "id": "a5b078ed",
   "metadata": {},
   "source": [
    "### 36. Transpose and Flatten"
   ]
  },
  {
   "cell_type": "code",
   "execution_count": 268,
   "id": "19df2162",
   "metadata": {},
   "outputs": [
    {
     "name": "stdout",
     "output_type": "stream",
     "text": [
      "2 2\n",
      "1 2\n",
      "3 4\n",
      "[[1 3]\n",
      " [2 4]]\n",
      "[1 2 3 4]\n"
     ]
    }
   ],
   "source": [
    "# 36-1\n",
    "# transpose\n",
    "# flatten\n",
    "\n",
    "import numpy as np\n",
    "\n",
    "n, m = map(int, input().split())\n",
    "array = np.array([input().strip().split() for _ in range(n)], int)\n",
    "print(array.transpose())\n",
    "print(array.flatten())"
   ]
  },
  {
   "cell_type": "markdown",
   "id": "a0fc2b3b",
   "metadata": {},
   "source": [
    "### 37. Concatenate"
   ]
  },
  {
   "cell_type": "code",
   "execution_count": 302,
   "id": "30f9f36b",
   "metadata": {},
   "outputs": [
    {
     "name": "stdout",
     "output_type": "stream",
     "text": [
      "4 3 2\n",
      "1 2\n",
      "1 2\n",
      "1 2\n",
      "1 2\n",
      "3 4\n",
      "3 4\n",
      "3 4\n",
      "[[1 2]\n",
      " [1 2]\n",
      " [1 2]\n",
      " [1 2]\n",
      " [3 4]\n",
      " [3 4]\n",
      " [3 4]]\n"
     ]
    }
   ],
   "source": [
    "# 37-1\n",
    "# concatenate\n",
    "\n",
    "import numpy as np\n",
    "\n",
    "a, b, c = map(int,input().split())\n",
    "arrA = np.array([input().split() for _ in range(a)], int)\n",
    "arrB = np.array([input().split() for _ in range(b)], int)\n",
    "print(np.concatenate((arrA, arrB), axis = 0))"
   ]
  },
  {
   "cell_type": "markdown",
   "id": "d56f2d19",
   "metadata": {},
   "source": [
    "### 38. Zeros and Ones"
   ]
  },
  {
   "cell_type": "code",
   "execution_count": 331,
   "id": "760e776e",
   "metadata": {},
   "outputs": [
    {
     "name": "stdout",
     "output_type": "stream",
     "text": [
      "3 3 3\n",
      "[[[0 0 0]\n",
      "  [0 0 0]\n",
      "  [0 0 0]]\n",
      "\n",
      " [[0 0 0]\n",
      "  [0 0 0]\n",
      "  [0 0 0]]\n",
      "\n",
      " [[0 0 0]\n",
      "  [0 0 0]\n",
      "  [0 0 0]]]\n",
      "[[[1 1 1]\n",
      "  [1 1 1]\n",
      "  [1 1 1]]\n",
      "\n",
      " [[1 1 1]\n",
      "  [1 1 1]\n",
      "  [1 1 1]]\n",
      "\n",
      " [[1 1 1]\n",
      "  [1 1 1]\n",
      "  [1 1 1]]]\n"
     ]
    }
   ],
   "source": [
    "# 38-1\n",
    "# zeros\n",
    "# ones\n",
    "\n",
    "nums = tuple(map(int, input().split()))\n",
    "print (numpy.zeros(nums, int))\n",
    "print (numpy.ones(nums, int))"
   ]
  },
  {
   "cell_type": "markdown",
   "id": "76f29371",
   "metadata": {},
   "source": [
    "### 39. Eye and Identity"
   ]
  },
  {
   "cell_type": "code",
   "execution_count": 353,
   "id": "47377247",
   "metadata": {},
   "outputs": [
    {
     "name": "stdout",
     "output_type": "stream",
     "text": [
      "3 3\n",
      "[[ 1.  0.  0.]\n",
      " [ 0.  1.  0.]\n",
      " [ 0.  0.  1.]]\n"
     ]
    }
   ],
   "source": [
    "# 39-1\n",
    "# identify - 정방단위행렬, 단위행렬은 대각행렬이 1이고 나머지는 모두 0인 행렬\n",
    "# eye\n",
    "# replace (str)\n",
    "\n",
    "import numpy\n",
    "\n",
    "n, m = map(int, input().split())\n",
    "print(str(numpy.eye(n, m)).replace('1', ' 1').replace('0', ' 0'))"
   ]
  },
  {
   "cell_type": "markdown",
   "id": "36e6a326",
   "metadata": {},
   "source": [
    "### 40. Array Mathematics"
   ]
  },
  {
   "cell_type": "code",
   "execution_count": 383,
   "id": "79ce59fa",
   "metadata": {},
   "outputs": [
    {
     "name": "stdout",
     "output_type": "stream",
     "text": [
      "1 4\n",
      "1 2 3 4\n",
      "5 6 7 8\n",
      "[[ 6  8 10 12]]\n",
      "[[-4 -4 -4 -4]]\n",
      "[[ 5 12 21 32]]\n",
      "[[0 0 0 0]]\n",
      "[[1 2 3 4]]\n",
      "[[    1    64  2187 65536]]\n"
     ]
    }
   ],
   "source": [
    "# 40-1\n",
    "# 잘 이해가 안감\n",
    "# 공부\n",
    "\n",
    "import numpy as np\n",
    "\n",
    "n, m = map(int, input().split())\n",
    "a, b = (np.array([input().split() for _ in range(n)], dtype=int) for _ in range(2))\n",
    "print(a+b, a-b, a*b, a//b, a%b, a**b, sep='\\n')"
   ]
  },
  {
   "cell_type": "markdown",
   "id": "96ff83a3",
   "metadata": {},
   "source": [
    "### 41. Floor, Ceil and Rint"
   ]
  },
  {
   "cell_type": "code",
   "execution_count": 20,
   "id": "fd27fa06",
   "metadata": {},
   "outputs": [
    {
     "name": "stdout",
     "output_type": "stream",
     "text": [
      "1.1 2.2 3.3 4.4 5.5 6.6 7.7 8.8 9.9\n",
      "[ 1.  2.  3.  4.  5.  6.  7.  8.  9.]\n",
      "[  2.   3.   4.   5.   6.   7.   8.   9.  10.]\n",
      "[  1.   2.   3.   4.   6.   7.   8.   9.  10.]\n"
     ]
    }
   ],
   "source": [
    "# 41-1\n",
    "# floor - 내림\n",
    "# ceil - 올림\n",
    "# rint - 반올림\n",
    "# set_printoptions - numpy 출력 옵션\n",
    "# 출력 결과물 띄어쓰기 잘 보자\n",
    "\n",
    "import numpy\n",
    "\n",
    "numpy.set_printoptions(sign=' ')\n",
    "a = numpy.array(input().split(), float)\n",
    "print(numpy.floor(a))\n",
    "print(numpy.ceil(a))\n",
    "print(numpy.rint(a))"
   ]
  },
  {
   "cell_type": "markdown",
   "id": "206ce434",
   "metadata": {},
   "source": [
    "### 42. Sum and Prod"
   ]
  },
  {
   "cell_type": "code",
   "execution_count": 35,
   "id": "6f8e705a",
   "metadata": {},
   "outputs": [
    {
     "name": "stdout",
     "output_type": "stream",
     "text": [
      "2 2\n",
      "1 2\n",
      "3 4\n",
      "24\n"
     ]
    }
   ],
   "source": [
    "# 42-1\n",
    "# sum\n",
    "# prod\n",
    "\n",
    "import numpy\n",
    "\n",
    "N, M = map(int, input().split())\n",
    "A = numpy.array([input().split() for _ in range(N)],int)\n",
    "print(numpy.prod(numpy.sum(A, axis=0), axis=0))"
   ]
  },
  {
   "cell_type": "markdown",
   "id": "fa66133f",
   "metadata": {},
   "source": [
    "### 43. Min and Max"
   ]
  },
  {
   "cell_type": "code",
   "execution_count": 42,
   "id": "b0eb32f4",
   "metadata": {},
   "outputs": [
    {
     "name": "stdout",
     "output_type": "stream",
     "text": [
      "4 2\n",
      "2 5\n",
      "3 7\n",
      "1 3\n",
      "4 0\n",
      "3\n"
     ]
    }
   ],
   "source": [
    "# 43-1\n",
    "# sample input 라인별로 줄 의미 확인. 특히 첫째줄\n",
    "\n",
    "import numpy\n",
    "\n",
    "arr=[]\n",
    "n,m=map(int,input().split())\n",
    "\n",
    "for row in range(n):\n",
    "    my_arr=list(map(int,input().split()))\n",
    "    arr.append(my_arr)\n",
    "\n",
    "my_array=numpy.array(arr)\n",
    "result=numpy.min(my_array, axis = 1)\n",
    "\n",
    "print(max(result))"
   ]
  },
  {
   "cell_type": "markdown",
   "id": "3716530b",
   "metadata": {},
   "source": [
    "### 44. Mean, Var, and Std\n"
   ]
  },
  {
   "cell_type": "code",
   "execution_count": 59,
   "id": "0194e122",
   "metadata": {},
   "outputs": [
    {
     "name": "stdout",
     "output_type": "stream",
     "text": [
      "2 2\n",
      "1 2\n",
      "3 4\n",
      "[ 1.5  3.5]\n",
      "[ 1.  1.]\n",
      "1.11803398875\n"
     ]
    }
   ],
   "source": [
    "# 44-1\n",
    "# mean - 평균\n",
    "# var - 분산\n",
    "# std - 표준편차\n",
    "# 출력 - 소수점 자리수 확인\n",
    "# 뭔가 이상하다..\n",
    "\n",
    "import numpy\n",
    "\n",
    "numpy.set_printoptions(sign=' ')\n",
    "\n",
    "N, M = map(int, input().split())\n",
    "my_array = numpy.array([input().split() for _ in range(N)], int)\n",
    "\n",
    "print(numpy.mean(my_array, axis = 1))\n",
    "print(numpy.var(my_array, axis = 0))\n",
    "print(numpy.std(my_array, axis = None))"
   ]
  },
  {
   "cell_type": "code",
   "execution_count": 65,
   "id": "69bea87d",
   "metadata": {},
   "outputs": [
    {
     "name": "stdout",
     "output_type": "stream",
     "text": [
      "2 2\n",
      "1 2\n",
      "3 4\n",
      "[ 1.5  3.5]\n",
      "[ 1.  1.]\n",
      "1.11803398875\n"
     ]
    }
   ],
   "source": [
    "# 44-2\n",
    "# 1번답은 hackerrank에서 통과가 안됨.. 출력부분 띄어쓰기..\n",
    "# 2번답은 됨.. 차이를 모르겠다\n",
    "\n",
    "import numpy\n",
    "array = []\n",
    "n, m = map(int, input().split())\n",
    "for _ in range(n): array.append(list(map(int, input().split())))\n",
    "array = numpy.array(array)\n",
    "print(numpy.mean(array, axis=1))\n",
    "print(numpy.var(array, axis=0))\n",
    "print(round(numpy.std(array), 11))"
   ]
  },
  {
   "cell_type": "markdown",
   "id": "bc8ce954",
   "metadata": {},
   "source": [
    "### 45. Dot and Cross"
   ]
  },
  {
   "cell_type": "code",
   "execution_count": 81,
   "id": "71b63b01",
   "metadata": {},
   "outputs": [
    {
     "name": "stdout",
     "output_type": "stream",
     "text": [
      "2\n",
      "1 2\n",
      "3 4\n",
      "1 2\n",
      "3 4\n",
      "[[ 7 10]\n",
      " [15 22]]\n"
     ]
    }
   ],
   "source": [
    "# 45-1\n",
    "# dot - 행렬곱\n",
    "# cross - 백터곱\n",
    "# 백터곱 공부\n",
    "\n",
    "import numpy\n",
    "\n",
    "a = int(input())\n",
    "\n",
    "arr1 = numpy.array([list(map(int,input().split())) for _ in range(a)])\n",
    "arr2 = numpy.array([list(map(int,input().split())) for _ in range(a)])\n",
    "\n",
    "print(numpy.dot(arr1, arr2))"
   ]
  },
  {
   "cell_type": "markdown",
   "id": "40b2cf7d",
   "metadata": {},
   "source": [
    "### 46. Inner and Outer"
   ]
  },
  {
   "cell_type": "code",
   "execution_count": 84,
   "id": "628b56f2",
   "metadata": {},
   "outputs": [
    {
     "name": "stdout",
     "output_type": "stream",
     "text": [
      "0 1\n",
      "2 3\n",
      "3\n",
      "[[0 0]\n",
      " [2 3]]\n"
     ]
    }
   ],
   "source": [
    "# 46-1\n",
    "# inner, outer\n",
    "# 공부\n",
    "\n",
    "import numpy as np\n",
    "\n",
    "A = np.array(input().split(), int)\n",
    "B = np.array(input().split(), int)\n",
    "\n",
    "print(np.inner(A,B), np.outer(A,B), sep='\\n')"
   ]
  },
  {
   "cell_type": "markdown",
   "id": "7615f707",
   "metadata": {},
   "source": [
    "### 47. Polynomials"
   ]
  },
  {
   "cell_type": "code",
   "execution_count": 97,
   "id": "6a8a0785",
   "metadata": {},
   "outputs": [
    {
     "name": "stdout",
     "output_type": "stream",
     "text": [
      "1.1 2 3\n",
      "0\n",
      "3.0\n"
     ]
    }
   ],
   "source": [
    "# 47-1\n",
    "# polynomials - 다항식\n",
    "# poly\n",
    "# roots\n",
    "# polyint\n",
    "# polyder\n",
    "# polyval\n",
    "# polyfit\n",
    "# 공부\n",
    "\n",
    "print(__import__('numpy').polyval(list(map(float,input().split())),float(input())))"
   ]
  },
  {
   "cell_type": "markdown",
   "id": "94f7638c",
   "metadata": {},
   "source": [
    "### 48. Linear Algebra"
   ]
  },
  {
   "cell_type": "code",
   "execution_count": 98,
   "id": "3da77389",
   "metadata": {},
   "outputs": [
    {
     "name": "stdout",
     "output_type": "stream",
     "text": [
      "2\n",
      "1.1 1.1\n",
      "1.1 1.1\n",
      "0.0\n"
     ]
    }
   ],
   "source": [
    "# 48-1\n",
    "# linalg.det\n",
    "# linalg.eig\n",
    "# linalg.inv\n",
    "# 공부...\n",
    "\n",
    "import numpy\n",
    "\n",
    "print(round(numpy.linalg.det(numpy.array([list(map(float,input().split())) for _ in range(int(input()))])),2))\n"
   ]
  }
 ],
 "metadata": {
  "kernelspec": {
   "display_name": "hackerrank",
   "language": "python",
   "name": "hackerrank"
  },
  "language_info": {
   "codemirror_mode": {
    "name": "ipython",
    "version": 3
   },
   "file_extension": ".py",
   "mimetype": "text/x-python",
   "name": "python",
   "nbconvert_exporter": "python",
   "pygments_lexer": "ipython3",
   "version": "3.9.12"
  }
 },
 "nbformat": 4,
 "nbformat_minor": 5
}
