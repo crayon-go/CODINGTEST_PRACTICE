{
 "cells": [
  {
   "cell_type": "code",
   "execution_count": null,
   "id": "df2681db",
   "metadata": {},
   "outputs": [],
   "source": [
    "input\toutput\n",
    "[[1], [2]]\t[1,1]\n",
    "[[1, 2], [3, 4], [5]]\t[2,2,1]"
   ]
  },
  {
   "cell_type": "code",
   "execution_count": 15,
   "id": "b7ce3ac1",
   "metadata": {},
   "outputs": [],
   "source": [
    "def solution(mylist):\n",
    "    tmp_list = []\n",
    "    for i in input_list:\n",
    "        tmp_list.append(len(i))\n",
    "\n",
    "    answer = tmp_list\n",
    "    \n",
    "    return answer\n",
    "\n",
    "\n"
   ]
  },
  {
   "cell_type": "code",
   "execution_count": 16,
   "id": "fbf7a476",
   "metadata": {},
   "outputs": [
    {
     "data": {
      "text/plain": [
       "[1, 1]"
      ]
     },
     "execution_count": 16,
     "metadata": {},
     "output_type": "execute_result"
    }
   ],
   "source": [
    "input_list = [[1], [2]]\n",
    "solution(input_list)"
   ]
  },
  {
   "cell_type": "code",
   "execution_count": 13,
   "id": "21707ae6",
   "metadata": {},
   "outputs": [],
   "source": [
    "tmp_list = []\n",
    "for i in input_list:\n",
    "    tmp_list.append(len(i))\n"
   ]
  },
  {
   "cell_type": "code",
   "execution_count": 14,
   "id": "6cd4df41",
   "metadata": {},
   "outputs": [
    {
     "data": {
      "text/plain": [
       "[1, 1]"
      ]
     },
     "execution_count": 14,
     "metadata": {},
     "output_type": "execute_result"
    }
   ],
   "source": [
    "tmp_list"
   ]
  },
  {
   "cell_type": "code",
   "execution_count": null,
   "id": "2fc446fa",
   "metadata": {},
   "outputs": [],
   "source": []
  }
 ],
 "metadata": {
  "interpreter": {
   "hash": "0d4030c940aac7e5b831c89ee8b8cf0e7453aaa24bfefb88cac991514019afa7"
  },
  "kernelspec": {
   "display_name": "hackerrank",
   "language": "python",
   "name": "hackerrank"
  },
  "language_info": {
   "codemirror_mode": {
    "name": "ipython",
    "version": 3
   },
   "file_extension": ".py",
   "mimetype": "text/x-python",
   "name": "python",
   "nbconvert_exporter": "python",
   "pygments_lexer": "ipython3",
   "version": "3.8.13"
  }
 },
 "nbformat": 4,
 "nbformat_minor": 5
}
