{
 "cells": [
  {
   "cell_type": "code",
   "execution_count": 34,
   "id": "379214ea",
   "metadata": {},
   "outputs": [],
   "source": [
    "before = \"olleh\"\n",
    "after = \"hello\""
   ]
  },
  {
   "cell_type": "code",
   "execution_count": 32,
   "id": "9b8d67ec",
   "metadata": {},
   "outputs": [],
   "source": [
    "before = \"allpe\"\n",
    "after = \"apple\""
   ]
  },
  {
   "cell_type": "code",
   "execution_count": 33,
   "id": "53ffe50c",
   "metadata": {},
   "outputs": [
    {
     "name": "stdout",
     "output_type": "stream",
     "text": [
      "0\n"
     ]
    }
   ],
   "source": [
    "before2 = list(map(str, before))\n",
    "after2 = list(map(str, after))\n",
    "\n",
    "before2.sort()\n",
    "after2.sort()\n",
    "\n",
    "if before2 == after2:\n",
    "    print(1)\n",
    "else:\n",
    "    print(0)"
   ]
  },
  {
   "cell_type": "code",
   "execution_count": 38,
   "id": "66c38ef1",
   "metadata": {},
   "outputs": [
    {
     "name": "stdout",
     "output_type": "stream",
     "text": [
      "1\n"
     ]
    }
   ],
   "source": [
    "before=sorted(before)\n",
    "after=sorted(after)\n",
    "if before==after:\n",
    "    print(1)\n",
    "else:\n",
    "    print(0)"
   ]
  },
  {
   "cell_type": "code",
   "execution_count": 39,
   "id": "ae8e6fa1",
   "metadata": {},
   "outputs": [
    {
     "data": {
      "text/plain": [
       "1"
      ]
     },
     "execution_count": 39,
     "metadata": {},
     "output_type": "execute_result"
    }
   ],
   "source": [
    "1 if \"\".join(sorted(before)) == \"\".join(sorted(after)) else 0"
   ]
  },
  {
   "cell_type": "code",
   "execution_count": null,
   "id": "7282067a",
   "metadata": {},
   "outputs": [],
   "source": []
  },
  {
   "cell_type": "code",
   "execution_count": 48,
   "id": "e4f20553",
   "metadata": {},
   "outputs": [],
   "source": [
    "n = 10  # 5\n",
    "n = 15  # 8"
   ]
  },
  {
   "cell_type": "code",
   "execution_count": 49,
   "id": "b62fdd6e",
   "metadata": {},
   "outputs": [
    {
     "data": {
      "text/plain": [
       "8"
      ]
     },
     "execution_count": 49,
     "metadata": {},
     "output_type": "execute_result"
    }
   ],
   "source": [
    "answer = 0\n",
    "\n",
    "for i in range(1, n+1):\n",
    "    yaksu = 0\n",
    "    for j in range(1, i+1):\n",
    "        if i % j == 0:\n",
    "            yaksu += 1\n",
    "    if yaksu >= 3:\n",
    "        answer += 1\n",
    "answer"
   ]
  },
  {
   "cell_type": "code",
   "execution_count": null,
   "id": "593aaed2",
   "metadata": {},
   "outputs": [],
   "source": []
  },
  {
   "cell_type": "code",
   "execution_count": 62,
   "id": "a4a62fad",
   "metadata": {},
   "outputs": [],
   "source": [
    "morse = { \n",
    "    '.-':'a','-...':'b','-.-.':'c','-..':'d','.':'e','..-.':'f',\n",
    "    '--.':'g','....':'h','..':'i','.---':'j','-.-':'k','.-..':'l',\n",
    "    '--':'m','-.':'n','---':'o','.--.':'p','--.-':'q','.-.':'r',\n",
    "    '...':'s','-':'t','..-':'u','...-':'v','.--':'w','-..-':'x',\n",
    "    '-.--':'y','--..':'z'\n",
    "}"
   ]
  },
  {
   "cell_type": "code",
   "execution_count": 65,
   "id": "229b7017",
   "metadata": {},
   "outputs": [],
   "source": [
    "letter = \".... . .-.. .-.. ---\"  # \"hello\"\n",
    "# letter = \".--. -.-- - .... --- -.\"  # \"python\""
   ]
  },
  {
   "cell_type": "code",
   "execution_count": 66,
   "id": "d55017b1",
   "metadata": {},
   "outputs": [
    {
     "data": {
      "text/plain": [
       "'hello'"
      ]
     },
     "execution_count": 66,
     "metadata": {},
     "output_type": "execute_result"
    }
   ],
   "source": [
    "answer = ''\n",
    "for i in letter.split(' '):\n",
    "    answer += morse[i]\n",
    "answer"
   ]
  },
  {
   "cell_type": "code",
   "execution_count": 67,
   "id": "3238deff",
   "metadata": {},
   "outputs": [
    {
     "data": {
      "text/plain": [
       "'hello'"
      ]
     },
     "execution_count": 67,
     "metadata": {},
     "output_type": "execute_result"
    }
   ],
   "source": [
    "''.join([morse[i] for i in letter.split(' ')])"
   ]
  },
  {
   "cell_type": "code",
   "execution_count": null,
   "id": "fba7aed5",
   "metadata": {},
   "outputs": [],
   "source": []
  },
  {
   "cell_type": "code",
   "execution_count": 92,
   "id": "1a29d770",
   "metadata": {},
   "outputs": [],
   "source": [
    "num_list = [1, 2, 3, 4, 5, 6, 7, 8]\n",
    "n = 2"
   ]
  },
  {
   "cell_type": "code",
   "execution_count": 94,
   "id": "961c39ef",
   "metadata": {},
   "outputs": [],
   "source": [
    "num_list = [100, 95, 2, 4, 5, 6, 18, 33, 948]\n",
    "n = 3"
   ]
  },
  {
   "cell_type": "code",
   "execution_count": 99,
   "id": "75c09d8b",
   "metadata": {},
   "outputs": [
    {
     "data": {
      "text/plain": [
       "[[100, 95, 2], [4, 5, 6], [18, 33, 948]]"
      ]
     },
     "execution_count": 99,
     "metadata": {},
     "output_type": "execute_result"
    }
   ],
   "source": [
    "answer = []\n",
    "\n",
    "for i in range(0, int(len(num_list)), n):\n",
    "    tmp_list = []\n",
    "    for j in range(n):\n",
    "        tmp_list.append(num_list[i+j])\n",
    "    answer.append(tmp_list)\n",
    "answer"
   ]
  },
  {
   "cell_type": "code",
   "execution_count": 100,
   "id": "6f04375b",
   "metadata": {},
   "outputs": [
    {
     "data": {
      "text/plain": [
       "[[100, 95, 2], [4, 5, 6], [18, 33, 948]]"
      ]
     },
     "execution_count": 100,
     "metadata": {},
     "output_type": "execute_result"
    }
   ],
   "source": [
    "[num_list[ix-n:ix] for ix in range(n, len(num_list)+1, n)]"
   ]
  },
  {
   "cell_type": "code",
   "execution_count": null,
   "id": "62155298",
   "metadata": {},
   "outputs": [],
   "source": []
  },
  {
   "cell_type": "code",
   "execution_count": null,
   "id": "42133336",
   "metadata": {},
   "outputs": [],
   "source": []
  },
  {
   "cell_type": "code",
   "execution_count": null,
   "id": "a0a70076",
   "metadata": {},
   "outputs": [],
   "source": []
  },
  {
   "cell_type": "code",
   "execution_count": null,
   "id": "a74a8b80",
   "metadata": {},
   "outputs": [],
   "source": []
  },
  {
   "cell_type": "code",
   "execution_count": null,
   "id": "f04173a4",
   "metadata": {},
   "outputs": [],
   "source": []
  },
  {
   "cell_type": "code",
   "execution_count": null,
   "id": "e3b58bdc",
   "metadata": {},
   "outputs": [],
   "source": []
  }
 ],
 "metadata": {
  "kernelspec": {
   "display_name": "hackerrank",
   "language": "python",
   "name": "hackerrank"
  },
  "language_info": {
   "codemirror_mode": {
    "name": "ipython",
    "version": 3
   },
   "file_extension": ".py",
   "mimetype": "text/x-python",
   "name": "python",
   "nbconvert_exporter": "python",
   "pygments_lexer": "ipython3",
   "version": "3.8.13"
  }
 },
 "nbformat": 4,
 "nbformat_minor": 5
}
