{
 "cells": [
  {
   "cell_type": "code",
   "execution_count": 1,
   "id": "86ed9b5a",
   "metadata": {},
   "outputs": [],
   "source": [
    "#!/bin/python3\n",
    "\n",
    "import math\n",
    "import os\n",
    "import random\n",
    "import re\n",
    "import sys\n",
    "from collections import defaultdict\n"
   ]
  },
  {
   "cell_type": "markdown",
   "id": "32643a34",
   "metadata": {},
   "source": [
    "## 2."
   ]
  },
  {
   "cell_type": "code",
   "execution_count": 2,
   "id": "bae80ec7",
   "metadata": {},
   "outputs": [],
   "source": [
    "# Alex  -3\n",
    "# Blake  -3\n",
    "debts = [['Alex', 'Blake', '2'], \n",
    "         ['Blake', 'Alex', '2'], \n",
    "         ['Casey', 'Alex', '5'], \n",
    "         ['Blake', 'Casey', '7'], \n",
    "         ['Alex', 'Blake', '4'], \n",
    "         ['Alex', 'Casey', '4']]"
   ]
  },
  {
   "cell_type": "code",
   "execution_count": 4,
   "id": "3697ca40",
   "metadata": {},
   "outputs": [],
   "source": [
    "# casey  -13\n",
    "debts = [['Alex', 'Blake', '5'], \n",
    "         ['Blake', 'Alex', '3'], \n",
    "         ['Casey', 'Alex', '7'], \n",
    "         ['Casey', 'Alex', '4'], \n",
    "         ['Casey', 'Alex', '2']]"
   ]
  },
  {
   "cell_type": "code",
   "execution_count": 6,
   "id": "3bc4f27f",
   "metadata": {},
   "outputs": [],
   "source": [
    "# \"Nobody has a negative balance\"\n",
    "debts = [['Blake', 'Alex', '7'], \n",
    "        ['Blake', 'Alex', '3'], \n",
    "        ['Alex', 'Blake', '4'], \n",
    "        ['Blake', 'Alex', '1'], \n",
    "        ['Alex', 'Blake', '7']]"
   ]
  },
  {
   "cell_type": "code",
   "execution_count": 7,
   "id": "9e00e41d",
   "metadata": {},
   "outputs": [
    {
     "name": "stdout",
     "output_type": "stream",
     "text": [
      "Nobody has a negative balance\n"
     ]
    }
   ],
   "source": [
    "dict_debts = defaultdict(int)\n",
    "for i in debts:\n",
    "    dict_debts[i[0]] -= int(i[2])\n",
    "    dict_debts[i[1]] += int(i[2])\n",
    "\n",
    "list_min = [k for k, v in dict_debts.items() if min(dict_debts.values()) == v]\n",
    "list_min.sort()\n",
    "list_min\n",
    "# 둘다 0 일때\n",
    "if dict_debts[list_min[0]] == 0:\n",
    "    print(\"Nobody has a negative balance\")\n",
    "elif dict_debts[list_min[0]] < 0:\n",
    "    print(list_min)\n"
   ]
  },
  {
   "cell_type": "markdown",
   "id": "0617d4f0",
   "metadata": {},
   "source": [
    "## 3."
   ]
  },
  {
   "cell_type": "code",
   "execution_count": 1,
   "id": "9f7c8989",
   "metadata": {},
   "outputs": [],
   "source": [
    "#!/bin/python3\n",
    "\n",
    "import math\n",
    "import os\n",
    "import random\n",
    "import re\n",
    "import sys"
   ]
  },
  {
   "cell_type": "code",
   "execution_count": null,
   "id": "8cf9dc18",
   "metadata": {},
   "outputs": [],
   "source": [
    "# LIS. 최장 증가 부분 수열"
   ]
  },
  {
   "cell_type": "code",
   "execution_count": null,
   "id": "cb23ffbe",
   "metadata": {},
   "outputs": [],
   "source": [
    "# Sample 1\n",
    "s = [1, 2, 2, 3, 1, 6]\n",
    "# ==> LIS = [1, 2, 3, 6] with 3"
   ]
  },
  {
   "cell_type": "code",
   "execution_count": null,
   "id": "433efea2",
   "metadata": {},
   "outputs": [],
   "source": [
    "# Sample 2\n",
    "s = [1, 4, 3]\n",
    "# ==> LIS = [1, 4] and [1, 3] with 2"
   ]
  },
  {
   "cell_type": "code",
   "execution_count": null,
   "id": "6eacf159",
   "metadata": {},
   "outputs": [],
   "source": [
    "# Sample 3\n",
    "s = [1, 4, 5, 2, 6]\n",
    "# ==> LIS = [1, 4, 5, 6], [4, 5, 6], [5, 6], [2, 6] with 4"
   ]
  },
  {
   "cell_type": "code",
   "execution_count": null,
   "id": "cbd12cfa",
   "metadata": {},
   "outputs": [],
   "source": [
    "# Sample 4\n",
    "s = [2, 3, 3, 5]\n",
    "# ==> LIS = [2, 3, 5], [2, 3], [3, 5], [2, 5] with 3"
   ]
  },
  {
   "cell_type": "code",
   "execution_count": null,
   "id": "b9c08838",
   "metadata": {},
   "outputs": [],
   "source": [
    "# Sample 5\n",
    "s = [3, 5, 7, 9, 2, 1, 4, 8]\n",
    "# ==> LIS = [3, 5, 7, 8] with 4"
   ]
  },
  {
   "cell_type": "code",
   "execution_count": null,
   "id": "678ede98",
   "metadata": {},
   "outputs": [],
   "source": [
    "# Sample 6\n",
    "s = [5, 1, 6, 2, 7, 3, 8]\n",
    "# ==> LIS = [1, 2, 3, 8], [5, 6, 7, 8] with 4"
   ]
  },
  {
   "cell_type": "code",
   "execution_count": null,
   "id": "db313dcc",
   "metadata": {},
   "outputs": [],
   "source": []
  },
  {
   "cell_type": "code",
   "execution_count": null,
   "id": "350b8800",
   "metadata": {},
   "outputs": [],
   "source": []
  },
  {
   "cell_type": "code",
   "execution_count": null,
   "id": "061630d7",
   "metadata": {},
   "outputs": [],
   "source": []
  },
  {
   "cell_type": "code",
   "execution_count": null,
   "id": "990b07e5",
   "metadata": {},
   "outputs": [],
   "source": []
  },
  {
   "cell_type": "code",
   "execution_count": null,
   "id": "e0d3c96a",
   "metadata": {},
   "outputs": [],
   "source": []
  },
  {
   "cell_type": "code",
   "execution_count": null,
   "id": "f5a60674",
   "metadata": {},
   "outputs": [],
   "source": []
  },
  {
   "cell_type": "code",
   "execution_count": null,
   "id": "4ae13678",
   "metadata": {},
   "outputs": [],
   "source": []
  },
  {
   "cell_type": "code",
   "execution_count": null,
   "id": "c582f549",
   "metadata": {},
   "outputs": [],
   "source": []
  }
 ],
 "metadata": {
  "interpreter": {
   "hash": "0d4030c940aac7e5b831c89ee8b8cf0e7453aaa24bfefb88cac991514019afa7"
  },
  "kernelspec": {
   "display_name": "hackerrank",
   "language": "python",
   "name": "hackerrank"
  },
  "language_info": {
   "codemirror_mode": {
    "name": "ipython",
    "version": 3
   },
   "file_extension": ".py",
   "mimetype": "text/x-python",
   "name": "python",
   "nbconvert_exporter": "python",
   "pygments_lexer": "ipython3",
   "version": "3.9.12"
  }
 },
 "nbformat": 4,
 "nbformat_minor": 5
}
