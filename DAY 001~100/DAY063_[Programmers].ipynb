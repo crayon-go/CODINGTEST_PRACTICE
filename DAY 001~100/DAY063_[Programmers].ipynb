{
 "cells": [
  {
   "cell_type": "code",
   "execution_count": 170,
   "id": "7c7072e2",
   "metadata": {},
   "outputs": [
    {
     "name": "stdout",
     "output_type": "stream",
     "text": [
      "3\n",
      "Mike Thomson 20 M\n",
      "Robert Bustle 32 M\n",
      "Andria Bustle 30 F\n",
      "Mr. Mike Thomson\n",
      "Ms. Andria Bustle\n",
      "Mr. Robert Bustle\n"
     ]
    }
   ],
   "source": [
    "# 33-1\n",
    "# decorator\n",
    "# yield\n",
    "# itemgetter\n",
    "# 공부!!!\n",
    "\n",
    "import operator\n",
    "\n",
    "def person_lister(f):\n",
    "    def inner(people):\n",
    "        # complete the function\n",
    "        for ps in sorted(people, key=lambda x: int(x[2])):\n",
    "            yield f(ps)\n",
    "    return inner\n",
    "\n",
    "@person_lister\n",
    "def name_format(person):\n",
    "    return (\"Mr. \" if person[3] == \"M\" else \"Ms. \") + person[0] + \" \" + person[1]\n",
    "\n",
    "if __name__ == '__main__':\n",
    "    people = [input().split() for i in range(int(input()))]\n",
    "    print(*name_format(people), sep='\\n')"
   ]
  },
  {
   "cell_type": "code",
   "execution_count": 198,
   "id": "ed4096ed",
   "metadata": {},
   "outputs": [
    {
     "name": "stdout",
     "output_type": "stream",
     "text": [
      "1 2 3 4 -8 -10\n",
      "[-10.  -8.   4.   3.   2.   1.]\n",
      "<class 'numpy.float64'>\n"
     ]
    }
   ],
   "source": [
    "# 34-1\n",
    "# sorted아니고 reverse.. 문제 조건 잘 확인하기\n",
    "\n",
    "import numpy\n",
    "\n",
    "def arrays(arr):\n",
    "    ar = numpy.array(arr[::-1], float)\n",
    "    return ar\n",
    "\n",
    "arr = input().strip().split(' ')\n",
    "result = arrays(arr)\n",
    "print(result)\n",
    "print(type(result[0]))"
   ]
  }
 ],
 "metadata": {
  "kernelspec": {
   "display_name": "hackerrank",
   "language": "python",
   "name": "hackerrank"
  },
  "language_info": {
   "codemirror_mode": {
    "name": "ipython",
    "version": 3
   },
   "file_extension": ".py",
   "mimetype": "text/x-python",
   "name": "python",
   "nbconvert_exporter": "python",
   "pygments_lexer": "ipython3",
   "version": "3.9.12"
  }
 },
 "nbformat": 4,
 "nbformat_minor": 5
}
