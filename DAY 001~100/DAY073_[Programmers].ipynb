{
 "cells": [
  {
   "cell_type": "code",
   "execution_count": 4,
   "id": "3ee52a7f",
   "metadata": {},
   "outputs": [],
   "source": [
    "array = [1, 8, 3]"
   ]
  },
  {
   "cell_type": "code",
   "execution_count": 10,
   "id": "ac135ed6",
   "metadata": {},
   "outputs": [
    {
     "data": {
      "text/plain": [
       "[8, 1]"
      ]
     },
     "execution_count": 10,
     "metadata": {},
     "output_type": "execute_result"
    }
   ],
   "source": [
    "[max(array), array.index(max(array))]"
   ]
  },
  {
   "cell_type": "code",
   "execution_count": null,
   "id": "9fe15f6f",
   "metadata": {},
   "outputs": [],
   "source": []
  },
  {
   "cell_type": "code",
   "execution_count": 87,
   "id": "d24ea11b",
   "metadata": {},
   "outputs": [
    {
     "name": "stdout",
     "output_type": "stream",
     "text": [
      "0\n"
     ]
    },
    {
     "data": {
      "text/plain": [
       "201"
      ]
     },
     "execution_count": 87,
     "metadata": {},
     "output_type": "execute_result"
    }
   ],
   "source": [
    "hp = 23\n",
    "hp = 24\n",
    "hp = 999\n",
    "\n",
    "five = 5\n",
    "three = 3\n",
    "one = 1\n",
    "\n",
    "n_sum = 0\n",
    "while True:\n",
    "    if hp - five >= 0:\n",
    "        n_sum += 1\n",
    "        hp -= five\n",
    "    else:\n",
    "        if hp - three >= 0:\n",
    "            n_sum += 1\n",
    "            hp -= three\n",
    "        else:\n",
    "            if hp - one >= 0:\n",
    "                n_sum += 1\n",
    "                hp -= one\n",
    "            else:\n",
    "                break\n",
    "n_sum\n",
    "            "
   ]
  },
  {
   "cell_type": "code",
   "execution_count": 96,
   "id": "f7a46415",
   "metadata": {},
   "outputs": [
    {
     "data": {
      "text/plain": [
       "201"
      ]
     },
     "execution_count": 96,
     "metadata": {},
     "output_type": "execute_result"
    }
   ],
   "source": [
    "hp = 23\n",
    "hp = 24\n",
    "hp = 999\n",
    "\n",
    "hp // 5 + (hp % 5 // 3) + (hp % 5 % 3)"
   ]
  },
  {
   "cell_type": "code",
   "execution_count": null,
   "id": "963ddc38",
   "metadata": {},
   "outputs": [],
   "source": []
  },
  {
   "cell_type": "code",
   "execution_count": 101,
   "id": "ce3971b6",
   "metadata": {},
   "outputs": [],
   "source": [
    "my_string = \"abcdef\"\n",
    "letter = \"f\""
   ]
  },
  {
   "cell_type": "code",
   "execution_count": 105,
   "id": "133fd9a5",
   "metadata": {},
   "outputs": [
    {
     "data": {
      "text/plain": [
       "'abcde'"
      ]
     },
     "execution_count": 105,
     "metadata": {},
     "output_type": "execute_result"
    }
   ],
   "source": [
    "my_string.replace(letter, '')"
   ]
  },
  {
   "cell_type": "code",
   "execution_count": null,
   "id": "8e2a5b86",
   "metadata": {},
   "outputs": [],
   "source": []
  },
  {
   "cell_type": "code",
   "execution_count": null,
   "id": "ba858b31",
   "metadata": {},
   "outputs": [],
   "source": []
  }
 ],
 "metadata": {
  "kernelspec": {
   "display_name": "hackerrank",
   "language": "python",
   "name": "hackerrank"
  },
  "language_info": {
   "codemirror_mode": {
    "name": "ipython",
    "version": 3
   },
   "file_extension": ".py",
   "mimetype": "text/x-python",
   "name": "python",
   "nbconvert_exporter": "python",
   "pygments_lexer": "ipython3",
   "version": "3.9.12"
  }
 },
 "nbformat": 4,
 "nbformat_minor": 5
}
