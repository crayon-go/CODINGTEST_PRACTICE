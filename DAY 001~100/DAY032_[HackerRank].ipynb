{
 "cells": [
  {
   "cell_type": "code",
   "execution_count": null,
   "id": "c2269e58",
   "metadata": {},
   "outputs": [],
   "source": [
    "from collections import defaultdict\n",
    "\n",
    "idx_dict = defaultdict(list)\n",
    "\n",
    "for idx, value in enumerate(arr):\n",
    "    idx_dict[value].append(idx+1)"
   ]
  },
  {
   "cell_type": "code",
   "execution_count": null,
   "id": "460ba84e",
   "metadata": {},
   "outputs": [],
   "source": [
    "li = []    # 리턴 결과 리스트\n",
    "len_arr = len(arr)\n",
    "\n",
    "for idx in indexes:    # indexes 전체 반복,  [ 100, 2, 1, 3, 4 ]\n",
    "    print(\"----------------\")\n",
    "    print('idx:{}'.format(idx))\n",
    "\n",
    "    n_cnt = 0\n",
    "    if idx > len_arr:    # 배열 크기 넘어가는 경우: -1\n",
    "        li.append(-1)\n",
    "        print(\"-1\")\n",
    "    elif idx > len(idx_dict[X]):\n",
    "        li.append(-1)\n",
    "        print(\"-1\")\n",
    "    else:\n",
    "        li.append(idx_dict[X][idx-1])\n",
    "        print(idx_dict[X][idx-1])\n",
    "        "
   ]
  }
 ],
 "metadata": {
  "interpreter": {
   "hash": "0d4030c940aac7e5b831c89ee8b8cf0e7453aaa24bfefb88cac991514019afa7"
  },
  "kernelspec": {
   "display_name": "hackerrank",
   "language": "python",
   "name": "hackerrank"
  },
  "language_info": {
   "codemirror_mode": {
    "name": "ipython",
    "version": 3
   },
   "file_extension": ".py",
   "mimetype": "text/x-python",
   "name": "python",
   "nbconvert_exporter": "python",
   "pygments_lexer": "ipython3",
   "version": "3.9.12"
  }
 },
 "nbformat": 4,
 "nbformat_minor": 5
}
