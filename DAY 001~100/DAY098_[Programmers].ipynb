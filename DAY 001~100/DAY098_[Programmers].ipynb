{
 "cells": [
  {
   "cell_type": "code",
   "execution_count": 23,
   "id": "c6cbed7a",
   "metadata": {},
   "outputs": [],
   "source": [
    "sides = [1, 2]\n",
    "# 1"
   ]
  },
  {
   "cell_type": "code",
   "execution_count": 20,
   "id": "c787d15a",
   "metadata": {},
   "outputs": [],
   "source": [
    "sides = [3, 6]\n",
    "# 5"
   ]
  },
  {
   "cell_type": "code",
   "execution_count": 27,
   "id": "55d75e34",
   "metadata": {},
   "outputs": [],
   "source": [
    "sides = [11, 7]\n",
    "# 13"
   ]
  },
  {
   "cell_type": "code",
   "execution_count": 24,
   "id": "812e846d",
   "metadata": {},
   "outputs": [
    {
     "data": {
      "text/plain": [
       "(2, 1)"
      ]
     },
     "execution_count": 24,
     "metadata": {},
     "output_type": "execute_result"
    }
   ],
   "source": [
    "a = max(sides)\n",
    "b = min(sides)\n",
    "a, b\n",
    "\n",
    "(a - (a-b)) + ((a + b - 1) - a)"
   ]
  },
  {
   "cell_type": "code",
   "execution_count": 30,
   "id": "62e524f6",
   "metadata": {},
   "outputs": [
    {
     "data": {
      "text/plain": [
       "-1"
      ]
     },
     "execution_count": 30,
     "metadata": {},
     "output_type": "execute_result"
    }
   ],
   "source": [
    "18 - 11 - 7 - 1"
   ]
  },
  {
   "cell_type": "code",
   "execution_count": 28,
   "id": "c69dfe2e",
   "metadata": {},
   "outputs": [
    {
     "data": {
      "text/plain": [
       "13"
      ]
     },
     "execution_count": 28,
     "metadata": {},
     "output_type": "execute_result"
    }
   ],
   "source": [
    "sum(sides) - max(sides) + min(sides) - 1"
   ]
  },
  {
   "cell_type": "code",
   "execution_count": null,
   "id": "219ccb79",
   "metadata": {},
   "outputs": [],
   "source": []
  },
  {
   "cell_type": "code",
   "execution_count": 29,
   "id": "55bbc162",
   "metadata": {},
   "outputs": [
    {
     "data": {
      "text/plain": [
       "13"
      ]
     },
     "execution_count": 29,
     "metadata": {},
     "output_type": "execute_result"
    }
   ],
   "source": [
    "len(list(range(abs(sides[0]-sides[1])+1,sum(sides))))"
   ]
  },
  {
   "cell_type": "code",
   "execution_count": null,
   "id": "8c905b65",
   "metadata": {},
   "outputs": [],
   "source": []
  },
  {
   "cell_type": "code",
   "execution_count": null,
   "id": "e8bcd028",
   "metadata": {},
   "outputs": [],
   "source": []
  },
  {
   "cell_type": "code",
   "execution_count": null,
   "id": "79fced47",
   "metadata": {},
   "outputs": [],
   "source": []
  }
 ],
 "metadata": {
  "kernelspec": {
   "display_name": "hackerrank",
   "language": "python",
   "name": "hackerrank"
  },
  "language_info": {
   "codemirror_mode": {
    "name": "ipython",
    "version": 3
   },
   "file_extension": ".py",
   "mimetype": "text/x-python",
   "name": "python",
   "nbconvert_exporter": "python",
   "pygments_lexer": "ipython3",
   "version": "3.9.12"
  }
 },
 "nbformat": 4,
 "nbformat_minor": 5
}
