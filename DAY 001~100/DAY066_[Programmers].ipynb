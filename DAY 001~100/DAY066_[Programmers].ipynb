{
 "cells": [
  {
   "cell_type": "code",
   "execution_count": 1,
   "id": "2cc919ac",
   "metadata": {},
   "outputs": [],
   "source": [
    "num1 = 3\n",
    "num2 = 2\n"
   ]
  },
  {
   "cell_type": "code",
   "execution_count": 5,
   "id": "3f035322",
   "metadata": {},
   "outputs": [
    {
     "data": {
      "text/plain": [
       "1500"
      ]
     },
     "execution_count": 5,
     "metadata": {},
     "output_type": "execute_result"
    }
   ],
   "source": [
    "int((num1 / num2) * 1000)"
   ]
  },
  {
   "cell_type": "code",
   "execution_count": 8,
   "id": "ab6918a3",
   "metadata": {},
   "outputs": [],
   "source": [
    "array = [149, 180, 192, 170]\n",
    "height = 167"
   ]
  },
  {
   "cell_type": "code",
   "execution_count": 22,
   "id": "9c7c6cb7",
   "metadata": {},
   "outputs": [
    {
     "data": {
      "text/plain": [
       "[167, 180, 192, 170]"
      ]
     },
     "execution_count": 22,
     "metadata": {},
     "output_type": "execute_result"
    }
   ],
   "source": [
    "[i if i>height else _ for i in array]"
   ]
  },
  {
   "cell_type": "code",
   "execution_count": 23,
   "id": "f6de3c78",
   "metadata": {},
   "outputs": [],
   "source": [
    "array.append(height)"
   ]
  },
  {
   "cell_type": "code",
   "execution_count": 24,
   "id": "43c72298",
   "metadata": {},
   "outputs": [
    {
     "data": {
      "text/plain": [
       "[149, 180, 192, 170, 167]"
      ]
     },
     "execution_count": 24,
     "metadata": {},
     "output_type": "execute_result"
    }
   ],
   "source": [
    "array"
   ]
  },
  {
   "cell_type": "code",
   "execution_count": 26,
   "id": "592935b1",
   "metadata": {},
   "outputs": [
    {
     "data": {
      "text/plain": [
       "[149, 167, 170, 180, 192]"
      ]
     },
     "execution_count": 26,
     "metadata": {},
     "output_type": "execute_result"
    }
   ],
   "source": [
    "array.sort()\n",
    "array"
   ]
  },
  {
   "cell_type": "code",
   "execution_count": 27,
   "id": "668058ed",
   "metadata": {},
   "outputs": [
    {
     "data": {
      "text/plain": [
       "[192, 180, 170, 167, 149]"
      ]
     },
     "execution_count": 27,
     "metadata": {},
     "output_type": "execute_result"
    }
   ],
   "source": [
    "array.sort(reverse=True)\n",
    "array"
   ]
  },
  {
   "cell_type": "code",
   "execution_count": 29,
   "id": "ba1ffff0",
   "metadata": {},
   "outputs": [
    {
     "data": {
      "text/plain": [
       "3"
      ]
     },
     "execution_count": 29,
     "metadata": {},
     "output_type": "execute_result"
    }
   ],
   "source": [
    "array.index(height)"
   ]
  },
  {
   "cell_type": "code",
   "execution_count": 30,
   "id": "a6f3a899",
   "metadata": {},
   "outputs": [
    {
     "data": {
      "text/plain": [
       "3"
      ]
     },
     "execution_count": 30,
     "metadata": {},
     "output_type": "execute_result"
    }
   ],
   "source": [
    "len(list(filter(lambda v: v > height, array)))"
   ]
  },
  {
   "cell_type": "code",
   "execution_count": null,
   "id": "b8538ca9",
   "metadata": {},
   "outputs": [],
   "source": []
  }
 ],
 "metadata": {
  "kernelspec": {
   "display_name": "hackerrank",
   "language": "python",
   "name": "hackerrank"
  },
  "language_info": {
   "codemirror_mode": {
    "name": "ipython",
    "version": 3
   },
   "file_extension": ".py",
   "mimetype": "text/x-python",
   "name": "python",
   "nbconvert_exporter": "python",
   "pygments_lexer": "ipython3",
   "version": "3.9.12"
  }
 },
 "nbformat": 4,
 "nbformat_minor": 5
}
