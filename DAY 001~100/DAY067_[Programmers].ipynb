{
 "cells": [
  {
   "cell_type": "code",
   "execution_count": 34,
   "id": "dafb869e",
   "metadata": {},
   "outputs": [],
   "source": [
    "# 양꼬치, n,  12000 (10인분 음료 1개 서비스)\n",
    "# 음료수, k,  2000\n",
    "\n",
    "n_price = 12000\n",
    "k_price = 2000\n",
    "\n",
    "n = 64\n",
    "k = 6"
   ]
  },
  {
   "cell_type": "code",
   "execution_count": 35,
   "id": "9484f755",
   "metadata": {},
   "outputs": [
    {
     "data": {
      "text/plain": [
       "768000"
      ]
     },
     "execution_count": 35,
     "metadata": {},
     "output_type": "execute_result"
    }
   ],
   "source": [
    "k = k - (n // 10)\n",
    "answer = (n * n_price) + (k * k_price)\n",
    "answer"
   ]
  },
  {
   "cell_type": "code",
   "execution_count": 37,
   "id": "6af12107",
   "metadata": {},
   "outputs": [],
   "source": [
    "service = n // 10\n",
    "drink = max(0, k-service)"
   ]
  },
  {
   "cell_type": "code",
   "execution_count": 38,
   "id": "10a9d484",
   "metadata": {},
   "outputs": [],
   "source": [
    "# 피자 7조각\n",
    "# 사람 n\n",
    "pizza = 7\n",
    "n = 15"
   ]
  },
  {
   "cell_type": "code",
   "execution_count": 41,
   "id": "1f606f90",
   "metadata": {},
   "outputs": [
    {
     "data": {
      "text/plain": [
       "3"
      ]
     },
     "execution_count": 41,
     "metadata": {},
     "output_type": "execute_result"
    }
   ],
   "source": [
    "import math\n",
    "math.ceil(n / pizza)"
   ]
  },
  {
   "cell_type": "code",
   "execution_count": 42,
   "id": "76394cf4",
   "metadata": {},
   "outputs": [
    {
     "data": {
      "text/plain": [
       "3"
      ]
     },
     "execution_count": 42,
     "metadata": {},
     "output_type": "execute_result"
    }
   ],
   "source": [
    "(n - 1) // 7 + 1"
   ]
  },
  {
   "cell_type": "code",
   "execution_count": 43,
   "id": "0008d562",
   "metadata": {},
   "outputs": [
    {
     "data": {
      "text/plain": [
       "14"
      ]
     },
     "execution_count": 43,
     "metadata": {},
     "output_type": "execute_result"
    }
   ],
   "source": [
    "n-1 "
   ]
  },
  {
   "cell_type": "code",
   "execution_count": null,
   "id": "506b0904",
   "metadata": {},
   "outputs": [],
   "source": [
    "14"
   ]
  }
 ],
 "metadata": {
  "kernelspec": {
   "display_name": "hackerrank",
   "language": "python",
   "name": "hackerrank"
  },
  "language_info": {
   "codemirror_mode": {
    "name": "ipython",
    "version": 3
   },
   "file_extension": ".py",
   "mimetype": "text/x-python",
   "name": "python",
   "nbconvert_exporter": "python",
   "pygments_lexer": "ipython3",
   "version": "3.9.12"
  }
 },
 "nbformat": 4,
 "nbformat_minor": 5
}
