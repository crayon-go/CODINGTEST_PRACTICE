{
 "cells": [
  {
   "cell_type": "code",
   "execution_count": 7,
   "id": "9c5cab99",
   "metadata": {},
   "outputs": [],
   "source": [
    "n = 4"
   ]
  },
  {
   "cell_type": "code",
   "execution_count": 8,
   "id": "ca73b38f",
   "metadata": {},
   "outputs": [],
   "source": [
    "piece = 6\n",
    "answer = 0\n",
    "\n",
    "while True:\n",
    "    answer += 1\n",
    "    if (piece * answer) % n == 0:\n",
    "        break"
   ]
  },
  {
   "cell_type": "code",
   "execution_count": 11,
   "id": "216ad273",
   "metadata": {},
   "outputs": [
    {
     "data": {
      "text/plain": [
       "2"
      ]
     },
     "execution_count": 11,
     "metadata": {},
     "output_type": "execute_result"
    }
   ],
   "source": [
    "import math\n",
    "\n",
    "(n * 6) // math.gcd(n, 6) // 6"
   ]
  },
  {
   "cell_type": "code",
   "execution_count": null,
   "id": "dfde294f",
   "metadata": {},
   "outputs": [],
   "source": []
  },
  {
   "cell_type": "code",
   "execution_count": 93,
   "id": "576cd9ad",
   "metadata": {},
   "outputs": [],
   "source": [
    "numbers =  [-500, 2]"
   ]
  },
  {
   "cell_type": "code",
   "execution_count": 90,
   "id": "bed464c1",
   "metadata": {},
   "outputs": [
    {
     "data": {
      "text/plain": [
       "-1000"
      ]
     },
     "execution_count": 90,
     "metadata": {},
     "output_type": "execute_result"
    }
   ],
   "source": [
    "answer = 0\n",
    "\n",
    "for i in range(len(numbers)):\n",
    "    for j in range(i+1, len(numbers)):\n",
    "        tmp = numbers[i] * numbers[j]\n",
    "        \n",
    "        if answer == 0 and len(numbers) == 2:\n",
    "            answer = tmp\n",
    "            \n",
    "        if answer <= tmp:\n",
    "            answer = tmp\n",
    "answer"
   ]
  },
  {
   "cell_type": "code",
   "execution_count": 92,
   "id": "75c8f0b5",
   "metadata": {},
   "outputs": [
    {
     "data": {
      "text/plain": [
       "-1000"
      ]
     },
     "execution_count": 92,
     "metadata": {},
     "output_type": "execute_result"
    }
   ],
   "source": [
    "numbers = sorted(numbers)\n",
    "max(numbers[0] * numbers[1], numbers[-1]*numbers[-2]) "
   ]
  },
  {
   "cell_type": "code",
   "execution_count": 101,
   "id": "5482feda",
   "metadata": {},
   "outputs": [
    {
     "data": {
      "text/plain": [
       "[5, 5, 5, 10, 20, 20, 30]"
      ]
     },
     "execution_count": 101,
     "metadata": {},
     "output_type": "execute_result"
    }
   ],
   "source": [
    "aa = [1, 2, -3, 4, -5]\n",
    "aa = [0, -31, 24, 10, 1, 9]\n",
    "aa = [10, 20, 30, 5, 5, 20, 5]\n",
    "aa.sort()\n",
    "aa"
   ]
  },
  {
   "cell_type": "code",
   "execution_count": null,
   "id": "123190d6",
   "metadata": {},
   "outputs": [],
   "source": []
  },
  {
   "cell_type": "code",
   "execution_count": 102,
   "id": "4087ccf3",
   "metadata": {},
   "outputs": [],
   "source": [
    "cipher = \"dfjardstddetckdaccccdegk\"\n",
    "code = 4"
   ]
  },
  {
   "cell_type": "code",
   "execution_count": 111,
   "id": "9bb303bc",
   "metadata": {},
   "outputs": [
    {
     "data": {
      "text/plain": [
       "'attack'"
      ]
     },
     "execution_count": 111,
     "metadata": {},
     "output_type": "execute_result"
    }
   ],
   "source": [
    "answer = ''\n",
    "\n",
    "for idx, i in enumerate(cipher):\n",
    "    if (idx+1) % code == 0:\n",
    "        answer += i\n",
    "answer"
   ]
  },
  {
   "cell_type": "code",
   "execution_count": 114,
   "id": "f4a9a2bc",
   "metadata": {},
   "outputs": [
    {
     "data": {
      "text/plain": [
       "'attack'"
      ]
     },
     "execution_count": 114,
     "metadata": {},
     "output_type": "execute_result"
    }
   ],
   "source": [
    "cipher[code-1::code]"
   ]
  },
  {
   "cell_type": "code",
   "execution_count": 117,
   "id": "47878d36",
   "metadata": {},
   "outputs": [
    {
     "name": "stdout",
     "output_type": "stream",
     "text": [
      "[4, 8, 12, 16, 20, 24]\n"
     ]
    },
    {
     "data": {
      "text/plain": [
       "'attack'"
      ]
     },
     "execution_count": 117,
     "metadata": {},
     "output_type": "execute_result"
    }
   ],
   "source": [
    "answer = ''\n",
    "index=list(range(code,len(cipher)+1,code))\n",
    "print(index)\n",
    "for i in index:\n",
    "    answer+=cipher[i-1]\n",
    "answer"
   ]
  },
  {
   "cell_type": "code",
   "execution_count": null,
   "id": "73cab54c",
   "metadata": {},
   "outputs": [],
   "source": []
  },
  {
   "cell_type": "code",
   "execution_count": null,
   "id": "83752788",
   "metadata": {},
   "outputs": [],
   "source": []
  }
 ],
 "metadata": {
  "kernelspec": {
   "display_name": "hackerrank",
   "language": "python",
   "name": "hackerrank"
  },
  "language_info": {
   "codemirror_mode": {
    "name": "ipython",
    "version": 3
   },
   "file_extension": ".py",
   "mimetype": "text/x-python",
   "name": "python",
   "nbconvert_exporter": "python",
   "pygments_lexer": "ipython3",
   "version": "3.9.12"
  }
 },
 "nbformat": 4,
 "nbformat_minor": 5
}
