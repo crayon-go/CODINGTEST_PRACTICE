{
 "cells": [
  {
   "cell_type": "code",
   "execution_count": 7,
   "id": "aa3d66ed",
   "metadata": {},
   "outputs": [],
   "source": [
    "n = 4"
   ]
  },
  {
   "cell_type": "code",
   "execution_count": 8,
   "id": "a8f2694a",
   "metadata": {},
   "outputs": [],
   "source": [
    "piece = 6\n",
    "answer = 0\n",
    "\n",
    "while True:\n",
    "    answer += 1\n",
    "    if (piece * answer) % n == 0:\n",
    "        break"
   ]
  },
  {
   "cell_type": "code",
   "execution_count": 11,
   "id": "2964181f",
   "metadata": {},
   "outputs": [
    {
     "data": {
      "text/plain": [
       "2"
      ]
     },
     "execution_count": 11,
     "metadata": {},
     "output_type": "execute_result"
    }
   ],
   "source": [
    "import math\n",
    "\n",
    "(n * 6) // math.gcd(n, 6) // 6"
   ]
  },
  {
   "cell_type": "code",
   "execution_count": null,
   "id": "dd486be9",
   "metadata": {},
   "outputs": [],
   "source": []
  },
  {
   "cell_type": "code",
   "execution_count": 93,
   "id": "f995e21a",
   "metadata": {},
   "outputs": [],
   "source": [
    "numbers =  [-500, 2]"
   ]
  },
  {
   "cell_type": "code",
   "execution_count": 90,
   "id": "5058351b",
   "metadata": {},
   "outputs": [
    {
     "data": {
      "text/plain": [
       "-1000"
      ]
     },
     "execution_count": 90,
     "metadata": {},
     "output_type": "execute_result"
    }
   ],
   "source": [
    "answer = 0\n",
    "\n",
    "for i in range(len(numbers)):\n",
    "    for j in range(i+1, len(numbers)):\n",
    "        tmp = numbers[i] * numbers[j]\n",
    "        \n",
    "        if answer == 0 and len(numbers) == 2:\n",
    "            answer = tmp\n",
    "            \n",
    "        if answer <= tmp:\n",
    "            answer = tmp\n",
    "answer"
   ]
  },
  {
   "cell_type": "code",
   "execution_count": 92,
   "id": "0a4278d2",
   "metadata": {},
   "outputs": [
    {
     "data": {
      "text/plain": [
       "-1000"
      ]
     },
     "execution_count": 92,
     "metadata": {},
     "output_type": "execute_result"
    }
   ],
   "source": [
    "numbers = sorted(numbers)\n",
    "max(numbers[0] * numbers[1], numbers[-1]*numbers[-2]) "
   ]
  },
  {
   "cell_type": "code",
   "execution_count": 101,
   "id": "948e2166",
   "metadata": {},
   "outputs": [
    {
     "data": {
      "text/plain": [
       "[5, 5, 5, 10, 20, 20, 30]"
      ]
     },
     "execution_count": 101,
     "metadata": {},
     "output_type": "execute_result"
    }
   ],
   "source": [
    "aa = [1, 2, -3, 4, -5]\n",
    "aa = [0, -31, 24, 10, 1, 9]\n",
    "aa = [10, 20, 30, 5, 5, 20, 5]\n",
    "aa.sort()\n",
    "aa"
   ]
  },
  {
   "cell_type": "code",
   "execution_count": null,
   "id": "0a97d212",
   "metadata": {},
   "outputs": [],
   "source": []
  },
  {
   "cell_type": "code",
   "execution_count": null,
   "id": "994fae53",
   "metadata": {},
   "outputs": [],
   "source": []
  },
  {
   "cell_type": "code",
   "execution_count": null,
   "id": "ca96c804",
   "metadata": {},
   "outputs": [],
   "source": []
  },
  {
   "cell_type": "code",
   "execution_count": null,
   "id": "bca93847",
   "metadata": {},
   "outputs": [],
   "source": []
  },
  {
   "cell_type": "code",
   "execution_count": null,
   "id": "05842839",
   "metadata": {},
   "outputs": [],
   "source": []
  },
  {
   "cell_type": "code",
   "execution_count": null,
   "id": "39eec191",
   "metadata": {},
   "outputs": [],
   "source": []
  }
 ],
 "metadata": {
  "kernelspec": {
   "display_name": "hackerrank",
   "language": "python",
   "name": "hackerrank"
  },
  "language_info": {
   "codemirror_mode": {
    "name": "ipython",
    "version": 3
   },
   "file_extension": ".py",
   "mimetype": "text/x-python",
   "name": "python",
   "nbconvert_exporter": "python",
   "pygments_lexer": "ipython3",
   "version": "3.9.12"
  }
 },
 "nbformat": 4,
 "nbformat_minor": 5
}
