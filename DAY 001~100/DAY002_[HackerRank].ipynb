{
 "cells": [
  {
   "cell_type": "code",
   "execution_count": 3,
   "id": "2cf406fe",
   "metadata": {},
   "outputs": [],
   "source": [
    "#!/bin/python3\n",
    "\n",
    "import math\n",
    "import os\n",
    "import random\n",
    "import re\n",
    "import sys"
   ]
  },
  {
   "cell_type": "markdown",
   "id": "52ad5dd2",
   "metadata": {},
   "source": [
    "### 1. Text Alignment"
   ]
  },
  {
   "cell_type": "code",
   "execution_count": 20,
   "id": "6638e15a",
   "metadata": {},
   "outputs": [
    {
     "name": "stdout",
     "output_type": "stream",
     "text": [
      "5\n",
      "    H    \n",
      "   HHH   \n",
      "  HHHHH  \n",
      " HHHHHHH \n",
      "HHHHHHHHH\n",
      "  HHHHH               HHHHH             \n",
      "  HHHHH               HHHHH             \n",
      "  HHHHH               HHHHH             \n",
      "  HHHHH               HHHHH             \n",
      "  HHHHH               HHHHH             \n",
      "  HHHHH               HHHHH             \n",
      "  HHHHHHHHHHHHHHHHHHHHHHHHH   \n",
      "  HHHHHHHHHHHHHHHHHHHHHHHHH   \n",
      "  HHHHHHHHHHHHHHHHHHHHHHHHH   \n",
      "  HHHHH               HHHHH             \n",
      "  HHHHH               HHHHH             \n",
      "  HHHHH               HHHHH             \n",
      "  HHHHH               HHHHH             \n",
      "  HHHHH               HHHHH             \n",
      "  HHHHH               HHHHH             \n",
      "                    HHHHHHHHH \n",
      "                     HHHHHHH  \n",
      "                      HHHHH   \n",
      "                       HHH    \n",
      "                        H     \n"
     ]
    }
   ],
   "source": [
    "# 1-1\n",
    "# rjust, ljust, center\n",
    "\n",
    "thickness = int(input()) #This must be an odd number\n",
    "c = 'H'\n",
    "\n",
    "#Top Cone\n",
    "for i in range(thickness):\n",
    "    print((c*i).rjust(thickness-1)+c+(c*i).ljust(thickness-1))\n",
    "\n",
    "#Top Pillars\n",
    "for i in range(thickness+1):\n",
    "    print((c*thickness).center(thickness*2)+(c*thickness).center(thickness*6))\n",
    "\n",
    "#Middle Belt\n",
    "for i in range((thickness+1)//2):\n",
    "    print((c*thickness*5).center(thickness*6))    \n",
    "\n",
    "#Bottom Pillars\n",
    "for i in range(thickness+1):\n",
    "    print((c*thickness).center(thickness*2)+(c*thickness).center(thickness*6))\n",
    "\n",
    "#Bottom Cone\n",
    "for i in range(thickness):\n",
    "    print(((c*(thickness-i-1)).rjust(thickness)+c+(c*(thickness-i-1)).ljust(thickness)).rjust(thickness*6))"
   ]
  },
  {
   "cell_type": "markdown",
   "id": "afc0d249",
   "metadata": {},
   "source": [
    "### 2. Text Wrap"
   ]
  },
  {
   "cell_type": "code",
   "execution_count": 28,
   "id": "754b4af6",
   "metadata": {},
   "outputs": [
    {
     "name": "stdout",
     "output_type": "stream",
     "text": [
      "ABCDEFGHIJKLIMNOQRSTUVWXYZ\n",
      "4\n",
      "ABCD\n",
      "EFGH\n",
      "IJKL\n",
      "IMNO\n",
      "QRST\n",
      "UVWX\n",
      "YZ\n"
     ]
    }
   ],
   "source": [
    "# 2-1\n",
    "# textwrap\n",
    "\n",
    "import textwrap\n",
    "\n",
    "def wrap(string, max_width):\n",
    "    return textwrap.fill(string, max_width)\n",
    "\n",
    "if __name__ == '__main__':\n",
    "    string, max_width = input(), int(input())\n",
    "    result = wrap(string, max_width)\n",
    "    print(result)"
   ]
  },
  {
   "cell_type": "markdown",
   "id": "1c7db839",
   "metadata": {},
   "source": [
    "### 3. Designer Door Mat"
   ]
  },
  {
   "cell_type": "code",
   "execution_count": 61,
   "id": "2bdc134b",
   "metadata": {},
   "outputs": [
    {
     "name": "stdout",
     "output_type": "stream",
     "text": [
      "7 21\n",
      "---------.|.---------\n",
      "------.|..|..|.------\n",
      "---.|..|..|..|..|.---\n",
      "-------WELCOME-------\n",
      "---.|..|..|..|..|.---\n",
      "------.|..|..|.------\n",
      "---------.|.---------\n"
     ]
    }
   ],
   "source": [
    "# 3-1\n",
    "\n",
    "n, m = map(int, input().split(' '))\n",
    "\n",
    "a = '.|.'\n",
    "b = '-'\n",
    "\n",
    "i = 1\n",
    "while i < n-1:\n",
    "    print((a*i).center(m, b))\n",
    "    i += 2\n",
    "print('WELCOME'.center(m, b))\n",
    "\n",
    "i = n-2\n",
    "while i >= 1:\n",
    "    print((a*i).center(m, b))\n",
    "    i -= 2"
   ]
  },
  {
   "cell_type": "markdown",
   "id": "d70eb934",
   "metadata": {},
   "source": [
    "### 4. String Formatting"
   ]
  },
  {
   "cell_type": "code",
   "execution_count": 94,
   "id": "2f897a21",
   "metadata": {},
   "outputs": [
    {
     "name": "stdout",
     "output_type": "stream",
     "text": [
      "17\n",
      "    1     1     1     1\n",
      "    2     2     2    10\n",
      "    3     3     3    11\n",
      "    4     4     4   100\n",
      "    5     5     5   101\n",
      "    6     6     6   110\n",
      "    7     7     7   111\n",
      "    8    10     8  1000\n",
      "    9    11     9  1001\n",
      "   10    12     A  1010\n",
      "   11    13     B  1011\n",
      "   12    14     C  1100\n",
      "   13    15     D  1101\n",
      "   14    16     E  1110\n",
      "   15    17     F  1111\n",
      "   16    20    10 10000\n",
      "   17    21    11 10001\n"
     ]
    }
   ],
   "source": [
    "# 4-1\n",
    "# oct(), hex(), bin()\n",
    "# 출력시 대소문자 구분 주의\n",
    "# 띄어쓰기 빈공간 확인\n",
    "\n",
    "def print_formatted(number):\n",
    "    # your code goes here\n",
    "    w = len(bin(number)[2:])\n",
    "    for i in range(1, number + 1):\n",
    "        tem_dec = str(i)\n",
    "        tem_oct = str(oct(i))[2:]\n",
    "        tem_hex = str(hex(i))[2:].upper()\n",
    "        tem_bin = str(bin(i))[2:]\n",
    "        print(tem_dec.rjust(w, ' '), tem_oct.rjust(w, ' '), tem_hex.rjust(w, ' '), tem_bin.rjust(w, ' '))\n",
    "\n",
    "        \n",
    "if __name__ == '__main__':\n",
    "    n = int(input())\n",
    "    print_formatted(n)"
   ]
  },
  {
   "cell_type": "markdown",
   "id": "338789f4",
   "metadata": {},
   "source": [
    "### 5. Alphabet Rangoli"
   ]
  },
  {
   "cell_type": "code",
   "execution_count": 125,
   "id": "957fa4cc",
   "metadata": {},
   "outputs": [
    {
     "name": "stdout",
     "output_type": "stream",
     "text": [
      "5\n",
      "--------e--------\n",
      "------e-d-e------\n",
      "----e-d-c-d-e----\n",
      "--e-d-c-b-c-d-e--\n",
      "e-d-c-b-a-b-c-d-e\n",
      "--e-d-c-b-c-d-e--\n",
      "----e-d-c-d-e----\n",
      "------e-d-e------\n",
      "--------e--------\n"
     ]
    }
   ],
   "source": [
    "# 5-1\n",
    "# 다시한번 볼것\n",
    "\n",
    "def print_rangoli(size):\n",
    "    alpha = 'abcdefghijklmnopqrstuvwxyz'\n",
    "    for i in range(n-1, -n, -1):\n",
    "        string = '-'.join(alpha[n-1:abs(i):-1] + alpha[abs(i):n])\n",
    "        print(string.center(4 * n - 3, '-'))\n",
    "\n",
    "if __name__ == '__main__':\n",
    "    n = int(input())\n",
    "    print_rangoli(n)"
   ]
  },
  {
   "cell_type": "markdown",
   "id": "05bdcea3",
   "metadata": {},
   "source": [
    "### 6. Capitalize!"
   ]
  },
  {
   "cell_type": "code",
   "execution_count": null,
   "id": "b08eb091",
   "metadata": {},
   "outputs": [],
   "source": [
    "# 6-1\n",
    "# capitalize()\n",
    "# split(' '), sep명시할것\n",
    "\n",
    "def solve(s):\n",
    "    ss = s.split()\n",
    "    for i in range(len(ss)):\n",
    "    ss[i] = ss[i].capitalize()\n",
    "    return ' '.join(ss)\n",
    "\n",
    "if __name__ == '__main__':\n",
    "    fptr = open(os.environ['OUTPUT_PATH'], 'w')\n",
    "    s = input()\n",
    "    result = solve(s)\n",
    "    fptr.write(result + '\\n')\n",
    "    fptr.close()"
   ]
  },
  {
   "cell_type": "markdown",
   "id": "467768d1",
   "metadata": {},
   "source": [
    "### 7. itertools.product()"
   ]
  },
  {
   "cell_type": "code",
   "execution_count": 71,
   "id": "12f77369",
   "metadata": {},
   "outputs": [
    {
     "name": "stdout",
     "output_type": "stream",
     "text": [
      "1 2\n",
      "3 4\n",
      "(1, 3) (1, 4) (2, 3) (2, 4)\n"
     ]
    }
   ],
   "source": [
    "# 7-1\n",
    "# itertools.product()\n",
    "# asterisk unpacking\n",
    "\n",
    "from itertools import product\n",
    "\n",
    "a = list(map(int, input().split()))\n",
    "b = list(map(int, input().split()))\n",
    "\n",
    "print(*product(a, b))"
   ]
  },
  {
   "cell_type": "markdown",
   "id": "6c8e8737",
   "metadata": {},
   "source": [
    "### 8. collections.Counter()"
   ]
  },
  {
   "cell_type": "code",
   "execution_count": 87,
   "id": "49905185",
   "metadata": {},
   "outputs": [],
   "source": [
    "# 8-1\n",
    "# collections.Counter()\n",
    "# Counter().items()\n",
    "# Counter().keys()\n",
    "# Counter().values()\n",
    "\n",
    "from collections import Counter\n",
    "\n",
    "x = input()\n",
    "size = list(map(int, input().split(' ')))\n",
    "\n",
    "total_price = 0\n",
    "n = int(input())\n",
    "\n",
    "for i in range(0, int(n)):\n",
    "    buy_size, buy_price = map(int, input().split(' '))\n",
    "    if buy_size in size:\n",
    "        total_price += buy_price\n",
    "        size.remove(buy_size)\n",
    "print(total_price)\n",
    "    "
   ]
  },
  {
   "cell_type": "code",
   "execution_count": 134,
   "id": "7ccfb2ea",
   "metadata": {},
   "outputs": [
    {
     "name": "stdout",
     "output_type": "stream",
     "text": [
      "10\n",
      "2 3 4 5 6 8 7 6 5 18\n",
      "6\n",
      "6 55\n",
      "6 45\n",
      "6 55\n",
      "4 40\n",
      "18 60\n",
      "10 50\n",
      "200\n"
     ]
    }
   ],
   "source": [
    "# 8-2\n",
    "# Counter() 사용\n",
    "\n",
    "import collections\n",
    "\n",
    "numShoes = int(input())\n",
    "shoes = collections.Counter(map(int, input().split(' ')))\n",
    "\n",
    "numCust = int(input())\n",
    "income = 0\n",
    "\n",
    "for i in range(numCust):\n",
    "    size, price = map(int, input().split())\n",
    "    if shoes[size]: \n",
    "        income += price\n",
    "        shoes[size] -= 1\n",
    "\n",
    "print(income)"
   ]
  },
  {
   "cell_type": "markdown",
   "id": "a2e24d9c",
   "metadata": {},
   "source": [
    "### 9. itertools.permutations()"
   ]
  },
  {
   "cell_type": "code",
   "execution_count": 182,
   "id": "e5748bd4",
   "metadata": {},
   "outputs": [
    {
     "name": "stdout",
     "output_type": "stream",
     "text": [
      "HACK 2\n"
     ]
    }
   ],
   "source": [
    "# 9-1\n",
    "# permutations - 순열 (a,b) (b,a) 다른것\n",
    "# sorted('HACK')\n",
    "\n",
    "from itertools import permutations\n",
    "\n",
    "keyword, num = input().split(' ')\n",
    "\n",
    "for word in list(permutations(sorted(keyword), int(num))):\n",
    "    print(''.join(word))"
   ]
  },
  {
   "cell_type": "markdown",
   "id": "11f3a603",
   "metadata": {},
   "source": [
    "### 10. Polar Coordinates"
   ]
  },
  {
   "cell_type": "code",
   "execution_count": 212,
   "id": "7e0c0978",
   "metadata": {},
   "outputs": [
    {
     "name": "stdout",
     "output_type": "stream",
     "text": [
      "1+2j\n",
      "2.23606797749979\n",
      "1.1071487177940904\n"
     ]
    }
   ],
   "source": [
    "# 10-1\n",
    "# complex() - 복소수\n",
    "\n",
    "import cmath\n",
    "\n",
    "print(*cmath.polar(complex(input())), sep='\\n')"
   ]
  },
  {
   "cell_type": "code",
   "execution_count": null,
   "id": "9bceed81",
   "metadata": {},
   "outputs": [],
   "source": []
  },
  {
   "cell_type": "code",
   "execution_count": null,
   "id": "fb4d49d9",
   "metadata": {},
   "outputs": [],
   "source": []
  },
  {
   "cell_type": "code",
   "execution_count": null,
   "id": "64b4faed",
   "metadata": {},
   "outputs": [],
   "source": []
  }
 ],
 "metadata": {
  "kernelspec": {
   "display_name": "hackerrank",
   "language": "python",
   "name": "hackerrank"
  },
  "language_info": {
   "codemirror_mode": {
    "name": "ipython",
    "version": 3
   },
   "file_extension": ".py",
   "mimetype": "text/x-python",
   "name": "python",
   "nbconvert_exporter": "python",
   "pygments_lexer": "ipython3",
   "version": "3.9.12"
  }
 },
 "nbformat": 4,
 "nbformat_minor": 5
}
