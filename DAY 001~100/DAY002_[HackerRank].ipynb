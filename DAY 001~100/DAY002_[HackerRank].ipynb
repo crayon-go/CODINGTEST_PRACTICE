{
 "cells": [
  {
   "cell_type": "code",
   "execution_count": 3,
   "id": "2cf406fe",
   "metadata": {},
   "outputs": [],
   "source": [
    "#!/bin/python3\n",
    "\n",
    "import math\n",
    "import os\n",
    "import random\n",
    "import re\n",
    "import sys"
   ]
  },
  {
   "cell_type": "markdown",
   "id": "52ad5dd2",
   "metadata": {},
   "source": [
    "### 1. Text Alignment"
   ]
  },
  {
   "cell_type": "code",
   "execution_count": 20,
   "id": "2b57486d",
   "metadata": {},
   "outputs": [
    {
     "name": "stdout",
     "output_type": "stream",
     "text": [
      "5\n",
      "    H    \n",
      "   HHH   \n",
      "  HHHHH  \n",
      " HHHHHHH \n",
      "HHHHHHHHH\n",
      "  HHHHH               HHHHH             \n",
      "  HHHHH               HHHHH             \n",
      "  HHHHH               HHHHH             \n",
      "  HHHHH               HHHHH             \n",
      "  HHHHH               HHHHH             \n",
      "  HHHHH               HHHHH             \n",
      "  HHHHHHHHHHHHHHHHHHHHHHHHH   \n",
      "  HHHHHHHHHHHHHHHHHHHHHHHHH   \n",
      "  HHHHHHHHHHHHHHHHHHHHHHHHH   \n",
      "  HHHHH               HHHHH             \n",
      "  HHHHH               HHHHH             \n",
      "  HHHHH               HHHHH             \n",
      "  HHHHH               HHHHH             \n",
      "  HHHHH               HHHHH             \n",
      "  HHHHH               HHHHH             \n",
      "                    HHHHHHHHH \n",
      "                     HHHHHHH  \n",
      "                      HHHHH   \n",
      "                       HHH    \n",
      "                        H     \n"
     ]
    }
   ],
   "source": [
    "# 1-1\n",
    "# rjust, ljust, center\n",
    "\n",
    "thickness = int(input()) #This must be an odd number\n",
    "c = 'H'\n",
    "\n",
    "#Top Cone\n",
    "for i in range(thickness):\n",
    "    print((c*i).rjust(thickness-1)+c+(c*i).ljust(thickness-1))\n",
    "\n",
    "#Top Pillars\n",
    "for i in range(thickness+1):\n",
    "    print((c*thickness).center(thickness*2)+(c*thickness).center(thickness*6))\n",
    "\n",
    "#Middle Belt\n",
    "for i in range((thickness+1)//2):\n",
    "    print((c*thickness*5).center(thickness*6))    \n",
    "\n",
    "#Bottom Pillars\n",
    "for i in range(thickness+1):\n",
    "    print((c*thickness).center(thickness*2)+(c*thickness).center(thickness*6))\n",
    "\n",
    "#Bottom Cone\n",
    "for i in range(thickness):\n",
    "    print(((c*(thickness-i-1)).rjust(thickness)+c+(c*(thickness-i-1)).ljust(thickness)).rjust(thickness*6))"
   ]
  },
  {
   "cell_type": "markdown",
   "id": "11ea14bd",
   "metadata": {},
   "source": [
    "### 2. Text Wrap"
   ]
  },
  {
   "cell_type": "code",
   "execution_count": 28,
   "id": "37fd04ab",
   "metadata": {},
   "outputs": [
    {
     "name": "stdout",
     "output_type": "stream",
     "text": [
      "ABCDEFGHIJKLIMNOQRSTUVWXYZ\n",
      "4\n",
      "ABCD\n",
      "EFGH\n",
      "IJKL\n",
      "IMNO\n",
      "QRST\n",
      "UVWX\n",
      "YZ\n"
     ]
    }
   ],
   "source": [
    "# 2-1\n",
    "# textwrap\n",
    "\n",
    "import textwrap\n",
    "\n",
    "def wrap(string, max_width):\n",
    "    return textwrap.fill(string, max_width)\n",
    "\n",
    "if __name__ == '__main__':\n",
    "    string, max_width = input(), int(input())\n",
    "    result = wrap(string, max_width)\n",
    "    print(result)"
   ]
  },
  {
   "cell_type": "markdown",
   "id": "1d1b95e7",
   "metadata": {},
   "source": [
    "### 3. Designer Door Mat"
   ]
  },
  {
   "cell_type": "code",
   "execution_count": 61,
   "id": "35897967",
   "metadata": {},
   "outputs": [
    {
     "name": "stdout",
     "output_type": "stream",
     "text": [
      "7 21\n",
      "---------.|.---------\n",
      "------.|..|..|.------\n",
      "---.|..|..|..|..|.---\n",
      "-------WELCOME-------\n",
      "---.|..|..|..|..|.---\n",
      "------.|..|..|.------\n",
      "---------.|.---------\n"
     ]
    }
   ],
   "source": [
    "# 3-1\n",
    "\n",
    "n, m = map(int, input().split(' '))\n",
    "\n",
    "a = '.|.'\n",
    "b = '-'\n",
    "\n",
    "i = 1\n",
    "while i < n-1:\n",
    "    print((a*i).center(m, b))\n",
    "    i += 2\n",
    "print('WELCOME'.center(m, b))\n",
    "\n",
    "i = n-2\n",
    "while i >= 1:\n",
    "    print((a*i).center(m, b))\n",
    "    i -= 2"
   ]
  },
  {
   "cell_type": "markdown",
   "id": "0fffda53",
   "metadata": {},
   "source": [
    "### 4. String Formatting"
   ]
  },
  {
   "cell_type": "code",
   "execution_count": 94,
   "id": "b422a0dd",
   "metadata": {},
   "outputs": [
    {
     "name": "stdout",
     "output_type": "stream",
     "text": [
      "17\n",
      "    1     1     1     1\n",
      "    2     2     2    10\n",
      "    3     3     3    11\n",
      "    4     4     4   100\n",
      "    5     5     5   101\n",
      "    6     6     6   110\n",
      "    7     7     7   111\n",
      "    8    10     8  1000\n",
      "    9    11     9  1001\n",
      "   10    12     A  1010\n",
      "   11    13     B  1011\n",
      "   12    14     C  1100\n",
      "   13    15     D  1101\n",
      "   14    16     E  1110\n",
      "   15    17     F  1111\n",
      "   16    20    10 10000\n",
      "   17    21    11 10001\n"
     ]
    }
   ],
   "source": [
    "# 4-1\n",
    "# oct(), hex(), bin()\n",
    "# 출력시 대소문자 구분 주의\n",
    "# 띄어쓰기 빈공간 확인\n",
    "\n",
    "def print_formatted(number):\n",
    "    # your code goes here\n",
    "    w = len(bin(number)[2:])\n",
    "    for i in range(1, number + 1):\n",
    "        tem_dec = str(i)\n",
    "        tem_oct = str(oct(i))[2:]\n",
    "        tem_hex = str(hex(i))[2:].upper()\n",
    "        tem_bin = str(bin(i))[2:]\n",
    "        print(tem_dec.rjust(w, ' '), tem_oct.rjust(w, ' '), tem_hex.rjust(w, ' '), tem_bin.rjust(w, ' '))\n",
    "\n",
    "        \n",
    "if __name__ == '__main__':\n",
    "    n = int(input())\n",
    "    print_formatted(n)"
   ]
  },
  {
   "cell_type": "markdown",
   "id": "081c78ae",
   "metadata": {},
   "source": [
    "### 5. Alphabet Rangoli"
   ]
  },
  {
   "cell_type": "code",
   "execution_count": 125,
   "id": "3b5e7efa",
   "metadata": {},
   "outputs": [
    {
     "name": "stdout",
     "output_type": "stream",
     "text": [
      "5\n",
      "--------e--------\n",
      "------e-d-e------\n",
      "----e-d-c-d-e----\n",
      "--e-d-c-b-c-d-e--\n",
      "e-d-c-b-a-b-c-d-e\n",
      "--e-d-c-b-c-d-e--\n",
      "----e-d-c-d-e----\n",
      "------e-d-e------\n",
      "--------e--------\n"
     ]
    }
   ],
   "source": [
    "# 5-1\n",
    "# 다시한번 볼것\n",
    "\n",
    "def print_rangoli(size):\n",
    "    alpha = 'abcdefghijklmnopqrstuvwxyz'\n",
    "    for i in range(n-1, -n, -1):\n",
    "        string = '-'.join(alpha[n-1:abs(i):-1] + alpha[abs(i):n])\n",
    "        print(string.center(4 * n - 3, '-'))\n",
    "\n",
    "if __name__ == '__main__':\n",
    "    n = int(input())\n",
    "    print_rangoli(n)"
   ]
  },
  {
   "cell_type": "markdown",
   "id": "4cd6c4d8",
   "metadata": {},
   "source": [
    "### 6. Capitalize!"
   ]
  },
  {
   "cell_type": "code",
   "execution_count": null,
   "id": "e67914bd",
   "metadata": {},
   "outputs": [],
   "source": [
    "# 6-1\n",
    "# capitalize()\n",
    "# split(' '), sep명시할것\n",
    "\n",
    "def solve(s):\n",
    "    ss = s.split()\n",
    "    for i in range(len(ss)):\n",
    "    ss[i] = ss[i].capitalize()\n",
    "    return ' '.join(ss)\n",
    "\n",
    "if __name__ == '__main__':\n",
    "    fptr = open(os.environ['OUTPUT_PATH'], 'w')\n",
    "    s = input()\n",
    "    result = solve(s)\n",
    "    fptr.write(result + '\\n')\n",
    "    fptr.close()"
   ]
  },
  {
   "cell_type": "markdown",
   "id": "5e776c9e",
   "metadata": {},
   "source": [
    "### 7. itertools.product()"
   ]
  },
  {
   "cell_type": "code",
   "execution_count": 71,
   "id": "7dcd702b",
   "metadata": {},
   "outputs": [
    {
     "name": "stdout",
     "output_type": "stream",
     "text": [
      "1 2\n",
      "3 4\n",
      "(1, 3) (1, 4) (2, 3) (2, 4)\n"
     ]
    }
   ],
   "source": [
    "# 7-1\n",
    "# itertools.product()\n",
    "# asterisk unpacking\n",
    "\n",
    "from itertools import product\n",
    "\n",
    "a = list(map(int, input().split()))\n",
    "b = list(map(int, input().split()))\n",
    "\n",
    "print(*product(a, b))"
   ]
  },
  {
   "cell_type": "markdown",
   "id": "b6ba05e8",
   "metadata": {},
   "source": [
    "### 8. collections.Counter()"
   ]
  },
  {
   "cell_type": "code",
   "execution_count": 87,
   "id": "254bd8b3",
   "metadata": {},
   "outputs": [],
   "source": [
    "# 8-1\n",
    "# collections.Counter()\n",
    "# Counter().items()\n",
    "# Counter().keys()\n",
    "# Counter().values()\n",
    "\n",
    "from collections import Counter\n",
    "\n",
    "x = input()\n",
    "size = list(map(int, input().split(' ')))\n",
    "\n",
    "total_price = 0\n",
    "n = int(input())\n",
    "\n",
    "for i in range(0, int(n)):\n",
    "    buy_size, buy_price = map(int, input().split(' '))\n",
    "    if buy_size in size:\n",
    "        total_price += buy_price\n",
    "        size.remove(buy_size)\n",
    "print(total_price)\n",
    "    "
   ]
  },
  {
   "cell_type": "code",
   "execution_count": 134,
   "id": "6ab563d9",
   "metadata": {},
   "outputs": [
    {
     "name": "stdout",
     "output_type": "stream",
     "text": [
      "10\n",
      "2 3 4 5 6 8 7 6 5 18\n",
      "6\n",
      "6 55\n",
      "6 45\n",
      "6 55\n",
      "4 40\n",
      "18 60\n",
      "10 50\n",
      "200\n"
     ]
    }
   ],
   "source": [
    "# 8-2\n",
    "# Counter() 사용\n",
    "\n",
    "import collections\n",
    "\n",
    "numShoes = int(input())\n",
    "shoes = collections.Counter(map(int, input().split(' ')))\n",
    "\n",
    "numCust = int(input())\n",
    "income = 0\n",
    "\n",
    "for i in range(numCust):\n",
    "    size, price = map(int, input().split())\n",
    "    if shoes[size]: \n",
    "        income += price\n",
    "        shoes[size] -= 1\n",
    "\n",
    "print(income)"
   ]
  },
  {
   "cell_type": "markdown",
   "id": "937a1492",
   "metadata": {},
   "source": [
    "### 9. itertools.permutations()"
   ]
  },
  {
   "cell_type": "code",
   "execution_count": 182,
   "id": "db0c5d90",
   "metadata": {},
   "outputs": [
    {
     "name": "stdout",
     "output_type": "stream",
     "text": [
      "HACK 2\n"
     ]
    }
   ],
   "source": [
    "# 9-1\n",
    "# permutations - 순열 (a,b) (b,a) 다른것\n",
    "# sorted('HACK')\n",
    "\n",
    "from itertools import permutations\n",
    "\n",
    "keyword, num = input().split(' ')\n",
    "\n",
    "for word in list(permutations(sorted(keyword), int(num))):\n",
    "    print(''.join(word))"
   ]
  },
  {
   "cell_type": "markdown",
   "id": "8988e57f",
   "metadata": {},
   "source": [
    "### 10. Polar Coordinates"
   ]
  },
  {
   "cell_type": "code",
   "execution_count": 212,
   "id": "885b6b14",
   "metadata": {},
   "outputs": [
    {
     "name": "stdout",
     "output_type": "stream",
     "text": [
      "1+2j\n",
      "2.23606797749979\n",
      "1.1071487177940904\n"
     ]
    }
   ],
   "source": [
    "# 10-1\n",
    "# complex() - 복소수\n",
    "\n",
    "import cmath\n",
    "\n",
    "print(*cmath.polar(complex(input())), sep='\\n')"
   ]
  },
  {
   "cell_type": "markdown",
   "id": "ab3cbc93",
   "metadata": {},
   "source": [
    "### 11. Introduction to Sets"
   ]
  },
  {
   "cell_type": "code",
   "execution_count": 267,
   "id": "758be231",
   "metadata": {},
   "outputs": [
    {
     "name": "stdout",
     "output_type": "stream",
     "text": [
      "10\n",
      "161 182 161 154 176 170 167 171 170 174\n",
      "169.375\n"
     ]
    }
   ],
   "source": [
    "# 11-1\n",
    "\n",
    "def average(array):\n",
    "    return sum(set(array))/len(set(array))\n",
    "\n",
    "if __name__ == '__main__':\n",
    "    n = int(input())\n",
    "    arr = list(map(int, input().split()))\n",
    "    result = average(arr)\n",
    "    print(result)"
   ]
  },
  {
   "cell_type": "markdown",
   "id": "de80fcd1",
   "metadata": {},
   "source": [
    "### 12. DefaultDict Tutorial"
   ]
  },
  {
   "cell_type": "code",
   "execution_count": 306,
   "id": "b7ef03e1",
   "metadata": {},
   "outputs": [
    {
     "name": "stdout",
     "output_type": "stream",
     "text": [
      "5 2\n",
      "a\n",
      "a\n",
      "b\n",
      "a\n",
      "b\n",
      "a\n",
      "1 2 4\n",
      "b\n",
      "3 5\n"
     ]
    }
   ],
   "source": [
    "# 12-1\n",
    "# 문제 이해가 잘 안갔음\n",
    "\n",
    "from collections import defaultdict\n",
    "\n",
    "d = defaultdict(list)\n",
    "n, m = map(int, input().split())\n",
    "\n",
    "for i in range(1, n+1):\n",
    "    word1 = str(input())\n",
    "    d[word1].append(str(i))\n",
    "\n",
    "\n",
    "for j in range(m):\n",
    "    word2 = str(input())\n",
    "    if word2 in d:\n",
    "        print(' '.join(d[word2]))\n",
    "    else:\n",
    "        print('-1')"
   ]
  },
  {
   "cell_type": "markdown",
   "id": "4a2729e7",
   "metadata": {},
   "source": [
    "### 13. Calendar Module"
   ]
  },
  {
   "cell_type": "code",
   "execution_count": 343,
   "id": "58683540",
   "metadata": {},
   "outputs": [
    {
     "name": "stdout",
     "output_type": "stream",
     "text": [
      "08 05 2015\n",
      "WEDNESDAY\n"
     ]
    }
   ],
   "source": [
    "# 13-1\n",
    "# calendar\n",
    "# day_name, weekday\n",
    "\n",
    "import calendar\n",
    "\n",
    "mm, dd, year = map(int, input().split(' '))\n",
    "print(list(calendar.day_name)[calendar.weekday(year, mm, dd)].upper())"
   ]
  },
  {
   "cell_type": "markdown",
   "id": "bd573130",
   "metadata": {},
   "source": [
    "### 14. Exceptions"
   ]
  },
  {
   "cell_type": "code",
   "execution_count": 360,
   "id": "c7de2357",
   "metadata": {},
   "outputs": [
    {
     "name": "stdout",
     "output_type": "stream",
     "text": [
      "3\n",
      "1 0\n",
      "Error Code: integer division or modulo by zero\n",
      "2 $\n",
      "Error Code: invalid literal for int() with base 10: '$'\n",
      "3 1\n",
      "3\n"
     ]
    }
   ],
   "source": [
    "# 14-1\n",
    "# try 안에 포함할 코드들 문제조건 보고 확인\n",
    "# / 나누기\n",
    "# % 나머지\n",
    "# // 몫\n",
    "# ** 거듭제곱\n",
    "\n",
    "for i in range(int(input())):\n",
    "    try:\n",
    "        a, b = map(int, input().split(' '))\n",
    "        print(a//b)\n",
    "    except Exception as e:\n",
    "        print(\"Error Code:\", e)"
   ]
  },
  {
   "cell_type": "markdown",
   "id": "95c0b5ac",
   "metadata": {},
   "source": [
    "### 15. Collections.namedtuple()"
   ]
  },
  {
   "cell_type": "code",
   "execution_count": 361,
   "id": "cbe0721d",
   "metadata": {},
   "outputs": [],
   "source": [
    "# 15-1\n",
    "# namedtuple()\n",
    "# Asterisk\n",
    "\n",
    "from collections import namedtuple\n",
    "\n",
    "n = int(input())\n",
    "scol = ','.join(input().split())\n",
    "Student = namedtuple('Student',scol)\n",
    "\n",
    "sum = 0\n",
    "for i in range(n):\n",
    "    row = input().split()\n",
    "    student = Student(*row)\n",
    "    sum += int(student.MARKS)\n",
    "\n",
    "print(sum/n)"
   ]
  },
  {
   "cell_type": "markdown",
   "id": "37bb65b1",
   "metadata": {},
   "source": [
    "### 16. Collections.OrderedDict()"
   ]
  },
  {
   "cell_type": "code",
   "execution_count": 15,
   "id": "e799ad84",
   "metadata": {},
   "outputs": [
    {
     "name": "stdout",
     "output_type": "stream",
     "text": [
      "3\n",
      "a a 1\n",
      "a a 1\n",
      "b b 2\n",
      "a a 2\n",
      "b b 2\n"
     ]
    }
   ],
   "source": [
    "# 16-1\n",
    "# keys()\n",
    "# items()\n",
    "\n",
    "from collections import OrderedDict\n",
    "\n",
    "n = input()\n",
    "od = OrderedDict()\n",
    "\n",
    "for i in range(int(n)):\n",
    "    word = input().split(' ')\n",
    "    score = int(word[-1])\n",
    "    name = word[:-1]\n",
    "    name = ' '.join(name)\n",
    "    \n",
    "    if od.get(name):\n",
    "        od[name] += score\n",
    "    else:\n",
    "        od[name] = score\n",
    "        \n",
    "for i in od.keys():\n",
    "    print(i, od[i])\n"
   ]
  },
  {
   "cell_type": "markdown",
   "id": "61e2f360",
   "metadata": {},
   "source": [
    "### 17. Symmetric Difference"
   ]
  },
  {
   "cell_type": "code",
   "execution_count": 72,
   "id": "d9b5ae07",
   "metadata": {},
   "outputs": [],
   "source": [
    "# 17-1\n",
    "# add vs update\n",
    "# remove vs discard\n",
    "# discard는 없어도 에러안남\n",
    "# remove()는 실제 존재하는 대상을 지우는 동작에, discard()는 존재하지 않음을 보장하려고 할때 사용하면 될 것 같음.\n",
    "# union 합집합\n",
    "# intersection 교집합\n",
    "# difference a-b\n",
    "\n",
    "\n",
    "a, b=(int(input()), input().split())\n",
    "c, d=(int(input()), input().split())\n",
    "\n",
    "x=set(b)\n",
    "y=set(d)\n",
    "\n",
    "p = y.difference(x)\n",
    "q = x.difference(y)\n",
    "\n",
    "r = p.union(q)\n",
    "\n",
    "print ('\\n'.join(sorted(r, key=int)))"
   ]
  },
  {
   "cell_type": "markdown",
   "id": "a4bf27d6",
   "metadata": {},
   "source": [
    "### 18. itertools.combinations()"
   ]
  },
  {
   "cell_type": "code",
   "execution_count": 135,
   "id": "fea5419c",
   "metadata": {},
   "outputs": [],
   "source": [
    "# 18-1\n",
    "# combinations()\n",
    "\n",
    "from itertools import combinations\n",
    "\n",
    "name, num = input().split(' ')\n",
    "\n",
    "for i in range(1, int(num)+1):\n",
    "    for j in combinations(sorted(name), i):\n",
    "        print(''.join(j))"
   ]
  },
  {
   "cell_type": "markdown",
   "id": "e14c42f9",
   "metadata": {},
   "source": [
    "### 19. Incorrect Regex"
   ]
  },
  {
   "cell_type": "code",
   "execution_count": 183,
   "id": "330b97ba",
   "metadata": {},
   "outputs": [
    {
     "name": "stdout",
     "output_type": "stream",
     "text": [
      "2\n",
      ".*/+\n",
      "True\n",
      ".*+\n",
      "False\n"
     ]
    }
   ],
   "source": [
    "# 19-1\n",
    "# re.compile()\n",
    "# 정규표현식은 나중에 제대로 공부\n",
    "\n",
    "import re\n",
    "\n",
    "for _ in range(int(input())):\n",
    "    ans = True\n",
    "    try:\n",
    "        reg = re.compile(input())\n",
    "    except re.error:\n",
    "        ans = False\n",
    "    print(ans)"
   ]
  },
  {
   "cell_type": "markdown",
   "id": "ae3e120d",
   "metadata": {},
   "source": [
    "### 20. Set .add()"
   ]
  },
  {
   "cell_type": "code",
   "execution_count": 208,
   "id": "a7fdf192",
   "metadata": {
    "scrolled": true
   },
   "outputs": [
    {
     "name": "stdout",
     "output_type": "stream",
     "text": [
      "7\n",
      "UK\n",
      "China\n",
      "USA\n",
      "France\n",
      "New Zealand\n",
      "UK\n",
      "France\n",
      "5\n"
     ]
    }
   ],
   "source": [
    "n = int(input())\n",
    "\n",
    "s = set()\n",
    "for i in range(n):\n",
    "    s.add(input())\n",
    "    \n",
    "print(len(s))"
   ]
  },
  {
   "cell_type": "markdown",
   "id": "5ab2f84e",
   "metadata": {},
   "source": [
    "### 21. itertools.combinations_with_replacement()"
   ]
  },
  {
   "cell_type": "code",
   "execution_count": 209,
   "id": "8dc49837",
   "metadata": {},
   "outputs": [],
   "source": [
    "# 21-1\n",
    "# combinations_with_replacement\n",
    "\n",
    "from itertools import combinations_with_replacement\n",
    "\n",
    "name, num = input().split(' ')\n",
    "\n",
    "for i in combinations_with_replacement(sorted(name), int(num)):\n",
    "    print(''.join(i))"
   ]
  },
  {
   "cell_type": "markdown",
   "id": "0dc1fd35",
   "metadata": {},
   "source": [
    "### 22. Set .discard(), .remove() & .pop()"
   ]
  },
  {
   "cell_type": "code",
   "execution_count": 222,
   "id": "ac1d722e",
   "metadata": {},
   "outputs": [],
   "source": [
    "# 22-1\n",
    "# remove vs discard\n",
    "# pop\n",
    "# 마지막에 sum.. 문제를 잘 보자\n",
    "\n",
    "num = int(input())\n",
    "li = set(map(int, input().split(' ')))\n",
    "\n",
    "for i in range(int(input())):\n",
    "    kw = input().split(' ')\n",
    "    if kw[0] != 'pop':\n",
    "        eval(\"li.\" + kw[0] + \"(\" + kw[1] + \")\")\n",
    "    else:\n",
    "        li.pop()\n",
    "\n",
    "print(sum(li))"
   ]
  },
  {
   "cell_type": "code",
   "execution_count": 10,
   "id": "21511780",
   "metadata": {},
   "outputs": [
    {
     "name": "stdout",
     "output_type": "stream",
     "text": [
      "9\n",
      "1 2 3 4 5 6 7 8 9\n",
      "10\n",
      "pop\n",
      "remove 9\n",
      "discard 9\n",
      "discard 8\n",
      "remove 7\n",
      "pop\n",
      "discard 6\n",
      "remove 5\n",
      "pop\n",
      "discard 5\n",
      "4\n"
     ]
    }
   ],
   "source": [
    "# 22-2\n",
    "\n",
    "num = int(input())\n",
    "s = set(map(int, input().split(' ')))\n",
    "\n",
    "for i in range(int(input())):\n",
    "    eval('s.{0}({1})'.format(*input().split()+['']))\n",
    "\n",
    "print(sum(s))"
   ]
  },
  {
   "cell_type": "markdown",
   "id": "d8a72c58",
   "metadata": {},
   "source": [
    "### 23. Collections.deque()"
   ]
  },
  {
   "cell_type": "code",
   "execution_count": 66,
   "id": "6eb93558",
   "metadata": {},
   "outputs": [
    {
     "name": "stdout",
     "output_type": "stream",
     "text": [
      "6\n",
      "append 1\n",
      "append 2\n",
      "append 3\n",
      "appendleft 4\n",
      "pop\n",
      "popleft\n",
      "1 2\n"
     ]
    }
   ],
   "source": [
    "# 23-1\n",
    "\n",
    "from collections import deque\n",
    "\n",
    "num = int(input())\n",
    "d = deque()\n",
    "for i in range(num):\n",
    "    eval('d.{0}({1})'.format(*input().split()+['']))\n",
    "print(*d)"
   ]
  },
  {
   "cell_type": "markdown",
   "id": "09532b53",
   "metadata": {},
   "source": [
    "### 24. Set .union() Operation"
   ]
  },
  {
   "cell_type": "code",
   "execution_count": 77,
   "id": "b9755675",
   "metadata": {},
   "outputs": [
    {
     "name": "stdout",
     "output_type": "stream",
     "text": [
      "9\n",
      "1 2 3 4 5 6 7 8 9\n",
      "9\n",
      "10 1 2 3 11 21 55 6 8\n"
     ]
    }
   ],
   "source": [
    "num1 = int(input())\n",
    "li1 = input().split()\n",
    "num2 = int(input())\n",
    "li2 = input().split()\n",
    "\n",
    "li1 = set(li1)\n",
    "li2 = set(li2)\n",
    "\n",
    "li3 = li1.union(li2)\n",
    "\n",
    "print(len(li3))"
   ]
  }
 ],
 "metadata": {
  "kernelspec": {
   "display_name": "hackerrank",
   "language": "python",
   "name": "hackerrank"
  },
  "language_info": {
   "codemirror_mode": {
    "name": "ipython",
    "version": 3
   },
   "file_extension": ".py",
   "mimetype": "text/x-python",
   "name": "python",
   "nbconvert_exporter": "python",
   "pygments_lexer": "ipython3",
   "version": "3.9.12"
  }
 },
 "nbformat": 4,
 "nbformat_minor": 5
}
