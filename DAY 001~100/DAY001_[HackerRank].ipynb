{
 "cells": [
  {
   "cell_type": "code",
   "execution_count": 61,
   "id": "2cf406fe",
   "metadata": {},
   "outputs": [],
   "source": [
    "#!/bin/python3\n",
    "\n",
    "import math\n",
    "import os\n",
    "import random\n",
    "import re\n",
    "import sys"
   ]
  },
  {
   "cell_type": "markdown",
   "id": "52ad5dd2",
   "metadata": {},
   "source": [
    "### 1. If-Else"
   ]
  },
  {
   "cell_type": "code",
   "execution_count": 20,
   "id": "f02a4a39",
   "metadata": {},
   "outputs": [
    {
     "name": "stdout",
     "output_type": "stream",
     "text": [
      "4\n",
      "Not Weird\n"
     ]
    }
   ],
   "source": [
    "# 1-1\n",
    "# print 대소구분, 오탈자 신경쓸것.\n",
    "\n",
    "if __name__ == '__main__':\n",
    "    n = int(input().strip())\n",
    "    \n",
    "    if n%2 == 1:\n",
    "        print('Weird')\n",
    "    elif n%2 == 0 and 2 <= n <= 5:\n",
    "        print('Not Weird')\n",
    "    elif n%2 == 0 and 6 <= n <= 20:\n",
    "        print('Weird')\n",
    "    elif n%2 == 0 and n >= 20:\n",
    "        print('Not Weird')\n"
   ]
  },
  {
   "cell_type": "code",
   "execution_count": 7,
   "id": "eeb78d18",
   "metadata": {},
   "outputs": [
    {
     "name": "stdout",
     "output_type": "stream",
     "text": [
      "4\n",
      "Not Weird\n"
     ]
    }
   ],
   "source": [
    "# 1-2\n",
    "\n",
    "if __name__ == '__main__':\n",
    "    n = int(input().strip())\n",
    "\n",
    "    check = {True: \"Not Weird\", False: \"Weird\"}\n",
    "    print(check[\n",
    "            n%2 == 0 and (\n",
    "                n in range(2, 6) or \n",
    "                n > 20)\n",
    "        ])"
   ]
  },
  {
   "cell_type": "markdown",
   "id": "986c5fce",
   "metadata": {},
   "source": [
    "### 2. Arithmetic Operators"
   ]
  },
  {
   "cell_type": "code",
   "execution_count": 8,
   "id": "189ec190",
   "metadata": {},
   "outputs": [
    {
     "name": "stdout",
     "output_type": "stream",
     "text": [
      "3\n",
      "5\n",
      "8\n",
      "-2\n",
      "15\n"
     ]
    }
   ],
   "source": [
    "# 2-1\n",
    "if __name__ == '__main__':\n",
    "    a = int(input())\n",
    "    b = int(input())\n",
    "    print(a + b)\n",
    "    print(a - b)\n",
    "    print(a * b)\n"
   ]
  },
  {
   "cell_type": "markdown",
   "id": "5876d621",
   "metadata": {},
   "source": [
    "### 3. Python: Division"
   ]
  },
  {
   "cell_type": "code",
   "execution_count": 27,
   "id": "5d9ec7af",
   "metadata": {},
   "outputs": [
    {
     "name": "stdout",
     "output_type": "stream",
     "text": [
      "4\n",
      "3\n",
      "1\n",
      "1.3333333333333333\n"
     ]
    }
   ],
   "source": [
    "# 3-1\n",
    "if __name__ == '__main__':\n",
    "    a = int(input())\n",
    "    b = int(input())\n",
    "    print(a//b)\n",
    "    print(a/b)    "
   ]
  },
  {
   "cell_type": "markdown",
   "id": "20845ce7",
   "metadata": {},
   "source": [
    "### 4. Loops"
   ]
  },
  {
   "cell_type": "code",
   "execution_count": 44,
   "id": "958fd633",
   "metadata": {},
   "outputs": [
    {
     "name": "stdout",
     "output_type": "stream",
     "text": [
      "5\n",
      "0\n",
      "1\n",
      "4\n",
      "9\n",
      "16\n"
     ]
    }
   ],
   "source": [
    "# 4-1\n",
    "if __name__ == '__main__':\n",
    "    n = int(input())\n",
    "    \n",
    "    for i in range(n):\n",
    "        print(i ** 2)  "
   ]
  },
  {
   "cell_type": "code",
   "execution_count": 58,
   "id": "083d8c87",
   "metadata": {},
   "outputs": [
    {
     "name": "stdout",
     "output_type": "stream",
     "text": [
      "5\n",
      "0\n",
      "1\n",
      "4\n",
      "9\n",
      "16\n"
     ]
    }
   ],
   "source": [
    "# 4-2\n",
    "if __name__ == '__main__':\n",
    "    n = int(input())\n",
    "    [print(i**2) for i in range(n)]"
   ]
  },
  {
   "cell_type": "markdown",
   "id": "7675a88c",
   "metadata": {},
   "source": [
    "### 5. Print Function"
   ]
  },
  {
   "cell_type": "code",
   "execution_count": 68,
   "id": "39b2ad63",
   "metadata": {},
   "outputs": [
    {
     "name": "stdout",
     "output_type": "stream",
     "text": [
      "5\n",
      "12345\n"
     ]
    }
   ],
   "source": [
    "# 5-1\n",
    "if __name__ == '__main__':\n",
    "    n = int(input())\n",
    "    \n",
    "    str_n = ''\n",
    "    for i in range(1, n+1):\n",
    "        str_n += str(i)\n",
    "    print(str_n)"
   ]
  },
  {
   "cell_type": "code",
   "execution_count": 93,
   "id": "f26ab36f",
   "metadata": {},
   "outputs": [
    {
     "name": "stdout",
     "output_type": "stream",
     "text": [
      "5\n",
      "12345\n"
     ]
    }
   ],
   "source": [
    "# 5-2\n",
    "if __name__ == '__main__':\n",
    "    #n = int(input())\n",
    "    \n",
    "    print(*range(1, int(input())+1), sep='')\n"
   ]
  },
  {
   "cell_type": "markdown",
   "id": "53c0e9d9",
   "metadata": {},
   "source": [
    "### 6. List Comprehensions"
   ]
  },
  {
   "cell_type": "code",
   "execution_count": 102,
   "id": "5867eaf4",
   "metadata": {},
   "outputs": [
    {
     "name": "stdout",
     "output_type": "stream",
     "text": [
      "1\n",
      "1\n",
      "2\n",
      "3\n",
      "---\n",
      "[[0, 0, 0], [0, 0, 1], [0, 0, 2], [0, 1, 0], [0, 1, 1], [1, 0, 0], [1, 0, 1], [1, 1, 0], [1, 1, 2]]\n"
     ]
    }
   ],
   "source": [
    "# 6-1\n",
    "if __name__ == '__main__':\n",
    "    x = int(input())\n",
    "    y = int(input())\n",
    "    z = int(input())\n",
    "    n = int(input())\n",
    "    print(\"---\")\n",
    "    li = []\n",
    "    \n",
    "    for i in range(x+1):\n",
    "        for j in range(y+1):\n",
    "            for k in range(z+1):\n",
    "                if i+j+k != n:\n",
    "                    li.append([i, j, k])\n",
    "    print(li)"
   ]
  },
  {
   "cell_type": "code",
   "execution_count": 109,
   "id": "04a0d920",
   "metadata": {},
   "outputs": [
    {
     "name": "stdout",
     "output_type": "stream",
     "text": [
      "1\n",
      "1\n",
      "1\n",
      "2\n",
      "---\n",
      "[[0, 0, 0], [0, 0, 1], [0, 1, 0], [1, 0, 0], [1, 1, 1]]\n"
     ]
    }
   ],
   "source": [
    "# 6-2\n",
    "# 여러개가 섞이니 조금 복잡해지는듯..\n",
    "\n",
    "if __name__ == '__main__':\n",
    "    x = int(input())\n",
    "    y = int(input())\n",
    "    z = int(input())\n",
    "    n = int(input())\n",
    "    print(\"---\")\n",
    "    \n",
    "    li = [[i, j, k] for i in range(x+1) for j in range(y+1) for k in range(z+1) if (i+j+k != n)]\n",
    "\n",
    "    print(li)\n",
    "\n"
   ]
  },
  {
   "cell_type": "markdown",
   "id": "761ad4f0",
   "metadata": {},
   "source": [
    "### 7. Find the Runner-Up Score!"
   ]
  },
  {
   "cell_type": "code",
   "execution_count": null,
   "id": "9885e78a",
   "metadata": {},
   "outputs": [],
   "source": [
    "# 5\n",
    "# 2 3 6 6 5"
   ]
  },
  {
   "cell_type": "code",
   "execution_count": 140,
   "id": "6a14fa28",
   "metadata": {},
   "outputs": [
    {
     "name": "stdout",
     "output_type": "stream",
     "text": [
      "5\n",
      "2 3 6 6 5\n",
      "---\n",
      "5\n"
     ]
    }
   ],
   "source": [
    "# 7-1\n",
    "\n",
    "if __name__ == '__main__':\n",
    "    n = int(input())\n",
    "    arr = map(int, input().split())\n",
    "    \n",
    "    print(\"---\")\n",
    "\n",
    "    li = list(arr)\n",
    "    min_value = -9999\n",
    "    max_value = max(li)\n",
    "\n",
    "    for i in range(n):\n",
    "        if li[i] != max_value and li[i] > min_value:\n",
    "            min_value = li[i]\n",
    "    print(min_value)"
   ]
  },
  {
   "cell_type": "code",
   "execution_count": 2,
   "id": "cdad881d",
   "metadata": {},
   "outputs": [
    {
     "name": "stdout",
     "output_type": "stream",
     "text": [
      "5\n",
      "2 3 6 6 5\n",
      "---\n",
      "5\n"
     ]
    }
   ],
   "source": [
    "# 7-2\n",
    "# 생각의 전환..\n",
    "\n",
    "if __name__ == '__main__':\n",
    "    n = int(input())\n",
    "    arr = map(int, input().split())\n",
    "    print(\"---\")\n",
    "    \n",
    "    arr = list(set(arr))\n",
    "    arr.sort()\n",
    "    print(arr[-2])\n"
   ]
  },
  {
   "cell_type": "code",
   "execution_count": 11,
   "id": "9a944a9f",
   "metadata": {},
   "outputs": [
    {
     "name": "stdout",
     "output_type": "stream",
     "text": [
      "5\n",
      "2 3 6 6 5\n",
      "---\n",
      "5\n"
     ]
    }
   ],
   "source": [
    "# 7-3\n",
    "# 더 줄이기..\n",
    "\n",
    "if __name__ == '__main__':\n",
    "    n = int(input())\n",
    "    arr = map(int, input().split())\n",
    "    print(\"---\")\n",
    "    \n",
    "    print(sorted(set(arr))[-2])"
   ]
  },
  {
   "cell_type": "markdown",
   "id": "20cb4798",
   "metadata": {},
   "source": [
    "### 8. Nested Lists"
   ]
  },
  {
   "cell_type": "code",
   "execution_count": 46,
   "id": "657b7a39",
   "metadata": {},
   "outputs": [
    {
     "name": "stdout",
     "output_type": "stream",
     "text": [
      "1\n",
      "1\n",
      "1\n",
      "Berry\n",
      "Harry\n"
     ]
    }
   ],
   "source": [
    "# 8-1\n",
    "if __name__ == '__main__':\n",
    "    score_list = []\n",
    "    for _ in range(int(input())):\n",
    "        name = input()\n",
    "        score = float(input())\n",
    "        score_list.append([name, score])\n",
    "    \n",
    "    # score_list = [['Harry', 37.21], ['Berry', 37.21], ['Tina', 37.2], ['Akriti', 41], ['Harsh', 39]]\n",
    "    second_lowest = sorted(set([score for name, score in score_list]))[1]\n",
    "    print('\\n'.join(sorted([name for name, score in score_list if score == second_lowest])))"
   ]
  },
  {
   "cell_type": "markdown",
   "id": "813c0a18",
   "metadata": {},
   "source": [
    "### 9. Finding the percentage"
   ]
  },
  {
   "cell_type": "code",
   "execution_count": 37,
   "id": "3dea510d",
   "metadata": {},
   "outputs": [
    {
     "name": "stdout",
     "output_type": "stream",
     "text": [
      "3\n",
      "Krishna 67 68 69\n",
      "Arjun 70 98 63\n",
      "Malika 52 56 60\n",
      "Malika\n",
      "56.00\n"
     ]
    }
   ],
   "source": [
    "# 9-1\n",
    "if __name__ == '__main__':\n",
    "    n = int(input())\n",
    "    student_marks = {}\n",
    "    for _ in range(n):\n",
    "        name, *line = input().split()\n",
    "        scores = list(map(float, line))\n",
    "        student_marks[name] = scores\n",
    "    query_name = input()\n",
    "    \n",
    "    li = student_marks[query_name]\n",
    "    print(\"{:.2f}\".format(sum(li)/len(li)))\n",
    "    "
   ]
  },
  {
   "cell_type": "code",
   "execution_count": null,
   "id": "37c33003",
   "metadata": {},
   "outputs": [],
   "source": [
    "n = int(input())\n",
    "student_marks = {}\n",
    "for _ in range(n):\n",
    "    name, *line = input().split()\n",
    "    scores = list(map(float, line))\n",
    "    student_marks[name] = scores\n",
    "query_name = input()\n"
   ]
  },
  {
   "cell_type": "markdown",
   "id": "8405415e",
   "metadata": {},
   "source": [
    "### 10. Lists"
   ]
  },
  {
   "cell_type": "code",
   "execution_count": 52,
   "id": "06f81313",
   "metadata": {},
   "outputs": [
    {
     "name": "stdout",
     "output_type": "stream",
     "text": [
      "12\n",
      "insert 0 5\n",
      "insert 1 10\n",
      "insert 0 6\n",
      "print\n",
      "[6, 5, 10]\n",
      "remove 6\n",
      "append 9\n",
      "append 1\n",
      "sort\n",
      "print\n",
      "[1, 5, 9, 10]\n",
      "pop\n",
      "reverse\n",
      "print\n",
      "[9, 5, 1]\n"
     ]
    }
   ],
   "source": [
    "# 10-1\n",
    "# int, str 구분 항상 주의!\n",
    "\n",
    "if __name__ == '__main__':\n",
    "    N = int(input())\n",
    "    li = []\n",
    "    \n",
    "    for i in range(N):\n",
    "        q1, *q2 = input().split()\n",
    "        \n",
    "        if q1 == 'insert':\n",
    "            li.insert(int(q2[0]), int(q2[1]))\n",
    "        elif q1 == 'print':\n",
    "            print(li)\n",
    "        elif q1 == 'remove':\n",
    "            li.remove(int(q2[0]))\n",
    "        elif q1 == 'append':\n",
    "            li.append(int(q2[0]))\n",
    "        elif q1 == 'sort':\n",
    "            li.sort()\n",
    "        elif q1 == 'pop':\n",
    "            li.pop()\n",
    "        elif q1 == 'reverse':\n",
    "            li.reverse()\n",
    "            \n"
   ]
  },
  {
   "cell_type": "code",
   "execution_count": 60,
   "id": "f4e86abd",
   "metadata": {},
   "outputs": [
    {
     "name": "stdout",
     "output_type": "stream",
     "text": [
      "12\n",
      "insert 0 5\n",
      "insert 1 10\n",
      "insert 0 6\n",
      "print\n",
      "[6, 5, 10]\n",
      "remove 6\n",
      "append 9\n",
      "append 1\n",
      "sort\n",
      "print\n",
      "[1, 5, 9, 10]\n",
      "pop\n",
      "reverse\n",
      "print\n",
      "[9, 5, 1]\n"
     ]
    }
   ],
   "source": [
    "# 10-2\n",
    "# eval !!\n",
    "if __name__ == '__main__':\n",
    "    N = int(input())\n",
    "    l = []\n",
    "    \n",
    "    for _ in range(N):\n",
    "        s = input().split()\n",
    "        cmd = s[0]\n",
    "        args = s[1:]\n",
    "        if cmd != 'print':\n",
    "            cmd += \"(\" + \",\".join(args) + \")\"\n",
    "            eval(\"l.\"+cmd)\n",
    "        else:\n",
    "            print(l)"
   ]
  },
  {
   "cell_type": "markdown",
   "id": "7cb259b6",
   "metadata": {},
   "source": [
    "### 11. Tuples"
   ]
  },
  {
   "cell_type": "code",
   "execution_count": 62,
   "id": "6c5df051",
   "metadata": {},
   "outputs": [
    {
     "ename": "NameError",
     "evalue": "name 'raw_input' is not defined",
     "output_type": "error",
     "traceback": [
      "\u001b[1;31m---------------------------------------------------------------------------\u001b[0m",
      "\u001b[1;31mNameError\u001b[0m                                 Traceback (most recent call last)",
      "Input \u001b[1;32mIn [62]\u001b[0m, in \u001b[0;36m<cell line: 1>\u001b[1;34m()\u001b[0m\n\u001b[0;32m      1\u001b[0m \u001b[38;5;28;01mif\u001b[39;00m \u001b[38;5;18m__name__\u001b[39m \u001b[38;5;241m==\u001b[39m \u001b[38;5;124m'\u001b[39m\u001b[38;5;124m__main__\u001b[39m\u001b[38;5;124m'\u001b[39m:\n\u001b[1;32m----> 2\u001b[0m     n \u001b[38;5;241m=\u001b[39m \u001b[38;5;28mint\u001b[39m(\u001b[43mraw_input\u001b[49m())\n\u001b[0;32m      3\u001b[0m     integer_list \u001b[38;5;241m=\u001b[39m \u001b[38;5;28mmap\u001b[39m(\u001b[38;5;28mint\u001b[39m, raw_input()\u001b[38;5;241m.\u001b[39msplit())\n",
      "\u001b[1;31mNameError\u001b[0m: name 'raw_input' is not defined"
     ]
    }
   ],
   "source": [
    "# 11-1\n",
    "# python 2\n",
    "if __name__ == '__main__':\n",
    "    n = int(raw_input())\n",
    "    integer_list = map(int, raw_input().split())\n",
    "    print(hash(tuple(integer_list)))"
   ]
  },
  {
   "cell_type": "markdown",
   "id": "f8bb28d2",
   "metadata": {},
   "source": [
    "### 12. sWAP cASE"
   ]
  },
  {
   "cell_type": "code",
   "execution_count": 63,
   "id": "c801e4d2",
   "metadata": {},
   "outputs": [
    {
     "name": "stdout",
     "output_type": "stream",
     "text": [
      "Www.HackerRank.com\n",
      "wWW.hACKERrANK.COM\n"
     ]
    }
   ],
   "source": [
    "# 12-1\n",
    "# isupper, islopwer\n",
    "\n",
    "def swap_case(s):\n",
    "    s_ = ''\n",
    "    for i in s:\n",
    "        if i.isupper():\n",
    "            s_ += i.lower()\n",
    "        elif i.islower():\n",
    "            s_ += i.upper()\n",
    "        else:\n",
    "            s_ += i\n",
    "    return s_\n",
    "\n",
    "if __name__ == '__main__':\n",
    "    s = input()\n",
    "    result = swap_case(s)\n",
    "    print(result)"
   ]
  },
  {
   "cell_type": "code",
   "execution_count": 68,
   "id": "80d6619a",
   "metadata": {},
   "outputs": [
    {
     "name": "stdout",
     "output_type": "stream",
     "text": [
      "Www.HackerRank.com\n",
      "WWW.HACKERRANK.COM\n"
     ]
    }
   ],
   "source": [
    "# 12-2\n",
    "# isupper, islopwer\n",
    "\n",
    "def swap_case(s):\n",
    "    s_ = ''.join([i.upper() if i.islower else i.lower for i in s])\n",
    "    \n",
    "    return s_\n",
    "\n",
    "if __name__ == '__main__':\n",
    "    s = input()\n",
    "    result = swap_case(s)\n",
    "    print(result)"
   ]
  },
  {
   "cell_type": "markdown",
   "id": "b93a4f1d",
   "metadata": {},
   "source": [
    "### 13. String Split and Join"
   ]
  },
  {
   "cell_type": "code",
   "execution_count": 70,
   "id": "cb1761c8",
   "metadata": {},
   "outputs": [
    {
     "name": "stdout",
     "output_type": "stream",
     "text": [
      "this is a string   \n",
      "this-is-a-string\n"
     ]
    }
   ],
   "source": [
    "# 13-1\n",
    "def split_and_join(line):\n",
    "    li = line.split()\n",
    "    str_line = \"-\".join(li)\n",
    "    return str_line\n",
    "\n",
    "if __name__ == '__main__':\n",
    "    line = input()\n",
    "    result = split_and_join(line)\n",
    "    print(result)"
   ]
  },
  {
   "cell_type": "markdown",
   "id": "d6c13e9d",
   "metadata": {},
   "source": [
    "### 14. What's Your Name?"
   ]
  },
  {
   "cell_type": "code",
   "execution_count": 75,
   "id": "d84eefee",
   "metadata": {},
   "outputs": [
    {
     "name": "stdout",
     "output_type": "stream",
     "text": [
      "Ross\n",
      "Taylor\n",
      "Hello Ross Taylor! You just delved into python.\n"
     ]
    }
   ],
   "source": [
    "# 14-1\n",
    "\n",
    "def print_full_name(first, last):\n",
    "    s = \"Hello {} {}! You just delved into python.\".format(first, last)\n",
    "    print(s)\n",
    "\n",
    "if __name__ == '__main__':\n",
    "    first_name = input()\n",
    "    last_name = input()\n",
    "    print_full_name(first_name, last_name)"
   ]
  },
  {
   "cell_type": "markdown",
   "id": "7283bcc3",
   "metadata": {},
   "source": [
    "### 15. Mutations"
   ]
  },
  {
   "cell_type": "code",
   "execution_count": 97,
   "id": "13ed0ca3",
   "metadata": {},
   "outputs": [
    {
     "name": "stdout",
     "output_type": "stream",
     "text": [
      "abracadabra\n",
      "5 k\n",
      "abrackdabra\n"
     ]
    }
   ],
   "source": [
    "def mutate_string(string, position, character):\n",
    "    return string[:position] + character + string[position+1:]\n",
    "\n",
    "if __name__ == '__main__':\n",
    "    s = input()\n",
    "    i, c = input().split()\n",
    "    s_new = mutate_string(s, int(i), c)\n",
    "    print(s_new)"
   ]
  },
  {
   "cell_type": "markdown",
   "id": "4882f5a9",
   "metadata": {},
   "source": [
    "### 16. Find a string"
   ]
  },
  {
   "cell_type": "code",
   "execution_count": 134,
   "id": "d5a23d84",
   "metadata": {},
   "outputs": [
    {
     "name": "stdout",
     "output_type": "stream",
     "text": [
      "ABCDCDC\n",
      "CDC\n",
      "2\n"
     ]
    }
   ],
   "source": [
    "# 16-1\n",
    "\n",
    "def count_substring(string, sub_string):\n",
    "    n_cnt = 0\n",
    "    for i in range(0, len(string)):\n",
    "        if string[i] == sub_string[0]:\n",
    "            if string.find(sub_string, i, i+len(sub_string)) != -1:\n",
    "                n_cnt += 1\n",
    "                \n",
    "    return n_cnt\n",
    "\n",
    "if __name__ == '__main__':\n",
    "    string = input().strip()\n",
    "    sub_string = input().strip()\n",
    "    \n",
    "    count = count_substring(string, sub_string)\n",
    "    print(count)"
   ]
  },
  {
   "cell_type": "code",
   "execution_count": 142,
   "id": "f8a118d6",
   "metadata": {},
   "outputs": [
    {
     "name": "stdout",
     "output_type": "stream",
     "text": [
      "ABCDCDC\n",
      "CDC\n",
      "2\n"
     ]
    }
   ],
   "source": [
    "# 16-2\n",
    "# startswith\n",
    "\n",
    "def count_substring(string, sub_string):\n",
    "    n_cnt = 0\n",
    "    for i in range(len(string)):\n",
    "        if string[i:].startswith(sub_string):\n",
    "            n_cnt += 1\n",
    "    return n_cnt\n",
    "\n",
    "if __name__ == '__main__':\n",
    "    string = input().strip()\n",
    "    sub_string = input().strip()\n",
    "    \n",
    "    count = count_substring(string, sub_string)\n",
    "    print(count)"
   ]
  },
  {
   "cell_type": "markdown",
   "id": "a7b653f9",
   "metadata": {},
   "source": [
    "### 17. String Validators"
   ]
  },
  {
   "cell_type": "code",
   "execution_count": 157,
   "id": "79757919",
   "metadata": {},
   "outputs": [
    {
     "name": "stdout",
     "output_type": "stream",
     "text": [
      "qA2\n",
      "True\n",
      "True\n",
      "True\n",
      "True\n",
      "True\n"
     ]
    }
   ],
   "source": [
    "# 17-1\n",
    "# isalpha, isalnum, isdigit\n",
    "# islopwer, isupper\n",
    "# any\n",
    "\n",
    "if __name__ == '__main__':\n",
    "    s = input()\n",
    "    i = s.split()\n",
    "    \n",
    "    print(any(i.isalnum() for i in s))\n",
    "    print(any(i.isalpha() for i in s))\n",
    "    print(any(i.isdigit() for i in s))\n",
    "    print(any(i.islower() for i in s))\n",
    "    print(any(i.isupper() for i in s))"
   ]
  }
 ],
 "metadata": {
  "kernelspec": {
   "display_name": "hackerrank",
   "language": "python",
   "name": "hackerrank"
  },
  "language_info": {
   "codemirror_mode": {
    "name": "ipython",
    "version": 3
   },
   "file_extension": ".py",
   "mimetype": "text/x-python",
   "name": "python",
   "nbconvert_exporter": "python",
   "pygments_lexer": "ipython3",
   "version": "3.9.12"
  }
 },
 "nbformat": 4,
 "nbformat_minor": 5
}
