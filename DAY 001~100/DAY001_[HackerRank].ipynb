{
 "cells": [
  {
   "cell_type": "code",
   "execution_count": 1,
   "id": "2cf406fe",
   "metadata": {},
   "outputs": [],
   "source": [
    "#!/bin/python3\n",
    "\n",
    "import math\n",
    "import os\n",
    "import random\n",
    "import re\n",
    "import sys"
   ]
  },
  {
   "cell_type": "markdown",
   "id": "52ad5dd2",
   "metadata": {},
   "source": [
    "### 1. If-Else"
   ]
  },
  {
   "cell_type": "code",
   "execution_count": 20,
   "id": "f02a4a39",
   "metadata": {},
   "outputs": [
    {
     "name": "stdout",
     "output_type": "stream",
     "text": [
      "4\n",
      "Not Weird\n"
     ]
    }
   ],
   "source": [
    "# 1-1\n",
    "# print 대소구분, 오탈자 신경쓸것.\n",
    "\n",
    "if __name__ == '__main__':\n",
    "    n = int(input().strip())\n",
    "    \n",
    "    if n%2 == 1:\n",
    "        print('Weird')\n",
    "    elif n%2 == 0 and 2 <= n <= 5:\n",
    "        print('Not Weird')\n",
    "    elif n%2 == 0 and 6 <= n <= 20:\n",
    "        print('Weird')\n",
    "    elif n%2 == 0 and n >= 20:\n",
    "        print('Not Weird')\n"
   ]
  },
  {
   "cell_type": "code",
   "execution_count": 7,
   "id": "eeb78d18",
   "metadata": {},
   "outputs": [
    {
     "name": "stdout",
     "output_type": "stream",
     "text": [
      "4\n",
      "Not Weird\n"
     ]
    }
   ],
   "source": [
    "# 1-2\n",
    "\n",
    "if __name__ == '__main__':\n",
    "    n = int(input().strip())\n",
    "\n",
    "    check = {True: \"Not Weird\", False: \"Weird\"}\n",
    "    print(check[\n",
    "            n%2 == 0 and (\n",
    "                n in range(2, 6) or \n",
    "                n > 20)\n",
    "        ])"
   ]
  },
  {
   "cell_type": "markdown",
   "id": "986c5fce",
   "metadata": {},
   "source": [
    "### 2. Arithmetic Operators"
   ]
  },
  {
   "cell_type": "code",
   "execution_count": 8,
   "id": "189ec190",
   "metadata": {},
   "outputs": [
    {
     "name": "stdout",
     "output_type": "stream",
     "text": [
      "3\n",
      "5\n",
      "8\n",
      "-2\n",
      "15\n"
     ]
    }
   ],
   "source": [
    "# 2-1\n",
    "if __name__ == '__main__':\n",
    "    a = int(input())\n",
    "    b = int(input())\n",
    "    print(a + b)\n",
    "    print(a - b)\n",
    "    print(a * b)\n"
   ]
  },
  {
   "cell_type": "markdown",
   "id": "5876d621",
   "metadata": {},
   "source": [
    "### 3. Python: Division"
   ]
  },
  {
   "cell_type": "code",
   "execution_count": 27,
   "id": "5d9ec7af",
   "metadata": {},
   "outputs": [
    {
     "name": "stdout",
     "output_type": "stream",
     "text": [
      "4\n",
      "3\n",
      "1\n",
      "1.3333333333333333\n"
     ]
    }
   ],
   "source": [
    "# 3-1\n",
    "if __name__ == '__main__':\n",
    "    a = int(input())\n",
    "    b = int(input())\n",
    "    print(a//b)\n",
    "    print(a/b)    "
   ]
  },
  {
   "cell_type": "markdown",
   "id": "20845ce7",
   "metadata": {},
   "source": [
    "### 4. Loops"
   ]
  },
  {
   "cell_type": "code",
   "execution_count": 44,
   "id": "958fd633",
   "metadata": {},
   "outputs": [
    {
     "name": "stdout",
     "output_type": "stream",
     "text": [
      "5\n",
      "0\n",
      "1\n",
      "4\n",
      "9\n",
      "16\n"
     ]
    }
   ],
   "source": [
    "# 4-1\n",
    "if __name__ == '__main__':\n",
    "    n = int(input())\n",
    "    \n",
    "    for i in range(n):\n",
    "        print(i ** 2)  "
   ]
  },
  {
   "cell_type": "code",
   "execution_count": 58,
   "id": "083d8c87",
   "metadata": {},
   "outputs": [
    {
     "name": "stdout",
     "output_type": "stream",
     "text": [
      "5\n",
      "0\n",
      "1\n",
      "4\n",
      "9\n",
      "16\n"
     ]
    }
   ],
   "source": [
    "# 4-2\n",
    "if __name__ == '__main__':\n",
    "    n = int(input())\n",
    "    [print(i**2) for i in range(n)]"
   ]
  },
  {
   "cell_type": "markdown",
   "id": "7675a88c",
   "metadata": {},
   "source": [
    "### 5. Print Function"
   ]
  },
  {
   "cell_type": "code",
   "execution_count": 68,
   "id": "39b2ad63",
   "metadata": {},
   "outputs": [
    {
     "name": "stdout",
     "output_type": "stream",
     "text": [
      "5\n",
      "12345\n"
     ]
    }
   ],
   "source": [
    "# 5-1\n",
    "if __name__ == '__main__':\n",
    "    n = int(input())\n",
    "    \n",
    "    str_n = ''\n",
    "    for i in range(1, n+1):\n",
    "        str_n += str(i)\n",
    "    print(str_n)"
   ]
  },
  {
   "cell_type": "code",
   "execution_count": 93,
   "id": "f26ab36f",
   "metadata": {},
   "outputs": [
    {
     "name": "stdout",
     "output_type": "stream",
     "text": [
      "5\n",
      "12345\n"
     ]
    }
   ],
   "source": [
    "# 5-2\n",
    "if __name__ == '__main__':\n",
    "    #n = int(input())\n",
    "    \n",
    "    print(*range(1, int(input())+1), sep='')\n"
   ]
  },
  {
   "cell_type": "markdown",
   "id": "53c0e9d9",
   "metadata": {},
   "source": [
    "### 6. List Comprehensions"
   ]
  },
  {
   "cell_type": "code",
   "execution_count": 102,
   "id": "5867eaf4",
   "metadata": {},
   "outputs": [
    {
     "name": "stdout",
     "output_type": "stream",
     "text": [
      "1\n",
      "1\n",
      "2\n",
      "3\n",
      "---\n",
      "[[0, 0, 0], [0, 0, 1], [0, 0, 2], [0, 1, 0], [0, 1, 1], [1, 0, 0], [1, 0, 1], [1, 1, 0], [1, 1, 2]]\n"
     ]
    }
   ],
   "source": [
    "# 6-1\n",
    "if __name__ == '__main__':\n",
    "    x = int(input())\n",
    "    y = int(input())\n",
    "    z = int(input())\n",
    "    n = int(input())\n",
    "    print(\"---\")\n",
    "    li = []\n",
    "    \n",
    "    for i in range(x+1):\n",
    "        for j in range(y+1):\n",
    "            for k in range(z+1):\n",
    "                if i+j+k != n:\n",
    "                    li.append([i, j, k])\n",
    "    print(li)"
   ]
  },
  {
   "cell_type": "code",
   "execution_count": 109,
   "id": "04a0d920",
   "metadata": {},
   "outputs": [
    {
     "name": "stdout",
     "output_type": "stream",
     "text": [
      "1\n",
      "1\n",
      "1\n",
      "2\n",
      "---\n",
      "[[0, 0, 0], [0, 0, 1], [0, 1, 0], [1, 0, 0], [1, 1, 1]]\n"
     ]
    }
   ],
   "source": [
    "# 6-2\n",
    "# 여러개가 섞이니 조금 복잡해지는듯..\n",
    "\n",
    "if __name__ == '__main__':\n",
    "    x = int(input())\n",
    "    y = int(input())\n",
    "    z = int(input())\n",
    "    n = int(input())\n",
    "    print(\"---\")\n",
    "    \n",
    "    li = [[i, j, k] for i in range(x+1) for j in range(y+1) for k in range(z+1) if (i+j+k != n)]\n",
    "\n",
    "    print(li)\n",
    "\n"
   ]
  },
  {
   "cell_type": "markdown",
   "id": "761ad4f0",
   "metadata": {},
   "source": [
    "### 7. Find the Runner-Up Score!"
   ]
  },
  {
   "cell_type": "code",
   "execution_count": null,
   "id": "9885e78a",
   "metadata": {},
   "outputs": [],
   "source": [
    "# 5\n",
    "# 2 3 6 6 5"
   ]
  },
  {
   "cell_type": "code",
   "execution_count": 140,
   "id": "6a14fa28",
   "metadata": {},
   "outputs": [
    {
     "name": "stdout",
     "output_type": "stream",
     "text": [
      "5\n",
      "2 3 6 6 5\n",
      "---\n",
      "5\n"
     ]
    }
   ],
   "source": [
    "# 7-1\n",
    "\n",
    "if __name__ == '__main__':\n",
    "    n = int(input())\n",
    "    arr = map(int, input().split())\n",
    "    \n",
    "    print(\"---\")\n",
    "\n",
    "    li = list(arr)\n",
    "    min_value = -9999\n",
    "    max_value = max(li)\n",
    "\n",
    "    for i in range(n):\n",
    "        if li[i] != max_value and li[i] > min_value:\n",
    "            min_value = li[i]\n",
    "    print(min_value)"
   ]
  },
  {
   "cell_type": "code",
   "execution_count": 2,
   "id": "cdad881d",
   "metadata": {},
   "outputs": [
    {
     "name": "stdout",
     "output_type": "stream",
     "text": [
      "5\n",
      "2 3 6 6 5\n",
      "---\n",
      "5\n"
     ]
    }
   ],
   "source": [
    "# 7-2\n",
    "# 생각의 전환..\n",
    "\n",
    "if __name__ == '__main__':\n",
    "    n = int(input())\n",
    "    arr = map(int, input().split())\n",
    "    print(\"---\")\n",
    "    \n",
    "    arr = list(set(arr))\n",
    "    arr.sort()\n",
    "    print(arr[-2])\n"
   ]
  },
  {
   "cell_type": "code",
   "execution_count": 11,
   "id": "9a944a9f",
   "metadata": {},
   "outputs": [
    {
     "name": "stdout",
     "output_type": "stream",
     "text": [
      "5\n",
      "2 3 6 6 5\n",
      "---\n",
      "5\n"
     ]
    }
   ],
   "source": [
    "# 7-3\n",
    "# 더 줄이기..\n",
    "\n",
    "if __name__ == '__main__':\n",
    "    n = int(input())\n",
    "    arr = map(int, input().split())\n",
    "    print(\"---\")\n",
    "    \n",
    "    print(sorted(set(arr))[-2])"
   ]
  },
  {
   "cell_type": "markdown",
   "id": "20cb4798",
   "metadata": {},
   "source": [
    "### 8. Nested Lists"
   ]
  },
  {
   "cell_type": "code",
   "execution_count": 46,
   "id": "657b7a39",
   "metadata": {},
   "outputs": [
    {
     "name": "stdout",
     "output_type": "stream",
     "text": [
      "1\n",
      "1\n",
      "1\n",
      "Berry\n",
      "Harry\n"
     ]
    }
   ],
   "source": [
    "# 8-1\n",
    "if __name__ == '__main__':\n",
    "    score_list = []\n",
    "    for _ in range(int(input())):\n",
    "        name = input()\n",
    "        score = float(input())\n",
    "        score_list.append([name, score])\n",
    "    \n",
    "    # score_list = [['Harry', 37.21], ['Berry', 37.21], ['Tina', 37.2], ['Akriti', 41], ['Harsh', 39]]\n",
    "    second_lowest = sorted(set([score for name, score in score_list]))[1]\n",
    "    print('\\n'.join(sorted([name for name, score in score_list if score == second_lowest])))"
   ]
  },
  {
   "cell_type": "markdown",
   "id": "813c0a18",
   "metadata": {},
   "source": [
    "### 9. Finding the percentage"
   ]
  },
  {
   "cell_type": "code",
   "execution_count": null,
   "id": "2687be28",
   "metadata": {},
   "outputs": [],
   "source": []
  },
  {
   "cell_type": "code",
   "execution_count": null,
   "id": "7e61c33f",
   "metadata": {},
   "outputs": [],
   "source": []
  },
  {
   "cell_type": "code",
   "execution_count": null,
   "id": "3d8dea83",
   "metadata": {},
   "outputs": [],
   "source": []
  },
  {
   "cell_type": "code",
   "execution_count": null,
   "id": "6b7a6a14",
   "metadata": {},
   "outputs": [],
   "source": []
  },
  {
   "cell_type": "code",
   "execution_count": null,
   "id": "f8bacb88",
   "metadata": {},
   "outputs": [],
   "source": []
  },
  {
   "cell_type": "code",
   "execution_count": null,
   "id": "37c33003",
   "metadata": {},
   "outputs": [],
   "source": []
  },
  {
   "cell_type": "code",
   "execution_count": null,
   "id": "e1935d2e",
   "metadata": {},
   "outputs": [],
   "source": []
  }
 ],
 "metadata": {
  "kernelspec": {
   "display_name": "hackerrank",
   "language": "python",
   "name": "hackerrank"
  },
  "language_info": {
   "codemirror_mode": {
    "name": "ipython",
    "version": 3
   },
   "file_extension": ".py",
   "mimetype": "text/x-python",
   "name": "python",
   "nbconvert_exporter": "python",
   "pygments_lexer": "ipython3",
   "version": "3.9.12"
  }
 },
 "nbformat": 4,
 "nbformat_minor": 5
}
