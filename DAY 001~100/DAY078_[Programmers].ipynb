{
 "cells": [
  {
   "cell_type": "code",
   "execution_count": 1,
   "id": "f185e2b1",
   "metadata": {},
   "outputs": [],
   "source": [
    "my_string = \"cccCCC\""
   ]
  },
  {
   "cell_type": "code",
   "execution_count": 19,
   "id": "b0cf673c",
   "metadata": {},
   "outputs": [],
   "source": [
    "answer = \"\"\n",
    "for i in my_string:\n",
    "    if ord(i) < 91:\n",
    "        answer += i.lower()\n",
    "    else:\n",
    "        answer += i.upper()"
   ]
  },
  {
   "cell_type": "code",
   "execution_count": 21,
   "id": "f51fc8a4",
   "metadata": {},
   "outputs": [
    {
     "data": {
      "text/plain": [
       "'CCCccc'"
      ]
     },
     "execution_count": 21,
     "metadata": {},
     "output_type": "execute_result"
    }
   ],
   "source": [
    "answer = \"\"\n",
    "for i in my_string:\n",
    "    if i.isupper():\n",
    "        answer += i.lower()\n",
    "    else:\n",
    "        answer += i.upper()\n",
    "answer"
   ]
  },
  {
   "cell_type": "code",
   "execution_count": null,
   "id": "65191848",
   "metadata": {},
   "outputs": [],
   "source": []
  },
  {
   "cell_type": "code",
   "execution_count": 57,
   "id": "57a8a198",
   "metadata": {},
   "outputs": [
    {
     "data": {
      "text/plain": [
       "0"
      ]
     },
     "execution_count": 57,
     "metadata": {},
     "output_type": "execute_result"
    }
   ],
   "source": [
    "order = 1000000\n",
    "answer = 0\n",
    "for i in str(order):\n",
    "    if int(i) % 3 == 0 and int(i) != 0:\n",
    "        answer += 1\n",
    "answer"
   ]
  },
  {
   "cell_type": "code",
   "execution_count": 58,
   "id": "50c41f57",
   "metadata": {},
   "outputs": [
    {
     "data": {
      "text/plain": [
       "3"
      ]
     },
     "execution_count": 58,
     "metadata": {},
     "output_type": "execute_result"
    }
   ],
   "source": [
    "order = 326598\n",
    "sum(map(lambda x: str(order).count(str(x)), [3, 6, 9]))"
   ]
  },
  {
   "cell_type": "code",
   "execution_count": null,
   "id": "572707e8",
   "metadata": {},
   "outputs": [],
   "source": []
  },
  {
   "cell_type": "code",
   "execution_count": 50,
   "id": "3c04b59a",
   "metadata": {},
   "outputs": [
    {
     "data": {
      "text/plain": [
       "5"
      ]
     },
     "execution_count": 50,
     "metadata": {},
     "output_type": "execute_result"
    }
   ],
   "source": [
    "answer = 0\n",
    "array = [77, 0, 171717, 0 , 0]\n",
    "arr = [j for j in \"\".join([str(i) for i in array])]\n",
    "\n",
    "for i in arr:\n",
    "    if i == \"7\":\n",
    "        answer += 1\n",
    "answer"
   ]
  },
  {
   "cell_type": "code",
   "execution_count": 51,
   "id": "f52b136f",
   "metadata": {},
   "outputs": [
    {
     "data": {
      "text/plain": [
       "5"
      ]
     },
     "execution_count": 51,
     "metadata": {},
     "output_type": "execute_result"
    }
   ],
   "source": [
    "answer = 0\n",
    "for i in array:\n",
    "    for j in range(len(str(i))):\n",
    "        if str(i)[j] == '7':\n",
    "            answer += 1\n",
    "answer"
   ]
  },
  {
   "cell_type": "code",
   "execution_count": 52,
   "id": "701db3ac",
   "metadata": {},
   "outputs": [
    {
     "data": {
      "text/plain": [
       "5"
      ]
     },
     "execution_count": 52,
     "metadata": {},
     "output_type": "execute_result"
    }
   ],
   "source": [
    "''.join(map(str, array)).count('7')"
   ]
  },
  {
   "cell_type": "code",
   "execution_count": 57,
   "id": "0729a558",
   "metadata": {},
   "outputs": [
    {
     "data": {
      "text/plain": [
       "'77017171700'"
      ]
     },
     "execution_count": 57,
     "metadata": {},
     "output_type": "execute_result"
    }
   ],
   "source": [
    "\"\".join(map(str,array))"
   ]
  },
  {
   "cell_type": "code",
   "execution_count": null,
   "id": "de682f29",
   "metadata": {},
   "outputs": [],
   "source": []
  },
  {
   "cell_type": "code",
   "execution_count": null,
   "id": "c3a98539",
   "metadata": {},
   "outputs": [],
   "source": []
  },
  {
   "cell_type": "code",
   "execution_count": null,
   "id": "5ef30555",
   "metadata": {},
   "outputs": [],
   "source": []
  },
  {
   "cell_type": "code",
   "execution_count": null,
   "id": "3384635c",
   "metadata": {},
   "outputs": [],
   "source": []
  },
  {
   "cell_type": "code",
   "execution_count": null,
   "id": "6c208116",
   "metadata": {},
   "outputs": [],
   "source": []
  },
  {
   "cell_type": "code",
   "execution_count": null,
   "id": "fd03742c",
   "metadata": {},
   "outputs": [],
   "source": []
  }
 ],
 "metadata": {
  "kernelspec": {
   "display_name": "hackerrank",
   "language": "python",
   "name": "hackerrank"
  },
  "language_info": {
   "codemirror_mode": {
    "name": "ipython",
    "version": 3
   },
   "file_extension": ".py",
   "mimetype": "text/x-python",
   "name": "python",
   "nbconvert_exporter": "python",
   "pygments_lexer": "ipython3",
   "version": "3.8.13"
  }
 },
 "nbformat": 4,
 "nbformat_minor": 5
}
