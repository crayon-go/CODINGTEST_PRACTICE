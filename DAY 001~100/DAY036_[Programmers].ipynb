{
 "cells": [
  {
   "cell_type": "code",
   "execution_count": null,
   "id": "df2681db",
   "metadata": {},
   "outputs": [],
   "source": [
    "input\toutput\n",
    "[[1], [2]]\t[1,1]\n",
    "[[1, 2], [3, 4], [5]]\t[2,2,1]"
   ]
  },
  {
   "cell_type": "code",
   "execution_count": 1,
   "id": "b7ce3ac1",
   "metadata": {},
   "outputs": [],
   "source": [
    "def solution(mylist):\n",
    "    answer = []\n",
    "    for i in input_list:\n",
    "        answer.append(len(i))\n",
    "    return answer"
   ]
  },
  {
   "cell_type": "code",
   "execution_count": 4,
   "id": "fbf7a476",
   "metadata": {},
   "outputs": [
    {
     "data": {
      "text/plain": [
       "[1, 1]"
      ]
     },
     "execution_count": 4,
     "metadata": {},
     "output_type": "execute_result"
    }
   ],
   "source": [
    "input_list = [[1], [2]]\n",
    "solution(input_list)"
   ]
  },
  {
   "cell_type": "code",
   "execution_count": 3,
   "id": "2fc446fa",
   "metadata": {},
   "outputs": [],
   "source": [
    "def solution(mylist):\n",
    "    return list(map(len, mylist))"
   ]
  },
  {
   "cell_type": "code",
   "execution_count": null,
   "id": "92decf97",
   "metadata": {},
   "outputs": [],
   "source": []
  }
 ],
 "metadata": {
  "interpreter": {
   "hash": "0d4030c940aac7e5b831c89ee8b8cf0e7453aaa24bfefb88cac991514019afa7"
  },
  "kernelspec": {
   "display_name": "hackerrank",
   "language": "python",
   "name": "hackerrank"
  },
  "language_info": {
   "codemirror_mode": {
    "name": "ipython",
    "version": 3
   },
   "file_extension": ".py",
   "mimetype": "text/x-python",
   "name": "python",
   "nbconvert_exporter": "python",
   "pygments_lexer": "ipython3",
   "version": "3.9.12"
  }
 },
 "nbformat": 4,
 "nbformat_minor": 5
}
