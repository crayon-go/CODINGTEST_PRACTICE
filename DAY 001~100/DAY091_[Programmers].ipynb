{
 "cells": [
  {
   "cell_type": "code",
   "execution_count": 1,
   "id": "f37c35b1",
   "metadata": {},
   "outputs": [],
   "source": [
    "numbers = [1, 2, 3, 4]\n",
    "k = 2\n",
    "# 3"
   ]
  },
  {
   "cell_type": "code",
   "execution_count": 4,
   "id": "1fffedb7",
   "metadata": {},
   "outputs": [],
   "source": [
    "numbers = [1, 2, 3, 4, 5, 6]\n",
    "k = 5\n",
    "# 3"
   ]
  },
  {
   "cell_type": "code",
   "execution_count": 13,
   "id": "e11c5ca1",
   "metadata": {},
   "outputs": [],
   "source": [
    "numbers = [1, 2, 3]\n",
    "k = 3\n",
    "# 2"
   ]
  },
  {
   "cell_type": "code",
   "execution_count": 6,
   "id": "eb223b4e",
   "metadata": {},
   "outputs": [
    {
     "data": {
      "text/plain": [
       "3"
      ]
     },
     "execution_count": 6,
     "metadata": {},
     "output_type": "execute_result"
    }
   ],
   "source": [
    "from collections import deque\n",
    "\n",
    "answer = 0\n",
    "a = deque(numbers)\n",
    "\n",
    "c = 1\n",
    "while c !=k:\n",
    "    a.rotate(-2)\n",
    "    c+=1\n",
    "\n",
    "list(a)[0]"
   ]
  },
  {
   "cell_type": "code",
   "execution_count": null,
   "id": "3c2c3487",
   "metadata": {},
   "outputs": [],
   "source": []
  },
  {
   "cell_type": "code",
   "execution_count": 43,
   "id": "6ccc19cd",
   "metadata": {},
   "outputs": [],
   "source": [
    "# my_string = \"aAb1B2cC34oOp\"  # 37\n",
    "my_string = \"1a2b3c4d123Z\"  # 133"
   ]
  },
  {
   "cell_type": "code",
   "execution_count": 66,
   "id": "5cf43b47",
   "metadata": {},
   "outputs": [],
   "source": [
    "my_string = '123ab123'"
   ]
  },
  {
   "cell_type": "code",
   "execution_count": 62,
   "id": "2ccc0642",
   "metadata": {},
   "outputs": [],
   "source": [
    "my_string = 'abcde'"
   ]
  },
  {
   "cell_type": "code",
   "execution_count": 67,
   "id": "6560d32a",
   "metadata": {},
   "outputs": [],
   "source": [
    "answer = 0\n",
    "n_tmp = ''\n",
    "\n",
    "for i in my_string:\n",
    "    if i.isnumeric():\n",
    "        n_tmp += i\n",
    "    else:\n",
    "        if n_tmp != '':\n",
    "            answer += int(n_tmp)\n",
    "            n_tmp = ''\n",
    "\n",
    "if answer == 0 and n_tmp != '':\n",
    "    answer += int(n_tmp)\n",
    "elif answer == 0 and n_tmp == '':\n",
    "    answer += 0\n",
    "elif n_tmp != '':\n",
    "    answer += int(n_tmp)"
   ]
  },
  {
   "cell_type": "code",
   "execution_count": 68,
   "id": "7bc1f84d",
   "metadata": {},
   "outputs": [
    {
     "data": {
      "text/plain": [
       "'123'"
      ]
     },
     "execution_count": 68,
     "metadata": {},
     "output_type": "execute_result"
    }
   ],
   "source": [
    "n_tmp"
   ]
  },
  {
   "cell_type": "code",
   "execution_count": 69,
   "id": "89a514d1",
   "metadata": {},
   "outputs": [
    {
     "data": {
      "text/plain": [
       "123"
      ]
     },
     "execution_count": 69,
     "metadata": {},
     "output_type": "execute_result"
    }
   ],
   "source": [
    "answer"
   ]
  },
  {
   "cell_type": "code",
   "execution_count": null,
   "id": "02099b5e",
   "metadata": {},
   "outputs": [],
   "source": []
  },
  {
   "cell_type": "code",
   "execution_count": 70,
   "id": "76b64460",
   "metadata": {},
   "outputs": [
    {
     "data": {
      "text/plain": [
       "246"
      ]
     },
     "execution_count": 70,
     "metadata": {},
     "output_type": "execute_result"
    }
   ],
   "source": [
    "s = ''.join(i if i.isdigit() else ' ' for i in my_string)\n",
    "sum(int(i) for i in s.split())"
   ]
  },
  {
   "cell_type": "code",
   "execution_count": 72,
   "id": "858187db",
   "metadata": {},
   "outputs": [
    {
     "data": {
      "text/plain": [
       "246"
      ]
     },
     "execution_count": 72,
     "metadata": {},
     "output_type": "execute_result"
    }
   ],
   "source": [
    "import re\n",
    "sum([int(i) for i in re.findall(r'[0-9]+', my_string)])"
   ]
  },
  {
   "cell_type": "code",
   "execution_count": 73,
   "id": "bec83527",
   "metadata": {},
   "outputs": [
    {
     "data": {
      "text/plain": [
       "246"
      ]
     },
     "execution_count": 73,
     "metadata": {},
     "output_type": "execute_result"
    }
   ],
   "source": [
    "answer = 0\n",
    "\n",
    "i = 0\n",
    "while i < len(my_string):\n",
    "    num = ''\n",
    "    while i < len(my_string) and my_string[i].isdigit():\n",
    "        num += my_string[i]\n",
    "        i += 1\n",
    "\n",
    "    if num:\n",
    "        answer += int(num)\n",
    "    i += 1\n",
    "\n",
    "answer"
   ]
  },
  {
   "cell_type": "code",
   "execution_count": null,
   "id": "e1680f8b",
   "metadata": {},
   "outputs": [],
   "source": []
  },
  {
   "cell_type": "code",
   "execution_count": null,
   "id": "d2672c97",
   "metadata": {},
   "outputs": [],
   "source": []
  },
  {
   "cell_type": "code",
   "execution_count": null,
   "id": "a370e424",
   "metadata": {},
   "outputs": [],
   "source": []
  },
  {
   "cell_type": "code",
   "execution_count": null,
   "id": "19a7c471",
   "metadata": {},
   "outputs": [],
   "source": []
  }
 ],
 "metadata": {
  "kernelspec": {
   "display_name": "hackerrank",
   "language": "python",
   "name": "hackerrank"
  },
  "language_info": {
   "codemirror_mode": {
    "name": "ipython",
    "version": 3
   },
   "file_extension": ".py",
   "mimetype": "text/x-python",
   "name": "python",
   "nbconvert_exporter": "python",
   "pygments_lexer": "ipython3",
   "version": "3.9.12"
  }
 },
 "nbformat": 4,
 "nbformat_minor": 5
}
