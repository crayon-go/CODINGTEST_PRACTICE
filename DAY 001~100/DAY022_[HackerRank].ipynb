{
 "cells": [
  {
   "cell_type": "code",
   "execution_count": 1,
   "id": "c735f614",
   "metadata": {},
   "outputs": [],
   "source": [
    "def findNearNum(exList, values):\n",
    "    answer = [0 for _ in range(2)] # answer 리스트 0으로 초기화\n",
    "\n",
    "    minValue = min(exList, key=lambda x:abs(x-values))\n",
    "    minIndex = exList.index(minValue)\n",
    "    answer[0] = minIndex\n",
    "    answer[1] = minValue\n",
    "    \n",
    "    return answer"
   ]
  },
  {
   "cell_type": "code",
   "execution_count": 1,
   "id": "4163daaa",
   "metadata": {},
   "outputs": [],
   "source": [
    "# Sample 2.\n",
    "teamK = [2, 10, 5, 4, 8]\n",
    "teamB = [3, 1, 7, 8]\n",
    "# 결과 ==> 1, 0, 3, 4"
   ]
  },
  {
   "cell_type": "code",
   "execution_count": 2,
   "id": "6a9edcca",
   "metadata": {},
   "outputs": [],
   "source": [
    "# Sample 1.\n",
    "teamK = [1, 4, 2, 4]\n",
    "teamB = [3, 5]\n",
    "# 결과 ==> 2, 4"
   ]
  },
  {
   "cell_type": "code",
   "execution_count": 5,
   "id": "248c4c2a",
   "metadata": {},
   "outputs": [
    {
     "name": "stdout",
     "output_type": "stream",
     "text": [
      "[2, 4]\n"
     ]
    }
   ],
   "source": [
    "teamK.sort()\n",
    "\n",
    "i = 0\n",
    "j = 0\n",
    "arr = [0 for i in range(len(teamB))]\n",
    "\n",
    "while i < len(teamB):\n",
    "    j = upper_index(teamK, 0, len(teamK), teamB[i])\n",
    "\n",
    "    if j < 0:\n",
    "        arr[i] = 0\n",
    "    else:\n",
    "        arr[i] = 1 + j\n",
    "    \n",
    "    i += 1\n",
    "\n",
    "print(arr)\n",
    "\n",
    "\n"
   ]
  },
  {
   "cell_type": "code",
   "execution_count": 4,
   "id": "7d1ebd63",
   "metadata": {},
   "outputs": [],
   "source": [
    "def upper_index(arr, l, n, x):\n",
    "    r = n - 1\n",
    "    \n",
    "    while l <= r:\n",
    "        mid = int((r + l) / 2)\n",
    "        \n",
    "        if arr[mid] <= x:\n",
    "            l = mid + 1\n",
    "        else:\n",
    "            r = mid - 1\n",
    "    return r\n"
   ]
  },
  {
   "cell_type": "code",
   "execution_count": 151,
   "id": "1e3d1af2",
   "metadata": {},
   "outputs": [
    {
     "name": "stdout",
     "output_type": "stream",
     "text": [
      "-----------\n",
      "3 0 10\n",
      "3 1 8\n",
      "3 2 5\n",
      "3 3 4\n",
      "3 4 2\n",
      "@\n",
      "-----------\n",
      "1 0 10\n",
      "-----------\n",
      "7 0 10\n",
      "7 1 8\n",
      "7 2 5\n",
      "@\n",
      "-----------\n",
      "8 0 10\n",
      "8 1 8\n",
      "@\n",
      "[1, 0, 3, 4]\n"
     ]
    }
   ],
   "source": []
  },
  {
   "cell_type": "code",
   "execution_count": 30,
   "id": "df5e80d1",
   "metadata": {},
   "outputs": [
    {
     "name": "stdout",
     "output_type": "stream",
     "text": [
      "---------\n",
      "score: 3\n",
      "2\n",
      "[1, 2]\n",
      "---------\n",
      "score: 5\n",
      "3\n",
      "[2, 4]\n"
     ]
    }
   ],
   "source": [
    "\n",
    "# for score in teamB:\n",
    "#     print(\"---------\")\n",
    "#     print(\"score: {}\".format(score))\n",
    "#     returnList = findNearNum(teamK, score)\n",
    "#     near_idx, near_value = returnList # 0, 2\n",
    "#     if score > near_value:\n",
    "#         print(near_idx+1)\n",
    "#     elif score < near_value:\n",
    "#         print(near_idx)\n",
    "#     elif score == near_value:\n",
    "#         print(near_idx+1)\n",
    "#     print(returnList)\n"
   ]
  },
  {
   "cell_type": "code",
   "execution_count": 6,
   "id": "838520f8",
   "metadata": {},
   "outputs": [
    {
     "name": "stdout",
     "output_type": "stream",
     "text": [
      "[1, 0, 3, 4]\n"
     ]
    }
   ],
   "source": [
    "# li = []\n",
    "# for b in teamB:\n",
    "#     n_cnt = 0\n",
    "#     for k in teamK:\n",
    "#         if b >= k:\n",
    "#             n_cnt += 1\n",
    "#     li.append(n_cnt)\n",
    "# print(li)"
   ]
  }
 ],
 "metadata": {
  "kernelspec": {
   "display_name": "hackerrank",
   "language": "python",
   "name": "hackerrank"
  },
  "language_info": {
   "codemirror_mode": {
    "name": "ipython",
    "version": 3
   },
   "file_extension": ".py",
   "mimetype": "text/x-python",
   "name": "python",
   "nbconvert_exporter": "python",
   "pygments_lexer": "ipython3",
   "version": "3.9.12"
  }
 },
 "nbformat": 4,
 "nbformat_minor": 5
}
