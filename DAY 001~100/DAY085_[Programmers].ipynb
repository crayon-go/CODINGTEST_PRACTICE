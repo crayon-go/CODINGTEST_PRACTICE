{
 "cells": [
  {
   "cell_type": "code",
   "execution_count": 27,
   "id": "945b6820",
   "metadata": {},
   "outputs": [],
   "source": [
    "n = 3628800"
   ]
  },
  {
   "cell_type": "code",
   "execution_count": 29,
   "id": "19cd457f",
   "metadata": {},
   "outputs": [
    {
     "name": "stdout",
     "output_type": "stream",
     "text": [
      "1 1\n",
      "2 2\n",
      "3 6\n",
      "4 24\n",
      "5 120\n",
      "6 720\n",
      "7 5040\n",
      "8 40320\n",
      "9 362880\n",
      "10 3628800\n",
      "11 39916800\n"
     ]
    }
   ],
   "source": [
    "n_sum = 1\n",
    "answer = 0\n",
    "\n",
    "while True:\n",
    "    if n_sum <= n:\n",
    "        answer += 1\n",
    "        n_sum = n_sum * answer\n",
    "        print(answer, n_sum)\n",
    "    else:\n",
    "        break\n",
    "answer -= 1"
   ]
  },
  {
   "cell_type": "code",
   "execution_count": 30,
   "id": "1e85730c",
   "metadata": {},
   "outputs": [
    {
     "data": {
      "text/plain": [
       "(10, 39916800)"
      ]
     },
     "execution_count": 30,
     "metadata": {},
     "output_type": "execute_result"
    }
   ],
   "source": [
    "answer, n_sum"
   ]
  },
  {
   "cell_type": "code",
   "execution_count": null,
   "id": "d24ebfee",
   "metadata": {},
   "outputs": [],
   "source": []
  },
  {
   "cell_type": "code",
   "execution_count": null,
   "id": "97f315e6",
   "metadata": {},
   "outputs": [],
   "source": [
    "from math import factorial\n",
    "\n",
    "   k = 10\n",
    "    while n < factorial(k):\n",
    "        k -= 1\n",
    "    return k"
   ]
  },
  {
   "cell_type": "code",
   "execution_count": null,
   "id": "8e7f9f42",
   "metadata": {},
   "outputs": [],
   "source": []
  },
  {
   "cell_type": "code",
   "execution_count": null,
   "id": "a74a8b80",
   "metadata": {},
   "outputs": [],
   "source": []
  },
  {
   "cell_type": "code",
   "execution_count": null,
   "id": "f04173a4",
   "metadata": {},
   "outputs": [],
   "source": []
  },
  {
   "cell_type": "code",
   "execution_count": null,
   "id": "e3b58bdc",
   "metadata": {},
   "outputs": [],
   "source": []
  }
 ],
 "metadata": {
  "kernelspec": {
   "display_name": "hackerrank",
   "language": "python",
   "name": "hackerrank"
  },
  "language_info": {
   "codemirror_mode": {
    "name": "ipython",
    "version": 3
   },
   "file_extension": ".py",
   "mimetype": "text/x-python",
   "name": "python",
   "nbconvert_exporter": "python",
   "pygments_lexer": "ipython3",
   "version": "3.9.12"
  }
 },
 "nbformat": 4,
 "nbformat_minor": 5
}
