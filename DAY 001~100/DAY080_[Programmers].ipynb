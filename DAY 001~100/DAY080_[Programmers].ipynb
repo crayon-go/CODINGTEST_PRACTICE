{
 "cells": [
  {
   "cell_type": "code",
   "execution_count": 1,
   "id": "09958ca2",
   "metadata": {},
   "outputs": [],
   "source": [
    "box = [10, 8, 6]\n",
    "n = 3"
   ]
  },
  {
   "cell_type": "code",
   "execution_count": 10,
   "id": "5e3ad945",
   "metadata": {},
   "outputs": [],
   "source": [
    "a, b, c = (box[0] // n, box[1] // n, box[2] // n)"
   ]
  },
  {
   "cell_type": "code",
   "execution_count": 11,
   "id": "48c93d58",
   "metadata": {},
   "outputs": [
    {
     "data": {
      "text/plain": [
       "(3, 2, 2)"
      ]
     },
     "execution_count": 11,
     "metadata": {},
     "output_type": "execute_result"
    }
   ],
   "source": [
    "a,b,c"
   ]
  },
  {
   "cell_type": "code",
   "execution_count": null,
   "id": "ed415e5b",
   "metadata": {},
   "outputs": [],
   "source": []
  },
  {
   "cell_type": "code",
   "execution_count": 13,
   "id": "58092888",
   "metadata": {},
   "outputs": [],
   "source": [
    "age_dict = {\"0\":\"a\",\n",
    "           \"1\":\"b\",\n",
    "           \"2\":\"c\",\n",
    "           \"3\":\"d\",\n",
    "           \"4\":\"e\",\n",
    "           \"5\":\"f\",\n",
    "           \"6\":\"g\",\n",
    "           \"7\":\"h\",\n",
    "           \"8\":\"i\",\n",
    "           \"9\":\"j\",}"
   ]
  },
  {
   "cell_type": "code",
   "execution_count": 14,
   "id": "b63c41dd",
   "metadata": {},
   "outputs": [],
   "source": [
    "age = 23"
   ]
  },
  {
   "cell_type": "code",
   "execution_count": 16,
   "id": "7dfcf533",
   "metadata": {},
   "outputs": [],
   "source": [
    "answer = ''\n",
    "for i in str(age):\n",
    "    answer += age_dict[i]"
   ]
  },
  {
   "cell_type": "code",
   "execution_count": 17,
   "id": "031b6a0b",
   "metadata": {},
   "outputs": [
    {
     "data": {
      "text/plain": [
       "'cd'"
      ]
     },
     "execution_count": 17,
     "metadata": {},
     "output_type": "execute_result"
    }
   ],
   "source": [
    "answer"
   ]
  },
  {
   "cell_type": "code",
   "execution_count": 18,
   "id": "1aec65ce",
   "metadata": {},
   "outputs": [
    {
     "data": {
      "text/plain": [
       "'cd'"
      ]
     },
     "execution_count": 18,
     "metadata": {},
     "output_type": "execute_result"
    }
   ],
   "source": [
    "str_age = str(age)\n",
    "answer = ''\n",
    "lst =[\"a\",\"b\",\"c\",\"d\",\"e\",\"f\",\"g\",\"h\",\"i\",\"j\"]\n",
    "for ch in str_age:\n",
    "    for i in range(0,10):\n",
    "        if int(ch) == i:\n",
    "            answer += lst[i]\n",
    "answer"
   ]
  },
  {
   "cell_type": "code",
   "execution_count": null,
   "id": "76107484",
   "metadata": {},
   "outputs": [],
   "source": []
  },
  {
   "cell_type": "code",
   "execution_count": null,
   "id": "604d00c8",
   "metadata": {},
   "outputs": [],
   "source": []
  },
  {
   "cell_type": "code",
   "execution_count": null,
   "id": "cd8785c9",
   "metadata": {},
   "outputs": [],
   "source": []
  },
  {
   "cell_type": "code",
   "execution_count": null,
   "id": "2d185a25",
   "metadata": {},
   "outputs": [],
   "source": []
  }
 ],
 "metadata": {
  "kernelspec": {
   "display_name": "hackerrank",
   "language": "python",
   "name": "hackerrank"
  },
  "language_info": {
   "codemirror_mode": {
    "name": "ipython",
    "version": 3
   },
   "file_extension": ".py",
   "mimetype": "text/x-python",
   "name": "python",
   "nbconvert_exporter": "python",
   "pygments_lexer": "ipython3",
   "version": "3.8.13"
  }
 },
 "nbformat": 4,
 "nbformat_minor": 5
}
