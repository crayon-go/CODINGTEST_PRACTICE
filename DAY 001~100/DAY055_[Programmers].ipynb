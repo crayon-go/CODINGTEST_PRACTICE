{
 "cells": [
  {
   "cell_type": "code",
   "execution_count": 1,
   "id": "f7c3257c",
   "metadata": {},
   "outputs": [],
   "source": [
    "arr1 = [[1,2],[2,3]]\n",
    "arr2 = [[3,4],[5,6]]"
   ]
  },
  {
   "cell_type": "code",
   "execution_count": 52,
   "id": "cd890535",
   "metadata": {},
   "outputs": [],
   "source": [
    "arr1 = [[1],[2]]\n",
    "arr2 = [[3],[4]]"
   ]
  },
  {
   "cell_type": "code",
   "execution_count": 44,
   "id": "a800abe8",
   "metadata": {},
   "outputs": [],
   "source": [
    "answer = []\n",
    "for i in range(len(arr1)):\n",
    "    answer2 = []\n",
    "    for j in range(len(arr1[i])):\n",
    "        answer2.append(int(arr1[i][j]) + int(arr2[i][j]))\n",
    "    answer.append(answer2)"
   ]
  },
  {
   "cell_type": "code",
   "execution_count": 45,
   "id": "8d99c317",
   "metadata": {},
   "outputs": [
    {
     "data": {
      "text/plain": [
       "[[4, 6], [7, 9]]"
      ]
     },
     "execution_count": 45,
     "metadata": {},
     "output_type": "execute_result"
    }
   ],
   "source": [
    "answer"
   ]
  },
  {
   "cell_type": "code",
   "execution_count": 77,
   "id": "9ef42712",
   "metadata": {},
   "outputs": [],
   "source": [
    "answer = [[c + d for c, d in zip(a, b)] for a, b in zip(arr1, arr2)]"
   ]
  },
  {
   "cell_type": "code",
   "execution_count": 78,
   "id": "8bbaf732",
   "metadata": {},
   "outputs": [
    {
     "data": {
      "text/plain": [
       "[[4, 6], [7, 9]]"
      ]
     },
     "execution_count": 78,
     "metadata": {},
     "output_type": "execute_result"
    }
   ],
   "source": [
    "answer"
   ]
  },
  {
   "cell_type": "code",
   "execution_count": 96,
   "id": "bdbeffe3",
   "metadata": {},
   "outputs": [],
   "source": [
    "answer = [list(map(sum, zip(*x))) for x in zip(arr1, arr2)]"
   ]
  },
  {
   "cell_type": "code",
   "execution_count": 97,
   "id": "24cf0f2e",
   "metadata": {},
   "outputs": [
    {
     "data": {
      "text/plain": [
       "[[4, 6], [7, 9]]"
      ]
     },
     "execution_count": 97,
     "metadata": {},
     "output_type": "execute_result"
    }
   ],
   "source": [
    "answer"
   ]
  },
  {
   "cell_type": "code",
   "execution_count": null,
   "id": "54b64594",
   "metadata": {},
   "outputs": [],
   "source": []
  },
  {
   "cell_type": "code",
   "execution_count": null,
   "id": "fa1b1c7b",
   "metadata": {},
   "outputs": [],
   "source": []
  },
  {
   "cell_type": "code",
   "execution_count": null,
   "id": "51960e28",
   "metadata": {},
   "outputs": [],
   "source": []
  },
  {
   "cell_type": "code",
   "execution_count": null,
   "id": "e8854ec0",
   "metadata": {},
   "outputs": [],
   "source": [
    "\n"
   ]
  }
 ],
 "metadata": {
  "kernelspec": {
   "display_name": "hackerrank",
   "language": "python",
   "name": "hackerrank"
  },
  "language_info": {
   "codemirror_mode": {
    "name": "ipython",
    "version": 3
   },
   "file_extension": ".py",
   "mimetype": "text/x-python",
   "name": "python",
   "nbconvert_exporter": "python",
   "pygments_lexer": "ipython3",
   "version": "3.9.12"
  }
 },
 "nbformat": 4,
 "nbformat_minor": 5
}
