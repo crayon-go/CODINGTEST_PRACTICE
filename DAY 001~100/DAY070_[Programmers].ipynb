{
 "cells": [
  {
   "cell_type": "code",
   "execution_count": 1,
   "id": "d1296ff9",
   "metadata": {},
   "outputs": [],
   "source": [
    "dot = [2, 4]"
   ]
  },
  {
   "cell_type": "code",
   "execution_count": 2,
   "id": "9c758d87",
   "metadata": {},
   "outputs": [
    {
     "name": "stdout",
     "output_type": "stream",
     "text": [
      "1\n"
     ]
    }
   ],
   "source": [
    "if dot[0] > 0 and dot[1] > 0:\n",
    "    print(1)\n",
    "elif dot[0] < 0 and dot[1] > 0:\n",
    "    print(2)\n",
    "elif dot[0]  < 0 and dot[1] < 0:\n",
    "    print(3)\n",
    "elif dot[0] > 0 and dot[1] < 0:\n",
    "    print(4)"
   ]
  },
  {
   "cell_type": "code",
   "execution_count": 3,
   "id": "f1498a6a",
   "metadata": {},
   "outputs": [
    {
     "name": "stdout",
     "output_type": "stream",
     "text": [
      "1\n"
     ]
    }
   ],
   "source": [
    "a, b = 1, 0\n",
    "if dot[0] * dot[1] > 0:\n",
    "    b = 1\n",
    "if dot[1] < 0:\n",
    "    a = 2\n",
    "print(2*a-b)"
   ]
  },
  {
   "cell_type": "code",
   "execution_count": 10,
   "id": "db94e219",
   "metadata": {},
   "outputs": [
    {
     "name": "stdout",
     "output_type": "stream",
     "text": [
      "3\n",
      "@\n"
     ]
    }
   ],
   "source": [
    "dot = [-2, -4]\n",
    "x, y = dot\n",
    "if x * y > 0:\n",
    "    print(1 if x > 0 else 3)\n",
    "    print(\"@\")\n",
    "else:\n",
    "    print(4 if x > 0 else 2)"
   ]
  },
  {
   "cell_type": "code",
   "execution_count": 16,
   "id": "c5c82174",
   "metadata": {},
   "outputs": [],
   "source": [
    "slice = 7\n",
    "n = 10"
   ]
  },
  {
   "cell_type": "code",
   "execution_count": 17,
   "id": "eb6e1f5b",
   "metadata": {},
   "outputs": [
    {
     "data": {
      "text/plain": [
       "2"
      ]
     },
     "execution_count": 17,
     "metadata": {},
     "output_type": "execute_result"
    }
   ],
   "source": [
    "import math\n",
    "math.ceil(n/slice)"
   ]
  },
  {
   "cell_type": "code",
   "execution_count": 24,
   "id": "10ef0aea",
   "metadata": {},
   "outputs": [
    {
     "name": "stdout",
     "output_type": "stream",
     "text": [
      "2\n"
     ]
    }
   ],
   "source": [
    "d, m = divmod(n, slice)\n",
    "print(d + int(m != 0))"
   ]
  },
  {
   "cell_type": "code",
   "execution_count": 55,
   "id": "a2ed6af1",
   "metadata": {},
   "outputs": [],
   "source": [
    "sides = [2, 3, 1]"
   ]
  },
  {
   "cell_type": "code",
   "execution_count": 48,
   "id": "19912dca",
   "metadata": {},
   "outputs": [
    {
     "name": "stdout",
     "output_type": "stream",
     "text": [
      "2\n"
     ]
    }
   ],
   "source": [
    "n_max = max(sides)\n",
    "sides.remove(n_max)\n",
    "print(1) if sum(sides) > n_max else print(2)\n"
   ]
  },
  {
   "cell_type": "code",
   "execution_count": 51,
   "id": "e5baef71",
   "metadata": {},
   "outputs": [],
   "source": [
    "sides.sort()\n",
    "\n",
    "if sides[2] < sides[0] + sides[1]:\n",
    "    print(1)\n",
    "else:\n",
    "    print(2)"
   ]
  },
  {
   "cell_type": "code",
   "execution_count": 58,
   "id": "4a203c78",
   "metadata": {},
   "outputs": [
    {
     "name": "stdout",
     "output_type": "stream",
     "text": [
      "2\n"
     ]
    }
   ],
   "source": [
    "print(1 if max(sides) < sum(sides) - max(sides) else 2)"
   ]
  },
  {
   "cell_type": "code",
   "execution_count": 80,
   "id": "10530a9f",
   "metadata": {},
   "outputs": [
    {
     "name": "stdout",
     "output_type": "stream",
     "text": [
      "2\n"
     ]
    }
   ],
   "source": [
    "n = 976\n",
    "a = n**(1/2)\n",
    "b = int(a)\n",
    "if a == b:\n",
    "    print(1)\n",
    "else:\n",
    "    print(2)"
   ]
  },
  {
   "cell_type": "code",
   "execution_count": 81,
   "id": "cad5f405",
   "metadata": {},
   "outputs": [
    {
     "data": {
      "text/plain": [
       "31.240998703626616"
      ]
     },
     "execution_count": 81,
     "metadata": {},
     "output_type": "execute_result"
    }
   ],
   "source": [
    "a"
   ]
  },
  {
   "cell_type": "code",
   "execution_count": 88,
   "id": "41acf58a",
   "metadata": {},
   "outputs": [
    {
     "data": {
      "text/plain": [
       "False"
      ]
     },
     "execution_count": 88,
     "metadata": {},
     "output_type": "execute_result"
    }
   ],
   "source": [
    "n = 976\n",
    "isinstance(n**(1/2), int)"
   ]
  },
  {
   "cell_type": "code",
   "execution_count": 91,
   "id": "7a51deda",
   "metadata": {},
   "outputs": [
    {
     "data": {
      "text/plain": [
       "False"
      ]
     },
     "execution_count": 91,
     "metadata": {},
     "output_type": "execute_result"
    }
   ],
   "source": [
    "n = 976\n",
    "float(n**(1/2)).is_integer()"
   ]
  },
  {
   "cell_type": "code",
   "execution_count": 92,
   "id": "4e4a6bed",
   "metadata": {},
   "outputs": [
    {
     "data": {
      "text/plain": [
       "2"
      ]
     },
     "execution_count": 92,
     "metadata": {},
     "output_type": "execute_result"
    }
   ],
   "source": [
    "1 if (n**0.5).is_integer() else 2"
   ]
  },
  {
   "cell_type": "code",
   "execution_count": 100,
   "id": "4044ca6a",
   "metadata": {},
   "outputs": [],
   "source": [
    "mystring = \"jaron\"\n",
    "# mystring = \"bread\""
   ]
  },
  {
   "cell_type": "code",
   "execution_count": 106,
   "id": "c3cfdf47",
   "metadata": {},
   "outputs": [
    {
     "data": {
      "text/plain": [
       "str"
      ]
     },
     "execution_count": 106,
     "metadata": {},
     "output_type": "execute_result"
    }
   ],
   "source": [
    "mystring[::-1]"
   ]
  },
  {
   "cell_type": "code",
   "execution_count": 107,
   "id": "092da4d1",
   "metadata": {},
   "outputs": [],
   "source": [
    "answer = \"\"\n",
    "for i in mystring[::-1]:\n",
    "    answer += i"
   ]
  },
  {
   "cell_type": "code",
   "execution_count": 108,
   "id": "189d8a49",
   "metadata": {},
   "outputs": [
    {
     "data": {
      "text/plain": [
       "'noraj'"
      ]
     },
     "execution_count": 108,
     "metadata": {},
     "output_type": "execute_result"
    }
   ],
   "source": [
    "answer"
   ]
  },
  {
   "cell_type": "code",
   "execution_count": 109,
   "id": "5ca40add",
   "metadata": {},
   "outputs": [],
   "source": [
    "strlist = [\"We\", \"are\", \"the\", \"world!\"]\n",
    "# strlist = [\"I\", \"Love\", \"Programmers.\"]"
   ]
  },
  {
   "cell_type": "code",
   "execution_count": 114,
   "id": "6bb2a6f4",
   "metadata": {},
   "outputs": [
    {
     "data": {
      "text/plain": [
       "[2, 3, 3, 6]"
      ]
     },
     "execution_count": 114,
     "metadata": {},
     "output_type": "execute_result"
    }
   ],
   "source": [
    "[len(i) for i in strlist]"
   ]
  },
  {
   "cell_type": "code",
   "execution_count": 123,
   "id": "0af5ad80",
   "metadata": {},
   "outputs": [],
   "source": [
    "num_list = [1, 2, 3, 4, 5]"
   ]
  },
  {
   "cell_type": "code",
   "execution_count": 124,
   "id": "a2b06d63",
   "metadata": {},
   "outputs": [
    {
     "data": {
      "text/plain": [
       "[5, 4, 3, 2, 1]"
      ]
     },
     "execution_count": 124,
     "metadata": {},
     "output_type": "execute_result"
    }
   ],
   "source": [
    "num_list[::-1]"
   ]
  },
  {
   "cell_type": "code",
   "execution_count": null,
   "id": "07185f76",
   "metadata": {},
   "outputs": [],
   "source": []
  },
  {
   "cell_type": "code",
   "execution_count": null,
   "id": "804c6005",
   "metadata": {},
   "outputs": [],
   "source": []
  }
 ],
 "metadata": {
  "kernelspec": {
   "display_name": "hackerrank",
   "language": "python",
   "name": "hackerrank"
  },
  "language_info": {
   "codemirror_mode": {
    "name": "ipython",
    "version": 3
   },
   "file_extension": ".py",
   "mimetype": "text/x-python",
   "name": "python",
   "nbconvert_exporter": "python",
   "pygments_lexer": "ipython3",
   "version": "3.9.12"
  }
 },
 "nbformat": 4,
 "nbformat_minor": 5
}
