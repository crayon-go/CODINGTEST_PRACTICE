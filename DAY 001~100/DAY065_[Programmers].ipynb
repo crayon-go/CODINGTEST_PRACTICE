{
 "cells": [
  {
   "cell_type": "code",
   "execution_count": null,
   "id": "f3625c45",
   "metadata": {},
   "outputs": [],
   "source": [
    "def solution(age):\n",
    "    answer = 2022 - int(age) + 1\n",
    "    return answer"
   ]
  },
  {
   "cell_type": "code",
   "execution_count": null,
   "id": "6c36c0be",
   "metadata": {},
   "outputs": [],
   "source": [
    "def solution(num1, num2):\n",
    "    answer = 0\n",
    "    return answer"
   ]
  },
  {
   "cell_type": "code",
   "execution_count": null,
   "id": "3e7097ad",
   "metadata": {},
   "outputs": [],
   "source": [
    "def solution(num1, num2):\n",
    "    answer = 0\n",
    "    return answer"
   ]
  },
  {
   "cell_type": "code",
   "execution_count": null,
   "id": "43a15aff",
   "metadata": {},
   "outputs": [],
   "source": [
    "if num1 == num2:\n",
    "    return 1\n",
    "else -1"
   ]
  },
  {
   "cell_type": "code",
   "execution_count": 5,
   "id": "5097977f",
   "metadata": {},
   "outputs": [
    {
     "data": {
      "text/plain": [
       "1"
      ]
     },
     "execution_count": 5,
     "metadata": {},
     "output_type": "execute_result"
    }
   ],
   "source": [
    "num1 = 11\n",
    "num2 = 11\n",
    "1 if num1 == num2 else -1"
   ]
  },
  {
   "cell_type": "code",
   "execution_count": 9,
   "id": "1e8af4cd",
   "metadata": {},
   "outputs": [],
   "source": [
    "solution = lambda num1, num2 : num1 - num2"
   ]
  },
  {
   "cell_type": "code",
   "execution_count": 12,
   "id": "bbd93703",
   "metadata": {},
   "outputs": [
    {
     "data": {
      "text/plain": [
       "2"
      ]
     },
     "execution_count": 12,
     "metadata": {},
     "output_type": "execute_result"
    }
   ],
   "source": [
    "angle = 90\n",
    "answer = (angle // 90) * 2 + (angle % 90 > 0) * 1\n",
    "answer"
   ]
  },
  {
   "cell_type": "code",
   "execution_count": 14,
   "id": "b732e18c",
   "metadata": {},
   "outputs": [
    {
     "data": {
      "text/plain": [
       "94.0"
      ]
     },
     "execution_count": 14,
     "metadata": {},
     "output_type": "execute_result"
    }
   ],
   "source": [
    "numbers = [1, 2, 3, 4, 5, 6, 7, 8, 9, 10]\n",
    "numbers = [89, 90, 91, 92, 93, 94, 95, 96, 97, 98, 99]\n",
    "n_sum = 0\n",
    "for i in numbers:\n",
    "    n_sum += i\n",
    "n_sum / len(numbers)"
   ]
  },
  {
   "cell_type": "code",
   "execution_count": 15,
   "id": "d9193d67",
   "metadata": {},
   "outputs": [
    {
     "data": {
      "text/plain": [
       "94.0"
      ]
     },
     "execution_count": 15,
     "metadata": {},
     "output_type": "execute_result"
    }
   ],
   "source": [
    "import numpy as np\n",
    "np.mean(numbers)"
   ]
  },
  {
   "cell_type": "code",
   "execution_count": 16,
   "id": "3b26f7ba",
   "metadata": {},
   "outputs": [
    {
     "data": {
      "text/plain": [
       "1034"
      ]
     },
     "execution_count": 16,
     "metadata": {},
     "output_type": "execute_result"
    }
   ],
   "source": [
    "sum(numbers)"
   ]
  },
  {
   "cell_type": "code",
   "execution_count": 19,
   "id": "3377c1b8",
   "metadata": {},
   "outputs": [
    {
     "data": {
      "text/plain": [
       "940.0"
      ]
     },
     "execution_count": 19,
     "metadata": {},
     "output_type": "execute_result"
    }
   ],
   "source": [
    "sum(numbers) / len(numbers) * 10"
   ]
  },
  {
   "cell_type": "code",
   "execution_count": 24,
   "id": "b9bd8d51",
   "metadata": {},
   "outputs": [
    {
     "data": {
      "text/plain": [
       "0"
      ]
     },
     "execution_count": 24,
     "metadata": {},
     "output_type": "execute_result"
    }
   ],
   "source": [
    "4 % 2"
   ]
  },
  {
   "cell_type": "code",
   "execution_count": 27,
   "id": "f03ab885",
   "metadata": {},
   "outputs": [
    {
     "name": "stdout",
     "output_type": "stream",
     "text": [
      "30\n"
     ]
    }
   ],
   "source": [
    "n = 10\n",
    "nsum = 0\n",
    "for i in range(n+1):\n",
    "    if i % 2 == 0:\n",
    "        nsum += i\n",
    "print(nsum)"
   ]
  },
  {
   "cell_type": "code",
   "execution_count": 42,
   "id": "769ae462",
   "metadata": {},
   "outputs": [
    {
     "data": {
      "text/plain": [
       "30"
      ]
     },
     "execution_count": 42,
     "metadata": {},
     "output_type": "execute_result"
    }
   ],
   "source": [
    "n = 10\n",
    "sum([i for i in range(2, n + 1, 2)])"
   ]
  },
  {
   "cell_type": "code",
   "execution_count": 43,
   "id": "fb2c62ba",
   "metadata": {},
   "outputs": [
    {
     "data": {
      "text/plain": [
       "[2, 4, 6, 8, 10]"
      ]
     },
     "execution_count": 43,
     "metadata": {},
     "output_type": "execute_result"
    }
   ],
   "source": [
    "[i for i in range(2, n + 1, 2)]"
   ]
  },
  {
   "cell_type": "code",
   "execution_count": 48,
   "id": "d27b8f2a",
   "metadata": {},
   "outputs": [
    {
     "data": {
      "text/plain": [
       "[2, 4, 6, 8, 10]"
      ]
     },
     "execution_count": 48,
     "metadata": {},
     "output_type": "execute_result"
    }
   ],
   "source": [
    "[i for i in range(2, n+1, 2)]"
   ]
  },
  {
   "cell_type": "code",
   "execution_count": 49,
   "id": "9b585bad",
   "metadata": {},
   "outputs": [],
   "source": [
    "array = [1, 1, 2, 3, 4, 5]\n",
    "n = 1"
   ]
  },
  {
   "cell_type": "code",
   "execution_count": 51,
   "id": "01da6172",
   "metadata": {},
   "outputs": [
    {
     "name": "stdout",
     "output_type": "stream",
     "text": [
      "2\n"
     ]
    }
   ],
   "source": [
    "ncnt = 0\n",
    "for i in array:\n",
    "    if n == i:\n",
    "        ncnt += 1\n",
    "print(ncnt)"
   ]
  },
  {
   "cell_type": "code",
   "execution_count": 55,
   "id": "17d814df",
   "metadata": {},
   "outputs": [
    {
     "data": {
      "text/plain": [
       "2"
      ]
     },
     "execution_count": 55,
     "metadata": {},
     "output_type": "execute_result"
    }
   ],
   "source": [
    "array.count(1)"
   ]
  },
  {
   "cell_type": "code",
   "execution_count": null,
   "id": "4586e604",
   "metadata": {},
   "outputs": [],
   "source": []
  }
 ],
 "metadata": {
  "kernelspec": {
   "display_name": "hackerrank",
   "language": "python",
   "name": "hackerrank"
  },
  "language_info": {
   "codemirror_mode": {
    "name": "ipython",
    "version": 3
   },
   "file_extension": ".py",
   "mimetype": "text/x-python",
   "name": "python",
   "nbconvert_exporter": "python",
   "pygments_lexer": "ipython3",
   "version": "3.9.12"
  }
 },
 "nbformat": 4,
 "nbformat_minor": 5
}
