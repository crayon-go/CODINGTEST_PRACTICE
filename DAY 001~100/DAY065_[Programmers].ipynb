{
 "cells": [
  {
   "cell_type": "code",
   "execution_count": null,
   "id": "2d9285f4",
   "metadata": {},
   "outputs": [],
   "source": [
    "def solution(age):\n",
    "    answer = 2022 - int(age) + 1\n",
    "    return answer"
   ]
  },
  {
   "cell_type": "code",
   "execution_count": null,
   "id": "45fdd85b",
   "metadata": {},
   "outputs": [],
   "source": [
    "def solution(num1, num2):\n",
    "    answer = 0\n",
    "    return answer"
   ]
  },
  {
   "cell_type": "code",
   "execution_count": null,
   "id": "7d23ba92",
   "metadata": {},
   "outputs": [],
   "source": [
    "def solution(num1, num2):\n",
    "    answer = 0\n",
    "    return answer"
   ]
  },
  {
   "cell_type": "code",
   "execution_count": null,
   "id": "dffa7554",
   "metadata": {},
   "outputs": [],
   "source": [
    "if num1 == num2:\n",
    "    return 1\n",
    "else -1"
   ]
  },
  {
   "cell_type": "code",
   "execution_count": 5,
   "id": "eea99937",
   "metadata": {},
   "outputs": [
    {
     "data": {
      "text/plain": [
       "1"
      ]
     },
     "execution_count": 5,
     "metadata": {},
     "output_type": "execute_result"
    }
   ],
   "source": [
    "num1 = 11\n",
    "num2 = 11\n",
    "1 if num1 == num2 else -1"
   ]
  },
  {
   "cell_type": "code",
   "execution_count": 9,
   "id": "1e8af4cd",
   "metadata": {},
   "outputs": [],
   "source": [
    "solution = lambda num1, num2 : num1 - num2"
   ]
  },
  {
   "cell_type": "code",
   "execution_count": 12,
   "id": "ff14d8db",
   "metadata": {},
   "outputs": [
    {
     "data": {
      "text/plain": [
       "2"
      ]
     },
     "execution_count": 12,
     "metadata": {},
     "output_type": "execute_result"
    }
   ],
   "source": [
    "angle = 90\n",
    "answer = (angle // 90) * 2 + (angle % 90 > 0) * 1\n",
    "answer"
   ]
  },
  {
   "cell_type": "code",
   "execution_count": null,
   "id": "0f481ef1",
   "metadata": {},
   "outputs": [],
   "source": []
  }
 ],
 "metadata": {
  "kernelspec": {
   "display_name": "hackerrank",
   "language": "python",
   "name": "hackerrank"
  },
  "language_info": {
   "codemirror_mode": {
    "name": "ipython",
    "version": 3
   },
   "file_extension": ".py",
   "mimetype": "text/x-python",
   "name": "python",
   "nbconvert_exporter": "python",
   "pygments_lexer": "ipython3",
   "version": "3.9.12"
  }
 },
 "nbformat": 4,
 "nbformat_minor": 5
}
