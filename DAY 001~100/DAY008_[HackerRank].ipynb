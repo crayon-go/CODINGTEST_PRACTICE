{
 "cells": [
  {
   "cell_type": "code",
   "execution_count": 12,
   "id": "b2fe2cad",
   "metadata": {},
   "outputs": [],
   "source": [
    "grid = [1, 1, 1], [1, 0, 1], [1, 1, 1]"
   ]
  },
  {
   "cell_type": "code",
   "execution_count": null,
   "id": "37809ad5",
   "metadata": {},
   "outputs": [],
   "source": [
    "grid = [[ 0, 0, 0 ],\n",
    "        [ 0, 1, 0 ],\n",
    "        [ 0, 0, 0 ] ]"
   ]
  },
  {
   "cell_type": "code",
   "execution_count": 23,
   "id": "f60ea8ae",
   "metadata": {},
   "outputs": [],
   "source": [
    "grid = [[ 0, 0, 0, 0 ],\n",
    "        [ 0, 0, 0, 0 ],\n",
    "        [ 0, 0, 0, 0 ]]"
   ]
  },
  {
   "cell_type": "code",
   "execution_count": 25,
   "id": "2544c2ec",
   "metadata": {},
   "outputs": [],
   "source": [
    "grid = [[ 0, 0 ],\n",
    "        [ 1, 0 ]]\n"
   ]
  },
  {
   "cell_type": "code",
   "execution_count": 26,
   "id": "3c42e9dd",
   "metadata": {},
   "outputs": [
    {
     "name": "stdout",
     "output_type": "stream",
     "text": [
      "1\n"
     ]
    }
   ],
   "source": [
    "# Python code to find number of unique paths\n",
    "# in a Matrix\n",
    "def  UniquePathHelper(i, j, r, c, A):\n",
    "   \n",
    "    # boundary condition or constraints\n",
    "    if(i == r or j == c):\n",
    "        return 0\n",
    "     \n",
    "    if(A[i][j] == 1):\n",
    "        return 0\n",
    "     \n",
    "    # base case\n",
    "    if(i == r-1 and j == c-1):\n",
    "        return 1\n",
    " \n",
    "    return  UniquePathHelper(i+1, j, r, c, A) + UniquePathHelper(i, j+1, r, c, A)\n",
    " \n",
    "def uniquePathsWithObstacles(A):\n",
    "    r,c = len(A),len(A[0])\n",
    "     \n",
    "    return UniquePathHelper(0, 0, r, c, A)\n",
    " \n",
    "\n",
    "                              \n",
    "print(uniquePathsWithObstacles(grid))                                          \n"
   ]
  },
  {
   "cell_type": "code",
   "execution_count": null,
   "id": "0aaeb536",
   "metadata": {},
   "outputs": [],
   "source": []
  }
 ],
 "metadata": {
  "kernelspec": {
   "display_name": "hackerrank",
   "language": "python",
   "name": "hackerrank"
  },
  "language_info": {
   "codemirror_mode": {
    "name": "ipython",
    "version": 3
   },
   "file_extension": ".py",
   "mimetype": "text/x-python",
   "name": "python",
   "nbconvert_exporter": "python",
   "pygments_lexer": "ipython3",
   "version": "3.9.12"
  }
 },
 "nbformat": 4,
 "nbformat_minor": 5
}
