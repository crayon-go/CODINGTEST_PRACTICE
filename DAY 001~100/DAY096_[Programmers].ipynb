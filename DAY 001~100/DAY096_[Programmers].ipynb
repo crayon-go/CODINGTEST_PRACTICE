{
 "cells": [
  {
   "cell_type": "code",
   "execution_count": null,
   "id": "700789c6",
   "metadata": {},
   "outputs": [],
   "source": [
    ", dic"
   ]
  },
  {
   "cell_type": "code",
   "execution_count": 47,
   "id": "2deeb4f1",
   "metadata": {},
   "outputs": [],
   "source": [
    "spell= [\"p\", \"o\", \"s\"]\n",
    "dic = [\"sod\", \"eocd\", \"qixm\", \"adio\", \"soo\"]\n",
    "# 2"
   ]
  },
  {
   "cell_type": "code",
   "execution_count": 50,
   "id": "0577ccab",
   "metadata": {},
   "outputs": [],
   "source": [
    "spell= [\"z\", \"d\", \"x\"]\n",
    "dic = [\"def\", \"dww\", \"dzx\", \"loveaw\"]\n",
    "# 1"
   ]
  },
  {
   "cell_type": "code",
   "execution_count": 44,
   "id": "8bace607",
   "metadata": {},
   "outputs": [],
   "source": [
    "spell= [\"s\", \"o\", \"m\", \"d\"]\n",
    "dic = [\"moos\", \"dzx\", \"smm\", \"sunmmo\", \"som\"]\n",
    "# 2"
   ]
  },
  {
   "cell_type": "code",
   "execution_count": 51,
   "id": "aefce6f1",
   "metadata": {},
   "outputs": [],
   "source": [
    "spell.sort()\n",
    "spell = \"\".join(spell)\n",
    "\n",
    "for i in dic:\n",
    "    i = sorted(i)\n",
    "    b = \"\".join(i)\n",
    "    if spell == b:\n",
    "        answer = 1\n",
    "        break\n",
    "else:\n",
    "    answer = 2"
   ]
  },
  {
   "cell_type": "code",
   "execution_count": 52,
   "id": "afeac36a",
   "metadata": {},
   "outputs": [
    {
     "data": {
      "text/plain": [
       "1"
      ]
     },
     "execution_count": 52,
     "metadata": {},
     "output_type": "execute_result"
    }
   ],
   "source": [
    "answer"
   ]
  },
  {
   "cell_type": "code",
   "execution_count": null,
   "id": "35065f6c",
   "metadata": {},
   "outputs": [],
   "source": []
  },
  {
   "cell_type": "code",
   "execution_count": null,
   "id": "cdf3a232",
   "metadata": {},
   "outputs": [],
   "source": []
  },
  {
   "cell_type": "code",
   "execution_count": null,
   "id": "8caec457",
   "metadata": {},
   "outputs": [],
   "source": []
  }
 ],
 "metadata": {
  "kernelspec": {
   "display_name": "hackerrank",
   "language": "python",
   "name": "hackerrank"
  },
  "language_info": {
   "codemirror_mode": {
    "name": "ipython",
    "version": 3
   },
   "file_extension": ".py",
   "mimetype": "text/x-python",
   "name": "python",
   "nbconvert_exporter": "python",
   "pygments_lexer": "ipython3",
   "version": "3.9.12"
  }
 },
 "nbformat": 4,
 "nbformat_minor": 5
}
