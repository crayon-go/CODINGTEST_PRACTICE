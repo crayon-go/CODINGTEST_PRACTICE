{
 "cells": [
  {
   "cell_type": "code",
   "execution_count": 53,
   "id": "2deeb4f1",
   "metadata": {},
   "outputs": [],
   "source": [
    "spell= [\"p\", \"o\", \"s\"]\n",
    "dic = [\"sod\", \"eocd\", \"qixm\", \"adio\", \"soo\"]\n",
    "# 2"
   ]
  },
  {
   "cell_type": "code",
   "execution_count": 50,
   "id": "0577ccab",
   "metadata": {},
   "outputs": [],
   "source": [
    "spell= [\"z\", \"d\", \"x\"]\n",
    "dic = [\"def\", \"dww\", \"dzx\", \"loveaw\"]\n",
    "# 1"
   ]
  },
  {
   "cell_type": "code",
   "execution_count": 44,
   "id": "8bace607",
   "metadata": {},
   "outputs": [],
   "source": [
    "spell= [\"s\", \"o\", \"m\", \"d\"]\n",
    "dic = [\"moos\", \"dzx\", \"smm\", \"sunmmo\", \"som\"]\n",
    "# 2"
   ]
  },
  {
   "cell_type": "code",
   "execution_count": 54,
   "id": "aefce6f1",
   "metadata": {},
   "outputs": [],
   "source": [
    "spell.sort()\n",
    "spell = \"\".join(spell)\n",
    "\n",
    "for i in dic:\n",
    "    i = sorted(i)\n",
    "    b = \"\".join(i)\n",
    "    if spell == b:\n",
    "        answer = 1\n",
    "        break\n",
    "else:\n",
    "    answer = 2"
   ]
  },
  {
   "cell_type": "code",
   "execution_count": 55,
   "id": "afeac36a",
   "metadata": {},
   "outputs": [
    {
     "data": {
      "text/plain": [
       "2"
      ]
     },
     "execution_count": 55,
     "metadata": {},
     "output_type": "execute_result"
    }
   ],
   "source": [
    "answer"
   ]
  },
  {
   "cell_type": "code",
   "execution_count": null,
   "id": "171439ad",
   "metadata": {},
   "outputs": [],
   "source": []
  },
  {
   "cell_type": "code",
   "execution_count": 56,
   "id": "9702962a",
   "metadata": {},
   "outputs": [
    {
     "data": {
      "text/plain": [
       "2"
      ]
     },
     "execution_count": 56,
     "metadata": {},
     "output_type": "execute_result"
    }
   ],
   "source": [
    "answer = 0\n",
    "\n",
    "n = len(spell)\n",
    "\n",
    "for word in dic:\n",
    "    if len(word) !=  n:\n",
    "        continue\n",
    "\n",
    "    cnt = 0\n",
    "    word = list(set(word))\n",
    "    for i in word:\n",
    "        if i in spell:\n",
    "            cnt += 1\n",
    "    if cnt == n:\n",
    "        return 1\n",
    "\n",
    "return 2"
   ]
  },
  {
   "cell_type": "code",
   "execution_count": null,
   "id": "c8c653ed",
   "metadata": {},
   "outputs": [],
   "source": []
  },
  {
   "cell_type": "code",
   "execution_count": null,
   "id": "92f17791",
   "metadata": {},
   "outputs": [],
   "source": []
  },
  {
   "cell_type": "code",
   "execution_count": null,
   "id": "35065f6c",
   "metadata": {},
   "outputs": [],
   "source": []
  },
  {
   "cell_type": "code",
   "execution_count": null,
   "id": "cdf3a232",
   "metadata": {},
   "outputs": [],
   "source": []
  },
  {
   "cell_type": "code",
   "execution_count": null,
   "id": "8caec457",
   "metadata": {},
   "outputs": [],
   "source": []
  }
 ],
 "metadata": {
  "kernelspec": {
   "display_name": "hackerrank",
   "language": "python",
   "name": "hackerrank"
  },
  "language_info": {
   "codemirror_mode": {
    "name": "ipython",
    "version": 3
   },
   "file_extension": ".py",
   "mimetype": "text/x-python",
   "name": "python",
   "nbconvert_exporter": "python",
   "pygments_lexer": "ipython3",
   "version": "3.9.12"
  }
 },
 "nbformat": 4,
 "nbformat_minor": 5
}
