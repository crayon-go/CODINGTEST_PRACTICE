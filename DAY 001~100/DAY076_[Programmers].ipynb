{
 "cells": [
  {
   "cell_type": "code",
   "execution_count": 2,
   "id": "d5945687",
   "metadata": {},
   "outputs": [
    {
     "data": {
      "text/plain": [
       "'nc t mt y'"
      ]
     },
     "execution_count": 2,
     "metadata": {},
     "output_type": "execute_result"
    }
   ],
   "source": [
    "my_string = \"nice to meet you\"\n",
    "\n",
    "aeiou = [\"a\", \"e\", \"i\", \"o\", \"u\"]\n",
    "\n",
    "answer = \"\"\n",
    "\n",
    "for i in my_string:\n",
    "    if not i in aeiou:\n",
    "        answer += i\n",
    "answer"
   ]
  },
  {
   "cell_type": "code",
   "execution_count": 14,
   "id": "28fb06f2",
   "metadata": {},
   "outputs": [
    {
     "data": {
      "text/plain": [
       "'nc t mt y'"
      ]
     },
     "execution_count": 14,
     "metadata": {},
     "output_type": "execute_result"
    }
   ],
   "source": [
    "vowels = ['a','e','i','o','u']\n",
    "for vowel in vowels:\n",
    "    my_string = my_string.replace(vowel, '')\n",
    "my_string"
   ]
  },
  {
   "cell_type": "code",
   "execution_count": null,
   "id": "7b16d3b8",
   "metadata": {},
   "outputs": [],
   "source": []
  },
  {
   "cell_type": "code",
   "execution_count": 36,
   "id": "605ee851",
   "metadata": {},
   "outputs": [],
   "source": [
    "array = [11, 1, 2, 7, 10]"
   ]
  },
  {
   "cell_type": "code",
   "execution_count": 30,
   "id": "b1900ecf",
   "metadata": {},
   "outputs": [
    {
     "data": {
      "text/plain": [
       "7"
      ]
     },
     "execution_count": 30,
     "metadata": {},
     "output_type": "execute_result"
    }
   ],
   "source": [
    "array.sort()\n",
    "array[int(len(array) / 2)]"
   ]
  },
  {
   "cell_type": "code",
   "execution_count": 40,
   "id": "62e9c5a2",
   "metadata": {},
   "outputs": [
    {
     "data": {
      "text/plain": [
       "7"
      ]
     },
     "execution_count": 40,
     "metadata": {},
     "output_type": "execute_result"
    }
   ],
   "source": [
    "array = sorted(array)\n",
    "length = len(array) // 2\n",
    "array[length]"
   ]
  },
  {
   "cell_type": "code",
   "execution_count": null,
   "id": "7d1238d1",
   "metadata": {},
   "outputs": [],
   "source": []
  },
  {
   "cell_type": "code",
   "execution_count": 1,
   "id": "e46c4604",
   "metadata": {},
   "outputs": [],
   "source": [
    "my_string = \"hello\"\n",
    "num1 = 1\n",
    "num2 = 2"
   ]
  },
  {
   "cell_type": "code",
   "execution_count": 11,
   "id": "f1f4e57c",
   "metadata": {},
   "outputs": [
    {
     "data": {
      "text/plain": [
       "'hlelo'"
      ]
     },
     "execution_count": 11,
     "metadata": {},
     "output_type": "execute_result"
    }
   ],
   "source": [
    "my_list = [i for i in my_string]\n",
    "\n",
    "str1 = my_list[num1]\n",
    "str2 = my_list[num2]\n",
    "\n",
    "my_list[num1] = str2\n",
    "my_list[num2] = str1\n",
    "\n",
    "\"\".join(my_list)"
   ]
  },
  {
   "cell_type": "code",
   "execution_count": 12,
   "id": "73380801",
   "metadata": {},
   "outputs": [
    {
     "data": {
      "text/plain": [
       "'hlelo'"
      ]
     },
     "execution_count": 12,
     "metadata": {},
     "output_type": "execute_result"
    }
   ],
   "source": [
    "s = list(my_string)\n",
    "s[num1], s[num2] = s[num2], s[num1]\n",
    "''.join(s)"
   ]
  },
  {
   "cell_type": "code",
   "execution_count": null,
   "id": "630283fd",
   "metadata": {},
   "outputs": [],
   "source": []
  },
  {
   "cell_type": "code",
   "execution_count": 41,
   "id": "d349cd22",
   "metadata": {},
   "outputs": [],
   "source": [
    "my_string = \"Bcad\""
   ]
  },
  {
   "cell_type": "code",
   "execution_count": 42,
   "id": "a77d776d",
   "metadata": {},
   "outputs": [
    {
     "data": {
      "text/plain": [
       "'bcad'"
      ]
     },
     "execution_count": 42,
     "metadata": {},
     "output_type": "execute_result"
    }
   ],
   "source": [
    "my_string = my_string.lower()\n",
    "my_string = [i for i in my_string]\n",
    "my_string.sort()\n",
    "answer = \"\".join(my_string)"
   ]
  },
  {
   "cell_type": "code",
   "execution_count": null,
   "id": "e006a8f8",
   "metadata": {},
   "outputs": [],
   "source": [
    "answer = \"\".join(sorted(list(my_string.lower())))"
   ]
  },
  {
   "cell_type": "code",
   "execution_count": null,
   "id": "2faae31b",
   "metadata": {},
   "outputs": [],
   "source": []
  },
  {
   "cell_type": "code",
   "execution_count": null,
   "id": "8dda56d4",
   "metadata": {},
   "outputs": [],
   "source": []
  },
  {
   "cell_type": "code",
   "execution_count": null,
   "id": "1ae85d6e",
   "metadata": {},
   "outputs": [],
   "source": []
  },
  {
   "cell_type": "code",
   "execution_count": null,
   "id": "f8513064",
   "metadata": {},
   "outputs": [],
   "source": []
  },
  {
   "cell_type": "code",
   "execution_count": null,
   "id": "2438b59a",
   "metadata": {},
   "outputs": [],
   "source": []
  },
  {
   "cell_type": "code",
   "execution_count": null,
   "id": "adbec3e7",
   "metadata": {},
   "outputs": [],
   "source": []
  },
  {
   "cell_type": "code",
   "execution_count": null,
   "id": "94a14642",
   "metadata": {},
   "outputs": [],
   "source": []
  },
  {
   "cell_type": "code",
   "execution_count": null,
   "id": "e3797b9b",
   "metadata": {},
   "outputs": [],
   "source": []
  }
 ],
 "metadata": {
  "kernelspec": {
   "display_name": "hackerrank",
   "language": "python",
   "name": "hackerrank"
  },
  "language_info": {
   "codemirror_mode": {
    "name": "ipython",
    "version": 3
   },
   "file_extension": ".py",
   "mimetype": "text/x-python",
   "name": "python",
   "nbconvert_exporter": "python",
   "pygments_lexer": "ipython3",
   "version": "3.8.13"
  }
 },
 "nbformat": 4,
 "nbformat_minor": 5
}
