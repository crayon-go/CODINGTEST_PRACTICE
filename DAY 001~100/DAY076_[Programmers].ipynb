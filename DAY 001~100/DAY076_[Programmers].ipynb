{
 "cells": [
  {
   "cell_type": "code",
   "execution_count": 2,
   "id": "d5945687",
   "metadata": {},
   "outputs": [
    {
     "data": {
      "text/plain": [
       "'nc t mt y'"
      ]
     },
     "execution_count": 2,
     "metadata": {},
     "output_type": "execute_result"
    }
   ],
   "source": [
    "my_string = \"nice to meet you\"\n",
    "\n",
    "aeiou = [\"a\", \"e\", \"i\", \"o\", \"u\"]\n",
    "\n",
    "answer = \"\"\n",
    "\n",
    "for i in my_string:\n",
    "    if not i in aeiou:\n",
    "        answer += i\n",
    "answer"
   ]
  },
  {
   "cell_type": "code",
   "execution_count": 14,
   "id": "28fb06f2",
   "metadata": {},
   "outputs": [
    {
     "data": {
      "text/plain": [
       "'nc t mt y'"
      ]
     },
     "execution_count": 14,
     "metadata": {},
     "output_type": "execute_result"
    }
   ],
   "source": [
    "vowels = ['a','e','i','o','u']\n",
    "for vowel in vowels:\n",
    "    my_string = my_string.replace(vowel, '')\n",
    "my_string"
   ]
  },
  {
   "cell_type": "code",
   "execution_count": null,
   "id": "7b16d3b8",
   "metadata": {},
   "outputs": [],
   "source": []
  },
  {
   "cell_type": "code",
   "execution_count": 36,
   "id": "605ee851",
   "metadata": {},
   "outputs": [],
   "source": [
    "array = [11, 1, 2, 7, 10]"
   ]
  },
  {
   "cell_type": "code",
   "execution_count": 30,
   "id": "b1900ecf",
   "metadata": {},
   "outputs": [
    {
     "data": {
      "text/plain": [
       "7"
      ]
     },
     "execution_count": 30,
     "metadata": {},
     "output_type": "execute_result"
    }
   ],
   "source": [
    "array.sort()\n",
    "array[int(len(array) / 2)]"
   ]
  },
  {
   "cell_type": "code",
   "execution_count": 40,
   "id": "62e9c5a2",
   "metadata": {},
   "outputs": [
    {
     "data": {
      "text/plain": [
       "7"
      ]
     },
     "execution_count": 40,
     "metadata": {},
     "output_type": "execute_result"
    }
   ],
   "source": [
    "array = sorted(array)\n",
    "length = len(array) // 2\n",
    "array[length]"
   ]
  },
  {
   "cell_type": "code",
   "execution_count": null,
   "id": "e3797b9b",
   "metadata": {},
   "outputs": [],
   "source": []
  }
 ],
 "metadata": {
  "kernelspec": {
   "display_name": "hackerrank",
   "language": "python",
   "name": "hackerrank"
  },
  "language_info": {
   "codemirror_mode": {
    "name": "ipython",
    "version": 3
   },
   "file_extension": ".py",
   "mimetype": "text/x-python",
   "name": "python",
   "nbconvert_exporter": "python",
   "pygments_lexer": "ipython3",
   "version": "3.8.13"
  }
 },
 "nbformat": 4,
 "nbformat_minor": 5
}
