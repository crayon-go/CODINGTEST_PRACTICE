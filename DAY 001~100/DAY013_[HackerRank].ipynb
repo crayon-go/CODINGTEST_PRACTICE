{
 "cells": [
  {
   "cell_type": "code",
   "execution_count": 1,
   "id": "78b6d51e",
   "metadata": {},
   "outputs": [],
   "source": [
    "import pandas as pd"
   ]
  },
  {
   "cell_type": "code",
   "execution_count": 2,
   "id": "c9037c65",
   "metadata": {},
   "outputs": [],
   "source": [
    "def avg_percentage(game_id, ft_number, team, result):\n",
    "    \"\"\"\n",
    "    :param game_id: (list) The ID of the game. \n",
    "    :param ft_number: (list) The number of the free throw.\n",
    "    :param team: (list) Which team took the free throw.\n",
    "    :param result: (list) The result of the free throw, which is either missed or made.\n",
    "    :returns: (float) The mean value of the percentages (0.0-100.0) of free throws that\n",
    "               each team scored in each game.\n",
    "    \"\"\"\n",
    "    \n",
    "    df = pd.DataFrame([ x for x in zip(game_id, ft_number, team, result)])\n",
    "\n",
    "    per_sum = 0\n",
    "    per_cnt = 0\n",
    "\n",
    "    for i in df[0].unique():    # GAME_ID\n",
    "\n",
    "        per_home = 0\n",
    "        per_away = 0\n",
    "\n",
    "        if len(df[(df[0] == i) & (df[2] == 'home')]):\n",
    "            df_home = df[(df[0] == i) & (df[2] == 'home')]\n",
    "            home_total = len(df_home)\n",
    "            home_made = len(df_home[df_home[3] == 'made'])\n",
    "            per_home = home_made / home_total\n",
    "            per_sum += per_home\n",
    "            per_cnt += 1\n",
    "\n",
    "        if len(df[(df[0] == i) & (df[2] == 'away')]):\n",
    "            df_away = df[(df[0] == i) & (df[2] == 'away')]\n",
    "            away_total = len(df_away)\n",
    "            away_made = len(df_away[df_away[3] == 'made'])\n",
    "            per_away = away_made / away_total\n",
    "            per_sum += per_away\n",
    "            per_cnt += 1\n",
    "\n",
    "    return round((per_sum / per_cnt) * 100, 2)\n"
   ]
  },
  {
   "cell_type": "code",
   "execution_count": 3,
   "id": "790a8ebe",
   "metadata": {},
   "outputs": [
    {
     "name": "stdout",
     "output_type": "stream",
     "text": [
      "58.33\n"
     ]
    }
   ],
   "source": [
    "#For example, with the parameters below, the function should return 58.33\n",
    "print(avg_percentage(\n",
    "    [1, 1, 1, 1, 2, 2],\n",
    "    [1, 2, 3, 4, 1, 2],\n",
    "    ['home','home','away','home','away','home'],\n",
    "    ['made','missed','made','missed','missed','made']\n",
    "))"
   ]
  },
  {
   "cell_type": "code",
   "execution_count": null,
   "id": "e2becf2b",
   "metadata": {},
   "outputs": [],
   "source": []
  },
  {
   "cell_type": "code",
   "execution_count": null,
   "id": "b1002577",
   "metadata": {},
   "outputs": [],
   "source": []
  },
  {
   "cell_type": "code",
   "execution_count": null,
   "id": "630bd2b6",
   "metadata": {},
   "outputs": [],
   "source": []
  },
  {
   "cell_type": "code",
   "execution_count": null,
   "id": "e25b7731",
   "metadata": {},
   "outputs": [],
   "source": []
  },
  {
   "cell_type": "code",
   "execution_count": 4,
   "id": "685b78d0",
   "metadata": {},
   "outputs": [],
   "source": [
    "from collections import Counter\n",
    "import pandas as pd\n",
    "import math"
   ]
  },
  {
   "cell_type": "code",
   "execution_count": 5,
   "id": "8f78fbdd",
   "metadata": {},
   "outputs": [],
   "source": [
    "def num_names(names, required_pct):\n",
    "    \"\"\"\n",
    "    :param names: (list) A list of first names.\n",
    "    :param required_pct: (int) The required percentage of the sample data to be preprinted.\n",
    "    :returns: (int) The minimum number of unique first names (or templates) that need to be prepared.\n",
    "    \"\"\"\n",
    "    len_list = len(names)\n",
    "    counter_dict = Counter(names)\n",
    "    sorted_dict = sorted(counter_dict.items(), key = lambda item: item[1], reverse = True)\n",
    "\n",
    "    sum_per = 0\n",
    "\n",
    "    num_name = 0\n",
    "    \n",
    "    for idx, dic in enumerate(sorted_dict):\n",
    "        sum_per += (dic[1] / len_list) * 100\n",
    "\n",
    "        if sum_per >= required_pct:\n",
    "            num_name = idx + 1\n",
    "            break\n",
    "\n",
    "    return num_name"
   ]
  },
  {
   "cell_type": "code",
   "execution_count": 6,
   "id": "fb2371f4",
   "metadata": {},
   "outputs": [
    {
     "name": "stdout",
     "output_type": "stream",
     "text": [
      "2\n"
     ]
    }
   ],
   "source": [
    "names = [\"James\", \"Sophia\", \"James\", \"Sophia\", \"James\", \"Sophia\", \"Emma\", \"Jack\"]\n",
    "print(num_names(names, 75))"
   ]
  },
  {
   "cell_type": "code",
   "execution_count": null,
   "id": "b1759083",
   "metadata": {},
   "outputs": [],
   "source": []
  },
  {
   "cell_type": "code",
   "execution_count": null,
   "id": "551e22f6",
   "metadata": {},
   "outputs": [],
   "source": []
  },
  {
   "cell_type": "code",
   "execution_count": null,
   "id": "59e15420",
   "metadata": {},
   "outputs": [],
   "source": []
  }
 ],
 "metadata": {
  "kernelspec": {
   "display_name": "hackerrank",
   "language": "python",
   "name": "hackerrank"
  },
  "language_info": {
   "codemirror_mode": {
    "name": "ipython",
    "version": 3
   },
   "file_extension": ".py",
   "mimetype": "text/x-python",
   "name": "python",
   "nbconvert_exporter": "python",
   "pygments_lexer": "ipython3",
   "version": "3.8.13"
  }
 },
 "nbformat": 4,
 "nbformat_minor": 5
}
