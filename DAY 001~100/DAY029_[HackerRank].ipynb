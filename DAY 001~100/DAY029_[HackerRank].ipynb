{
 "cells": [
  {
   "cell_type": "markdown",
   "id": "b23067da",
   "metadata": {},
   "source": [
    "### Compress the String!"
   ]
  },
  {
   "cell_type": "code",
   "execution_count": 1,
   "id": "950ba37c",
   "metadata": {},
   "outputs": [],
   "source": [
    "from itertools import groupby"
   ]
  },
  {
   "cell_type": "code",
   "execution_count": null,
   "id": "03a0730e",
   "metadata": {},
   "outputs": [],
   "source": [
    "1222311"
   ]
  },
  {
   "cell_type": "code",
   "execution_count": 2,
   "id": "09b2cdc7",
   "metadata": {
    "scrolled": true
   },
   "outputs": [
    {
     "name": "stdout",
     "output_type": "stream",
     "text": [
      "1222311\n",
      "(1, 1) (3, 2) (1, 3) (2, 1)\n"
     ]
    }
   ],
   "source": [
    "print(*[(len(list(c)), int(k)) for k, c in groupby(input())])"
   ]
  },
  {
   "cell_type": "code",
   "execution_count": 3,
   "id": "178c1963",
   "metadata": {},
   "outputs": [],
   "source": []
  },
  {
   "cell_type": "markdown",
   "id": "aa179906",
   "metadata": {},
   "source": [
    "### Company LOGO"
   ]
  },
  {
   "cell_type": "code",
   "execution_count": 13,
   "id": "bdf3bf84",
   "metadata": {},
   "outputs": [],
   "source": [
    "from collections import Counter, OrderedDict"
   ]
  },
  {
   "cell_type": "code",
   "execution_count": 14,
   "id": "1ebf4fd8",
   "metadata": {},
   "outputs": [],
   "source": [
    "class OrderedCounter(Counter, OrderedDict):\n",
    "    pass"
   ]
  },
  {
   "cell_type": "code",
   "execution_count": null,
   "id": "ad6e8d4f",
   "metadata": {},
   "outputs": [],
   "source": [
    "aabbbccde"
   ]
  },
  {
   "cell_type": "code",
   "execution_count": 17,
   "id": "bf6258e0",
   "metadata": {},
   "outputs": [
    {
     "name": "stdout",
     "output_type": "stream",
     "text": [
      "aabbbccde\n",
      "b 3\n",
      "a 2\n",
      "c 2\n"
     ]
    },
    {
     "data": {
      "text/plain": [
       "[None, None, None]"
      ]
     },
     "execution_count": 17,
     "metadata": {},
     "output_type": "execute_result"
    }
   ],
   "source": [
    "\n",
    "[print(*c) for c in OrderedCounter(sorted(input())).most_common(3)]"
   ]
  },
  {
   "cell_type": "code",
   "execution_count": null,
   "id": "a4ec95bc",
   "metadata": {},
   "outputs": [],
   "source": []
  },
  {
   "cell_type": "markdown",
   "id": "ffdd5555",
   "metadata": {},
   "source": [
    "### Validating Credit Card Numbers"
   ]
  },
  {
   "cell_type": "code",
   "execution_count": null,
   "id": "e8066bf0",
   "metadata": {},
   "outputs": [],
   "source": [
    "4253625879615786\n",
    "4424424424442444\n",
    "5122-2368-7954-3214"
   ]
  },
  {
   "cell_type": "code",
   "execution_count": null,
   "id": "1767be16",
   "metadata": {},
   "outputs": [],
   "source": [
    "42536258796157867       #17 digits in card number → Invalid \n",
    "4424444424442444        #Consecutive digits are repeating 4 or more times → Invalid\n",
    "5122-2368-7954 - 3214   #Separators other than '-' are used → Invalid\n",
    "44244x4424442444        #Contains non digit characters → Invalid\n",
    "0525362587961578        #Doesn't start with 4, 5 or 6 → Invalid"
   ]
  },
  {
   "cell_type": "code",
   "execution_count": 18,
   "id": "45dc7a10",
   "metadata": {},
   "outputs": [],
   "source": [
    "import re"
   ]
  },
  {
   "cell_type": "code",
   "execution_count": null,
   "id": "1699111c",
   "metadata": {
    "scrolled": true
   },
   "outputs": [
    {
     "name": "stdout",
     "output_type": "stream",
     "text": [
      "4253625879615786\n",
      "4424424424442444\n",
      "Valid\n",
      "5122-2368-7954-3214\n",
      "Valid\n",
      "5122-2368-7954-3214\n",
      "Valid\n",
      "5122-2368-7954-3214\n",
      "Valid\n",
      "5122-2368-7954-3214\n",
      "Valid\n",
      "5122-2368-7954-3214\n",
      "Valid\n",
      "5122-2368-7954-3214\n",
      "Valid\n",
      "5122-2368-7954-3214\n",
      "Valid\n",
      "\n",
      "Invalid\n",
      "\n",
      "Invalid\n",
      "\n",
      "Invalid\n",
      "\n",
      "Invalid\n",
      "4424424424442444\n",
      "Valid\n",
      "4424424424442444\n",
      "Valid\n",
      "4424424424442444\n",
      "Valid\n",
      "4424424424442444\n",
      "Valid\n",
      "4424424424442444\n",
      "Valid\n",
      "4424424424442444\n",
      "Valid\n",
      "4424424424442444\n",
      "Valid\n"
     ]
    }
   ],
   "source": [
    "\n",
    "for i in range(int(input())):\n",
    "    S = input().strip()\n",
    "    pre_match = re.search(r'^[456]\\d{3}(-?)\\d{4}\\1\\d{4}\\1\\d{4}$',S)\n",
    "    if pre_match:\n",
    "        processed_string = \"\".join(pre_match.group(0).split('-'))\n",
    "        final_match = re.search(r'(\\d)\\1{3,}',processed_string)\n",
    "        if final_match:\n",
    "            print('Invalid')\n",
    "        else :\n",
    "            print('Valid')\n",
    "    else:\n",
    "        print('Invalid')\n",
    "\n"
   ]
  },
  {
   "cell_type": "code",
   "execution_count": null,
   "id": "f7904daa",
   "metadata": {},
   "outputs": [],
   "source": []
  },
  {
   "cell_type": "code",
   "execution_count": null,
   "id": "5859dee7",
   "metadata": {},
   "outputs": [],
   "source": []
  },
  {
   "cell_type": "code",
   "execution_count": null,
   "id": "064bef71",
   "metadata": {},
   "outputs": [],
   "source": []
  },
  {
   "cell_type": "code",
   "execution_count": null,
   "id": "32cef681",
   "metadata": {},
   "outputs": [],
   "source": []
  }
 ],
 "metadata": {
  "kernelspec": {
   "display_name": "hackerrank",
   "language": "python",
   "name": "hackerrank"
  },
  "language_info": {
   "codemirror_mode": {
    "name": "ipython",
    "version": 3
   },
   "file_extension": ".py",
   "mimetype": "text/x-python",
   "name": "python",
   "nbconvert_exporter": "python",
   "pygments_lexer": "ipython3",
   "version": "3.8.13"
  }
 },
 "nbformat": 4,
 "nbformat_minor": 5
}
