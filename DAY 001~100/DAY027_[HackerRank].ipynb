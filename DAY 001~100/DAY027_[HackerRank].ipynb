{
 "cells": [
  {
   "cell_type": "code",
   "execution_count": 1,
   "id": "30af13ff",
   "metadata": {},
   "outputs": [],
   "source": [
    "#!/bin/python3\n",
    "\n",
    "import math\n",
    "import os\n",
    "import random\n",
    "import re\n",
    "import sys\n",
    "import numpy as npB"
   ]
  },
  {
   "cell_type": "code",
   "execution_count": 3,
   "id": "f074aad9",
   "metadata": {},
   "outputs": [
    {
     "name": "stdout",
     "output_type": "stream",
     "text": [
      "2147483647\n",
      "0\n"
     ]
    }
   ],
   "source": [
    "num = int(input())\n",
    "num_str = str(num)\n",
    "dot_num = num ** 2\n",
    "num_len = len(str(num))\n",
    "dot_str = str(dot_num)[-3:]\n",
    "\n",
    "if dot_str == num_str:\n",
    "    print(1)\n",
    "else:\n",
    "    print(0)\n"
   ]
  },
  {
   "cell_type": "code",
   "execution_count": 5,
   "id": "9f0b0550",
   "metadata": {},
   "outputs": [
    {
     "name": "stdout",
     "output_type": "stream",
     "text": [
      "a\n",
      "b\n",
      "True\n"
     ]
    }
   ],
   "source": [
    "# 팰린드롬\n",
    "\n",
    "def is_palindrome(word):\n",
    "    list_word = list(word)\n",
    "\n",
    "    for i in range(0, len(list_word) // 2):\n",
    "        print(list_word[len(list_word) - 1 - i])\n",
    "        if list_word[i] == list_word[len(list_word) - 1 - i]:\n",
    "            \n",
    "            continue\n",
    "        else:\n",
    "            return False\n",
    "\n",
    "    return True\n",
    "\n",
    "print(is_palindrome(\"abcba\"))"
   ]
  },
  {
   "cell_type": "code",
   "execution_count": null,
   "id": "9b363566",
   "metadata": {},
   "outputs": [],
   "source": []
  },
  {
   "cell_type": "code",
   "execution_count": null,
   "id": "55f453f5",
   "metadata": {},
   "outputs": [],
   "source": []
  }
 ],
 "metadata": {
  "kernelspec": {
   "display_name": "hackerrank",
   "language": "python",
   "name": "hackerrank"
  },
  "language_info": {
   "codemirror_mode": {
    "name": "ipython",
    "version": 3
   },
   "file_extension": ".py",
   "mimetype": "text/x-python",
   "name": "python",
   "nbconvert_exporter": "python",
   "pygments_lexer": "ipython3",
   "version": "3.9.12"
  }
 },
 "nbformat": 4,
 "nbformat_minor": 5
}
