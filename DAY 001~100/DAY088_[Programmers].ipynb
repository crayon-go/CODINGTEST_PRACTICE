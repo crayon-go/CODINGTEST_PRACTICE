{
 "cells": [
  {
   "cell_type": "code",
   "execution_count": 18,
   "id": "ba1c4fce",
   "metadata": {},
   "outputs": [],
   "source": [
    "bin1 = \"10\"\n",
    "bin2 = \"11\"\n",
    "# \"101\""
   ]
  },
  {
   "cell_type": "code",
   "execution_count": 16,
   "id": "42a267dc",
   "metadata": {},
   "outputs": [],
   "source": [
    "bin1 = \"1001\"\n",
    "bin2 = \"1111\"\n",
    "# \"11000\""
   ]
  },
  {
   "cell_type": "code",
   "execution_count": 34,
   "id": "1d92d459",
   "metadata": {},
   "outputs": [
    {
     "data": {
      "text/plain": [
       "'101'"
      ]
     },
     "execution_count": 34,
     "metadata": {},
     "output_type": "execute_result"
    }
   ],
   "source": [
    "bin(int(bin1, 2) + int(bin2, 2))[2:]"
   ]
  },
  {
   "cell_type": "code",
   "execution_count": null,
   "id": "7574b961",
   "metadata": {},
   "outputs": [],
   "source": []
  },
  {
   "cell_type": "code",
   "execution_count": 51,
   "id": "ac385b88",
   "metadata": {},
   "outputs": [],
   "source": [
    "# emergency = [3, 76, 24]  # [3, 1, 2]\n",
    "# emergency = [1, 2, 3, 4, 5, 6, 7]  # [7, 6, 5, 4, 3, 2, 1]\n",
    "emergency = [30, 10, 23, 6, 100]  # [2, 4, 3, 5, 1]"
   ]
  },
  {
   "cell_type": "code",
   "execution_count": 55,
   "id": "e6d92cb9",
   "metadata": {},
   "outputs": [
    {
     "data": {
      "text/plain": [
       "[2, 4, 3, 5, 1]"
      ]
     },
     "execution_count": 55,
     "metadata": {},
     "output_type": "execute_result"
    }
   ],
   "source": [
    "answer = []\n",
    "sort_list = sorted(emergency, reverse=True)\n",
    "\n",
    "for i in emergency:\n",
    "    answer.append(sort_list.index(i)+1)\n",
    "answer"
   ]
  },
  {
   "cell_type": "code",
   "execution_count": 59,
   "id": "83e3aebf",
   "metadata": {},
   "outputs": [
    {
     "data": {
      "text/plain": [
       "[2, 4, 3, 5, 1]"
      ]
     },
     "execution_count": 59,
     "metadata": {},
     "output_type": "execute_result"
    }
   ],
   "source": [
    "[sorted(emergency, reverse=True).index(e) + 1 for e in emergency]"
   ]
  },
  {
   "cell_type": "code",
   "execution_count": null,
   "id": "92b76cef",
   "metadata": {},
   "outputs": [],
   "source": []
  },
  {
   "cell_type": "code",
   "execution_count": 118,
   "id": "412c7e0b",
   "metadata": {},
   "outputs": [],
   "source": [
    "my_str = \"abc1Addfggg4556b\"\n",
    "n = 6\n",
    "# [\"abc1Ad\", \"dfggg4\", \"556b\"]"
   ]
  },
  {
   "cell_type": "code",
   "execution_count": 116,
   "id": "faf612ca",
   "metadata": {},
   "outputs": [],
   "source": [
    "my_str = \"abcdef123\"\n",
    "n = 3\n",
    "# [\"abc\", \"def\", \"123\"]"
   ]
  },
  {
   "cell_type": "code",
   "execution_count": 114,
   "id": "297528b5",
   "metadata": {},
   "outputs": [
    {
     "data": {
      "text/plain": [
       "['abc1Ad', 'dfggg4', '556b']"
      ]
     },
     "execution_count": 114,
     "metadata": {},
     "output_type": "execute_result"
    }
   ],
   "source": [
    "import math\n",
    "\n",
    "answer = []\n",
    "for i in range(math.ceil(len(my_str) / n)):\n",
    "    answer.append(my_str[i*n:n*(i+1)])\n",
    "answer"
   ]
  },
  {
   "cell_type": "code",
   "execution_count": 119,
   "id": "18ad815b",
   "metadata": {},
   "outputs": [
    {
     "data": {
      "text/plain": [
       "['abc1Ad', 'dfggg4', '556b']"
      ]
     },
     "execution_count": 119,
     "metadata": {},
     "output_type": "execute_result"
    }
   ],
   "source": [
    "[my_str[i: i + n] for i in range(0, len(my_str), n)]"
   ]
  },
  {
   "cell_type": "code",
   "execution_count": null,
   "id": "0df78489",
   "metadata": {},
   "outputs": [],
   "source": []
  },
  {
   "cell_type": "code",
   "execution_count": null,
   "id": "c606d8e9",
   "metadata": {},
   "outputs": [],
   "source": []
  },
  {
   "cell_type": "code",
   "execution_count": null,
   "id": "3058c466",
   "metadata": {},
   "outputs": [],
   "source": []
  }
 ],
 "metadata": {
  "kernelspec": {
   "display_name": "hackerrank",
   "language": "python",
   "name": "hackerrank"
  },
  "language_info": {
   "codemirror_mode": {
    "name": "ipython",
    "version": 3
   },
   "file_extension": ".py",
   "mimetype": "text/x-python",
   "name": "python",
   "nbconvert_exporter": "python",
   "pygments_lexer": "ipython3",
   "version": "3.9.12"
  }
 },
 "nbformat": 4,
 "nbformat_minor": 5
}
