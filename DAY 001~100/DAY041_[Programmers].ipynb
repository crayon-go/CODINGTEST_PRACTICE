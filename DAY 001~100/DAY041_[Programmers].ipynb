{
 "cells": [
  {
   "cell_type": "code",
   "execution_count": 84,
   "id": "628b56f2",
   "metadata": {},
   "outputs": [
    {
     "name": "stdout",
     "output_type": "stream",
     "text": [
      "0 1\n",
      "2 3\n",
      "3\n",
      "[[0 0]\n",
      " [2 3]]\n"
     ]
    }
   ],
   "source": [
    "# 46-1\n",
    "# inner, outer\n",
    "# 공부\n",
    "\n",
    "import numpy as np\n",
    "\n",
    "A = np.array(input().split(), int)\n",
    "B = np.array(input().split(), int)\n",
    "\n",
    "print(np.inner(A,B), np.outer(A,B), sep='\\n')"
   ]
  },
  {
   "cell_type": "code",
   "execution_count": 97,
   "id": "6a8a0785",
   "metadata": {},
   "outputs": [
    {
     "name": "stdout",
     "output_type": "stream",
     "text": [
      "1.1 2 3\n",
      "0\n",
      "3.0\n"
     ]
    }
   ],
   "source": [
    "# 47-1\n",
    "# polynomials - 다항식\n",
    "# poly\n",
    "# roots\n",
    "# polyint\n",
    "# polyder\n",
    "# polyval\n",
    "# polyfit\n",
    "# 공부\n",
    "\n",
    "print(__import__('numpy').polyval(list(map(float,input().split())),float(input())))"
   ]
  },
  {
   "cell_type": "code",
   "execution_count": 98,
   "id": "3da77389",
   "metadata": {},
   "outputs": [
    {
     "name": "stdout",
     "output_type": "stream",
     "text": [
      "2\n",
      "1.1 1.1\n",
      "1.1 1.1\n",
      "0.0\n"
     ]
    }
   ],
   "source": [
    "# 48-1\n",
    "# linalg.det\n",
    "# linalg.eig\n",
    "# linalg.inv\n",
    "# 공부...\n",
    "\n",
    "import numpy\n",
    "\n",
    "print(round(numpy.linalg.det(numpy.array([list(map(float,input().split())) for _ in range(int(input()))])),2))\n"
   ]
  }
 ],
 "metadata": {
  "kernelspec": {
   "display_name": "hackerrank",
   "language": "python",
   "name": "hackerrank"
  },
  "language_info": {
   "codemirror_mode": {
    "name": "ipython",
    "version": 3
   },
   "file_extension": ".py",
   "mimetype": "text/x-python",
   "name": "python",
   "nbconvert_exporter": "python",
   "pygments_lexer": "ipython3",
   "version": "3.9.12"
  }
 },
 "nbformat": 4,
 "nbformat_minor": 5
}
