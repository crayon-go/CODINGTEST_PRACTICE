{
 "cells": [
  {
   "cell_type": "code",
   "execution_count": 2,
   "id": "3d1aa104",
   "metadata": {},
   "outputs": [],
   "source": [
    "M = 2\n",
    "N = 2\n",
    "# 3"
   ]
  },
  {
   "cell_type": "code",
   "execution_count": null,
   "id": "317abeaf",
   "metadata": {},
   "outputs": [],
   "source": [
    "M = 2\n",
    "N = 5\n",
    "# 9"
   ]
  },
  {
   "cell_type": "code",
   "execution_count": null,
   "id": "121742ac",
   "metadata": {},
   "outputs": [],
   "source": [
    "M = 1\n",
    "N = 1\n",
    "# 0"
   ]
  },
  {
   "cell_type": "code",
   "execution_count": 3,
   "id": "3183d2f8",
   "metadata": {},
   "outputs": [
    {
     "data": {
      "text/plain": [
       "3"
      ]
     },
     "execution_count": 3,
     "metadata": {},
     "output_type": "execute_result"
    }
   ],
   "source": [
    "answer = 0\n",
    "M * N - 1"
   ]
  },
  {
   "cell_type": "code",
   "execution_count": 4,
   "id": "f0c55e19",
   "metadata": {},
   "outputs": [
    {
     "data": {
      "text/plain": [
       "3"
      ]
     },
     "execution_count": 4,
     "metadata": {},
     "output_type": "execute_result"
    }
   ],
   "source": [
    "answer = 0\n",
    "M,N = max(M,N), min(M,N)\n",
    "answer = (M-1) + (N-1)*M\n",
    "answer"
   ]
  },
  {
   "cell_type": "code",
   "execution_count": 5,
   "id": "ccdb5b91",
   "metadata": {},
   "outputs": [
    {
     "data": {
      "text/plain": [
       "3"
      ]
     },
     "execution_count": 5,
     "metadata": {},
     "output_type": "execute_result"
    }
   ],
   "source": [
    "def get_cut_cnt_dfs(width, height):\n",
    "    width, height = min(width, height), max(width, height)\n",
    "\n",
    "    if width == 1 and height == 1:\n",
    "        return 0\n",
    "\n",
    "    return 1 + get_cut_cnt_dfs(width, height//2) + get_cut_cnt_dfs(width, height-height//2)\n",
    "\n",
    "get_cut_cnt_dfs(M, N)"
   ]
  },
  {
   "cell_type": "code",
   "execution_count": null,
   "id": "ad061082",
   "metadata": {},
   "outputs": [],
   "source": []
  },
  {
   "cell_type": "code",
   "execution_count": null,
   "id": "8fb56675",
   "metadata": {},
   "outputs": [],
   "source": []
  },
  {
   "cell_type": "code",
   "execution_count": null,
   "id": "1e5a6a8b",
   "metadata": {},
   "outputs": [],
   "source": []
  },
  {
   "cell_type": "code",
   "execution_count": null,
   "id": "60ecf6dc",
   "metadata": {},
   "outputs": [],
   "source": []
  },
  {
   "cell_type": "code",
   "execution_count": null,
   "id": "d281529e",
   "metadata": {},
   "outputs": [],
   "source": []
  },
  {
   "cell_type": "code",
   "execution_count": null,
   "id": "bc06579a",
   "metadata": {},
   "outputs": [],
   "source": []
  }
 ],
 "metadata": {
  "kernelspec": {
   "display_name": "hackerrank",
   "language": "python",
   "name": "hackerrank"
  },
  "language_info": {
   "codemirror_mode": {
    "name": "ipython",
    "version": 3
   },
   "file_extension": ".py",
   "mimetype": "text/x-python",
   "name": "python",
   "nbconvert_exporter": "python",
   "pygments_lexer": "ipython3",
   "version": "3.9.12"
  }
 },
 "nbformat": 4,
 "nbformat_minor": 5
}
