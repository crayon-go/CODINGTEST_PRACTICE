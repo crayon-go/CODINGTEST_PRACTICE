{
 "cells": [
  {
   "cell_type": "markdown",
   "id": "0f9cd332",
   "metadata": {},
   "source": [
    "### Pilling Up!"
   ]
  },
  {
   "cell_type": "code",
   "execution_count": 1,
   "id": "c2269e58",
   "metadata": {},
   "outputs": [
    {
     "name": "stdout",
     "output_type": "stream",
     "text": [
      "2\n",
      "6\n",
      "4 3 2 1 3 4\n",
      "Yes\n",
      "3\n",
      "1 3 2\n",
      "No\n"
     ]
    }
   ],
   "source": [
    "for t in range(int(input())):\n",
    "    input()\n",
    "    lst = map(int, input().split())\n",
    "    lst = list(lst)\n",
    "    \n",
    "    l = len(lst)\n",
    "    i = 0\n",
    "    while i < l - 1 and lst[i] >= lst[i+1]:\n",
    "        i += 1\n",
    "    while i < l - 1 and lst[i] <= lst[i+1]:\n",
    "        i += 1\n",
    "    print (\"Yes\") if i == l - 1 else print(\"No\")\n"
   ]
  },
  {
   "cell_type": "code",
   "execution_count": null,
   "id": "5ec3d519",
   "metadata": {},
   "outputs": [],
   "source": []
  },
  {
   "cell_type": "code",
   "execution_count": null,
   "id": "90966306",
   "metadata": {},
   "outputs": [],
   "source": []
  },
  {
   "cell_type": "code",
   "execution_count": null,
   "id": "6601abfa",
   "metadata": {},
   "outputs": [],
   "source": []
  },
  {
   "cell_type": "code",
   "execution_count": 2,
   "id": "3a0d86cc",
   "metadata": {},
   "outputs": [],
   "source": [
    "from collections import deque\n"
   ]
  },
  {
   "cell_type": "code",
   "execution_count": 3,
   "id": "fb9d5168",
   "metadata": {},
   "outputs": [
    {
     "name": "stdout",
     "output_type": "stream",
     "text": [
      "2\n"
     ]
    }
   ],
   "source": [
    "N = int(input())"
   ]
  },
  {
   "cell_type": "code",
   "execution_count": 4,
   "id": "9c56493f",
   "metadata": {},
   "outputs": [
    {
     "name": "stdout",
     "output_type": "stream",
     "text": [
      "6\n",
      "4 3 2 1 3 4\n",
      "Yes\n",
      "3\n",
      "1 3 2\n",
      "No\n"
     ]
    }
   ],
   "source": [
    "\n",
    "\n",
    "for _ in range(N):\n",
    "    flag = True\n",
    "    input()\n",
    "    d = deque(map(int, input().strip().split()))\n",
    "    if(d[0] >= d[-1]):\n",
    "        max = d.popleft()\n",
    "    else:\n",
    "        max = d.pop()\n",
    "    while d:\n",
    "        if(len(d)==1):\n",
    "            if(d[0] <= max):\n",
    "                break\n",
    "            else:\n",
    "                flag = False\n",
    "                break\n",
    "        else:\n",
    "            if(d[0]<=max and d[-1]<=max):\n",
    "                if(d[0]>=d[-1]):\n",
    "                    max = d.popleft()\n",
    "                else:\n",
    "                    max = d.pop()\n",
    "            elif(d[0]<=max):\n",
    "                max = d.popleft()\n",
    "            elif(d[-1]<=max):\n",
    "                max = d.pop()\n",
    "            else:\n",
    "                flag = False\n",
    "                break\n",
    "    if flag:\n",
    "        print(\"Yes\")\n",
    "    else:\n",
    "        print(\"No\")"
   ]
  },
  {
   "cell_type": "code",
   "execution_count": null,
   "id": "1fbd1996",
   "metadata": {},
   "outputs": [],
   "source": []
  }
 ],
 "metadata": {
  "interpreter": {
   "hash": "0d4030c940aac7e5b831c89ee8b8cf0e7453aaa24bfefb88cac991514019afa7"
  },
  "kernelspec": {
   "display_name": "hackerrank",
   "language": "python",
   "name": "hackerrank"
  },
  "language_info": {
   "codemirror_mode": {
    "name": "ipython",
    "version": 3
   },
   "file_extension": ".py",
   "mimetype": "text/x-python",
   "name": "python",
   "nbconvert_exporter": "python",
   "pygments_lexer": "ipython3",
   "version": "3.8.13"
  }
 },
 "nbformat": 4,
 "nbformat_minor": 5
}
