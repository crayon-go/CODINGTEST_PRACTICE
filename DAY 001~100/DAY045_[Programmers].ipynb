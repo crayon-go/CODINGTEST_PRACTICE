{
 "cells": [
  {
   "cell_type": "code",
   "execution_count": 7,
   "id": "bfef9b47",
   "metadata": {},
   "outputs": [
    {
     "name": "stdout",
     "output_type": "stream",
     "text": [
      "[35, 35, 9, 67, 60]\n"
     ]
    }
   ],
   "source": [
    "mylist = [83, 48, 13, 4, 71, 11]\n",
    "output = []\n",
    "\n",
    "for i in range(len(mylist)-1):\n",
    "    output.append(abs(mylist[i] - mylist[i+1]))\n",
    "    \n",
    "print(output)"
   ]
  },
  {
   "cell_type": "code",
   "execution_count": 6,
   "id": "4acbb33a",
   "metadata": {},
   "outputs": [
    {
     "name": "stdout",
     "output_type": "stream",
     "text": [
      "[35, 35, 9, 67, 60]\n"
     ]
    }
   ],
   "source": [
    "def solution(mylist):\n",
    "    answer = []\n",
    "    for i in range(len(mylist)-1):\n",
    "        answer.append(abs(mylist[i] - mylist[i+1]))\n",
    "    return answer\n",
    "\n",
    "if __name__ == '__main__':\n",
    "    mylist = [83, 48, 13, 4, 71, 11]    \n",
    "    print(solution(mylist))"
   ]
  },
  {
   "cell_type": "code",
   "execution_count": 9,
   "id": "89996878",
   "metadata": {},
   "outputs": [
    {
     "name": "stdout",
     "output_type": "stream",
     "text": [
      "[35, 35, 9, 67, 60]\n"
     ]
    }
   ],
   "source": [
    "mylist = [83, 48, 13, 4, 71, 11]    \n",
    "answer = []\n",
    "for number1, number2 in zip(mylist, mylist[1:]):\n",
    "    answer.append(abs(number1 - number2))\n",
    "print(answer)"
   ]
  },
  {
   "cell_type": "code",
   "execution_count": 11,
   "id": "dc840416",
   "metadata": {},
   "outputs": [
    {
     "name": "stdout",
     "output_type": "stream",
     "text": [
      "83 48\n",
      "48 13\n",
      "13 4\n",
      "4 71\n",
      "71 11\n"
     ]
    }
   ],
   "source": [
    "mylist = [83, 48, 13, 4, 71, 11]\n",
    "for number1, number2 in zip(mylist, mylist[1:]):\n",
    "    print(number1, number2)"
   ]
  },
  {
   "cell_type": "code",
   "execution_count": 13,
   "id": "f63ead29",
   "metadata": {},
   "outputs": [
    {
     "name": "stdout",
     "output_type": "stream",
     "text": [
      "[1, 100, 33]\n"
     ]
    }
   ],
   "source": [
    "mylist = ['1', '100', '33']\n",
    "answer = []\n",
    "for i in mylist:\n",
    "    answer.append(int(i))\n",
    "print(answer)"
   ]
  },
  {
   "cell_type": "code",
   "execution_count": 16,
   "id": "1d0923b4",
   "metadata": {},
   "outputs": [
    {
     "name": "stdout",
     "output_type": "stream",
     "text": [
      "[1, 100, 33]\n"
     ]
    }
   ],
   "source": [
    "mylist = ['1', '100', '33']\n",
    "answer = list(map(int, mylist))\n",
    "print(answer)"
   ]
  },
  {
   "cell_type": "code",
   "execution_count": 21,
   "id": "c3dadd4f",
   "metadata": {},
   "outputs": [
    {
     "name": "stdout",
     "output_type": "stream",
     "text": [
      "[2, 2, 1]\n"
     ]
    }
   ],
   "source": [
    "mylist = [[1, 2], [3, 4], [5]]\n",
    "answer = list(map(len, mylist))\n",
    "print(answer)"
   ]
  },
  {
   "cell_type": "code",
   "execution_count": 25,
   "id": "7891aba8",
   "metadata": {},
   "outputs": [
    {
     "name": "stdout",
     "output_type": "stream",
     "text": [
      "110033\n"
     ]
    }
   ],
   "source": [
    "mylist = ['1', '100', '33']\n",
    "answer = ''\n",
    "for i in mylist:\n",
    "    answer += i\n",
    "print(answer)"
   ]
  },
  {
   "cell_type": "code",
   "execution_count": 27,
   "id": "983fe5af",
   "metadata": {},
   "outputs": [
    {
     "name": "stdout",
     "output_type": "stream",
     "text": [
      "110033\n"
     ]
    }
   ],
   "source": [
    "mylist = ['1', '100', '33']\n",
    "answer = ''.join(mylist)\n",
    "print(answer)"
   ]
  },
  {
   "cell_type": "code",
   "execution_count": null,
   "id": "71bf633c",
   "metadata": {},
   "outputs": [],
   "source": []
  }
 ],
 "metadata": {
  "kernelspec": {
   "display_name": "hackerrank",
   "language": "python",
   "name": "hackerrank"
  },
  "language_info": {
   "codemirror_mode": {
    "name": "ipython",
    "version": 3
   },
   "file_extension": ".py",
   "mimetype": "text/x-python",
   "name": "python",
   "nbconvert_exporter": "python",
   "pygments_lexer": "ipython3",
   "version": "3.9.12"
  }
 },
 "nbformat": 4,
 "nbformat_minor": 5
}
