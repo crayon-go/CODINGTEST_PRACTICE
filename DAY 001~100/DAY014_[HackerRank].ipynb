{
 "cells": [
  {
   "cell_type": "markdown",
   "id": "5e35e864",
   "metadata": {},
   "source": [
    "## Write a function"
   ]
  },
  {
   "cell_type": "code",
   "execution_count": null,
   "id": "f332458b",
   "metadata": {},
   "outputs": [],
   "source": [
    "# The year can be evenly divided by 4, is a leap year, unless:\n",
    "# The year can be evenly divided by 100, it is NOT a leap year, unless\n",
    "# The year is also evenly divisible by 400. Then it is a leap year."
   ]
  },
  {
   "cell_type": "code",
   "execution_count": 8,
   "id": "5514f002",
   "metadata": {},
   "outputs": [],
   "source": [
    "def is_leap(year):\n",
    "    leap = False\n",
    "    \n",
    "    if year % 4 == 0:\n",
    "        if (year % 400) == 0 or (year % 100) != 0:\n",
    "            return True\n",
    "    return leap"
   ]
  },
  {
   "cell_type": "code",
   "execution_count": 1,
   "id": "7f6f1d78",
   "metadata": {},
   "outputs": [],
   "source": [
    "def is_leap(year):\n",
    "    return year % 4 == 0 and (year % 400 == 0 or year % 100 != 0)"
   ]
  },
  {
   "cell_type": "markdown",
   "id": "fdc39e9d",
   "metadata": {},
   "source": [
    "## The Minion Game"
   ]
  },
  {
   "cell_type": "code",
   "execution_count": null,
   "id": "c6a84693",
   "metadata": {},
   "outputs": [],
   "source": [
    "# Stuart has to make words starting with consonants.\n",
    "# Kevin has to make words starting with vowels.\n",
    "# BANANA"
   ]
  },
  {
   "cell_type": "code",
   "execution_count": 12,
   "id": "2eace15b",
   "metadata": {},
   "outputs": [],
   "source": [
    "string = 'BANANA'\n",
    "vowels = 'AEIOU'\n",
    "\n",
    "kevsc = 0\n",
    "stusc = 0"
   ]
  },
  {
   "cell_type": "code",
   "execution_count": 17,
   "id": "241ac9f9",
   "metadata": {},
   "outputs": [],
   "source": [
    "for i in range(len(s)):\n",
    "    if s[i] in vowels:\n",
    "        kevsc += (len(s)-i)\n",
    "    else:\n",
    "        stusc += (len(s)-i)"
   ]
  },
  {
   "cell_type": "code",
   "execution_count": 7,
   "id": "1af4144f",
   "metadata": {},
   "outputs": [
    {
     "name": "stdout",
     "output_type": "stream",
     "text": [
      "Stuart 12\n"
     ]
    }
   ],
   "source": [
    "if kevsc > stusc:\n",
    "    print(\"Kevin\", kevsc)\n",
    "elif kevsc < stusc:\n",
    "    print(\"Stuart\", stusc)\n",
    "else:\n",
    "    print(\"Draw\")"
   ]
  },
  {
   "cell_type": "code",
   "execution_count": null,
   "id": "a4baeb10",
   "metadata": {},
   "outputs": [],
   "source": [
    "def minion_game(string):\n",
    "    # your code goes here"
   ]
  },
  {
   "cell_type": "code",
   "execution_count": null,
   "id": "368ea8ce",
   "metadata": {},
   "outputs": [],
   "source": [
    "if __name__ == '__main__':\n",
    "    s = input()\n",
    "    minion_game(s)"
   ]
  },
  {
   "cell_type": "markdown",
   "id": "5dad38d2",
   "metadata": {},
   "source": [
    "## Merge the Tools!"
   ]
  },
  {
   "cell_type": "code",
   "execution_count": 6,
   "id": "ebbe527b",
   "metadata": {},
   "outputs": [],
   "source": [
    "# AABCAAADA 3"
   ]
  },
  {
   "cell_type": "code",
   "execution_count": 3,
   "id": "de32816a",
   "metadata": {},
   "outputs": [],
   "source": [
    "def merge_the_tools(string, k):\n",
    "    for part in zip(*[iter(string)] * k):\n",
    "        d = dict()\n",
    "        print(''.join([ d.setdefault(c, c) for c in part if c not in d ]))"
   ]
  },
  {
   "cell_type": "code",
   "execution_count": 5,
   "id": "cf3cae5b",
   "metadata": {},
   "outputs": [
    {
     "name": "stdout",
     "output_type": "stream",
     "text": [
      "AABCAAADA\n",
      "3\n",
      "AB\n",
      "CA\n",
      "AD\n"
     ]
    }
   ],
   "source": [
    "if __name__ == '__main__':\n",
    "    string, k = input(), int(input())\n",
    "    merge_the_tools(string, k)"
   ]
  }
 ],
 "metadata": {
  "kernelspec": {
   "display_name": "hackerrank",
   "language": "python",
   "name": "hackerrank"
  },
  "language_info": {
   "codemirror_mode": {
    "name": "ipython",
    "version": 3
   },
   "file_extension": ".py",
   "mimetype": "text/x-python",
   "name": "python",
   "nbconvert_exporter": "python",
   "pygments_lexer": "ipython3",
   "version": "3.8.13"
  }
 },
 "nbformat": 4,
 "nbformat_minor": 5
}
