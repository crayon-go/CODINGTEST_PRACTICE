{
 "cells": [
  {
   "cell_type": "code",
   "execution_count": 25,
   "id": "0f316dc5",
   "metadata": {},
   "outputs": [
    {
     "name": "stdout",
     "output_type": "stream",
     "text": [
      "====================================\n",
      "[[1, 4, 7], [2, 5, 8], [3, 6, 9]]\n"
     ]
    }
   ],
   "source": [
    "mylist = [[1, 2, 3], [4, 5, 6], [7, 8, 9]]\n",
    "result_list = []\n",
    "\n",
    "n_cnt = 0\n",
    "\n",
    "for i in range(len(mylist)):\n",
    "    result_list.append([])\n",
    "    for j in range(len(mylist)):\n",
    "        result_list[i].append(mylist[j][n_cnt])\n",
    "    n_cnt += 1\n",
    "\n",
    "print(\"====================================\")\n",
    "print(result_list)"
   ]
  },
  {
   "cell_type": "code",
   "execution_count": 2,
   "id": "830790d3",
   "metadata": {},
   "outputs": [
    {
     "name": "stdout",
     "output_type": "stream",
     "text": [
      "0\n",
      "1\n",
      "2\n",
      "0\n",
      "1\n",
      "2\n",
      "0\n",
      "1\n",
      "2\n"
     ]
    }
   ],
   "source": [
    "mylist = [[1, 2, 3], [4, 5, 6], [7, 8, 9]]\n",
    "new_list = [[], [], []]\n",
    "\n",
    "for i in range(len(mylist)):\n",
    "    for j in range(len(mylist[i])):\n",
    "        new_list[i].append(mylist[j][i])"
   ]
  },
  {
   "cell_type": "code",
   "execution_count": 21,
   "id": "54c71fc5",
   "metadata": {},
   "outputs": [
    {
     "data": {
      "text/plain": [
       "[[1, 4, 7], [2, 5, 8], [3, 6, 9]]"
      ]
     },
     "execution_count": 21,
     "metadata": {},
     "output_type": "execute_result"
    }
   ],
   "source": [
    "mylist = [[1, 2, 3], [4, 5, 6], [7, 8, 9]]\n",
    "\n",
    "new_list = list(map(list, zip(*mylist)))\n",
    "new_list"
   ]
  },
  {
   "cell_type": "code",
   "execution_count": 34,
   "id": "b1588280",
   "metadata": {},
   "outputs": [
    {
     "name": "stdout",
     "output_type": "stream",
     "text": [
      "(1, 40)\n",
      "(2, 50)\n",
      "(3, 60)\n",
      "(4, 70)\n"
     ]
    }
   ],
   "source": [
    "mylist = [1, 2, 3, 4]\n",
    "new_list = [40, 50, 60, 70]\n",
    "for i in zip(mylist, new_list):\n",
    "    print (i)\n"
   ]
  },
  {
   "cell_type": "code",
   "execution_count": 35,
   "id": "14828593",
   "metadata": {},
   "outputs": [
    {
     "name": "stdout",
     "output_type": "stream",
     "text": [
      "493\n",
      "124\n",
      "66\n",
      "305\n"
     ]
    }
   ],
   "source": [
    "list1 = [1, 2, 3, 4]\n",
    "list2 = [100, 120, 30, 300]\n",
    "list3 = [392, 2, 33, 1]\n",
    "answer = []\n",
    "\n",
    "for number1, number2, number3 in zip(list1, list2, list3):\n",
    "    print(number1 + number2 + number3)"
   ]
  },
  {
   "cell_type": "code",
   "execution_count": 48,
   "id": "b20765b3",
   "metadata": {},
   "outputs": [
    {
     "data": {
      "text/plain": [
       "{'cat': 'meow', 'dog': 'woof', 'lion': 'roar'}"
      ]
     },
     "execution_count": 48,
     "metadata": {},
     "output_type": "execute_result"
    }
   ],
   "source": [
    "animals = ['cat', 'dog', 'lion']\n",
    "sounds = ['meow', 'woof', 'roar']\n",
    "\n",
    "answer = dict(zip(animals, sounds))\n",
    "answer"
   ]
  },
  {
   "cell_type": "code",
   "execution_count": null,
   "id": "68fd389f",
   "metadata": {},
   "outputs": [],
   "source": []
  },
  {
   "cell_type": "code",
   "execution_count": null,
   "id": "e4513f0b",
   "metadata": {},
   "outputs": [],
   "source": []
  },
  {
   "cell_type": "code",
   "execution_count": null,
   "id": "c3dadd4f",
   "metadata": {},
   "outputs": [],
   "source": []
  }
 ],
 "metadata": {
  "kernelspec": {
   "display_name": "hackerrank",
   "language": "python",
   "name": "hackerrank"
  },
  "language_info": {
   "codemirror_mode": {
    "name": "ipython",
    "version": 3
   },
   "file_extension": ".py",
   "mimetype": "text/x-python",
   "name": "python",
   "nbconvert_exporter": "python",
   "pygments_lexer": "ipython3",
   "version": "3.9.12"
  }
 },
 "nbformat": 4,
 "nbformat_minor": 5
}
