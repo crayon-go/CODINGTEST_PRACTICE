{
 "cells": [
  {
   "cell_type": "code",
   "execution_count": 10,
   "id": "92decf97",
   "metadata": {},
   "outputs": [
    {
     "name": "stdout",
     "output_type": "stream",
     "text": [
      "7 5\n",
      "1 2\n"
     ]
    }
   ],
   "source": [
    "a, b = map(int, input().strip().split(' '))\n",
    "print(a//b, a%b)"
   ]
  },
  {
   "cell_type": "code",
   "execution_count": 12,
   "id": "d7bf8575",
   "metadata": {},
   "outputs": [
    {
     "name": "stdout",
     "output_type": "stream",
     "text": [
      "1 2\n"
     ]
    }
   ],
   "source": [
    "a=7\n",
    "b=5\n",
    "print(*divmod(a, b))"
   ]
  },
  {
   "cell_type": "code",
   "execution_count": null,
   "id": "909d6426",
   "metadata": {},
   "outputs": [],
   "source": [
    "list(map(len, mylist))\n",
    "print(*divmod(a, b))\n"
   ]
  },
  {
   "cell_type": "markdown",
   "id": "7d115ecf",
   "metadata": {},
   "source": [
    "#### ------------------------------------------"
   ]
  },
  {
   "cell_type": "code",
   "execution_count": null,
   "id": "a9e944e3",
   "metadata": {},
   "outputs": [],
   "source": [
    "print(int('111',2))\n",
    "print(int('222',3))\n",
    "print(int('333',4))\n",
    "print(int('444',5))\n",
    "print(int('555',6))\n",
    "print(int('FFF',16))"
   ]
  },
  {
   "cell_type": "code",
   "execution_count": 29,
   "id": "711b64ec",
   "metadata": {},
   "outputs": [
    {
     "name": "stdout",
     "output_type": "stream",
     "text": [
      "0 4\n",
      "1 4\n",
      "2 4\n",
      "----------\n",
      "124\n"
     ]
    }
   ],
   "source": [
    "num = 444\n",
    "base = 5\n",
    "str_num = str(num)\n",
    "\n",
    "n_sum = 0\n",
    "\n",
    "for n, i in enumerate(str_num[::-1]):\n",
    "    print(n, i)\n",
    "    i = int(i)\n",
    "    if n == 0:\n",
    "        n_sum += i\n",
    "    else:\n",
    "        tmp_sum = i\n",
    "        for j in range(n):\n",
    "            tmp_sum *= base\n",
    "        n_sum += tmp_sum\n",
    "print(\"----------\")\n",
    "print(n_sum)"
   ]
  },
  {
   "cell_type": "code",
   "execution_count": 38,
   "id": "36fc1037",
   "metadata": {},
   "outputs": [
    {
     "name": "stdout",
     "output_type": "stream",
     "text": [
      "0 4\n",
      "4\n",
      "1 4\n",
      "24\n",
      "2 4\n",
      "124\n",
      "-------\n",
      "124\n"
     ]
    }
   ],
   "source": [
    "num = 444\n",
    "base = 5\n",
    "\n",
    "str_num = str(num)\n",
    "answer = 0\n",
    "\n",
    "for n, i in enumerate(str_num[::-1]):\n",
    "    print(n, i)\n",
    "    answer += int(i) * (base ** n)\n",
    "    print(answer)\n",
    "\n",
    "print(\"-------\")\n",
    "print(answer)"
   ]
  },
  {
   "cell_type": "code",
   "execution_count": null,
   "id": "f2239647",
   "metadata": {},
   "outputs": [],
   "source": []
  },
  {
   "cell_type": "code",
   "execution_count": null,
   "id": "59b883a7",
   "metadata": {},
   "outputs": [],
   "source": []
  },
  {
   "cell_type": "code",
   "execution_count": null,
   "id": "163f1a80",
   "metadata": {},
   "outputs": [],
   "source": []
  },
  {
   "cell_type": "code",
   "execution_count": null,
   "id": "00da143a",
   "metadata": {},
   "outputs": [],
   "source": []
  },
  {
   "cell_type": "code",
   "execution_count": null,
   "id": "27813761",
   "metadata": {},
   "outputs": [],
   "source": []
  }
 ],
 "metadata": {
  "interpreter": {
   "hash": "0d4030c940aac7e5b831c89ee8b8cf0e7453aaa24bfefb88cac991514019afa7"
  },
  "kernelspec": {
   "display_name": "hackerrank",
   "language": "python",
   "name": "hackerrank"
  },
  "language_info": {
   "codemirror_mode": {
    "name": "ipython",
    "version": 3
   },
   "file_extension": ".py",
   "mimetype": "text/x-python",
   "name": "python",
   "nbconvert_exporter": "python",
   "pygments_lexer": "ipython3",
   "version": "3.9.12"
  }
 },
 "nbformat": 4,
 "nbformat_minor": 5
}
