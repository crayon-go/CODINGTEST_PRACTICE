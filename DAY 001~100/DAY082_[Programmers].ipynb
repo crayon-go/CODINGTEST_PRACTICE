{
 "cells": [
  {
   "cell_type": "code",
   "execution_count": 72,
   "id": "03c6a834",
   "metadata": {},
   "outputs": [],
   "source": [
    "numbers = [1, 2, 3]\n",
    "direction = \"right\""
   ]
  },
  {
   "cell_type": "code",
   "execution_count": 74,
   "id": "f850df0e",
   "metadata": {},
   "outputs": [],
   "source": [
    "numbers = [4, 455, 6, 4, -1, 45, 6]\n",
    "direction = \"left\""
   ]
  },
  {
   "cell_type": "code",
   "execution_count": null,
   "id": "88c40b0d",
   "metadata": {},
   "outputs": [],
   "source": [
    "[3, 1, 2]\n",
    "[455, 6, 4, -1, 45, 6, 4]"
   ]
  },
  {
   "cell_type": "code",
   "execution_count": 75,
   "id": "122f2733",
   "metadata": {},
   "outputs": [
    {
     "data": {
      "text/plain": [
       "[455, 6, 4, -1, 45, 4]"
      ]
     },
     "execution_count": 75,
     "metadata": {},
     "output_type": "execute_result"
    }
   ],
   "source": [
    "answer = []\n",
    "\n",
    "if direction == \"right\":\n",
    "    for i in numbers:\n",
    "        answer = [numbers[-1]] + numbers[0:-1]\n",
    "elif direction == \"left\":\n",
    "        answer = numbers[1:-1] + [numbers[0]]\n",
    "answer"
   ]
  },
  {
   "cell_type": "code",
   "execution_count": 80,
   "id": "50133a77",
   "metadata": {},
   "outputs": [
    {
     "data": {
      "text/plain": [
       "[455, 6, 4, -1, 45, 6, 4]"
      ]
     },
     "execution_count": 80,
     "metadata": {},
     "output_type": "execute_result"
    }
   ],
   "source": [
    "[numbers[-1]] + numbers[:-1] if direction == 'right' else numbers[1:] + [numbers[0]]"
   ]
  },
  {
   "cell_type": "code",
   "execution_count": null,
   "id": "9cff2213",
   "metadata": {},
   "outputs": [],
   "source": []
  },
  {
   "cell_type": "code",
   "execution_count": null,
   "id": "d0f791f1",
   "metadata": {},
   "outputs": [],
   "source": []
  },
  {
   "cell_type": "code",
   "execution_count": null,
   "id": "e3b58bdc",
   "metadata": {},
   "outputs": [],
   "source": []
  }
 ],
 "metadata": {
  "kernelspec": {
   "display_name": "hackerrank",
   "language": "python",
   "name": "hackerrank"
  },
  "language_info": {
   "codemirror_mode": {
    "name": "ipython",
    "version": 3
   },
   "file_extension": ".py",
   "mimetype": "text/x-python",
   "name": "python",
   "nbconvert_exporter": "python",
   "pygments_lexer": "ipython3",
   "version": "3.9.12"
  }
 },
 "nbformat": 4,
 "nbformat_minor": 5
}
