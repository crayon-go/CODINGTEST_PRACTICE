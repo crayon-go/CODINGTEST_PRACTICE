{
 "cells": [
  {
   "cell_type": "code",
   "execution_count": 1,
   "id": "655fbe5a",
   "metadata": {},
   "outputs": [],
   "source": [
    "i = 1\n",
    "j = 13\n",
    "k = 1"
   ]
  },
  {
   "cell_type": "code",
   "execution_count": 19,
   "id": "392b4eff",
   "metadata": {},
   "outputs": [],
   "source": [
    "answer = 0\n",
    "for a in range(i, j+1):\n",
    "    answer += str(a).count(str(k))\n",
    "#     for b in str(a):\n",
    "#         if str(k) == b:\n",
    "#             answer += 1"
   ]
  },
  {
   "cell_type": "code",
   "execution_count": 20,
   "id": "4cd4d29a",
   "metadata": {},
   "outputs": [
    {
     "data": {
      "text/plain": [
       "6"
      ]
     },
     "execution_count": 20,
     "metadata": {},
     "output_type": "execute_result"
    }
   ],
   "source": [
    "answer"
   ]
  },
  {
   "cell_type": "code",
   "execution_count": 24,
   "id": "aaf3852e",
   "metadata": {},
   "outputs": [
    {
     "data": {
      "text/plain": [
       "6"
      ]
     },
     "execution_count": 24,
     "metadata": {},
     "output_type": "execute_result"
    }
   ],
   "source": [
    "answer = 0\n",
    "sum([str(a).count(str(k)) for a in range(i, j+1)])"
   ]
  },
  {
   "cell_type": "code",
   "execution_count": null,
   "id": "d21b49d9",
   "metadata": {},
   "outputs": [],
   "source": []
  },
  {
   "cell_type": "code",
   "execution_count": 85,
   "id": "769faded",
   "metadata": {},
   "outputs": [],
   "source": [
    "array = [3, 10, 28]\n",
    "n = 20\n",
    "# array = [10, 11, 12]\n",
    "# n = 13"
   ]
  },
  {
   "cell_type": "code",
   "execution_count": 75,
   "id": "20c694f4",
   "metadata": {},
   "outputs": [
    {
     "data": {
      "text/plain": [
       "28"
      ]
     },
     "execution_count": 75,
     "metadata": {},
     "output_type": "execute_result"
    }
   ],
   "source": [
    "array2 = [abs(i-n) for i in array]\n",
    "array[array2.index(min(array2))]"
   ]
  },
  {
   "cell_type": "code",
   "execution_count": 90,
   "id": "f9ccc8d0",
   "metadata": {},
   "outputs": [
    {
     "data": {
      "text/plain": [
       "28"
      ]
     },
     "execution_count": 90,
     "metadata": {},
     "output_type": "execute_result"
    }
   ],
   "source": [
    "array[sorted([[index, abs(n-num), num] for index, num in enumerate(array)], key=lambda x: (x[1], x[-1]))[0][0]]"
   ]
  },
  {
   "cell_type": "code",
   "execution_count": 94,
   "id": "0be38c65",
   "metadata": {},
   "outputs": [
    {
     "data": {
      "text/plain": [
       "28"
      ]
     },
     "execution_count": 94,
     "metadata": {},
     "output_type": "execute_result"
    }
   ],
   "source": [
    "solution=lambda a,n:sorted(a,key=lambda x:(abs(x-n),x))[0]\n",
    "solution(array, n)"
   ]
  },
  {
   "cell_type": "code",
   "execution_count": 95,
   "id": "4690915b",
   "metadata": {},
   "outputs": [
    {
     "data": {
      "text/plain": [
       "28"
      ]
     },
     "execution_count": 95,
     "metadata": {},
     "output_type": "execute_result"
    }
   ],
   "source": [
    "array.sort(key = lambda x : (abs(x-n), x-n))\n",
    "answer = array[0]\n",
    "answer"
   ]
  },
  {
   "cell_type": "code",
   "execution_count": 96,
   "id": "df265246",
   "metadata": {},
   "outputs": [
    {
     "data": {
      "text/plain": [
       "28"
      ]
     },
     "execution_count": 96,
     "metadata": {},
     "output_type": "execute_result"
    }
   ],
   "source": [
    "arr = {i:abs(n-i) for i in array}\n",
    "sorted(arr.items(),key=lambda x: [x[1],x[0]])[0][0]"
   ]
  },
  {
   "cell_type": "code",
   "execution_count": null,
   "id": "c06c3756",
   "metadata": {},
   "outputs": [],
   "source": []
  },
  {
   "cell_type": "code",
   "execution_count": null,
   "id": "a74a8b80",
   "metadata": {},
   "outputs": [],
   "source": []
  },
  {
   "cell_type": "code",
   "execution_count": null,
   "id": "f04173a4",
   "metadata": {},
   "outputs": [],
   "source": []
  },
  {
   "cell_type": "code",
   "execution_count": null,
   "id": "e3b58bdc",
   "metadata": {},
   "outputs": [],
   "source": []
  }
 ],
 "metadata": {
  "kernelspec": {
   "display_name": "hackerrank",
   "language": "python",
   "name": "hackerrank"
  },
  "language_info": {
   "codemirror_mode": {
    "name": "ipython",
    "version": 3
   },
   "file_extension": ".py",
   "mimetype": "text/x-python",
   "name": "python",
   "nbconvert_exporter": "python",
   "pygments_lexer": "ipython3",
   "version": "3.9.12"
  }
 },
 "nbformat": 4,
 "nbformat_minor": 5
}
