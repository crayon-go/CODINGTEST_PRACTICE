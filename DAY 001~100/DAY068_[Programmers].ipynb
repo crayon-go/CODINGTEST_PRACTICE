{
 "cells": [
  {
   "cell_type": "code",
   "execution_count": 1,
   "id": "b7ef98ce",
   "metadata": {},
   "outputs": [],
   "source": [
    "# 1시간에 두배 증식\n",
    "# 처음 세균의 말수 n\n",
    "# 경과한 시간 t"
   ]
  },
  {
   "cell_type": "code",
   "execution_count": 5,
   "id": "e00b09eb",
   "metadata": {},
   "outputs": [],
   "source": [
    "n = 7\n",
    "t = 15"
   ]
  },
  {
   "cell_type": "code",
   "execution_count": 13,
   "id": "795f22d8",
   "metadata": {},
   "outputs": [
    {
     "name": "stdout",
     "output_type": "stream",
     "text": [
      "229376\n"
     ]
    }
   ],
   "source": [
    "n_sum = n\n",
    "for i in range(t):\n",
    "    n_sum = n_sum * 2\n",
    "print(n_sum)"
   ]
  },
  {
   "cell_type": "code",
   "execution_count": 14,
   "id": "2170b0a3",
   "metadata": {},
   "outputs": [
    {
     "data": {
      "text/plain": [
       "229376"
      ]
     },
     "execution_count": 14,
     "metadata": {},
     "output_type": "execute_result"
    }
   ],
   "source": [
    "n << t"
   ]
  },
  {
   "cell_type": "code",
   "execution_count": 15,
   "id": "a72de058",
   "metadata": {},
   "outputs": [
    {
     "data": {
      "text/plain": [
       "229376"
      ]
     },
     "execution_count": 15,
     "metadata": {},
     "output_type": "execute_result"
    }
   ],
   "source": [
    "2 ** t * n"
   ]
  },
  {
   "cell_type": "code",
   "execution_count": null,
   "id": "db94e219",
   "metadata": {},
   "outputs": [],
   "source": []
  },
  {
   "cell_type": "code",
   "execution_count": null,
   "id": "c5c82174",
   "metadata": {},
   "outputs": [],
   "source": []
  },
  {
   "cell_type": "code",
   "execution_count": null,
   "id": "eb6e1f5b",
   "metadata": {},
   "outputs": [],
   "source": []
  },
  {
   "cell_type": "code",
   "execution_count": null,
   "id": "10ef0aea",
   "metadata": {},
   "outputs": [],
   "source": []
  },
  {
   "cell_type": "code",
   "execution_count": null,
   "id": "7390c82d",
   "metadata": {},
   "outputs": [],
   "source": []
  }
 ],
 "metadata": {
  "kernelspec": {
   "display_name": "hackerrank",
   "language": "python",
   "name": "hackerrank"
  },
  "language_info": {
   "codemirror_mode": {
    "name": "ipython",
    "version": 3
   },
   "file_extension": ".py",
   "mimetype": "text/x-python",
   "name": "python",
   "nbconvert_exporter": "python",
   "pygments_lexer": "ipython3",
   "version": "3.9.12"
  }
 },
 "nbformat": 4,
 "nbformat_minor": 5
}
