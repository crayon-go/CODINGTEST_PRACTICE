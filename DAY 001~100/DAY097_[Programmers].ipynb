{
 "cells": [
  {
   "cell_type": "code",
   "execution_count": 160,
   "id": "35065f6c",
   "metadata": {},
   "outputs": [],
   "source": [
    "keyinput= [\"left\", \"right\", \"up\", \"right\", \"right\"]\n",
    "board = [11, 11]\n",
    "# [2, 1]"
   ]
  },
  {
   "cell_type": "code",
   "execution_count": 165,
   "id": "cdf3a232",
   "metadata": {},
   "outputs": [],
   "source": [
    "keyinput = [\"down\", \"down\", \"down\", \"down\", \"down\"]\n",
    "board = [7, 9]\n",
    "# [0, -4]"
   ]
  },
  {
   "cell_type": "code",
   "execution_count": 182,
   "id": "f3717931",
   "metadata": {},
   "outputs": [],
   "source": [
    "keyinput = [\"down\", \"down\", \"up\", \"up\", \"up\"]\n",
    "board = [3, 3]\n",
    "# [0, 1]"
   ]
  },
  {
   "cell_type": "code",
   "execution_count": 177,
   "id": "dcd44178",
   "metadata": {},
   "outputs": [],
   "source": [
    "keyinput = [\"left\", \"left\", \"left\", \"right\"]\n",
    "board = [3, 3]\n",
    "# 기대값 : [0, 0]"
   ]
  },
  {
   "cell_type": "code",
   "execution_count": null,
   "id": "799a278b",
   "metadata": {},
   "outputs": [],
   "source": []
  },
  {
   "cell_type": "code",
   "execution_count": 185,
   "id": "bd3b0c25",
   "metadata": {},
   "outputs": [
    {
     "data": {
      "text/plain": [
       "[0, 1]"
      ]
     },
     "execution_count": 185,
     "metadata": {},
     "output_type": "execute_result"
    }
   ],
   "source": [
    "col = board[0]\n",
    "row = board[1]\n",
    "result = [0, 0]\n",
    "for i in keyinput:\n",
    "    if i == \"left\" and result[0]-1 >= -(col // 2):\n",
    "        result[0] -= 1\n",
    "    elif i == \"right\" and result[0]+1 <= (col // 2):\n",
    "        result[0] += 1\n",
    "    elif i == \"up\" and result[1]+1 <= (row // 2):\n",
    "        result[1] += 1\n",
    "    elif i == \"down\" and result[1]-1 >= -(row // 2):\n",
    "        result[1] -= 1\n",
    "result"
   ]
  },
  {
   "cell_type": "code",
   "execution_count": null,
   "id": "3e6911da",
   "metadata": {},
   "outputs": [],
   "source": []
  },
  {
   "cell_type": "code",
   "execution_count": null,
   "id": "8caec457",
   "metadata": {},
   "outputs": [],
   "source": []
  }
 ],
 "metadata": {
  "kernelspec": {
   "display_name": "hackerrank",
   "language": "python",
   "name": "hackerrank"
  },
  "language_info": {
   "codemirror_mode": {
    "name": "ipython",
    "version": 3
   },
   "file_extension": ".py",
   "mimetype": "text/x-python",
   "name": "python",
   "nbconvert_exporter": "python",
   "pygments_lexer": "ipython3",
   "version": "3.9.12"
  }
 },
 "nbformat": 4,
 "nbformat_minor": 5
}
