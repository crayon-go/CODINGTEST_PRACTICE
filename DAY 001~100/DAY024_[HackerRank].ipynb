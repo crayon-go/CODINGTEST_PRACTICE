{
 "cells": [
  {
   "cell_type": "code",
   "execution_count": 1,
   "id": "306f4c74",
   "metadata": {},
   "outputs": [],
   "source": [
    "#!/bin/python3\n",
    "\n",
    "import math\n",
    "import os\n",
    "import random\n",
    "import re\n",
    "import sys"
   ]
  },
  {
   "cell_type": "code",
   "execution_count": 2,
   "id": "ce307bfa",
   "metadata": {},
   "outputs": [],
   "source": [
    "grid = [[ 0, 0 ],\n",
    "        [ 0, 0 ]]"
   ]
  },
  {
   "cell_type": "code",
   "execution_count": 2,
   "id": "b6b2f649",
   "metadata": {},
   "outputs": [],
   "source": [
    "grid = [[1, 1, 1], \n",
    "        [1, 0, 1],\n",
    "        [1, 1, 1]]"
   ]
  },
  {
   "cell_type": "code",
   "execution_count": 11,
   "id": "9ad0b77d",
   "metadata": {},
   "outputs": [],
   "source": [
    "grid = [[ 0, 0, 0 ],\n",
    "        [ 0, 1, 0 ],\n",
    "        [ 0, 0, 0 ]]"
   ]
  },
  {
   "cell_type": "code",
   "execution_count": 5,
   "id": "e0c8c3bf",
   "metadata": {},
   "outputs": [],
   "source": [
    "grid = [[ 0, 0, 0, 0 ],\n",
    "        [ 0, 0, 0, 0 ],\n",
    "        [ 0, 0, 0, 0 ]]"
   ]
  },
  {
   "cell_type": "code",
   "execution_count": 5,
   "id": "3c094e3e",
   "metadata": {},
   "outputs": [],
   "source": [
    "grid = [[ 0, 0 ],\n",
    "        [ 1, 0 ]]"
   ]
  },
  {
   "cell_type": "code",
   "execution_count": 6,
   "id": "2917e383",
   "metadata": {},
   "outputs": [
    {
     "name": "stdout",
     "output_type": "stream",
     "text": [
      "3 4\n",
      "10\n"
     ]
    }
   ],
   "source": [
    "def UniquePathHelper(i, j, row, column, A):\n",
    "   \n",
    "    # boundary condition or constraints\n",
    "    if(i == row or j == column):\n",
    "        return 0\n",
    "     \n",
    "    if(A[i][j] == 1):\n",
    "        return 0\n",
    "     \n",
    "    # base case\n",
    "    if(i == row - 1 and j == column - 1):\n",
    "        return 1\n",
    " \n",
    "    return  UniquePathHelper(i+1, j, row, column, A) + UniquePathHelper(i, j+1, row, column, A)\n",
    " \n",
    "def uniquePathsWithObstacles(A):\n",
    "    row, column = len(A), len(A[0])\n",
    "    print(row, column)\n",
    "     \n",
    "    return UniquePathHelper(0, 0, row, column, A)\n",
    " \n",
    "\n",
    "print(uniquePathsWithObstacles(grid))                                          \n"
   ]
  },
  {
   "cell_type": "code",
   "execution_count": null,
   "id": "7a96fdd5",
   "metadata": {},
   "outputs": [],
   "source": []
  },
  {
   "cell_type": "code",
   "execution_count": null,
   "id": "18dbf17b",
   "metadata": {},
   "outputs": [],
   "source": []
  },
  {
   "cell_type": "code",
   "execution_count": null,
   "id": "459c1f9d",
   "metadata": {},
   "outputs": [],
   "source": []
  },
  {
   "cell_type": "code",
   "execution_count": null,
   "id": "9f68dfd7",
   "metadata": {},
   "outputs": [],
   "source": []
  },
  {
   "cell_type": "code",
   "execution_count": null,
   "id": "775ee908",
   "metadata": {},
   "outputs": [],
   "source": []
  },
  {
   "cell_type": "code",
   "execution_count": null,
   "id": "a634d91d",
   "metadata": {},
   "outputs": [],
   "source": [
    "from collections import defaultdict\n",
    "\n",
    "idx_dict = defaultdict(list)\n",
    "\n",
    "for idx, value in enumerate(arr):\n",
    "    idx_dict[value].append(idx+1)"
   ]
  },
  {
   "cell_type": "code",
   "execution_count": 2,
   "id": "83a47da5",
   "metadata": {},
   "outputs": [],
   "source": [
    "# Sample 1.\n",
    "X = 8\n",
    "arr = [ 1, 2, 20, 8, 8, 1, 2, 5, 8, 0 ]\n",
    "indexes = [ 100, 2, 1, 3, 4 ]\n",
    "# 결과 ==> [-1, 5, 4, 9, -1]"
   ]
  },
  {
   "cell_type": "code",
   "execution_count": null,
   "id": "e3cf3706",
   "metadata": {},
   "outputs": [],
   "source": [
    "# Sample 2.\n",
    "X = 9\n",
    "arr = [ 9, 8, 9, 9 ]\n",
    "indexes = [ 7, 3, 7, 6 ]\n",
    "# 결과 ==> [-1, 4, -1, -1]"
   ]
  },
  {
   "cell_type": "code",
   "execution_count": 7,
   "id": "1e5a61b4",
   "metadata": {},
   "outputs": [
    {
     "name": "stdout",
     "output_type": "stream",
     "text": [
      "----------------\n",
      "idx:100\n",
      "-1\n",
      "----------------\n",
      "idx:2\n",
      "5\n",
      "----------------\n",
      "idx:1\n",
      "4\n",
      "----------------\n",
      "idx:3\n",
      "9\n",
      "----------------\n",
      "idx:4\n",
      "-1\n"
     ]
    }
   ],
   "source": [
    "li = []    # 리턴 결과 리스트\n",
    "len_arr = len(arr)\n",
    "\n",
    "for idx in indexes:    # indexes 전체 반복,  [ 100, 2, 1, 3, 4 ]\n",
    "    print(\"----------------\")\n",
    "    print('idx:{}'.format(idx))\n",
    "\n",
    "    n_cnt = 0\n",
    "    if idx > len_arr:    # 배열 크기 넘어가는 경우: -1\n",
    "        li.append(-1)\n",
    "        print(\"-1\")\n",
    "    elif idx > len(idx_dict[X]):\n",
    "        li.append(-1)\n",
    "        print(\"-1\")\n",
    "    else:\n",
    "        li.append(idx_dict[X][idx-1])\n",
    "        print(idx_dict[X][idx-1])"
   ]
  },
  {
   "cell_type": "code",
   "execution_count": null,
   "id": "4e0aa274",
   "metadata": {},
   "outputs": [],
   "source": []
  },
  {
   "cell_type": "code",
   "execution_count": null,
   "id": "ddebc617",
   "metadata": {},
   "outputs": [],
   "source": []
  },
  {
   "cell_type": "code",
   "execution_count": null,
   "id": "773df7f3",
   "metadata": {},
   "outputs": [],
   "source": []
  },
  {
   "cell_type": "code",
   "execution_count": null,
   "id": "e6eea5cf",
   "metadata": {},
   "outputs": [],
   "source": []
  },
  {
   "cell_type": "code",
   "execution_count": null,
   "id": "37562ecb",
   "metadata": {},
   "outputs": [],
   "source": []
  },
  {
   "cell_type": "code",
   "execution_count": null,
   "id": "cbc2a75b",
   "metadata": {},
   "outputs": [],
   "source": [
    "def upper_index(arr, l, n, x):\n",
    "    r = n - 1\n",
    "    \n",
    "    while l <= r:\n",
    "        mid = int((r + l) / 2)\n",
    "        \n",
    "        if arr[mid] <= x:\n",
    "            l = mid + 1\n",
    "        else:\n",
    "            r = mid - 1\n",
    "    return r"
   ]
  },
  {
   "cell_type": "code",
   "execution_count": 2,
   "id": "f4141289",
   "metadata": {},
   "outputs": [],
   "source": [
    "# Sample 1.\n",
    "teamK = [1, 4, 2, 4]\n",
    "teamB = [3, 5]\n",
    "# 결과 ==> 2, 4"
   ]
  },
  {
   "cell_type": "code",
   "execution_count": 6,
   "id": "8e746f69",
   "metadata": {},
   "outputs": [],
   "source": [
    "# Sample 2.\n",
    "teamK = [2, 10, 5, 4, 8]\n",
    "teamB = [3, 1, 7, 8]\n",
    "# 결과 ==> 1, 0, 3, 4"
   ]
  },
  {
   "cell_type": "code",
   "execution_count": 7,
   "id": "62c12cac",
   "metadata": {},
   "outputs": [
    {
     "name": "stdout",
     "output_type": "stream",
     "text": [
      "[1, 0, 3, 4]\n"
     ]
    }
   ],
   "source": [
    "teamK.sort()\n",
    "\n",
    "i = 0\n",
    "j = 0\n",
    "arr = [0 for i in range(len(teamB))]\n",
    "\n",
    "while i < len(teamB):\n",
    "    j = upper_index(teamK, 0, len(teamK), teamB[i])\n",
    "\n",
    "    if j < 0:\n",
    "        arr[i] = 0\n",
    "    else:\n",
    "        arr[i] = 1 + j\n",
    "    \n",
    "    i += 1\n",
    "\n",
    "print(arr)\n"
   ]
  },
  {
   "cell_type": "code",
   "execution_count": null,
   "id": "71c4f4bf",
   "metadata": {},
   "outputs": [],
   "source": []
  },
  {
   "cell_type": "code",
   "execution_count": null,
   "id": "141394b9",
   "metadata": {},
   "outputs": [],
   "source": []
  },
  {
   "cell_type": "code",
   "execution_count": null,
   "id": "7628d04c",
   "metadata": {},
   "outputs": [],
   "source": []
  },
  {
   "cell_type": "code",
   "execution_count": null,
   "id": "8e91b7a4",
   "metadata": {},
   "outputs": [],
   "source": []
  }
 ],
 "metadata": {
  "kernelspec": {
   "display_name": "hackerrank",
   "language": "python",
   "name": "hackerrank"
  },
  "language_info": {
   "codemirror_mode": {
    "name": "ipython",
    "version": 3
   },
   "file_extension": ".py",
   "mimetype": "text/x-python",
   "name": "python",
   "nbconvert_exporter": "python",
   "pygments_lexer": "ipython3",
   "version": "3.9.12"
  }
 },
 "nbformat": 4,
 "nbformat_minor": 5
}
