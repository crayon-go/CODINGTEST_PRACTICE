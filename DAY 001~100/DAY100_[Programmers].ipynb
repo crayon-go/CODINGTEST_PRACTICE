{
 "cells": [
  {
   "cell_type": "code",
   "execution_count": 1,
   "id": "db05ebbe",
   "metadata": {},
   "outputs": [],
   "source": [
    "a = 7\n",
    "b = 20\n",
    "# 1"
   ]
  },
  {
   "cell_type": "code",
   "execution_count": 3,
   "id": "815fed64",
   "metadata": {},
   "outputs": [],
   "source": [
    "a = 11\n",
    "b = 22\n",
    "# 1"
   ]
  },
  {
   "cell_type": "code",
   "execution_count": 16,
   "id": "876ab26e",
   "metadata": {},
   "outputs": [],
   "source": [
    "a = 12\n",
    "b = 21\n",
    "# 2"
   ]
  },
  {
   "cell_type": "code",
   "execution_count": 6,
   "id": "3685843c",
   "metadata": {},
   "outputs": [
    {
     "data": {
      "text/plain": [
       "0.5714285714285714"
      ]
     },
     "execution_count": 6,
     "metadata": {},
     "output_type": "execute_result"
    }
   ],
   "source": [
    "a/b"
   ]
  },
  {
   "cell_type": "code",
   "execution_count": 12,
   "id": "79b23aef",
   "metadata": {},
   "outputs": [],
   "source": [
    "from collections import Counter\n",
    "\n",
    "def get_divisor(num:int) -> list:\n",
    "    d = 2\n",
    "    _res = list()\n",
    "    while d <= num:\n",
    "        if num % d == 0:\n",
    "            _res.append(d)\n",
    "            num /= d\n",
    "        else:\n",
    "            d += 1\n",
    "    return _res\n",
    "\n",
    "def solution(a, b):\n",
    "\n",
    "    a_cnt = Counter(get_divisor(a)); b_cnt = Counter(get_divisor(b))\n",
    "    _remain = (b_cnt - a_cnt).keys()\n",
    "    print(_remain, len(_remain))\n",
    "    return 1 if len(_remain) == 0 or [i for i in _remain if i == 2 or i == 5] else 2"
   ]
  },
  {
   "cell_type": "code",
   "execution_count": 14,
   "id": "90a48b4f",
   "metadata": {},
   "outputs": [
    {
     "name": "stdout",
     "output_type": "stream",
     "text": [
      "dict_keys([7]) 1\n"
     ]
    },
    {
     "data": {
      "text/plain": [
       "2"
      ]
     },
     "execution_count": 14,
     "metadata": {},
     "output_type": "execute_result"
    }
   ],
   "source": [
    "solution(12, 21)"
   ]
  },
  {
   "cell_type": "code",
   "execution_count": null,
   "id": "c35f3a2c",
   "metadata": {},
   "outputs": [],
   "source": []
  },
  {
   "cell_type": "code",
   "execution_count": 15,
   "id": "48ed35d9",
   "metadata": {},
   "outputs": [],
   "source": [
    "from collections import defaultdict\n",
    "\n",
    "def make_primes(n:int)->list:\n",
    "    primes = [True] * (n + 1)\n",
    "    primes[0:2] = [False, False]\n",
    "    for num in range(2, int(n * 0.5) + 1):\n",
    "        if primes[num]:\n",
    "            for i in range(num ** 2, n + 1, num):\n",
    "                primes[i] = False\n",
    "    return primes\n",
    "\n",
    "def make_prime_factorization(n):\n",
    "    primes = make_primes(n)\n",
    "    prime_numbers = [x for x in range(2, n + 1) if primes[x]]\n",
    "    result = defaultdict(int)\n",
    "    for number in prime_numbers:\n",
    "        while n % number == 0 and n > 1:\n",
    "            result[number] += 1\n",
    "            n //= number\n",
    "        if n == 1:\n",
    "            break\n",
    "    return result\n",
    "\n",
    "def solution(a, b):\n",
    "    numerator = make_prime_factorization(a)\n",
    "    denominator = make_prime_factorization(b)\n",
    "\n",
    "    # 분모 약분\n",
    "    for key, value in numerator.items():\n",
    "        if key in denominator:\n",
    "            denominator[key] = max(0, denominator[key] - value)\n",
    "\n",
    "    # 유한 소수 판별\n",
    "    for key, value in denominator.items():\n",
    "        if key == 2 or key == 5:\n",
    "            continue\n",
    "        if value > 0:\n",
    "            return 2\n",
    "    return 1"
   ]
  },
  {
   "cell_type": "code",
   "execution_count": 17,
   "id": "20a54aaf",
   "metadata": {},
   "outputs": [
    {
     "data": {
      "text/plain": [
       "2"
      ]
     },
     "execution_count": 17,
     "metadata": {},
     "output_type": "execute_result"
    }
   ],
   "source": [
    "solution(a, b)"
   ]
  },
  {
   "cell_type": "code",
   "execution_count": null,
   "id": "4f25a792",
   "metadata": {},
   "outputs": [],
   "source": []
  },
  {
   "cell_type": "code",
   "execution_count": 18,
   "id": "c084b302",
   "metadata": {},
   "outputs": [],
   "source": [
    "from math import gcd\n",
    "def solution(a, b):\n",
    "    b //= gcd(a,b)\n",
    "    while b%2==0:\n",
    "        b//=2\n",
    "    while b%5==0:\n",
    "        b//=5\n",
    "    return 1 if b==1 else 2"
   ]
  },
  {
   "cell_type": "code",
   "execution_count": 19,
   "id": "d2ffb749",
   "metadata": {},
   "outputs": [
    {
     "data": {
      "text/plain": [
       "2"
      ]
     },
     "execution_count": 19,
     "metadata": {},
     "output_type": "execute_result"
    }
   ],
   "source": [
    "solution(a, b)"
   ]
  },
  {
   "cell_type": "code",
   "execution_count": null,
   "id": "172fdf54",
   "metadata": {},
   "outputs": [],
   "source": []
  },
  {
   "cell_type": "code",
   "execution_count": null,
   "id": "0a72f81c",
   "metadata": {},
   "outputs": [],
   "source": []
  },
  {
   "cell_type": "code",
   "execution_count": null,
   "id": "79fced47",
   "metadata": {},
   "outputs": [],
   "source": []
  }
 ],
 "metadata": {
  "kernelspec": {
   "display_name": "hackerrank",
   "language": "python",
   "name": "hackerrank"
  },
  "language_info": {
   "codemirror_mode": {
    "name": "ipython",
    "version": 3
   },
   "file_extension": ".py",
   "mimetype": "text/x-python",
   "name": "python",
   "nbconvert_exporter": "python",
   "pygments_lexer": "ipython3",
   "version": "3.9.12"
  }
 },
 "nbformat": 4,
 "nbformat_minor": 5
}
