{
 "cells": [
  {
   "cell_type": "code",
   "execution_count": 104,
   "id": "56530de3",
   "metadata": {},
   "outputs": [],
   "source": [
    "# numbers = \"onetwothreefourfivesixseveneightnine\"  # 123456789\n",
    "numbers = \"onefourzerosixseven\"  # 14067"
   ]
  },
  {
   "cell_type": "code",
   "execution_count": 105,
   "id": "c6032303",
   "metadata": {},
   "outputs": [],
   "source": [
    "num_dict = {\"zero\": 0,\n",
    "            \"one\": 1,\n",
    "            \"two\": 2,\n",
    "            \"three\": 3,\n",
    "            \"four\": 4,\n",
    "            \"five\": 5,\n",
    "            \"six\": 6,\n",
    "            \"seven\": 7,\n",
    "            \"eight\": 8,\n",
    "            \"nine\": 9} "
   ]
  },
  {
   "cell_type": "code",
   "execution_count": 126,
   "id": "edf663c1",
   "metadata": {},
   "outputs": [],
   "source": [
    "answer = 0\n",
    "tmp = ''\n",
    "tmp_answer = ''\n",
    "\n",
    "for i in numbers:\n",
    "    tmp += i\n",
    "    try:\n",
    "        if str(num_dict[tmp]).isnumeric():\n",
    "            tmp_answer += str(num_dict[tmp])\n",
    "            tmp = ''\n",
    "    except:\n",
    "        pass"
   ]
  },
  {
   "cell_type": "code",
   "execution_count": 127,
   "id": "c271f539",
   "metadata": {},
   "outputs": [
    {
     "data": {
      "text/plain": [
       "'14067'"
      ]
     },
     "execution_count": 127,
     "metadata": {},
     "output_type": "execute_result"
    }
   ],
   "source": [
    "tmp_answer"
   ]
  },
  {
   "cell_type": "code",
   "execution_count": null,
   "id": "666b668b",
   "metadata": {},
   "outputs": [],
   "source": []
  },
  {
   "cell_type": "code",
   "execution_count": 132,
   "id": "4ca29c7f",
   "metadata": {},
   "outputs": [
    {
     "name": "stdout",
     "output_type": "stream",
     "text": [
      "0 zero\n",
      "1 one\n",
      "2 two\n",
      "3 three\n",
      "4 four\n",
      "5 five\n",
      "6 six\n",
      "7 seven\n",
      "8 eight\n",
      "9 nine\n"
     ]
    }
   ],
   "source": [
    "for num, eng in enumerate([\"zero\", \"one\", \"two\", \"three\", \"four\", \"five\", \"six\", \"seven\", \"eight\", \"nine\"]):\n",
    "    print(num, eng)\n",
    "#     numbers = numbers.replace(eng, str(num))"
   ]
  },
  {
   "cell_type": "code",
   "execution_count": 131,
   "id": "1a26b474",
   "metadata": {},
   "outputs": [
    {
     "data": {
      "text/plain": [
       "'14067'"
      ]
     },
     "execution_count": 131,
     "metadata": {},
     "output_type": "execute_result"
    }
   ],
   "source": [
    "numbers"
   ]
  },
  {
   "cell_type": "code",
   "execution_count": null,
   "id": "f3ac1150",
   "metadata": {},
   "outputs": [],
   "source": []
  },
  {
   "cell_type": "code",
   "execution_count": null,
   "id": "ad061082",
   "metadata": {},
   "outputs": [],
   "source": []
  },
  {
   "cell_type": "code",
   "execution_count": null,
   "id": "8fb56675",
   "metadata": {},
   "outputs": [],
   "source": []
  },
  {
   "cell_type": "code",
   "execution_count": null,
   "id": "1e5a6a8b",
   "metadata": {},
   "outputs": [],
   "source": []
  },
  {
   "cell_type": "code",
   "execution_count": null,
   "id": "60ecf6dc",
   "metadata": {},
   "outputs": [],
   "source": []
  },
  {
   "cell_type": "code",
   "execution_count": null,
   "id": "d281529e",
   "metadata": {},
   "outputs": [],
   "source": []
  },
  {
   "cell_type": "code",
   "execution_count": null,
   "id": "bc06579a",
   "metadata": {},
   "outputs": [],
   "source": []
  }
 ],
 "metadata": {
  "kernelspec": {
   "display_name": "hackerrank",
   "language": "python",
   "name": "hackerrank"
  },
  "language_info": {
   "codemirror_mode": {
    "name": "ipython",
    "version": 3
   },
   "file_extension": ".py",
   "mimetype": "text/x-python",
   "name": "python",
   "nbconvert_exporter": "python",
   "pygments_lexer": "ipython3",
   "version": "3.9.12"
  }
 },
 "nbformat": 4,
 "nbformat_minor": 5
}
