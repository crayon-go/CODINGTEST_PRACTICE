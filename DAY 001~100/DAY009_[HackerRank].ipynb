{
 "cells": [
  {
   "cell_type": "code",
   "execution_count": 12,
   "id": "b2fe2cad",
   "metadata": {},
   "outputs": [],
   "source": [
    "#!/bin/python3\n",
    "\n",
    "import math\n",
    "import os\n",
    "import random\n",
    "import re\n",
    "import sys\n",
    "from itertools import permutations\n",
    "\n",
    "# Example 1\n",
    "n = 4\n",
    "arr = [-6, 3, 4, -10]\n",
    "# ==> [3, 4, -6, -10]\n",
    "# ==> psum = [3, 7, 1, -9] with 3 positive elements\n",
    "\n",
    "# Example 2\n",
    "n = 4\n",
    "arr = [-3, 0, 2, 1]\n",
    "# ==> [2, 0, 1, -3]\n",
    "# ==> psum = [2, 2, 3, 0] with 3 positive elements\n",
    "\n",
    "# Example 3\n",
    "n = 3\n",
    "arr = [-3, 0, -2]\n",
    "# ==> [0, -2, -3]\n",
    "# ==> psum = [0, -2, -5] with 0 positive elements\n",
    "\n",
    "re_arr = []\n",
    "re_arr = list(permutations(arr, n))\n",
    "re_arr\n",
    "\n",
    "psum = []\n",
    "\n",
    "for li in re_arr:\n",
    "    positive_num = 0\n",
    "#     print(li)\n",
    "    for idx, i in enumerate(li):\n",
    "        if idx == 0:    # 처음 한번만\n",
    "            pre_n = i\n",
    "#             print(pre_n)\n",
    "            if i > 0:\n",
    "                positive_num += 1\n",
    "            continue\n",
    "        if pre_n + i > 0:    # 두번째부터\n",
    "            positive_num += 1\n",
    "        pre_n += i\n",
    "#         print(pre_n)\n",
    "    psum.append(positive_num)\n",
    "#     print(\"result:{}\".format(positive_num))\n",
    "\n",
    "#    break\n",
    "print(max(psum))"
   ]
  }
 ],
 "metadata": {
  "kernelspec": {
   "display_name": "hackerrank",
   "language": "python",
   "name": "hackerrank"
  },
  "language_info": {
   "codemirror_mode": {
    "name": "ipython",
    "version": 3
   },
   "file_extension": ".py",
   "mimetype": "text/x-python",
   "name": "python",
   "nbconvert_exporter": "python",
   "pygments_lexer": "ipython3",
   "version": "3.9.12"
  }
 },
 "nbformat": 4,
 "nbformat_minor": 5
}
