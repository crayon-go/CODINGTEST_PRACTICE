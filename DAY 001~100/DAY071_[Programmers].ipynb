{
 "cells": [
  {
   "cell_type": "code",
   "execution_count": 9,
   "id": "ae146cd6",
   "metadata": {},
   "outputs": [],
   "source": [
    "n = 1234"
   ]
  },
  {
   "cell_type": "code",
   "execution_count": 11,
   "id": "67138845",
   "metadata": {},
   "outputs": [],
   "source": [
    "n_sum = 0\n",
    "for i in str(n):\n",
    "    n_sum += int(i)"
   ]
  },
  {
   "cell_type": "code",
   "execution_count": 16,
   "id": "9387d018",
   "metadata": {},
   "outputs": [
    {
     "data": {
      "text/plain": [
       "10"
      ]
     },
     "execution_count": 16,
     "metadata": {},
     "output_type": "execute_result"
    }
   ],
   "source": [
    "sum(list(map(int, str(n))))"
   ]
  },
  {
   "cell_type": "code",
   "execution_count": null,
   "id": "1e092740",
   "metadata": {},
   "outputs": [],
   "source": []
  },
  {
   "cell_type": "code",
   "execution_count": 25,
   "id": "f2d6d903",
   "metadata": {},
   "outputs": [],
   "source": [
    "money = 5500"
   ]
  },
  {
   "cell_type": "code",
   "execution_count": 27,
   "id": "470c302f",
   "metadata": {},
   "outputs": [],
   "source": [
    "a, b = divmod(money, 5500)"
   ]
  },
  {
   "cell_type": "code",
   "execution_count": 31,
   "id": "bde92f2a",
   "metadata": {},
   "outputs": [
    {
     "data": {
      "text/plain": [
       "1"
      ]
     },
     "execution_count": 31,
     "metadata": {},
     "output_type": "execute_result"
    }
   ],
   "source": [
    "money // 5500"
   ]
  },
  {
   "cell_type": "code",
   "execution_count": 32,
   "id": "f46bd6b0",
   "metadata": {},
   "outputs": [
    {
     "data": {
      "text/plain": [
       "0"
      ]
     },
     "execution_count": 32,
     "metadata": {},
     "output_type": "execute_result"
    }
   ],
   "source": [
    "money % 5500"
   ]
  },
  {
   "cell_type": "code",
   "execution_count": null,
   "id": "d4200b59",
   "metadata": {},
   "outputs": [],
   "source": []
  },
  {
   "cell_type": "code",
   "execution_count": 33,
   "id": "8df85855",
   "metadata": {},
   "outputs": [],
   "source": [
    "s1 = [\"a\", \"b\", \"c\"]\n",
    "s2 = [\"com\", \"b\", \"d\", \"p\", \"c\"]"
   ]
  },
  {
   "cell_type": "code",
   "execution_count": 34,
   "id": "a3fa4db4",
   "metadata": {},
   "outputs": [],
   "source": [
    "answer = 0\n",
    "for i in s1:\n",
    "    if i in s2:\n",
    "        answer += 1"
   ]
  },
  {
   "cell_type": "code",
   "execution_count": 42,
   "id": "50a8f651",
   "metadata": {},
   "outputs": [
    {
     "data": {
      "text/plain": [
       "{'a', 'b', 'c'}"
      ]
     },
     "execution_count": 42,
     "metadata": {},
     "output_type": "execute_result"
    }
   ],
   "source": [
    "set(s1)"
   ]
  },
  {
   "cell_type": "code",
   "execution_count": 43,
   "id": "84431df2",
   "metadata": {},
   "outputs": [
    {
     "data": {
      "text/plain": [
       "{'b', 'c', 'com', 'd', 'p'}"
      ]
     },
     "execution_count": 43,
     "metadata": {},
     "output_type": "execute_result"
    }
   ],
   "source": [
    "set(s2)"
   ]
  },
  {
   "cell_type": "code",
   "execution_count": 47,
   "id": "a5edbbdb",
   "metadata": {},
   "outputs": [
    {
     "data": {
      "text/plain": [
       "2"
      ]
     },
     "execution_count": 47,
     "metadata": {},
     "output_type": "execute_result"
    }
   ],
   "source": [
    "len(set(s1) & set(s2))"
   ]
  },
  {
   "cell_type": "code",
   "execution_count": null,
   "id": "cc51d7c3",
   "metadata": {},
   "outputs": [],
   "source": []
  },
  {
   "cell_type": "code",
   "execution_count": 52,
   "id": "1c523420",
   "metadata": {},
   "outputs": [],
   "source": [
    "numbers = [1, 3, 5]\n",
    "num1 = 1\n",
    "num2 = 2"
   ]
  },
  {
   "cell_type": "code",
   "execution_count": 53,
   "id": "bb08662e",
   "metadata": {},
   "outputs": [
    {
     "data": {
      "text/plain": [
       "[3]"
      ]
     },
     "execution_count": 53,
     "metadata": {},
     "output_type": "execute_result"
    }
   ],
   "source": [
    "numbers[num1:num2+1]"
   ]
  },
  {
   "cell_type": "code",
   "execution_count": null,
   "id": "3545bcb4",
   "metadata": {},
   "outputs": [],
   "source": []
  },
  {
   "cell_type": "code",
   "execution_count": 71,
   "id": "467ea9d8",
   "metadata": {},
   "outputs": [],
   "source": [
    "str1 = \"ab6CDE443fgh22iJKlmn1o\"\n",
    "str2 = \"6CD\""
   ]
  },
  {
   "cell_type": "code",
   "execution_count": 72,
   "id": "6853a55c",
   "metadata": {},
   "outputs": [
    {
     "name": "stdout",
     "output_type": "stream",
     "text": [
      "1\n"
     ]
    }
   ],
   "source": [
    "print(1) if str2 in str1 else print(2)"
   ]
  },
  {
   "cell_type": "code",
   "execution_count": 73,
   "id": "c6921934",
   "metadata": {},
   "outputs": [],
   "source": [
    "answer = 1 if str2 in str1 else 2"
   ]
  },
  {
   "cell_type": "code",
   "execution_count": 74,
   "id": "49717e27",
   "metadata": {},
   "outputs": [
    {
     "data": {
      "text/plain": [
       "1"
      ]
     },
     "execution_count": 74,
     "metadata": {},
     "output_type": "execute_result"
    }
   ],
   "source": [
    "str1.count(str2)"
   ]
  },
  {
   "cell_type": "code",
   "execution_count": 2,
   "id": "0cd266a8",
   "metadata": {},
   "outputs": [],
   "source": [
    "numbers = [1, 2, 3, 4, 5]"
   ]
  },
  {
   "cell_type": "code",
   "execution_count": 3,
   "id": "d468153b",
   "metadata": {},
   "outputs": [
    {
     "data": {
      "text/plain": [
       "[1, 2, 3, 4, 5]"
      ]
     },
     "execution_count": 3,
     "metadata": {},
     "output_type": "execute_result"
    }
   ],
   "source": [
    "numbers.sort()\n",
    "numbers[-1] * numbers[-2]"
   ]
  },
  {
   "cell_type": "code",
   "execution_count": 7,
   "id": "cc605616",
   "metadata": {},
   "outputs": [],
   "source": [
    "numbers = [1, 2, 3, 4, 5]"
   ]
  },
  {
   "cell_type": "code",
   "execution_count": 8,
   "id": "e889a70d",
   "metadata": {},
   "outputs": [],
   "source": [
    "numbers.sort(reverse=True)"
   ]
  },
  {
   "cell_type": "code",
   "execution_count": 11,
   "id": "7c97ab72",
   "metadata": {},
   "outputs": [
    {
     "data": {
      "text/plain": [
       "20"
      ]
     },
     "execution_count": 11,
     "metadata": {},
     "output_type": "execute_result"
    }
   ],
   "source": [
    "numbers[0] * numbers[1]"
   ]
  },
  {
   "cell_type": "code",
   "execution_count": null,
   "id": "0f8e91ce",
   "metadata": {},
   "outputs": [],
   "source": []
  },
  {
   "cell_type": "code",
   "execution_count": 37,
   "id": "5b4b7d23",
   "metadata": {},
   "outputs": [],
   "source": [
    "price = 150000\n",
    "# price = 580000"
   ]
  },
  {
   "cell_type": "code",
   "execution_count": null,
   "id": "f159e7d1",
   "metadata": {},
   "outputs": [],
   "source": [
    "10만 원 이상 사면 5%\n",
    "30만 원 이상 사면 10%\n",
    "50만 원 이상 사면 20%"
   ]
  },
  {
   "cell_type": "code",
   "execution_count": 38,
   "id": "4f54b8e5",
   "metadata": {},
   "outputs": [
    {
     "data": {
      "text/plain": [
       "142500"
      ]
     },
     "execution_count": 38,
     "metadata": {},
     "output_type": "execute_result"
    }
   ],
   "source": [
    "answer = 0\n",
    "if price >= 500000:\n",
    "    answer = price * 0.8\n",
    "elif price >= 300000:\n",
    "    answer = price * 0.9\n",
    "elif price >= 100000:\n",
    "    answer = price * 0.95\n",
    "else:\n",
    "    answer = price\n",
    "answer = int(answer)\n",
    "answer"
   ]
  },
  {
   "cell_type": "code",
   "execution_count": null,
   "id": "a89f956f",
   "metadata": {},
   "outputs": [],
   "source": []
  },
  {
   "cell_type": "code",
   "execution_count": 48,
   "id": "a78e4ac7",
   "metadata": {},
   "outputs": [],
   "source": [
    "my_string = \"aAb1B2cC34oOp\""
   ]
  },
  {
   "cell_type": "code",
   "execution_count": 38,
   "id": "ed866c22",
   "metadata": {},
   "outputs": [
    {
     "data": {
      "text/plain": [
       "10"
      ]
     },
     "execution_count": 38,
     "metadata": {},
     "output_type": "execute_result"
    }
   ],
   "source": [
    "answer = 0\n",
    "for i in list(my_string):\n",
    "    try:\n",
    "        if isinstance(int(i), int):\n",
    "            answer += int(i)\n",
    "    except:\n",
    "        pass\n",
    "answer"
   ]
  },
  {
   "cell_type": "code",
   "execution_count": 54,
   "id": "3aa79c7b",
   "metadata": {},
   "outputs": [
    {
     "data": {
      "text/plain": [
       "10"
      ]
     },
     "execution_count": 54,
     "metadata": {},
     "output_type": "execute_result"
    }
   ],
   "source": [
    "sum(int(i) for i in my_string if i.isdigit())"
   ]
  },
  {
   "cell_type": "code",
   "execution_count": null,
   "id": "75a55f39",
   "metadata": {},
   "outputs": [],
   "source": []
  },
  {
   "cell_type": "code",
   "execution_count": 63,
   "id": "55f7211b",
   "metadata": {},
   "outputs": [],
   "source": [
    "num_list = [1, 2, 3, 4, 5]"
   ]
  },
  {
   "cell_type": "code",
   "execution_count": 66,
   "id": "f39a1424",
   "metadata": {},
   "outputs": [
    {
     "name": "stdout",
     "output_type": "stream",
     "text": [
      "1\n",
      "2\n",
      "3\n",
      "4\n",
      "5\n"
     ]
    },
    {
     "data": {
      "text/plain": [
       "[2, 3]"
      ]
     },
     "execution_count": 66,
     "metadata": {},
     "output_type": "execute_result"
    }
   ],
   "source": [
    "a = 0\n",
    "b = 0\n",
    "for i in num_list:\n",
    "    print(i)\n",
    "    if (i / 2).is_integer():\n",
    "        a += 1\n",
    "    else:\n",
    "        b += 1\n",
    "[a, b]"
   ]
  },
  {
   "cell_type": "code",
   "execution_count": null,
   "id": "24c492d0",
   "metadata": {},
   "outputs": [],
   "source": []
  },
  {
   "cell_type": "code",
   "execution_count": null,
   "id": "4f6cdb02",
   "metadata": {},
   "outputs": [],
   "source": []
  },
  {
   "cell_type": "code",
   "execution_count": null,
   "id": "fd35297b",
   "metadata": {},
   "outputs": [],
   "source": []
  },
  {
   "cell_type": "code",
   "execution_count": null,
   "id": "1f46d956",
   "metadata": {},
   "outputs": [],
   "source": []
  },
  {
   "cell_type": "code",
   "execution_count": null,
   "id": "d57212bf",
   "metadata": {},
   "outputs": [],
   "source": []
  },
  {
   "cell_type": "code",
   "execution_count": null,
   "id": "8276a5db",
   "metadata": {},
   "outputs": [],
   "source": []
  },
  {
   "cell_type": "code",
   "execution_count": null,
   "id": "0ba06273",
   "metadata": {},
   "outputs": [],
   "source": []
  }
 ],
 "metadata": {
  "kernelspec": {
   "display_name": "hackerrank",
   "language": "python",
   "name": "hackerrank"
  },
  "language_info": {
   "codemirror_mode": {
    "name": "ipython",
    "version": 3
   },
   "file_extension": ".py",
   "mimetype": "text/x-python",
   "name": "python",
   "nbconvert_exporter": "python",
   "pygments_lexer": "ipython3",
   "version": "3.9.12"
  }
 },
 "nbformat": 4,
 "nbformat_minor": 5
}
